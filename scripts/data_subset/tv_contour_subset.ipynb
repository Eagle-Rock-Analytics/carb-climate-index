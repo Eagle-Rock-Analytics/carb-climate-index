{
 "cells": [
  {
   "cell_type": "code",
   "execution_count": 1,
   "metadata": {},
   "outputs": [],
   "source": [
    "import geopandas as gpd\n",
    "from geopandas.tools import overlay\n",
    "import os\n",
    "import matplotlib.pyplot as plt\n",
    "import boto3\n",
    "import zipfile\n",
    "import sys\n",
    "import xarray as xr\n",
    "import pandas as pd\n",
    "from zipfile import ZipFile\n",
    "\n"
   ]
  },
  {
   "cell_type": "code",
   "execution_count": 2,
   "metadata": {},
   "outputs": [],
   "source": [
    "import os\n",
    "import shutil\n",
    "import boto3\n",
    "from zipfile import ZipFile\n",
    "import geopandas as gpd\n",
    "\n",
    "# Initialize the S3 client\n",
    "s3_client = boto3.client('s3')\n",
    "\n",
    "# Bucket name and file paths\n",
    "bucket_name = 'ca-climate-index'\n",
    "directory = '1_pull_data/built_environment/communication_infrastructure/homeland_infrastructure_foundation_level_data/TV_Broadcast_Contours.zip'\n",
    "out_directory = '2a_subset/built_environment/communication_infrastructure/homeland_infrastructure_foundation_level_data/'\n",
    "\n",
    "# Local directory to store the downloaded zip file and extracted contents\n",
    "local_directory = 'temp'\n",
    "if not os.path.exists(local_directory):\n",
    "    os.makedirs(local_directory)\n",
    "\n",
    "# Download the zip file\n",
    "local_zip_file_path = os.path.join(local_directory, os.path.basename(directory))\n",
    "s3_client.download_file(bucket_name, directory, local_zip_file_path)\n",
    "\n",
    "# Extract the contents of the zip file\n",
    "with ZipFile(local_zip_file_path, 'r') as zip_ref:\n",
    "    zip_ref.extractall(local_directory)\n",
    "\n",
    "# Manipulate the shapefile within the extracted contents\n",
    "# Assuming there's only one shapefile in the zip file\n",
    "shapefile_path = None\n",
    "for filename in os.listdir(local_directory):\n",
    "    if filename.endswith('.shp'):\n",
    "        shapefile_path = os.path.join(local_directory, filename)\n",
    "        # Perform your manipulation with the shapefile using geopandas or other libraries\n",
    "        # For example, you can read it using geopandas\n",
    "        gdf = gpd.read_file(shapefile_path)\n",
    "        sta_gdf = gdf[gdf['STATUS'] == 'STA']\n",
    "        \n",
    "        # Create a directory to store the shapefile and its associated files\n",
    "        output_folder = os.path.join(local_directory, 'output_shapefile')\n",
    "        os.makedirs(output_folder, exist_ok=True)\n",
    "        \n",
    "        # Save the filtered shapefile inside the output folder\n",
    "        output_shapefile_path = os.path.join(output_folder, 'sta_tv_contours.shp')\n",
    "        sta_gdf.to_file(output_shapefile_path)\n",
    "        \n",
    "        # Zip the output folder\n",
    "        output_zip_file_path = os.path.join(local_directory, 'sta_tv_contours.zip')\n",
    "        shutil.make_archive(output_zip_file_path[:-4], 'zip', output_folder)\n",
    "        \n",
    "        # Upload the zipped folder to AWS S3\n",
    "        s3_client.upload_file(output_zip_file_path, bucket_name, os.path.join(out_directory, 'sta_tv_contours.zip'))\n",
    "\n",
    "# Clean up temporary files\n",
    "os.remove(local_zip_file_path)  # Remove the downloaded zip file\n",
    "shutil.rmtree(local_directory)  # Remove the extracted files except the new shapefile\n"
   ]
  },
  {
   "cell_type": "code",
   "execution_count": 5,
   "metadata": {},
   "outputs": [
    {
     "data": {
      "text/plain": [
       "13       STA\n",
       "14       STA\n",
       "15       STA\n",
       "218      STA\n",
       "298      STA\n",
       "        ... \n",
       "33328    STA\n",
       "33373    STA\n",
       "33405    STA\n",
       "33451    STA\n",
       "33531    STA\n",
       "Name: STATUS, Length: 2282, dtype: object"
      ]
     },
     "metadata": {},
     "output_type": "display_data"
    }
   ],
   "source": [
    "display(sta_gdf.STATUS)"
   ]
  }
 ],
 "metadata": {
  "kernelspec": {
   "display_name": "carb",
   "language": "python",
   "name": "python3"
  },
  "language_info": {
   "codemirror_mode": {
    "name": "ipython",
    "version": 3
   },
   "file_extension": ".py",
   "mimetype": "text/x-python",
   "name": "python",
   "nbconvert_exporter": "python",
   "pygments_lexer": "ipython3",
   "version": "3.9.18"
  }
 },
 "nbformat": 4,
 "nbformat_minor": 2
}
