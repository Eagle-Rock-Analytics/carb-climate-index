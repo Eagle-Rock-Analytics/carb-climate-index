{
 "cells": [
  {
   "cell_type": "code",
   "execution_count": 1,
   "metadata": {},
   "outputs": [],
   "source": [
    "import csv\n",
    "import boto3\n",
    "import os\n",
    "import sys\n",
    "\n",
    "sys.path.append(os.path.expanduser('../../'))\n",
    "from scripts.utils.file_helpers import upload_csv_aws\n",
    "from scripts.utils.write_metadata import append_metadata"
   ]
  },
  {
   "cell_type": "code",
   "execution_count": 3,
   "metadata": {},
   "outputs": [],
   "source": [
    "@append_metadata\n",
    "def subset_to_CA(input_file_name, output_file_name, directory, export=False, varname=''):\n",
    "    '''\n",
    "    Subsets .csv files that contain 'state' header to California data, then uploads to AWS subset bucket\n",
    "    \n",
    "    Note:\n",
    "    This function assumes users have configured the AWS CLI such that their access key / secret key pair are stored in ~/.aws/credentials.\n",
    "    See https://docs.aws.amazon.com/cli/latest/userguide/getting-started-install.html for guidance.\n",
    "    \n",
    "    Parameters\n",
    "    ----------\n",
    "    input_file_name: string\n",
    "        Name of origional .csv file    \n",
    "    output_file_name: string\n",
    "        Final output as a .csv file   \n",
    "    directory: string\n",
    "        Directory path for output to upload to in AWS\n",
    "    export: bool\n",
    "        If True, runs code and uploads output file to S3\n",
    "        If False, just generates metadata\n",
    "\n",
    "    Script\n",
    "    ------\n",
    "    csv_california_subset.ipynb\n",
    "    '''\n",
    "    \n",
    "    ## set-up for AWS  \n",
    "    s3_client = boto3.client('s3')  \n",
    "    bucket_name = 'ca-climate-index'  \n",
    "    \n",
    "    # run code if export is true, if false, nothing happens (useful when appending metadata)\n",
    "    if export == True: \n",
    "        with open(input_file_name, 'r', newline='') as input_file:\n",
    "            # Create a CSV reader\n",
    "            csv_reader = csv.DictReader(input_file)\n",
    "\n",
    "            # Extract the header from the reader\n",
    "            header = csv_reader.fieldnames\n",
    "\n",
    "            # Create a list to store filtered rows\n",
    "            filtered_rows = [row for row in csv_reader if row.get('state') == 'CA' or \n",
    "                row.get('state') == 'California' or row.get('STATE') == 'CA' or\n",
    "                row.get('St Name') == 'California' or row.get('State') == 'California'\n",
    "                or row.get('QNSD12_1') == 'California']\n",
    "        \n",
    "        # Open the output CSV file for writing\n",
    "        with open(output_file_name, 'w', newline='') as output_file:\n",
    "            # Create a CSV writer\n",
    "            csv_writer = csv.DictWriter(output_file, fieldnames=header, delimiter = ',')\n",
    "\n",
    "            # Write the header to the output file\n",
    "            csv_writer.writeheader()\n",
    "\n",
    "            # Write the filtered rows to the output file\n",
    "            csv_writer.writerows(filtered_rows)\n",
    "\n",
    "        # Save the file to AWS S3 using the client\n",
    "            with open(output_file_name, 'rb') as data:\n",
    "                s3_client.upload_fileobj(data, bucket_name, f\"{directory}/{output_file_name}\")\n",
    "            print(f\"Merged and sorted files written to {output_file_name}\")\n",
    "    if export == False:\n",
    "        print(f'{output_file_name} uploaded to AWS.')\n"
   ]
  },
  {
   "cell_type": "markdown",
   "metadata": {},
   "source": [
    "# Metadata call for all metrics that use this function to subset to California\n",
    "* setting export to False omits all of the function code, so the first three variables can be anything\n",
    "* this allows us to focus on just uploading the functions metadata to the necessary metrics"
   ]
  },
  {
   "cell_type": "code",
   "execution_count": 4,
   "metadata": {},
   "outputs": [],
   "source": [
    "list_vars = [\n",
    "            'governance_fema_household_water_resilience',\n",
    "            'governance_fema_household_power_resilience',\n",
    "            'governance_fema_household_preparedness',\n",
    "            'climate_fema_nfip_claims',\n",
    "            'climate_fema_nfip_claim_cost',\n",
    "            'society_usda_food_accessibility',\n",
    "            'society_bls_hachman',\n",
    "            'governance_usgs_fire_stations',\n",
    "            'governance_fema_hazard_mitigation',\n",
    "            'governance_fema_communitiy_flood',\n",
    "            'governance_fema_emergency_grants'\n",
    "]\n",
    "for vars in list_vars:\n",
    "    subset_to_CA('na', 'na', 'na', export=False, varname=vars)"
   ]
  },
  {
   "cell_type": "markdown",
   "metadata": {},
   "source": [
    "Running various metrics below:"
   ]
  },
  {
   "cell_type": "code",
   "execution_count": 6,
   "metadata": {},
   "outputs": [],
   "source": [
    "input_csv = 'emergency_management_grants.csv'\n",
    "output_csv = 'fema_emergency_management_grants_subset.csv'\n",
    "aws_directory = '2a_subset/governance/community_preparedness/fema/emergency_management_performance_grants'\n",
    "subset_to_CA(input_csv, output_csv, aws_directory, export=False, varname='test')"
   ]
  },
  {
   "cell_type": "code",
   "execution_count": 8,
   "metadata": {},
   "outputs": [],
   "source": [
    "input_csv = 'nfip_community_status.csv'\n",
    "output_csv = 'fema_community_status_subset.csv'\n",
    "aws_directory = '2a_subset/governance/community_preparedness/fema/nfip_community_status'\n",
    "subset_to_CA(input_csv, output_csv, aws_directory, export=False, varname='')"
   ]
  },
  {
   "cell_type": "code",
   "execution_count": 9,
   "metadata": {},
   "outputs": [],
   "source": [
    "input_csv = 'hazard_mitigation_funding.csv'\n",
    "output_csv = 'hazard_mitigation_funding_subset.csv'\n",
    "aws_directory = '2a_subset/governance/community_preparedness/fema/hazard_mitigation_funding'\n",
    "subset_to_CA(input_csv, output_csv, aws_directory, export=False, varname='')"
   ]
  },
  {
   "cell_type": "code",
   "execution_count": 10,
   "metadata": {},
   "outputs": [],
   "source": [
    "input_csv = 'Fire_Stations.csv'\n",
    "output_csv = 'fire_station_subset.csv'\n",
    "aws_directory = '2a_subset/governance/emergency_response/usgs/fire_stations'\n",
    "subset_to_CA(input_csv, output_csv, aws_directory, export=False, varname='')"
   ]
  },
  {
   "cell_type": "code",
   "execution_count": 12,
   "metadata": {},
   "outputs": [],
   "source": [
    "input_csv = 'allhlcn22.csv'\n",
    "output_csv = 'employment_data_hachman_subset.csv'\n",
    "aws_directory = '2a_subset/society_economy/economic_health/bureau_labor_statistics/employment_hachman_index'\n",
    "subset_to_CA(input_csv, output_csv, aws_directory, export=False, varname='')"
   ]
  },
  {
   "cell_type": "code",
   "execution_count": 14,
   "metadata": {},
   "outputs": [],
   "source": [
    "input_csv = 'foodaccess2019.csv'\n",
    "output_csv = 'food_access_subset.csv'\n",
    "aws_directory = '2a_subset/society_economy/vulnerable_populations/usda/food_access'\n",
    "subset_to_CA(input_csv, output_csv, aws_directory, export=False, varname='')"
   ]
  },
  {
   "cell_type": "code",
   "execution_count": 13,
   "metadata": {},
   "outputs": [],
   "source": [
    "input_csv = 'fema_national_household_general_data.csv'\n",
    "output_csv = 'fema_prepareness_survey_subset.csv'\n",
    "aws_directory = '2a_subset/governance/personal_preparedness/fema/fema_national_household_survey'\n",
    "subset_to_CA(input_csv, output_csv, aws_directory, export=False, varname='')"
   ]
  },
  {
   "cell_type": "code",
   "execution_count": 36,
   "metadata": {},
   "outputs": [
    {
     "name": "stdout",
     "output_type": "stream",
     "text": [
      "Merged and sorted files written to fema_claims_CA_subset.csv\n"
     ]
    }
   ],
   "source": [
    "input_csv = 'FimaNfipClaims.csv'\n",
    "output_csv = 'fema_claims_CA_subset.csv'\n",
    "aws_directory = '2a_subset/climate_risk/flood/loss/fema/flood_claims_ca'\n",
    "subset_to_CA(input_csv, output_csv, aws_directory, export=False, varname=''"
   ]
  }
 ],
 "metadata": {
  "kernelspec": {
   "display_name": "carb",
   "language": "python",
   "name": "python3"
  },
  "language_info": {
   "codemirror_mode": {
    "name": "ipython",
    "version": 3
   },
   "file_extension": ".py",
   "mimetype": "text/x-python",
   "name": "python",
   "nbconvert_exporter": "python",
   "pygments_lexer": "ipython3",
   "version": "3.9.18"
  }
 },
 "nbformat": 4,
 "nbformat_minor": 2
}
