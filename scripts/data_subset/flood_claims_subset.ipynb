{
 "cells": [
  {
   "cell_type": "code",
   "execution_count": 1,
   "metadata": {},
   "outputs": [],
   "source": [
    "import csv\n",
    "import boto3"
   ]
  },
  {
   "cell_type": "code",
   "execution_count": 2,
   "metadata": {},
   "outputs": [],
   "source": [
    "## set-up for AWS  \n",
    "s3_client = boto3.client('s3')  \n",
    "bucket_name = 'ca-climate-index'  \n",
    "directory = '2a_subset/climate_risk/flood/loss/fema/flood_claims_ca'"
   ]
  },
  {
   "cell_type": "code",
   "execution_count": 4,
   "metadata": {},
   "outputs": [
    {
     "name": "stdout",
     "output_type": "stream",
     "text": [
      "Merged and sorted files written to fema_claims_CA_subset.csv\n"
     ]
    }
   ],
   "source": [
    "def filter_and_save_csv(input_file_name, output_file_name):\n",
    "    '''\n",
    "    Takes FEMA's flood claim data and subsets for California claims exclusively\n",
    "    \n",
    "    Note:\n",
    "    This function assumes users have configured the AWS CLI such that their access key / secret key pair are stored in ~/.aws/credentials.\n",
    "    See https://docs.aws.amazon.com/cli/latest/userguide/getting-started-install.html for guidance.\n",
    "    \n",
    "    Parameters\n",
    "    ----------\n",
    "    input_file_name: string\n",
    "              The name of the file containing FEMA's Flood Claim data: https://www.fema.gov/openfema-data-page/fima-nfip-redacted-claims-v2\n",
    "    output_file_name: string\n",
    "              Final output as a .csv file\n",
    "    '''\n",
    "    with open(input_file_name, 'r', newline='') as input_file:\n",
    "        # Create a CSV reader\n",
    "        csv_reader = csv.DictReader(input_file)\n",
    "\n",
    "        # Extract the header from the reader\n",
    "        header = csv_reader.fieldnames\n",
    "\n",
    "        # Create a list to store filtered rows\n",
    "        filtered_rows = [row for row in csv_reader if row['state'] == 'CA']\n",
    "\n",
    "    # Open the output CSV file for writing\n",
    "    with open(output_file_name, 'w', newline='') as output_file:\n",
    "        # Create a CSV writer\n",
    "        csv_writer = csv.DictWriter(output_file, fieldnames=header, delimiter = ',')\n",
    "\n",
    "        # Write the header to the output file\n",
    "        csv_writer.writeheader()\n",
    "\n",
    "        # Write the filtered rows to the output file\n",
    "        csv_writer.writerows(filtered_rows)\n",
    "\n",
    "# Example usage:\n",
    "input_csv = 'FimaNfipClaims.csv'\n",
    "output_csv = 'fema_claims_CA_subset.csv'\n",
    "\n",
    "filter_and_save_csv(input_csv, output_csv)\n",
    "\n",
    "# Save the file to AWS S3 using the client\n",
    "with open(output_csv, 'rb') as data:\n",
    "    s3_client.upload_fileobj(data, bucket_name, f\"{directory}/{output_csv}\")\n",
    "print(f\"Merged and sorted files written to {output_csv}\")"
   ]
  }
 ],
 "metadata": {
  "kernelspec": {
   "display_name": "carb",
   "language": "python",
   "name": "python3"
  },
  "language_info": {
   "codemirror_mode": {
    "name": "ipython",
    "version": 3
   },
   "file_extension": ".py",
   "mimetype": "text/x-python",
   "name": "python",
   "nbconvert_exporter": "python",
   "pygments_lexer": "ipython3",
   "version": "3.9.18"
  }
 },
 "nbformat": 4,
 "nbformat_minor": 2
}
