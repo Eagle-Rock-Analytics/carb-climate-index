{
 "cells": [
  {
   "cell_type": "markdown",
   "id": "338a4d08",
   "metadata": {},
   "source": [
    "## Cal-CRAI Subsetting -- FEMA's National Flood Insurance Program Data:\n",
    "https://www.fema.gov/openfema-data-page/fima-nfip-redacted-policies-v2\n",
    "\n",
    "This notebook subsets the large dataset to California policies and uploads to the 'pull data' bucket\n",
    "instead of 'subset data' bucket as it is still so large following the subset.\n",
    "\n",
    "** The original dataset was directly downloaded to the local directory, subsetted to CA, then uploaded to 'pull data' bucket in AWS"
   ]
  },
  {
   "cell_type": "code",
   "execution_count": 1,
   "id": "f486a0f0-ff60-481f-ad76-7d0749a98dd0",
   "metadata": {
    "execution": {
     "iopub.execute_input": "2023-09-19T00:06:06.860115Z",
     "iopub.status.busy": "2023-09-19T00:06:06.859874Z",
     "iopub.status.idle": "2023-09-19T00:06:08.003201Z",
     "shell.execute_reply": "2023-09-19T00:06:08.002538Z",
     "shell.execute_reply.started": "2023-09-19T00:06:06.860089Z"
    }
   },
   "outputs": [],
   "source": [
    "import pandas as pd\n",
    "import dask.dataframe as dd\n",
    "\n",
    "from scripts.utils.file_helpers import upload_csv_aws"
   ]
  },
  {
   "cell_type": "code",
   "execution_count": null,
   "id": "6c087dfd-88a7-4ce9-b325-c462133db260",
   "metadata": {
    "execution": {
     "iopub.execute_input": "2023-09-19T00:14:02.335204Z",
     "iopub.status.busy": "2023-09-19T00:14:02.334971Z",
     "iopub.status.idle": "2023-09-19T00:14:02.410913Z",
     "shell.execute_reply": "2023-09-19T00:14:02.410247Z",
     "shell.execute_reply.started": "2023-09-19T00:14:02.335190Z"
    }
   },
   "outputs": [],
   "source": [
    "large_csv = '../FimaNfipPolicies.csv'\n",
    "\n",
    "df = dd.read_csv(large_csv, \n",
    "        dtype={'buildingDeductibleCode': 'str',\n",
    "       'cancellationDateOfFloodPolicy': 'str',\n",
    "       'censusBlockGroupFips': 'str',\n",
    "       'censusTract': 'str',\n",
    "       'communityProbationSurcharge': 'str',\n",
    "       'contentsDeductibleCode': 'str',\n",
    "       'countyCode': 'str',\n",
    "       'crsClassCode': 'str',\n",
    "       'disasterAssistanceCoverageRequiredCode': 'str',\n",
    "       'elevationCertificateIndicator': 'str',\n",
    "       'enclosureTypeCode': 'str',\n",
    "       'floodZoneCurrent': 'str',\n",
    "       'iccPremium': 'str',\n",
    "       'mapPanelNumber': 'str',\n",
    "       'propertyPurchaseDate': 'str',\n",
    "       'rateMethod': 'str',\n",
    "       'reportedZipCode': 'str',\n",
    "       'subsidizedRateType': 'str',\n",
    "       'waitingPeriodType': 'str',\n",
    "        'propertyState' : 'str',\n",
    "        'cancellationVoidanceReasonCode': 'str',\n",
    "        'totalContentsInsuranceCoverage': 'str',\n",
    "        'numberOfFloorsInInsuredBuilding': 'str',\n",
    "        'totalBuildingInsuranceCoverage' : 'str',\n",
    "        'nfipCommunityNumberCurrent' : 'str',\n",
    "        'buildingReplacementCost': 'str',\n",
    "       'femaRegion': 'str',\n",
    "       'nfipRatedCommunityNumber': 'str',\n",
    "        'occupancyType': 'str'},\n",
    "                )\n",
    "df"
   ]
  },
  {
   "cell_type": "code",
   "execution_count": null,
   "id": "7d55c087-a249-4dba-bc74-970735be4a2b",
   "metadata": {
    "execution": {
     "iopub.execute_input": "2023-09-19T00:14:03.806806Z",
     "iopub.status.busy": "2023-09-19T00:14:03.806322Z",
     "iopub.status.idle": "2023-09-19T00:14:04.662125Z",
     "shell.execute_reply": "2023-09-19T00:14:04.661410Z",
     "shell.execute_reply.started": "2023-09-19T00:14:03.806788Z"
    }
   },
   "outputs": [],
   "source": [
    "df.head()"
   ]
  },
  {
   "cell_type": "code",
   "execution_count": 7,
   "id": "2f6d416a-f1d0-4634-8116-de9cbeb02a5e",
   "metadata": {
    "execution": {
     "iopub.execute_input": "2023-09-19T00:14:04.663546Z",
     "iopub.status.busy": "2023-09-19T00:14:04.663176Z",
     "iopub.status.idle": "2023-09-19T00:21:26.387384Z",
     "shell.execute_reply": "2023-09-19T00:21:26.386719Z",
     "shell.execute_reply.started": "2023-09-19T00:14:04.663530Z"
    }
   },
   "outputs": [],
   "source": [
    "ddf = df.loc[df['propertyState']=='CA'].compute()"
   ]
  },
  {
   "cell_type": "code",
   "execution_count": null,
   "id": "212fbc3e-9bc3-4c00-a810-4e28cc74d05e",
   "metadata": {
    "execution": {
     "iopub.execute_input": "2023-09-19T00:21:34.775372Z",
     "iopub.status.busy": "2023-09-19T00:21:34.774806Z",
     "iopub.status.idle": "2023-09-19T00:21:37.552364Z",
     "shell.execute_reply": "2023-09-19T00:21:37.551726Z",
     "shell.execute_reply.started": "2023-09-19T00:21:34.775354Z"
    }
   },
   "outputs": [],
   "source": [
    "ddf"
   ]
  },
  {
   "cell_type": "code",
   "execution_count": 9,
   "id": "5ca05f66-46b0-4937-88c2-4bf38d41cfd1",
   "metadata": {
    "execution": {
     "iopub.execute_input": "2023-09-19T00:21:53.997385Z",
     "iopub.status.busy": "2023-09-19T00:21:53.996837Z",
     "iopub.status.idle": "2023-09-19T00:22:49.932685Z",
     "shell.execute_reply": "2023-09-19T00:22:49.932084Z",
     "shell.execute_reply.started": "2023-09-19T00:21:53.997364Z"
    }
   },
   "outputs": [],
   "source": [
    "ddf.to_csv('fema_flood_redacted_policies.csv')"
   ]
  },
  {
   "cell_type": "code",
   "execution_count": null,
   "id": "cd566b4e",
   "metadata": {},
   "outputs": [],
   "source": [
    "bucket_name = 'ca-climate-index'\n",
    "directory = '1_pull_data/governance/personal_preparedness/fema/fema_fima_nfip_policies'\n",
    "export_filename = ['fema_flood_redacted_policies.csv']\n",
    "upload_csv_aws(export_filename, bucket_name, directory)"
   ]
  }
 ],
 "metadata": {
  "kernelspec": {
   "display_name": "Python 3 (ipykernel)",
   "language": "python",
   "name": "python3"
  },
  "language_info": {
   "codemirror_mode": {
    "name": "ipython",
    "version": 3
   },
   "file_extension": ".py",
   "mimetype": "text/x-python",
   "name": "python",
   "nbconvert_exporter": "python",
   "pygments_lexer": "ipython3",
   "version": "3.9.18"
  }
 },
 "nbformat": 4,
 "nbformat_minor": 5
}
