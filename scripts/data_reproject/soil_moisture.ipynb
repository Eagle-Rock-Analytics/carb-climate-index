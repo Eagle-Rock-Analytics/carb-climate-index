{
 "cells": [
  {
   "cell_type": "code",
   "execution_count": null,
   "metadata": {},
   "outputs": [],
   "source": [
    "import netCDF4 as nc\n",
    "import xarray as xr\n",
    "import geopandas as gpd\n",
    "import matplotlib.pyplot as plt\n",
    "import boto3\n",
    "import sys\n",
    "import os\n",
    "sys.path.append(os.path.expanduser('../../')) # annoying workaround, beware hardcoding!!!\n",
    "from scripts.utils.file_helpers import to_zarr"
   ]
  },
  {
   "cell_type": "code",
   "execution_count": null,
   "metadata": {},
   "outputs": [],
   "source": [
    "## set-up for AWS\n",
    "'''\n",
    "Note:\n",
    "This function assumes users have configured the AWS CLI such that their access key / secret key pair are stored in ~/.aws/credentials.\n",
    "See https://docs.aws.amazon.com/cli/latest/userguide/getting-started-install.html for guidance\n",
    "'''\n",
    "s3_client = boto3.client('s3')\n",
    "bucket_name = 'ca-climate-index'\n",
    "directory = '2b_reproject/natural_systems/agricultural_productivity_conservation/usda_nasa'"
   ]
  },
  {
   "cell_type": "code",
   "execution_count": null,
   "metadata": {},
   "outputs": [],
   "source": [
    "# open soil moisture anomoly data through xarray\n",
    "soil_moisture_anom = xr.open_dataset('sfc_soil_moisture_anomaly_2015-2022.nc')\n",
    "soil_moisture_anom"
   ]
  },
  {
   "cell_type": "code",
   "execution_count": null,
   "metadata": {},
   "outputs": [],
   "source": [
    "# establish working range for parameters outlined in the xarray\n",
    "lat_min = soil_moisture_anom['latitude'].min()\n",
    "lat_max = soil_moisture_anom['latitude'].max()\n",
    "lon_min = soil_moisture_anom['longitude'].min()\n",
    "lon_max = soil_moisture_anom['longitude'].max()\n",
    "\n",
    "soil_moisture_analysis = soil_moisture_anom['ssma'].sel(  \n",
    "                      latitude=slice(lat_min, lat_max),  \n",
    "                      longitude=slice(lon_min, lon_max),  \n",
    "                      )\n",
    "\n",
    "lat_range = lat_max - lat_min\n",
    "lon_range = lon_max - lon_min\n"
   ]
  },
  {
   "cell_type": "code",
   "execution_count": null,
   "metadata": {},
   "outputs": [],
   "source": [
    "soil_moisture_analysis"
   ]
  },
  {
   "cell_type": "code",
   "execution_count": null,
   "metadata": {},
   "outputs": [],
   "source": [
    "# visualize the soil moisture for the first date within the data\n",
    "soil_moisture_analysis.isel(time=23).plot.imshow(vmin=-4., vmax=4., cmap='seismic', aspect=lon_range/lat_range, size=5)"
   ]
  },
  {
   "cell_type": "code",
   "execution_count": null,
   "metadata": {},
   "outputs": [],
   "source": [
    "# load the census tracts spatial data for California\n",
    "ca_boundaries = gpd.read_file('ca_tract_tiger')\n",
    "\n",
    "# check the current coordinate system of the census tracts data\n",
    "print(\"Original CRS of Census Tracts Data:\")\n",
    "print(ca_boundaries.crs)"
   ]
  },
  {
   "cell_type": "code",
   "execution_count": null,
   "metadata": {},
   "outputs": [],
   "source": [
    "# reproject soil moisture data to the same coordinate system as census tract\n",
    "temp_soil_reproj = soil_moisture_analysis.rio.set_crs('EPSG:4269')"
   ]
  },
  {
   "cell_type": "code",
   "execution_count": null,
   "metadata": {},
   "outputs": [],
   "source": [
    "# ensure data shape is carried over after reproject\n",
    "temp_soil_reproj.values.shape"
   ]
  },
  {
   "cell_type": "code",
   "execution_count": null,
   "metadata": {},
   "outputs": [],
   "source": [
    "# clip the reporjected soil moisture data to California specific census parameter\n",
    "temp_soil_reproj.rio.clip(geometries=ca_boundaries.geometry)"
   ]
  },
  {
   "cell_type": "code",
   "execution_count": null,
   "metadata": {},
   "outputs": [],
   "source": [
    "visualize_ca_soil = temp_soil_reproj.rio.clip(geometries=ca_boundaries.geometry).isel(time=23)\n",
    "fig, ax = plt.subplots()\n",
    "visualize_ca_soil.plot(ax=ax)\n",
    "\n",
    "# Plot the shapefile on top of the xarray plot\n",
    "ca_boundaries.plot(ax=ax, facecolor='none', edgecolor='black', linewidth=0.5)\n",
    "\n",
    "# Show the plot\n",
    "plt.show()"
   ]
  },
  {
   "cell_type": "code",
   "execution_count": null,
   "metadata": {},
   "outputs": [],
   "source": [
    "# s3 bucket path information\n",
    "top_dir = '2b_reproject'\n",
    "domain = 'natural_systems'\n",
    "indicator = 'agricultural_productivity_conservation'\n",
    "data_source = 'usda_nasa'\n",
    "save_name = 'soil_moisture_ca_reproject'\n",
    "# now zarrify and upload\n",
    "to_zarr(temp_soil_reproj, top_dir, domain, indicator, data_source, save_name)"
   ]
  },
  {
   "cell_type": "code",
   "execution_count": null,
   "metadata": {},
   "outputs": [],
   "source": [
    "# load in the uploaded zarr to check on everything\n",
    "aws_path = \"s3://ca-climate-index/{0}/{1}/{2}/{3}/\".format(\n",
    "    top_dir, domain, indicator, data_source)\n",
    "filepath_zarr = aws_path+save_name+\".zarr\"\n",
    "\n",
    "# Open and plot one of the files to confirm it all worked \n",
    "ds = xr.open_dataset(\n",
    "    filepath_zarr, \n",
    "    engine=\"zarr\",\n",
    "    consolidated=False,\n",
    ")\n",
    "ds"
   ]
  },
  {
   "cell_type": "markdown",
   "metadata": {},
   "source": [
    "Legacy code to save netcdf and upload to s3"
   ]
  },
  {
   "cell_type": "code",
   "execution_count": null,
   "metadata": {},
   "outputs": [],
   "source": [
    "# save newly projected data as a netcdf file\n",
    "temp_soil_reproj.to_netcdf('soil_moisture_ca_reproject.nc')"
   ]
  },
  {
   "cell_type": "code",
   "execution_count": null,
   "metadata": {},
   "outputs": [],
   "source": [
    "# upload to aws bucket\n",
    "with open('soil_moisture_ca_reproject.nc', 'rb') as data:\n",
    "        s3_client.upload_fileobj(data, bucket_name, f\"{directory}/{'soil_moisture_ca_reproject.nc'}\")\n",
    "        print(f\"Merged and sorted files written to: soil_moisture_ca_reproject.nc\")"
   ]
  }
 ],
 "metadata": {
  "kernelspec": {
   "display_name": "Python 3 (ipykernel)",
   "language": "python",
   "name": "python3"
  },
  "language_info": {
   "codemirror_mode": {
    "name": "ipython",
    "version": 3
   },
   "file_extension": ".py",
   "mimetype": "text/x-python",
   "name": "python",
   "nbconvert_exporter": "python",
   "pygments_lexer": "ipython3",
   "version": "3.9.18"
  }
 },
 "nbformat": 4,
 "nbformat_minor": 4
}
