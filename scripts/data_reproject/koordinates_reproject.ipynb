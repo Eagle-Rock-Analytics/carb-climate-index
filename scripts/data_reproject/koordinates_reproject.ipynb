{
 "cells": [
  {
   "cell_type": "code",
   "execution_count": null,
   "metadata": {},
   "outputs": [],
   "source": [
    "import geopandas as gpd\n",
    "import os\n",
    "import matplotlib.pyplot as plt\n",
    "import boto3\n",
    "import sys\n",
    "import xarray as xr\n",
    "import pandas as pd\n",
    "from functools import wraps\n",
    "import dask_geopandas\n",
    "import re\n",
    "sys.path.append(os.path.expanduser('../../'))\n",
    "from scripts.utils.write_metadata import (\n",
    "    append_metadata\n",
    ")\n",
    "import warnings\n",
    "warnings.filterwarnings(\"ignore\")"
   ]
  },
  {
   "cell_type": "code",
   "execution_count": null,
   "metadata": {},
   "outputs": [],
   "source": [
    "shp_fname = 'zip+s3://ca-climate-index/1_pull_data/climate_risk/flood/exposure/koordinates/california-fema-100-year-floodplains.gdb.zip'\n",
    "# varname = fname_dict[fname]\n",
    "df = gpd.read_file(shp_fname)"
   ]
  },
  {
   "cell_type": "code",
   "execution_count": null,
   "metadata": {},
   "outputs": [],
   "source": [
    "# read in CA census tiger file\n",
    "census_shp_dir = \"s3://ca-climate-index/0_map_data/2021_tiger_census_tract/2021_ca_tract/\"\n",
    "ca_boundaries = gpd.read_file(census_shp_dir)\n",
    "# need to rename columns so we don't have any duplicates in the final geodatabase\n",
    "column_names = ca_boundaries.columns\n",
    "new_column_names = [\"USCB_\"+column for column in column_names if column != \"geometry\"]\n",
    "ca_boundaries = ca_boundaries.rename(columns=dict(zip(column_names, new_column_names)))\n",
    "ca_boundaries = ca_boundaries.to_crs(3310)\n",
    "df = df.to_crs(ca_boundaries.crs)"
   ]
  },
  {
   "cell_type": "code",
   "execution_count": null,
   "metadata": {},
   "outputs": [],
   "source": [
    "df = df.dropna()\n",
    "ddf = df[df.FloodZone.str.contains(\"100\")]  \n",
    "ddf"
   ]
  },
  {
   "cell_type": "code",
   "execution_count": null,
   "metadata": {},
   "outputs": [],
   "source": [
    "ca_boundaries = ca_boundaries.to_crs(3310)\n",
    "ddf = ddf.to_crs(ca_boundaries.crs)\n",
    "ddf = ddf[[\"geometry\",\"FLD_ZONE\",\"FloodZone\"]]"
   ]
  },
  {
   "cell_type": "code",
   "execution_count": null,
   "metadata": {},
   "outputs": [],
   "source": [
    "over_df = gpd.overlay(ca_boundaries, ddf, how=\"intersection\")"
   ]
  },
  {
   "cell_type": "code",
   "execution_count": null,
   "metadata": {},
   "outputs": [],
   "source": [
    "gdf_new = over_df.dissolve(by='USCB_GEOID')\n",
    "gdf_new"
   ]
  },
  {
   "cell_type": "code",
   "execution_count": null,
   "metadata": {},
   "outputs": [],
   "source": [
    "floodzone_gdf = gdf_new[[\"geometry\"]]\n",
    "floodzone_gdf[\"floodzone_area\"] = floodzone_gdf.area\n",
    "floodzone_gdf"
   ]
  },
  {
   "cell_type": "code",
   "execution_count": null,
   "metadata": {},
   "outputs": [],
   "source": [
    "tract_gdf = ca_boundaries[[\"USCB_GEOID\",\"geometry\"]]\n",
    "tract_gdf[\"tract_area\"] = tract_gdf.area\n",
    "tract_gdf"
   ]
  },
  {
   "cell_type": "code",
   "execution_count": null,
   "metadata": {},
   "outputs": [],
   "source": [
    "merged_df = pd.merge(tract_gdf, floodzone_gdf, on=\"USCB_GEOID\", suffixes=[\"_tract\",\"_floodzone\"])\n",
    "merged_df[\"%_floodzone\"] = (merged_df[\"floodzone_area\"]/merged_df[\"tract_area\"]) * 100"
   ]
  },
  {
   "cell_type": "code",
   "execution_count": null,
   "metadata": {},
   "outputs": [],
   "source": [
    "to_plot = merged_df[[\"geometry_tract\",\"%_floodzone\",\"USCB_GEOID\"]]\n",
    "pl_gdf = gpd.GeoDataFrame(to_plot, geometry=\"geometry_tract\")\n",
    "pl_gdf.explore(column=\"%_floodzone\", legend=True)"
   ]
  }
 ],
 "metadata": {
  "kernelspec": {
   "display_name": "Python 3 (ipykernel)",
   "language": "python",
   "name": "python3"
  },
  "language_info": {
   "codemirror_mode": {
    "name": "ipython",
    "version": 3
   },
   "file_extension": ".py",
   "mimetype": "text/x-python",
   "name": "python",
   "nbconvert_exporter": "python",
   "pygments_lexer": "ipython3",
   "version": "3.9.18"
  }
 },
 "nbformat": 4,
 "nbformat_minor": 4
}
