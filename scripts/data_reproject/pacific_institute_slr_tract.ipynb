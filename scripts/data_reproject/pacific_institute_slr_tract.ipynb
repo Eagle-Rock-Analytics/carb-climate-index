{
 "cells": [
  {
   "cell_type": "code",
   "execution_count": 1,
   "metadata": {
    "execution": {
     "iopub.execute_input": "2024-03-07T01:59:10.968483Z",
     "iopub.status.busy": "2024-03-07T01:59:10.967936Z",
     "iopub.status.idle": "2024-03-07T01:59:11.417870Z",
     "shell.execute_reply": "2024-03-07T01:59:11.417272Z",
     "shell.execute_reply.started": "2024-03-07T01:59:10.968465Z"
    }
   },
   "outputs": [],
   "source": [
    "import pandas as pd\n",
    "import geopandas as gpd\n",
    "import os\n",
    "import boto3\n",
    "from zipfile import ZipFile\n",
    "import shutil\n",
    "import sys\n",
    "import os\n",
    "sys.path.append(os.path.expanduser('../../'))\n",
    "from scripts.utils.write_metadata import (\n",
    "    append_metadata\n",
    ")"
   ]
  },
  {
   "cell_type": "code",
   "execution_count": 4,
   "metadata": {
    "execution": {
     "iopub.execute_input": "2024-03-07T01:59:11.662686Z",
     "iopub.status.busy": "2024-03-07T01:59:11.661917Z",
     "iopub.status.idle": "2024-03-07T01:59:11.668831Z",
     "shell.execute_reply": "2024-03-07T01:59:11.668249Z",
     "shell.execute_reply.started": "2024-03-07T01:59:11.662666Z"
    }
   },
   "outputs": [],
   "source": [
    "@append_metadata\n",
    "def reproject_slr_census_blocks(export=False, varname=''):\n",
    "    '''\n",
    "This function pulls Pacific Institute sea level rise data from AWS. The csv file is modified for\n",
    "reprojection. The census block column was used to create an additional spatial column for census\n",
    "tracts as census blocks are at a higher spatial scale.\n",
    "    \n",
    "    Note:\n",
    "    This function assumes users have configured the AWS CLI such that their access key / secret key pair\n",
    "    are stored in ~/.aws/credentials.\n",
    "    See https://docs.aws.amazon.com/cli/latest/userguide/getting-started-install.html for guidance.\n",
    "    \n",
    "    Parameters\n",
    "    ----------\n",
    "    export: bool\n",
    "        if True, uploads resulting .gpkg file to AWS\n",
    "\n",
    "    Script\n",
    "    ------\n",
    "    pacific_institute_slr_tract.ipynb\n",
    "    '''\n",
    "    print('Data transformation: convert census block column to census tract by adjusting string length')\n",
    "    if export==False:\n",
    "        return\n",
    "    else:\n",
    "        # Initialize the S3 client\n",
    "        s3_client = boto3.client('s3')\n",
    "        \n",
    "        # Bucket name and file paths\n",
    "        bucket_name = 'ca-climate-index'\n",
    "        directory = '1_pull_data/climate_risk/sea_level_rise/exposure/projections/pacific_institute/vulnerable_slr_tract_2100.gdb.zip'\n",
    "        out_directory = '2b_reproject/climate_risk/sea_level_rise/exposure/projections/pacific_institute/'\n",
    "        \n",
    "        # Local directory to store the downloaded zip file and extracted contents\n",
    "        local_directory = 'temp'\n",
    "        if not os.path.exists(local_directory):\n",
    "            os.makedirs(local_directory)\n",
    "        \n",
    "        # Download the zip file\n",
    "        #print(f'Pulling vulnerable census blocks to SLR data from S3 bucket: {directory}')\n",
    "        local_zip_file_path = os.path.join(local_directory, os.path.basename(directory))\n",
    "        s3_client.download_file(bucket_name, directory, local_zip_file_path)\n",
    "        \n",
    "        # Extract the contents of the zip file\n",
    "        with ZipFile(local_zip_file_path, 'r') as zip_ref:\n",
    "            zip_ref.extractall(local_directory)\n",
    "        \n",
    "        csv_found = False\n",
    "\n",
    "        for filename in os.listdir(local_directory):\n",
    "            if filename.endswith('.csv'):\n",
    "                csv_path = os.path.join(local_directory, filename)\n",
    "                #print(\"Reading csv file\")\n",
    "                slr_vulnerable_data = pd.read_csv(csv_path)\n",
    "                #print('.csv data pulled')\n",
    "                #print('Original data:')\n",
    "                #print(slr_vulnerable_data)\n",
    "                #print('Adding Census Tract column to dataset')\n",
    "                slr_vulnerable_data['CensusTract'] = slr_vulnerable_data['CensusBlock'].astype(str).str[:10]\n",
    "                #print('Updated data:')\n",
    "                #print(slr_vulnerable_data)\n",
    "                #print('Saving data as new .csv file and uploading to AWS')\n",
    "                \n",
    "                # Save the modified DataFrame to a CSV file\n",
    "                output_csv_path = os.path.join(local_directory, 'climate_pacific_institute_slr_exposure_census_vulnerability.csv')\n",
    "                slr_vulnerable_data.to_csv(output_csv_path, index=False)\n",
    "                #print(f\"Reprojected data saved to: {output_csv_path}\")\n",
    "\n",
    "                # Upload the CSV file to S3\n",
    "                if export==True:\n",
    "                    with open(output_csv_path, 'rb') as file:\n",
    "                        s3_client.upload_fileobj(file, bucket_name, os.path.join(out_directory,     'climate_pacific_institute_slr_exposure_census_vulnerability.csv'))\n",
    "\n",
    "                    #print(f\"Reprojected SLR data sent to S3 bucket: {out_directory}\")\n",
    "                    break  # Break out of the loop after processing the first CSV file"
   ]
  },
  {
   "cell_type": "code",
   "execution_count": 6,
   "metadata": {
    "execution": {
     "iopub.execute_input": "2024-03-07T01:59:14.071194Z",
     "iopub.status.busy": "2024-03-07T01:59:14.070884Z",
     "iopub.status.idle": "2024-03-07T01:59:15.160425Z",
     "shell.execute_reply": "2024-03-07T01:59:15.159849Z",
     "shell.execute_reply.started": "2024-03-07T01:59:14.071180Z"
    },
    "scrolled": true
   },
   "outputs": [],
   "source": [
    "var_list = [\n",
    "    'climate_pacific_institute_slr_exposure_tracts_delta'\n",
    "    ]\n",
    "\n",
    "for var in var_list:\n",
    "    reproject_slr_census_blocks(export=False, varname=var)"
   ]
  }
 ],
 "metadata": {
  "kernelspec": {
   "display_name": "Python 3 (ipykernel)",
   "language": "python",
   "name": "python3"
  },
  "language_info": {
   "codemirror_mode": {
    "name": "ipython",
    "version": 3
   },
   "file_extension": ".py",
   "mimetype": "text/x-python",
   "name": "python",
   "nbconvert_exporter": "python",
   "pygments_lexer": "ipython3",
   "version": "3.9.18"
  }
 },
 "nbformat": 4,
 "nbformat_minor": 4
}
