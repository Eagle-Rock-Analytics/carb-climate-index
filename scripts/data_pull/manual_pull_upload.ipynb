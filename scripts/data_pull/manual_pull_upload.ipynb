{
 "cells": [
  {
   "cell_type": "markdown",
   "metadata": {},
   "source": [
    "## This script uploads manually downloaded data to AWS bucket for the California Climate Risk Index"
   ]
  },
  {
   "cell_type": "code",
   "execution_count": 1,
   "metadata": {
    "execution": {
     "iopub.execute_input": "2024-06-13T21:50:26.753089Z",
     "iopub.status.busy": "2024-06-13T21:50:26.752394Z",
     "iopub.status.idle": "2024-06-13T21:50:27.357667Z",
     "shell.execute_reply": "2024-06-13T21:50:27.357202Z",
     "shell.execute_reply.started": "2024-06-13T21:50:26.753053Z"
    }
   },
   "outputs": [],
   "source": [
    "# Import libraries\n",
    "import boto3\n",
    "import pandas as pd\n",
    "import os\n",
    "import sys\n",
    "\n",
    "sys.path.append(os.path.expanduser('../../'))\n",
    "from scripts.utils.write_metadata import append_metadata"
   ]
  },
  {
   "cell_type": "code",
   "execution_count": 2,
   "metadata": {
    "execution": {
     "iopub.execute_input": "2024-06-13T21:50:27.358654Z",
     "iopub.status.busy": "2024-06-13T21:50:27.358491Z",
     "iopub.status.idle": "2024-06-13T21:50:27.377969Z",
     "shell.execute_reply": "2024-06-13T21:50:27.377598Z",
     "shell.execute_reply.started": "2024-06-13T21:50:27.358643Z"
    }
   },
   "outputs": [],
   "source": [
    "# Set AWS credentials\n",
    "s3 = boto3.resource('s3')\n",
    "s3_cl = boto3.client('s3') # for lower-level processes\n",
    "bucket_name = 'ca-climate-index'\n",
    "raw_path = '1_pull_data/' # path to raw datafiles in AWS bucket"
   ]
  },
  {
   "cell_type": "code",
   "execution_count": 4,
   "metadata": {},
   "outputs": [],
   "source": [
    "def aws_datasource_dirs(domain, datasource):\n",
    "    \"\"\"Creates a dir in the respective domain dir, if not already available\"\"\"\n",
    "    bucket = s3.Bucket(bucket_name)\n",
    "\n",
    "    # path to folder in aws\n",
    "    datasource_dir = '{0}{1}/{2}/'.format(raw_path, domain, datasource)\n",
    "\n",
    "    # check if folder already exists\n",
    "    dirs = []\n",
    "    for item in bucket.objects.filter(Prefix=raw_path+domain+'/'):\n",
    "        d = str(item.key)\n",
    "        dirs += [d]\n",
    "\n",
    "    if datasource_dir not in dirs:\n",
    "        print('Creating folder for {}'.format(datasource_dir))\n",
    "        bucket.put_object(Key=datasource_dir)\n",
    "\n",
    "    return datasource_dir\n",
    "\n",
    "@append_metadata\n",
    "def manual_to_aws(domain, datasource, loc, export=False, varname=''):\n",
    "    \"\"\"\n",
    "    Uploads data that was manually downloaded to AWS bucket.\n",
    "    \n",
    "    Parameters\n",
    "    ----------\n",
    "    domain: string\n",
    "        built_environment, governance, natural_systems, society_economy, climate_risk\n",
    "    datasource: string\n",
    "        Organization of datasource\n",
    "    loc: string\n",
    "        Local path to filename to upload\n",
    "    export: bool\n",
    "        If True, exports file to specified AWS bucket\n",
    "    \n",
    "    Script\n",
    "    ------\n",
    "    manual_pull_upload.ipynb\n",
    "    '''\n",
    "    \"\"\"\n",
    "    if export ==True:\n",
    "        # first check that folder is not already available\n",
    "        path_to_save = aws_datasource_dirs(domain, datasource)\n",
    "\n",
    "        # extract the filename from path\n",
    "        loc = loc.replace('\\\\', '/')\n",
    "        fname = loc.split('/')[-1]\n",
    "\n",
    "        # point to location of file(s) locally and upload to aws\n",
    "        try:\n",
    "            s3_cl.upload_file(\n",
    "                loc,\n",
    "                bucket_name,\n",
    "                aws_datasource_dirs(domain, datasource)+fname\n",
    "            )\n",
    "            print('{0} saved to {1}'.format(fname, path_to_save))\n",
    "        except Exception as e:\n",
    "            print(e)"
   ]
  },
  {
   "cell_type": "markdown",
   "metadata": {},
   "source": [
    "### Pulling data pipeline file to obtain all variable names for metadata generation"
   ]
  },
  {
   "cell_type": "code",
   "execution_count": 3,
   "metadata": {
    "execution": {
     "iopub.execute_input": "2024-06-13T21:53:47.981271Z",
     "iopub.status.busy": "2024-06-13T21:53:47.980276Z",
     "iopub.status.idle": "2024-06-13T21:53:48.004228Z",
     "shell.execute_reply": "2024-06-13T21:53:48.003575Z",
     "shell.execute_reply.started": "2024-06-13T21:53:47.981210Z"
    }
   },
   "outputs": [],
   "source": [
    "ref_file = sys.path[-1]+'/metadata/Full Data Pipeline Notes - 1_ Pull.csv'\n",
    "df = pd.read_csv(ref_file)\n",
    "# drop empty columns\n",
    "df = df.loc[:, df.columns.notna()]\n",
    "\n",
    "df = df.drop(columns=['Link','Unnamed: 15'])\n",
    "ref_df = df.fillna('N/A')"
   ]
  },
  {
   "cell_type": "code",
   "execution_count": 4,
   "metadata": {
    "execution": {
     "iopub.execute_input": "2024-06-13T21:53:48.844915Z",
     "iopub.status.busy": "2024-06-13T21:53:48.844339Z",
     "iopub.status.idle": "2024-06-13T21:53:48.849853Z",
     "shell.execute_reply": "2024-06-13T21:53:48.848871Z",
     "shell.execute_reply.started": "2024-06-13T21:53:48.844881Z"
    }
   },
   "outputs": [],
   "source": [
    "pd.set_option('display.max_rows', None)\n",
    "#ref_df"
   ]
  },
  {
   "cell_type": "markdown",
   "metadata": {},
   "source": [
    "### Enter in metrics that were scraped and adjusted before uploading to AWS, as they have their own metadata"
   ]
  },
  {
   "cell_type": "code",
   "execution_count": 6,
   "metadata": {
    "execution": {
     "iopub.execute_input": "2024-06-13T21:54:57.600982Z",
     "iopub.status.busy": "2024-06-13T21:54:57.600280Z",
     "iopub.status.idle": "2024-06-13T21:54:57.610943Z",
     "shell.execute_reply": "2024-06-13T21:54:57.609501Z",
     "shell.execute_reply.started": "2024-06-13T21:54:57.600946Z"
    }
   },
   "outputs": [],
   "source": [
    "# Build list of file names excluding 'N/A'\n",
    "variable_names = [name for name in df['Variable'].values if name != 'N/A']\n",
    "\n",
    "# Define problematic files which we are still investigating\n",
    "skip_vars = ['natural_epa_air_quality',\n",
    "             'governance_edd_responder_firefighter',\n",
    "             'governance_edd_responder_nurse',\n",
    "             'governance_edd_responder_parametics',\n",
    "             'governance_edd_responder_police',\n",
    "             'climate_noaa_flood_fatalities',\n",
    "             'climate_usda_heat_crop_loss',\n",
    "             'climate_usda_heat_crop_cost']\n",
    "\n",
    "# Exclude files from the list\n",
    "included_vars = [name for name in variable_names if name not in skip_vars]"
   ]
  },
  {
   "cell_type": "markdown",
   "metadata": {},
   "source": [
    "### Generating metadata for all metrics that were manually downloaded and uploaded to AWS\n",
    "* loop through each variable name not excluded and generate metadata"
   ]
  },
  {
   "cell_type": "code",
   "execution_count": 7,
   "metadata": {},
   "outputs": [
    {
     "name": "stdout",
     "output_type": "stream",
     "text": [
      "built_cpuc_internet\n",
      "built_hifld_radio_towers\n",
      "built_hifld_cellular_towers\n",
      "built_hifld_microwave_towers\n",
      "built_hifld_paging_towers\n",
      "built_hifld_tv_contour\n",
      "built_hifld_mobile_towers\n",
      "built_acs_housing_vacancy\n",
      "built_acs_housing_age\n",
      "built_acs_housing_quality\n",
      "built_acs_mobile_homes\n",
      "built_caltrans_airports\n",
      "built_caltrans_road_bottlenecks\n",
      "built_caltrans_highways\n",
      "built_caltrans_rails\n",
      "built_caltrans_bridges\n",
      "built_cec_power_plants\n",
      "built_cec_transmission_lines\n",
      "built_pse_power_shutoff\n",
      "built_swcrb_wastewater_facilities\n",
      "climate_unl_drought_severity\n",
      "climate_unl_drought_coverage\n",
      "climate_unl_drought_duration\n",
      "climate_caladapt_drought_probability\n",
      "climate_usda_drought_crop_loss\n",
      "climate_usda_drought_crop_cost\n",
      "climate_iowa_mesonet_flash_flood_warnings\n",
      "climate_koordinates_floodplain\n",
      "climate_caladapt_flood_exposure_precipitation\n",
      "climate_caladapt_flood_exposure_runoff\n",
      "climate_fema_nfip_claims\n",
      "climate_fema_nfip_claim_cost\n",
      "climate_noaa_flood_crop_cost\n",
      "climate_iowa_mesonet_heat_warnings\n",
      "climate_caladapt_heatday_warmnight\n",
      "climate_caladapt_heat_loss_chillhours\n",
      "climate_caladapt_heat_loss_season_length\n",
      "climate_phi_heat_emergency_dept_visits\n",
      "climate_pacific_institute_slr_exposure_tracts_2000\n",
      "climate_pacific_institute_slr_exposure_tracts_2100\n",
      "climate_pacific_institute_slr_exposure_building_count\n",
      "climate_pacific_institute_slr_exposure_building_cost\n",
      "climate_pacific_institute_slr_exposure_fire_stations_2000\n",
      "climate_pacific_institute_slr_exposure_fire_stations_2100\n",
      "climate_pacific_institute_slr_exposure_police_stations_2000\n",
      "climate_pacific_institute_slr_exposure_police_stations_2100\n",
      "climate_pacific_institute_slr_exposure_schools_2000\n",
      "climate_pacific_institute_slr_exposure_schools_2100\n",
      "climate_pacific_institute_slr_exposure_wastewater_treatment_2000\n",
      "climate_pacific_institute_slr_exposure_wastewater_treatment_2100\n",
      "climate_pacific_institute_slr_exposure_hospitals_2000\n",
      "climate_pacific_institute_slr_exposure_hospitals_2100\n",
      "climate_pacific_institute_slr_exposure_superfund\n",
      "climate_climate_central_wetland_loss\n",
      "climate_iowa_mesonet_wildfire_warnings\n",
      "climate_caladapt_wildfire_ffwi\n",
      "climate_wildfire_projections_burn_area\n",
      "climate_calfire_wildfire_fatalities\n",
      "climate_calfire_wildfire_building_loss\n",
      "governance_usgs_fire_stations\n",
      "governance_acs_homeowners_insurance\n",
      "governance_fema_household_water_resilience\n",
      "governance_fema_household_power_resilience\n",
      "governance_fema_household_preparedness\n",
      "governance_fema_flood_policy_participants\n",
      "governance_fema_emergency_grants\n",
      "governance_fema_hazard_mitigation\n",
      "governance_fema_communitiy_flood\n",
      "governance_usda_fuel_reduction\n",
      "governance_swcrb_groundwater_quality\n",
      "governance_usda_watershed_risk\n",
      "governance_cnra_protected_areas\n",
      "governance_calfire_timber_management\n",
      "natural_nasa_soil_moisture_anomaly\n",
      "natural_nasa_crop_esi\n",
      "natural_usda_soil_condition_1\n",
      "natural_usda_soil_condition_2\n",
      "natural_usda_soil_condition_3\n",
      "natural_usgs_impervious\n",
      "natural_fws_biodiversity\n",
      "natural_cnra_protected_areas\n",
      "society_acs_gini\n",
      "society_acs_income\n",
      "society_bls_hachman\n",
      "society_hrsa_mental_care_shortage\n",
      "society_hrsa_primary_care_shortage\n",
      "society_hrsa_narcotic_support\n",
      "society_census_business_blood_organ_banks\n",
      "society_census_business_hospitals\n",
      "society_census_business_health_store_facilities\n",
      "society_census_business_engineering_construction\n",
      "society_census_business_specialty_trade\n",
      "society_census_business_appliance_repair_establishments\n",
      "society_cdph_air_conditioning_access\n",
      "society_cdph_violent_crimes\n",
      "society_cdph_working_outdoors\n",
      "society_vulnerable_percent_homelessness_services\n",
      "society_calenviroscreen_emergency_dept_asthma_visits\n",
      "society_calenviroscreen_emergency_dept_myocardial_visits\n",
      "society_calenviroscreen_birth_weight\n",
      "society_calenviroscreen_education_below_HS\n",
      "society_calenviroscreen_nonenglish_speakers\n",
      "society_calenviroscreen_below_poverty_level\n",
      "society_calenviroscreen_unemployment\n",
      "society_calenviroscreen_housing_burdened\n",
      "society_calenviroscreen_impaired_waterbodies\n",
      "society_acs_ambulatory\n",
      "society_acs_cognitive\n",
      "society_acs_financial_assistance\n",
      "society_acs_demographic_over_65\n",
      "society_acs_demographic_under_5\n",
      "society_acs_demographic_american_indian\n",
      "society_acs_health_insurance\n",
      "society_usda_food_accessibility\n"
     ]
    }
   ],
   "source": [
    "for var in included_vars:\n",
    "    # get the file name by itself (no subdirectories)\n",
    "    varname = var\n",
    "    print(varname)\n",
    "    # this is just for metadata creation, so export is set to false and the first\n",
    "    # three variables can be anything\n",
    "    manual_to_aws('all', 'all', 'any', export=False, varname=varname)"
   ]
  }
 ],
 "metadata": {
  "kernelspec": {
   "display_name": "Python 3 (ipykernel)",
   "language": "python",
   "name": "python3"
  },
  "language_info": {
   "codemirror_mode": {
    "name": "ipython",
    "version": 3
   },
   "file_extension": ".py",
   "mimetype": "text/x-python",
   "name": "python",
   "nbconvert_exporter": "python",
   "pygments_lexer": "ipython3",
   "version": "3.9.18"
  }
 },
 "nbformat": 4,
 "nbformat_minor": 4
}
