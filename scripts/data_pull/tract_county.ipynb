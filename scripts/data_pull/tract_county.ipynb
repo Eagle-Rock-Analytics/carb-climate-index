{
 "cells": [
  {
   "cell_type": "markdown",
   "metadata": {},
   "source": [
    "## Creating a new .csv file that contains California tract numbers and their respective counties\n",
    "* pull our foodaccess2019.csv that contains census tract and county names (but does not have full 9128 rows as our CA tract data)\n",
    "* pull our CA tract data that contains all modern census tracts\n",
    "* based on a shared county FP column, map the county names from our foodaccess2019.csv file to every row in our CA tract data"
   ]
  },
  {
   "cell_type": "code",
   "execution_count": 7,
   "metadata": {
    "execution": {
     "iopub.execute_input": "2024-04-29T21:28:43.732520Z",
     "iopub.status.busy": "2024-04-29T21:28:43.731385Z",
     "iopub.status.idle": "2024-04-29T21:28:44.392138Z",
     "shell.execute_reply": "2024-04-29T21:28:44.391646Z",
     "shell.execute_reply.started": "2024-04-29T21:28:43.732445Z"
    }
   },
   "outputs": [],
   "source": [
    "import os\n",
    "import sys\n",
    "import pandas as pd\n",
    "import geopandas as gpd\n",
    "\n",
    "# suppress pandas purely educational warnings\n",
    "from warnings import simplefilter\n",
    "simplefilter(action=\"ignore\", category=pd.errors.PerformanceWarning)\n",
    "sys.path.append(os.path.expanduser('../../'))\n",
    "\n",
    "# Adjust display options, helpful for long descriptions within ACS data\n",
    "pd.set_option('display.max_colwidth', None)\n",
    "\n",
    "from scripts.utils.file_helpers import (\n",
    "    pull_csv_from_directory, upload_csv_aws\n",
    ")"
   ]
  },
  {
   "cell_type": "code",
   "execution_count": null,
   "metadata": {
    "execution": {
     "iopub.execute_input": "2024-04-29T21:28:46.383279Z",
     "iopub.status.busy": "2024-04-29T21:28:46.382176Z",
     "iopub.status.idle": "2024-04-29T21:28:54.032085Z",
     "shell.execute_reply": "2024-04-29T21:28:54.030427Z",
     "shell.execute_reply.started": "2024-04-29T21:28:46.383243Z"
    }
   },
   "outputs": [],
   "source": [
    "bucket_name = 'ca-climate-index'\n",
    "aws_dir = '1_pull_data/society_economy/vulnerable_populations/usda/'\n",
    "output_folder = 'food_access'\n",
    "\n",
    "pull_csv_from_directory(bucket_name, aws_dir, output_folder, search_zipped=False)"
   ]
  },
  {
   "cell_type": "code",
   "execution_count": null,
   "metadata": {},
   "outputs": [],
   "source": [
    "# Set the base directory dynamically (for example, the current working directory or a generic path)\n",
    "base_dir = os.path.expanduser(\"~\")  # This gets the home directory of the user\n",
    "project_folder = os.path.join(base_dir, 'eagle', 'carb-climate-index-7')\n",
    "\n",
    "# Set the output folder path dynamically based on the base directory and project structure\n",
    "output_folder = os.path.join(project_folder, 'food_access')\n",
    "\n",
    "# Count the number of files in the output folder\n",
    "file_count = len([f for f in os.listdir(output_folder) if os.path.isfile(os.path.join(output_folder, f))])\n",
    "\n",
    "# Print the result\n",
    "print(f\"Number of files in the output folder: {file_count}\")\n",
    "\n",
    "# Load the food access CSV file from the project folder\n",
    "food_access_csv_path = os.path.join(output_folder, 'foodaccess2019.csv')\n",
    "food_access = pd.read_csv(food_access_csv_path)"
   ]
  },
  {
   "cell_type": "code",
   "execution_count": null,
   "metadata": {
    "execution": {
     "iopub.execute_input": "2024-04-29T21:28:54.424082Z",
     "iopub.status.busy": "2024-04-29T21:28:54.423976Z",
     "iopub.status.idle": "2024-04-29T21:28:54.436516Z",
     "shell.execute_reply": "2024-04-29T21:28:54.436232Z",
     "shell.execute_reply.started": "2024-04-29T21:28:54.424073Z"
    }
   },
   "outputs": [],
   "source": [
    "food_access.head()"
   ]
  },
  {
   "cell_type": "code",
   "execution_count": null,
   "metadata": {
    "execution": {
     "iopub.execute_input": "2024-04-29T21:28:56.486995Z",
     "iopub.status.busy": "2024-04-29T21:28:56.486242Z",
     "iopub.status.idle": "2024-04-29T21:28:56.515431Z",
     "shell.execute_reply": "2024-04-29T21:28:56.514795Z",
     "shell.execute_reply.started": "2024-04-29T21:28:56.486958Z"
    }
   },
   "outputs": [],
   "source": [
    "# isolate relevant columns\n",
    "tract_county = food_access[['CensusTract', 'County', 'State']]\n",
    "\n",
    "# isolate California data\n",
    "california_tracts = tract_county[tract_county['State'] == 'California']\n",
    "\n",
    "california_tracts"
   ]
  },
  {
   "cell_type": "code",
   "execution_count": null,
   "metadata": {
    "execution": {
     "iopub.execute_input": "2024-04-29T21:28:59.783235Z",
     "iopub.status.busy": "2024-04-29T21:28:59.782356Z",
     "iopub.status.idle": "2024-04-29T21:28:59.819665Z",
     "shell.execute_reply": "2024-04-29T21:28:59.819154Z",
     "shell.execute_reply.started": "2024-04-29T21:28:59.783188Z"
    }
   },
   "outputs": [],
   "source": [
    "# select relevant columns\n",
    "california_tracts_county = california_tracts[['CensusTract', 'County']]\n",
    "\n",
    "# elminate 'county' entries within the County column\n",
    "california_tracts_county.loc[:, 'County'] = california_tracts_county['County'].str.replace(' County', '')\n",
    "california_tracts_county.loc[:,'CensusTract'] = california_tracts_county['CensusTract'].astype(str)\n",
    "# add '0' to the start of each tract entry\n",
    "california_tracts_county.loc[:,'CensusTract'] = '0' + california_tracts_county['CensusTract']\n",
    "# splice the tract number to get county FP code\n",
    "california_tracts_county['COUNTYFP'] = california_tracts_county['CensusTract'].astype(str).str[2:5]\n",
    "california_tracts_county.head(5)"
   ]
  },
  {
   "cell_type": "markdown",
   "metadata": {},
   "source": [
    "#### Now reading in our CA census tract file for processing"
   ]
  },
  {
   "cell_type": "code",
   "execution_count": 14,
   "metadata": {
    "execution": {
     "iopub.execute_input": "2024-04-29T21:29:22.961425Z",
     "iopub.status.busy": "2024-04-29T21:29:22.961002Z",
     "iopub.status.idle": "2024-04-29T21:29:38.815172Z",
     "shell.execute_reply": "2024-04-29T21:29:38.814680Z",
     "shell.execute_reply.started": "2024-04-29T21:29:22.961400Z"
    }
   },
   "outputs": [],
   "source": [
    "# read in CA census tiger file\n",
    "census_shp_dir = \"s3://ca-climate-index/0_map_data/2021_tiger_census_tract/2021_ca_tract/\"\n",
    "ca_boundaries = gpd.read_file(census_shp_dir)"
   ]
  },
  {
   "cell_type": "code",
   "execution_count": null,
   "metadata": {
    "execution": {
     "iopub.execute_input": "2024-04-29T21:29:38.816606Z",
     "iopub.status.busy": "2024-04-29T21:29:38.816497Z",
     "iopub.status.idle": "2024-04-29T21:29:38.822755Z",
     "shell.execute_reply": "2024-04-29T21:29:38.822462Z",
     "shell.execute_reply.started": "2024-04-29T21:29:38.816598Z"
    }
   },
   "outputs": [],
   "source": [
    "# selecting and renaming relevant columns\n",
    "filtered_ca_boundaries = ca_boundaries[['GEOID', 'COUNTYFP']].copy()\n",
    "filtered_ca_boundaries.rename(columns ={'GEOID':'TRACT'}, inplace=True)\n",
    "filtered_ca_boundaries"
   ]
  },
  {
   "cell_type": "markdown",
   "metadata": {},
   "source": [
    "#### Creating a county column for filtered_ca_boundaries based on the shared COUNTYFP with california_tracts_county"
   ]
  },
  {
   "cell_type": "code",
   "execution_count": 16,
   "metadata": {
    "execution": {
     "iopub.execute_input": "2024-04-29T21:29:38.829359Z",
     "iopub.status.busy": "2024-04-29T21:29:38.829141Z",
     "iopub.status.idle": "2024-04-29T21:29:38.838392Z",
     "shell.execute_reply": "2024-04-29T21:29:38.837993Z",
     "shell.execute_reply.started": "2024-04-29T21:29:38.829332Z"
    }
   },
   "outputs": [],
   "source": [
    "# create a mapping dictionary from 'COUNTYFP' to 'County' from california_tracts_county\n",
    "county_mapping = california_tracts_county.set_index('COUNTYFP')['County'].to_dict()\n",
    "\n",
    "# map the 'County' values from california_tracts_county to filtered_ca_boundaries based on 'COUNTYFP'\n",
    "filtered_ca_boundaries.loc[:,'County'] = filtered_ca_boundaries['COUNTYFP'].map(county_mapping)"
   ]
  },
  {
   "cell_type": "code",
   "execution_count": null,
   "metadata": {
    "execution": {
     "iopub.execute_input": "2024-04-29T21:29:38.838984Z",
     "iopub.status.busy": "2024-04-29T21:29:38.838879Z",
     "iopub.status.idle": "2024-04-29T21:29:38.843487Z",
     "shell.execute_reply": "2024-04-29T21:29:38.843096Z",
     "shell.execute_reply.started": "2024-04-29T21:29:38.838974Z"
    }
   },
   "outputs": [],
   "source": [
    "print(len(filtered_ca_boundaries))\n",
    "filtered_ca_boundaries.tail(5)"
   ]
  },
  {
   "cell_type": "markdown",
   "metadata": {},
   "source": [
    "#### Making sure all rows within the new county column are populated"
   ]
  },
  {
   "cell_type": "code",
   "execution_count": null,
   "metadata": {
    "execution": {
     "iopub.execute_input": "2024-04-29T21:30:00.162734Z",
     "iopub.status.busy": "2024-04-29T21:30:00.162055Z",
     "iopub.status.idle": "2024-04-29T21:30:00.175750Z",
     "shell.execute_reply": "2024-04-29T21:30:00.173638Z",
     "shell.execute_reply.started": "2024-04-29T21:30:00.162700Z"
    }
   },
   "outputs": [],
   "source": [
    "# check if there are any missing values in the 'County' column of filtered_ca_boundaries\n",
    "missing_counties = filtered_ca_boundaries['County'].isnull().sum()\n",
    "\n",
    "if missing_counties == 0:\n",
    "    print(\"All rows in filtered_ca_boundaries have been populated in the new 'County' column.\")\n",
    "else:\n",
    "    print(f\"There are {missing_counties} rows in filtered_ca_boundaries with missing values in the 'County' column.\")"
   ]
  },
  {
   "cell_type": "markdown",
   "metadata": {},
   "source": [
    "#### Upload to AWS"
   ]
  },
  {
   "cell_type": "code",
   "execution_count": null,
   "metadata": {},
   "outputs": [],
   "source": [
    "# save data as a csv\n",
    "filtered_ca_boundaries.to_csv('ca_tracts_county.csv')\n",
    "\n",
    "# upload csv to aws\n",
    "bucket_name = 'ca-climate-index'\n",
    "file_name = 'ca_tracts_county.csv'\n",
    "directory = '0_map_data'\n",
    "\n",
    "upload_csv_aws([file_name], bucket_name, directory)\n",
    "# Remove final csv files from local directory\n",
    "os.remove(file_name)"
   ]
  }
 ],
 "metadata": {
  "kernelspec": {
   "display_name": "Python 3 (ipykernel)",
   "language": "python",
   "name": "python3"
  },
  "language_info": {
   "codemirror_mode": {
    "name": "ipython",
    "version": 3
   },
   "file_extension": ".py",
   "mimetype": "text/x-python",
   "name": "python",
   "nbconvert_exporter": "python",
   "pygments_lexer": "ipython3",
   "version": "3.9.18"
  }
 },
 "nbformat": 4,
 "nbformat_minor": 4
}
