{
 "cells": [
  {
   "cell_type": "markdown",
   "id": "2c18dcfb",
   "metadata": {},
   "source": [
    "## Cal-CRAI Data Pull -- Wildfire Data\n",
    "This notebook processes crop loss data sourced from Cal-Adapt: \\\n",
    "https://cal-adapt.org/tools/wildfire/\n",
    "\n",
    "Data pulling includes:\n",
    "* Uploads manually downloaded NetCDF files as zarrs\n",
    "\n",
    "Outputs are uploaded to 1_pull_data directory within AWS"
   ]
  },
  {
   "cell_type": "code",
   "execution_count": 10,
   "id": "a57ba8da-3815-4b86-9298-022c07a73fa7",
   "metadata": {
    "execution": {
     "iopub.execute_input": "2024-08-06T22:07:22.388214Z",
     "iopub.status.busy": "2024-08-06T22:07:22.387438Z",
     "iopub.status.idle": "2024-08-06T22:07:22.564774Z",
     "shell.execute_reply": "2024-08-06T22:07:22.564448Z",
     "shell.execute_reply.started": "2024-08-06T22:07:22.388162Z"
    }
   },
   "outputs": [],
   "source": [
    "import pandas as pd\n",
    "import os\n",
    "import sys\n",
    "import math\n",
    "import geopandas as gpd\n",
    "import xarray as xr\n",
    "# suppress pandas purely educational warnings\n",
    "from warnings import simplefilter\n",
    "simplefilter(action=\"ignore\", category=pd.errors.PerformanceWarning)\n",
    "\n",
    "sys.path.append(os.path.expanduser('../../'))\n",
    "from scripts.utils.file_helpers import to_zarr"
   ]
  },
  {
   "cell_type": "code",
   "execution_count": 7,
   "id": "e4096ccb-91da-4bab-b509-f78e443fa814",
   "metadata": {
    "execution": {
     "iopub.execute_input": "2024-08-06T22:01:13.158177Z",
     "iopub.status.busy": "2024-08-06T22:01:13.157058Z",
     "iopub.status.idle": "2024-08-06T22:01:13.167858Z",
     "shell.execute_reply": "2024-08-06T22:01:13.165191Z",
     "shell.execute_reply.started": "2024-08-06T22:01:13.158114Z"
    }
   },
   "outputs": [],
   "source": [
    "# upload and send nc files as zarrs to bucket\n",
    "files_85 = [\n",
    "    'CanESM2_85_AA.monthly_all.bau.mu.nc',\n",
    "    'HadGEM2-ES_85_AA.monthly_all.bau.mu.nc',\n",
    "    'MIROC5_85_AA.monthly_all.bau.mu.nc',\n",
    "    'CNRM-CM5_85_AA.monthly_all.bau.mu.nc'\n",
    "]\n",
    "\n",
    "files_45 = [\n",
    "    'CanESM2_45_AA.monthly_all.bau.mu.nc',\n",
    "    'HadGEM2-ES_45_AA.monthly_all.bau.mu.nc',\n",
    "    'MIROC5_45_AA.monthly_all.bau.mu.nc', \n",
    "    'CNRM-CM5_45_AA.monthly_all.bau.mu.nc',\n",
    "]"
   ]
  },
  {
   "cell_type": "code",
   "execution_count": null,
   "id": "3fe6868e-4935-4f31-80f5-15f08031c9b5",
   "metadata": {
    "execution": {
     "iopub.execute_input": "2024-08-06T22:07:49.976788Z",
     "iopub.status.busy": "2024-08-06T22:07:49.975704Z",
     "iopub.status.idle": "2024-08-06T22:10:00.472564Z",
     "shell.execute_reply": "2024-08-06T22:10:00.471435Z",
     "shell.execute_reply.started": "2024-08-06T22:07:49.976726Z"
    }
   },
   "outputs": [],
   "source": [
    "for file in files_45:\n",
    "    ds = xr.open_dataset(file, decode_times=False)\n",
    "    print(file)\n",
    "    to_zarr(ds, top_dir='1_pull_data', domain='climate_risk', indicator='wildfire/loss/projections', data_source='caladapt', save_name=file)"
   ]
  },
  {
   "cell_type": "code",
   "execution_count": null,
   "id": "96b4d27a-3edf-4947-b887-48c4d11a5e7b",
   "metadata": {
    "execution": {
     "iopub.execute_input": "2024-08-06T22:10:00.475617Z",
     "iopub.status.busy": "2024-08-06T22:10:00.475107Z",
     "iopub.status.idle": "2024-08-06T22:12:13.748867Z",
     "shell.execute_reply": "2024-08-06T22:12:13.747159Z",
     "shell.execute_reply.started": "2024-08-06T22:10:00.475581Z"
    }
   },
   "outputs": [],
   "source": [
    "for file in files_85:\n",
    "    ds = xr.open_dataset(file, decode_times=False)\n",
    "    print(file)\n",
    "    to_zarr(ds, top_dir='1_pull_data', domain='climate_risk', indicator='wildfire/loss/projections', data_source='caladapt', save_name=file)"
   ]
  }
 ],
 "metadata": {
  "kernelspec": {
   "display_name": "Python 3 (ipykernel)",
   "language": "python",
   "name": "python3"
  },
  "language_info": {
   "codemirror_mode": {
    "name": "ipython",
    "version": 3
   },
   "file_extension": ".py",
   "mimetype": "text/x-python",
   "name": "python",
   "nbconvert_exporter": "python",
   "pygments_lexer": "ipython3",
   "version": "3.9.18"
  }
 },
 "nbformat": 4,
 "nbformat_minor": 5
}
