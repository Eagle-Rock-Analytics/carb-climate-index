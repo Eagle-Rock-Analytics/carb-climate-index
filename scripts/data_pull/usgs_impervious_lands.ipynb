{
 "cells": [
  {
   "cell_type": "markdown",
   "id": "e46f9a90-de21-490c-a6f8-80c19de1c295",
   "metadata": {},
   "source": [
    "# Upload USGS % impervious developed land to AWS\n",
    "The USGS 2021 impervious lands data is CONUS-wide and very large (24 GB). This notebook subsets the locally saved tiff to CA then sends the resultant zarr to the S3 pull bucket. "
   ]
  },
  {
   "cell_type": "code",
   "execution_count": 1,
   "id": "f486a0f0-ff60-481f-ad76-7d0749a98dd0",
   "metadata": {
    "execution": {
     "iopub.execute_input": "2024-08-02T22:53:13.078835Z",
     "iopub.status.busy": "2024-08-02T22:53:13.078579Z",
     "iopub.status.idle": "2024-08-02T22:53:14.431041Z",
     "shell.execute_reply": "2024-08-02T22:53:14.430425Z",
     "shell.execute_reply.started": "2024-08-02T22:53:13.078821Z"
    }
   },
   "outputs": [],
   "source": [
    "import xarray as xr\n",
    "import rioxarray as rxr\n",
    "import geopandas as gpd\n",
    "import os\n",
    "import sys\n",
    "import boto3\n",
    "\n",
    "sys.path.append(os.path.expanduser('../../'))\n",
    "from scripts.utils.write_metadata import append_metadata\n",
    "from scripts.utils.file_helpers import to_zarr"
   ]
  },
  {
   "cell_type": "code",
   "execution_count": 5,
   "id": "8c260ce4-f5cd-4fd9-b109-2c5ae60f4354",
   "metadata": {
    "execution": {
     "iopub.execute_input": "2024-08-02T22:58:11.753187Z",
     "iopub.status.busy": "2024-08-02T22:58:11.752791Z",
     "iopub.status.idle": "2024-08-02T22:58:11.758516Z",
     "shell.execute_reply": "2024-08-02T22:58:11.757730Z",
     "shell.execute_reply.started": "2024-08-02T22:58:11.753172Z"
    }
   },
   "outputs": [],
   "source": [
    "# @append_metadata\n",
    "def subset_to_CA(input_file_name, save_name, export=False, varname=''):\n",
    "    '''\n",
    "    Subsets USGS impervious lands data to California, then uploads to AWS subset bucket\n",
    "    \n",
    "    Note:\n",
    "    This function assumes users have configured the AWS CLI such that their access key / secret key pair are stored in ~/.aws/credentials.\n",
    "    See https://docs.aws.amazon.com/cli/latest/userguide/getting-started-install.html for guidance.\n",
    "    \n",
    "    Parameters\n",
    "    ----------\n",
    "    input_file_name: string\n",
    "        Name of origional .csv file    \n",
    "    ca_boundaries: \n",
    "        Read-in gpd file of California Census Tracts\n",
    "    save_name: string\n",
    "        Final output as a .csv file   \n",
    "    export: bool\n",
    "        If True, runs code and uploads output file to S3\n",
    "        If False, just generates metadata\n",
    "\n",
    "    Script\n",
    "    ------\n",
    "    usgs_impervious_lands_subset.ipynb\n",
    "    '''   \n",
    "    ## set-up for AWS  \n",
    "    s3_client = boto3.client('s3')  \n",
    "    bucket_name = 'ca-climate-index'  \n",
    "\n",
    "    top_dir = '1_pull_data'\n",
    "    domain = 'natural_systems'\n",
    "    indicator = 'ecosystem_condition'\n",
    "    data_source = 'usgs'\n",
    "    output_file_name =  '{0}/{1}/{2}/{3}/{4}.zarr'.format(\n",
    "    top_dir, domain, indicator, data_source, save_name\n",
    "    )\n",
    "    output_file_name = \"s3://ca-climate-index/\"+output_file_name\n",
    "    print(f'{output_file_name} uploaded to AWS.')\n",
    "    \n",
    "    # run code if export is true, if false, nothing happens (useful when appending metadata)\n",
    "    if export == True: \n",
    "        # read in raster covering CONUS\n",
    "        ds = rxr.open_rasterio(input_file_name).squeeze()\n",
    "\n",
    "        # read in CA state shapefile\n",
    "        ca_shp_dir = \"s3://ca-climate-index/0_map_data/ca_state/\"\n",
    "        ca_shp = gpd.read_file(ca_shp_dir)\n",
    "        # reproject CA boundaries to the raster's CRS\n",
    "        ca_shp = ca_shp.to_crs(ds.rio.crs)\n",
    "        ca_bounds = ca_shp.bounds\n",
    "        minx = ca_bounds.minx.values[0]\n",
    "        maxx = ca_bounds.maxx.values[0]\n",
    "        miny = ca_bounds.miny.values[0]\n",
    "        maxy = ca_bounds.maxy.values[0]\n",
    "        \n",
    "        # subset raster to CA only\n",
    "        ds_bnd = ds.sel(x=slice(minx, maxx),y=slice(maxy, miny))\n",
    "        ds_bnd.name = \"impervious_surface\"\n",
    "        ds_bnd = ds_bnd.to_dataset()\n",
    "        ds_bnd = ds_bnd.chunk(chunks=\"auto\")\n",
    "        ds_bnd.to_zarr(output_file_name, mode='w')       \n"
   ]
  },
  {
   "cell_type": "code",
   "execution_count": 6,
   "id": "6c087dfd-88a7-4ce9-b325-c462133db260",
   "metadata": {
    "execution": {
     "iopub.execute_input": "2024-08-02T22:58:12.977034Z",
     "iopub.status.busy": "2024-08-02T22:58:12.976488Z",
     "iopub.status.idle": "2024-08-02T22:58:32.194890Z",
     "shell.execute_reply": "2024-08-02T22:58:32.194283Z",
     "shell.execute_reply.started": "2024-08-02T22:58:12.977019Z"
    },
    "scrolled": true
   },
   "outputs": [
    {
     "name": "stdout",
     "output_type": "stream",
     "text": [
      "s3://ca-climate-index/1_pull_data/natural_systems/ecosystem_condition/usgs/nlcd_ca_developed_impervious.zarr uploaded to AWS.\n"
     ]
    }
   ],
   "source": [
    "# read in raster file\n",
    "# this is saved locally rather than in S3 because it is very large! \n",
    "datpath = os.path.join(\n",
    "    \"/mnt\", \"c\", \"Users\", \"eliza\", \"Downloads\", \n",
    "    \"nlcd_2021_impervious_l48_20230630\",\n",
    "  \"nlcd_2021_impervious_l48_20230630.img\"\n",
    "                      )\n",
    "save_name = 'nlcd_ca_developed_impervious'\n",
    "\n",
    "subset_to_CA(datpath, save_name, export=True, varname='test')"
   ]
  }
 ],
 "metadata": {
  "kernelspec": {
   "display_name": "Python 3 (ipykernel)",
   "language": "python",
   "name": "python3"
  },
  "language_info": {
   "codemirror_mode": {
    "name": "ipython",
    "version": 3
   },
   "file_extension": ".py",
   "mimetype": "text/x-python",
   "name": "python",
   "nbconvert_exporter": "python",
   "pygments_lexer": "ipython3",
   "version": "3.9.18"
  }
 },
 "nbformat": 4,
 "nbformat_minor": 5
}
