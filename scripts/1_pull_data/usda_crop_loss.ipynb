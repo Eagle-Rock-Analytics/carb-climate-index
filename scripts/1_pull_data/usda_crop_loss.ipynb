{
 "cells": [
  {
   "cell_type": "code",
   "execution_count": 1,
   "metadata": {},
   "outputs": [
    {
     "name": "stdout",
     "output_type": "stream",
     "text": [
      "Requirement already satisfied: boto3 in c:\\users\\jesse\\miniconda3\\envs\\carb\\lib\\site-packages (1.28.64)Note: you may need to restart the kernel to use updated packages.\n",
      "\n",
      "Requirement already satisfied: botocore<1.32.0,>=1.31.64 in c:\\users\\jesse\\miniconda3\\envs\\carb\\lib\\site-packages (from boto3) (1.31.64)\n",
      "Requirement already satisfied: jmespath<2.0.0,>=0.7.1 in c:\\users\\jesse\\miniconda3\\envs\\carb\\lib\\site-packages (from boto3) (1.0.1)\n",
      "Requirement already satisfied: s3transfer<0.8.0,>=0.7.0 in c:\\users\\jesse\\miniconda3\\envs\\carb\\lib\\site-packages (from boto3) (0.7.0)\n",
      "Requirement already satisfied: python-dateutil<3.0.0,>=2.1 in c:\\users\\jesse\\miniconda3\\envs\\carb\\lib\\site-packages (from botocore<1.32.0,>=1.31.64->boto3) (2.8.2)\n",
      "Requirement already satisfied: urllib3<1.27,>=1.25.4 in c:\\users\\jesse\\miniconda3\\envs\\carb\\lib\\site-packages (from botocore<1.32.0,>=1.31.64->boto3) (1.26.18)\n",
      "Requirement already satisfied: six>=1.5 in c:\\users\\jesse\\miniconda3\\envs\\carb\\lib\\site-packages (from python-dateutil<3.0.0,>=2.1->botocore<1.32.0,>=1.31.64->boto3) (1.16.0)\n"
     ]
    }
   ],
   "source": [
    "pip install boto3\n"
   ]
  },
  {
   "cell_type": "code",
   "execution_count": 2,
   "metadata": {},
   "outputs": [],
   "source": [
    "import os\n",
    "import zipfile\n",
    "import csv\n",
    "from datetime import datetime\n",
    "import boto3\n",
    "from io import StringIO\n",
    "import pandas as pd"
   ]
  },
  {
   "cell_type": "code",
   "execution_count": 4,
   "metadata": {},
   "outputs": [
    {
     "name": "stdout",
     "output_type": "stream",
     "text": [
      "C:\\Users\\jesse\\.aws\\credentials\n"
     ]
    },
    {
     "ename": "ConfigParseError",
     "evalue": "Unable to parse config file: C:\\Users\\jesse/.aws/credentials",
     "output_type": "error",
     "traceback": [
      "\u001b[1;31m---------------------------------------------------------------------------\u001b[0m",
      "\u001b[1;31mConfigParseError\u001b[0m                          Traceback (most recent call last)",
      "Cell \u001b[1;32mIn[4], line 10\u001b[0m\n\u001b[0;32m      8\u001b[0m \u001b[38;5;28mprint\u001b[39m(corrected_file_path)\n\u001b[0;32m      9\u001b[0m \u001b[38;5;66;03m## set-up for AWS  \u001b[39;00m\n\u001b[1;32m---> 10\u001b[0m s3_client \u001b[38;5;241m=\u001b[39m \u001b[43mboto3\u001b[49m\u001b[38;5;241;43m.\u001b[39;49m\u001b[43mclient\u001b[49m\u001b[43m(\u001b[49m\u001b[38;5;124;43m'\u001b[39;49m\u001b[38;5;124;43ms3\u001b[39;49m\u001b[38;5;124;43m'\u001b[39;49m\u001b[43m)\u001b[49m  \n\u001b[0;32m     11\u001b[0m \u001b[38;5;66;03m#s3_cl = boto3.resource('s3')  \u001b[39;00m\n\u001b[0;32m     12\u001b[0m bucket_name \u001b[38;5;241m=\u001b[39m \u001b[38;5;124m'\u001b[39m\u001b[38;5;124mca-climate-index\u001b[39m\u001b[38;5;124m'\u001b[39m  \n",
      "File \u001b[1;32mc:\\Users\\jesse\\miniconda3\\envs\\carb\\lib\\site-packages\\boto3\\__init__.py:92\u001b[0m, in \u001b[0;36mclient\u001b[1;34m(*args, **kwargs)\u001b[0m\n\u001b[0;32m     86\u001b[0m \u001b[38;5;28;01mdef\u001b[39;00m \u001b[38;5;21mclient\u001b[39m(\u001b[38;5;241m*\u001b[39margs, \u001b[38;5;241m*\u001b[39m\u001b[38;5;241m*\u001b[39mkwargs):\n\u001b[0;32m     87\u001b[0m \u001b[38;5;250m    \u001b[39m\u001b[38;5;124;03m\"\"\"\u001b[39;00m\n\u001b[0;32m     88\u001b[0m \u001b[38;5;124;03m    Create a low-level service client by name using the default session.\u001b[39;00m\n\u001b[0;32m     89\u001b[0m \n\u001b[0;32m     90\u001b[0m \u001b[38;5;124;03m    See :py:meth:`boto3.session.Session.client`.\u001b[39;00m\n\u001b[0;32m     91\u001b[0m \u001b[38;5;124;03m    \"\"\"\u001b[39;00m\n\u001b[1;32m---> 92\u001b[0m     \u001b[38;5;28;01mreturn\u001b[39;00m \u001b[43m_get_default_session\u001b[49m\u001b[43m(\u001b[49m\u001b[43m)\u001b[49m\u001b[38;5;241m.\u001b[39mclient(\u001b[38;5;241m*\u001b[39margs, \u001b[38;5;241m*\u001b[39m\u001b[38;5;241m*\u001b[39mkwargs)\n",
      "File \u001b[1;32mc:\\Users\\jesse\\miniconda3\\envs\\carb\\lib\\site-packages\\boto3\\__init__.py:80\u001b[0m, in \u001b[0;36m_get_default_session\u001b[1;34m()\u001b[0m\n\u001b[0;32m     73\u001b[0m \u001b[38;5;250m\u001b[39m\u001b[38;5;124;03m\"\"\"\u001b[39;00m\n\u001b[0;32m     74\u001b[0m \u001b[38;5;124;03mGet the default session, creating one if needed.\u001b[39;00m\n\u001b[0;32m     75\u001b[0m \n\u001b[0;32m     76\u001b[0m \u001b[38;5;124;03m:rtype: :py:class:`~boto3.session.Session`\u001b[39;00m\n\u001b[0;32m     77\u001b[0m \u001b[38;5;124;03m:return: The default session\u001b[39;00m\n\u001b[0;32m     78\u001b[0m \u001b[38;5;124;03m\"\"\"\u001b[39;00m\n\u001b[0;32m     79\u001b[0m \u001b[38;5;28;01mif\u001b[39;00m DEFAULT_SESSION \u001b[38;5;129;01mis\u001b[39;00m \u001b[38;5;28;01mNone\u001b[39;00m:\n\u001b[1;32m---> 80\u001b[0m     \u001b[43msetup_default_session\u001b[49m\u001b[43m(\u001b[49m\u001b[43m)\u001b[49m\n\u001b[0;32m     81\u001b[0m _warn_deprecated_python()\n\u001b[0;32m     83\u001b[0m \u001b[38;5;28;01mreturn\u001b[39;00m DEFAULT_SESSION\n",
      "File \u001b[1;32mc:\\Users\\jesse\\miniconda3\\envs\\carb\\lib\\site-packages\\boto3\\__init__.py:34\u001b[0m, in \u001b[0;36msetup_default_session\u001b[1;34m(**kwargs)\u001b[0m\n\u001b[0;32m     28\u001b[0m \u001b[38;5;250m\u001b[39m\u001b[38;5;124;03m\"\"\"\u001b[39;00m\n\u001b[0;32m     29\u001b[0m \u001b[38;5;124;03mSet up a default session, passing through any parameters to the session\u001b[39;00m\n\u001b[0;32m     30\u001b[0m \u001b[38;5;124;03mconstructor. There is no need to call this unless you wish to pass custom\u001b[39;00m\n\u001b[0;32m     31\u001b[0m \u001b[38;5;124;03mparameters, because a default session will be created for you.\u001b[39;00m\n\u001b[0;32m     32\u001b[0m \u001b[38;5;124;03m\"\"\"\u001b[39;00m\n\u001b[0;32m     33\u001b[0m \u001b[38;5;28;01mglobal\u001b[39;00m DEFAULT_SESSION\n\u001b[1;32m---> 34\u001b[0m DEFAULT_SESSION \u001b[38;5;241m=\u001b[39m Session(\u001b[38;5;241m*\u001b[39m\u001b[38;5;241m*\u001b[39mkwargs)\n",
      "File \u001b[1;32mc:\\Users\\jesse\\miniconda3\\envs\\carb\\lib\\site-packages\\boto3\\session.py:90\u001b[0m, in \u001b[0;36mSession.__init__\u001b[1;34m(self, aws_access_key_id, aws_secret_access_key, aws_session_token, region_name, botocore_session, profile_name)\u001b[0m\n\u001b[0;32m     85\u001b[0m     \u001b[38;5;28mself\u001b[39m\u001b[38;5;241m.\u001b[39m_session\u001b[38;5;241m.\u001b[39mset_config_variable(\u001b[38;5;124m'\u001b[39m\u001b[38;5;124mregion\u001b[39m\u001b[38;5;124m'\u001b[39m, region_name)\n\u001b[0;32m     87\u001b[0m \u001b[38;5;28mself\u001b[39m\u001b[38;5;241m.\u001b[39mresource_factory \u001b[38;5;241m=\u001b[39m ResourceFactory(\n\u001b[0;32m     88\u001b[0m     \u001b[38;5;28mself\u001b[39m\u001b[38;5;241m.\u001b[39m_session\u001b[38;5;241m.\u001b[39mget_component(\u001b[38;5;124m'\u001b[39m\u001b[38;5;124mevent_emitter\u001b[39m\u001b[38;5;124m'\u001b[39m)\n\u001b[0;32m     89\u001b[0m )\n\u001b[1;32m---> 90\u001b[0m \u001b[38;5;28;43mself\u001b[39;49m\u001b[38;5;241;43m.\u001b[39;49m\u001b[43m_setup_loader\u001b[49m\u001b[43m(\u001b[49m\u001b[43m)\u001b[49m\n\u001b[0;32m     91\u001b[0m \u001b[38;5;28mself\u001b[39m\u001b[38;5;241m.\u001b[39m_register_default_handlers()\n",
      "File \u001b[1;32mc:\\Users\\jesse\\miniconda3\\envs\\carb\\lib\\site-packages\\boto3\\session.py:131\u001b[0m, in \u001b[0;36mSession._setup_loader\u001b[1;34m(self)\u001b[0m\n\u001b[0;32m    127\u001b[0m \u001b[38;5;28;01mdef\u001b[39;00m \u001b[38;5;21m_setup_loader\u001b[39m(\u001b[38;5;28mself\u001b[39m):\n\u001b[0;32m    128\u001b[0m \u001b[38;5;250m    \u001b[39m\u001b[38;5;124;03m\"\"\"\u001b[39;00m\n\u001b[0;32m    129\u001b[0m \u001b[38;5;124;03m    Setup loader paths so that we can load resources.\u001b[39;00m\n\u001b[0;32m    130\u001b[0m \u001b[38;5;124;03m    \"\"\"\u001b[39;00m\n\u001b[1;32m--> 131\u001b[0m     \u001b[38;5;28mself\u001b[39m\u001b[38;5;241m.\u001b[39m_loader \u001b[38;5;241m=\u001b[39m \u001b[38;5;28;43mself\u001b[39;49m\u001b[38;5;241;43m.\u001b[39;49m\u001b[43m_session\u001b[49m\u001b[38;5;241;43m.\u001b[39;49m\u001b[43mget_component\u001b[49m\u001b[43m(\u001b[49m\u001b[38;5;124;43m'\u001b[39;49m\u001b[38;5;124;43mdata_loader\u001b[39;49m\u001b[38;5;124;43m'\u001b[39;49m\u001b[43m)\u001b[49m\n\u001b[0;32m    132\u001b[0m     \u001b[38;5;28mself\u001b[39m\u001b[38;5;241m.\u001b[39m_loader\u001b[38;5;241m.\u001b[39msearch_paths\u001b[38;5;241m.\u001b[39mappend(\n\u001b[0;32m    133\u001b[0m         os\u001b[38;5;241m.\u001b[39mpath\u001b[38;5;241m.\u001b[39mjoin(os\u001b[38;5;241m.\u001b[39mpath\u001b[38;5;241m.\u001b[39mdirname(\u001b[38;5;18m__file__\u001b[39m), \u001b[38;5;124m'\u001b[39m\u001b[38;5;124mdata\u001b[39m\u001b[38;5;124m'\u001b[39m)\n\u001b[0;32m    134\u001b[0m     )\n",
      "File \u001b[1;32mc:\\Users\\jesse\\miniconda3\\envs\\carb\\lib\\site-packages\\botocore\\session.py:802\u001b[0m, in \u001b[0;36mSession.get_component\u001b[1;34m(self, name)\u001b[0m\n\u001b[0;32m    800\u001b[0m \u001b[38;5;28;01mdef\u001b[39;00m \u001b[38;5;21mget_component\u001b[39m(\u001b[38;5;28mself\u001b[39m, name):\n\u001b[0;32m    801\u001b[0m     \u001b[38;5;28;01mtry\u001b[39;00m:\n\u001b[1;32m--> 802\u001b[0m         \u001b[38;5;28;01mreturn\u001b[39;00m \u001b[38;5;28;43mself\u001b[39;49m\u001b[38;5;241;43m.\u001b[39;49m\u001b[43m_components\u001b[49m\u001b[38;5;241;43m.\u001b[39;49m\u001b[43mget_component\u001b[49m\u001b[43m(\u001b[49m\u001b[43mname\u001b[49m\u001b[43m)\u001b[49m\n\u001b[0;32m    803\u001b[0m     \u001b[38;5;28;01mexcept\u001b[39;00m \u001b[38;5;167;01mValueError\u001b[39;00m:\n\u001b[0;32m    804\u001b[0m         \u001b[38;5;28;01mif\u001b[39;00m name \u001b[38;5;129;01min\u001b[39;00m [\u001b[38;5;124m'\u001b[39m\u001b[38;5;124mendpoint_resolver\u001b[39m\u001b[38;5;124m'\u001b[39m, \u001b[38;5;124m'\u001b[39m\u001b[38;5;124mexceptions_factory\u001b[39m\u001b[38;5;124m'\u001b[39m]:\n",
      "File \u001b[1;32mc:\\Users\\jesse\\miniconda3\\envs\\carb\\lib\\site-packages\\botocore\\session.py:1140\u001b[0m, in \u001b[0;36mComponentLocator.get_component\u001b[1;34m(self, name)\u001b[0m\n\u001b[0;32m   1138\u001b[0m \u001b[38;5;28;01mif\u001b[39;00m name \u001b[38;5;129;01min\u001b[39;00m \u001b[38;5;28mself\u001b[39m\u001b[38;5;241m.\u001b[39m_deferred:\n\u001b[0;32m   1139\u001b[0m     factory \u001b[38;5;241m=\u001b[39m \u001b[38;5;28mself\u001b[39m\u001b[38;5;241m.\u001b[39m_deferred[name]\n\u001b[1;32m-> 1140\u001b[0m     \u001b[38;5;28mself\u001b[39m\u001b[38;5;241m.\u001b[39m_components[name] \u001b[38;5;241m=\u001b[39m \u001b[43mfactory\u001b[49m\u001b[43m(\u001b[49m\u001b[43m)\u001b[49m\n\u001b[0;32m   1141\u001b[0m     \u001b[38;5;66;03m# Only delete the component from the deferred dict after\u001b[39;00m\n\u001b[0;32m   1142\u001b[0m     \u001b[38;5;66;03m# successfully creating the object from the factory as well as\u001b[39;00m\n\u001b[0;32m   1143\u001b[0m     \u001b[38;5;66;03m# injecting the instantiated value into the _components dict.\u001b[39;00m\n\u001b[0;32m   1144\u001b[0m     \u001b[38;5;28;01mtry\u001b[39;00m:\n",
      "File \u001b[1;32mc:\\Users\\jesse\\miniconda3\\envs\\carb\\lib\\site-packages\\botocore\\session.py:199\u001b[0m, in \u001b[0;36mSession._register_data_loader.<locals>.<lambda>\u001b[1;34m()\u001b[0m\n\u001b[0;32m    196\u001b[0m \u001b[38;5;28;01mdef\u001b[39;00m \u001b[38;5;21m_register_data_loader\u001b[39m(\u001b[38;5;28mself\u001b[39m):\n\u001b[0;32m    197\u001b[0m     \u001b[38;5;28mself\u001b[39m\u001b[38;5;241m.\u001b[39m_components\u001b[38;5;241m.\u001b[39mlazy_register_component(\n\u001b[0;32m    198\u001b[0m         \u001b[38;5;124m'\u001b[39m\u001b[38;5;124mdata_loader\u001b[39m\u001b[38;5;124m'\u001b[39m,\n\u001b[1;32m--> 199\u001b[0m         \u001b[38;5;28;01mlambda\u001b[39;00m: create_loader(\u001b[38;5;28;43mself\u001b[39;49m\u001b[38;5;241;43m.\u001b[39;49m\u001b[43mget_config_variable\u001b[49m\u001b[43m(\u001b[49m\u001b[38;5;124;43m'\u001b[39;49m\u001b[38;5;124;43mdata_path\u001b[39;49m\u001b[38;5;124;43m'\u001b[39;49m\u001b[43m)\u001b[49m),\n\u001b[0;32m    200\u001b[0m     )\n",
      "File \u001b[1;32mc:\\Users\\jesse\\miniconda3\\envs\\carb\\lib\\site-packages\\botocore\\session.py:323\u001b[0m, in \u001b[0;36mSession.get_config_variable\u001b[1;34m(self, logical_name, methods)\u001b[0m\n\u001b[0;32m    319\u001b[0m \u001b[38;5;28;01mif\u001b[39;00m methods \u001b[38;5;129;01mis\u001b[39;00m \u001b[38;5;129;01mnot\u001b[39;00m \u001b[38;5;28;01mNone\u001b[39;00m:\n\u001b[0;32m    320\u001b[0m     \u001b[38;5;28;01mreturn\u001b[39;00m \u001b[38;5;28mself\u001b[39m\u001b[38;5;241m.\u001b[39m_get_config_variable_with_custom_methods(\n\u001b[0;32m    321\u001b[0m         logical_name, methods\n\u001b[0;32m    322\u001b[0m     )\n\u001b[1;32m--> 323\u001b[0m \u001b[38;5;28;01mreturn\u001b[39;00m \u001b[38;5;28;43mself\u001b[39;49m\u001b[38;5;241;43m.\u001b[39;49m\u001b[43mget_component\u001b[49m\u001b[43m(\u001b[49m\u001b[38;5;124;43m'\u001b[39;49m\u001b[38;5;124;43mconfig_store\u001b[39;49m\u001b[38;5;124;43m'\u001b[39;49m\u001b[43m)\u001b[49m\u001b[38;5;241;43m.\u001b[39;49m\u001b[43mget_config_variable\u001b[49m\u001b[43m(\u001b[49m\n\u001b[0;32m    324\u001b[0m \u001b[43m    \u001b[49m\u001b[43mlogical_name\u001b[49m\n\u001b[0;32m    325\u001b[0m \u001b[43m\u001b[49m\u001b[43m)\u001b[49m\n",
      "File \u001b[1;32mc:\\Users\\jesse\\miniconda3\\envs\\carb\\lib\\site-packages\\botocore\\configprovider.py:459\u001b[0m, in \u001b[0;36mConfigValueStore.get_config_variable\u001b[1;34m(self, logical_name)\u001b[0m\n\u001b[0;32m    457\u001b[0m     \u001b[38;5;28;01mreturn\u001b[39;00m \u001b[38;5;28;01mNone\u001b[39;00m\n\u001b[0;32m    458\u001b[0m provider \u001b[38;5;241m=\u001b[39m \u001b[38;5;28mself\u001b[39m\u001b[38;5;241m.\u001b[39m_mapping[logical_name]\n\u001b[1;32m--> 459\u001b[0m \u001b[38;5;28;01mreturn\u001b[39;00m \u001b[43mprovider\u001b[49m\u001b[38;5;241;43m.\u001b[39;49m\u001b[43mprovide\u001b[49m\u001b[43m(\u001b[49m\u001b[43m)\u001b[49m\n",
      "File \u001b[1;32mc:\\Users\\jesse\\miniconda3\\envs\\carb\\lib\\site-packages\\botocore\\configprovider.py:665\u001b[0m, in \u001b[0;36mChainProvider.provide\u001b[1;34m(self)\u001b[0m\n\u001b[0;32m    658\u001b[0m \u001b[38;5;250m\u001b[39m\u001b[38;5;124;03m\"\"\"Provide the value from the first provider to return non-None.\u001b[39;00m\n\u001b[0;32m    659\u001b[0m \n\u001b[0;32m    660\u001b[0m \u001b[38;5;124;03mEach provider in the chain has its provide method called. The first\u001b[39;00m\n\u001b[0;32m    661\u001b[0m \u001b[38;5;124;03mone in the chain to return a non-None value is the returned from the\u001b[39;00m\n\u001b[0;32m    662\u001b[0m \u001b[38;5;124;03mChainProvider. When no non-None value is found, None is returned.\u001b[39;00m\n\u001b[0;32m    663\u001b[0m \u001b[38;5;124;03m\"\"\"\u001b[39;00m\n\u001b[0;32m    664\u001b[0m \u001b[38;5;28;01mfor\u001b[39;00m provider \u001b[38;5;129;01min\u001b[39;00m \u001b[38;5;28mself\u001b[39m\u001b[38;5;241m.\u001b[39m_providers:\n\u001b[1;32m--> 665\u001b[0m     value \u001b[38;5;241m=\u001b[39m \u001b[43mprovider\u001b[49m\u001b[38;5;241;43m.\u001b[39;49m\u001b[43mprovide\u001b[49m\u001b[43m(\u001b[49m\u001b[43m)\u001b[49m\n\u001b[0;32m    666\u001b[0m     \u001b[38;5;28;01mif\u001b[39;00m value \u001b[38;5;129;01mis\u001b[39;00m \u001b[38;5;129;01mnot\u001b[39;00m \u001b[38;5;28;01mNone\u001b[39;00m:\n\u001b[0;32m    667\u001b[0m         \u001b[38;5;28;01mreturn\u001b[39;00m \u001b[38;5;28mself\u001b[39m\u001b[38;5;241m.\u001b[39m_convert_type(value)\n",
      "File \u001b[1;32mc:\\Users\\jesse\\miniconda3\\envs\\carb\\lib\\site-packages\\botocore\\configprovider.py:755\u001b[0m, in \u001b[0;36mScopedConfigProvider.provide\u001b[1;34m(self)\u001b[0m\n\u001b[0;32m    753\u001b[0m \u001b[38;5;28;01mdef\u001b[39;00m \u001b[38;5;21mprovide\u001b[39m(\u001b[38;5;28mself\u001b[39m):\n\u001b[0;32m    754\u001b[0m \u001b[38;5;250m    \u001b[39m\u001b[38;5;124;03m\"\"\"Provide a value from a config file property.\"\"\"\u001b[39;00m\n\u001b[1;32m--> 755\u001b[0m     scoped_config \u001b[38;5;241m=\u001b[39m \u001b[38;5;28;43mself\u001b[39;49m\u001b[38;5;241;43m.\u001b[39;49m\u001b[43m_session\u001b[49m\u001b[38;5;241;43m.\u001b[39;49m\u001b[43mget_scoped_config\u001b[49m\u001b[43m(\u001b[49m\u001b[43m)\u001b[49m\n\u001b[0;32m    756\u001b[0m     \u001b[38;5;28;01mif\u001b[39;00m \u001b[38;5;28misinstance\u001b[39m(\u001b[38;5;28mself\u001b[39m\u001b[38;5;241m.\u001b[39m_config_var_name, \u001b[38;5;28mtuple\u001b[39m):\n\u001b[0;32m    757\u001b[0m         section_config \u001b[38;5;241m=\u001b[39m scoped_config\u001b[38;5;241m.\u001b[39mget(\u001b[38;5;28mself\u001b[39m\u001b[38;5;241m.\u001b[39m_config_var_name[\u001b[38;5;241m0\u001b[39m])\n",
      "File \u001b[1;32mc:\\Users\\jesse\\miniconda3\\envs\\carb\\lib\\site-packages\\botocore\\session.py:412\u001b[0m, in \u001b[0;36mSession.get_scoped_config\u001b[1;34m(self)\u001b[0m\n\u001b[0;32m    390\u001b[0m \u001b[38;5;250m\u001b[39m\u001b[38;5;124;03m\"\"\"\u001b[39;00m\n\u001b[0;32m    391\u001b[0m \u001b[38;5;124;03mReturns the config values from the config file scoped to the current\u001b[39;00m\n\u001b[0;32m    392\u001b[0m \u001b[38;5;124;03mprofile.\u001b[39;00m\n\u001b[1;32m   (...)\u001b[0m\n\u001b[0;32m    409\u001b[0m \n\u001b[0;32m    410\u001b[0m \u001b[38;5;124;03m\"\"\"\u001b[39;00m\n\u001b[0;32m    411\u001b[0m profile_name \u001b[38;5;241m=\u001b[39m \u001b[38;5;28mself\u001b[39m\u001b[38;5;241m.\u001b[39mget_config_variable(\u001b[38;5;124m'\u001b[39m\u001b[38;5;124mprofile\u001b[39m\u001b[38;5;124m'\u001b[39m)\n\u001b[1;32m--> 412\u001b[0m profile_map \u001b[38;5;241m=\u001b[39m \u001b[38;5;28;43mself\u001b[39;49m\u001b[38;5;241;43m.\u001b[39;49m\u001b[43m_build_profile_map\u001b[49m\u001b[43m(\u001b[49m\u001b[43m)\u001b[49m\n\u001b[0;32m    413\u001b[0m \u001b[38;5;66;03m# If a profile is not explicitly set return the default\u001b[39;00m\n\u001b[0;32m    414\u001b[0m \u001b[38;5;66;03m# profile config or an empty config dict if we don't have\u001b[39;00m\n\u001b[0;32m    415\u001b[0m \u001b[38;5;66;03m# a default profile.\u001b[39;00m\n\u001b[0;32m    416\u001b[0m \u001b[38;5;28;01mif\u001b[39;00m profile_name \u001b[38;5;129;01mis\u001b[39;00m \u001b[38;5;28;01mNone\u001b[39;00m:\n",
      "File \u001b[1;32mc:\\Users\\jesse\\miniconda3\\envs\\carb\\lib\\site-packages\\botocore\\session.py:308\u001b[0m, in \u001b[0;36mSession._build_profile_map\u001b[1;34m(self)\u001b[0m\n\u001b[0;32m    303\u001b[0m \u001b[38;5;28;01mdef\u001b[39;00m \u001b[38;5;21m_build_profile_map\u001b[39m(\u001b[38;5;28mself\u001b[39m):\n\u001b[0;32m    304\u001b[0m     \u001b[38;5;66;03m# This will build the profile map if it has not been created,\u001b[39;00m\n\u001b[0;32m    305\u001b[0m     \u001b[38;5;66;03m# otherwise it will return the cached value.  The profile map\u001b[39;00m\n\u001b[0;32m    306\u001b[0m     \u001b[38;5;66;03m# is a list of profile names, to the config values for the profile.\u001b[39;00m\n\u001b[0;32m    307\u001b[0m     \u001b[38;5;28;01mif\u001b[39;00m \u001b[38;5;28mself\u001b[39m\u001b[38;5;241m.\u001b[39m_profile_map \u001b[38;5;129;01mis\u001b[39;00m \u001b[38;5;28;01mNone\u001b[39;00m:\n\u001b[1;32m--> 308\u001b[0m         \u001b[38;5;28mself\u001b[39m\u001b[38;5;241m.\u001b[39m_profile_map \u001b[38;5;241m=\u001b[39m \u001b[38;5;28;43mself\u001b[39;49m\u001b[38;5;241;43m.\u001b[39;49m\u001b[43mfull_config\u001b[49m[\u001b[38;5;124m'\u001b[39m\u001b[38;5;124mprofiles\u001b[39m\u001b[38;5;124m'\u001b[39m]\n\u001b[0;32m    309\u001b[0m     \u001b[38;5;28;01mreturn\u001b[39;00m \u001b[38;5;28mself\u001b[39m\u001b[38;5;241m.\u001b[39m_profile_map\n",
      "File \u001b[1;32mc:\\Users\\jesse\\miniconda3\\envs\\carb\\lib\\site-packages\\botocore\\session.py:449\u001b[0m, in \u001b[0;36mSession.full_config\u001b[1;34m(self)\u001b[0m\n\u001b[0;32m    442\u001b[0m \u001b[38;5;28;01mtry\u001b[39;00m:\n\u001b[0;32m    443\u001b[0m     \u001b[38;5;66;03m# Now we need to inject the profiles from the\u001b[39;00m\n\u001b[0;32m    444\u001b[0m     \u001b[38;5;66;03m# credentials file.  We don't actually need the values\u001b[39;00m\n\u001b[0;32m    445\u001b[0m     \u001b[38;5;66;03m# in the creds file, only the profile names so that we\u001b[39;00m\n\u001b[0;32m    446\u001b[0m     \u001b[38;5;66;03m# can validate the user is not referring to a nonexistent\u001b[39;00m\n\u001b[0;32m    447\u001b[0m     \u001b[38;5;66;03m# profile.\u001b[39;00m\n\u001b[0;32m    448\u001b[0m     cred_file \u001b[38;5;241m=\u001b[39m \u001b[38;5;28mself\u001b[39m\u001b[38;5;241m.\u001b[39mget_config_variable(\u001b[38;5;124m'\u001b[39m\u001b[38;5;124mcredentials_file\u001b[39m\u001b[38;5;124m'\u001b[39m)\n\u001b[1;32m--> 449\u001b[0m     cred_profiles \u001b[38;5;241m=\u001b[39m \u001b[43mbotocore\u001b[49m\u001b[38;5;241;43m.\u001b[39;49m\u001b[43mconfigloader\u001b[49m\u001b[38;5;241;43m.\u001b[39;49m\u001b[43mraw_config_parse\u001b[49m\u001b[43m(\u001b[49m\n\u001b[0;32m    450\u001b[0m \u001b[43m        \u001b[49m\u001b[43mcred_file\u001b[49m\n\u001b[0;32m    451\u001b[0m \u001b[43m    \u001b[49m\u001b[43m)\u001b[49m\n\u001b[0;32m    452\u001b[0m     \u001b[38;5;28;01mfor\u001b[39;00m profile \u001b[38;5;129;01min\u001b[39;00m cred_profiles:\n\u001b[0;32m    453\u001b[0m         cred_vars \u001b[38;5;241m=\u001b[39m cred_profiles[profile]\n",
      "File \u001b[1;32mc:\\Users\\jesse\\miniconda3\\envs\\carb\\lib\\site-packages\\botocore\\configloader.py:150\u001b[0m, in \u001b[0;36mraw_config_parse\u001b[1;34m(config_filename, parse_subsections)\u001b[0m\n\u001b[0;32m    148\u001b[0m     cp\u001b[38;5;241m.\u001b[39mread([path])\n\u001b[0;32m    149\u001b[0m \u001b[38;5;28;01mexcept\u001b[39;00m (configparser\u001b[38;5;241m.\u001b[39mError, \u001b[38;5;167;01mUnicodeDecodeError\u001b[39;00m) \u001b[38;5;28;01mas\u001b[39;00m e:\n\u001b[1;32m--> 150\u001b[0m     \u001b[38;5;28;01mraise\u001b[39;00m botocore\u001b[38;5;241m.\u001b[39mexceptions\u001b[38;5;241m.\u001b[39mConfigParseError(\n\u001b[0;32m    151\u001b[0m         path\u001b[38;5;241m=\u001b[39m_unicode_path(path), error\u001b[38;5;241m=\u001b[39me\n\u001b[0;32m    152\u001b[0m     ) \u001b[38;5;28;01mfrom\u001b[39;00m \u001b[38;5;28;01mNone\u001b[39;00m\n\u001b[0;32m    153\u001b[0m \u001b[38;5;28;01melse\u001b[39;00m:\n\u001b[0;32m    154\u001b[0m     \u001b[38;5;28;01mfor\u001b[39;00m section \u001b[38;5;129;01min\u001b[39;00m cp\u001b[38;5;241m.\u001b[39msections():\n",
      "\u001b[1;31mConfigParseError\u001b[0m: Unable to parse config file: C:\\Users\\jesse/.aws/credentials"
     ]
    }
   ],
   "source": [
    "## set-up for AWS  \n",
    "s3_client = boto3.client('s3')  \n",
    "#s3_cl = boto3.resource('s3')  \n",
    "bucket_name = 'ca-climate-index'  \n",
    "directory = '1_pull_data/climate_risk/extreme_heat/loss/usda/usda_crop_loss_heat_files/'  "
   ]
  },
  {
   "cell_type": "code",
   "execution_count": null,
   "metadata": {},
   "outputs": [],
   "source": [
    "# Function to extract and read text files from zip files\n",
    "def extract_and_read(file_path):\n",
    "    with zipfile.ZipFile(file_path, 'r') as zip_ref:\n",
    "        file_list = zip_ref.namelist()\n",
    "        file_contents = []\n",
    "        for file in file_list:\n",
    "            with zip_ref.open(file) as txt_file:\n",
    "                lines = txt_file.readlines()\n",
    "                lines = [line.decode('utf-8').strip() for line in lines]\n",
    "                file_contents.append((file, lines))\n",
    "    return file_contents"
   ]
  },
  {
   "cell_type": "code",
   "execution_count": null,
   "metadata": {},
   "outputs": [],
   "source": [
    "# Function to extract year from line\n",
    "def get_year_from_line(line):\n",
    "    # Year is separated by '|' and is the first element\n",
    "    elements = line.split('|')\n",
    "    if len(elements) > 1:\n",
    "        potential_year = elements[0].strip()\n",
    "        if len(potential_year) == 4 and potential_year.isdigit():\n",
    "            return potential_year\n",
    "    return ''"
   ]
  },
  {
   "cell_type": "code",
   "execution_count": null,
   "metadata": {},
   "outputs": [],
   "source": [
    "# Function to sort files based on the first column\n",
    "def sort_files(file_contents):\n",
    "    sorted_files = []\n",
    "    for file, lines in file_contents:\n",
    "        lines.sort(key=lambda x: get_year_from_line(x))\n",
    "        sorted_files.append((file, lines))\n",
    "    return sorted_files"
   ]
  },
  {
   "cell_type": "code",
   "execution_count": null,
   "metadata": {},
   "outputs": [],
   "source": [
    "# Modify the merge_files function to use the client for S3 operations\n",
    "def merge_files(sorted_files, output_file):\n",
    "    headers = ['year', 'state_code', 'state_abbreviation', 'county_code',\n",
    "               'county_name', 'commodity_code', 'commodity_name',\n",
    "               'insurance_plan_code', 'insurance_plan_abbreviation',\n",
    "               'stage_code', 'damage_cause_code', 'damage_description',\n",
    "               'determined_acres', 'indemnity_amount']\n",
    "\n",
    "    # Create an empty list to hold rows\n",
    "    rows = []\n",
    "\n",
    "    for file, lines in sorted_files:\n",
    "        for line in lines:\n",
    "            row_data = [element.strip() for element in line.split('|')]\n",
    "            if len(row_data) > 2 and row_data[2] == 'CA':\n",
    "                rows.append(row_data)\n",
    "\n",
    "    # Create DataFrame from the list of rows\n",
    "    df = pd.DataFrame(rows, columns=headers)\n",
    "\n",
    "    # Save DataFrame to AWS using the client\n",
    "    new_buffer = StringIO()\n",
    "    df.to_csv(new_buffer, index=False)\n",
    "    content = new_buffer.getvalue()\n",
    "    s3_client.put_object(Bucket=bucket_name, Body=content, Key=directory + output_file)\n",
    "\n",
    "    # Optionally, return the DataFrame\n",
    "    return df"
   ]
  },
  {
   "cell_type": "code",
   "execution_count": null,
   "metadata": {},
   "outputs": [],
   "source": [
    "# Main function\n",
    "def sort_and_merge(folder_name, output_file):\n",
    "    '''\n",
    "    Extracts data from multiple files within a folder, assigns each column an appropriate header, merges all\n",
    "    datasets together, sorts by data year, and writes the final output as a .csv file\n",
    "    \n",
    "    Parameters\n",
    "    ----------\n",
    "    folder_name: string\n",
    "              The name of the folder containing zipped files for 'Cause of Loss Historical Data Files' under 'Indemnities Only'\n",
    "              from the USDA's Risk Management Agency: https://legacy.rma.usda.gov/data/cause.html\n",
    "    output_file: string\n",
    "              Final output as a .csv file\n",
    "    '''\n",
    "    file_contents = []\n",
    "    for file in os.listdir(folder_name):\n",
    "        if file.endswith('.zip'):\n",
    "            file_path = os.path.join(folder_name, file)\n",
    "            file_contents.extend(extract_and_read(file_path))\n",
    "\n",
    "    sorted_files = sort_files(file_contents)\n",
    "    final_df = merge_files(sorted_files, output_file)\n",
    "    print(f\"Merged and sorted files written to {output_file}\")\n",
    "\n",
    "    # Return the final DataFrame if needed\n",
    "    return final_df"
   ]
  },
  {
   "cell_type": "code",
   "execution_count": null,
   "metadata": {},
   "outputs": [],
   "source": [
    "# Provide folder path containing zip files and output file name\n",
    "# Zip files were downloaded and placed in a folder within our local env\n",
    "folder_name = 'usda_crop_loss_heat_files'\n",
    "output_file = 'usda_crop_loss_CA_boto.csv'\n",
    "\n",
    "# Run the main function\n",
    "sort_and_merge(folder_name, output_file)"
   ]
  }
 ],
 "metadata": {
  "kernelspec": {
   "display_name": "carb",
   "language": "python",
   "name": "python3"
  },
  "language_info": {
   "codemirror_mode": {
    "name": "ipython",
    "version": 3
   },
   "file_extension": ".py",
   "mimetype": "text/x-python",
   "name": "python",
   "nbconvert_exporter": "python",
   "pygments_lexer": "ipython3",
   "version": "3.9.18"
  }
 },
 "nbformat": 4,
 "nbformat_minor": 2
}
