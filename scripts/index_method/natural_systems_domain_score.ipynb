{
 "cells": [
  {
   "cell_type": "markdown",
   "metadata": {},
   "source": [
    "# Cal-CRAI Domain Score: Natural Systems\n",
    "\n",
    "**Order of operations**: \n",
    "1) Metric handling \\\n",
    "   1a - Retrieve data \\\n",
    "   1b - Min-max standardization \\\n",
    "   1c - Set vulnerability orientation (positive for when a larger value represents greater vulnerability, negative for when a larger value corresponds to decreased vulnerability)\n",
    "\n",
    "2) Calculate indicators \\\n",
    "   2a - Min-max standardization \\\n",
    "   2b - Finalize domain score\n",
    "   \n",
    "3) Visualize, save, and export domain score dataframe"
   ]
  },
  {
   "cell_type": "code",
   "execution_count": 17,
   "metadata": {
    "execution": {
     "iopub.execute_input": "2024-12-16T23:42:40.329800Z",
     "iopub.status.busy": "2024-12-16T23:42:40.329053Z",
     "iopub.status.idle": "2024-12-16T23:42:49.088829Z",
     "shell.execute_reply": "2024-12-16T23:42:49.088270Z",
     "shell.execute_reply.started": "2024-12-16T23:42:40.329760Z"
    }
   },
   "outputs": [],
   "source": [
    "import pandas as pd\n",
    "import os\n",
    "import sys\n",
    "\n",
    "# suppress pandas purely educational warnings\n",
    "from warnings import simplefilter\n",
    "simplefilter(action=\"ignore\", category=pd.errors.PerformanceWarning)\n",
    "\n",
    "sys.path.append(os.path.expanduser('../../'))\n",
    "from scripts.utils.file_helpers import pull_csv_from_directory, upload_csv_aws, delete_items\n",
    "from scripts.utils.cal_crai_plotting import plot_domain_score, plot_region_domain\n",
    "from scripts.utils.cal_crai_calculations import (min_max_standardize, process_domain_csv_files, \n",
    "                                        compute_averaged_indicators, compute_summed_indicators, indicator_dicts, \n",
    "                                        add_census_tracts, domain_summary_stats)"
   ]
  },
  {
   "cell_type": "markdown",
   "metadata": {},
   "source": [
    "## Step 1: Metric level\n",
    "### 1a) Retrieve metric files and process"
   ]
  },
  {
   "cell_type": "code",
   "execution_count": null,
   "metadata": {
    "execution": {
     "iopub.execute_input": "2024-12-16T23:42:49.090008Z",
     "iopub.status.busy": "2024-12-16T23:42:49.089773Z",
     "iopub.status.idle": "2024-12-16T23:43:20.060787Z",
     "shell.execute_reply": "2024-12-16T23:43:20.060133Z",
     "shell.execute_reply.started": "2024-12-16T23:42:49.089998Z"
    }
   },
   "outputs": [],
   "source": [
    "# set-up\n",
    "bucket_name = 'ca-climate-index'\n",
    "aws_dir = '3_fair_data/index_data/'\n",
    "\n",
    "pull_csv_from_directory(bucket_name, aws_dir, output_folder='aws_csvs', search_zipped=False, print_name=False)"
   ]
  },
  {
   "cell_type": "markdown",
   "metadata": {},
   "source": [
    "Process and merge Natural System metric files together"
   ]
  },
  {
   "cell_type": "code",
   "execution_count": null,
   "metadata": {
    "execution": {
     "iopub.execute_input": "2024-12-16T23:43:20.061884Z",
     "iopub.status.busy": "2024-12-16T23:43:20.061695Z",
     "iopub.status.idle": "2024-12-16T23:43:22.012271Z",
     "shell.execute_reply": "2024-12-16T23:43:22.011951Z",
     "shell.execute_reply.started": "2024-12-16T23:43:20.061866Z"
    }
   },
   "outputs": [],
   "source": [
    "# domain-specific\n",
    "domain_prefix = 'natural_'\n",
    "input_folder = r'aws_csvs'\n",
    "output_folder = domain_prefix + \"folder\"\n",
    "meta_csv = r'../utils/calcrai_metrics.csv'\n",
    "\n",
    "merged_output_file = f'concatenate_{domain_prefix}metrics.csv'\n",
    "metric_vulnerable_resilient_dict = process_domain_csv_files(domain_prefix, input_folder, output_folder, meta_csv, merged_output_file)"
   ]
  },
  {
   "cell_type": "markdown",
   "metadata": {},
   "source": [
    "Take a look at the resulting dictionary: We will use this later to refactor 'resilient' metrics!"
   ]
  },
  {
   "cell_type": "code",
   "execution_count": null,
   "metadata": {
    "execution": {
     "iopub.execute_input": "2024-12-16T23:43:22.013442Z",
     "iopub.status.busy": "2024-12-16T23:43:22.013314Z",
     "iopub.status.idle": "2024-12-16T23:43:22.017017Z",
     "shell.execute_reply": "2024-12-16T23:43:22.016709Z",
     "shell.execute_reply.started": "2024-12-16T23:43:22.013432Z"
    }
   },
   "outputs": [],
   "source": [
    "metric_vulnerable_resilient_dict"
   ]
  },
  {
   "cell_type": "markdown",
   "metadata": {},
   "source": [
    "Now, take a look at the merged singluar csv file"
   ]
  },
  {
   "cell_type": "code",
   "execution_count": null,
   "metadata": {
    "execution": {
     "iopub.execute_input": "2024-12-16T23:43:22.017591Z",
     "iopub.status.busy": "2024-12-16T23:43:22.017493Z",
     "iopub.status.idle": "2024-12-16T23:43:22.031211Z",
     "shell.execute_reply": "2024-12-16T23:43:22.030768Z",
     "shell.execute_reply.started": "2024-12-16T23:43:22.017582Z"
    }
   },
   "outputs": [],
   "source": [
    "# read-in and view processed data\n",
    "processed_natural_df = pd.read_csv(merged_output_file)\n",
    "processed_natural_df.head()"
   ]
  },
  {
   "cell_type": "markdown",
   "metadata": {},
   "source": [
    "### 1b) Min-max standardization\n",
    "Metrics are min-max standardized on 0.01 to 0.99 scale."
   ]
  },
  {
   "cell_type": "code",
   "execution_count": null,
   "metadata": {
    "execution": {
     "iopub.execute_input": "2024-12-16T23:43:22.031857Z",
     "iopub.status.busy": "2024-12-16T23:43:22.031747Z",
     "iopub.status.idle": "2024-12-16T23:43:22.049669Z",
     "shell.execute_reply": "2024-12-16T23:43:22.049279Z",
     "shell.execute_reply.started": "2024-12-16T23:43:22.031846Z"
    }
   },
   "outputs": [],
   "source": [
    "# standardizing our df\n",
    "columns_to_process = [col for col in processed_natural_df.columns if col != 'GEOID']\n",
    "min_max_metrics = min_max_standardize(processed_natural_df, columns_to_process)"
   ]
  },
  {
   "cell_type": "markdown",
   "metadata": {},
   "source": [
    "Isolate for GEOID and standardized columns exclusively"
   ]
  },
  {
   "cell_type": "code",
   "execution_count": null,
   "metadata": {
    "execution": {
     "iopub.execute_input": "2024-12-16T23:43:22.050317Z",
     "iopub.status.busy": "2024-12-16T23:43:22.050208Z",
     "iopub.status.idle": "2024-12-16T23:43:22.058136Z",
     "shell.execute_reply": "2024-12-16T23:43:22.057447Z",
     "shell.execute_reply.started": "2024-12-16T23:43:22.050308Z"
    }
   },
   "outputs": [],
   "source": [
    "words = ['GEOID','standardized']\n",
    "selected_columns = []\n",
    "for word in words:\n",
    "    selected_columns.extend(min_max_metrics.columns[min_max_metrics.columns.str.contains(word)].tolist())\n",
    "min_max_standardized_natural_metrics_df = min_max_metrics[selected_columns]\n",
    "min_max_standardized_natural_metrics_df.head()"
   ]
  },
  {
   "cell_type": "markdown",
   "metadata": {},
   "source": [
    "### 1c) Set resilience orientation\n",
    "* High values indicate resiliency\n",
    "* Low values indicate vulnerablility\n",
    "\n",
    "Some metrics indicate a communities vulnerablity rather than resilience. For example, 'percent_vulnerable_soils' represents a communities vulnerability to poor soil. For this metric, the higher the number, the more vulnerable. So we identify these 'vulnerable' metrics with our `metric_vulnerable_resilient_dict` dictionary and subtract their values from 1 so all high values indicate resiliency"
   ]
  },
  {
   "cell_type": "code",
   "execution_count": null,
   "metadata": {
    "execution": {
     "iopub.execute_input": "2024-12-16T23:43:22.058781Z",
     "iopub.status.busy": "2024-12-16T23:43:22.058617Z",
     "iopub.status.idle": "2024-12-16T23:43:22.061334Z",
     "shell.execute_reply": "2024-12-16T23:43:22.061043Z",
     "shell.execute_reply.started": "2024-12-16T23:43:22.058771Z"
    }
   },
   "outputs": [],
   "source": [
    "metric_vulnerable_resilient_dict"
   ]
  },
  {
   "cell_type": "code",
   "execution_count": null,
   "metadata": {
    "execution": {
     "iopub.execute_input": "2024-12-16T23:43:25.557033Z",
     "iopub.status.busy": "2024-12-16T23:43:25.556228Z",
     "iopub.status.idle": "2024-12-16T23:43:25.583516Z",
     "shell.execute_reply": "2024-12-16T23:43:25.582976Z",
     "shell.execute_reply.started": "2024-12-16T23:43:25.556999Z"
    }
   },
   "outputs": [],
   "source": [
    "# Access the vulnerable column names from the dictionary\n",
    "vulnerable_columns = metric_vulnerable_resilient_dict['vulnerable']\n",
    "\n",
    "# Identify columns in the DataFrame that contain any of the vulnerable column names as substrings\n",
    "vulnerable_columns_in_df = [col for col in min_max_standardized_natural_metrics_df.columns \n",
    "                           if any(resilient_col in col for resilient_col in vulnerable_columns)]\n",
    "\n",
    "# Create a new DataFrame with the adjusted vulnerable columns\n",
    "adjusted_vulnerable_df = min_max_standardized_natural_metrics_df.copy()\n",
    "\n",
    "# Subtract the standardized vulnerable columns from one and store the result in the new DataFrame\n",
    "adjusted_vulnerable_df.loc[:, vulnerable_columns_in_df] = (\n",
    "    1 - adjusted_vulnerable_df.loc[:, vulnerable_columns_in_df]\n",
    ")\n",
    "adjusted_vulnerable_df.head()"
   ]
  },
  {
   "cell_type": "markdown",
   "metadata": {},
   "source": [
    "## Step 2: Calculate Indicators\n",
    "Loop to go through df columns and average metrics that belong within an indicator based off of the metric to indicator dictionary"
   ]
  },
  {
   "cell_type": "code",
   "execution_count": null,
   "metadata": {
    "execution": {
     "iopub.execute_input": "2024-12-16T23:43:28.602504Z",
     "iopub.status.busy": "2024-12-16T23:43:28.601382Z",
     "iopub.status.idle": "2024-12-16T23:43:28.612450Z",
     "shell.execute_reply": "2024-12-16T23:43:28.611498Z",
     "shell.execute_reply.started": "2024-12-16T23:43:28.602440Z"
    }
   },
   "outputs": [],
   "source": [
    "domain_prefix[:-1]"
   ]
  },
  {
   "cell_type": "code",
   "execution_count": null,
   "metadata": {
    "execution": {
     "iopub.execute_input": "2024-12-16T23:43:37.711151Z",
     "iopub.status.busy": "2024-12-16T23:43:37.710043Z",
     "iopub.status.idle": "2024-12-16T23:43:37.737171Z",
     "shell.execute_reply": "2024-12-16T23:43:37.736619Z",
     "shell.execute_reply.started": "2024-12-16T23:43:37.711088Z"
    }
   },
   "outputs": [],
   "source": [
    "averaged_indicators_natural_systems = compute_averaged_indicators(\n",
    "    adjusted_vulnerable_df, \n",
    "    indicator_dicts(domain_prefix[:-1]), print_summary=True)\n",
    "\n",
    "# show resulting dataframe to highlight the indicator values\n",
    "averaged_indicators_natural_systems.head(5)"
   ]
  },
  {
   "cell_type": "markdown",
   "metadata": {},
   "source": [
    "Save Indicator dataframe as a csv"
   ]
  },
  {
   "cell_type": "code",
   "execution_count": 28,
   "metadata": {
    "execution": {
     "iopub.execute_input": "2024-12-16T23:43:39.720145Z",
     "iopub.status.busy": "2024-12-16T23:43:39.719309Z",
     "iopub.status.idle": "2024-12-16T23:43:39.765689Z",
     "shell.execute_reply": "2024-12-16T23:43:39.765222Z",
     "shell.execute_reply.started": "2024-12-16T23:43:39.720083Z"
    }
   },
   "outputs": [],
   "source": [
    "# set-up file for export\n",
    "indicator_filename = '{}domain_averaged_indicators.csv'.format(domain_prefix)\n",
    "averaged_indicators_natural_systems.to_csv(indicator_filename, index=False)"
   ]
  },
  {
   "cell_type": "markdown",
   "metadata": {},
   "source": [
    "Sum the indicator columns together to calculate the domain score\n",
    "* essentially summing all columns except for 'GEOID'"
   ]
  },
  {
   "cell_type": "code",
   "execution_count": null,
   "metadata": {
    "execution": {
     "iopub.execute_input": "2024-12-16T23:43:41.922919Z",
     "iopub.status.busy": "2024-12-16T23:43:41.922208Z",
     "iopub.status.idle": "2024-12-16T23:43:41.943243Z",
     "shell.execute_reply": "2024-12-16T23:43:41.942397Z",
     "shell.execute_reply.started": "2024-12-16T23:43:41.922867Z"
    }
   },
   "outputs": [],
   "source": [
    "columns_to_sum = [col for col in averaged_indicators_natural_systems.columns if col != 'GEOID']\n",
    "summed_indicators_natural_systems = compute_summed_indicators(\n",
    "    df=averaged_indicators_natural_systems, \n",
    "    columns_to_sum=columns_to_sum,\n",
    "    domain_prefix=domain_prefix\n",
    ")"
   ]
  },
  {
   "cell_type": "markdown",
   "metadata": {},
   "source": [
    "### 2a) Min-max standardize the summed columns"
   ]
  },
  {
   "cell_type": "code",
   "execution_count": null,
   "metadata": {
    "execution": {
     "iopub.execute_input": "2024-12-16T23:43:46.809701Z",
     "iopub.status.busy": "2024-12-16T23:43:46.809002Z",
     "iopub.status.idle": "2024-12-16T23:43:46.831582Z",
     "shell.execute_reply": "2024-12-16T23:43:46.830854Z",
     "shell.execute_reply.started": "2024-12-16T23:43:46.809669Z"
    }
   },
   "outputs": [],
   "source": [
    "columns_to_process = [col for col in summed_indicators_natural_systems.columns if col != 'GEOID']\n",
    "min_max_domain = min_max_standardize(summed_indicators_natural_systems, columns_to_process)\n",
    "min_max_domain.head()"
   ]
  },
  {
   "cell_type": "markdown",
   "metadata": {},
   "source": [
    "### 2b) Finalize domain score\n",
    "* Isolate to census tract and summed standardized columns\n",
    "* Rename tract to GEOID for merging\n",
    "* Rename domain score column\n",
    "* Add a zero at the beginning of the GEOID to match census tract that will be merged"
   ]
  },
  {
   "cell_type": "code",
   "execution_count": null,
   "metadata": {
    "execution": {
     "iopub.execute_input": "2024-12-16T23:44:07.353703Z",
     "iopub.status.busy": "2024-12-16T23:44:07.351564Z",
     "iopub.status.idle": "2024-12-16T23:44:07.384454Z",
     "shell.execute_reply": "2024-12-16T23:44:07.383809Z",
     "shell.execute_reply.started": "2024-12-16T23:44:07.353637Z"
    }
   },
   "outputs": [],
   "source": [
    "natural_systems_domain_score = min_max_domain[['GEOID', 'summed_indicators_natural_domain_min_max_standardized']].copy()\n",
    "\n",
    "# GEOID handling\n",
    "natural_systems_domain_score['GEOID'] = natural_systems_domain_score['GEOID'].apply(lambda x: '0' + str(x))\n",
    "natural_systems_domain_score['GEOID'] = natural_systems_domain_score['GEOID'].astype(str).apply(lambda x: x.rstrip('0').rstrip('.') if '.' in x else x)\n",
    "natural_systems_domain_score = natural_systems_domain_score.rename(columns={'summed_indicators_natural_domain_min_max_standardized':'natural_systems_domain_score'})\n",
    "natural_systems_domain_score.head()"
   ]
  },
  {
   "cell_type": "markdown",
   "metadata": {},
   "source": [
    "## Step 3: Visualize, save, and export domain score"
   ]
  },
  {
   "cell_type": "markdown",
   "metadata": {},
   "source": [
    "Let's look at some summary statistics for this domain:"
   ]
  },
  {
   "cell_type": "code",
   "execution_count": null,
   "metadata": {
    "execution": {
     "iopub.execute_input": "2024-12-16T23:44:09.824189Z",
     "iopub.status.busy": "2024-12-16T23:44:09.823412Z",
     "iopub.status.idle": "2024-12-16T23:44:09.834319Z",
     "shell.execute_reply": "2024-12-16T23:44:09.832788Z",
     "shell.execute_reply.started": "2024-12-16T23:44:09.824157Z"
    }
   },
   "outputs": [],
   "source": [
    "domain_summary_stats(natural_systems_domain_score, 'natural_systems_domain_score')"
   ]
  },
  {
   "cell_type": "markdown",
   "metadata": {},
   "source": [
    "Now let's visualize the entire domain!"
   ]
  },
  {
   "cell_type": "code",
   "execution_count": null,
   "metadata": {
    "execution": {
     "iopub.execute_input": "2024-12-16T23:44:10.668635Z",
     "iopub.status.busy": "2024-12-16T23:44:10.667885Z",
     "iopub.status.idle": "2024-12-16T23:44:11.864993Z",
     "shell.execute_reply": "2024-12-16T23:44:11.864613Z",
     "shell.execute_reply.started": "2024-12-16T23:44:10.668604Z"
    }
   },
   "outputs": [],
   "source": [
    "plot_domain_score(natural_systems_domain_score, column_to_plot='natural_systems_domain_score', domain=domain_prefix)"
   ]
  },
  {
   "cell_type": "markdown",
   "metadata": {},
   "source": [
    "### We can also visualize specific areas!\n",
    "Here we'll use the specialized plotting function `plot_region_domain` function, which can handle county identifiers (their corresponding FIPS code) and pre-defined CA regions (listed below). For more information on the function, type `help(plot_region_domain)` to display additional context for all arguments. \n",
    "\n",
    "Pre-defined regions include: `bay_area`, `central_region`, `inland_deserts`, `north_central`, `northern`, `south_coast`, `slr_coast`. \n",
    "\n",
    "CA County FIPS Code Look-Up Table\n",
    "|County: Code|County: Code|County: Code|County: Code|\n",
    "|-----|----|-----|-----|\n",
    "|Alameda: 001|Lassen: 035|San Benito: 069|Tehama: 103|\n",
    "|Alpine: 003|Los Angeles: 037|San Bernardino: 071|Trinity: 105|\n",
    "|Amador: 005|Madera: 039|San Diego: 073|Tulare: 107|\n",
    "|Butte: 007|Marin: 041|San Francisco: 075|Tuolumne: 109|\n",
    "|Calaveras: 009|Mariposa: 043|San Joaquin: 077|Ventura: 111|\n",
    "|Colusa: 013|Mendocino: 045|San Luis Obispo: 079|Yolo: 113|\n",
    "|Contra Costa: 015|Merced: 047|San Mateo: 081|Yuba: 115|\n",
    "|Del Norte: 017|Modoc: 049| Santa Barbara: 083|\n",
    "|El Dorado: 019|Mono: 051|Santa Clara: 085|\n",
    "|Fresno: 019|Monterey: 053|Santa Cruz: 087|\n",
    "|Glenn: 021|Napa: 055|Shasta: 089|\n",
    "|Humboldt: 023|Nevada: 057|Sierra: 091|\n",
    "|Imperial: 025|Orange: 059|Siskiyou: 095|\n",
    "|Inyo: 027|Placer: 061|Solano: 095|\n",
    "|Kern: 029|Plumas: 063|Sonoma: 097|\n",
    "|Kings: 031|Riverside: 065|Stanislaus: 099|\n",
    "|Lake: 033|Sacramento: 067|Sutter: 101|\n",
    "\n",
    "You can plot a domains vulnerability index by region, specific county/counties, or the entirety of CA with labels. Below are a few example of each of these plotting scenarios. \n",
    "\n",
    "`help(plot_region_domain)`"
   ]
  },
  {
   "cell_type": "code",
   "execution_count": null,
   "metadata": {
    "execution": {
     "iopub.execute_input": "2024-12-16T23:44:54.906094Z",
     "iopub.status.busy": "2024-12-16T23:44:54.905389Z",
     "iopub.status.idle": "2024-12-16T23:44:55.944128Z",
     "shell.execute_reply": "2024-12-16T23:44:55.943732Z",
     "shell.execute_reply.started": "2024-12-16T23:44:54.906061Z"
    }
   },
   "outputs": [],
   "source": [
    "plot_region_domain(natural_systems_domain_score,\n",
    "                    column_to_plot='natural_systems_domain_score',\n",
    "                    domain=domain_prefix, \n",
    "                    domain_label_map={domain_prefix: 'Natural Systems'},\n",
    "                    region='inland_deserts', \n",
    "                    savefig=False, \n",
    "                    font_color='black')"
   ]
  },
  {
   "cell_type": "code",
   "execution_count": null,
   "metadata": {
    "execution": {
     "iopub.execute_input": "2024-12-16T23:44:55.945079Z",
     "iopub.status.busy": "2024-12-16T23:44:55.944954Z",
     "iopub.status.idle": "2024-12-16T23:44:57.121861Z",
     "shell.execute_reply": "2024-12-16T23:44:57.121467Z",
     "shell.execute_reply.started": "2024-12-16T23:44:55.945068Z"
    }
   },
   "outputs": [],
   "source": [
    "plot_region_domain(natural_systems_domain_score,\n",
    "                    column_to_plot='natural_systems_domain_score',\n",
    "                    domain=domain_prefix, \n",
    "                    domain_label_map={domain_prefix: 'Natural Systems'},\n",
    "                    region='central_region', \n",
    "                    savefig=False,\n",
    "                    font_color='black')"
   ]
  },
  {
   "cell_type": "code",
   "execution_count": null,
   "metadata": {
    "execution": {
     "iopub.execute_input": "2024-12-16T23:44:57.122485Z",
     "iopub.status.busy": "2024-12-16T23:44:57.122371Z",
     "iopub.status.idle": "2024-12-16T23:44:57.351469Z",
     "shell.execute_reply": "2024-12-16T23:44:57.351046Z",
     "shell.execute_reply.started": "2024-12-16T23:44:57.122476Z"
    }
   },
   "outputs": [],
   "source": [
    "list_of_counties = ['003']\n",
    "plot_region_domain(natural_systems_domain_score,\n",
    "                    column_to_plot='natural_systems_domain_score', \n",
    "                    domain=domain_prefix, \n",
    "                    domain_label_map={domain_prefix: 'Natural Systems'}, \n",
    "                    counties_to_plot=list_of_counties, \n",
    "                    savefig=False, \n",
    "                    font_color='black')"
   ]
  },
  {
   "cell_type": "code",
   "execution_count": null,
   "metadata": {
    "execution": {
     "iopub.execute_input": "2024-12-16T23:44:57.353354Z",
     "iopub.status.busy": "2024-12-16T23:44:57.353229Z",
     "iopub.status.idle": "2024-12-16T23:45:03.505140Z",
     "shell.execute_reply": "2024-12-16T23:45:03.504757Z",
     "shell.execute_reply.started": "2024-12-16T23:44:57.353344Z"
    }
   },
   "outputs": [],
   "source": [
    "plot_region_domain(natural_systems_domain_score,\n",
    "                    column_to_plot='natural_systems_domain_score',\n",
    "                    domain=domain_prefix, \n",
    "                    domain_label_map={domain_prefix: 'Natural Systems'}, \n",
    "                    plot_all=True,\n",
    "                    savefig=False, \n",
    "                    font_color='black')"
   ]
  },
  {
   "cell_type": "markdown",
   "metadata": {},
   "source": [
    "## Export the final domain csv file"
   ]
  },
  {
   "cell_type": "code",
   "execution_count": 38,
   "metadata": {
    "execution": {
     "iopub.execute_input": "2024-12-16T23:45:03.506135Z",
     "iopub.status.busy": "2024-12-16T23:45:03.506026Z",
     "iopub.status.idle": "2024-12-16T23:45:03.520085Z",
     "shell.execute_reply": "2024-12-16T23:45:03.519747Z",
     "shell.execute_reply.started": "2024-12-16T23:45:03.506124Z"
    }
   },
   "outputs": [],
   "source": [
    "# set-up file for export\n",
    "domain_filename = '{}systems_domain_score.csv'.format(domain_prefix)\n",
    "natural_systems_domain_score.to_csv(domain_filename, index=False)"
   ]
  },
  {
   "cell_type": "markdown",
   "metadata": {},
   "source": [
    "## Upload the indicator and domain score csv files to AWS"
   ]
  },
  {
   "cell_type": "code",
   "execution_count": null,
   "metadata": {
    "execution": {
     "iopub.execute_input": "2024-12-16T23:45:03.520681Z",
     "iopub.status.busy": "2024-12-16T23:45:03.520581Z",
     "iopub.status.idle": "2024-12-16T23:45:14.681530Z",
     "shell.execute_reply": "2024-12-16T23:45:14.680016Z",
     "shell.execute_reply.started": "2024-12-16T23:45:03.520672Z"
    }
   },
   "outputs": [],
   "source": [
    "# upload to aws bucket\n",
    "bucket_name = 'ca-climate-index'\n",
    "directory = '3_fair_data/index_data'\n",
    "\n",
    "files_upload = indicator_filename, domain_filename\n",
    "\n",
    "for file in files_upload:\n",
    "    upload_csv_aws([file], bucket_name, directory)"
   ]
  },
  {
   "cell_type": "markdown",
   "metadata": {},
   "source": [
    "## Delete desired csv files\n",
    "* all that were generated from this notebook by default"
   ]
  },
  {
   "cell_type": "code",
   "execution_count": null,
   "metadata": {},
   "outputs": [],
   "source": [
    "folders_to_delete = [\"aws_csvs\", \"natural_folder\"]\n",
    "csv_files_to_delete = [\"concatenate_natural_metrics.csv\", \"natural_systems_domain_score.csv\",\n",
    "                       \"natural_domain_averaged_indicators.csv\"]\n",
    "\n",
    "delete_items(folders_to_delete, csv_files_to_delete)"
   ]
  }
 ],
 "metadata": {
  "kernelspec": {
   "display_name": "carb",
   "language": "python",
   "name": "python3"
  },
  "language_info": {
   "codemirror_mode": {
    "name": "ipython",
    "version": 3
   },
   "file_extension": ".py",
   "mimetype": "text/x-python",
   "name": "python",
   "nbconvert_exporter": "python",
   "pygments_lexer": "ipython3",
   "version": "3.9.18"
  }
 },
 "nbformat": 4,
 "nbformat_minor": 4
}
