{
 "cells": [
  {
   "cell_type": "code",
   "execution_count": 12,
   "metadata": {},
   "outputs": [],
   "source": [
    "import pandas as pd\n",
    "import os\n",
    "import sys\n",
    "import numpy as np\n",
    "import shutil\n",
    "import glob\n",
    "\n",
    "# suppress pandas purely educational warnings\n",
    "from warnings import simplefilter\n",
    "simplefilter(action=\"ignore\", category=pd.errors.PerformanceWarning)\n",
    "\n",
    "sys.path.append(os.path.expanduser('../../'))\n",
    "from scripts.utils.file_helpers import pull_csv_from_directory, upload_csv_aws\n",
    "from scripts.utils.write_metadata import append_metadata"
   ]
  },
  {
   "cell_type": "code",
   "execution_count": 13,
   "metadata": {},
   "outputs": [
    {
     "name": "stdout",
     "output_type": "stream",
     "text": [
      "Saved DataFrame as 'built_housing_median_age_metric.csv'\n",
      "Saved DataFrame as 'built_housing_mobile_homes_metric.csv'\n",
      "Saved DataFrame as 'built_housing_quality_metric.csv'\n",
      "Saved DataFrame as 'built_metric_housing_vacancy_metric.csv'\n",
      "Saved DataFrame as 'built_power_plant_metric.csv'\n",
      "Saved DataFrame as 'climate_wildfire_redbooks_loss_metric.csv'\n",
      "Saved DataFrame as 'climate_wildfire_redbooks_loss_metric_buildings.csv'\n",
      "Saved DataFrame as 'climate_wildfire_redbooks_loss_metric_fatalities.csv'\n",
      "Saved DataFrame as 'governance_emergency_management_metric.csv'\n",
      "Saved DataFrame as 'governance_hazard_mitigation_metric.csv'\n",
      "Saved DataFrame as 'natural_air_quality_metric.csv'\n",
      "Saved DataFrame as 'society_ambulatory_disability_metric.csv'\n",
      "Saved DataFrame as 'society_american_indian_alaska_native_metric.csv'\n",
      "Saved DataFrame as 'society_cognitive_disability_metric.csv'\n",
      "Saved DataFrame as 'society_financial_assistance_metric.csv'\n",
      "Saved DataFrame as 'society_food_access_metric.csv'\n",
      "Saved DataFrame as 'society_over_65yo_metric.csv'\n",
      "Saved DataFrame as 'society_social_repair_maintenance_metric.csv'\n",
      "Saved DataFrame as 'society_social_services_Blood_and_organ_banks_metric.csv'\n",
      "Saved DataFrame as 'society_social_services_Health_and_personal_care_stores_metric.csv'\n",
      "Saved DataFrame as 'society_social_services_Heavy_and_civil_engineering_construction_metric.csv'\n",
      "Saved DataFrame as 'society_social_services_Hospitals_metric.csv'\n",
      "Saved DataFrame as 'society_social_services_Personal_and_household_goods_repair_and_maintenance_metric.csv'\n",
      "Saved DataFrame as 'society_social_services_Specialty_trade_contractors_metric.csv'\n",
      "Saved DataFrame as 'society_social_services_blood_and_organ_banks_metric.csv'\n",
      "Saved DataFrame as 'society_social_services_blood_organ_bank_metric.csv'\n",
      "Saved DataFrame as 'society_social_services_care_stores_metric.csv'\n",
      "Saved DataFrame as 'society_social_services_engineering_construction_metric.csv'\n",
      "Saved DataFrame as 'society_social_services_health_and_personal_care_stores_metric.csv'\n",
      "Saved DataFrame as 'society_social_services_heavy_and_civil_engineering_construction_metric.csv'\n",
      "Saved DataFrame as 'society_social_services_hospitals_metric.csv'\n",
      "Saved DataFrame as 'society_social_services_personal_and_household_goods_repair_and_maintenance_metric.csv'\n",
      "Saved DataFrame as 'society_social_services_specialty_trade_contractors_metric.csv'\n",
      "Saved DataFrame as 'society_social_trade_contractors_metric.csv'\n",
      "Saved DataFrame as 'society_under_5yo_metric.csv'\n",
      "Saved DataFrame as 'society_vulnerable_asthma_metric.csv'\n",
      "Saved DataFrame as 'society_vulnerable_cardiovascular_disease_metric.csv'\n",
      "Saved DataFrame as 'society_vulnerable_education_metric.csv'\n",
      "Saved DataFrame as 'society_vulnerable_homelessness_metric.csv'\n",
      "Saved DataFrame as 'society_vulnerable_housing_burden_metric.csv'\n",
      "Saved DataFrame as 'society_vulnerable_imp_water_bodies_metric.csv'\n",
      "Saved DataFrame as 'society_vulnerable_linguistic_isolation_metric.csv'\n",
      "Saved DataFrame as 'society_vulnerable_low_birth_weight_metric.csv'\n",
      "Saved DataFrame as 'society_vulnerable_percent_without_ac_metric.csv'\n",
      "Saved DataFrame as 'society_vulnerable_percent_working_outdoors.csv'\n",
      "Saved DataFrame as 'society_vulnerable_poverty_metric.csv'\n",
      "Saved DataFrame as 'society_vulnerable_unemployment_metric.csv'\n",
      "Saved DataFrame as 'society_vulnerable_violent_crime_metric.csv'\n",
      "Saved DataFrame as 'society_without_health_insurance_metric.csv'\n"
     ]
    }
   ],
   "source": [
    "# pull csv from aws\n",
    "bucket_name = 'ca-climate-index'\n",
    "aws_dir = '3_fair_data/index_data/'\n",
    "\n",
    "pull_csv_from_directory(bucket_name, aws_dir, search_zipped=False)"
   ]
  },
  {
   "cell_type": "code",
   "execution_count": 14,
   "metadata": {},
   "outputs": [
    {
     "name": "stdout",
     "output_type": "stream",
     "text": [
      "Copied and removed 21 CSV files.\n",
      "Deleted 1 local CSV files.\n"
     ]
    }
   ],
   "source": [
    "# Define the output folder path\n",
    "output_folder = 'output_folder'\n",
    "\n",
    "# Create the output folder if it doesn't exist\n",
    "if not os.path.exists(output_folder):\n",
    "    os.makedirs(output_folder)\n",
    "\n",
    "# Find all CSV files starting with 'society_'\n",
    "source_files = [file for file in glob.glob('society_*.csv') if 'social' not in file]\n",
    "\n",
    "# Iterate through the source files and copy only CSV files to the output folder\n",
    "for file in source_files:\n",
    "    # Construct the destination file path\n",
    "    destination_path = os.path.join(output_folder, os.path.basename(file))\n",
    "    \n",
    "    # Copy the file to the output folder\n",
    "    shutil.copyfile(file, destination_path)\n",
    "    \n",
    "    # Remove the original file\n",
    "    os.remove(file)\n",
    "\n",
    "print(f\"Copied and removed {len(source_files)} CSV files.\")\n",
    "\n",
    "# Delete all CSV files in the current directory that are not in the output folder\n",
    "current_files = glob.glob('*.csv')\n",
    "for file in current_files:\n",
    "    if file not in [os.path.basename(f) for f in source_files]:\n",
    "        os.remove(file)\n",
    "\n",
    "print(f\"Deleted {len(current_files) - len(source_files)} local CSV files.\")\n"
   ]
  },
  {
   "cell_type": "code",
   "execution_count": 16,
   "metadata": {},
   "outputs": [
    {
     "name": "stdout",
     "output_type": "stream",
     "text": [
      "Merged CSV saved as output_folder\\merged_output.csv\n"
     ]
    }
   ],
   "source": [
    "# Define the output folder path\n",
    "output_folder = 'output_folder'\n",
    "\n",
    "# Get a list of all CSV files in the output folder\n",
    "csv_files = glob.glob(os.path.join(output_folder, '*.csv'))\n",
    "\n",
    "# Initialize an empty DataFrame for merging\n",
    "merged_df = pd.DataFrame()\n",
    "# Iterate through each CSV file and merge them on the 'census_tract' column\n",
    "for file in csv_files:\n",
    "    # Read the CSV file into a DataFrame\n",
    "    df = pd.read_csv(file)\n",
    "    \n",
    "    # Keep only the 'census_tract' and the last column from each file\n",
    "    last_column = df.columns[-1]\n",
    "    df = df[['census_tract', last_column]]\n",
    "    \n",
    "    # Merge the DataFrame with the existing merged DataFrame\n",
    "    if merged_df.empty:\n",
    "        merged_df = df\n",
    "    else:\n",
    "        merged_df = pd.merge(merged_df, df, on='census_tract', how='outer')\n",
    "\n",
    "# Define the path for the final merged CSV file\n",
    "final_csv_path = os.path.join(output_folder, 'merged_output.csv')\n",
    "\n",
    "# Save the merged DataFrame to a CSV file\n",
    "merged_df.to_csv(final_csv_path, index=False)\n",
    "\n",
    "print(f\"Merged CSV saved as {final_csv_path}\")"
   ]
  }
 ],
 "metadata": {
  "kernelspec": {
   "display_name": "carb",
   "language": "python",
   "name": "python3"
  },
  "language_info": {
   "codemirror_mode": {
    "name": "ipython",
    "version": 3
   },
   "file_extension": ".py",
   "mimetype": "text/x-python",
   "name": "python",
   "nbconvert_exporter": "python",
   "pygments_lexer": "ipython3",
   "version": "3.9.18"
  }
 },
 "nbformat": 4,
 "nbformat_minor": 2
}
