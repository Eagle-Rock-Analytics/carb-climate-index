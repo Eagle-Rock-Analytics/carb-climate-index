{
 "cells": [
  {
   "cell_type": "markdown",
   "id": "d26a20d7",
   "metadata": {},
   "source": [
    "# Cal-CRAI Index: Weighting Climate Risk Scenarios\n",
    "\n",
    "**Order of operations**:\n",
    "1) Metric handling \\\n",
    "   a) Retrieve & clean data \\\n",
    "   b) Merge data domains together \\\n",
    "   c) Calculate domain medians and adjusted scores \\\n",
    "   d) Pull climate domain and clean & merge\n",
    "\n",
    "2) Custom weight per scenairo\n",
    "   * save each scenario as csv\n",
    "   \n",
    "3) Bin data \\\n",
    "   a) Merge index scores per scenario together \\\n",
    "   b) Bin values into 5 sections per scenario \\\n",
    "   c) Visualize the binned weighted scenarios\n",
    "\n",
    "4) Upload each scenario index .csv to AWS"
   ]
  },
  {
   "cell_type": "code",
   "execution_count": 1,
   "id": "13cc762b-fc98-4d52-ae1c-6373f2d43950",
   "metadata": {
    "execution": {
     "iopub.execute_input": "2024-12-10T19:03:48.548750Z",
     "iopub.status.busy": "2024-12-10T19:03:48.548356Z",
     "iopub.status.idle": "2024-12-10T19:03:56.993747Z",
     "shell.execute_reply": "2024-12-10T19:03:56.993047Z",
     "shell.execute_reply.started": "2024-12-10T19:03:48.548731Z"
    }
   },
   "outputs": [],
   "source": [
    "import pandas as pd\n",
    "import numpy as np\n",
    "import os\n",
    "import sys\n",
    "\n",
    "sys.path.append(os.path.expanduser('../../'))\n",
    "from scripts.utils.file_helpers import pull_csv_from_directory, upload_csv_aws, delete_items\n",
    "from scripts.utils.cal_crai_calculations import calculate_weighted_index, weight_domains, print_index_summary\n",
    "from scripts.utils.cal_crai_plotting import index_plot, plot_hazard_score"
   ]
  },
  {
   "cell_type": "markdown",
   "id": "5ab0d11f",
   "metadata": {},
   "source": [
    "## Step 1: Metric level\n",
    "### 1a) Retrieve metric files and process"
   ]
  },
  {
   "cell_type": "code",
   "execution_count": null,
   "id": "2f5d9e5f-72bf-4ff5-90a0-c99e56aa5d8a",
   "metadata": {
    "execution": {
     "iopub.execute_input": "2024-12-10T19:03:56.994852Z",
     "iopub.status.busy": "2024-12-10T19:03:56.994684Z",
     "iopub.status.idle": "2024-12-10T19:04:21.462561Z",
     "shell.execute_reply": "2024-12-10T19:04:21.461933Z",
     "shell.execute_reply.started": "2024-12-10T19:03:56.994840Z"
    }
   },
   "outputs": [],
   "source": [
    "# pull csv from aws\n",
    "bucket_name = 'ca-climate-index'\n",
    "aws_dir = '3_fair_data/index_data'\n",
    "output_folder = 'aws_csvs'\n",
    "\n",
    "pull_csv_from_directory(bucket_name, aws_dir, output_folder, search_zipped=False, print_name=False)"
   ]
  },
  {
   "cell_type": "code",
   "execution_count": 3,
   "id": "c0666a11",
   "metadata": {
    "execution": {
     "iopub.execute_input": "2024-12-10T19:04:21.463747Z",
     "iopub.status.busy": "2024-12-10T19:04:21.463368Z",
     "iopub.status.idle": "2024-12-10T19:04:21.482449Z",
     "shell.execute_reply": "2024-12-10T19:04:21.481854Z",
     "shell.execute_reply.started": "2024-12-10T19:04:21.463720Z"
    }
   },
   "outputs": [],
   "source": [
    "built_domain = pd.read_csv(r'aws_csvs/built_environment_domain_score.csv')\n",
    "governance_domain = pd.read_csv(r'aws_csvs/governance_domain_score.csv')\n",
    "natural_domain = pd.read_csv(r'aws_csvs/natural_systems_domain_score.csv')\n",
    "society_domain = pd.read_csv(r'aws_csvs/society_economy_domain_score.csv')\n",
    "climate_domain = pd.read_csv(r'aws_csvs/climate_hazard_scores.csv')"
   ]
  },
  {
   "cell_type": "markdown",
   "id": "27c35f0d",
   "metadata": {},
   "source": [
    "Clean data, isolate relevant columns"
   ]
  },
  {
   "cell_type": "code",
   "execution_count": 4,
   "id": "9eb599f0",
   "metadata": {
    "execution": {
     "iopub.execute_input": "2024-12-10T19:04:21.484063Z",
     "iopub.status.busy": "2024-12-10T19:04:21.483619Z",
     "iopub.status.idle": "2024-12-10T19:04:21.487905Z",
     "shell.execute_reply": "2024-12-10T19:04:21.487404Z",
     "shell.execute_reply.started": "2024-12-10T19:04:21.484050Z"
    }
   },
   "outputs": [],
   "source": [
    "# Keep only the first two columns\n",
    "built_domain_cleaned = built_domain.iloc[:, :2]\n",
    "governance_domain_cleaned = governance_domain.iloc[:, :2]\n",
    "natural_domain_cleaned = natural_domain.iloc[:, :2]\n",
    "society_domain_cleaned = society_domain.iloc[:, :2]\n",
    "\n",
    "# For climate domain, keep first seven columns\n",
    "climate_domain_cleaned = climate_domain.iloc[:, :7]"
   ]
  },
  {
   "cell_type": "markdown",
   "id": "fdd9d021-fe2d-4c65-b320-de4d0162d439",
   "metadata": {},
   "source": [
    "### 1b) Merge data domains together"
   ]
  },
  {
   "cell_type": "code",
   "execution_count": 5,
   "id": "145e6609-f21f-4534-96d3-3f9288886f22",
   "metadata": {
    "execution": {
     "iopub.execute_input": "2024-12-10T19:04:21.488748Z",
     "iopub.status.busy": "2024-12-10T19:04:21.488469Z",
     "iopub.status.idle": "2024-12-10T19:04:21.495305Z",
     "shell.execute_reply": "2024-12-10T19:04:21.494648Z",
     "shell.execute_reply.started": "2024-12-10T19:04:21.488734Z"
    }
   },
   "outputs": [],
   "source": [
    "merged_domains = pd.merge(governance_domain_cleaned, built_domain_cleaned, on='GEOID', how='left')\n",
    "merged_domains = pd.merge(merged_domains, natural_domain_cleaned, on='GEOID', how='left')\n",
    "merged_domains = pd.merge(merged_domains, society_domain_cleaned, on='GEOID', how='left')"
   ]
  },
  {
   "cell_type": "code",
   "execution_count": null,
   "id": "55707c86",
   "metadata": {},
   "outputs": [],
   "source": [
    "# Ensure all values in GEOID are strings\n",
    "merged_domains['GEOID'] = merged_domains['GEOID'].astype(str)\n",
    "\n",
    "# Add a '0' to the beginning of each GEOID and pad them to the correct length\n",
    "merged_domains['GEOID'] = merged_domains['GEOID'].str.zfill(merged_domains['GEOID'].str.len().max() + 1)\n",
    "\n",
    "# Rename the standardized columns for simplicity\n",
    "merged_domains = merged_domains.rename(columns={\n",
    "    'summed_indicators_governance_domain_min_max_standardized':'governance_domain_index',\n",
    "    'summed_indicators_built_domain_min_max_standardized':'built_domain_index',\n",
    "    'summed_indicators_natural_domain_min_max_standardized':'natural_systems_domain_index', \n",
    "    'summed_indicators_society_economy_domain_min_max_standardized':'society_economy_domain_index'     \n",
    "})\n",
    "\n",
    "# Display the dataframe\n",
    "merged_domains"
   ]
  },
  {
   "cell_type": "markdown",
   "id": "698b981a",
   "metadata": {},
   "source": [
    "### 1c) Calculate data domain median and adjusted columns"
   ]
  },
  {
   "cell_type": "code",
   "execution_count": null,
   "id": "b642558d",
   "metadata": {
    "execution": {
     "iopub.execute_input": "2024-12-10T19:04:21.514559Z",
     "iopub.status.busy": "2024-12-10T19:04:21.514404Z",
     "iopub.status.idle": "2024-12-10T19:04:21.526270Z",
     "shell.execute_reply": "2024-12-10T19:04:21.525683Z",
     "shell.execute_reply.started": "2024-12-10T19:04:21.514546Z"
    }
   },
   "outputs": [],
   "source": [
    "all_domains = merged_domains.copy()\n",
    "all_domains['built_environment_median'] = merged_domains['built_environment_domain_score'].median()\n",
    "all_domains['natural_systems_median'] = merged_domains['natural_systems_domain_score'].median()\n",
    "all_domains['society_economy_median'] = merged_domains['society_economy_domain_score'].median()\n",
    "\n",
    "all_domains"
   ]
  },
  {
   "cell_type": "code",
   "execution_count": null,
   "id": "3b4578bc",
   "metadata": {
    "execution": {
     "iopub.execute_input": "2024-12-10T19:04:21.527567Z",
     "iopub.status.busy": "2024-12-10T19:04:21.526999Z",
     "iopub.status.idle": "2024-12-10T19:04:22.237953Z",
     "shell.execute_reply": "2024-12-10T19:04:22.237247Z",
     "shell.execute_reply.started": "2024-12-10T19:04:21.527547Z"
    }
   },
   "outputs": [],
   "source": [
    "def calculate_adjusted_value(row, category):\n",
    "    category_median_col = f'{category}_median'\n",
    "    category_col = f'{category}_domain_score'\n",
    "    adjusted_col = f'{category}_tract_adjusted'\n",
    "    return (row[category_col] - row[category_median_col]) / row[category_median_col]\n",
    "\n",
    "# Loop through each row and calculate the adjusted value for each category\n",
    "for index, row in all_domains.iterrows():\n",
    "    for category in ['natural_systems', 'society_economy', 'built_environment']:\n",
    "        adjusted_value = calculate_adjusted_value(row, category)\n",
    "        adjusted_col = f'{category}_tract_adjusted'\n",
    "        all_domains.at[index, adjusted_col] = adjusted_value\n",
    "\n",
    "# Display the DataFrame\n",
    "all_domains"
   ]
  },
  {
   "cell_type": "markdown",
   "id": "6b73fa5c",
   "metadata": {},
   "source": [
    "### 1d) Pull climate domain and clean & merge"
   ]
  },
  {
   "cell_type": "code",
   "execution_count": null,
   "id": "ea35910e",
   "metadata": {},
   "outputs": [],
   "source": [
    "climate_domain_cleaned"
   ]
  },
  {
   "cell_type": "markdown",
   "id": "2ba9b7ce",
   "metadata": {},
   "source": [
    "Clean climate dataframe"
   ]
  },
  {
   "cell_type": "code",
   "execution_count": null,
   "id": "c82d61f5",
   "metadata": {
    "execution": {
     "iopub.execute_input": "2024-12-10T19:04:22.250291Z",
     "iopub.status.busy": "2024-12-10T19:04:22.249931Z",
     "iopub.status.idle": "2024-12-10T19:04:22.266870Z",
     "shell.execute_reply": "2024-12-10T19:04:22.266066Z",
     "shell.execute_reply.started": "2024-12-10T19:04:22.250277Z"
    }
   },
   "outputs": [],
   "source": [
    "# Ensure all values in GEOID are strings\n",
    "climate_domain_cleaned['GEOID'] = climate_domain_cleaned['GEOID'].astype(str)\n",
    "\n",
    "# Add a '0' to the beginning of each GEOID and pad them to the correct length\n",
    "climate_domain_cleaned['GEOID'] = climate_domain_cleaned['GEOID'].str.zfill(merged_domains['GEOID'].str.len().max())\n",
    "\n",
    "# Display the dataframe\n",
    "climate_domain_cleaned"
   ]
  },
  {
   "cell_type": "markdown",
   "id": "713020cc",
   "metadata": {},
   "source": [
    "Merge core and climate dataframes together"
   ]
  },
  {
   "cell_type": "code",
   "execution_count": null,
   "id": "5de65c1f",
   "metadata": {
    "execution": {
     "iopub.execute_input": "2024-12-10T19:04:22.268207Z",
     "iopub.status.busy": "2024-12-10T19:04:22.267927Z",
     "iopub.status.idle": "2024-12-10T19:04:22.275992Z",
     "shell.execute_reply": "2024-12-10T19:04:22.275274Z",
     "shell.execute_reply.started": "2024-12-10T19:04:22.268188Z"
    }
   },
   "outputs": [],
   "source": [
    "community_capacity_climate_hazards = pd.merge(all_domains, climate_domain_cleaned, on='GEOID', how='left')\n",
    "community_capacity_climate_hazards.head()"
   ]
  },
  {
   "cell_type": "markdown",
   "id": "f8a756a3",
   "metadata": {},
   "source": [
    "## Step 2) Custom Weighting to calculate Cal-CRAI score for specific climate risks\n",
    "* utilize weight domains function to adjust domain coefficients to desired weighting factor"
   ]
  },
  {
   "cell_type": "markdown",
   "id": "44caeec2",
   "metadata": {},
   "source": [
    "## Wildfire"
   ]
  },
  {
   "cell_type": "code",
   "execution_count": null,
   "id": "d0333165",
   "metadata": {},
   "outputs": [],
   "source": [
    "# different weighting\n",
    "df_fire = weight_domains(community_capacity_climate_hazards, society=0.89, built=0.87, natural=0.42)\n",
    "df_fire = calculate_weighted_index(df_fire, 'wildfire_hazard_score')\n",
    "\n",
    "# rename the index column to represent the weighting scenario\n",
    "df_fire = df_fire.rename(columns={'calcrai_score':'wildfire_scenario_calcrai_score'})\n",
    "\n",
    "df_fire.to_csv('calcrai_wildfire_scenario_index.csv', index=False)\n",
    "print_index_summary(df_fire, 'wildfire_scenario_calcrai_score')"
   ]
  },
  {
   "cell_type": "code",
   "execution_count": null,
   "id": "ccb2cb00",
   "metadata": {
    "execution": {
     "iopub.execute_input": "2024-12-10T19:04:22.421603Z",
     "iopub.status.busy": "2024-12-10T19:04:22.421418Z",
     "iopub.status.idle": "2024-12-10T19:04:23.959891Z",
     "shell.execute_reply": "2024-12-10T19:04:23.959191Z",
     "shell.execute_reply.started": "2024-12-10T19:04:22.421590Z"
    }
   },
   "outputs": [],
   "source": [
    "index_plot(df_fire, 'wildfire_scenario_calcrai_score', scenario='wildfire', vmin=0, vmax=3)"
   ]
  },
  {
   "cell_type": "markdown",
   "id": "6a5318df",
   "metadata": {},
   "source": [
    "## Extreme Heat"
   ]
  },
  {
   "cell_type": "code",
   "execution_count": null,
   "id": "2e710e34",
   "metadata": {
    "execution": {
     "iopub.execute_input": "2024-12-10T19:04:23.960856Z",
     "iopub.status.busy": "2024-12-10T19:04:23.960652Z",
     "iopub.status.idle": "2024-12-10T19:04:24.088413Z",
     "shell.execute_reply": "2024-12-10T19:04:24.087691Z",
     "shell.execute_reply.started": "2024-12-10T19:04:23.960842Z"
    }
   },
   "outputs": [],
   "source": [
    "df_heat = weight_domains(community_capacity_climate_hazards, society=0.87, built=0.81, natural=0.45)\n",
    "df_heat = calculate_weighted_index(df_heat, 'extreme_heat_hazard_score')\n",
    "\n",
    "# rename the index column to represent the weighting scenario\n",
    "df_heat = df_heat.rename(columns={'calcrai_score':'extreme_heat_scenario_calcrai_score'})\n",
    "\n",
    "df_heat.to_csv('calcrai_heat_scenario_index.csv', index=False)\n",
    "print_index_summary(df_heat, 'extreme_heat_scenario_calcrai_score')"
   ]
  },
  {
   "cell_type": "code",
   "execution_count": null,
   "id": "0dfa2742",
   "metadata": {
    "execution": {
     "iopub.execute_input": "2024-12-10T19:04:24.089599Z",
     "iopub.status.busy": "2024-12-10T19:04:24.089192Z",
     "iopub.status.idle": "2024-12-10T19:04:25.503850Z",
     "shell.execute_reply": "2024-12-10T19:04:25.503216Z",
     "shell.execute_reply.started": "2024-12-10T19:04:24.089587Z"
    }
   },
   "outputs": [],
   "source": [
    "index_plot(df_heat, 'extreme_heat_scenario_calcrai_score', scenario='extreme heat', vmin=0, vmax=3)"
   ]
  },
  {
   "cell_type": "markdown",
   "id": "a9261c2a",
   "metadata": {},
   "source": [
    "## Inland Flooding"
   ]
  },
  {
   "cell_type": "code",
   "execution_count": null,
   "id": "8739ff42",
   "metadata": {
    "execution": {
     "iopub.execute_input": "2024-12-10T19:04:25.504890Z",
     "iopub.status.busy": "2024-12-10T19:04:25.504662Z",
     "iopub.status.idle": "2024-12-10T19:04:25.630756Z",
     "shell.execute_reply": "2024-12-10T19:04:25.630001Z",
     "shell.execute_reply.started": "2024-12-10T19:04:25.504872Z"
    }
   },
   "outputs": [],
   "source": [
    "df_inland_flooding = weight_domains(community_capacity_climate_hazards, society=0.92, built=0.83, natural=0.21)\n",
    "df_inland_flooding = calculate_weighted_index(df_inland_flooding, 'inland_flooding_hazard_score')\n",
    "\n",
    "# rename the index column to represent the weighting scenario\n",
    "df_inland_flooding = df_inland_flooding.rename(columns={'calcrai_score':'inland_flooding_scenario_calcrai_score'})\n",
    "\n",
    "df_inland_flooding.to_csv('calcrai_inland_flooding_scenario_index.csv', index=False)\n",
    "print_index_summary(df_inland_flooding, 'inland_flooding_scenario_calcrai_score')"
   ]
  },
  {
   "cell_type": "code",
   "execution_count": null,
   "id": "50bb4868",
   "metadata": {
    "execution": {
     "iopub.execute_input": "2024-12-10T19:04:25.631938Z",
     "iopub.status.busy": "2024-12-10T19:04:25.631708Z",
     "iopub.status.idle": "2024-12-10T19:04:27.141385Z",
     "shell.execute_reply": "2024-12-10T19:04:27.140682Z",
     "shell.execute_reply.started": "2024-12-10T19:04:25.631926Z"
    }
   },
   "outputs": [],
   "source": [
    "index_plot(df_inland_flooding, 'inland_flooding_scenario_calcrai_score', scenario='inland flooding', vmin=0, vmax=3)"
   ]
  },
  {
   "cell_type": "markdown",
   "id": "af915009",
   "metadata": {},
   "source": [
    "## Sea Level Rise"
   ]
  },
  {
   "cell_type": "code",
   "execution_count": null,
   "id": "fb76fe5f",
   "metadata": {
    "execution": {
     "iopub.execute_input": "2024-12-10T19:04:27.142404Z",
     "iopub.status.busy": "2024-12-10T19:04:27.142213Z",
     "iopub.status.idle": "2024-12-10T19:04:27.265366Z",
     "shell.execute_reply": "2024-12-10T19:04:27.264665Z",
     "shell.execute_reply.started": "2024-12-10T19:04:27.142390Z"
    }
   },
   "outputs": [],
   "source": [
    "df_sea_level_rise = weight_domains(community_capacity_climate_hazards, society=0.92, built=0.75, natural=0.56)\n",
    "df_sea_level_rise = calculate_weighted_index(df_sea_level_rise, 'sea_level_rise_hazard_score')\n",
    "\n",
    "# rename the index column to represent the weighting scenario\n",
    "df_sea_level_rise = df_sea_level_rise.rename(columns={'calcrai_score':'sea_level_rise_scenario_calcrai_score'})\n",
    "\n",
    "df_sea_level_rise.to_csv('calcrai_sea_level_rise_scenario_index.csv', index=False)\n",
    "print_index_summary(df_sea_level_rise, 'sea_level_rise_scenario_calcrai_score')"
   ]
  },
  {
   "cell_type": "code",
   "execution_count": null,
   "id": "69478bf3",
   "metadata": {
    "execution": {
     "iopub.execute_input": "2024-12-10T19:04:27.266535Z",
     "iopub.status.busy": "2024-12-10T19:04:27.266291Z",
     "iopub.status.idle": "2024-12-10T19:04:28.337769Z",
     "shell.execute_reply": "2024-12-10T19:04:28.337071Z",
     "shell.execute_reply.started": "2024-12-10T19:04:27.266518Z"
    }
   },
   "outputs": [],
   "source": [
    "index_plot(df_sea_level_rise, 'sea_level_rise_scenario_calcrai_score', scenario='sea level rise',  vmin=0, vmax=3)"
   ]
  },
  {
   "cell_type": "markdown",
   "id": "3b01aab9",
   "metadata": {},
   "source": [
    "## Drought"
   ]
  },
  {
   "cell_type": "code",
   "execution_count": null,
   "id": "141780ec",
   "metadata": {
    "execution": {
     "iopub.execute_input": "2024-12-10T19:04:28.338762Z",
     "iopub.status.busy": "2024-12-10T19:04:28.338560Z",
     "iopub.status.idle": "2024-12-10T19:04:28.463070Z",
     "shell.execute_reply": "2024-12-10T19:04:28.462392Z",
     "shell.execute_reply.started": "2024-12-10T19:04:28.338749Z"
    }
   },
   "outputs": [],
   "source": [
    "df_drought = weight_domains(community_capacity_climate_hazards, society=0.85, built=0.95, natural=0.21)\n",
    "df_drought = calculate_weighted_index(df_drought, 'drought_hazard_score')\n",
    "\n",
    "# rename the index column to represent the weighting scenario\n",
    "df_drought = df_drought.rename(columns={'calcrai_score':'drought_scenario_calcrai_score'})\n",
    "\n",
    "df_drought.to_csv('calcrai_drought_scenario_index.csv', index=False)\n",
    "print_index_summary(df_drought, 'drought_scenario_calcrai_score')"
   ]
  },
  {
   "cell_type": "code",
   "execution_count": null,
   "id": "41d74490-c8c1-486f-83d4-b82ed09790bd",
   "metadata": {
    "execution": {
     "iopub.execute_input": "2024-12-10T19:04:28.464079Z",
     "iopub.status.busy": "2024-12-10T19:04:28.463859Z",
     "iopub.status.idle": "2024-12-10T19:04:29.887228Z",
     "shell.execute_reply": "2024-12-10T19:04:29.886525Z",
     "shell.execute_reply.started": "2024-12-10T19:04:28.464058Z"
    }
   },
   "outputs": [],
   "source": [
    "index_plot(df_drought, 'drought_scenario_calcrai_score', scenario='drought',  vmin=0, vmax=3)"
   ]
  },
  {
   "cell_type": "markdown",
   "id": "c95680da",
   "metadata": {},
   "source": [
    "## Step 3: Bin Data\n",
    "### 3a) Merge index scores per scenario together"
   ]
  },
  {
   "cell_type": "code",
   "execution_count": null,
   "id": "76258770",
   "metadata": {
    "execution": {
     "iopub.execute_input": "2024-12-10T19:04:29.888154Z",
     "iopub.status.busy": "2024-12-10T19:04:29.887948Z",
     "iopub.status.idle": "2024-12-10T19:04:29.909413Z",
     "shell.execute_reply": "2024-12-10T19:04:29.908742Z",
     "shell.execute_reply.started": "2024-12-10T19:04:29.888142Z"
    }
   },
   "outputs": [],
   "source": [
    "# List of dataframes to merge\n",
    "dfs = [df_drought, df_fire, df_heat, df_sea_level_rise, df_inland_flooding]\n",
    "\n",
    "# Keep only 'geoid' and columns ending with '_calcrai_score' in each dataframe\n",
    "dfs = [df[['GEOID'] + [col for col in df.columns if col.endswith('_calcrai_score')]] for df in dfs]\n",
    "\n",
    "# Merge all dataframes on 'geoid' using an outer join\n",
    "from functools import reduce\n",
    "merged_df = reduce(lambda left, right: pd.merge(left, right, on='GEOID', how='outer'), dfs)\n",
    "\n",
    "# View the resulting merged dataframe\n",
    "merged_df"
   ]
  },
  {
   "cell_type": "markdown",
   "id": "8293fe17",
   "metadata": {},
   "source": [
    "### 3b) Bin values into 5 sections per scenario"
   ]
  },
  {
   "cell_type": "code",
   "execution_count": null,
   "id": "efe6f57b",
   "metadata": {},
   "outputs": [],
   "source": [
    "# Binning into quartiles\n",
    "binned_df = merged_df.copy()\n",
    "\n",
    "# Define the columns to bin\n",
    "columns_to_bin = [\n",
    "    'drought_scenario_calcrai_score',\n",
    "    'wildfire_scenario_calcrai_score',\n",
    "    'extreme_heat_scenario_calcrai_score',\n",
    "    'sea_level_rise_scenario_calcrai_score',\n",
    "    'inland_flooding_scenario_calcrai_score',\n",
    "]\n",
    "\n",
    "# Apply qcut to each specified column and print the bin edges\n",
    "for column in columns_to_bin:\n",
    "    # Get the bin labels and edges\n",
    "    binned_df[column + '_quartile'], bin_edges = pd.qcut(\n",
    "        binned_df[column], \n",
    "        q=[0,0.2, 0.4, 0.6, 0.8, 1.0], \n",
    "        labels=False,\n",
    "        # labels=['<20%', '20-40%', '40-60%', '60-80%', '>80%'],\n",
    "        duplicates='drop', \n",
    "        retbins=True\n",
    "    )\n",
    "    print(f'Bin edges for {column}: {bin_edges}')\n",
    "\n",
    "# Show the resulting DataFrame with the binned columns\n",
    "binned_df = binned_df.drop(columns=columns_to_bin)\n",
    "binned_df"
   ]
  },
  {
   "cell_type": "code",
   "execution_count": 25,
   "id": "f7421639",
   "metadata": {
    "execution": {
     "iopub.execute_input": "2024-12-10T19:04:29.931544Z",
     "iopub.status.busy": "2024-12-10T19:04:29.931025Z",
     "iopub.status.idle": "2024-12-10T19:04:29.950203Z",
     "shell.execute_reply": "2024-12-10T19:04:29.949475Z",
     "shell.execute_reply.started": "2024-12-10T19:04:29.931526Z"
    }
   },
   "outputs": [],
   "source": [
    "# save as a csv file\n",
    "binned_df.to_csv('binned_weighted_data.csv', index=False)"
   ]
  },
  {
   "cell_type": "code",
   "execution_count": null,
   "id": "3204891c-2bcd-47a7-8540-4700397e770b",
   "metadata": {
    "execution": {
     "iopub.execute_input": "2024-12-10T19:04:29.951838Z",
     "iopub.status.busy": "2024-12-10T19:04:29.951241Z",
     "iopub.status.idle": "2024-12-10T19:04:29.975275Z",
     "shell.execute_reply": "2024-12-10T19:04:29.974554Z",
     "shell.execute_reply.started": "2024-12-10T19:04:29.951815Z"
    }
   },
   "outputs": [],
   "source": [
    "# for plotting labels\n",
    "binned_df_viz = binned_df.copy()\n",
    "\n",
    "# SLR is slightly difference since 0-40% is 0\n",
    "binned_df_viz.loc[binned_df_viz['sea_level_rise_scenario_calcrai_score_quartile'] == 0, 'sea_level_rise_scenario_calcrai_score_quartile'] = '0-40%'\n",
    "binned_df_viz.loc[binned_df_viz['sea_level_rise_scenario_calcrai_score_quartile'] == 1, 'sea_level_rise_scenario_calcrai_score_quartile'] = '40-60%'\n",
    "binned_df_viz.loc[binned_df_viz['sea_level_rise_scenario_calcrai_score_quartile'] == 2, 'sea_level_rise_scenario_calcrai_score_quartile'] = '60-80%'\n",
    "binned_df_viz.loc[binned_df_viz['sea_level_rise_scenario_calcrai_score_quartile'] == 3, 'sea_level_rise_scenario_calcrai_score_quartile'] = '80+%'\n",
    "\n",
    "# remainder of risks\n",
    "binned_df_viz = binned_df_viz.replace(0, '0-20%')\n",
    "binned_df_viz = binned_df_viz.replace(1, '20-40%')\n",
    "binned_df_viz = binned_df_viz.replace(2, '40-60%')\n",
    "binned_df_viz = binned_df_viz.replace(3, '60-80%')\n",
    "binned_df_viz = binned_df_viz.replace(4, '80+%')"
   ]
  },
  {
   "cell_type": "code",
   "execution_count": null,
   "id": "2d2439a8",
   "metadata": {
    "execution": {
     "iopub.execute_input": "2024-12-10T19:04:29.976612Z",
     "iopub.status.busy": "2024-12-10T19:04:29.976096Z",
     "iopub.status.idle": "2024-12-10T19:04:29.985687Z",
     "shell.execute_reply": "2024-12-10T19:04:29.985004Z",
     "shell.execute_reply.started": "2024-12-10T19:04:29.976594Z"
    }
   },
   "outputs": [],
   "source": [
    "binned_df_viz"
   ]
  },
  {
   "cell_type": "markdown",
   "id": "5dbb552c",
   "metadata": {},
   "source": [
    "### 3c) Visualize the binned weighted scenarios"
   ]
  },
  {
   "cell_type": "code",
   "execution_count": null,
   "id": "2ccab87e",
   "metadata": {},
   "outputs": [],
   "source": [
    "# List of binned columns\n",
    "binned_columns = [\n",
    "    'drought_scenario_calcrai_score_quartile',\n",
    "    'wildfire_scenario_calcrai_score_quartile',\n",
    "    'extreme_heat_scenario_calcrai_score_quartile',\n",
    "    'sea_level_rise_scenario_calcrai_score_quartile',\n",
    "    'inland_flooding_scenario_calcrai_score_quartile',\n",
    "]\n",
    "\n",
    "# Loop through each binned column and plot\n",
    "for column in binned_columns:\n",
    "    scenario_name = column.split('_scenario')[0]  # Get everything before '_scenario'\n",
    "    scenario_name = scenario_name.replace('_', ' ')\n",
    "\n",
    "    index_plot(binned_df_viz, column, scenario=scenario_name, plot_title=True, vmin=0, vmax=5, plot_type='discrete', save_name=f'binned {scenario_name}')"
   ]
  },
  {
   "cell_type": "markdown",
   "id": "fa58e092",
   "metadata": {},
   "source": [
    "## Step 4) Upload each scenario index .csv to AWS"
   ]
  },
  {
   "cell_type": "code",
   "execution_count": null,
   "id": "7e126224",
   "metadata": {
    "execution": {
     "iopub.execute_input": "2024-12-10T19:04:38.594302Z",
     "iopub.status.busy": "2024-12-10T19:04:38.594038Z",
     "iopub.status.idle": "2024-12-10T19:04:44.029296Z",
     "shell.execute_reply": "2024-12-10T19:04:44.028410Z",
     "shell.execute_reply.started": "2024-12-10T19:04:38.594287Z"
    }
   },
   "outputs": [],
   "source": [
    "# upload to aws bucket\n",
    "bucket_name = 'ca-climate-index'\n",
    "directory = '3_fair_data/index_data'\n",
    "\n",
    "files = ['calcrai_wildfire_scenario_index.csv',\n",
    "        'calcrai_heat_scenario_index.csv',\n",
    "        'calcrai_inland_flooding_scenario_index.csv',\n",
    "        'calcrai_sea_level_rise_scenario_index.csv',\n",
    "        'calcrai_drought_scenario_index.csv']\n",
    "\n",
    "for file in files:\n",
    "    upload_csv_aws([file], bucket_name, directory)"
   ]
  },
  {
   "cell_type": "markdown",
   "id": "047d1474",
   "metadata": {},
   "source": [
    "## Delete desired csv files\n",
    "* all that were generated from this notebook by default"
   ]
  },
  {
   "cell_type": "code",
   "execution_count": null,
   "id": "33226729",
   "metadata": {},
   "outputs": [],
   "source": [
    "folders_to_delete = [\"aws_csvs\"]\n",
    "csv_files_to_delete = [\"calcrai_wildfire_scenario_index.csv\", \n",
    "                       \"calcrai_heat_scenario_index.csv\",\n",
    "                       \"calcrai_inland_flooding_scenario_index.csv\", \n",
    "                       \"calcrai_sea_level_rise_scenario_index.csv\",\n",
    "                       \"calcrai_drought_scenario_index.csv\",\n",
    "                       \"binned_weighted_data.csv\"]\n",
    "\n",
    "png_files_to_delete = [\n",
    "                        \"binned drought.png\", \n",
    "                        \"binned extreme heat.png\", \n",
    "                        \"binned inland flooding.png\", \n",
    "                        \"binned sea level rise.png\", \n",
    "                        \"binned wildfire.png\"\n",
    "]\n",
    "\n",
    "delete_items(folders_to_delete, csv_files_to_delete, png_files=png_files_to_delete)"
   ]
  }
 ],
 "metadata": {
  "kernelspec": {
   "display_name": "carb",
   "language": "python",
   "name": "python3"
  },
  "language_info": {
   "codemirror_mode": {
    "name": "ipython",
    "version": 3
   },
   "file_extension": ".py",
   "mimetype": "text/x-python",
   "name": "python",
   "nbconvert_exporter": "python",
   "pygments_lexer": "ipython3",
   "version": "3.9.18"
  }
 },
 "nbformat": 4,
 "nbformat_minor": 5
}
