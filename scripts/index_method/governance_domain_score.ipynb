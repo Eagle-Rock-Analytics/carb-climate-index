{
 "cells": [
  {
   "cell_type": "markdown",
   "metadata": {},
   "source": [
    "# Cal-CRAI Domain Score: Governance\n",
    "\n",
    "**Order of operations**: \n",
    "1) Metric handling \\\n",
    "   1a - Retrieve data \\\n",
    "   1b - Min-max standardization \\\n",
    "   1c - Set vulnerability orientation (positive for when a larger value represents greater vulnerability, negative for when a larger value corresponds to decreased vulnerability)\n",
    "\n",
    "2) Calculate indicators \\\n",
    "   2a - Min-max standardization \\\n",
    "   2b - Finalize domain score\n",
    "   \n",
    "3) Visualize, save, and export domain score dataframe"
   ]
  },
  {
   "cell_type": "code",
   "execution_count": 1,
   "metadata": {
    "execution": {
     "iopub.execute_input": "2024-12-16T23:37:30.155863Z",
     "iopub.status.busy": "2024-12-16T23:37:30.154700Z",
     "iopub.status.idle": "2024-12-16T23:37:38.917405Z",
     "shell.execute_reply": "2024-12-16T23:37:38.916865Z",
     "shell.execute_reply.started": "2024-12-16T23:37:30.155797Z"
    }
   },
   "outputs": [],
   "source": [
    "import pandas as pd\n",
    "import os\n",
    "import sys\n",
    "import warnings\n",
    "\n",
    "# suppress pandas purely educational warnings\n",
    "from warnings import simplefilter\n",
    "simplefilter(action=\"ignore\", category=pd.errors.PerformanceWarning)\n",
    "\n",
    "sys.path.append(os.path.expanduser('../../'))\n",
    "from scripts.utils.file_helpers import pull_csv_from_directory, upload_csv_aws, delete_items\n",
    "from scripts.utils.write_metadata import append_metadata\n",
    "from scripts.utils.cal_crai_plotting import plot_domain_score, plot_region_domain\n",
    "from scripts.utils.cal_crai_calculations import (handle_outliers, min_max_standardize, process_domain_csv_files, \n",
    "                                        compute_averaged_indicators, compute_summed_indicators, indicator_dicts, \n",
    "                                        add_census_tracts, domain_summary_stats)"
   ]
  },
  {
   "cell_type": "markdown",
   "metadata": {},
   "source": [
    "## Step 1: Metric level\n",
    "### 1a) Retrieve metric files and process"
   ]
  },
  {
   "cell_type": "code",
   "execution_count": null,
   "metadata": {
    "execution": {
     "iopub.execute_input": "2024-12-16T23:37:39.219783Z",
     "iopub.status.busy": "2024-12-16T23:37:39.218543Z",
     "iopub.status.idle": "2024-12-16T23:38:40.566723Z",
     "shell.execute_reply": "2024-12-16T23:38:40.566096Z",
     "shell.execute_reply.started": "2024-12-16T23:37:39.219737Z"
    }
   },
   "outputs": [],
   "source": [
    "# set-up\n",
    "bucket_name = 'ca-climate-index'\n",
    "aws_dir = '3_fair_data/index_data/'\n",
    "\n",
    "pull_csv_from_directory(bucket_name, aws_dir, output_folder='aws_csvs', search_zipped=False, print_name=False)"
   ]
  },
  {
   "cell_type": "markdown",
   "metadata": {},
   "source": [
    "Process and merge Governance metric files together"
   ]
  },
  {
   "cell_type": "code",
   "execution_count": null,
   "metadata": {
    "execution": {
     "iopub.execute_input": "2024-12-16T23:38:40.568372Z",
     "iopub.status.busy": "2024-12-16T23:38:40.568185Z",
     "iopub.status.idle": "2024-12-16T23:38:40.948920Z",
     "shell.execute_reply": "2024-12-16T23:38:40.948590Z",
     "shell.execute_reply.started": "2024-12-16T23:38:40.568355Z"
    }
   },
   "outputs": [],
   "source": [
    "# domain-specific\n",
    "domain_prefix = 'governance_'\n",
    "\n",
    "input_folder = r'aws_csvs'\n",
    "output_folder = domain_prefix + \"folder\"\n",
    "meta_csv = r'../utils/calcrai_metrics.csv'\n",
    "\n",
    "merged_output_file = f'concatenate_{domain_prefix}metrics.csv'\n",
    "\n",
    "metric_vulnerable_resilient_dict = process_domain_csv_files(domain_prefix, input_folder, output_folder, meta_csv, merged_output_file)"
   ]
  },
  {
   "cell_type": "markdown",
   "metadata": {},
   "source": [
    "Take a look at the resulting dictionary: We will use this later to refactor 'resilient' metrics!"
   ]
  },
  {
   "cell_type": "code",
   "execution_count": null,
   "metadata": {
    "execution": {
     "iopub.execute_input": "2024-12-16T23:38:40.949654Z",
     "iopub.status.busy": "2024-12-16T23:38:40.949478Z",
     "iopub.status.idle": "2024-12-16T23:38:40.953202Z",
     "shell.execute_reply": "2024-12-16T23:38:40.952939Z",
     "shell.execute_reply.started": "2024-12-16T23:38:40.949642Z"
    }
   },
   "outputs": [],
   "source": [
    "metric_vulnerable_resilient_dict"
   ]
  },
  {
   "cell_type": "markdown",
   "metadata": {},
   "source": [
    "Now, take a look at the merged singluar csv file"
   ]
  },
  {
   "cell_type": "code",
   "execution_count": null,
   "metadata": {
    "execution": {
     "iopub.execute_input": "2024-12-16T23:38:40.954300Z",
     "iopub.status.busy": "2024-12-16T23:38:40.954182Z",
     "iopub.status.idle": "2024-12-16T23:38:40.972761Z",
     "shell.execute_reply": "2024-12-16T23:38:40.972257Z",
     "shell.execute_reply.started": "2024-12-16T23:38:40.954291Z"
    }
   },
   "outputs": [],
   "source": [
    "# read-in and view processed data\n",
    "processed_governance_df = pd.read_csv(merged_output_file)\n",
    "processed_governance_df"
   ]
  },
  {
   "cell_type": "markdown",
   "metadata": {},
   "source": [
    "### 1b) Min-max standardization\n",
    "Metrics are min-max standardized on 0.01 to 0.99 scale."
   ]
  },
  {
   "cell_type": "code",
   "execution_count": null,
   "metadata": {
    "execution": {
     "iopub.execute_input": "2024-12-16T23:38:40.973511Z",
     "iopub.status.busy": "2024-12-16T23:38:40.973364Z",
     "iopub.status.idle": "2024-12-16T23:38:40.997279Z",
     "shell.execute_reply": "2024-12-16T23:38:40.996931Z",
     "shell.execute_reply.started": "2024-12-16T23:38:40.973493Z"
    }
   },
   "outputs": [],
   "source": [
    "# standardizing our df\n",
    "columns_to_process = [col for col in processed_governance_df.columns if col != 'GEOID']\n",
    "min_max_metrics = min_max_standardize(processed_governance_df, columns_to_process)"
   ]
  },
  {
   "cell_type": "markdown",
   "metadata": {},
   "source": [
    "Isolate for GEOID and standardized columns exclusively"
   ]
  },
  {
   "cell_type": "code",
   "execution_count": null,
   "metadata": {
    "execution": {
     "iopub.execute_input": "2024-12-16T23:38:40.997925Z",
     "iopub.status.busy": "2024-12-16T23:38:40.997812Z",
     "iopub.status.idle": "2024-12-16T23:38:41.001668Z",
     "shell.execute_reply": "2024-12-16T23:38:41.001297Z",
     "shell.execute_reply.started": "2024-12-16T23:38:40.997915Z"
    }
   },
   "outputs": [],
   "source": [
    "words = ['GEOID','standardized']\n",
    "selected_columns = []\n",
    "for word in words:\n",
    "    selected_columns.extend(min_max_metrics.columns[min_max_metrics.columns.str.contains(word)].tolist())\n",
    "min_max_standardized_governance_metrics_df = min_max_metrics[selected_columns]\n",
    "min_max_standardized_governance_metrics_df.head()"
   ]
  },
  {
   "cell_type": "markdown",
   "metadata": {},
   "source": [
    "### 1c) Set resilience orientation\n",
    "* High values indicate resiliency\n",
    "* Low values indicate vulnerablility\n",
    "\n",
    "Some metrics indicate a communities vulnerablity rather than resilience. For example, 'percent_sampled_wells_contaminated' represents a communities vulnerability to water contamination. For this metric, the higher the number, the more vulnerable. So we identify these 'vulnerable' metrics with our `metric_vulnerable_resilient_dict` dictionary and subtract their values from 1 so all high values indicate resiliency"
   ]
  },
  {
   "cell_type": "code",
   "execution_count": null,
   "metadata": {
    "execution": {
     "iopub.execute_input": "2024-12-16T23:38:45.557059Z",
     "iopub.status.busy": "2024-12-16T23:38:45.556247Z",
     "iopub.status.idle": "2024-12-16T23:38:45.568719Z",
     "shell.execute_reply": "2024-12-16T23:38:45.567155Z",
     "shell.execute_reply.started": "2024-12-16T23:38:45.557019Z"
    }
   },
   "outputs": [],
   "source": [
    "metric_vulnerable_resilient_dict"
   ]
  },
  {
   "cell_type": "code",
   "execution_count": null,
   "metadata": {
    "execution": {
     "iopub.execute_input": "2024-12-16T23:39:00.414442Z",
     "iopub.status.busy": "2024-12-16T23:39:00.413754Z",
     "iopub.status.idle": "2024-12-16T23:39:00.452278Z",
     "shell.execute_reply": "2024-12-16T23:39:00.451541Z",
     "shell.execute_reply.started": "2024-12-16T23:39:00.414409Z"
    }
   },
   "outputs": [],
   "source": [
    "# Access the vulnerable column names from the dictionary\n",
    "vulnerable_columns = metric_vulnerable_resilient_dict['vulnerable']\n",
    "\n",
    "# Identify columns in the DataFrame that contain any of the vulnerable column names as substrings\n",
    "vulnerable_columns_in_df = [col for col in min_max_standardized_governance_metrics_df.columns \n",
    "                           if any(resilient_col in col for resilient_col in vulnerable_columns)]\n",
    "\n",
    "# Create a new DataFrame with the adjusted vulnerable columns\n",
    "adjusted_vulnerable_df = min_max_standardized_governance_metrics_df.copy()\n",
    "\n",
    "# Subtract the standardized vulnerable columns from one and store the result in the new DataFrame\n",
    "adjusted_vulnerable_df.loc[:, vulnerable_columns_in_df] = (\n",
    "    1 - adjusted_vulnerable_df.loc[:, vulnerable_columns_in_df]\n",
    ")\n",
    "\n",
    "# View results\n",
    "adjusted_vulnerable_df.head()"
   ]
  },
  {
   "cell_type": "markdown",
   "metadata": {},
   "source": [
    "## Step 2: Calculate Indicators\n",
    "Loop to go through df columns and average metrics that belong within an indicator based off of the metric to indicator dictionary"
   ]
  },
  {
   "cell_type": "code",
   "execution_count": null,
   "metadata": {
    "execution": {
     "iopub.execute_input": "2024-12-16T23:39:03.452233Z",
     "iopub.status.busy": "2024-12-16T23:39:03.451524Z",
     "iopub.status.idle": "2024-12-16T23:39:03.459047Z",
     "shell.execute_reply": "2024-12-16T23:39:03.457800Z",
     "shell.execute_reply.started": "2024-12-16T23:39:03.452200Z"
    }
   },
   "outputs": [],
   "source": [
    "domain_prefix[:-1]"
   ]
  },
  {
   "cell_type": "code",
   "execution_count": null,
   "metadata": {},
   "outputs": [],
   "source": [
    "averaged_indicators_governance_systems = compute_averaged_indicators(\n",
    "    adjusted_vulnerable_df, \n",
    "    indicator_dicts(domain_prefix[:-1]), print_summary=True\n",
    ")\n",
    "\n",
    "# show resulting dataframe to highlight the indicator values\n",
    "averaged_indicators_governance_systems"
   ]
  },
  {
   "cell_type": "markdown",
   "metadata": {},
   "source": [
    "Save Indicator dataframe as a csv"
   ]
  },
  {
   "cell_type": "code",
   "execution_count": 12,
   "metadata": {
    "execution": {
     "iopub.execute_input": "2024-12-16T23:39:07.120739Z",
     "iopub.status.busy": "2024-12-16T23:39:07.120036Z",
     "iopub.status.idle": "2024-12-16T23:39:07.181885Z",
     "shell.execute_reply": "2024-12-16T23:39:07.181363Z",
     "shell.execute_reply.started": "2024-12-16T23:39:07.120704Z"
    }
   },
   "outputs": [],
   "source": [
    "# set-up file for export\n",
    "indicator_filename = '{}domain_averaged_indicators.csv'.format(domain_prefix)\n",
    "averaged_indicators_governance_systems.to_csv(indicator_filename, index=False)"
   ]
  },
  {
   "cell_type": "markdown",
   "metadata": {},
   "source": [
    "Sum the indicator columns together to calculate the domain score\n",
    "* essentially summing all columns except for 'GEOID'"
   ]
  },
  {
   "cell_type": "code",
   "execution_count": null,
   "metadata": {
    "execution": {
     "iopub.execute_input": "2024-12-16T23:39:08.491710Z",
     "iopub.status.busy": "2024-12-16T23:39:08.491011Z",
     "iopub.status.idle": "2024-12-16T23:39:08.510529Z",
     "shell.execute_reply": "2024-12-16T23:39:08.509869Z",
     "shell.execute_reply.started": "2024-12-16T23:39:08.491676Z"
    }
   },
   "outputs": [],
   "source": [
    "columns_to_sum = [col for col in averaged_indicators_governance_systems.columns if col != 'GEOID']\n",
    "summed_indicators_governance_systems = compute_summed_indicators(\n",
    "    df=averaged_indicators_governance_systems, \n",
    "    columns_to_sum=columns_to_sum,\n",
    "    domain_prefix=domain_prefix\n",
    ")"
   ]
  },
  {
   "cell_type": "markdown",
   "metadata": {},
   "source": [
    "# 2a) Min-max standardize the summed columns"
   ]
  },
  {
   "cell_type": "code",
   "execution_count": null,
   "metadata": {
    "execution": {
     "iopub.execute_input": "2024-12-16T23:39:14.588868Z",
     "iopub.status.busy": "2024-12-16T23:39:14.588182Z",
     "iopub.status.idle": "2024-12-16T23:39:14.612471Z",
     "shell.execute_reply": "2024-12-16T23:39:14.611765Z",
     "shell.execute_reply.started": "2024-12-16T23:39:14.588834Z"
    }
   },
   "outputs": [],
   "source": [
    "columns_to_process = [col for col in summed_indicators_governance_systems.columns if col != 'GEOID']\n",
    "min_max_domain = min_max_standardize(summed_indicators_governance_systems, columns_to_process)\n",
    "min_max_domain"
   ]
  },
  {
   "cell_type": "markdown",
   "metadata": {},
   "source": [
    "# 2b) Finalize domain score\n",
    "* Isolate to census tract and summed standardized columns\n",
    "* Rename tract to GEOID for merging\n",
    "* Rename domain score column\n",
    "* Add a zero at the beginning of the GEOID to match census tract that will be merged"
   ]
  },
  {
   "cell_type": "code",
   "execution_count": null,
   "metadata": {
    "execution": {
     "iopub.execute_input": "2024-12-16T23:39:45.887990Z",
     "iopub.status.busy": "2024-12-16T23:39:45.887299Z",
     "iopub.status.idle": "2024-12-16T23:39:45.915512Z",
     "shell.execute_reply": "2024-12-16T23:39:45.914960Z",
     "shell.execute_reply.started": "2024-12-16T23:39:45.887955Z"
    }
   },
   "outputs": [],
   "source": [
    "governance_domain_score = min_max_domain[['GEOID', 'summed_indicators_governance_domain_min_max_standardized']].copy()\n",
    "\n",
    "# GEOID handling\n",
    "governance_domain_score['GEOID'] = governance_domain_score['GEOID'].apply(lambda x: '0' + str(x))\n",
    "governance_domain_score['GEOID'] = governance_domain_score['GEOID'].astype(str).apply(lambda x: x.rstrip('0').rstrip('.') if '.' in x else x)\n",
    "governance_domain_score = governance_domain_score.rename(columns={'summed_indicators_governance_domain_min_max_standardized':'governance_domain_score'})\n",
    "governance_domain_score.head()"
   ]
  },
  {
   "cell_type": "markdown",
   "metadata": {},
   "source": [
    "## Step 3: Visualize, save, and export domain score\n"
   ]
  },
  {
   "cell_type": "markdown",
   "metadata": {},
   "source": [
    "Let's look at some summary statistics for this domain:"
   ]
  },
  {
   "cell_type": "code",
   "execution_count": null,
   "metadata": {
    "execution": {
     "iopub.execute_input": "2024-12-16T23:39:49.879636Z",
     "iopub.status.busy": "2024-12-16T23:39:49.878940Z",
     "iopub.status.idle": "2024-12-16T23:39:49.889613Z",
     "shell.execute_reply": "2024-12-16T23:39:49.887721Z",
     "shell.execute_reply.started": "2024-12-16T23:39:49.879603Z"
    }
   },
   "outputs": [],
   "source": [
    "domain_summary_stats(governance_domain_score, 'governance_domain_score')"
   ]
  },
  {
   "cell_type": "markdown",
   "metadata": {},
   "source": [
    "Now let's visualize the entire domain!"
   ]
  },
  {
   "cell_type": "code",
   "execution_count": null,
   "metadata": {
    "execution": {
     "iopub.execute_input": "2024-12-16T23:39:51.025854Z",
     "iopub.status.busy": "2024-12-16T23:39:51.025163Z",
     "iopub.status.idle": "2024-12-16T23:39:52.339516Z",
     "shell.execute_reply": "2024-12-16T23:39:52.339144Z",
     "shell.execute_reply.started": "2024-12-16T23:39:51.025820Z"
    }
   },
   "outputs": [],
   "source": [
    "plot_domain_score(governance_domain_score, column_to_plot='governance_domain_score', domain=domain_prefix)"
   ]
  },
  {
   "cell_type": "markdown",
   "metadata": {},
   "source": [
    "### We can also visualize specific areas!\n",
    "Here we'll use the specialized plotting function `plot_region_domain` function, which can handle county identifiers (their corresponding FIPS code) and pre-defined CA regions (listed below). For more information on the function, type `help(plot_region_domain)` to display additional context for all arguments. \n",
    "\n",
    "Pre-defined regions include: `bay_area`, `central_region`, `inland_deserts`, `north_central`, `northern`, `south_coast`, `slr_coast`. \n",
    "\n",
    "CA County FIPS Code Look-Up Table\n",
    "|County: Code|County: Code|County: Code|County: Code|\n",
    "|-----|----|-----|-----|\n",
    "|Alameda: 001|Lassen: 035|San Benito: 069|Tehama: 103|\n",
    "|Alpine: 003|Los Angeles: 037|San Bernardino: 071|Trinity: 105|\n",
    "|Amador: 005|Madera: 039|San Diego: 073|Tulare: 107|\n",
    "|Butte: 007|Marin: 041|San Francisco: 075|Tuolumne: 109|\n",
    "|Calaveras: 009|Mariposa: 043|San Joaquin: 077|Ventura: 111|\n",
    "|Colusa: 013|Mendocino: 045|San Luis Obispo: 079|Yolo: 113|\n",
    "|Contra Costa: 015|Merced: 047|San Mateo: 081|Yuba: 115|\n",
    "|Del Norte: 017|Modoc: 049| Santa Barbara: 083|\n",
    "|El Dorado: 019|Mono: 051|Santa Clara: 085|\n",
    "|Fresno: 019|Monterey: 053|Santa Cruz: 087|\n",
    "|Glenn: 021|Napa: 055|Shasta: 089|\n",
    "|Humboldt: 023|Nevada: 057|Sierra: 091|\n",
    "|Imperial: 025|Orange: 059|Siskiyou: 095|\n",
    "|Inyo: 027|Placer: 061|Solano: 095|\n",
    "|Kern: 029|Plumas: 063|Sonoma: 097|\n",
    "|Kings: 031|Riverside: 065|Stanislaus: 099|\n",
    "|Lake: 033|Sacramento: 067|Sutter: 101|\n",
    "\n",
    "You can plot a domains vulnerability index by region, specific county/counties, or the entirety of CA with labels. Below are a few example of each of these plotting scenarios. \n",
    "`help(plot_region_domain)`"
   ]
  },
  {
   "cell_type": "code",
   "execution_count": null,
   "metadata": {
    "execution": {
     "iopub.execute_input": "2024-12-16T23:41:24.562653Z",
     "iopub.status.busy": "2024-12-16T23:41:24.561943Z",
     "iopub.status.idle": "2024-12-16T23:41:25.671720Z",
     "shell.execute_reply": "2024-12-16T23:41:25.671348Z",
     "shell.execute_reply.started": "2024-12-16T23:41:24.562620Z"
    }
   },
   "outputs": [],
   "source": [
    "plot_region_domain(governance_domain_score, \n",
    "                   column_to_plot='governance_domain_score',\n",
    "                   domain=domain_prefix, \n",
    "                   domain_label_map={domain_prefix: 'Governance Domain'}, \n",
    "                   region='inland_deserts', \n",
    "                   savefig=False, \n",
    "                   font_color='black')"
   ]
  },
  {
   "cell_type": "code",
   "execution_count": null,
   "metadata": {
    "execution": {
     "iopub.execute_input": "2024-12-16T23:41:25.672710Z",
     "iopub.status.busy": "2024-12-16T23:41:25.672596Z",
     "iopub.status.idle": "2024-12-16T23:41:26.839348Z",
     "shell.execute_reply": "2024-12-16T23:41:26.838987Z",
     "shell.execute_reply.started": "2024-12-16T23:41:25.672700Z"
    }
   },
   "outputs": [],
   "source": [
    "plot_region_domain(governance_domain_score, \n",
    "                   column_to_plot='governance_domain_score',\n",
    "                   domain=domain_prefix, \n",
    "                   domain_label_map={domain_prefix: 'Governance Domain'}, \n",
    "                   region='central_region', \n",
    "                   savefig=False, \n",
    "                   font_color='black')"
   ]
  },
  {
   "cell_type": "code",
   "execution_count": null,
   "metadata": {
    "execution": {
     "iopub.execute_input": "2024-12-16T23:41:26.839995Z",
     "iopub.status.busy": "2024-12-16T23:41:26.839889Z",
     "iopub.status.idle": "2024-12-16T23:41:27.061572Z",
     "shell.execute_reply": "2024-12-16T23:41:27.061097Z",
     "shell.execute_reply.started": "2024-12-16T23:41:26.839986Z"
    }
   },
   "outputs": [],
   "source": [
    "list_of_counties = ['003']\n",
    "plot_region_domain(governance_domain_score, \n",
    "                   column_to_plot='governance_domain_score',\n",
    "                   domain=domain_prefix, \n",
    "                   domain_label_map={domain_prefix: 'Governance Domain'}, \n",
    "                   counties_to_plot=list_of_counties, \n",
    "                   savefig=False, \n",
    "                   font_color='black')"
   ]
  },
  {
   "cell_type": "code",
   "execution_count": null,
   "metadata": {
    "execution": {
     "iopub.execute_input": "2024-12-16T23:41:27.063440Z",
     "iopub.status.busy": "2024-12-16T23:41:27.063158Z",
     "iopub.status.idle": "2024-12-16T23:41:33.179576Z",
     "shell.execute_reply": "2024-12-16T23:41:33.179195Z",
     "shell.execute_reply.started": "2024-12-16T23:41:27.063428Z"
    }
   },
   "outputs": [],
   "source": [
    "plot_region_domain(governance_domain_score, \n",
    "                   column_to_plot='governance_domain_score',\n",
    "                   domain=domain_prefix, \n",
    "                   domain_label_map={domain_prefix: 'Governance Domain'}, \n",
    "                   plot_all=True, \n",
    "                   savefig=False, \n",
    "                   font_color='black')"
   ]
  },
  {
   "cell_type": "markdown",
   "metadata": {},
   "source": [
    "## Export the final domain csv file"
   ]
  },
  {
   "cell_type": "code",
   "execution_count": 18,
   "metadata": {
    "execution": {
     "iopub.execute_input": "2024-12-16T23:41:33.180877Z",
     "iopub.status.busy": "2024-12-16T23:41:33.180732Z",
     "iopub.status.idle": "2024-12-16T23:41:33.195081Z",
     "shell.execute_reply": "2024-12-16T23:41:33.194687Z",
     "shell.execute_reply.started": "2024-12-16T23:41:33.180866Z"
    }
   },
   "outputs": [],
   "source": [
    "# set-up file for export\n",
    "domain_filename = '{}domain_score.csv'.format(domain_prefix)\n",
    "governance_domain_score.to_csv(domain_filename, index=False)"
   ]
  },
  {
   "cell_type": "markdown",
   "metadata": {},
   "source": [
    "## Upload the indicator and domain score csv files to AWS"
   ]
  },
  {
   "cell_type": "code",
   "execution_count": null,
   "metadata": {
    "execution": {
     "iopub.execute_input": "2024-12-16T23:41:33.195702Z",
     "iopub.status.busy": "2024-12-16T23:41:33.195583Z",
     "iopub.status.idle": "2024-12-16T23:41:37.974197Z",
     "shell.execute_reply": "2024-12-16T23:41:37.972779Z",
     "shell.execute_reply.started": "2024-12-16T23:41:33.195692Z"
    }
   },
   "outputs": [],
   "source": [
    "# upload to aws bucket\n",
    "bucket_name = 'ca-climate-index'\n",
    "directory = '3_fair_data/index_data'\n",
    "\n",
    "files_upload = indicator_filename, domain_filename\n",
    "\n",
    "for file in files_upload:\n",
    "    upload_csv_aws([file], bucket_name, directory)"
   ]
  },
  {
   "cell_type": "markdown",
   "metadata": {},
   "source": [
    "## Delete desired csv files\n",
    "* all that were generated from this notebook by default"
   ]
  },
  {
   "cell_type": "code",
   "execution_count": null,
   "metadata": {},
   "outputs": [],
   "source": [
    "folders_to_delete = [\"aws_csvs\", \"governance_folder\"]\n",
    "csv_files_to_delete = [\"concatenate_governance_metrics.csv\", \"governance_domain_score.csv\",\n",
    "                       \"governance_domain_averaged_indicators.csv\"]\n",
    "\n",
    "delete_items(folders_to_delete, csv_files_to_delete)"
   ]
  }
 ],
 "metadata": {
  "kernelspec": {
   "display_name": "carb",
   "language": "python",
   "name": "python3"
  },
  "language_info": {
   "codemirror_mode": {
    "name": "ipython",
    "version": 3
   },
   "file_extension": ".py",
   "mimetype": "text/x-python",
   "name": "python",
   "nbconvert_exporter": "python",
   "pygments_lexer": "ipython3",
   "version": "3.9.18"
  }
 },
 "nbformat": 4,
 "nbformat_minor": 4
}
