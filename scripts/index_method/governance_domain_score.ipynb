{
 "cells": [
  {
   "cell_type": "markdown",
   "metadata": {},
   "source": [
    "# Cal-CRAI Domain Score: Governance\n",
    "\n",
    "**Order of operations**: \n",
    "1) Metric handling \\\n",
    "   1a - Retrieve data \\\n",
    "   1b - Min-max standardization \\\n",
    "   1c - Set vulnerability orientation (positive for when a larger value represents greater vulnerability, negative for when a larger value corresponds to decreased vulnerability)\n",
    "\n",
    "2) Calculate indicators \\\n",
    "   2a - Min-max standardization \\\n",
    "   2b - Finalize domain score\n",
    "   \n",
    "3) Visualize, save, and export domain score dataframe"
   ]
  },
  {
   "cell_type": "code",
   "execution_count": null,
   "metadata": {},
   "outputs": [],
   "source": [
    "import pandas as pd\n",
    "import os\n",
    "import sys\n",
    "import warnings\n",
    "\n",
    "# suppress pandas purely educational warnings\n",
    "from warnings import simplefilter\n",
    "simplefilter(action=\"ignore\", category=pd.errors.PerformanceWarning)\n",
    "\n",
    "sys.path.append(os.path.expanduser('../../'))\n",
    "from scripts.utils.file_helpers import pull_csv_from_directory, upload_csv_aws\n",
    "from scripts.utils.write_metadata import append_metadata\n",
    "from scripts.utils.cal_crai_plotting import plot_domain_score, plot_region_domain\n",
    "from scripts.utils.cal_crai_calculations import (handle_outliers, min_max_standardize, process_domain_csv_files, \n",
    "                                        compute_averaged_indicators, compute_summed_indicators, indicator_dicts, \n",
    "                                        add_census_tracts, domain_summary_stats)"
   ]
  },
  {
   "cell_type": "markdown",
   "metadata": {},
   "source": [
    "## Step 1: Metric level\n",
    "### 1a) Retrieve metric files and process"
   ]
  },
  {
   "cell_type": "code",
   "execution_count": null,
   "metadata": {},
   "outputs": [],
   "source": [
    "# set-up\n",
    "bucket_name = 'ca-climate-index'\n",
    "aws_dir = '3_fair_data/index_data/'\n",
    "\n",
    "pull_csv_from_directory(bucket_name, aws_dir, output_folder='aws_csvs', search_zipped=False, print_name=False)"
   ]
  },
  {
   "cell_type": "markdown",
   "metadata": {},
   "source": [
    "### Process and merge Governance metric files together"
   ]
  },
  {
   "cell_type": "code",
   "execution_count": null,
   "metadata": {},
   "outputs": [],
   "source": [
    "# domain-specific\n",
    "domain_prefix = 'governance_'\n",
    "\n",
    "input_folder = r'aws_csvs'\n",
    "output_folder = domain_prefix + \"folder\"\n",
    "meta_csv = r'../utils/calcrai_metrics.csv'\n",
    "merged_output_file = f'concatenate_{domain_prefix}metrics.csv'\n",
    "\n",
    "metric_vulnerable_resilient_dict = process_domain_csv_files(domain_prefix, input_folder, output_folder, meta_csv, merged_output_file)"
   ]
  },
  {
   "cell_type": "markdown",
   "metadata": {},
   "source": [
    "### Take a look at the resulting dictionary\n",
    "We will use this later to refactor 'resilient' metrics"
   ]
  },
  {
   "cell_type": "code",
   "execution_count": null,
   "metadata": {},
   "outputs": [],
   "source": [
    "metric_vulnerable_resilient_dict"
   ]
  },
  {
   "cell_type": "markdown",
   "metadata": {},
   "source": [
    "### Now, take a look at the merged singluar csv file"
   ]
  },
  {
   "cell_type": "code",
   "execution_count": null,
   "metadata": {},
   "outputs": [],
   "source": [
    "# read-in and view processed data\n",
    "processed_governance_df = pd.read_csv(merged_output_file)\n",
    "processed_governance_df"
   ]
  },
  {
   "cell_type": "markdown",
   "metadata": {},
   "source": [
    "### 1b) Min-max standardization\n",
    "Metrics are min-max standardized on 0.01 to 0.99 scale."
   ]
  },
  {
   "cell_type": "code",
   "execution_count": null,
   "metadata": {},
   "outputs": [],
   "source": [
    "# standardizing our df\n",
    "columns_to_process = [col for col in processed_governance_df.columns if col != 'GEOID']\n",
    "min_max_metrics = min_max_standardize(processed_governance_df, columns_to_process)"
   ]
  },
  {
   "cell_type": "markdown",
   "metadata": {},
   "source": [
    "Isolate for GEOID and standardized columns exclusively"
   ]
  },
  {
   "cell_type": "code",
   "execution_count": null,
   "metadata": {},
   "outputs": [],
   "source": [
    "words = ['GEOID','standardized']\n",
    "selected_columns = []\n",
    "for word in words:\n",
    "    selected_columns.extend(min_max_metrics.columns[min_max_metrics.columns.str.contains(word)].tolist())\n",
    "min_max_standardized_governance_metrics_df = min_max_metrics[selected_columns]"
   ]
  },
  {
   "cell_type": "code",
   "execution_count": null,
   "metadata": {},
   "outputs": [],
   "source": [
    "min_max_standardized_governance_metrics_df"
   ]
  },
  {
   "cell_type": "markdown",
   "metadata": {},
   "source": [
    "### 1c) Set resilience orientation\n",
    "* High values indicate resiliency\n",
    "* Low values indicate vulnerablility\n",
    "\n",
    "Some metrics indicate a communities vulnerablity rather than resilience. For example, 'percent_sampled_wells_contaminated' represents a communities vulnerability to water contamination. For this metric, the higher the number, the more vulnerable. So we identify these 'vulnerable' metrics with our `metric_vulnerable_resilient_dict` dictionary and subtract their values from 1 so all high values indicate resiliency"
   ]
  },
  {
   "cell_type": "code",
   "execution_count": null,
   "metadata": {},
   "outputs": [],
   "source": [
    "metric_vulnerable_resilient_dict"
   ]
  },
  {
   "cell_type": "code",
   "execution_count": null,
   "metadata": {},
   "outputs": [],
   "source": [
    "# Access the vulnerable column names from the dictionary\n",
    "vulnerable_columns = metric_vulnerable_resilient_dict['vulnerable']\n",
    "\n",
    "# Identify columns in the DataFrame that contain any of the vulnerable column names as substrings\n",
    "vulnerable_columns_in_df = [col for col in min_max_standardized_governance_metrics_df.columns \n",
    "                           if any(resilient_col in col for resilient_col in vulnerable_columns)]\n",
    "\n",
    "# Create a new DataFrame with the adjusted vulnerable columns\n",
    "adjusted_vulnerable_df = min_max_standardized_governance_metrics_df.copy()\n",
    "\n",
    "# Subtract the standardized vulnerable columns from one and store the result in the new DataFrame\n",
    "adjusted_vulnerable_df.loc[:, vulnerable_columns_in_df] = (\n",
    "    1 - adjusted_vulnerable_df.loc[:, vulnerable_columns_in_df]\n",
    ")"
   ]
  },
  {
   "cell_type": "code",
   "execution_count": null,
   "metadata": {},
   "outputs": [],
   "source": [
    "adjusted_vulnerable_df"
   ]
  },
  {
   "cell_type": "markdown",
   "metadata": {},
   "source": [
    "## Step 2: Calculate Indicators\n",
    "Loop to go through df columns and average metrics that belong within an indicator based off of the metric to indicator dictionary"
   ]
  },
  {
   "cell_type": "code",
   "execution_count": null,
   "metadata": {},
   "outputs": [],
   "source": [
    "domain_prefix[:-1]"
   ]
  },
  {
   "cell_type": "code",
   "execution_count": null,
   "metadata": {},
   "outputs": [],
   "source": [
    "averaged_indicators_governance_systems = compute_averaged_indicators(\n",
    "    adjusted_vulnerable_df, \n",
    "    indicator_dicts(domain_prefix[:-1])\n",
    ")\n",
    "\n",
    "# show resulting dataframe to highlight the indicator values\n",
    "averaged_indicators_governance_systems"
   ]
  },
  {
   "cell_type": "markdown",
   "metadata": {},
   "source": [
    "Save Indicator dataframe as a csv"
   ]
  },
  {
   "cell_type": "code",
   "execution_count": null,
   "metadata": {},
   "outputs": [],
   "source": [
    "# set-up file for export\n",
    "indicator_filename = '{}domain_averaged_indicators.csv'.format(domain_prefix)\n",
    "averaged_indicators_governance_systems.to_csv(indicator_filename, index=False)"
   ]
  },
  {
   "cell_type": "markdown",
   "metadata": {},
   "source": [
    "Sum the indicator columns together to calculate the domain score\n",
    "* essentially summing all columns except for 'GEOID'"
   ]
  },
  {
   "cell_type": "code",
   "execution_count": null,
   "metadata": {},
   "outputs": [],
   "source": [
    "columns_to_sum = [col for col in averaged_indicators_governance_systems.columns if col != 'GEOID']\n",
    "summed_indicators_governance_systems = compute_summed_indicators(\n",
    "    df=averaged_indicators_governance_systems, \n",
    "    columns_to_sum=columns_to_sum,\n",
    "    domain_prefix=domain_prefix\n",
    ")"
   ]
  },
  {
   "cell_type": "markdown",
   "metadata": {},
   "source": [
    "# 2a) Min-max standardize the summed columns"
   ]
  },
  {
   "cell_type": "code",
   "execution_count": null,
   "metadata": {},
   "outputs": [],
   "source": [
    "columns_to_process = [col for col in summed_indicators_governance_systems.columns if col != 'GEOID']\n",
    "min_max_domain = min_max_standardize(summed_indicators_governance_systems, columns_to_process)"
   ]
  },
  {
   "cell_type": "code",
   "execution_count": null,
   "metadata": {},
   "outputs": [],
   "source": [
    "min_max_domain"
   ]
  },
  {
   "cell_type": "markdown",
   "metadata": {},
   "source": [
    "# 2b) Finalize domain score\n",
    "* Isolate to census tract and summed standardized columns\n",
    "* Rename tract to GEOID for merging\n",
    "* Rename domain score column\n",
    "* Add a zero at the beginning of the GEOID to match census tract that will be merged"
   ]
  },
  {
   "cell_type": "code",
   "execution_count": null,
   "metadata": {},
   "outputs": [],
   "source": [
    "governance_domain_score = min_max_domain[['GEOID', 'summed_indicators_governance_domain_min_max_standardized']].copy()\n",
    "\n",
    "# GEOID handling\n",
    "governance_domain_score['GEOID'] = governance_domain_score['GEOID'].apply(lambda x: '0' + str(x))\n",
    "governance_domain_score['GEOID'] = governance_domain_score['GEOID'].astype(str).apply(lambda x: x.rstrip('0').rstrip('.') if '.' in x else x)\n",
    "governance_domain_score = governance_domain_score.rename(columns={'summed_indicators_governance_domain_min_max_standardized':'governance_domain_score'})"
   ]
  },
  {
   "cell_type": "code",
   "execution_count": null,
   "metadata": {},
   "outputs": [],
   "source": [
    "governance_domain_score"
   ]
  },
  {
   "cell_type": "markdown",
   "metadata": {},
   "source": [
    "## Step 3: Visualize, save, and export domain score\n"
   ]
  },
  {
   "cell_type": "markdown",
   "metadata": {},
   "source": [
    "Let's look at some summary statistics for this domain:"
   ]
  },
  {
   "cell_type": "code",
   "execution_count": null,
   "metadata": {},
   "outputs": [],
   "source": [
    "domain_summary_stats(governance_domain_score, 'governance_domain_score')"
   ]
  },
  {
   "cell_type": "markdown",
   "metadata": {},
   "source": [
    "Now let's visualize the entire domain!"
   ]
  },
  {
   "cell_type": "code",
   "execution_count": null,
   "metadata": {},
   "outputs": [],
   "source": [
    "plot_domain_score(governance_domain_score, column_to_plot='governance_domain_score', domain=domain_prefix)"
   ]
  },
  {
   "cell_type": "markdown",
   "metadata": {},
   "source": [
    "### We can also visualize specific areas!\n",
    "We call from a the `plot_region_domain` function which has a number of variables:\n",
    "\n",
    "df : DataFrame\n",
    "        A DataFrame containing the data you want to plot, which must include the column 'GEOID' to match with the census tract data.\n",
    "    \n",
    "    counties_to_plot : list of str, optional\n",
    "        A list of county FIPS codes (as strings) to plot. If None, no counties will be plotted.\n",
    "        Example: ['037', '071', '065', '029', '111'].\n",
    "    \n",
    "    region : str, optional\n",
    "        A predefined region to plot. Options: 'bay_area', 'central_region', 'inland_deserts', 'north_central', 'northern', or 'south_coast'.\n",
    "        If specified, this will override `counties_to_plot`.\n",
    "    \n",
    "    plot_all : bool, optional\n",
    "        If True, plots all counties in California. Overrides `counties_to_plot` and `region`.\n",
    "    \n",
    "    savefig : bool, optional\n",
    "        If True, the plot will be saved as a PNG file. Default is False.\n",
    "    \n",
    "    font_color : str, optional\n",
    "        Color of the font for county labels. Default is 'black'.\n",
    "    \n",
    "    domain : str, optional\n",
    "        The domain name used for labeling and column names. Default is 'society_economy_'.\n",
    "    \n",
    "    domain_label_map : dict, optional\n",
    "        A dictionary to map the domain variable to a more readable label. Example: {'society_economy_': 'Society and Economy Domain'}\n",
    "    \n",
    "    vmin : int, optional\n",
    "        set the minimum bounds of the color gradient\n",
    "        defualt is 0\n",
    "    \n",
    "    vmax : int, optional\n",
    "        set the maximum bounds of the color gradient\n",
    "        default is 3\n",
    "    \n",
    "    column_to_plot : str\n",
    "        name of the column to be plotted\n",
    "    \n",
    "    cmap : str, optional\n",
    "        name of the cmap to be used, 'Greens' is the default\n",
    "    \n",
    "    intro_title : str, optional\n",
    "        first portion of the figure title, default is 'Domain Score'\n",
    "\n",
    "    Dictionary of county labels\n",
    "    county_labels = {\n",
    "        '001': 'Alameda', '003': 'Alpine', '005': 'Amador', '007': 'Butte', '009': 'Calaveras',\n",
    "        '011': 'Colusa', '013': 'Contra Costa', '015': 'Del Norte', '017': 'El Dorado', '019': 'Fresno',\n",
    "        '021': 'Glenn', '023': 'Humboldt', '025': 'Imperial', '027': 'Inyo', '029': 'Kern',\n",
    "        '031': 'Kings', '033': 'Lake', '035': 'Lassen', '037': 'Los Angeles', '039': 'Madera',\n",
    "        '041': 'Marin', '043': 'Mariposa', '045': 'Mendocino', '047': 'Merced', '049': 'Modoc',\n",
    "        '051': 'Mono', '053': 'Monterey', '055': 'Napa', '057': 'Nevada', '059': 'Orange',\n",
    "        '061': 'Placer', '063': 'Plumas', '065': 'Riverside', '067': 'Sacramento', '069': 'San Benito',\n",
    "        '071': 'San Bernardino', '073': 'San Diego', '075': 'San Francisco', '077': 'San Joaquin',\n",
    "        '079': 'San Luis Obispo', '081': 'San Mateo', '083': 'Santa Barbara', '085': 'Santa Clara',\n",
    "        '087': 'Santa Cruz', '089': 'Shasta', '091': 'Sierra', '093': 'Siskiyou', '095': 'Solano',\n",
    "        '097': 'Sonoma', '099': 'Stanislaus', '101': 'Sutter', '103': 'Tehama', '105': 'Trinity',\n",
    "        '107': 'Tulare', '109': 'Tuolumne', '111': 'Ventura', '113': 'Yolo', '115': 'Yuba'\n",
    "\n",
    "You can plot a domains vulnerability index by region, specific county/counties, or the entirety of CA with labels\n",
    "Below are a few example of each of these plotting scenarios"
   ]
  },
  {
   "cell_type": "code",
   "execution_count": null,
   "metadata": {},
   "outputs": [],
   "source": [
    "plot_region_domain(governance_domain_score, \n",
    "                   column_to_plot='governance_domain_score',\n",
    "                   domain=domain_prefix, \n",
    "                   domain_label_map={domain_prefix: 'Governance Domain'}, \n",
    "                   region='inland_deserts', \n",
    "                   savefig=False, \n",
    "                   font_color='black')"
   ]
  },
  {
   "cell_type": "code",
   "execution_count": null,
   "metadata": {},
   "outputs": [],
   "source": [
    "plot_region_domain(governance_domain_score, \n",
    "                   column_to_plot='governance_domain_score',\n",
    "                   domain=domain_prefix, \n",
    "                   domain_label_map={domain_prefix: 'Governance Domain'}, \n",
    "                   region='central_region', \n",
    "                   savefig=False, \n",
    "                   font_color='black')"
   ]
  },
  {
   "cell_type": "code",
   "execution_count": null,
   "metadata": {},
   "outputs": [],
   "source": [
    "list_of_counties = ['003']\n",
    "plot_region_domain(governance_domain_score, \n",
    "                   column_to_plot='governance_domain_score',\n",
    "                   domain=domain_prefix, \n",
    "                   domain_label_map={domain_prefix: 'Governance Domain'}, \n",
    "                   counties_to_plot=list_of_counties, \n",
    "                   savefig=False, \n",
    "                   font_color='black')"
   ]
  },
  {
   "cell_type": "code",
   "execution_count": null,
   "metadata": {},
   "outputs": [],
   "source": [
    "plot_region_domain(governance_domain_score, \n",
    "                   column_to_plot='governance_domain_score',\n",
    "                   domain=domain_prefix, \n",
    "                   domain_label_map={domain_prefix: 'Governance Domain'}, \n",
    "                   plot_all=True, \n",
    "                   savefig=False, \n",
    "                   font_color='black')"
   ]
  },
  {
   "cell_type": "markdown",
   "metadata": {},
   "source": [
    "## Export the final domain csv file"
   ]
  },
  {
   "cell_type": "code",
   "execution_count": null,
   "metadata": {},
   "outputs": [],
   "source": [
    "# set-up file for export\n",
    "domain_filename = '{}domain_score.csv'.format(domain_prefix)\n",
    "governance_domain_score.to_csv(domain_filename, index=False)"
   ]
  },
  {
   "cell_type": "markdown",
   "metadata": {},
   "source": [
    "## Upload the indicator and domain score csv files to AWS"
   ]
  },
  {
   "cell_type": "code",
   "execution_count": null,
   "metadata": {},
   "outputs": [],
   "source": [
    "# upload to aws bucket\n",
    "bucket_name = 'ca-climate-index'\n",
    "directory = '3_fair_data/index_data'\n",
    "\n",
    "files_upload = indicator_filename, domain_filename\n",
    "\n",
    "for file in files_upload:\n",
    "    upload_csv_aws([file], bucket_name, directory)"
   ]
  }
 ],
 "metadata": {
  "kernelspec": {
   "display_name": "Python 3 (ipykernel)",
   "language": "python",
   "name": "python3"
  },
  "language_info": {
   "codemirror_mode": {
    "name": "ipython",
    "version": 3
   },
   "file_extension": ".py",
   "mimetype": "text/x-python",
   "name": "python",
   "nbconvert_exporter": "python",
   "pygments_lexer": "ipython3",
   "version": "3.9.18"
  }
 },
 "nbformat": 4,
 "nbformat_minor": 4
}
