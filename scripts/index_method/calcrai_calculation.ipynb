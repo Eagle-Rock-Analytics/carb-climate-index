{
 "cells": [
  {
   "cell_type": "markdown",
   "id": "0a449eaa",
   "metadata": {},
   "source": [
    "# Cal-CRAI Index: Equal-Weighting Climate Risk\n",
    "\n",
    "**Order of operations**:\n",
    "1) Metric handling \\\n",
    "   a) Retrieve & clean data \\\n",
    "   b) Merge data domains together \\\n",
    "   c) Calculate domain medians and adjusted scores \\\n",
    "   d) Pull climate domain and clean & merge\n",
    "\n",
    "2) Calculate index\n",
    "\n",
    "3) Visualize index results\n",
    "\n",
    "4) Bin values into 5 sections based on equal percentiles\n",
    "   - Visualize\n",
    "   \n",
    "5) Export data as a GeoDataBase and upload to AWS\n",
    "   - Add metadata to GeoDataBase"
   ]
  },
  {
   "cell_type": "code",
   "execution_count": 28,
   "id": "13cc762b-fc98-4d52-ae1c-6373f2d43950",
   "metadata": {
    "execution": {
     "iopub.execute_input": "2024-12-10T18:52:19.176894Z",
     "iopub.status.busy": "2024-12-10T18:52:19.176466Z",
     "iopub.status.idle": "2024-12-10T18:52:29.431051Z",
     "shell.execute_reply": "2024-12-10T18:52:29.430379Z",
     "shell.execute_reply.started": "2024-12-10T18:52:19.176880Z"
    }
   },
   "outputs": [],
   "source": [
    "import pandas as pd\n",
    "import os\n",
    "import sys\n",
    "import geopandas as gpd\n",
    "from shapely.geometry import Point\n",
    "import matplotlib.pyplot as plt\n",
    "import shutil\n",
    "from osgeo import ogr\n",
    "from collections import OrderedDict\n",
    "\n",
    "sys.path.append(os.path.expanduser('../../'))\n",
    "from scripts.utils.file_helpers import pull_csv_from_directory, upload_csv_aws\n",
    "from scripts.utils.cal_crai_calculations import calculate_equal_weighted_index, add_census_tracts\n",
    "from scripts.utils.cal_crai_plotting import index_plot, plot_region_domain"
   ]
  },
  {
   "cell_type": "markdown",
   "id": "fe48ecd1",
   "metadata": {},
   "source": [
    "## Step 1: Metric level\n",
    "### 1a) Retrieve metric files and process"
   ]
  },
  {
   "cell_type": "code",
   "execution_count": null,
   "id": "2f5d9e5f-72bf-4ff5-90a0-c99e56aa5d8a",
   "metadata": {
    "execution": {
     "iopub.execute_input": "2024-11-06T16:47:11.341023Z",
     "iopub.status.busy": "2024-11-06T16:47:11.340705Z",
     "iopub.status.idle": "2024-11-06T16:48:05.342758Z",
     "shell.execute_reply": "2024-11-06T16:48:05.342189Z",
     "shell.execute_reply.started": "2024-11-06T16:47:11.341010Z"
    }
   },
   "outputs": [],
   "source": [
    "# pull csv from aws\n",
    "bucket_name = 'ca-climate-index'\n",
    "aws_dir = '3_fair_data/index_data'\n",
    "output_folder = 'aws_csvs'\n",
    "\n",
    "pull_csv_from_directory(bucket_name, aws_dir, output_folder, search_zipped=False, print_name=False)"
   ]
  },
  {
   "cell_type": "code",
   "execution_count": 30,
   "id": "c0666a11",
   "metadata": {
    "execution": {
     "iopub.execute_input": "2024-11-06T16:48:05.344125Z",
     "iopub.status.busy": "2024-11-06T16:48:05.343823Z",
     "iopub.status.idle": "2024-11-06T16:48:07.983566Z",
     "shell.execute_reply": "2024-11-06T16:48:07.983065Z",
     "shell.execute_reply.started": "2024-11-06T16:48:05.344106Z"
    }
   },
   "outputs": [],
   "source": [
    "built_domain = pd.read_csv(r'aws_csvs/built_environment_domain_score.csv')\n",
    "governance_domain = pd.read_csv(r'aws_csvs/governance_domain_score.csv')\n",
    "natural_domain = pd.read_csv(r'aws_csvs/natural_systems_domain_score.csv')\n",
    "society_domain = pd.read_csv(r'aws_csvs/society_economy_domain_score.csv')\n",
    "climate_domain = pd.read_csv(r'aws_csvs/climate_hazard_scores.csv')"
   ]
  },
  {
   "cell_type": "code",
   "execution_count": 31,
   "id": "9eb599f0",
   "metadata": {
    "execution": {
     "iopub.execute_input": "2024-11-06T16:48:07.984253Z",
     "iopub.status.busy": "2024-11-06T16:48:07.984135Z",
     "iopub.status.idle": "2024-11-06T16:48:07.987379Z",
     "shell.execute_reply": "2024-11-06T16:48:07.987089Z",
     "shell.execute_reply.started": "2024-11-06T16:48:07.984243Z"
    }
   },
   "outputs": [],
   "source": [
    "# Keep only the first two columns\n",
    "built_domain_cleaned = built_domain.iloc[:, :2]\n",
    "governance_domain_cleaned = governance_domain.iloc[:, :2]\n",
    "natural_domain_cleaned = natural_domain.iloc[:, :2]\n",
    "society_domain_cleaned = society_domain.iloc[:, :2]\n",
    "climate_domain_cleaned = climate_domain.iloc[:, :2]"
   ]
  },
  {
   "cell_type": "markdown",
   "id": "fdd9d021-fe2d-4c65-b320-de4d0162d439",
   "metadata": {},
   "source": [
    "### 1b) Merge data domains together"
   ]
  },
  {
   "cell_type": "code",
   "execution_count": 32,
   "id": "145e6609-f21f-4534-96d3-3f9288886f22",
   "metadata": {
    "execution": {
     "iopub.execute_input": "2024-11-06T16:48:07.988034Z",
     "iopub.status.busy": "2024-11-06T16:48:07.987893Z",
     "iopub.status.idle": "2024-11-06T16:48:07.995268Z",
     "shell.execute_reply": "2024-11-06T16:48:07.995008Z",
     "shell.execute_reply.started": "2024-11-06T16:48:07.988024Z"
    }
   },
   "outputs": [],
   "source": [
    "merged_domains = pd.merge(governance_domain_cleaned, built_domain_cleaned, on='GEOID', how='left')\n",
    "merged_domains = pd.merge(merged_domains, natural_domain_cleaned, on='GEOID', how='left')\n",
    "merged_domains = pd.merge(merged_domains, society_domain_cleaned, on='GEOID', how='left')"
   ]
  },
  {
   "cell_type": "code",
   "execution_count": null,
   "id": "2f16cefc",
   "metadata": {
    "execution": {
     "iopub.execute_input": "2024-11-06T16:48:07.995933Z",
     "iopub.status.busy": "2024-11-06T16:48:07.995776Z",
     "iopub.status.idle": "2024-11-06T16:48:08.011235Z",
     "shell.execute_reply": "2024-11-06T16:48:08.010928Z",
     "shell.execute_reply.started": "2024-11-06T16:48:07.995924Z"
    }
   },
   "outputs": [],
   "source": [
    "# Ensure all values in GEOID are strings\n",
    "merged_domains['GEOID'] = merged_domains['GEOID'].astype(str)\n",
    "\n",
    "# Add a '0' to the beginning of each GEOID and pad them to the correct length\n",
    "merged_domains['GEOID'] = merged_domains['GEOID'].str.zfill(merged_domains['GEOID'].str.len().max() + 1)\n",
    "\n",
    "# Display the dataframe\n",
    "merged_domains"
   ]
  },
  {
   "cell_type": "markdown",
   "id": "18f53e6c",
   "metadata": {},
   "source": [
    "### 1c) Calculate data domain median and adjusted columns"
   ]
  },
  {
   "cell_type": "code",
   "execution_count": null,
   "id": "b642558d",
   "metadata": {
    "execution": {
     "iopub.execute_input": "2024-11-06T16:48:08.013069Z",
     "iopub.status.busy": "2024-11-06T16:48:08.012943Z",
     "iopub.status.idle": "2024-11-06T16:48:08.021142Z",
     "shell.execute_reply": "2024-11-06T16:48:08.020853Z",
     "shell.execute_reply.started": "2024-11-06T16:48:08.013059Z"
    }
   },
   "outputs": [],
   "source": [
    "all_domains = merged_domains.copy()\n",
    "all_domains['built_environment_median'] = merged_domains['built_environment_domain_score'].median()\n",
    "all_domains['natural_systems_median'] = merged_domains['natural_systems_domain_score'].median()\n",
    "all_domains['society_economy_median'] = merged_domains['society_economy_domain_score'].median()\n",
    "\n",
    "all_domains"
   ]
  },
  {
   "cell_type": "code",
   "execution_count": null,
   "id": "3b4578bc",
   "metadata": {
    "execution": {
     "iopub.execute_input": "2024-11-06T16:48:08.021886Z",
     "iopub.status.busy": "2024-11-06T16:48:08.021718Z",
     "iopub.status.idle": "2024-11-06T16:48:08.518824Z",
     "shell.execute_reply": "2024-11-06T16:48:08.518491Z",
     "shell.execute_reply.started": "2024-11-06T16:48:08.021873Z"
    }
   },
   "outputs": [],
   "source": [
    "def calculate_adjusted_value(row, category):\n",
    "    category_median_col = f'{category}_median'\n",
    "    category_col = f'{category}_domain_score'\n",
    "    adjusted_col = f'{category}_tract_adjusted'\n",
    "    return (row[category_col] - row[category_median_col]) / row[category_median_col]\n",
    "\n",
    "# Loop through each row and calculate the adjusted value for each category\n",
    "for index, row in all_domains.iterrows():\n",
    "    for category in ['natural_systems', 'society_economy', 'built_environment']:\n",
    "        adjusted_value = calculate_adjusted_value(row, category)\n",
    "        adjusted_col = f'{category}_tract_adjusted'\n",
    "        all_domains.at[index, adjusted_col] = adjusted_value\n",
    "\n",
    "# Display the DataFrame\n",
    "all_domains"
   ]
  },
  {
   "cell_type": "markdown",
   "id": "6b73fa5c",
   "metadata": {},
   "source": [
    "## 1d) Pull climate domain and clean & merge"
   ]
  },
  {
   "cell_type": "code",
   "execution_count": null,
   "id": "133023a3",
   "metadata": {
    "execution": {
     "iopub.execute_input": "2024-11-06T16:48:08.520626Z",
     "iopub.status.busy": "2024-11-06T16:48:08.520420Z",
     "iopub.status.idle": "2024-11-06T16:48:08.524879Z",
     "shell.execute_reply": "2024-11-06T16:48:08.524580Z",
     "shell.execute_reply.started": "2024-11-06T16:48:08.520615Z"
    }
   },
   "outputs": [],
   "source": [
    "climate_domain_cleaned"
   ]
  },
  {
   "cell_type": "code",
   "execution_count": null,
   "id": "9e17a2be",
   "metadata": {
    "execution": {
     "iopub.execute_input": "2024-11-06T16:48:08.525459Z",
     "iopub.status.busy": "2024-11-06T16:48:08.525346Z",
     "iopub.status.idle": "2024-11-06T16:48:08.536401Z",
     "shell.execute_reply": "2024-11-06T16:48:08.536091Z",
     "shell.execute_reply.started": "2024-11-06T16:48:08.525451Z"
    }
   },
   "outputs": [],
   "source": [
    "# Ensure all values in GEOID are strings\n",
    "climate_domain_cleaned['GEOID'] = climate_domain_cleaned['GEOID'].astype(str)\n",
    "\n",
    "# Add a '0' to the beginning of each GEOID and pad them to the correct length\n",
    "climate_domain_cleaned['GEOID'] = climate_domain_cleaned['GEOID'].str.zfill(merged_domains['GEOID'].str.len().max())\n",
    "\n",
    "# Display the dataframe\n",
    "climate_domain_cleaned"
   ]
  },
  {
   "cell_type": "code",
   "execution_count": null,
   "id": "77f7c477",
   "metadata": {},
   "outputs": [],
   "source": [
    "all_domains['hazard_score'] = climate_domain[['hazard_score']]\n",
    "all_domains"
   ]
  },
  {
   "cell_type": "markdown",
   "id": "a7f00ab3",
   "metadata": {},
   "source": [
    "## Step 2) Calculate Index"
   ]
  },
  {
   "cell_type": "code",
   "execution_count": null,
   "id": "69ffc005-1811-4ac3-ba57-992e00ff5ece",
   "metadata": {
    "execution": {
     "iopub.execute_input": "2024-11-06T16:48:08.546809Z",
     "iopub.status.busy": "2024-11-06T16:48:08.546645Z",
     "iopub.status.idle": "2024-11-06T16:48:08.556644Z",
     "shell.execute_reply": "2024-11-06T16:48:08.556341Z",
     "shell.execute_reply.started": "2024-11-06T16:48:08.546798Z"
    }
   },
   "outputs": [],
   "source": [
    "calcrai_index_equal_weight = calculate_equal_weighted_index(all_domains)\n",
    "calcrai_index_equal_weight"
   ]
  },
  {
   "cell_type": "code",
   "execution_count": 41,
   "id": "d41ba984",
   "metadata": {
    "execution": {
     "iopub.execute_input": "2024-11-06T16:48:08.557265Z",
     "iopub.status.busy": "2024-11-06T16:48:08.557165Z",
     "iopub.status.idle": "2024-11-06T16:48:08.655111Z",
     "shell.execute_reply": "2024-11-06T16:48:08.654636Z",
     "shell.execute_reply.started": "2024-11-06T16:48:08.557255Z"
    }
   },
   "outputs": [],
   "source": [
    "# save df as csv\n",
    "calcrai_index_equal_weight.to_csv('calcrai_score.csv', index=False)"
   ]
  },
  {
   "cell_type": "code",
   "execution_count": null,
   "id": "7e126224",
   "metadata": {
    "execution": {
     "iopub.execute_input": "2024-11-06T16:48:08.655755Z",
     "iopub.status.busy": "2024-11-06T16:48:08.655650Z",
     "iopub.status.idle": "2024-11-06T16:48:12.270720Z",
     "shell.execute_reply": "2024-11-06T16:48:12.269825Z",
     "shell.execute_reply.started": "2024-11-06T16:48:08.655746Z"
    }
   },
   "outputs": [],
   "source": [
    "# upload to aws bucket\n",
    "bucket_name = 'ca-climate-index'\n",
    "directory = '3_fair_data/index_data'\n",
    "file = 'calcrai_score.csv'\n",
    "\n",
    "upload_csv_aws([file], bucket_name, directory)"
   ]
  },
  {
   "cell_type": "markdown",
   "id": "15a09fd5-3962-43c5-a083-d1a26d992e86",
   "metadata": {},
   "source": [
    "Let's print some results to see the range of values in the synthetic data. "
   ]
  },
  {
   "cell_type": "code",
   "execution_count": null,
   "id": "16be7949-97f1-4a79-80b8-0646b5736d95",
   "metadata": {
    "execution": {
     "iopub.execute_input": "2024-11-06T16:48:12.274082Z",
     "iopub.status.busy": "2024-11-06T16:48:12.272979Z",
     "iopub.status.idle": "2024-11-06T16:48:12.285423Z",
     "shell.execute_reply": "2024-11-06T16:48:12.284494Z",
     "shell.execute_reply.started": "2024-11-06T16:48:12.274027Z"
    }
   },
   "outputs": [],
   "source": [
    "print('Min score / less resilience: ', calcrai_index_equal_weight['calcrai_score'].min())\n",
    "print('Max score / more resilience: ', calcrai_index_equal_weight['calcrai_score'].max())\n",
    "print('Mean score / average resilience: ', calcrai_index_equal_weight['calcrai_score'].mean())\n",
    "print('Median score / median resilience: ', calcrai_index_equal_weight['calcrai_score'].median())"
   ]
  },
  {
   "cell_type": "markdown",
   "id": "668535ed-675f-4f68-b4a2-d9677df65f3e",
   "metadata": {},
   "source": [
    "## Step 3: Visualize Results"
   ]
  },
  {
   "cell_type": "code",
   "execution_count": null,
   "id": "203e0ecf",
   "metadata": {
    "execution": {
     "iopub.execute_input": "2024-11-06T16:48:12.300259Z",
     "iopub.status.busy": "2024-11-06T16:48:12.300062Z",
     "iopub.status.idle": "2024-11-06T16:48:13.476873Z",
     "shell.execute_reply": "2024-11-06T16:48:13.476529Z",
     "shell.execute_reply.started": "2024-11-06T16:48:12.300243Z"
    }
   },
   "outputs": [],
   "source": [
    "index_plot(calcrai_index_equal_weight, column='calcrai_score', vmin=0, vmax=3)"
   ]
  },
  {
   "cell_type": "code",
   "execution_count": null,
   "id": "344a8f12",
   "metadata": {},
   "outputs": [],
   "source": [
    "plot_region_domain(calcrai_index_equal_weight, counties_to_plot=None,\n",
    "                   plot_all=True, savefig=False, font_color='black', domain='',\n",
    "                   domain_label_map=None, vmin=0, vmax=3, column_to_plot='calcrai_score',cmap='RdYlBu',\n",
    "                   intro_title='Climate Risk and Adaptation Index',\n",
    "                   legend_label = 'Cal-CRAI Score')"
   ]
  },
  {
   "cell_type": "code",
   "execution_count": null,
   "id": "d8f97884",
   "metadata": {},
   "outputs": [],
   "source": [
    "plot_region_domain(calcrai_index_equal_weight, counties_to_plot=None, region='slr_coast',\n",
    "                   plot_all=False, savefig=False, font_color='black', domain='',\n",
    "                   domain_label_map=None, vmin=0, vmax=3, column_to_plot='calcrai_score',cmap='RdYlBu',\n",
    "                   intro_title='Climate Risk and Adaptation Index',\n",
    "                   legend_label = 'Cal-CRAI Score') "
   ]
  },
  {
   "cell_type": "markdown",
   "id": "6df202ba",
   "metadata": {},
   "source": [
    "## Step 4: Bin the equal-weighted index score into 5 quartiles & visualize"
   ]
  },
  {
   "cell_type": "code",
   "execution_count": null,
   "id": "b6225fbb",
   "metadata": {},
   "outputs": [],
   "source": [
    "# Binning into quartiles\n",
    "binned_equal_df = calcrai_index_equal_weight.copy()\n",
    "\n",
    "# Define the columns to bin\n",
    "columns_to_bin = [\n",
    "    'calcrai_score'\n",
    "]\n",
    "\n",
    "# Apply qcut to each specified column and print the bin edges\n",
    "for column in columns_to_bin:\n",
    "    # Get the bin labels and edges\n",
    "    binned_equal_df[column + '_quartile'], bin_edges = pd.qcut(\n",
    "        binned_equal_df[column], \n",
    "        q=[0,0.2, 0.4, 0.6, 0.8, 1.0], \n",
    "        labels=False,\n",
    "        # labels=['<20%', '20-40%', '40-60%', '60-80%', '>80%'],\n",
    "        duplicates='drop', \n",
    "        retbins=True\n",
    "    )\n",
    "    print(f'Bin edges for {column}: {bin_edges}')\n",
    "\n",
    "# Show the resulting DataFrame with the binned columns\n",
    "binned_equal_df = binned_equal_df[['GEOID','calcrai_score_quartile']]\n",
    "binned_equal_df"
   ]
  },
  {
   "cell_type": "code",
   "execution_count": null,
   "id": "34483075",
   "metadata": {},
   "outputs": [],
   "source": [
    "# Create a copy and chain the .replace() calls\n",
    "binned_df_viz = binned_equal_df.copy()\n",
    "binned_df_viz['calcrai_score_quartile'] = (\n",
    "    binned_df_viz['calcrai_score_quartile']\n",
    "    .replace(0, '0-20%')\n",
    "    .replace(1, '20-40%')\n",
    "    .replace(2, '40-60%')\n",
    "    .replace(3, '60-80%')\n",
    "    .replace(4, '80+%')\n",
    ")\n",
    "binned_df_viz.head()"
   ]
  },
  {
   "cell_type": "code",
   "execution_count": null,
   "id": "d241d77d",
   "metadata": {},
   "outputs": [],
   "source": [
    "# List of binned columns\n",
    "binned_columns = [\n",
    "    'calcrai_score_quartile'\n",
    "]\n",
    "\n",
    "# Loop through each binned column and plot\n",
    "for column in binned_columns:\n",
    "    scenario_name = 'equal weight'\n",
    "\n",
    "    index_plot(binned_df_viz, column, save_name=f'binned {scenario_name}', scenario=scenario_name, plot_title=True, vmin=0, vmax=5, plot_type='discrete')"
   ]
  },
  {
   "cell_type": "markdown",
   "id": "933cf0f6",
   "metadata": {},
   "source": [
    "## Step 5: Export as a GeoDataBase\n",
    "### 5a) Prepare data"
   ]
  },
  {
   "cell_type": "markdown",
   "id": "ea72b1ef",
   "metadata": {},
   "source": [
    "Merge with census tract and geometry boundaries before exporting to geodatabase"
   ]
  },
  {
   "cell_type": "code",
   "execution_count": 50,
   "id": "69b96129",
   "metadata": {},
   "outputs": [],
   "source": [
    "equal_weight_merged = add_census_tracts(calcrai_index_equal_weight)"
   ]
  },
  {
   "cell_type": "code",
   "execution_count": null,
   "id": "fec641d3",
   "metadata": {},
   "outputs": [],
   "source": [
    "equal_weight_merged.columns"
   ]
  },
  {
   "cell_type": "markdown",
   "id": "704126f1",
   "metadata": {},
   "source": [
    "Isolate desired columns for the GeoDataBase file"
   ]
  },
  {
   "cell_type": "code",
   "execution_count": 52,
   "id": "99d35d4f",
   "metadata": {},
   "outputs": [],
   "source": [
    "geodatabase_columns = [\n",
    "    'GEOID', \n",
    "    'governance_domain_score', 'built_environment_domain_score', 'natural_systems_domain_score', 'society_economy_domain_score',\n",
    "    'built_environment_tract_adjusted', 'natural_systems_tract_adjusted', 'society_economy_tract_adjusted', \n",
    "    'community_capacity',  'hazard_score', 'calcrai_score', \n",
    "    'STATEFP', 'COUNTYFP', 'TRACTCE', 'NAME', 'NAMELSAD', 'MTFCC', 'FUNCSTAT', 'ALAND', 'AWATER', 'INTPTLAT', 'INTPTLON', 'geometry'\n",
    "]\n",
    "\n",
    "equal_weight_merged_cleaned = equal_weight_merged[geodatabase_columns]"
   ]
  },
  {
   "cell_type": "code",
   "execution_count": null,
   "id": "71a7e363",
   "metadata": {},
   "outputs": [],
   "source": [
    "# Create geometry column\n",
    "geometry = [Point(xy) for xy in zip(equal_weight_merged['INTPTLON'], equal_weight_merged['INTPTLAT'])]\n",
    "\n",
    "# Create GeoDataFrame\n",
    "gdf = gpd.GeoDataFrame(equal_weight_merged, geometry=geometry, crs=\"EPSG:4269\")  # Specify CRS\n",
    "\n",
    "# Define the output path\n",
    "gdb_path = r'../index_method/Cal_CRAI.gdb'\n",
    "\n",
    "# Save to geodatabase\n",
    "gdf.to_file(gdb_path, layer=\"cal_climate_resilience_adaptation_index\", driver=\"OpenFileGDB\")"
   ]
  },
  {
   "cell_type": "markdown",
   "id": "00668a35",
   "metadata": {},
   "source": [
    "### 5b) Add metadata do the GeoDataBase file"
   ]
  },
  {
   "cell_type": "code",
   "execution_count": null,
   "id": "a1b1f41c",
   "metadata": {},
   "outputs": [],
   "source": [
    "driver = ogr.GetDriverByName(\"OpenFileGDB\")\n",
    "gdb = driver.Open(gdb_path, 1)  # Open in write mode\n",
    "\n",
    "# Create a new table for metadata in the geodatabase\n",
    "metadata_table = gdb.CreateLayer(\"Metadata\", geom_type=ogr.wkbNone)\n",
    "\n",
    "# Define the fields for the metadata table\n",
    "metadata_table.CreateField(ogr.FieldDefn(\"Column_Name\", ogr.OFTString))\n",
    "metadata_table.CreateField(ogr.FieldDefn(\"Data_Type\", ogr.OFTString))\n",
    "metadata_table.CreateField(ogr.FieldDefn(\"Description\", ogr.OFTString))\n",
    "\n",
    "# Add metadata records for each column you want to document\n",
    "fields = [\n",
    "    (\"GEOID\", \"object\", \"Geographical identifier for the census tract. GEOID numbers are generated with the following: STATEFP + COUNTYFP + TRACTCE\"),\n",
    "    (\"governance_domain_score\", \"float64\", \"Governance domain score, used in the Cal-CRAI calculation\"),\n",
    "    (\"built_domain_score\", \"float64\", \"Built Environment domain index score, the value used to calculate the Built Environment adjusted score\"),\n",
    "    (\"natural_systems_domain_score\", \"float64\", \"Natural Systems domain index score, the value used to calculate the Natural Systems adjusted score\"),\n",
    "    (\"society_economy_domain_score\", \"float64\", \"Society and Economy domain index score, the value used to calculate the society and economy adjusted score\"),\n",
    "    (\"natural_systems_tract_adjusted\", \"float64\", \"Adjusted value for Natural Systems per census tract\"),\n",
    "    (\"society_economy_tract_adjusted\", \"float64\", \"Adjusted value for Society and Economy per census tract\"),\n",
    "    (\"built_tract_adjusted\", \"float64\", \"Adjusted value for Built Environment by tract\"),\n",
    "    (\"community_capacity\", \"float64\", \"Numerator score of the Cal-CRAI calculation, with each coefficient being 1\"),\n",
    "    (\"hazard_score\", \"float64\", \"Climate risk assessment score from all climate scenarios: Extreme Heat, Drought, Inland Flooding, Sea Level Rise, and Wildfires\"),\n",
    "    (\"calcrai_score\", \"float64\", \"Calculated Cal-CRAI scores per California census tract\"),\n",
    "    (\"STATEFP\", \"object\", \"State FIPS code\"),\n",
    "    (\"COUNTYFP\", \"object\", \"County FIPS code\"),\n",
    "    (\"TRACTCE\", \"object\", \"The unique identifier for a Census tract within a county\"),\n",
    "    (\"NAME\", \"object\", \"This is a simpler, shorter version of the tract's identifier, often used for display purposes.\"),\n",
    "    (\"NAMELSAD\", \"object\", \"Combines the tract's type with its specific number, creating a more human-readable label.\"),\n",
    "    (\"MTFCC\", \"object\", \"A code assigned to describe the feature's type in the U.S. Census Bureau's geographic database. \"),\n",
    "    (\"FUNCSTAT\", \"object\", \"Functional status of the geographical unit\"),\n",
    "    (\"ALAND\", \"int64\", \"Land area (in square meters)\"),\n",
    "    (\"AWATER\", \"int64\", \"Water area (in square meters)\"),\n",
    "    (\"INTPTLAT\", \"object\", \"Latitude of the intersection point\"),\n",
    "    (\"INTPTLON\", \"object\", \"Longitude of the intersection point\"),\n",
    "    (\"geometry\", \"geometry\", \"Spatial component of feature\")\n",
    "]\n",
    "\n",
    "# Add records for each field to the metadata table\n",
    "feature_def = metadata_table.GetLayerDefn()\n",
    "for field in fields:\n",
    "    feature = ogr.Feature(feature_def)\n",
    "    feature.SetField(\"Column_Name\", field[0])\n",
    "    feature.SetField(\"Data_Type\", field[1])\n",
    "    feature.SetField(\"Description\", field[2])\n",
    "    metadata_table.CreateFeature(feature)\n",
    "    feature = None  # Cleanup\n",
    "\n",
    "# Create an OrderedDict for metadata\n",
    "metadata_dict = OrderedDict()\n",
    "\n",
    "# Add metadata in order\n",
    "metadata_dict[\"Title\"] = \"California Climate Risk and Adaptation Index\"\n",
    "metadata_dict[\"Abstract\"] = (\n",
    "    \"The Cal-CRAI evaluates community capacity — the ability of a community to adapt to and recover from a climate event \\n\"\n",
    "    \" — and hazard risk, which refers to the degree to which communities are exposed to climate risks and the historical losses \\n\"\n",
    "    \"resulting from such events. This assessment spans a broad set of socioeconomic, built, and natural environment indicators, \\n\"\n",
    "    \"creating a composite resilience index score that provides insights into California's vulnerability and resilience to climate \\n\"\n",
    "    \"change impacts at a high spatial scale. The climate risks used have been previously identified as “highest priority” for California: \\n\"\n",
    "    \"- Extreme heat \\n\"\n",
    "    \"- Wildfire \\n\"\n",
    "    \"- Drought \\n\"\n",
    "    \"- Inland flooding \\n\"\n",
    "    \"- Sea level rise\"\n",
    ")\n",
    "metadata_dict[\"DOI\"] = \"https://doi.org/10.5281/zenodo.13840187\"\n",
    "metadata_dict[\"Owner\"] = \"California Air and Resources Board\"\n",
    "metadata_dict[\"Produced By\"] = \"Eagle Rock Analytics, Inc. for California Air Resources Board\"\n",
    "metadata_dict[\"Point of Contact\"] = \"Eagle Rock Analytics, Inc.: info@eaglerockanalytics\"\n",
    "metadata_dict[\"Spatial Reference System\"] = \"EPSG:4269 (NAD83 - North American Datum 1983)\"\n",
    "\n",
    "metadata_dict[\"Dataset Dates\"] = \"12.17.2024\"\n",
    "metadata_dict[\"Geographic Extent\"] = (\n",
    "    \"California, United States; Bounding Box: West: -124.48, East: -114.13, South: 32.53, North: 42.01\"\n",
    ")\n",
    "metadata_dict[\"Version\"] = \"1.0\"\n",
    "metadata_dict[\"Metadata Date Stamp\"] = \"2024-12-17\"\n",
    "metadata_dict[\"Metadata Language\"] = \"English\"\n",
    "metadata_dict[\"Metadata Character Set\"] = \"UTF-8\"\n",
    "metadata_dict[\"Dataset Language\"] = \"English\"\n",
    "metadata_dict[\"Dataset Character Set\"] = \"UTF-8\"\n",
    "metadata_dict[\"Topics\"] = (\n",
    "    \"Climate Risk Assessment, Climate Change Adaptation, Environmental Resilience, \"\n",
    "    \"Socioeconomic Vulnerability, Regional Planning, California, Wildfire, Drought, \"\n",
    "    \"Sea Level Rise, Inland Flooding, Extreme Heat\"\n",
    ")\n",
    "\n",
    "# Add the metadata to the geodatabase\n",
    "for key, value in metadata_dict.items():\n",
    "    gdb.SetMetadataItem(key, value)\n",
    "\n",
    "# Retrieve and print metadata in the order they were added\n",
    "print('------')\n",
    "for key, value in metadata_dict.items():\n",
    "    print(f\"{key}: {value}\")\n",
    "print('------')\n",
    "\n",
    "# Save and close the GDB\n",
    "gdb.Destroy()\n",
    "\n",
    "print(\"Metadata table created successfully in the geodatabase.\")"
   ]
  },
  {
   "cell_type": "markdown",
   "id": "a04a5a26",
   "metadata": {},
   "source": [
    "Zip geodatabase files"
   ]
  },
  {
   "cell_type": "code",
   "execution_count": null,
   "id": "8e63cae0",
   "metadata": {},
   "outputs": [],
   "source": [
    "# Path to the geodatabase directory\n",
    "gdb_path = '../index_method/Cal_CRAI.gdb'\n",
    "\n",
    "# Path for the zipped file\n",
    "zip_path = 'Cal_CRAI.zip'\n",
    "\n",
    "# Create a zip archive of the geodatabase\n",
    "shutil.make_archive('Cal_CRAI', 'zip', gdb_path)\n",
    "\n",
    "print(f\"Geodatabase zipped at {zip_path}\")"
   ]
  },
  {
   "cell_type": "markdown",
   "id": "328fdf3f",
   "metadata": {},
   "source": [
    "## Step 6: Upload to AWS"
   ]
  },
  {
   "cell_type": "code",
   "execution_count": null,
   "id": "cbd61e14",
   "metadata": {},
   "outputs": [],
   "source": [
    "# AWS bucket and directory\n",
    "bucket_name = 'ca-climate-index'\n",
    "directory = '3_fair_data/index_data'\n",
    "\n",
    "# File to upload (the zipped file)\n",
    "file = 'Cal_CRAI.zip'\n",
    "\n",
    "# Use the existing function to upload\n",
    "upload_csv_aws([file], bucket_name, directory)"
   ]
  }
 ],
 "metadata": {
  "kernelspec": {
   "display_name": "Python 3 (ipykernel)",
   "language": "python",
   "name": "python3"
  },
  "language_info": {
   "codemirror_mode": {
    "name": "ipython",
    "version": 3
   },
   "file_extension": ".py",
   "mimetype": "text/x-python",
   "name": "python",
   "nbconvert_exporter": "python",
   "pygments_lexer": "ipython3",
   "version": "3.9.18"
  }
 },
 "nbformat": 4,
 "nbformat_minor": 5
}
