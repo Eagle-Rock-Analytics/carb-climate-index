{
 "cells": [
  {
   "cell_type": "markdown",
   "metadata": {},
   "source": [
    "# Cal-CRAI Index: Built Environment Domain\n",
    "\n",
    "**Order of operations**:\n",
    "- Metric handling\n",
    "   - Retrieve data\n",
    "   - Min-max standardization\n",
    "   - Set vulnerability orientation (pos for vulnerable, neg for resilience)\n",
    "- Calculate indicators\n",
    "   - Min-max standardization\n",
    "- Calculate domain score\n",
    "- Visualizations\n",
    "\n",
    "Note: Functions and figures within this notebook are in development"
   ]
  },
  {
   "cell_type": "code",
   "execution_count": 2,
   "metadata": {
    "execution": {
     "iopub.execute_input": "2024-09-13T17:59:27.611666Z",
     "iopub.status.busy": "2024-09-13T17:59:27.611501Z",
     "iopub.status.idle": "2024-09-13T17:59:36.318267Z",
     "shell.execute_reply": "2024-09-13T17:59:36.317846Z",
     "shell.execute_reply.started": "2024-09-13T17:59:27.611654Z"
    }
   },
   "outputs": [],
   "source": [
    "import pandas as pd\n",
    "import os\n",
    "import sys\n",
    "import warnings\n",
    "\n",
    "# suppress pandas purely educational warnings\n",
    "from warnings import simplefilter\n",
    "simplefilter(action=\"ignore\", category=pd.errors.PerformanceWarning)\n",
    "\n",
    "sys.path.append(os.path.expanduser('../../'))\n",
    "from scripts.utils.file_helpers import pull_csv_from_directory, upload_csv_aws\n",
    "from scripts.utils.write_metadata import append_metadata\n",
    "from scripts.utils.index_plot import plot_domain, plot_region_domain\n",
    "from scripts.utils.calculate_index import (handle_outliers, min_max_standardize, process_domain_csv_files, \n",
    "                                        compute_averaged_indicators, compute_summed_indicators, indicator_dicts, \n",
    "                                        add_census_tracts, domain_summary_stats)"
   ]
  },
  {
   "cell_type": "markdown",
   "metadata": {},
   "source": [
    "## Step 1: Metric level\n",
    "### 1a) Retrieve metric files and process"
   ]
  },
  {
   "cell_type": "code",
   "execution_count": 3,
   "metadata": {
    "execution": {
     "iopub.execute_input": "2024-09-13T17:59:36.319882Z",
     "iopub.status.busy": "2024-09-13T17:59:36.319666Z",
     "iopub.status.idle": "2024-09-13T17:59:36.322252Z",
     "shell.execute_reply": "2024-09-13T17:59:36.321935Z",
     "shell.execute_reply.started": "2024-09-13T17:59:36.319872Z"
    }
   },
   "outputs": [
    {
     "name": "stdout",
     "output_type": "stream",
     "text": [
      "Metric data retrieved from 3_fair_data/index_data/.\n"
     ]
    }
   ],
   "source": [
    "# set-up\n",
    "bucket_name = 'ca-climate-index'\n",
    "aws_dir = '3_fair_data/index_data/'\n",
    "\n",
    "pull_csv_from_directory(bucket_name, aws_dir, output_folder='aws_csvs', search_zipped=False, print_name=False)"
   ]
  },
  {
   "cell_type": "code",
   "execution_count": 4,
   "metadata": {
    "execution": {
     "iopub.execute_input": "2024-09-13T17:59:36.322777Z",
     "iopub.status.busy": "2024-09-13T17:59:36.322681Z",
     "iopub.status.idle": "2024-09-13T18:00:09.033925Z",
     "shell.execute_reply": "2024-09-13T18:00:09.033593Z",
     "shell.execute_reply.started": "2024-09-13T17:59:36.322769Z"
    }
   },
   "outputs": [
    {
     "name": "stdout",
     "output_type": "stream",
     "text": [
      "Processed and saved 20 CSV files within built_ domain.\n",
      "\n",
      "Metric resilience/vulnerable dictionary created and called: metric_vulnerable_resilient_dict\n",
      "\n",
      "All entries within the island tract (6075980401) are NaN.\n",
      "\n",
      "Number of infinite entries in the DataFrame: 0\n",
      "Replacing infinite entries (if any) with NaN\n",
      "Number of infinite entries in the DataFrame after replacement: 0\n",
      "\n",
      "File processing complete, dataframe will now be saved as a .csv\n",
      "Processed CSV saved as concatenate_built_environment_metrics.csv\n"
     ]
    }
   ],
   "source": [
    "# domain-specific\n",
    "domain_prefix = 'built_'\n",
    "input_folder = r'aws_csvs'\n",
    "output_folder = domain_prefix + \"folder\"\n",
    "meta_csv = r'scripts/utils/calcrai_metrics.csv'\n",
    "merged_output_file = 'concatenate_built_environment_metrics.csv'\n",
    "\n",
    "metric_vulnerable_resilient_dict = process_domain_csv_files(domain_prefix, input_folder, output_folder, meta_csv, merged_output_file)"
   ]
  },
  {
   "cell_type": "markdown",
   "metadata": {},
   "source": [
    "### Take a look at the resulting dictionary\n",
    "We will use this later to refactor 'resilient' metrics"
   ]
  },
  {
   "cell_type": "code",
   "execution_count": null,
   "metadata": {},
   "outputs": [],
   "source": [
    "metric_vulnerable_resilient_dict"
   ]
  },
  {
   "cell_type": "markdown",
   "metadata": {},
   "source": [
    "### Now, take a look at the merged singluar csv file"
   ]
  },
  {
   "cell_type": "code",
   "execution_count": null,
   "metadata": {
    "execution": {
     "iopub.execute_input": "2024-09-13T18:00:09.034659Z",
     "iopub.status.busy": "2024-09-13T18:00:09.034544Z",
     "iopub.status.idle": "2024-09-13T18:00:09.074773Z",
     "shell.execute_reply": "2024-09-13T18:00:09.074433Z",
     "shell.execute_reply.started": "2024-09-13T18:00:09.034650Z"
    }
   },
   "outputs": [],
   "source": [
    "# read-in and view processed data\n",
    "processed_built_df = pd.read_csv('concatenate_built_environment_metrics.csv')\n",
    "processed_built_df"
   ]
  },
  {
   "cell_type": "markdown",
   "metadata": {},
   "source": [
    "### 1b) Min-max standardization\n",
    "Metrics are min-max standardized on 0.01 to 0.99 scale."
   ]
  },
  {
   "cell_type": "code",
   "execution_count": null,
   "metadata": {
    "execution": {
     "iopub.execute_input": "2024-09-13T18:00:09.328892Z",
     "iopub.status.busy": "2024-09-13T18:00:09.328790Z",
     "iopub.status.idle": "2024-09-13T18:00:09.424054Z",
     "shell.execute_reply": "2024-09-13T18:00:09.423711Z",
     "shell.execute_reply.started": "2024-09-13T18:00:09.328882Z"
    }
   },
   "outputs": [],
   "source": [
    "# standardizing our df\n",
    "columns_to_process = [col for col in processed_built_df.columns if col != 'GEOID']\n",
    "min_max_metrics = min_max_standardize(processed_built_df, columns_to_process)"
   ]
  },
  {
   "cell_type": "code",
   "execution_count": 7,
   "metadata": {},
   "outputs": [],
   "source": [
    "# this will show the standardized columns as well as their max and min column counterparts used in the process\n",
    "\n",
    "#min_max_metrics"
   ]
  },
  {
   "cell_type": "markdown",
   "metadata": {},
   "source": [
    "Isolate for GEOID and standardized columns exclusively"
   ]
  },
  {
   "cell_type": "code",
   "execution_count": 8,
   "metadata": {
    "execution": {
     "iopub.execute_input": "2024-09-13T18:00:09.425845Z",
     "iopub.status.busy": "2024-09-13T18:00:09.425716Z",
     "iopub.status.idle": "2024-09-13T18:00:09.429708Z",
     "shell.execute_reply": "2024-09-13T18:00:09.429349Z",
     "shell.execute_reply.started": "2024-09-13T18:00:09.425837Z"
    }
   },
   "outputs": [],
   "source": [
    "words = ['GEOID','standardized']\n",
    "selected_columns = []\n",
    "for word in words:\n",
    "    selected_columns.extend(min_max_metrics.columns[min_max_metrics.columns.str.contains(word)].tolist())\n",
    "min_max_standardized_built_metrics_df = min_max_metrics[selected_columns]"
   ]
  },
  {
   "cell_type": "code",
   "execution_count": null,
   "metadata": {},
   "outputs": [],
   "source": [
    "min_max_standardized_built_metrics_df.head()"
   ]
  },
  {
   "cell_type": "markdown",
   "metadata": {},
   "source": [
    "### 1c) Set vulnerability orientation\n",
    "* High values indicate vulnerability\n",
    "* Low values indicate resiliency\n",
    "\n",
    "Some metrics indicate a communities resistance rather than vulnerablity. For example, number of emergency personel per 10,000 people represents a communities ability to respond to emergencies. For this metric, the higher the number, the more resilient. So we identify these 'resilient' metrics with our `metric_vulnerable_resilient_dict` dictionary and subtract their values from 1 so all high values indicate vulnerability"
   ]
  },
  {
   "cell_type": "code",
   "execution_count": null,
   "metadata": {},
   "outputs": [],
   "source": [
    "metric_vulnerable_resilient_dict"
   ]
  },
  {
   "cell_type": "code",
   "execution_count": 11,
   "metadata": {
    "execution": {
     "iopub.execute_input": "2024-09-13T18:00:09.430299Z",
     "iopub.status.busy": "2024-09-13T18:00:09.430198Z",
     "iopub.status.idle": "2024-09-13T18:00:09.434316Z",
     "shell.execute_reply": "2024-09-13T18:00:09.434059Z",
     "shell.execute_reply.started": "2024-09-13T18:00:09.430290Z"
    }
   },
   "outputs": [],
   "source": [
    "# Access the resilient column names from the dictionary\n",
    "resilient_columns = metric_vulnerable_resilient_dict['resilient']\n",
    "\n",
    "# Identify columns in the DataFrame that contain any of the resilient column names as substrings\n",
    "resilient_columns_in_df = [col for col in min_max_standardized_built_metrics_df.columns \n",
    "                           if any(resilient_col in col for resilient_col in resilient_columns)]\n",
    "\n",
    "# Create a new DataFrame with the adjusted resilient columns\n",
    "adjusted_resilient_df = min_max_standardized_built_metrics_df.copy()\n",
    "\n",
    "# Subtract the standardized resilient columns from one and store the result in the new DataFrame\n",
    "adjusted_resilient_df.loc[:, resilient_columns_in_df] = (\n",
    "    1 - adjusted_resilient_df.loc[:, resilient_columns_in_df]\n",
    ")"
   ]
  },
  {
   "cell_type": "code",
   "execution_count": null,
   "metadata": {},
   "outputs": [],
   "source": [
    "adjusted_resilient_df"
   ]
  },
  {
   "cell_type": "markdown",
   "metadata": {},
   "source": [
    "## Step 2: Calculate Indicators\n",
    "Loop to go through df columns and average metrics that belong within an indicator based off of the metric to indicator dictionary"
   ]
  },
  {
   "cell_type": "code",
   "execution_count": null,
   "metadata": {},
   "outputs": [],
   "source": [
    "domain_prefix[:-1]"
   ]
  },
  {
   "cell_type": "code",
   "execution_count": null,
   "metadata": {
    "execution": {
     "iopub.execute_input": "2024-09-13T18:00:09.434917Z",
     "iopub.status.busy": "2024-09-13T18:00:09.434804Z",
     "iopub.status.idle": "2024-09-13T18:00:09.447990Z",
     "shell.execute_reply": "2024-09-13T18:00:09.447616Z",
     "shell.execute_reply.started": "2024-09-13T18:00:09.434908Z"
    }
   },
   "outputs": [],
   "source": [
    "averaged_indicators_built_environment = compute_averaged_indicators(\n",
    "    adjusted_resilient_df, \n",
    "    indicator_dicts(domain_prefix[:-1])\n",
    ")\n",
    "\n",
    "# show resulting dataframe to highlight the indicator values\n",
    "averaged_indicators_built_environment"
   ]
  },
  {
   "cell_type": "markdown",
   "metadata": {},
   "source": [
    "Sum the indicator columns together to calculate the domain score\n",
    "* essentially summing all columns except for 'GEOID'"
   ]
  },
  {
   "cell_type": "code",
   "execution_count": null,
   "metadata": {
    "execution": {
     "iopub.execute_input": "2024-09-13T18:00:09.448839Z",
     "iopub.status.busy": "2024-09-13T18:00:09.448718Z",
     "iopub.status.idle": "2024-09-13T18:00:09.454523Z",
     "shell.execute_reply": "2024-09-13T18:00:09.454213Z",
     "shell.execute_reply.started": "2024-09-13T18:00:09.448829Z"
    }
   },
   "outputs": [],
   "source": [
    "columns_to_sum = [col for col in averaged_indicators_built_environment.columns if col != 'GEOID']\n",
    "summed_indicators_built_environment = compute_summed_indicators(\n",
    "    df=averaged_indicators_built_environment, \n",
    "    columns_to_sum=columns_to_sum,\n",
    "    domain_prefix=domain_prefix\n",
    ")"
   ]
  },
  {
   "cell_type": "markdown",
   "metadata": {},
   "source": [
    "### 2a) Min-max standardize the summed columns"
   ]
  },
  {
   "cell_type": "code",
   "execution_count": null,
   "metadata": {
    "execution": {
     "iopub.execute_input": "2024-09-13T18:00:09.455240Z",
     "iopub.status.busy": "2024-09-13T18:00:09.455084Z",
     "iopub.status.idle": "2024-09-13T18:00:09.458808Z",
     "shell.execute_reply": "2024-09-13T18:00:09.458520Z",
     "shell.execute_reply.started": "2024-09-13T18:00:09.455231Z"
    }
   },
   "outputs": [],
   "source": [
    "columns_to_process = [col for col in summed_indicators_built_environment.columns if col != 'GEOID']\n",
    "min_max_domain = min_max_standardize(summed_indicators_built_environment, columns_to_process)"
   ]
  },
  {
   "cell_type": "code",
   "execution_count": null,
   "metadata": {},
   "outputs": [],
   "source": [
    "min_max_domain"
   ]
  },
  {
   "cell_type": "markdown",
   "metadata": {},
   "source": [
    "Isolate to census tract and summed standardized columns, and rename tract to GEOID for merging\n",
    "* add a zero at the beginning of the GEOID to match census tract that will be merged"
   ]
  },
  {
   "cell_type": "code",
   "execution_count": 18,
   "metadata": {
    "execution": {
     "iopub.execute_input": "2024-09-13T18:00:09.459434Z",
     "iopub.status.busy": "2024-09-13T18:00:09.459317Z",
     "iopub.status.idle": "2024-09-13T18:00:09.466157Z",
     "shell.execute_reply": "2024-09-13T18:00:09.465840Z",
     "shell.execute_reply.started": "2024-09-13T18:00:09.459426Z"
    }
   },
   "outputs": [],
   "source": [
    "min_max_standardized_built_environment_domain = min_max_domain[['GEOID', 'summed_indicators_built_domain_min_max_standardized']].copy()\n",
    "\n",
    "# GEOID handling\n",
    "min_max_standardized_built_environment_domain['GEOID'] = min_max_standardized_built_environment_domain['GEOID'].apply(lambda x: '0' + str(x))\n",
    "min_max_standardized_built_environment_domain['GEOID'] = min_max_standardized_built_environment_domain['GEOID'].astype(str).apply(lambda x: x.rstrip('0').rstrip('.') if '.' in x else x)"
   ]
  },
  {
   "cell_type": "markdown",
   "metadata": {},
   "source": [
    "## Step 3: Visualizing the domain\n"
   ]
  },
  {
   "cell_type": "markdown",
   "metadata": {},
   "source": [
    "Merge the df and census tracts and convert the geometry to our uniformly used coordinate reference system (4269)"
   ]
  },
  {
   "cell_type": "code",
   "execution_count": 19,
   "metadata": {
    "execution": {
     "iopub.execute_input": "2024-09-13T18:00:09.467005Z",
     "iopub.status.busy": "2024-09-13T18:00:09.466781Z",
     "iopub.status.idle": "2024-09-13T18:00:17.169384Z",
     "shell.execute_reply": "2024-09-13T18:00:17.168964Z",
     "shell.execute_reply.started": "2024-09-13T18:00:09.466984Z"
    }
   },
   "outputs": [],
   "source": [
    "gdf = add_census_tracts(min_max_standardized_built_environment_domain)"
   ]
  },
  {
   "cell_type": "markdown",
   "metadata": {},
   "source": [
    "Let's look at some summary statistics for this domain:"
   ]
  },
  {
   "cell_type": "code",
   "execution_count": null,
   "metadata": {
    "execution": {
     "iopub.execute_input": "2024-09-13T18:00:17.169970Z",
     "iopub.status.busy": "2024-09-13T18:00:17.169862Z",
     "iopub.status.idle": "2024-09-13T18:00:17.172552Z",
     "shell.execute_reply": "2024-09-13T18:00:17.172170Z",
     "shell.execute_reply.started": "2024-09-13T18:00:17.169961Z"
    }
   },
   "outputs": [],
   "source": [
    "domain_summary_stats(gdf, 'summed_indicators_built_domain_min_max_standardized')"
   ]
  },
  {
   "cell_type": "code",
   "execution_count": null,
   "metadata": {},
   "outputs": [],
   "source": [
    "gdf.columns"
   ]
  },
  {
   "cell_type": "markdown",
   "metadata": {},
   "source": [
    "Now let's visualize the entire domain!"
   ]
  },
  {
   "cell_type": "code",
   "execution_count": null,
   "metadata": {
    "execution": {
     "iopub.execute_input": "2024-09-13T18:00:17.173191Z",
     "iopub.status.busy": "2024-09-13T18:00:17.173076Z",
     "iopub.status.idle": "2024-09-13T18:00:18.326400Z",
     "shell.execute_reply": "2024-09-13T18:00:18.326008Z",
     "shell.execute_reply.started": "2024-09-13T18:00:17.173182Z"
    }
   },
   "outputs": [],
   "source": [
    "plot_domain(gdf, domain=domain_prefix)"
   ]
  },
  {
   "cell_type": "markdown",
   "metadata": {},
   "source": [
    "### We can also visualize specific areas!\n",
    "We call from a the `plot_region_domain` function which has a number of variables:\n",
    "\n",
    "gdf : GeoDataFrame\n",
    "    A GeoDataFrame containing the data you want to plot, which must include the column 'GEOID' to match with the census tract data.\n",
    "\n",
    "counties_to_plot : list of str, optional\n",
    "    A list of county FIPS codes (as strings) to plot. If None, no counties will be plotted.\n",
    "    Example: ['037', '071', '065', '029', '111'].\n",
    "\n",
    "region : str, optional\n",
    "    A predefined region to plot. Options: 'bay_area', 'central_region', 'inland_deserts', 'north_central', 'northern', 'south_coast', or 'slr_coast'.\n",
    "    If specified, this will override `counties_to_plot`.\n",
    "\n",
    "plot_all : bool, optional\n",
    "    If True, plots all counties in California. Overrides `counties_to_plot` and `region`.\n",
    "\n",
    "savefig : bool, optional\n",
    "    If True, the plot will be saved as a PNG file. Default is False.\n",
    "\n",
    "font_color : str, optional\n",
    "    Color of the font for county labels. Default is 'black'.\n",
    "\n",
    "domain_name : str, optional\n",
    "    Name of the domain to include in the plot title. Default is 'Society and Economy Domain'.\n",
    "\n",
    "    Dictionary of county labels\n",
    "    county_labels = {\n",
    "        '001': 'Alameda', '003': 'Alpine', '005': 'Amador', '007': 'Butte', '009': 'Calaveras',\n",
    "        '011': 'Colusa', '013': 'Contra Costa', '015': 'Del Norte', '017': 'El Dorado', '019': 'Fresno',\n",
    "        '021': 'Glenn', '023': 'Humboldt', '025': 'Imperial', '027': 'Inyo', '029': 'Kern',\n",
    "        '031': 'Kings', '033': 'Lake', '035': 'Lassen', '037': 'Los Angeles', '039': 'Madera',\n",
    "        '041': 'Marin', '043': 'Mariposa', '045': 'Mendocino', '047': 'Merced', '049': 'Modoc',\n",
    "        '051': 'Mono', '053': 'Monterey', '055': 'Napa', '057': 'Nevada', '059': 'Orange',\n",
    "        '061': 'Placer', '063': 'Plumas', '065': 'Riverside', '067': 'Sacramento', '069': 'San Benito',\n",
    "        '071': 'San Bernardino', '073': 'San Diego', '075': 'San Francisco', '077': 'San Joaquin',\n",
    "        '079': 'San Luis Obispo', '081': 'San Mateo', '083': 'Santa Barbara', '085': 'Santa Clara',\n",
    "        '087': 'Santa Cruz', '089': 'Shasta', '091': 'Sierra', '093': 'Siskiyou', '095': 'Solano',\n",
    "        '097': 'Sonoma', '099': 'Stanislaus', '101': 'Sutter', '103': 'Tehama', '105': 'Trinity',\n",
    "        '107': 'Tulare', '109': 'Tuolumne', '111': 'Ventura', '113': 'Yolo', '115': 'Yuba'\n",
    "\n",
    "You can plot a domains vulnerability index by region, specific county/counties, or the entirety of CA with labels\n",
    "Below are a few example of each of these plotting scenarios"
   ]
  },
  {
   "cell_type": "code",
   "execution_count": null,
   "metadata": {},
   "outputs": [],
   "source": [
    "plot_region_domain(min_max_standardized_built_environment_domain, domain=domain_prefix, domain_label_map={domain_prefix: 'Built Environment Domain'}, region='slr_coast', savefig=False, font_color='black')"
   ]
  },
  {
   "cell_type": "code",
   "execution_count": null,
   "metadata": {},
   "outputs": [],
   "source": [
    "plot_region_domain(min_max_standardized_built_environment_domain, domain=domain_prefix, domain_label_map={domain_prefix: 'Built Environment Domain'}, region='central_region', savefig=False, font_color='black')"
   ]
  },
  {
   "cell_type": "code",
   "execution_count": null,
   "metadata": {},
   "outputs": [],
   "source": [
    "list_of_counties = ['003']\n",
    "plot_region_domain(min_max_standardized_built_environment_domain, domain=domain_prefix, domain_label_map={domain_prefix: 'Built Environment Domain'}, counties_to_plot=list_of_counties, savefig=False, font_color='black')"
   ]
  },
  {
   "cell_type": "code",
   "execution_count": null,
   "metadata": {},
   "outputs": [],
   "source": [
    "plot_region_domain(min_max_standardized_built_environment_domain, domain=domain_prefix, domain_label_map={domain_prefix: 'Built Environment Domain'}, plot_all=True, savefig=False, font_color='black')"
   ]
  },
  {
   "cell_type": "markdown",
   "metadata": {},
   "source": [
    "## Step 4: Export the final domain csv file"
   ]
  },
  {
   "cell_type": "code",
   "execution_count": 17,
   "metadata": {
    "execution": {
     "iopub.execute_input": "2024-09-13T18:00:19.394866Z",
     "iopub.status.busy": "2024-09-13T18:00:19.394654Z",
     "iopub.status.idle": "2024-09-13T18:00:19.396800Z",
     "shell.execute_reply": "2024-09-13T18:00:19.396513Z",
     "shell.execute_reply.started": "2024-09-13T18:00:19.394855Z"
    }
   },
   "outputs": [],
   "source": [
    "# set-up file for export\n",
    "filename = '{}index_data.csv'.format(domain_prefix)\n",
    "gdf.to_csv(filename, index=False)\n",
    "\n",
    "# export to AWS (Cal-CRAI)\n",
    "directory = '3_fair_data/domain_standardized_data'\n",
    "upload_csv_aws([filename], bucket_name, directory)"
   ]
  }
 ],
 "metadata": {
  "kernelspec": {
   "display_name": "carb",
   "language": "python",
   "name": "python3"
  },
  "language_info": {
   "codemirror_mode": {
    "name": "ipython",
    "version": 3
   },
   "file_extension": ".py",
   "mimetype": "text/x-python",
   "name": "python",
   "nbconvert_exporter": "python",
   "pygments_lexer": "ipython3",
   "version": "3.9.18"
  }
 },
 "nbformat": 4,
 "nbformat_minor": 4
}
