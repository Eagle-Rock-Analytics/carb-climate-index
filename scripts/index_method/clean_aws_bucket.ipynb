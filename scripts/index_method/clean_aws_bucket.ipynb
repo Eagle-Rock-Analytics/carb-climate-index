{
 "cells": [
  {
   "cell_type": "code",
   "execution_count": null,
   "metadata": {},
   "outputs": [],
   "source": [
    "import pandas as pd\n",
    "import os\n",
    "import sys\n",
    "import warnings\n",
    "import shutil\n",
    "\n",
    "# suppress pandas purely educational warnings\n",
    "from warnings import simplefilter\n",
    "simplefilter(action=\"ignore\", category=pd.errors.PerformanceWarning)\n",
    "\n",
    "sys.path.append(os.path.expanduser('../../'))\n",
    "from scripts.utils.file_helpers import pull_csv_from_directory"
   ]
  },
  {
   "cell_type": "code",
   "execution_count": null,
   "metadata": {},
   "outputs": [],
   "source": [
    "# set-up\n",
    "bucket_name = 'ca-climate-index'\n",
    "aws_dir = '3_fair_data/index_data/'\n",
    "\n",
    "pull_csv_from_directory(bucket_name, aws_dir, output_folder='aws_csvs', search_zipped=False, print_name=False)"
   ]
  },
  {
   "cell_type": "code",
   "execution_count": null,
   "metadata": {},
   "outputs": [],
   "source": [
    "# Define the output folder path\n",
    "output_folder = 'aws_csvs'\n",
    "\n",
    "# Count the number of files in the folder\n",
    "file_count = len([file for file in os.listdir(output_folder) if os.path.isfile(os.path.join(output_folder, file))])\n",
    "\n",
    "print(f'There are {file_count} files in the {output_folder} folder.')"
   ]
  },
  {
   "cell_type": "code",
   "execution_count": null,
   "metadata": {},
   "outputs": [],
   "source": [
    "meta_csv = r'../utils/calcrai_metrics.csv'\n",
    "\n",
    "metadata_calculate = pd.read_csv(meta_csv)"
   ]
  },
  {
   "cell_type": "code",
   "execution_count": null,
   "metadata": {},
   "outputs": [],
   "source": [
    "metadata_calculate.head()"
   ]
  },
  {
   "cell_type": "code",
   "execution_count": null,
   "metadata": {},
   "outputs": [],
   "source": [
    "to_delete_folder = 'to_delete'  # Folder to store unmatched files\n",
    "\n",
    "# Read the CSV and extract the 'File Name' column\n",
    "metadata_filenames = metadata_calculate['Metric file name'].tolist()  # List of valid file names from the CSV\n",
    "\n",
    "# Create the to_delete folder if it doesn't exist\n",
    "if not os.path.exists(to_delete_folder):\n",
    "    os.makedirs(to_delete_folder)\n",
    "\n",
    "# Iterate through the files in the output folder\n",
    "for file_name in os.listdir(output_folder):\n",
    "    # Full path to the file in the output folder\n",
    "    file_path = os.path.join(output_folder, file_name)\n",
    "    \n",
    "    # If it's a file and not in the metadata list, move it to the to_delete folder\n",
    "    if os.path.isfile(file_path) and file_name not in metadata_filenames:\n",
    "        # Move the file to the to_delete folder\n",
    "        shutil.move(file_path, os.path.join(to_delete_folder, file_name))\n",
    "\n",
    "print(f\"Files that don't match the metadata have been moved to {to_delete_folder}.\")"
   ]
  },
  {
   "cell_type": "code",
   "execution_count": null,
   "metadata": {},
   "outputs": [],
   "source": [
    "# Define the output folder path\n",
    "delete_folder = 'to_delete'\n",
    "\n",
    "# Count the number of files in the folder\n",
    "file_count = len([file for file in os.listdir(delete_folder) if os.path.isfile(os.path.join(delete_folder, file))])\n",
    "\n",
    "print(f'There are {file_count} files in the {output_folder} folder.')"
   ]
  },
  {
   "cell_type": "code",
   "execution_count": null,
   "metadata": {},
   "outputs": [],
   "source": [
    "# Define the output folder path\n",
    "output_folder = 'aws_csvs'\n",
    "\n",
    "# Count the number of files in the folder\n",
    "file_count = len([file for file in os.listdir(output_folder) if os.path.isfile(os.path.join(output_folder, file))])\n",
    "\n",
    "print(f'There are {file_count} files in the {output_folder} folder.')"
   ]
  },
  {
   "cell_type": "code",
   "execution_count": null,
   "metadata": {},
   "outputs": [],
   "source": [
    "# List all files remaining in the aws_csvs folder (after moving 28 to to_delete folder)\n",
    "remaining_files = os.listdir(output_folder)  # This gets the remaining 105 files in aws_csvs\n",
    "\n",
    "# Find the rows in metadata that don't have a corresponding file in aws_csvs\n",
    "missing_files = [file_name for file_name in metadata_filenames if file_name not in remaining_files]\n",
    "\n",
    "# Filter the metadata DataFrame to show the rows corresponding to missing files\n",
    "missing_rows = metadata_calculate[metadata_calculate['Metric file name'].isin(missing_files)]\n",
    "\n",
    "# Display the missing rows\n",
    "print(\"These are the rows in 'meta_calculate_csv' that don't have a corresponding file in 'aws_csvs':\")\n",
    "display(missing_rows)\n",
    "\n",
    "# Optionally, save the missing rows to a new CSV\n",
    "missing_rows.to_csv('missing_files_in_metadata.csv', index=False)"
   ]
  }
 ],
 "metadata": {
  "kernelspec": {
   "display_name": "Python 3 (ipykernel)",
   "language": "python",
   "name": "python3"
  },
  "language_info": {
   "codemirror_mode": {
    "name": "ipython",
    "version": 3
   },
   "file_extension": ".py",
   "mimetype": "text/x-python",
   "name": "python",
   "nbconvert_exporter": "python",
   "pygments_lexer": "ipython3",
   "version": "3.9.18"
  }
 },
 "nbformat": 4,
 "nbformat_minor": 4
}
