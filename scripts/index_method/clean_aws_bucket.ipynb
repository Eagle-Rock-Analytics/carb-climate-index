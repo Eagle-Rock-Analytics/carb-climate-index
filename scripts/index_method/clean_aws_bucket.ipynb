{
 "cells": [
  {
   "cell_type": "markdown",
   "metadata": {},
   "source": [
    "# Clean AWS Bucket\n",
    "\n",
    "This notebook pulls all .csv files within the index_data folder from the AWS bucket and assigns them to their counterpart entry from the 'calcrai_metrics.csv' file within this repositories utils folder. This is similar to the process used to clean, standardize, and eventually calculate indicator scores for each Cal-CRAI domain.\n",
    "\n",
    "This notebook creates a new folder for any files not assigned so the user can identify any discrepencies between 'calcrai_metrics.csv' and metric files in AWS.\n",
    "\n",
    "Lastly, it identifies any rows within the 'calcrai_metrics.csv' that did not recieve a metric file pulled from AWS."
   ]
  },
  {
   "cell_type": "code",
   "execution_count": 1,
   "metadata": {},
   "outputs": [],
   "source": [
    "import pandas as pd\n",
    "import os\n",
    "import sys\n",
    "import warnings\n",
    "import shutil\n",
    "\n",
    "# suppress pandas purely educational warnings\n",
    "from warnings import simplefilter\n",
    "simplefilter(action=\"ignore\", category=pd.errors.PerformanceWarning)\n",
    "\n",
    "sys.path.append(os.path.expanduser('../../'))\n",
    "from scripts.utils.file_helpers import pull_csv_from_directory"
   ]
  },
  {
   "cell_type": "code",
   "execution_count": null,
   "metadata": {},
   "outputs": [],
   "source": [
    "# set-up\n",
    "bucket_name = 'ca-climate-index'\n",
    "aws_dir = '3_fair_data/index_data/'\n",
    "\n",
    "pull_csv_from_directory(bucket_name, aws_dir, output_folder='aws_csvs', search_zipped=False, print_name=False)"
   ]
  },
  {
   "cell_type": "code",
   "execution_count": null,
   "metadata": {},
   "outputs": [],
   "source": [
    "# Define the output folder path\n",
    "output_folder = 'aws_csvs'\n",
    "\n",
    "# Count the number of files in the folder\n",
    "file_count = len([file for file in os.listdir(output_folder) if os.path.isfile(os.path.join(output_folder, file))])\n",
    "\n",
    "print(f'There are {file_count} files in the {output_folder} folder.')"
   ]
  },
  {
   "cell_type": "code",
   "execution_count": null,
   "metadata": {},
   "outputs": [],
   "source": [
    "meta_csv = r'../utils/calcrai_metrics.csv'\n",
    "metadata_calculate = pd.read_csv(meta_csv)"
   ]
  },
  {
   "cell_type": "code",
   "execution_count": null,
   "metadata": {},
   "outputs": [],
   "source": [
    "non_metric_folder = 'non_metric_folder'  # Folder to store unmatched files\n",
    "\n",
    "# Read the CSV and extract the 'File Name' column\n",
    "metadata_filenames = metadata_calculate['Metric file name'].tolist()  # List of valid file names from the CSV\n",
    "\n",
    "# Create the non_metric_folder folder if it doesn't exist\n",
    "if not os.path.exists(non_metric_folder):\n",
    "    os.makedirs(non_metric_folder)\n",
    "\n",
    "# Iterate through the files in the output folder\n",
    "for file_name in os.listdir(output_folder):\n",
    "    # Full path to the file in the output folder\n",
    "    file_path = os.path.join(output_folder, file_name)\n",
    "    \n",
    "    # If it's a file and not in the metadata list, move it to the non_metric_folder folder\n",
    "    if os.path.isfile(file_path) and file_name not in metadata_filenames:\n",
    "        # Move the file to the non_metric_folder folder\n",
    "        shutil.move(file_path, os.path.join(non_metric_folder, file_name))\n",
    "\n",
    "print(f\"Files that don't match the metadata have been moved to {non_metric_folder}.\")"
   ]
  },
  {
   "cell_type": "code",
   "execution_count": null,
   "metadata": {},
   "outputs": [],
   "source": [
    "# Count the number of files in the folder\n",
    "file_count = len([file for file in os.listdir(non_metric_folder) if os.path.isfile(os.path.join(non_metric_folder, file))])\n",
    "\n",
    "print(f'There are {file_count} files in the {non_metric_folder} folder.')"
   ]
  },
  {
   "cell_type": "code",
   "execution_count": null,
   "metadata": {},
   "outputs": [],
   "source": [
    "# Define the output folder path\n",
    "output_folder = 'aws_csvs'\n",
    "\n",
    "# Count the number of files in the folder\n",
    "file_count = len([file for file in os.listdir(output_folder) if os.path.isfile(os.path.join(output_folder, file))])\n",
    "\n",
    "print(f'There are {file_count} files in the {output_folder} folder.')"
   ]
  },
  {
   "cell_type": "code",
   "execution_count": null,
   "metadata": {},
   "outputs": [],
   "source": [
    "# List all files remaining in the aws_csvs folder\n",
    "remaining_files = os.listdir(output_folder)\n",
    "\n",
    "# Find the rows in metadata that don't have a corresponding file in aws_csvs\n",
    "missing_files = [file_name for file_name in metadata_filenames if file_name not in remaining_files]\n",
    "\n",
    "# Filter the metadata DataFrame to show the rows corresponding to missing files\n",
    "missing_rows = metadata_calculate[metadata_calculate['Metric file name'].isin(missing_files)]\n",
    "\n",
    "# Display the missing rows\n",
    "print(f\"These {len(missing_rows)} rows in 'meta_calculate_csv' that don't have a corresponding file in 'aws_csvs':\")\n",
    "display(missing_rows)\n",
    "\n",
    "# Optionally, save the missing rows to a new CSV\n",
    "# missing_rows.to_csv('missing_files_in_metadata.csv', index=False)"
   ]
  }
 ],
 "metadata": {
  "kernelspec": {
   "display_name": "carb",
   "language": "python",
   "name": "python3"
  },
  "language_info": {
   "codemirror_mode": {
    "name": "ipython",
    "version": 3
   },
   "file_extension": ".py",
   "mimetype": "text/x-python",
   "name": "python",
   "nbconvert_exporter": "python",
   "pygments_lexer": "ipython3",
   "version": "3.9.18"
  }
 },
 "nbformat": 4,
 "nbformat_minor": 2
}
