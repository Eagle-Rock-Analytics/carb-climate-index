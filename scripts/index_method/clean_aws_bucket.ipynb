{
 "cells": [
  {
   "cell_type": "code",
   "execution_count": 1,
   "metadata": {},
   "outputs": [],
   "source": [
    "import pandas as pd\n",
    "import os\n",
    "import sys\n",
    "import warnings\n",
    "import shutil\n",
    "\n",
    "# suppress pandas purely educational warnings\n",
    "from warnings import simplefilter\n",
    "simplefilter(action=\"ignore\", category=pd.errors.PerformanceWarning)\n",
    "\n",
    "sys.path.append(os.path.expanduser('../../'))\n",
    "from scripts.utils.file_helpers import pull_csv_from_directory"
   ]
  },
  {
   "cell_type": "code",
   "execution_count": 2,
   "metadata": {},
   "outputs": [
    {
     "name": "stdout",
     "output_type": "stream",
     "text": [
      "Metric data retrieved from 3_fair_data/index_data/.\n"
     ]
    }
   ],
   "source": [
    "# set-up\n",
    "bucket_name = 'ca-climate-index'\n",
    "aws_dir = '3_fair_data/index_data/'\n",
    "\n",
    "pull_csv_from_directory(bucket_name, aws_dir, output_folder='aws_csvs', search_zipped=False, print_name=False)"
   ]
  },
  {
   "cell_type": "code",
   "execution_count": 3,
   "metadata": {},
   "outputs": [
    {
     "name": "stdout",
     "output_type": "stream",
     "text": [
      "There are 135 files in the aws_csvs folder.\n"
     ]
    }
   ],
   "source": [
    "# Define the output folder path\n",
    "output_folder = 'aws_csvs'\n",
    "\n",
    "# Count the number of files in the folder\n",
    "file_count = len([file for file in os.listdir(output_folder) if os.path.isfile(os.path.join(output_folder, file))])\n",
    "\n",
    "print(f'There are {file_count} files in the {output_folder} folder.')"
   ]
  },
  {
   "cell_type": "code",
   "execution_count": 5,
   "metadata": {},
   "outputs": [],
   "source": [
    "meta_calculate_csv = r'C:/Users/jespi/eagle/carb-climate-index-5/metadata/Full Data Pipeline Notes - 4_ Calculate Metric.csv'\n",
    "metadata_calculate = pd.read_csv(meta_calculate_csv)"
   ]
  },
  {
   "cell_type": "code",
   "execution_count": 6,
   "metadata": {},
   "outputs": [
    {
     "data": {
      "text/html": [
       "<div>\n",
       "<style scoped>\n",
       "    .dataframe tbody tr th:only-of-type {\n",
       "        vertical-align: middle;\n",
       "    }\n",
       "\n",
       "    .dataframe tbody tr th {\n",
       "        vertical-align: top;\n",
       "    }\n",
       "\n",
       "    .dataframe thead th {\n",
       "        text-align: right;\n",
       "    }\n",
       "</style>\n",
       "<table border=\"1\" class=\"dataframe\">\n",
       "  <thead>\n",
       "    <tr style=\"text-align: right;\">\n",
       "      <th></th>\n",
       "      <th>Data Source</th>\n",
       "      <th>Data</th>\n",
       "      <th>Domain</th>\n",
       "      <th>Indicator</th>\n",
       "      <th>Metric</th>\n",
       "      <th>High value result (vulnerable or resilient)</th>\n",
       "      <th>Metric file name</th>\n",
       "      <th>Metric Calculated (Y/N)</th>\n",
       "      <th>Metadata Finalized (Y/N)</th>\n",
       "      <th>Metric Calculator</th>\n",
       "      <th>Metric goes into what indicator</th>\n",
       "      <th>Includes Indigenous Tribes</th>\n",
       "      <th>Notes</th>\n",
       "    </tr>\n",
       "  </thead>\n",
       "  <tbody>\n",
       "    <tr>\n",
       "      <th>0</th>\n",
       "      <td>California Public Utilities Commission</td>\n",
       "      <td>Broadband Internet Availability</td>\n",
       "      <td>Built Environment</td>\n",
       "      <td>Communication</td>\n",
       "      <td>% of area unserved at broadband speeds of &gt;25 ...</td>\n",
       "      <td>vulnerable</td>\n",
       "      <td>built_broadband_internet_metric.csv</td>\n",
       "      <td>Y</td>\n",
       "      <td>NaN</td>\n",
       "      <td>Jesse Espinoza</td>\n",
       "      <td>built_indicator_communication_infrastructure</td>\n",
       "      <td>NaN</td>\n",
       "      <td>NaN</td>\n",
       "    </tr>\n",
       "    <tr>\n",
       "      <th>1</th>\n",
       "      <td>Homeland Infrastructure Foundation-Level Data</td>\n",
       "      <td>TV broadcast contours</td>\n",
       "      <td>Built Environment</td>\n",
       "      <td>Communication</td>\n",
       "      <td># of broadcast service providers</td>\n",
       "      <td>resilient</td>\n",
       "      <td>built_tv_contours_metric.csv</td>\n",
       "      <td>Y</td>\n",
       "      <td>NaN</td>\n",
       "      <td>Jesse Espinoza</td>\n",
       "      <td>built_indicator_communication_infrastructure</td>\n",
       "      <td>NaN</td>\n",
       "      <td>NaN</td>\n",
       "    </tr>\n",
       "    <tr>\n",
       "      <th>2</th>\n",
       "      <td>Homeland Infrastructure Foundation-Level Data</td>\n",
       "      <td>Radio transmission towers</td>\n",
       "      <td>Built Environment</td>\n",
       "      <td>Communication</td>\n",
       "      <td># of radio transmission towers</td>\n",
       "      <td>resilient</td>\n",
       "      <td>built_radio_towers_metric.csv</td>\n",
       "      <td>Y</td>\n",
       "      <td>NaN</td>\n",
       "      <td>Jesse Espinoza</td>\n",
       "      <td>built_indicator_communication_infrastructure</td>\n",
       "      <td>NaN</td>\n",
       "      <td>NaN</td>\n",
       "    </tr>\n",
       "    <tr>\n",
       "      <th>3</th>\n",
       "      <td>Homeland Infrastructure Foundation-Level Data</td>\n",
       "      <td>Cellular towers</td>\n",
       "      <td>Built Environment</td>\n",
       "      <td>Communication</td>\n",
       "      <td># of cellular towers</td>\n",
       "      <td>resilient</td>\n",
       "      <td>built_cellular_towers_metric.csv</td>\n",
       "      <td>Y</td>\n",
       "      <td>NaN</td>\n",
       "      <td>Jesse Espinoza</td>\n",
       "      <td>built_indicator_communication_infrastructure</td>\n",
       "      <td>NaN</td>\n",
       "      <td>NaN</td>\n",
       "    </tr>\n",
       "    <tr>\n",
       "      <th>4</th>\n",
       "      <td>Homeland Infrastructure Foundation-Level Data</td>\n",
       "      <td>Microwave service towers</td>\n",
       "      <td>Built Environment</td>\n",
       "      <td>Communication</td>\n",
       "      <td># of microwave service towers</td>\n",
       "      <td>resilient</td>\n",
       "      <td>built_microwave_towers_metric.csv</td>\n",
       "      <td>Y</td>\n",
       "      <td>NaN</td>\n",
       "      <td>Jesse Espinoza</td>\n",
       "      <td>built_indicator_communication_infrastructure</td>\n",
       "      <td>NaN</td>\n",
       "      <td>NaN</td>\n",
       "    </tr>\n",
       "  </tbody>\n",
       "</table>\n",
       "</div>"
      ],
      "text/plain": [
       "                                     Data Source  \\\n",
       "0         California Public Utilities Commission   \n",
       "1  Homeland Infrastructure Foundation-Level Data   \n",
       "2  Homeland Infrastructure Foundation-Level Data   \n",
       "3  Homeland Infrastructure Foundation-Level Data   \n",
       "4  Homeland Infrastructure Foundation-Level Data   \n",
       "\n",
       "                              Data             Domain      Indicator  \\\n",
       "0  Broadband Internet Availability  Built Environment  Communication   \n",
       "1            TV broadcast contours  Built Environment  Communication   \n",
       "2        Radio transmission towers  Built Environment  Communication   \n",
       "3                  Cellular towers  Built Environment  Communication   \n",
       "4         Microwave service towers  Built Environment  Communication   \n",
       "\n",
       "                                              Metric  \\\n",
       "0  % of area unserved at broadband speeds of >25 ...   \n",
       "1                   # of broadcast service providers   \n",
       "2                     # of radio transmission towers   \n",
       "3                               # of cellular towers   \n",
       "4                      # of microwave service towers   \n",
       "\n",
       "  High value result (vulnerable or resilient)  \\\n",
       "0                                  vulnerable   \n",
       "1                                   resilient   \n",
       "2                                   resilient   \n",
       "3                                   resilient   \n",
       "4                                   resilient   \n",
       "\n",
       "                      Metric file name Metric Calculated (Y/N)  \\\n",
       "0  built_broadband_internet_metric.csv                       Y   \n",
       "1         built_tv_contours_metric.csv                       Y   \n",
       "2        built_radio_towers_metric.csv                       Y   \n",
       "3     built_cellular_towers_metric.csv                       Y   \n",
       "4    built_microwave_towers_metric.csv                       Y   \n",
       "\n",
       "   Metadata Finalized (Y/N) Metric Calculator  \\\n",
       "0                       NaN    Jesse Espinoza   \n",
       "1                       NaN    Jesse Espinoza   \n",
       "2                       NaN    Jesse Espinoza   \n",
       "3                       NaN    Jesse Espinoza   \n",
       "4                       NaN    Jesse Espinoza   \n",
       "\n",
       "                Metric goes into what indicator Includes Indigenous Tribes  \\\n",
       "0  built_indicator_communication_infrastructure                        NaN   \n",
       "1  built_indicator_communication_infrastructure                        NaN   \n",
       "2  built_indicator_communication_infrastructure                        NaN   \n",
       "3  built_indicator_communication_infrastructure                        NaN   \n",
       "4  built_indicator_communication_infrastructure                        NaN   \n",
       "\n",
       "  Notes  \n",
       "0   NaN  \n",
       "1   NaN  \n",
       "2   NaN  \n",
       "3   NaN  \n",
       "4   NaN  "
      ]
     },
     "execution_count": 6,
     "metadata": {},
     "output_type": "execute_result"
    }
   ],
   "source": [
    "metadata_calculate.head()"
   ]
  },
  {
   "cell_type": "code",
   "execution_count": 7,
   "metadata": {},
   "outputs": [
    {
     "name": "stdout",
     "output_type": "stream",
     "text": [
      "Files that don't match the metadata have been moved to to_delete.\n"
     ]
    }
   ],
   "source": [
    "to_delete_folder = 'to_delete'  # Folder to store unmatched files\n",
    "\n",
    "# Read the CSV and extract the 'File Name' column\n",
    "metadata_filenames = metadata_calculate['Metric file name'].tolist()  # List of valid file names from the CSV\n",
    "\n",
    "# Create the to_delete folder if it doesn't exist\n",
    "if not os.path.exists(to_delete_folder):\n",
    "    os.makedirs(to_delete_folder)\n",
    "\n",
    "# Iterate through the files in the output folder\n",
    "for file_name in os.listdir(output_folder):\n",
    "    # Full path to the file in the output folder\n",
    "    file_path = os.path.join(output_folder, file_name)\n",
    "    \n",
    "    # If it's a file and not in the metadata list, move it to the to_delete folder\n",
    "    if os.path.isfile(file_path) and file_name not in metadata_filenames:\n",
    "        # Move the file to the to_delete folder\n",
    "        shutil.move(file_path, os.path.join(to_delete_folder, file_name))\n",
    "\n",
    "print(f\"Files that don't match the metadata have been moved to {to_delete_folder}.\")"
   ]
  },
  {
   "cell_type": "code",
   "execution_count": 8,
   "metadata": {},
   "outputs": [
    {
     "name": "stdout",
     "output_type": "stream",
     "text": [
      "There are 28 files in the aws_csvs folder.\n"
     ]
    }
   ],
   "source": [
    "# Define the output folder path\n",
    "delete_folder = 'to_delete'\n",
    "\n",
    "# Count the number of files in the folder\n",
    "file_count = len([file for file in os.listdir(delete_folder) if os.path.isfile(os.path.join(delete_folder, file))])\n",
    "\n",
    "print(f'There are {file_count} files in the {output_folder} folder.')"
   ]
  },
  {
   "cell_type": "code",
   "execution_count": 9,
   "metadata": {},
   "outputs": [
    {
     "name": "stdout",
     "output_type": "stream",
     "text": [
      "There are 109 files in the aws_csvs folder.\n"
     ]
    }
   ],
   "source": [
    "# Define the output folder path\n",
    "output_folder = 'aws_csvs'\n",
    "\n",
    "# Count the number of files in the folder\n",
    "file_count = len([file for file in os.listdir(output_folder) if os.path.isfile(os.path.join(output_folder, file))])\n",
    "\n",
    "print(f'There are {file_count} files in the {output_folder} folder.')"
   ]
  },
  {
   "cell_type": "code",
   "execution_count": 10,
   "metadata": {},
   "outputs": [
    {
     "name": "stdout",
     "output_type": "stream",
     "text": [
      "These are the rows in 'meta_calculate_csv' that don't have a corresponding file in 'aws_csvs':\n"
     ]
    },
    {
     "data": {
      "text/html": [
       "<div>\n",
       "<style scoped>\n",
       "    .dataframe tbody tr th:only-of-type {\n",
       "        vertical-align: middle;\n",
       "    }\n",
       "\n",
       "    .dataframe tbody tr th {\n",
       "        vertical-align: top;\n",
       "    }\n",
       "\n",
       "    .dataframe thead th {\n",
       "        text-align: right;\n",
       "    }\n",
       "</style>\n",
       "<table border=\"1\" class=\"dataframe\">\n",
       "  <thead>\n",
       "    <tr style=\"text-align: right;\">\n",
       "      <th></th>\n",
       "      <th>Data Source</th>\n",
       "      <th>Data</th>\n",
       "      <th>Domain</th>\n",
       "      <th>Indicator</th>\n",
       "      <th>Metric</th>\n",
       "      <th>High value result (vulnerable or resilient)</th>\n",
       "      <th>Metric file name</th>\n",
       "      <th>Metric Calculated (Y/N)</th>\n",
       "      <th>Metadata Finalized (Y/N)</th>\n",
       "      <th>Metric Calculator</th>\n",
       "      <th>Metric goes into what indicator</th>\n",
       "      <th>Includes Indigenous Tribes</th>\n",
       "      <th>Notes</th>\n",
       "    </tr>\n",
       "  </thead>\n",
       "  <tbody>\n",
       "    <tr>\n",
       "      <th>52</th>\n",
       "      <td>Cal-Adapt tools</td>\n",
       "      <td>Wildfire - Area burned</td>\n",
       "      <td>Climate Risks</td>\n",
       "      <td>Wildfire loss</td>\n",
       "      <td>change in total area burned per year</td>\n",
       "      <td>vulnerable</td>\n",
       "      <td>climate_wildfire_burned_area_metric.csv</td>\n",
       "      <td>Y</td>\n",
       "      <td>NaN</td>\n",
       "      <td>Victoria Ford</td>\n",
       "      <td>climate_indicator_wildfire_loss</td>\n",
       "      <td>NaN</td>\n",
       "      <td>NaN</td>\n",
       "    </tr>\n",
       "  </tbody>\n",
       "</table>\n",
       "</div>"
      ],
      "text/plain": [
       "        Data Source                    Data         Domain      Indicator  \\\n",
       "52  Cal-Adapt tools  Wildfire - Area burned  Climate Risks  Wildfire loss   \n",
       "\n",
       "                                  Metric  \\\n",
       "52  change in total area burned per year   \n",
       "\n",
       "   High value result (vulnerable or resilient)  \\\n",
       "52                                  vulnerable   \n",
       "\n",
       "                           Metric file name Metric Calculated (Y/N)  \\\n",
       "52  climate_wildfire_burned_area_metric.csv                       Y   \n",
       "\n",
       "    Metadata Finalized (Y/N) Metric Calculator  \\\n",
       "52                       NaN     Victoria Ford   \n",
       "\n",
       "    Metric goes into what indicator Includes Indigenous Tribes Notes  \n",
       "52  climate_indicator_wildfire_loss                        NaN   NaN  "
      ]
     },
     "metadata": {},
     "output_type": "display_data"
    }
   ],
   "source": [
    "# List all files remaining in the aws_csvs folder (after moving 28 to to_delete folder)\n",
    "remaining_files = os.listdir(output_folder)  # This gets the remaining 105 files in aws_csvs\n",
    "\n",
    "# Find the rows in metadata that don't have a corresponding file in aws_csvs\n",
    "missing_files = [file_name for file_name in metadata_filenames if file_name not in remaining_files]\n",
    "\n",
    "# Filter the metadata DataFrame to show the rows corresponding to missing files\n",
    "missing_rows = metadata_calculate[metadata_calculate['Metric file name'].isin(missing_files)]\n",
    "\n",
    "# Display the missing rows\n",
    "print(\"These are the rows in 'meta_calculate_csv' that don't have a corresponding file in 'aws_csvs':\")\n",
    "display(missing_rows)\n",
    "\n",
    "# Optionally, save the missing rows to a new CSV\n",
    "missing_rows.to_csv('missing_files_in_metadata.csv', index=False)"
   ]
  }
 ],
 "metadata": {
  "kernelspec": {
   "display_name": "carb",
   "language": "python",
   "name": "python3"
  },
  "language_info": {
   "codemirror_mode": {
    "name": "ipython",
    "version": 3
   },
   "file_extension": ".py",
   "mimetype": "text/x-python",
   "name": "python",
   "nbconvert_exporter": "python",
   "pygments_lexer": "ipython3",
   "version": "3.9.18"
  }
 },
 "nbformat": 4,
 "nbformat_minor": 2
}
