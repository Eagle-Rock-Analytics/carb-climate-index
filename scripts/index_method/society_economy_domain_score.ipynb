{
 "cells": [
  {
   "cell_type": "markdown",
   "metadata": {},
   "source": [
    "# Cal-CRAI Index: Society & Economy Domain\n",
    "\n",
    "**Order of operations**: \n",
    "1) Metric handling \\\n",
    "   1a - Retrieve data \\\n",
    "   1b - Min-max standardization \\\n",
    "   1c - Set vulnerability orientation (positive for when a larger value represents greater vulnerability, negative for when a larger value corresponds to decreased vulnerability)\n",
    "\n",
    "2) Calculate indicators \\\n",
    "   2a - Min-max standardization \\\n",
    "   2b - Finalize domain score\n",
    "   \n",
    "3) Visualize, save, and export domain score dataframe"
   ]
  },
  {
   "cell_type": "code",
   "execution_count": 1,
   "metadata": {
    "execution": {
     "iopub.execute_input": "2024-12-16T23:45:32.719028Z",
     "iopub.status.busy": "2024-12-16T23:45:32.718314Z",
     "iopub.status.idle": "2024-12-16T23:45:40.881356Z",
     "shell.execute_reply": "2024-12-16T23:45:40.880841Z",
     "shell.execute_reply.started": "2024-12-16T23:45:32.718987Z"
    }
   },
   "outputs": [],
   "source": [
    "import pandas as pd\n",
    "import os\n",
    "import sys\n",
    "import warnings\n",
    "\n",
    "# suppress pandas purely educational warnings\n",
    "from warnings import simplefilter\n",
    "simplefilter(action=\"ignore\", category=pd.errors.PerformanceWarning)\n",
    "\n",
    "sys.path.append(os.path.expanduser('../../'))\n",
    "from scripts.utils.file_helpers import pull_csv_from_directory, upload_csv_aws, delete_items\n",
    "from scripts.utils.write_metadata import append_metadata\n",
    "from scripts.utils.cal_crai_plotting import plot_domain_score, plot_region_domain\n",
    "from scripts.utils.cal_crai_calculations import (handle_outliers, min_max_standardize, process_domain_csv_files, \n",
    "                                        compute_averaged_indicators, compute_summed_indicators, indicator_dicts, \n",
    "                                        add_census_tracts, domain_summary_stats)"
   ]
  },
  {
   "cell_type": "markdown",
   "metadata": {},
   "source": [
    "## Step 1: Metric level\n",
    "### 1a) Retrieve metric files and process"
   ]
  },
  {
   "cell_type": "code",
   "execution_count": null,
   "metadata": {
    "execution": {
     "iopub.execute_input": "2024-12-16T23:45:40.882493Z",
     "iopub.status.busy": "2024-12-16T23:45:40.882241Z",
     "iopub.status.idle": "2024-12-16T23:46:11.528762Z",
     "shell.execute_reply": "2024-12-16T23:46:11.528171Z",
     "shell.execute_reply.started": "2024-12-16T23:45:40.882483Z"
    }
   },
   "outputs": [],
   "source": [
    "# set-up\n",
    "bucket_name = 'ca-climate-index'\n",
    "aws_dir = '3_fair_data/index_data/'\n",
    "\n",
    "pull_csv_from_directory(bucket_name, aws_dir, output_folder='aws_csvs', search_zipped=False, print_name=False)"
   ]
  },
  {
   "cell_type": "markdown",
   "metadata": {},
   "source": [
    "Process and merge Society & Economy metric files together"
   ]
  },
  {
   "cell_type": "code",
   "execution_count": null,
   "metadata": {
    "execution": {
     "iopub.execute_input": "2024-12-16T23:46:11.530063Z",
     "iopub.status.busy": "2024-12-16T23:46:11.529872Z",
     "iopub.status.idle": "2024-12-16T23:46:12.333612Z",
     "shell.execute_reply": "2024-12-16T23:46:12.333248Z",
     "shell.execute_reply.started": "2024-12-16T23:46:11.530046Z"
    }
   },
   "outputs": [],
   "source": [
    "# domain-specific\n",
    "domain_prefix = 'society_economy_'  # will be used for naming newly created columns\n",
    "csv_file_prefix = 'society' # for society & economy domain specifically, all files in this domain are named just society\n",
    "\n",
    "input_folder = r'aws_csvs'\n",
    "output_folder = domain_prefix + \"folder\"\n",
    "meta_csv = r'../utils/calcrai_metrics.csv'\n",
    "\n",
    "merged_output_file = f'concatenate_{domain_prefix}metrics.csv'\n",
    "metric_vulnerable_resilient_dict = process_domain_csv_files(csv_file_prefix, input_folder, output_folder, meta_csv, merged_output_file)"
   ]
  },
  {
   "cell_type": "markdown",
   "metadata": {},
   "source": [
    "Take a look at the resulting dictionary: we will use this later to refactor 'resilient' metrics!"
   ]
  },
  {
   "cell_type": "code",
   "execution_count": null,
   "metadata": {
    "execution": {
     "iopub.execute_input": "2024-12-16T23:46:12.334948Z",
     "iopub.status.busy": "2024-12-16T23:46:12.334811Z",
     "iopub.status.idle": "2024-12-16T23:46:12.338868Z",
     "shell.execute_reply": "2024-12-16T23:46:12.338543Z",
     "shell.execute_reply.started": "2024-12-16T23:46:12.334937Z"
    }
   },
   "outputs": [],
   "source": [
    "metric_vulnerable_resilient_dict"
   ]
  },
  {
   "cell_type": "markdown",
   "metadata": {},
   "source": [
    "Now, take a look at the merged singluar csv file"
   ]
  },
  {
   "cell_type": "code",
   "execution_count": null,
   "metadata": {
    "execution": {
     "iopub.execute_input": "2024-12-16T23:46:12.339505Z",
     "iopub.status.busy": "2024-12-16T23:46:12.339365Z",
     "iopub.status.idle": "2024-12-16T23:46:12.380199Z",
     "shell.execute_reply": "2024-12-16T23:46:12.379812Z",
     "shell.execute_reply.started": "2024-12-16T23:46:12.339497Z"
    }
   },
   "outputs": [],
   "source": [
    "# read-in and view processed data\n",
    "processed_society_df = pd.read_csv(merged_output_file)\n",
    "processed_society_df"
   ]
  },
  {
   "cell_type": "markdown",
   "metadata": {},
   "source": [
    "### 1b) Min-max standardization\n",
    "Metrics are min-max standardized on 0.01 to 0.99 scale."
   ]
  },
  {
   "cell_type": "code",
   "execution_count": null,
   "metadata": {
    "execution": {
     "iopub.execute_input": "2024-12-16T23:46:12.380845Z",
     "iopub.status.busy": "2024-12-16T23:46:12.380742Z",
     "iopub.status.idle": "2024-12-16T23:46:12.477177Z",
     "shell.execute_reply": "2024-12-16T23:46:12.476818Z",
     "shell.execute_reply.started": "2024-12-16T23:46:12.380836Z"
    }
   },
   "outputs": [],
   "source": [
    "# standardizing our df\n",
    "columns_to_process = [col for col in processed_society_df.columns if col != 'GEOID']\n",
    "min_max_metrics = min_max_standardize(processed_society_df, columns_to_process)"
   ]
  },
  {
   "cell_type": "markdown",
   "metadata": {},
   "source": [
    "Isolate for GEOID and standardized columns exclusively"
   ]
  },
  {
   "cell_type": "code",
   "execution_count": null,
   "metadata": {
    "execution": {
     "iopub.execute_input": "2024-12-16T23:46:12.477829Z",
     "iopub.status.busy": "2024-12-16T23:46:12.477732Z",
     "iopub.status.idle": "2024-12-16T23:46:12.482062Z",
     "shell.execute_reply": "2024-12-16T23:46:12.481638Z",
     "shell.execute_reply.started": "2024-12-16T23:46:12.477820Z"
    }
   },
   "outputs": [],
   "source": [
    "words = ['GEOID','standardized']\n",
    "selected_columns = []\n",
    "for word in words:\n",
    "    selected_columns.extend(min_max_metrics.columns[min_max_metrics.columns.str.contains(word)].tolist())\n",
    "min_max_standardized_society_economy_metrics_df = min_max_metrics[selected_columns]\n",
    "min_max_standardized_society_economy_metrics_df.head()"
   ]
  },
  {
   "cell_type": "markdown",
   "metadata": {},
   "source": [
    "### 1c) Set community capacity orientation\n",
    "* High values indicate high community capacity\n",
    "* Low values indicate lower community capacity\n",
    "\n",
    "Some metrics indicate a communities vulnerablity rather than resilience. For example, 'Number of Violent Crimes per 10,000 Population' represents a communities vulnerability to violent crime. For this metric, the higher the number, the lower the community capacity. So we identify these 'vulnerable' metrics with our `metric_vulnerable_resilient_dict` dictionary and subtract their values from 1 so all high values indicate high community capacity"
   ]
  },
  {
   "cell_type": "code",
   "execution_count": null,
   "metadata": {
    "execution": {
     "iopub.execute_input": "2024-12-16T23:46:12.482566Z",
     "iopub.status.busy": "2024-12-16T23:46:12.482471Z",
     "iopub.status.idle": "2024-12-16T23:46:12.485269Z",
     "shell.execute_reply": "2024-12-16T23:46:12.484983Z",
     "shell.execute_reply.started": "2024-12-16T23:46:12.482558Z"
    }
   },
   "outputs": [],
   "source": [
    "metric_vulnerable_resilient_dict"
   ]
  },
  {
   "cell_type": "code",
   "execution_count": null,
   "metadata": {
    "execution": {
     "iopub.execute_input": "2024-12-16T23:46:14.759199Z",
     "iopub.status.busy": "2024-12-16T23:46:14.758432Z",
     "iopub.status.idle": "2024-12-16T23:46:14.792547Z",
     "shell.execute_reply": "2024-12-16T23:46:14.791959Z",
     "shell.execute_reply.started": "2024-12-16T23:46:14.759159Z"
    }
   },
   "outputs": [],
   "source": [
    "# Access the vulnerable column names from the dictionary\n",
    "vulnerable_columns = metric_vulnerable_resilient_dict['vulnerable']\n",
    "\n",
    "# Identify columns in the DataFrame that contain any of the vulnerable column names as substrings\n",
    "vulnerable_columns_in_df = [col for col in min_max_standardized_society_economy_metrics_df.columns \n",
    "                           if any(resilient_col in col for resilient_col in vulnerable_columns)]\n",
    "\n",
    "# Create a new DataFrame with the adjusted vulnerable columns\n",
    "adjusted_vulnerable_df = min_max_standardized_society_economy_metrics_df.copy()\n",
    "\n",
    "# Subtract the standardized vulnerable columns from one and store the result in the new DataFrame\n",
    "adjusted_vulnerable_df.loc[:, vulnerable_columns_in_df] = (\n",
    "    1 - adjusted_vulnerable_df.loc[:, vulnerable_columns_in_df]\n",
    ")\n",
    "adjusted_vulnerable_df.head()"
   ]
  },
  {
   "cell_type": "markdown",
   "metadata": {},
   "source": [
    "## Step 2: Calculate Indicators\n",
    "Loop to go through df columns and average metrics that belong within an indicator based off of the metric to indicator dictionary"
   ]
  },
  {
   "cell_type": "code",
   "execution_count": null,
   "metadata": {},
   "outputs": [],
   "source": [
    "averaged_indicators_society_economy = compute_averaged_indicators(\n",
    "    adjusted_vulnerable_df, \n",
    "    indicator_dicts(domain_prefix[:-1]), print_summary=True\n",
    ")\n",
    "\n",
    "# show resulting dataframe to highlight the indicator values\n",
    "averaged_indicators_society_economy"
   ]
  },
  {
   "cell_type": "markdown",
   "metadata": {},
   "source": [
    "Save Indicator dataframe as a csv"
   ]
  },
  {
   "cell_type": "code",
   "execution_count": 11,
   "metadata": {
    "execution": {
     "iopub.execute_input": "2024-12-16T23:46:21.216075Z",
     "iopub.status.busy": "2024-12-16T23:46:21.215385Z",
     "iopub.status.idle": "2024-12-16T23:46:21.272590Z",
     "shell.execute_reply": "2024-12-16T23:46:21.271974Z",
     "shell.execute_reply.started": "2024-12-16T23:46:21.216042Z"
    }
   },
   "outputs": [],
   "source": [
    "# set-up file for export\n",
    "indicator_filename = '{}domain_averaged_indicators.csv'.format(domain_prefix)\n",
    "averaged_indicators_society_economy.to_csv(indicator_filename, index=False)"
   ]
  },
  {
   "cell_type": "markdown",
   "metadata": {},
   "source": [
    "Sum the indicator columns together to calculate the domain score\n",
    "* essentially summing all columns except for 'GEOID'"
   ]
  },
  {
   "cell_type": "code",
   "execution_count": null,
   "metadata": {
    "execution": {
     "iopub.execute_input": "2024-12-16T23:46:22.486490Z",
     "iopub.status.busy": "2024-12-16T23:46:22.485582Z",
     "iopub.status.idle": "2024-12-16T23:46:22.507731Z",
     "shell.execute_reply": "2024-12-16T23:46:22.506475Z",
     "shell.execute_reply.started": "2024-12-16T23:46:22.486439Z"
    }
   },
   "outputs": [],
   "source": [
    "columns_to_sum = [col for col in averaged_indicators_society_economy.columns if col != 'GEOID']\n",
    "summed_indicators_society_economy = compute_summed_indicators(\n",
    "    df=averaged_indicators_society_economy, \n",
    "    columns_to_sum=columns_to_sum,\n",
    "    domain_prefix=domain_prefix\n",
    ")"
   ]
  },
  {
   "cell_type": "markdown",
   "metadata": {},
   "source": [
    "### 2a) Min-max standardize the summed columns"
   ]
  },
  {
   "cell_type": "code",
   "execution_count": null,
   "metadata": {
    "execution": {
     "iopub.execute_input": "2024-12-16T23:46:26.931343Z",
     "iopub.status.busy": "2024-12-16T23:46:26.930546Z",
     "iopub.status.idle": "2024-12-16T23:46:26.958029Z",
     "shell.execute_reply": "2024-12-16T23:46:26.957374Z",
     "shell.execute_reply.started": "2024-12-16T23:46:26.931298Z"
    }
   },
   "outputs": [],
   "source": [
    "columns_to_process = [col for col in summed_indicators_society_economy.columns if col != 'GEOID']\n",
    "min_max_domain = min_max_standardize(summed_indicators_society_economy, columns_to_process)\n",
    "min_max_domain"
   ]
  },
  {
   "cell_type": "markdown",
   "metadata": {},
   "source": [
    "### 2b) Finalize domain score\n",
    "* Isolate to census tract and summed standardized columns\n",
    "* Rename tract to GEOID for merging\n",
    "* Rename domain score column\n",
    "* Add a zero at the beginning of the GEOID to match census tract that will be merged"
   ]
  },
  {
   "cell_type": "code",
   "execution_count": 14,
   "metadata": {
    "execution": {
     "iopub.execute_input": "2024-12-16T23:46:31.342749Z",
     "iopub.status.busy": "2024-12-16T23:46:31.342003Z",
     "iopub.status.idle": "2024-12-16T23:46:31.367928Z",
     "shell.execute_reply": "2024-12-16T23:46:31.367199Z",
     "shell.execute_reply.started": "2024-12-16T23:46:31.342714Z"
    }
   },
   "outputs": [],
   "source": [
    "society_economy_domain_score = min_max_domain[['GEOID', 'summed_indicators_society_economy_domain_min_max_standardized']].copy()\n",
    "\n",
    "# GEOID handling\n",
    "society_economy_domain_score['GEOID'] = society_economy_domain_score['GEOID'].apply(lambda x: '0' + str(x))\n",
    "society_economy_domain_score['GEOID'] = society_economy_domain_score['GEOID'].astype(str).apply(lambda x: x.rstrip('0').rstrip('.') if '.' in x else x)\n",
    "society_economy_domain_score = society_economy_domain_score.rename(columns={'summed_indicators_society_economy_domain_min_max_standardized':'society_economy_domain_score'})"
   ]
  },
  {
   "cell_type": "markdown",
   "metadata": {},
   "source": [
    "## Step 3: Visualize, save, and export domain score"
   ]
  },
  {
   "cell_type": "markdown",
   "metadata": {},
   "source": [
    "Let's look at some summary statistics for this domain:"
   ]
  },
  {
   "cell_type": "code",
   "execution_count": null,
   "metadata": {
    "execution": {
     "iopub.execute_input": "2024-12-16T23:46:33.479745Z",
     "iopub.status.busy": "2024-12-16T23:46:33.479019Z",
     "iopub.status.idle": "2024-12-16T23:46:33.486549Z",
     "shell.execute_reply": "2024-12-16T23:46:33.485674Z",
     "shell.execute_reply.started": "2024-12-16T23:46:33.479710Z"
    }
   },
   "outputs": [],
   "source": [
    "domain_summary_stats(society_economy_domain_score, 'society_economy_domain_score')"
   ]
  },
  {
   "cell_type": "markdown",
   "metadata": {},
   "source": [
    "Now let's visualize the entire domain!"
   ]
  },
  {
   "cell_type": "code",
   "execution_count": null,
   "metadata": {
    "execution": {
     "iopub.execute_input": "2024-12-16T23:46:34.773029Z",
     "iopub.status.busy": "2024-12-16T23:46:34.772085Z",
     "iopub.status.idle": "2024-12-16T23:46:36.023064Z",
     "shell.execute_reply": "2024-12-16T23:46:36.022675Z",
     "shell.execute_reply.started": "2024-12-16T23:46:34.772989Z"
    }
   },
   "outputs": [],
   "source": [
    "plot_domain_score(society_economy_domain_score, \n",
    "                  column_to_plot='society_economy_domain_score',\n",
    "                  domain=domain_prefix)"
   ]
  },
  {
   "cell_type": "markdown",
   "metadata": {},
   "source": [
    "### We can also visualize specific areas!\n",
    "Here we'll use the specialized plotting function `plot_region_domain` function, which can handle county identifiers (their corresponding FIPS code) and pre-defined CA regions (listed below). For more information on the function, type `help(plot_region_domain)` to display additional context for all arguments. \n",
    "\n",
    "Pre-defined regions include: `bay_area`, `central_region`, `inland_deserts`, `north_central`, `northern`, `south_coast`, `slr_coast`. \n",
    "\n",
    "CA County FIPS Code Look-Up Table\n",
    "|County: Code|County: Code|County: Code|County: Code|\n",
    "|-----|----|-----|-----|\n",
    "|Alameda: 001|Lassen: 035|San Benito: 069|Tehama: 103|\n",
    "|Alpine: 003|Los Angeles: 037|San Bernardino: 071|Trinity: 105|\n",
    "|Amador: 005|Madera: 039|San Diego: 073|Tulare: 107|\n",
    "|Butte: 007|Marin: 041|San Francisco: 075|Tuolumne: 109|\n",
    "|Calaveras: 009|Mariposa: 043|San Joaquin: 077|Ventura: 111|\n",
    "|Colusa: 013|Mendocino: 045|San Luis Obispo: 079|Yolo: 113|\n",
    "|Contra Costa: 015|Merced: 047|San Mateo: 081|Yuba: 115|\n",
    "|Del Norte: 017|Modoc: 049| Santa Barbara: 083|\n",
    "|El Dorado: 019|Mono: 051|Santa Clara: 085|\n",
    "|Fresno: 019|Monterey: 053|Santa Cruz: 087|\n",
    "|Glenn: 021|Napa: 055|Shasta: 089|\n",
    "|Humboldt: 023|Nevada: 057|Sierra: 091|\n",
    "|Imperial: 025|Orange: 059|Siskiyou: 095|\n",
    "|Inyo: 027|Placer: 061|Solano: 095|\n",
    "|Kern: 029|Plumas: 063|Sonoma: 097|\n",
    "|Kings: 031|Riverside: 065|Stanislaus: 099|\n",
    "|Lake: 033|Sacramento: 067|Sutter: 101|\n",
    "\n",
    "You can plot a domains vulnerability index by region, specific county/counties, or the entirety of CA with labels. Below are a few example of each of these plotting scenarios. \n",
    "\n",
    "`help(plot_region_domain)`"
   ]
  },
  {
   "cell_type": "code",
   "execution_count": null,
   "metadata": {
    "execution": {
     "iopub.execute_input": "2024-12-16T23:47:03.976153Z",
     "iopub.status.busy": "2024-12-16T23:47:03.975440Z",
     "iopub.status.idle": "2024-12-16T23:47:05.064950Z",
     "shell.execute_reply": "2024-12-16T23:47:05.064537Z",
     "shell.execute_reply.started": "2024-12-16T23:47:03.976119Z"
    }
   },
   "outputs": [],
   "source": [
    "plot_region_domain(society_economy_domain_score,\n",
    "                   column_to_plot='society_economy_domain_score',\n",
    "                    domain=domain_prefix, \n",
    "                    domain_label_map={domain_prefix: 'Society and Economy'}, \n",
    "                    region='inland_deserts', \n",
    "                    savefig=False, \n",
    "                    font_color='black')"
   ]
  },
  {
   "cell_type": "code",
   "execution_count": null,
   "metadata": {
    "execution": {
     "iopub.execute_input": "2024-12-16T23:47:05.065915Z",
     "iopub.status.busy": "2024-12-16T23:47:05.065797Z",
     "iopub.status.idle": "2024-12-16T23:47:06.229046Z",
     "shell.execute_reply": "2024-12-16T23:47:06.228664Z",
     "shell.execute_reply.started": "2024-12-16T23:47:05.065906Z"
    }
   },
   "outputs": [],
   "source": [
    "plot_region_domain(society_economy_domain_score,\n",
    "                   column_to_plot='society_economy_domain_score',\n",
    "                   domain=domain_prefix,\n",
    "                   domain_label_map={domain_prefix: 'Society and Economy'},\n",
    "                   region='central_region', \n",
    "                   savefig=False, \n",
    "                   font_color='black')"
   ]
  },
  {
   "cell_type": "code",
   "execution_count": null,
   "metadata": {
    "execution": {
     "iopub.execute_input": "2024-12-16T23:47:06.229792Z",
     "iopub.status.busy": "2024-12-16T23:47:06.229675Z",
     "iopub.status.idle": "2024-12-16T23:47:06.450028Z",
     "shell.execute_reply": "2024-12-16T23:47:06.449651Z",
     "shell.execute_reply.started": "2024-12-16T23:47:06.229783Z"
    }
   },
   "outputs": [],
   "source": [
    "list_of_counties = ['003']\n",
    "plot_region_domain(society_economy_domain_score,\n",
    "                   column_to_plot='society_economy_domain_score',\n",
    "                   counties_to_plot=list_of_counties, \n",
    "                   domain_label_map={domain_prefix: 'Society and Economy'},\n",
    "                   savefig=False, \n",
    "                   font_color='black')"
   ]
  },
  {
   "cell_type": "code",
   "execution_count": null,
   "metadata": {
    "execution": {
     "iopub.execute_input": "2024-12-16T23:47:06.451381Z",
     "iopub.status.busy": "2024-12-16T23:47:06.451137Z",
     "iopub.status.idle": "2024-12-16T23:47:12.542713Z",
     "shell.execute_reply": "2024-12-16T23:47:12.542366Z",
     "shell.execute_reply.started": "2024-12-16T23:47:06.451361Z"
    }
   },
   "outputs": [],
   "source": [
    "plot_region_domain(society_economy_domain_score,\n",
    "                   column_to_plot='society_economy_domain_score',\n",
    "                   domain_label_map={domain_prefix: 'Society and Economy'},\n",
    "                   plot_all=True, \n",
    "                   savefig=False, \n",
    "                   font_color='black')"
   ]
  },
  {
   "cell_type": "markdown",
   "metadata": {},
   "source": [
    "## Export the final domain csv file"
   ]
  },
  {
   "cell_type": "code",
   "execution_count": 21,
   "metadata": {
    "execution": {
     "iopub.execute_input": "2024-12-16T23:47:12.543691Z",
     "iopub.status.busy": "2024-12-16T23:47:12.543584Z",
     "iopub.status.idle": "2024-12-16T23:47:12.557101Z",
     "shell.execute_reply": "2024-12-16T23:47:12.556812Z",
     "shell.execute_reply.started": "2024-12-16T23:47:12.543683Z"
    }
   },
   "outputs": [],
   "source": [
    "# set-up file for export\n",
    "domain_filename = '{}domain_score.csv'.format(domain_prefix)\n",
    "society_economy_domain_score.to_csv(domain_filename, index=False)"
   ]
  },
  {
   "cell_type": "markdown",
   "metadata": {},
   "source": [
    "## Upload the indicator and domain score csv files to AWS"
   ]
  },
  {
   "cell_type": "code",
   "execution_count": null,
   "metadata": {
    "execution": {
     "iopub.execute_input": "2024-12-16T23:47:12.557773Z",
     "iopub.status.busy": "2024-12-16T23:47:12.557622Z",
     "iopub.status.idle": "2024-12-16T23:47:17.196131Z",
     "shell.execute_reply": "2024-12-16T23:47:17.194181Z",
     "shell.execute_reply.started": "2024-12-16T23:47:12.557763Z"
    }
   },
   "outputs": [],
   "source": [
    "# upload to aws bucket\n",
    "bucket_name = 'ca-climate-index'\n",
    "directory = '3_fair_data/index_data'\n",
    "\n",
    "files_upload = indicator_filename, domain_filename\n",
    "\n",
    "for file in files_upload:\n",
    "    upload_csv_aws([file], bucket_name, directory)"
   ]
  },
  {
   "cell_type": "markdown",
   "metadata": {},
   "source": [
    "## Delete desired csv files\n",
    "* all that were generated from this notebook by default"
   ]
  },
  {
   "cell_type": "code",
   "execution_count": null,
   "metadata": {},
   "outputs": [],
   "source": [
    "folders_to_delete = [\"aws_csvs\", \"society_economy_folder\"]\n",
    "csv_files_to_delete = [\"concatenate_society_economy_metrics.csv\", \"society_economy_domain_score.csv\",\n",
    "                       \"society_economy_domain_averaged_indicators.csv\"]\n",
    "\n",
    "delete_items(folders_to_delete, csv_files_to_delete)"
   ]
  }
 ],
 "metadata": {
  "kernelspec": {
   "display_name": "carb",
   "language": "python",
   "name": "python3"
  },
  "language_info": {
   "codemirror_mode": {
    "name": "ipython",
    "version": 3
   },
   "file_extension": ".py",
   "mimetype": "text/x-python",
   "name": "python",
   "nbconvert_exporter": "python",
   "pygments_lexer": "ipython3",
   "version": "3.9.18"
  }
 },
 "nbformat": 4,
 "nbformat_minor": 4
}
