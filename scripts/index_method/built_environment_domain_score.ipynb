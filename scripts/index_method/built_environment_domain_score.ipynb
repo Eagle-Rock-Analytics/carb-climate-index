{
 "cells": [
  {
   "cell_type": "markdown",
   "metadata": {},
   "source": [
    "# Cal-CRAI Index: Built Environment Domain\n",
    "\n",
    "**Order of operations**: \n",
    "1) Metric handling \\\n",
    "   1a - Retrieve data \\\n",
    "   1b - Min-max standardization \\\n",
    "   1c - Set vulnerability orientation (positive for when a larger value represents greater vulnerability, negative for when a larger value corresponds to decreased vulnerability)\n",
    "\n",
    "2) Calculate indicators \\\n",
    "   2a - Min-max standardization \\\n",
    "   2b - Finalize domain score\n",
    "   \n",
    "3) Visualize, save, and export domain score dataframe"
   ]
  },
  {
   "cell_type": "code",
   "execution_count": 3,
   "metadata": {
    "execution": {
     "iopub.execute_input": "2024-12-16T22:36:35.788905Z",
     "iopub.status.busy": "2024-12-16T22:36:35.788127Z",
     "iopub.status.idle": "2024-12-16T22:36:46.333287Z",
     "shell.execute_reply": "2024-12-16T22:36:46.332925Z",
     "shell.execute_reply.started": "2024-12-16T22:36:35.788869Z"
    }
   },
   "outputs": [],
   "source": [
    "import pandas as pd\n",
    "import os\n",
    "import sys\n",
    "import warnings\n",
    "\n",
    "# suppress pandas purely educational warnings\n",
    "from warnings import simplefilter\n",
    "simplefilter(action=\"ignore\", category=pd.errors.PerformanceWarning)\n",
    "\n",
    "sys.path.append(os.path.expanduser('../../'))\n",
    "from scripts.utils.file_helpers import pull_csv_from_directory, upload_csv_aws, delete_items\n",
    "from scripts.utils.write_metadata import append_metadata\n",
    "from scripts.utils.cal_crai_plotting import plot_domain_score, plot_region_domain\n",
    "from scripts.utils.cal_crai_calculations import (handle_outliers, min_max_standardize, process_domain_csv_files, \n",
    "                                        compute_averaged_indicators, compute_summed_indicators, indicator_dicts, \n",
    "                                        add_census_tracts, domain_summary_stats)"
   ]
  },
  {
   "cell_type": "markdown",
   "metadata": {},
   "source": [
    "## Step 1: Metric level\n",
    "### 1a) Retrieve metric files and process"
   ]
  },
  {
   "cell_type": "code",
   "execution_count": null,
   "metadata": {
    "execution": {
     "iopub.execute_input": "2024-12-16T22:37:04.629195Z",
     "iopub.status.busy": "2024-12-16T22:37:04.627909Z",
     "iopub.status.idle": "2024-12-16T22:37:38.703799Z",
     "shell.execute_reply": "2024-12-16T22:37:38.703251Z",
     "shell.execute_reply.started": "2024-12-16T22:37:04.629161Z"
    }
   },
   "outputs": [],
   "source": [
    "# set-up\n",
    "bucket_name = 'ca-climate-index'\n",
    "aws_dir = '3_fair_data/index_data/'\n",
    "\n",
    "pull_csv_from_directory(bucket_name, aws_dir, output_folder='aws_csvs', search_zipped=False, print_name=False)"
   ]
  },
  {
   "cell_type": "markdown",
   "metadata": {},
   "source": [
    "Process and merge Built Environment metric files together"
   ]
  },
  {
   "cell_type": "code",
   "execution_count": null,
   "metadata": {
    "execution": {
     "iopub.execute_input": "2024-12-16T22:37:38.705457Z",
     "iopub.status.busy": "2024-12-16T22:37:38.705219Z",
     "iopub.status.idle": "2024-12-16T22:37:39.111455Z",
     "shell.execute_reply": "2024-12-16T22:37:39.111103Z",
     "shell.execute_reply.started": "2024-12-16T22:37:38.705439Z"
    }
   },
   "outputs": [],
   "source": [
    "# domain-specific\n",
    "domain_prefix = 'built_'\n",
    "input_folder = r'aws_csvs'\n",
    "output_folder = domain_prefix + \"folder\"\n",
    "meta_csv = r'../utils/calcrai_metrics.csv'\n",
    "\n",
    "merged_output_file = f'concatenate_{domain_prefix}metrics.csv'\n",
    "metric_vulnerable_resilient_dict = process_domain_csv_files(domain_prefix, input_folder, output_folder, meta_csv, merged_output_file)"
   ]
  },
  {
   "cell_type": "markdown",
   "metadata": {},
   "source": [
    "Take a look at the resulting dictionary: we will use this later to refactor certain metrics!"
   ]
  },
  {
   "cell_type": "code",
   "execution_count": null,
   "metadata": {
    "execution": {
     "iopub.execute_input": "2024-12-16T22:37:39.112165Z",
     "iopub.status.busy": "2024-12-16T22:37:39.112053Z",
     "iopub.status.idle": "2024-12-16T22:37:39.116310Z",
     "shell.execute_reply": "2024-12-16T22:37:39.116002Z",
     "shell.execute_reply.started": "2024-12-16T22:37:39.112156Z"
    }
   },
   "outputs": [],
   "source": [
    "metric_vulnerable_resilient_dict"
   ]
  },
  {
   "cell_type": "markdown",
   "metadata": {},
   "source": [
    "Now, take a look at the merged singluar csv file"
   ]
  },
  {
   "cell_type": "code",
   "execution_count": null,
   "metadata": {
    "execution": {
     "iopub.execute_input": "2024-12-16T22:37:39.117786Z",
     "iopub.status.busy": "2024-12-16T22:37:39.117648Z",
     "iopub.status.idle": "2024-12-16T22:37:39.146873Z",
     "shell.execute_reply": "2024-12-16T22:37:39.146565Z",
     "shell.execute_reply.started": "2024-12-16T22:37:39.117775Z"
    }
   },
   "outputs": [],
   "source": [
    "# read-in and view processed data\n",
    "processed_built_df = pd.read_csv(merged_output_file)\n",
    "processed_built_df"
   ]
  },
  {
   "cell_type": "markdown",
   "metadata": {},
   "source": [
    "### 1b) Min-max standardization\n",
    "Metrics are min-max standardized on 0.01 to 0.99 scale."
   ]
  },
  {
   "cell_type": "code",
   "execution_count": null,
   "metadata": {
    "execution": {
     "iopub.execute_input": "2024-12-16T22:38:04.330215Z",
     "iopub.status.busy": "2024-12-16T22:38:04.329087Z",
     "iopub.status.idle": "2024-12-16T22:38:04.413780Z",
     "shell.execute_reply": "2024-12-16T22:38:04.413301Z",
     "shell.execute_reply.started": "2024-12-16T22:38:04.330149Z"
    }
   },
   "outputs": [],
   "source": [
    "# standardizing our df\n",
    "columns_to_process = [col for col in processed_built_df.columns if col != 'GEOID']\n",
    "min_max_metrics = min_max_standardize(processed_built_df, columns_to_process)"
   ]
  },
  {
   "cell_type": "markdown",
   "metadata": {},
   "source": [
    "Isolate for GEOID and standardized columns exclusively"
   ]
  },
  {
   "cell_type": "code",
   "execution_count": null,
   "metadata": {
    "execution": {
     "iopub.execute_input": "2024-12-16T22:40:20.815792Z",
     "iopub.status.busy": "2024-12-16T22:40:20.815045Z",
     "iopub.status.idle": "2024-12-16T22:40:20.831414Z",
     "shell.execute_reply": "2024-12-16T22:40:20.830015Z",
     "shell.execute_reply.started": "2024-12-16T22:40:20.815754Z"
    }
   },
   "outputs": [],
   "source": [
    "words = ['GEOID','standardized']\n",
    "selected_columns = []\n",
    "for word in words:\n",
    "    selected_columns.extend(min_max_metrics.columns[min_max_metrics.columns.str.contains(word)].tolist())\n",
    "min_max_standardized_built_metrics_df = min_max_metrics[selected_columns]\n",
    "min_max_standardized_built_metrics_df.head()"
   ]
  },
  {
   "cell_type": "markdown",
   "metadata": {},
   "source": [
    "### 1c) Set resilience orientation\n",
    "* High values indicate resiliency\n",
    "* Low values indicate vulnerablility\n",
    "\n",
    "Some metrics indicate a communities vulnerablity rather than resilience. For example, 'Number of Violent Crimes per 10,000 Population' represents a communities vulnerability to violent crime. For this metric, the higher the number, the more vulnerable. So we identify these 'vulnerable' metrics with our `metric_vulnerable_resilient_dict` dictionary and subtract their values from 1 so all high values indicate resiliency"
   ]
  },
  {
   "cell_type": "code",
   "execution_count": null,
   "metadata": {
    "execution": {
     "iopub.execute_input": "2024-12-16T22:40:37.353499Z",
     "iopub.status.busy": "2024-12-16T22:40:37.352790Z",
     "iopub.status.idle": "2024-12-16T22:40:37.365549Z",
     "shell.execute_reply": "2024-12-16T22:40:37.363097Z",
     "shell.execute_reply.started": "2024-12-16T22:40:37.353464Z"
    }
   },
   "outputs": [],
   "source": [
    "metric_vulnerable_resilient_dict"
   ]
  },
  {
   "cell_type": "code",
   "execution_count": null,
   "metadata": {
    "execution": {
     "iopub.execute_input": "2024-12-16T22:40:41.190775Z",
     "iopub.status.busy": "2024-12-16T22:40:41.190044Z",
     "iopub.status.idle": "2024-12-16T22:40:41.210050Z",
     "shell.execute_reply": "2024-12-16T22:40:41.206547Z",
     "shell.execute_reply.started": "2024-12-16T22:40:41.190739Z"
    }
   },
   "outputs": [],
   "source": [
    "# Access the vulnerable column names from the dictionary\n",
    "vulnerable_columns = metric_vulnerable_resilient_dict['vulnerable']\n",
    "\n",
    "# Identify columns in the DataFrame that contain any of the vulnerable column names as substrings\n",
    "vulnerable_columns_in_df = [col for col in min_max_standardized_built_metrics_df.columns \n",
    "                           if any(resilient_col in col for resilient_col in vulnerable_columns)]\n",
    "\n",
    "# Create a new DataFrame with the adjusted vulnerable columns\n",
    "adjusted_vulnerable_df = min_max_standardized_built_metrics_df.copy()\n",
    "\n",
    "# Subtract the standardized vulnerable columns from one and store the result in the new DataFrame\n",
    "adjusted_vulnerable_df.loc[:, vulnerable_columns_in_df] = (\n",
    "    1 - adjusted_vulnerable_df.loc[:, vulnerable_columns_in_df]\n",
    ")\n",
    "\n",
    "# View results\n",
    "adjusted_vulnerable_df.head()"
   ]
  },
  {
   "cell_type": "markdown",
   "metadata": {},
   "source": [
    "## Step 2: Calculate Indicators\n",
    "Loop to go through df columns and average metrics that belong within an indicator based off of the metric to indicator dictionary"
   ]
  },
  {
   "cell_type": "code",
   "execution_count": null,
   "metadata": {
    "execution": {
     "iopub.execute_input": "2024-12-16T22:41:13.455786Z",
     "iopub.status.busy": "2024-12-16T22:41:13.455100Z",
     "iopub.status.idle": "2024-12-16T22:41:13.463181Z",
     "shell.execute_reply": "2024-12-16T22:41:13.461583Z",
     "shell.execute_reply.started": "2024-12-16T22:41:13.455752Z"
    }
   },
   "outputs": [],
   "source": [
    "domain_prefix[:-1]"
   ]
  },
  {
   "cell_type": "code",
   "execution_count": null,
   "metadata": {},
   "outputs": [],
   "source": [
    "averaged_indicators_built_environment = compute_averaged_indicators(\n",
    "    adjusted_vulnerable_df, \n",
    "    indicator_dicts(domain_prefix[:-1]), print_summary=True\n",
    ")\n",
    "\n",
    "# show resulting dataframe to highlight the indicator values\n",
    "averaged_indicators_built_environment"
   ]
  },
  {
   "cell_type": "markdown",
   "metadata": {},
   "source": [
    "Save Indicator dataframe as a csv"
   ]
  },
  {
   "cell_type": "code",
   "execution_count": 14,
   "metadata": {
    "execution": {
     "iopub.execute_input": "2024-12-16T22:41:26.079800Z",
     "iopub.status.busy": "2024-12-16T22:41:26.079125Z",
     "iopub.status.idle": "2024-12-16T22:41:26.150044Z",
     "shell.execute_reply": "2024-12-16T22:41:26.149465Z",
     "shell.execute_reply.started": "2024-12-16T22:41:26.079768Z"
    }
   },
   "outputs": [],
   "source": [
    "# set-up file for export\n",
    "indicator_filename = '{}domain_averaged_indicators.csv'.format(domain_prefix)\n",
    "averaged_indicators_built_environment.to_csv(indicator_filename, index=False)"
   ]
  },
  {
   "cell_type": "markdown",
   "metadata": {},
   "source": [
    "Sum the indicator columns together to calculate the domain score\n",
    "* essentially summing all columns except for 'GEOID'"
   ]
  },
  {
   "cell_type": "code",
   "execution_count": null,
   "metadata": {
    "execution": {
     "iopub.execute_input": "2024-12-16T22:41:28.914337Z",
     "iopub.status.busy": "2024-12-16T22:41:28.913591Z",
     "iopub.status.idle": "2024-12-16T22:41:28.936415Z",
     "shell.execute_reply": "2024-12-16T22:41:28.935623Z",
     "shell.execute_reply.started": "2024-12-16T22:41:28.914300Z"
    }
   },
   "outputs": [],
   "source": [
    "columns_to_sum = [col for col in averaged_indicators_built_environment.columns if col != 'GEOID']\n",
    "summed_indicators_built_environment = compute_summed_indicators(\n",
    "    df=averaged_indicators_built_environment, \n",
    "    columns_to_sum=columns_to_sum,\n",
    "    domain_prefix=domain_prefix\n",
    ")"
   ]
  },
  {
   "cell_type": "markdown",
   "metadata": {},
   "source": [
    "### 2a) Min-max standardize the summed columns\n",
    "Indicators are also min-max standardized. We'll follow the same procedure again. "
   ]
  },
  {
   "cell_type": "code",
   "execution_count": null,
   "metadata": {
    "execution": {
     "iopub.execute_input": "2024-12-16T22:41:40.613069Z",
     "iopub.status.busy": "2024-12-16T22:41:40.612372Z",
     "iopub.status.idle": "2024-12-16T22:41:40.630169Z",
     "shell.execute_reply": "2024-12-16T22:41:40.629385Z",
     "shell.execute_reply.started": "2024-12-16T22:41:40.613035Z"
    }
   },
   "outputs": [],
   "source": [
    "columns_to_process = [col for col in summed_indicators_built_environment.columns if col != 'GEOID']\n",
    "min_max_domain = min_max_standardize(summed_indicators_built_environment, columns_to_process)\n",
    "min_max_domain"
   ]
  },
  {
   "cell_type": "markdown",
   "metadata": {},
   "source": [
    "### 2b) Finalize domain score\n",
    "* Isolate to census tract and summed standardized columns\n",
    "* Rename tract to GEOID for merging\n",
    "* Rename domain score column\n",
    "* Add a zero at the beginning of the GEOID to match census tract that will be merged"
   ]
  },
  {
   "cell_type": "code",
   "execution_count": 17,
   "metadata": {
    "execution": {
     "iopub.execute_input": "2024-12-16T22:42:29.961810Z",
     "iopub.status.busy": "2024-12-16T22:42:29.961094Z",
     "iopub.status.idle": "2024-12-16T22:42:29.985064Z",
     "shell.execute_reply": "2024-12-16T22:42:29.984326Z",
     "shell.execute_reply.started": "2024-12-16T22:42:29.961754Z"
    }
   },
   "outputs": [],
   "source": [
    "built_environment_domain_score = min_max_domain[['GEOID', 'summed_indicators_built_domain_min_max_standardized']].copy()\n",
    "\n",
    "# GEOID handling\n",
    "built_environment_domain_score['GEOID'] = built_environment_domain_score['GEOID'].apply(lambda x: '0' + str(x))\n",
    "built_environment_domain_score['GEOID'] = built_environment_domain_score['GEOID'].astype(str).apply(lambda x: x.rstrip('0').rstrip('.') if '.' in x else x)\n",
    "\n",
    "# rename for clarity\n",
    "built_environment_domain_score = built_environment_domain_score.rename(columns={'summed_indicators_built_domain_min_max_standardized':'built_environment_domain_score'})"
   ]
  },
  {
   "cell_type": "markdown",
   "metadata": {},
   "source": [
    "## Step 3: Visualize, save, and export domain score"
   ]
  },
  {
   "cell_type": "markdown",
   "metadata": {},
   "source": [
    "Let's look at some summary statistics for this domain:"
   ]
  },
  {
   "cell_type": "code",
   "execution_count": null,
   "metadata": {
    "execution": {
     "iopub.execute_input": "2024-12-16T22:42:35.649031Z",
     "iopub.status.busy": "2024-12-16T22:42:35.648321Z",
     "iopub.status.idle": "2024-12-16T22:42:35.659239Z",
     "shell.execute_reply": "2024-12-16T22:42:35.657765Z",
     "shell.execute_reply.started": "2024-12-16T22:42:35.648999Z"
    }
   },
   "outputs": [],
   "source": [
    "domain_summary_stats(built_environment_domain_score, 'built_environment_domain_score')"
   ]
  },
  {
   "cell_type": "markdown",
   "metadata": {},
   "source": [
    "Now let's visualize the entire domain!"
   ]
  },
  {
   "cell_type": "code",
   "execution_count": null,
   "metadata": {
    "execution": {
     "iopub.execute_input": "2024-12-16T22:43:14.589194Z",
     "iopub.status.busy": "2024-12-16T22:43:14.588357Z",
     "iopub.status.idle": "2024-12-16T22:43:15.801658Z",
     "shell.execute_reply": "2024-12-16T22:43:15.801282Z",
     "shell.execute_reply.started": "2024-12-16T22:43:14.589151Z"
    }
   },
   "outputs": [],
   "source": [
    "plot_domain_score(built_environment_domain_score,\n",
    "                  column_to_plot='built_environment_domain_score',\n",
    "                  domain=domain_prefix)"
   ]
  },
  {
   "cell_type": "markdown",
   "metadata": {},
   "source": [
    "### We can also visualize specific areas!\n",
    "Here we'll use the specialized plotting function `plot_region_domain` function, which can handle county identifiers (their corresponding FIPS code) and pre-defined CA regions (listed below). For more information on the function, type `help(plot_region_domain)` to display additional context for all arguments. \n",
    "\n",
    "Pre-defined regions include: `bay_area`, `central_region`, `inland_deserts`, `north_central`, `northern`, `south_coast`, `slr_coast`. \n",
    "\n",
    "CA County FIPS Code Look-Up Table\n",
    "|County: Code|County: Code|County: Code|County: Code|\n",
    "|-----|----|-----|-----|\n",
    "|Alameda: 001|Lassen: 035|San Benito: 069|Tehama: 103|\n",
    "|Alpine: 003|Los Angeles: 037|San Bernardino: 071|Trinity: 105|\n",
    "|Amador: 005|Madera: 039|San Diego: 073|Tulare: 107|\n",
    "|Butte: 007|Marin: 041|San Francisco: 075|Tuolumne: 109|\n",
    "|Calaveras: 009|Mariposa: 043|San Joaquin: 077|Ventura: 111|\n",
    "|Colusa: 013|Mendocino: 045|San Luis Obispo: 079|Yolo: 113|\n",
    "|Contra Costa: 015|Merced: 047|San Mateo: 081|Yuba: 115|\n",
    "|Del Norte: 017|Modoc: 049| Santa Barbara: 083|\n",
    "|El Dorado: 019|Mono: 051|Santa Clara: 085|\n",
    "|Fresno: 019|Monterey: 053|Santa Cruz: 087|\n",
    "|Glenn: 021|Napa: 055|Shasta: 089|\n",
    "|Humboldt: 023|Nevada: 057|Sierra: 091|\n",
    "|Imperial: 025|Orange: 059|Siskiyou: 095|\n",
    "|Inyo: 027|Placer: 061|Solano: 095|\n",
    "|Kern: 029|Plumas: 063|Sonoma: 097|\n",
    "|Kings: 031|Riverside: 065|Stanislaus: 099|\n",
    "|Lake: 033|Sacramento: 067|Sutter: 101|\n",
    "\n",
    "You can plot a domains vulnerability index by region, specific county/counties, or the entirety of CA with labels. Below are a few example of each of these plotting scenarios. "
   ]
  },
  {
   "cell_type": "markdown",
   "metadata": {
    "execution": {
     "iopub.execute_input": "2024-12-16T22:46:22.821216Z",
     "iopub.status.busy": "2024-12-16T22:46:22.820524Z",
     "iopub.status.idle": "2024-12-16T22:46:22.829032Z",
     "shell.execute_reply": "2024-12-16T22:46:22.827406Z",
     "shell.execute_reply.started": "2024-12-16T22:46:22.821182Z"
    }
   },
   "source": [
    "`help(plot_region_domain)`"
   ]
  },
  {
   "cell_type": "code",
   "execution_count": null,
   "metadata": {
    "execution": {
     "iopub.execute_input": "2024-12-16T23:34:24.842782Z",
     "iopub.status.busy": "2024-12-16T23:34:24.842081Z",
     "iopub.status.idle": "2024-12-16T23:34:28.720768Z",
     "shell.execute_reply": "2024-12-16T23:34:28.720395Z",
     "shell.execute_reply.started": "2024-12-16T23:34:24.842748Z"
    }
   },
   "outputs": [],
   "source": [
    "plot_region_domain(built_environment_domain_score,\n",
    "                  column_to_plot='built_environment_domain_score',\n",
    "                  domain=domain_prefix,\n",
    "                  domain_label_map={domain_prefix: 'Built Environment'},\n",
    "                  region='slr_coast',\n",
    "                  savefig=False, \n",
    "                  font_color='black')"
   ]
  },
  {
   "cell_type": "code",
   "execution_count": null,
   "metadata": {
    "execution": {
     "iopub.execute_input": "2024-12-16T23:34:35.689079Z",
     "iopub.status.busy": "2024-12-16T23:34:35.688377Z",
     "iopub.status.idle": "2024-12-16T23:34:36.909128Z",
     "shell.execute_reply": "2024-12-16T23:34:36.908762Z",
     "shell.execute_reply.started": "2024-12-16T23:34:35.689045Z"
    }
   },
   "outputs": [],
   "source": [
    "plot_region_domain(built_environment_domain_score,\n",
    "                  column_to_plot='built_environment_domain_score',\n",
    "                  domain=domain_prefix,\n",
    "                  domain_label_map={domain_prefix: 'Built Environment'}, \n",
    "                  region='central_region', \n",
    "                  savefig=False, \n",
    "                  font_color='black')"
   ]
  },
  {
   "cell_type": "code",
   "execution_count": null,
   "metadata": {
    "execution": {
     "iopub.execute_input": "2024-12-16T23:34:37.123721Z",
     "iopub.status.busy": "2024-12-16T23:34:37.122976Z",
     "iopub.status.idle": "2024-12-16T23:34:37.381114Z",
     "shell.execute_reply": "2024-12-16T23:34:37.380658Z",
     "shell.execute_reply.started": "2024-12-16T23:34:37.123682Z"
    }
   },
   "outputs": [],
   "source": [
    "list_of_counties = ['003']\n",
    "plot_region_domain(built_environment_domain_score,\n",
    "                  column_to_plot='built_environment_domain_score',\n",
    "                  domain=domain_prefix,\n",
    "                  domain_label_map={domain_prefix: 'Built Environment'}, \n",
    "                  counties_to_plot=list_of_counties,\n",
    "                  savefig=False,\n",
    "                  font_color='black')"
   ]
  },
  {
   "cell_type": "code",
   "execution_count": null,
   "metadata": {
    "execution": {
     "iopub.execute_input": "2024-12-16T23:34:38.079598Z",
     "iopub.status.busy": "2024-12-16T23:34:38.078791Z",
     "iopub.status.idle": "2024-12-16T23:34:44.316192Z",
     "shell.execute_reply": "2024-12-16T23:34:44.315821Z",
     "shell.execute_reply.started": "2024-12-16T23:34:38.079561Z"
    }
   },
   "outputs": [],
   "source": [
    "plot_region_domain(built_environment_domain_score,\n",
    "                  column_to_plot='built_environment_domain_score',\n",
    "                  domain=domain_prefix,\n",
    "                  domain_label_map={domain_prefix: 'Built Environment'}, \n",
    "                  plot_all=True, \n",
    "                  savefig=False, \n",
    "                  font_color='black')"
   ]
  },
  {
   "cell_type": "markdown",
   "metadata": {},
   "source": [
    "## Export the final domain csv file"
   ]
  },
  {
   "cell_type": "code",
   "execution_count": 24,
   "metadata": {
    "execution": {
     "iopub.execute_input": "2024-12-16T23:36:50.714442Z",
     "iopub.status.busy": "2024-12-16T23:36:50.713732Z",
     "iopub.status.idle": "2024-12-16T23:36:50.750812Z",
     "shell.execute_reply": "2024-12-16T23:36:50.750292Z",
     "shell.execute_reply.started": "2024-12-16T23:36:50.714409Z"
    }
   },
   "outputs": [],
   "source": [
    "# set-up file for export\n",
    "domain_filename = '{}environment_domain_score.csv'.format(domain_prefix)\n",
    "built_environment_domain_score.to_csv(domain_filename, index=False)"
   ]
  },
  {
   "cell_type": "markdown",
   "metadata": {},
   "source": [
    "## Upload the indicator and domain score csv files to AWS"
   ]
  },
  {
   "cell_type": "code",
   "execution_count": null,
   "metadata": {
    "execution": {
     "iopub.execute_input": "2024-12-16T23:36:53.409952Z",
     "iopub.status.busy": "2024-12-16T23:36:53.409247Z",
     "iopub.status.idle": "2024-12-16T23:36:58.352319Z",
     "shell.execute_reply": "2024-12-16T23:36:58.350983Z",
     "shell.execute_reply.started": "2024-12-16T23:36:53.409920Z"
    }
   },
   "outputs": [],
   "source": [
    "# upload to aws bucket\n",
    "bucket_name = 'ca-climate-index'\n",
    "directory = '3_fair_data/index_data'\n",
    "\n",
    "files_upload = indicator_filename, domain_filename\n",
    "\n",
    "for file in files_upload:\n",
    "    upload_csv_aws([file], bucket_name, directory)"
   ]
  },
  {
   "cell_type": "markdown",
   "metadata": {},
   "source": [
    "## Delete desired csv files\n",
    "* all that were generated from this notebook by default"
   ]
  },
  {
   "cell_type": "code",
   "execution_count": null,
   "metadata": {},
   "outputs": [],
   "source": [
    "folders_to_delete = [\"aws_csvs\", \"built_folder\"]\n",
    "csv_files_to_delete = [\"concatenate_built_metrics.csv\", \"built_environment_domain_score.csv\",\n",
    "                       \"built_domain_averaged_indicators.csv\"]\n",
    "\n",
    "delete_items(folders_to_delete, csv_files_to_delete)"
   ]
  }
 ],
 "metadata": {
  "kernelspec": {
   "display_name": "carb",
   "language": "python",
   "name": "python3"
  },
  "language_info": {
   "codemirror_mode": {
    "name": "ipython",
    "version": 3
   },
   "file_extension": ".py",
   "mimetype": "text/x-python",
   "name": "python",
   "nbconvert_exporter": "python",
   "pygments_lexer": "ipython3",
   "version": "3.9.18"
  }
 },
 "nbformat": 4,
 "nbformat_minor": 4
}
