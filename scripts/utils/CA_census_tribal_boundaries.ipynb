{
 "cells": [
  {
   "cell_type": "markdown",
   "id": "6c061763-12d8-42bc-8841-9dad4174266b",
   "metadata": {
    "execution": {
     "iopub.execute_input": "2023-12-01T16:25:07.475619Z",
     "iopub.status.busy": "2023-12-01T16:25:07.472215Z",
     "iopub.status.idle": "2023-12-01T16:25:07.496177Z",
     "shell.execute_reply": "2023-12-01T16:25:07.491408Z",
     "shell.execute_reply.started": "2023-12-01T16:25:07.475279Z"
    }
   },
   "source": [
    "## Scoping initial location of tribal boundaries\n",
    "\n",
    "Here, we briefly investigate tribal census tract boundaries as an additional spatial aggregation option to be incorporated in Cal-CRAI version 2.0. We anticipate connecting with a CARB tribal liaison to identify preferred boundaries.\n",
    "\n",
    "Elements to include: \n",
    "* focused spatial intersection to ensure that data is attributed to specific tribal areas\n",
    "* consideration for some metrics aggregation methods (e.g., county wide)\n",
    "* prioritizing data sources under tribal ownership (CARE principles) when seeking novel metrics and updating some dated ones"
   ]
  },
  {
   "cell_type": "code",
   "execution_count": 9,
   "id": "5997951a-e7b1-4dc5-8f19-71a7cd1d5ddd",
   "metadata": {
    "execution": {
     "iopub.execute_input": "2023-12-01T16:55:12.691791Z",
     "iopub.status.busy": "2023-12-01T16:55:12.688277Z",
     "iopub.status.idle": "2023-12-01T16:55:12.708263Z",
     "shell.execute_reply": "2023-12-01T16:55:12.704550Z",
     "shell.execute_reply.started": "2023-12-01T16:55:12.691166Z"
    }
   },
   "outputs": [],
   "source": [
    "# import libraries\n",
    "import geopandas as gpd\n",
    "import matplotlib.pyplot as plt"
   ]
  },
  {
   "cell_type": "code",
   "execution_count": 45,
   "id": "563ff8d2-05a2-469d-ad8e-b0f74d2970df",
   "metadata": {
    "execution": {
     "iopub.execute_input": "2023-12-01T17:56:34.614914Z",
     "iopub.status.busy": "2023-12-01T17:56:34.612463Z",
     "iopub.status.idle": "2023-12-01T17:57:10.637458Z",
     "shell.execute_reply": "2023-12-01T17:57:10.635460Z",
     "shell.execute_reply.started": "2023-12-01T17:56:34.614774Z"
    }
   },
   "outputs": [],
   "source": [
    "# read in census tract boundaries\n",
    "ca_census = gpd.read_file('tl_2021_06_tract.shp')\n",
    "ca_census = ca_census.to_crs('EPSG:4326')\n",
    "\n",
    "# tribal_bnd = gpd.read_file('Federally_Recognized_Tribal_Lands/Federally_Recognized_Tribal_Lands.shp') # CNRA 2017\n",
    "tribal_bnd = gpd.read_file('tl_2023_us_ttract/tl_2023_us_ttract.shp') # US Census 2023 -- use this one, subset for CA\n",
    "tribal_bnd = tribal_bnd.to_crs('EPSG:4326')"
   ]
  },
  {
   "cell_type": "code",
   "execution_count": null,
   "id": "edc1d682-0fbb-4548-a257-21109f6d3426",
   "metadata": {
    "execution": {
     "iopub.execute_input": "2023-12-01T18:00:17.821187Z",
     "iopub.status.busy": "2023-12-01T18:00:17.815250Z",
     "iopub.status.idle": "2023-12-01T18:00:33.430872Z",
     "shell.execute_reply": "2023-12-01T18:00:33.429006Z",
     "shell.execute_reply.started": "2023-12-01T18:00:17.820872Z"
    }
   },
   "outputs": [],
   "source": [
    "fig, ax = plt.subplots(1, 1, figsize=(8,10))\n",
    "\n",
    "tribal_bnd.plot(ax=ax, color='red')\n",
    "ca_census.boundary.plot(ax=ax, color='black', linewidth=0.5)\n",
    "ax.set_xlim(-117.5, -115.5);\n",
    "ax.set_ylim(32.5, 34.25);"
   ]
  },
  {
   "cell_type": "code",
   "execution_count": null,
   "id": "91849d6b-eb4c-4636-9a35-33c0003d58db",
   "metadata": {
    "execution": {
     "iopub.execute_input": "2023-12-01T17:50:33.465186Z",
     "iopub.status.busy": "2023-12-01T17:50:33.460704Z",
     "iopub.status.idle": "2023-12-01T17:50:45.688818Z",
     "shell.execute_reply": "2023-12-01T17:50:45.686925Z",
     "shell.execute_reply.started": "2023-12-01T17:50:33.465024Z"
    }
   },
   "outputs": [],
   "source": [
    "fig, ax = plt.subplots(1, 1, figsize=(8, 10))\n",
    "\n",
    "tribal_bnd.plot(ax=ax, color='red')\n",
    "ca_census.boundary.plot(ax=ax, color='black', linewidth=0.5)\n",
    "\n",
    "ax.set_xlim(-117.5, -115.5);\n",
    "ax.set_ylim(32.5, 34.25);"
   ]
  },
  {
   "cell_type": "code",
   "execution_count": null,
   "id": "fece7494-2483-4aef-a290-c3ea55541474",
   "metadata": {
    "execution": {
     "iopub.execute_input": "2023-12-01T17:49:59.175328Z",
     "iopub.status.busy": "2023-12-01T17:49:59.170378Z",
     "iopub.status.idle": "2023-12-01T17:50:11.691978Z",
     "shell.execute_reply": "2023-12-01T17:50:11.690289Z",
     "shell.execute_reply.started": "2023-12-01T17:49:59.174977Z"
    }
   },
   "outputs": [],
   "source": [
    "fig, ax = plt.subplots(1, 1, figsize=(10, 14))\n",
    "\n",
    "tribal_bnd.plot(ax=ax, color='red')\n",
    "ca_census.boundary.plot(ax=ax, color='black', linewidth=0.5)\n",
    "\n",
    "ax.set_xlim(-125, -120);\n",
    "ax.set_ylim(40.5, 42);"
   ]
  },
  {
   "cell_type": "code",
   "execution_count": null,
   "id": "430f91a9-e093-4258-b7a6-65b0f19ec80b",
   "metadata": {
    "execution": {
     "iopub.execute_input": "2023-12-01T17:53:29.001230Z",
     "iopub.status.busy": "2023-12-01T17:53:28.999475Z",
     "iopub.status.idle": "2023-12-01T17:53:41.960787Z",
     "shell.execute_reply": "2023-12-01T17:53:41.959025Z",
     "shell.execute_reply.started": "2023-12-01T17:53:29.001109Z"
    }
   },
   "outputs": [],
   "source": [
    "fig, ax = plt.subplots(1, 1, figsize=(10, 14))\n",
    "\n",
    "tribal_bnd.plot(ax=ax, color='red')\n",
    "ca_census.boundary.plot(ax=ax, color='black', linewidth=0.5)\n",
    "\n",
    "ax.set_xlim(-124, -121);\n",
    "ax.set_ylim(38.5, 40);"
   ]
  }
 ],
 "metadata": {
  "kernelspec": {
   "display_name": "Python 3 (ipykernel)",
   "language": "python",
   "name": "python3"
  },
  "language_info": {
   "codemirror_mode": {
    "name": "ipython",
    "version": 3
   },
   "file_extension": ".py",
   "mimetype": "text/x-python",
   "name": "python",
   "nbconvert_exporter": "python",
   "pygments_lexer": "ipython3",
   "version": "3.9.18"
  }
 },
 "nbformat": 4,
 "nbformat_minor": 5
}
