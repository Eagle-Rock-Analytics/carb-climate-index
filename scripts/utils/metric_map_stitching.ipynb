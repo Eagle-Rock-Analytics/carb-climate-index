{
 "cells": [
  {
   "cell_type": "markdown",
   "metadata": {},
   "source": [
    "## Stitch the 110 Cal-CRAI metric maps into png files containing 6 grouped maps each\n",
    "* input is a folder containing the 110 png metric map files\n",
    "* consistent image sizing\n",
    "* consistent spacing between plots\n",
    "* consistent image cropping"
   ]
  },
  {
   "cell_type": "code",
   "execution_count": null,
   "metadata": {},
   "outputs": [],
   "source": [
    "import os\n",
    "from PIL import Image, ImageChops"
   ]
  },
  {
   "cell_type": "code",
   "execution_count": null,
   "metadata": {},
   "outputs": [],
   "source": [
    "# Constants\n",
    "INPUT_FOLDER = 'plots_directory'\n",
    "OUTPUT_FOLDER = 'stitched_metrics'\n",
    "IMAGES_PER_GROUP = 6\n",
    "GRID_COLUMNS = 2\n",
    "wh_ratio = 200/280 # width/height ratio\n",
    "IMAGE_SIZE = (int(280*2*wh_ratio), 280*2)  # Resize images (width, height)\n",
    "PADDING = 10  # Space between images\n",
    "\n",
    "# Ensure the output folder exists\n",
    "os.makedirs(OUTPUT_FOLDER, exist_ok=True)\n",
    "\n",
    "# Get sorted list of PNG files\n",
    "image_files = sorted([f for f in os.listdir(INPUT_FOLDER) if f.endswith('.png')])\n",
    "\n",
    "# Function to auto-crop whitespace from an image\n",
    "def crop_whitespace(image):\n",
    "    # Convert image to grayscale\n",
    "    grayscale = image.convert(\"L\")\n",
    "    inverted = ImageChops.invert(grayscale)\n",
    "    bbox = inverted.getbbox()\n",
    "    if bbox:\n",
    "        return image.crop(bbox)\n",
    "    return image\n",
    "\n",
    "# Function to create a grid image from a list of image paths\n",
    "def create_grid(images, grid_columns, image_size, padding):\n",
    "    grid_rows = (len(images) + grid_columns - 1) // grid_columns\n",
    "    # Calculate grid dimensions, accounting for padding\n",
    "    grid_width = grid_columns * (image_size[0] + padding) - padding\n",
    "    grid_height = grid_rows * (image_size[1] + padding) - padding\n",
    "\n",
    "    # Create a blank canvas for the grid\n",
    "    grid_image = Image.new('RGB', (grid_width, grid_height), color=(255, 255, 255))\n",
    "\n",
    "    for index, image_path in enumerate(images):\n",
    "        img = Image.open(image_path)\n",
    "        img = crop_whitespace(img)\n",
    "        img = img.resize(image_size, Image.Resampling.LANCZOS)\n",
    "\n",
    "        # Calculate position with padding\n",
    "        x = (index % grid_columns) * (image_size[0] + padding)\n",
    "        y = (index // grid_columns) * (image_size[1] + padding)\n",
    "        grid_image.paste(img, (x, y))\n",
    "\n",
    "    return grid_image\n",
    "\n",
    "# Group images and create grid images\n",
    "for i in range(0, len(image_files), IMAGES_PER_GROUP):\n",
    "    group = image_files[i:i + IMAGES_PER_GROUP]\n",
    "    image_paths = [os.path.join(INPUT_FOLDER, img) for img in group]\n",
    "\n",
    "    # Create the grid image\n",
    "    grid_image = create_grid(image_paths, GRID_COLUMNS, IMAGE_SIZE, PADDING)\n",
    "\n",
    "    # Save the output\n",
    "    output_path = os.path.join(OUTPUT_FOLDER, f'group_{i // IMAGES_PER_GROUP + 1}.png')\n",
    "    grid_image.save(output_path, dpi=(500,500))\n",
    "    print(f'Saved: {output_path}')"
   ]
  }
 ],
 "metadata": {
  "kernelspec": {
   "display_name": "Python 3 (ipykernel)",
   "language": "python",
   "name": "python3"
  },
  "language_info": {
   "codemirror_mode": {
    "name": "ipython",
    "version": 3
   },
   "file_extension": ".py",
   "mimetype": "text/x-python",
   "name": "python",
   "nbconvert_exporter": "python",
   "pygments_lexer": "ipython3",
   "version": "3.9.18"
  }
 },
 "nbformat": 4,
 "nbformat_minor": 4
}
