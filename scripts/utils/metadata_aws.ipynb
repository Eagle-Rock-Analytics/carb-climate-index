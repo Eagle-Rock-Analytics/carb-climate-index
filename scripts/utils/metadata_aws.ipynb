{
 "cells": [
  {
   "cell_type": "markdown",
   "metadata": {},
   "source": [
    "## This code requires a manually downloaded up-to-date version of the 1_Pull.csv pipeline data\n",
    "* read_html only pulls the first 100 rows of data, so we use read_csv instead"
   ]
  },
  {
   "cell_type": "code",
   "execution_count": 1,
   "metadata": {
    "execution": {
     "iopub.execute_input": "2024-04-24T20:24:52.287221Z",
     "iopub.status.busy": "2024-04-24T20:24:52.286864Z",
     "iopub.status.idle": "2024-04-24T20:24:53.036432Z",
     "shell.execute_reply": "2024-04-24T20:24:53.035830Z",
     "shell.execute_reply.started": "2024-04-24T20:24:52.287202Z"
    }
   },
   "outputs": [],
   "source": [
    "import pandas as pd\n",
    "import os\n",
    "import sys\n",
    "import boto3\n",
    "s3_client = boto3.client('s3')\n",
    "sys.path.append(os.path.expanduser('../'))\n",
    "from scripts.utils.write_metadata import (\n",
    "    make_metadata_files, \n",
    "    append_metadata\n",
    ")"
   ]
  },
  {
   "cell_type": "code",
   "execution_count": null,
   "metadata": {
    "execution": {
     "iopub.execute_input": "2024-04-24T20:27:02.433926Z",
     "iopub.status.busy": "2024-04-24T20:27:02.433434Z",
     "iopub.status.idle": "2024-04-24T20:27:02.462908Z",
     "shell.execute_reply": "2024-04-24T20:27:02.462193Z",
     "shell.execute_reply.started": "2024-04-24T20:27:02.433908Z"
    },
    "scrolled": true
   },
   "outputs": [],
   "source": [
    "meta_csv = 'Full Data Pipeline Notes - 1_ Pull.csv'\n",
    "# read in first tab of the sheet\n",
    "df = pd.read_csv(meta_csv)\n",
    "\n",
    "# drop empty columns\n",
    "df = df.loc[:, df.columns.notna()]\n",
    "\n",
    "df = df.drop(columns=['Link','Unnamed: 15'])\n",
    "df = df.fillna('N/A')\n",
    "pd.set_option('display.max_rows', 1000)\n",
    "\n",
    "df"
   ]
  },
  {
   "cell_type": "code",
   "execution_count": null,
   "metadata": {},
   "outputs": [],
   "source": [
    "make_metadata_files(df)"
   ]
  }
 ],
 "metadata": {
  "kernelspec": {
   "display_name": "Python 3 (ipykernel)",
   "language": "python",
   "name": "python3"
  },
  "language_info": {
   "codemirror_mode": {
    "name": "ipython",
    "version": 3
   },
   "file_extension": ".py",
   "mimetype": "text/x-python",
   "name": "python",
   "nbconvert_exporter": "python",
   "pygments_lexer": "ipython3",
   "version": "3.9.18"
  }
 },
 "nbformat": 4,
 "nbformat_minor": 4
}
