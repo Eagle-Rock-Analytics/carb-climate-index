{
 "cells": [
  {
   "cell_type": "markdown",
   "metadata": {},
   "source": [
    "## Analyze CCI project climate risk columns\n",
    "\n",
    "This notebook pulls the resulting .csv file from 'cci_crosswalk_indicators_climate_mitigation.ipynb' and subsets for data with populated 'Climate_Risk_Mitigation' column entries. We further subset the data to view the 'Climate Adaptation' column that is native to the original CCI dataset. \n",
    "\n",
    "Individual climate risks from the 'Climate_Risk_Mitigation' column are utilzed to split the data into five respective dataframes for further future analysis specific to that risk.\n",
    "\n",
    "Repeating projects are grouped together within these dataframes and financial columns are summed and grouped in decending order."
   ]
  },
  {
   "cell_type": "code",
   "execution_count": 16,
   "metadata": {},
   "outputs": [],
   "source": [
    "# Import useful libraries\n",
    "import os\n",
    "import boto3\n",
    "import pandas as pd\n",
    "import itertools\n",
    "import re\n",
    "from IPython.display import display, HTML"
   ]
  },
  {
   "cell_type": "code",
   "execution_count": null,
   "metadata": {},
   "outputs": [],
   "source": [
    "# Initialize the S3 client\n",
    "s3_client = boto3.client('s3')\n",
    "\n",
    "# Bucket name and file paths\n",
    "bucket_name = 'ca-climate-index'\n",
    "directory = '0_map_data/crosswalk_data/final_cci_project_indicators_and_climate_risk_with_contextual_columns.csv'\n",
    "\n",
    "print('Pulling file')\n",
    "s3_client.download_file(bucket_name, directory, 'final_cci_project_indicators_and_climate_risk_with_contextual_columns.csv')\n",
    "print('File pulled')"
   ]
  },
  {
   "cell_type": "code",
   "execution_count": null,
   "metadata": {},
   "outputs": [],
   "source": [
    "crosswalk_data = pd.read_csv('final_cci_project_indicators_and_climate_risk_with_contextual_columns.csv')"
   ]
  },
  {
   "cell_type": "code",
   "execution_count": null,
   "metadata": {},
   "outputs": [],
   "source": [
    "crosswalk_data"
   ]
  },
  {
   "cell_type": "markdown",
   "metadata": {},
   "source": [
    "### Subset for rows with non-nan entries within the 'Columns_Detected_Climate_Risk' column"
   ]
  },
  {
   "cell_type": "code",
   "execution_count": 5,
   "metadata": {},
   "outputs": [],
   "source": [
    "# Using `notna()` to keep rows where `column_name` is not NaN\n",
    "climate_risk_crosswalk_data = crosswalk_data[crosswalk_data['Climate_Risk_Mitigation'].notna()]"
   ]
  },
  {
   "cell_type": "code",
   "execution_count": null,
   "metadata": {},
   "outputs": [],
   "source": [
    "climate_risk_crosswalk_data.head()"
   ]
  },
  {
   "cell_type": "code",
   "execution_count": null,
   "metadata": {},
   "outputs": [],
   "source": [
    "list(climate_risk_crosswalk_data.columns)"
   ]
  },
  {
   "cell_type": "code",
   "execution_count": null,
   "metadata": {},
   "outputs": [],
   "source": [
    "keep_columns = [\n",
    "    'Total Project Cost',\n",
    "    'Project Count',\n",
    "    'SECTOR', \n",
    "    'CATEGORY', \n",
    "    'ACTION', \n",
    "    'Project Type',\n",
    "    'Sub Program Name',\n",
    "    'Other Project Benefits Description', \n",
    "    'Disadvantaged Community Benefits Description',\n",
    "    'Is Low Income Communities',\n",
    "    'Climate  Adaptation', \n",
    "    'Climate_Risk_Mitigation'\n",
    "]\n",
    "\n",
    "subset_crosswalk_data = climate_risk_crosswalk_data[keep_columns]\n",
    "print(len(subset_crosswalk_data))\n",
    "subset_crosswalk_data.head()"
   ]
  },
  {
   "cell_type": "code",
   "execution_count": null,
   "metadata": {},
   "outputs": [],
   "source": [
    "def count_entries(dataframe):\n",
    "    non_nan_entries = dataframe.notna().sum()     \n",
    "    unique_entries = dataframe.nunique()\n",
    "    return non_nan_entries, unique_entries\n",
    "\n",
    "non_nan_entries, unique_entries = count_entries(subset_crosswalk_data)\n",
    "print(\"Total number of non-nan entries per column:\")\n",
    "print(non_nan_entries)\n",
    "print(\"\\nUnique entries per column:\")\n",
    "print(unique_entries)"
   ]
  },
  {
   "cell_type": "code",
   "execution_count": null,
   "metadata": {},
   "outputs": [],
   "source": [
    "# Split the Climate_Risk_Mitigation column by a delimiter (e.g., comma) and explode the DataFrame\n",
    "subset_crosswalk_data_expanded = subset_crosswalk_data.assign(\n",
    "    Climate_Risk_Mitigation=subset_crosswalk_data['Climate_Risk_Mitigation'].str.split(',')\n",
    ").explode('Climate_Risk_Mitigation')\n",
    "\n",
    "# Optionally, strip whitespace from the split entries\n",
    "subset_crosswalk_data_expanded['Climate_Risk_Mitigation'] = subset_crosswalk_data_expanded['Climate_Risk_Mitigation'].str.strip()\n",
    "\n",
    "# Now you can split the expanded DataFrame into separate DataFrames by unique mitigation type, as before\n",
    "split_dfs = {\n",
    "    mitigation: subset_crosswalk_data_expanded[subset_crosswalk_data_expanded['Climate_Risk_Mitigation'] == mitigation]\n",
    "    for mitigation in subset_crosswalk_data_expanded['Climate_Risk_Mitigation'].unique()\n",
    "}\n",
    "\n",
    "split_dfs\n"
   ]
  },
  {
   "cell_type": "code",
   "execution_count": null,
   "metadata": {},
   "outputs": [],
   "source": [
    "split_dfs['wildfire mitigation']\n"
   ]
  },
  {
   "cell_type": "code",
   "execution_count": null,
   "metadata": {},
   "outputs": [],
   "source": [
    "# Dictionary to store the grouped DataFrames\n",
    "grouped_dfs = {}\n",
    "total_project_counts = {}\n",
    "\n",
    "# Loop through each DataFrame in split_dfs\n",
    "for mitigation_type, df in split_dfs.items():\n",
    "    # Group and aggregate\n",
    "    grouped_df = (\n",
    "        df.groupby(['SECTOR', 'CATEGORY', 'ACTION', 'Project Type'], as_index=False)\n",
    "        .agg({\n",
    "            'Project Count': 'sum',\n",
    "            'Total Project Cost': 'sum',\n",
    "            'Other Project Benefits Description': lambda x: '; '.join(x.dropna().value_counts().index[:2]),\n",
    "            'Disadvantaged Community Benefits Description': lambda x: '; '.join(x.dropna().value_counts().index[:2]),\n",
    "            'Is Low Income Communities': lambda x: (x.sum() / len(x)) * 100,  # Calculate percentage of 1's\n",
    "            'Climate  Adaptation': lambda x: '; '.join(x.dropna().unique())\n",
    "        })\n",
    "    )\n",
    "\n",
    "    # Sort by Total Project Cost in descending order\n",
    "    grouped_df = grouped_df.sort_values(by='Total Project Cost', ascending=False)\n",
    "    grouped_df = grouped_df.rename(columns={'Is Low Income Communities':'Percentage of Projects Low Income Communities'})\n",
    "\n",
    "\n",
    "    # Calculate the total project count with zeros counted as one\n",
    "    total_project_count = grouped_df['Project Count'].apply(lambda x: 1 if x == 0 else x).sum()\n",
    "    \n",
    "    # Store the grouped DataFrame and total project count\n",
    "    grouped_dfs[mitigation_type] = grouped_df\n",
    "    total_project_counts[mitigation_type] = total_project_count\n",
    "\n",
    "# Output the total project counts for each mitigation type\n",
    "for mitigation_type, count in total_project_counts.items():\n",
    "    print(f\"Number of total projects for {mitigation_type}: {count}\")\n",
    "\n",
    "# grouped_dfs now contains the processed DataFrames for each mitigation type"
   ]
  },
  {
   "cell_type": "code",
   "execution_count": 65,
   "metadata": {},
   "outputs": [],
   "source": [
    "crosswalk_slr = grouped_dfs['sea level rise mitigation']\n",
    "crosswalk_inland_flodding = grouped_dfs['inland flooding mitigation']\n",
    "crosswalk_drought = grouped_dfs['drought mitigation']\n",
    "crosswalk_wildfire = grouped_dfs['wildfire mitigation']\n",
    "crosswalk_extreme_heat = grouped_dfs['extreme heat mitigation']"
   ]
  },
  {
   "cell_type": "code",
   "execution_count": 66,
   "metadata": {},
   "outputs": [],
   "source": [
    "crosswalk_wildfire.to_csv('crosswalk_wildfire.csv', index=False)"
   ]
  },
  {
   "cell_type": "code",
   "execution_count": null,
   "metadata": {},
   "outputs": [],
   "source": [
    "crosswalk_wildfire"
   ]
  }
 ],
 "metadata": {
  "kernelspec": {
   "display_name": "carb",
   "language": "python",
   "name": "python3"
  },
  "language_info": {
   "codemirror_mode": {
    "name": "ipython",
    "version": 3
   },
   "file_extension": ".py",
   "mimetype": "text/x-python",
   "name": "python",
   "nbconvert_exporter": "python",
   "pygments_lexer": "ipython3",
   "version": "3.9.18"
  }
 },
 "nbformat": 4,
 "nbformat_minor": 2
}
