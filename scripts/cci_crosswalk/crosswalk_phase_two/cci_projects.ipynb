{
 "cells": [
  {
   "cell_type": "code",
   "execution_count": null,
   "metadata": {},
   "outputs": [],
   "source": [
    "import os\n",
    "import boto3\n",
    "import pandas as pd"
   ]
  },
  {
   "cell_type": "code",
   "execution_count": null,
   "metadata": {},
   "outputs": [],
   "source": [
    "# Initialize the S3 client\n",
    "s3_client = boto3.client('s3')\n",
    "\n",
    "# Bucket name and file paths\n",
    "bucket_name = 'ca-climate-index'\n",
    "directory = '0_map_data/crosswalk_data/CCI_Projects_Project_Category_Update_02142024.xlsm'\n",
    "\n",
    "print('Pulling file')\n",
    "s3_client.download_file(bucket_name, directory, 'CCI_Projects_Project_Category_Update_02142024.xlsm')"
   ]
  },
  {
   "cell_type": "code",
   "execution_count": null,
   "metadata": {},
   "outputs": [],
   "source": [
    "crosswalk_data = pd.read_excel('CCI_Projects_Project_Category_Update_02142024.xlsm')"
   ]
  },
  {
   "cell_type": "code",
   "execution_count": null,
   "metadata": {},
   "outputs": [],
   "source": [
    "print(crosswalk_data.columns.tolist())"
   ]
  },
  {
   "cell_type": "code",
   "execution_count": null,
   "metadata": {},
   "outputs": [],
   "source": [
    "relevant_columns = [\n",
    "    'Program Name',\n",
    "    'Program Description',\n",
    "    'Sub Program Name',\n",
    "    'Project Type',\n",
    "    'Project Description',\n",
    "    'SECTOR',\n",
    "    'CATEGORY',\n",
    "    'ACTION',\n",
    "    'Census Tract',\n",
    "    'Total Project GHGReductions',\n",
    "    'Project Count',\n",
    "    'Is Benefit Disadvantaged Communities',\n",
    "    'Estimated Number Of Trees To Be Planted',\n",
    "    'Estimated Acres Restored',\n",
    "    'Estimated Acres Treated',\n",
    "]"
   ]
  },
  {
   "cell_type": "code",
   "execution_count": null,
   "metadata": {},
   "outputs": [],
   "source": [
    "data_of_interest = crosswalk_data[relevant_columns]"
   ]
  },
  {
   "cell_type": "code",
   "execution_count": null,
   "metadata": {},
   "outputs": [],
   "source": [
    "# Set display options to show all columns and rows\n",
    "pd.set_option('display.max_columns', None)  # To display all columns\n",
    "pd.set_option('display.max_rows', None)     # To display all rows\n",
    "\n",
    "# Now display data_of_interest\n",
    "display(data_of_interest)"
   ]
  }
 ],
 "metadata": {
  "kernelspec": {
   "display_name": "carb",
   "language": "python",
   "name": "python3"
  },
  "language_info": {
   "codemirror_mode": {
    "name": "ipython",
    "version": 3
   },
   "file_extension": ".py",
   "mimetype": "text/x-python",
   "name": "python",
   "nbconvert_exporter": "python",
   "pygments_lexer": "ipython3",
   "version": "3.9.18"
  }
 },
 "nbformat": 4,
 "nbformat_minor": 2
}
