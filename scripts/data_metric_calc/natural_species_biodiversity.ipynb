{
 "cells": [
  {
   "cell_type": "markdown",
   "metadata": {},
   "source": [
    "## Cal-CRAI Metric Calculation\n",
    "Domain: Natural Systems \\\n",
    "Indicator: Ecosystem condition\n",
    "\n",
    "This notebook calculates one metric, sourced from the California Department of Fish and Wildlife:\n",
    "* Metric 1: Ecoregion Biodiversity Weight score"
   ]
  },
  {
   "cell_type": "code",
   "execution_count": 1,
   "metadata": {},
   "outputs": [],
   "source": [
    "import pandas as pd\n",
    "import os\n",
    "import sys\n",
    "import boto3\n",
    "import io\n",
    "import geopandas as gpd\n",
    "\n",
    "# suppress pandas purely educational warnings\n",
    "from warnings import simplefilter\n",
    "simplefilter(action=\"ignore\", category=pd.errors.PerformanceWarning)\n",
    "\n",
    "sys.path.append(os.path.expanduser('../../'))\n",
    "from scripts.utils.file_helpers import pull_gpkg_from_directory, upload_csv_aws\n",
    "from scripts.utils.write_metadata import append_metadata"
   ]
  },
  {
   "cell_type": "code",
   "execution_count": null,
   "metadata": {},
   "outputs": [],
   "source": [
    "# pull csv from aws\n",
    "bucket_name = 'ca-climate-index'\n",
    "aws_dir = '2b_reproject/natural_systems/ecosystem_condition/ca_dept_fish_wildlife/species_biodiversity/'\n",
    "\n",
    "pull_gpkg_from_directory(bucket_name, aws_dir)"
   ]
  },
  {
   "cell_type": "code",
   "execution_count": 3,
   "metadata": {},
   "outputs": [],
   "source": [
    "species_biodiversity_data = gpd.read_file('natural_fws_biodiversity.gpkg')"
   ]
  },
  {
   "cell_type": "code",
   "execution_count": null,
   "metadata": {},
   "outputs": [],
   "source": [
    "species_biodiversity_data.columns"
   ]
  },
  {
   "cell_type": "code",
   "execution_count": null,
   "metadata": {},
   "outputs": [],
   "source": [
    "species_biodiversity_data"
   ]
  },
  {
   "cell_type": "markdown",
   "metadata": {},
   "source": [
    "SpBioRnkEco - Ranks of 1-5 assigned to the ecoregionally normalized biodiversity values, with all zero values removed and remaining values broken into 5 quantiles.\n",
    "SpBioWtEco - Aggregated total of ecoregionally normalized biodiversity values including native species richness, rare species richness, and rarity weighted index. Final sum is        re-normalized to 0-1 statewide for ease of interpretation.\n"
   ]
  },
  {
   "cell_type": "code",
   "execution_count": null,
   "metadata": {},
   "outputs": [],
   "source": [
    "columns = ['Hex_ID', 'Name', 'SpBioWtEco', 'USCB_GEOID', 'geometry'\n",
    "    \n",
    "]\n",
    "filtered_species_biodiversity_data = species_biodiversity_data[columns]\n",
    "filtered_species_biodiversity_data"
   ]
  },
  {
   "cell_type": "code",
   "execution_count": null,
   "metadata": {},
   "outputs": [],
   "source": [
    "print(species_biodiversity_data.SpBioWtEco.max())\n",
    "print(species_biodiversity_data.SpBioWtEco.min())\n",
    "print(species_biodiversity_data.SpBioWtEco.mean())"
   ]
  },
  {
   "cell_type": "code",
   "execution_count": 8,
   "metadata": {},
   "outputs": [],
   "source": [
    "# read in CA census tiger file\n",
    "ca_tract_county = \"s3://ca-climate-index/0_map_data/ca_tracts_county.csv\"\n",
    "ca_tract_county = gpd.read_file(ca_tract_county)\n",
    "ca_tract_county = ca_tract_county.drop(columns={'field_1', 'geometry'})\n",
    "ca_tract_county = ca_tract_county.rename(columns={'TRACT':'USCB_GEOID'})"
   ]
  },
  {
   "cell_type": "code",
   "execution_count": null,
   "metadata": {},
   "outputs": [],
   "source": [
    "ca_tract_county"
   ]
  },
  {
   "cell_type": "code",
   "execution_count": null,
   "metadata": {},
   "outputs": [],
   "source": [
    "biodiversity_merge = pd.merge(ca_tract_county, filtered_species_biodiversity_data, on='USCB_GEOID', how='left')\n",
    "biodiversity_merge"
   ]
  },
  {
   "cell_type": "code",
   "execution_count": null,
   "metadata": {},
   "outputs": [],
   "source": [
    "columns_to_check = ['USCB_GEOID', 'COUNTYFP', 'County', 'Hex_ID', 'Name', 'SpBioWtEco']\n",
    "\n",
    "# Dropping duplicates based on the specified columns\n",
    "filtered_species_biodiversity_merge = biodiversity_merge.drop_duplicates(subset=columns_to_check, keep='first')\n",
    "print(len(filtered_species_biodiversity_merge))"
   ]
  },
  {
   "cell_type": "code",
   "execution_count": null,
   "metadata": {},
   "outputs": [],
   "source": [
    "check_tract = filtered_species_biodiversity_merge[filtered_species_biodiversity_merge['USCB_GEOID'] == '06001400100']\n",
    "check_tract\n"
   ]
  },
  {
   "cell_type": "code",
   "execution_count": 13,
   "metadata": {},
   "outputs": [],
   "source": [
    "# Group by USCB_GEOID and calculate the mean for SpBioRnkEco and SpBioWtEco\n",
    "processed_species_biodiversity = filtered_species_biodiversity_merge.groupby('USCB_GEOID').agg({\n",
    "    'SpBioWtEco': 'mean'\n",
    "}).reset_index()"
   ]
  },
  {
   "cell_type": "code",
   "execution_count": null,
   "metadata": {},
   "outputs": [],
   "source": [
    "processed_species_biodiversity"
   ]
  },
  {
   "cell_type": "code",
   "execution_count": null,
   "metadata": {},
   "outputs": [],
   "source": [
    "# Count the number of NaN values in each specified column\n",
    "num_nan_SpBioWtEco = filtered_species_biodiversity_merge['SpBioWtEco'].isna().sum()\n",
    "\n",
    "print(f\"Number of NaN values in SpBioWtEco: {num_nan_SpBioWtEco}\")\n"
   ]
  },
  {
   "cell_type": "code",
   "execution_count": 16,
   "metadata": {},
   "outputs": [],
   "source": [
    "processed_species_biodiversity.to_csv('natural_species_biodiversity_metric.csv', index=False)"
   ]
  },
  {
   "cell_type": "markdown",
   "metadata": {},
   "source": [
    "## Function Call"
   ]
  },
  {
   "cell_type": "code",
   "execution_count": 17,
   "metadata": {},
   "outputs": [],
   "source": [
    "@append_metadata\n",
    "def species_biodiversity_upload(input_csv, export=False, varname=''):\n",
    "    '''\n",
    "    Uploads the species diversity metric to S3 bucket. The metric is:\n",
    "    \n",
    "    * Ecoregion Biodiversity Weight score\n",
    "\n",
    "    Data for this metric was sourced from the California Department of Fish and Wildlife at:\n",
    "    https://apps.wildlife.ca.gov/ace/\n",
    "\n",
    "    Methods\n",
    "    -------\n",
    "    Relevant data columns were isolated, some were renamed for later merging with California tract data.\n",
    "    Duplicate rows based on biodiversity score and location were dropped.\n",
    "    Data was merged to California tract data.\n",
    "    Data was then grouped by tracts and averaged to get a single score for each tract.\n",
    "    \n",
    "    Parameters\n",
    "    ----------\n",
    "    input_csv: string\n",
    "        csv biodiversity metric data \n",
    "    export: True/False boolean\n",
    "        False = will not upload resulting df containing CAL CRAI biodiversity metric to AWS\n",
    "        True = will upload resulting df containing CAL CRAI biodiversity metric to AWS\n",
    "\n",
    "    Script\n",
    "    ------\n",
    "    natural_species_biodiversity.ipynb\n",
    "\n",
    "    Note:\n",
    "    This function assumes users have configured the AWS CLI such that their access key / secret key pair are stored in ~/.aws/credentials.\n",
    "    See https://docs.aws.amazon.com/cli/latest/userguide/getting-started-install.html for guidance.\n",
    "    '''\n",
    "    print('Data transformation: relevant columns were isolated and renamed.')\n",
    "    print('Data transformation: biodiversity data were merged with California census tract data.')\n",
    "    print('Data transformation: duplicate rows based on biodiversity score and location were dropped')\n",
    "    print('Data transformation: data were then grouped by census tract and averaged so each tract has a single score.')\n",
    "\n",
    "    if export == True:\n",
    "        bucket_name = 'ca-climate-index'\n",
    "        directory = '3_fair_data/index_data'\n",
    "        export_filename = [input_csv]\n",
    "        upload_csv_aws(export_filename, bucket_name, directory)\n",
    "\n",
    "    if export == False:\n",
    "        print(f'{input_csv} uploaded to AWS.')\n",
    " \n",
    "    '''if os.path.exists(input_csv):\n",
    "        os.remove(input_csv)'''"
   ]
  },
  {
   "cell_type": "code",
   "execution_count": 18,
   "metadata": {},
   "outputs": [],
   "source": [
    "input_csv = 'natural_species_biodiversity_metric.csv'\n",
    "var = 'natural_fws_biodiversity'\n",
    "\n",
    "species_biodiversity_upload(input_csv, export=True, varname='test')"
   ]
  }
 ],
 "metadata": {
  "kernelspec": {
   "display_name": "carb",
   "language": "python",
   "name": "python3"
  },
  "language_info": {
   "codemirror_mode": {
    "name": "ipython",
    "version": 3
   },
   "file_extension": ".py",
   "mimetype": "text/x-python",
   "name": "python",
   "nbconvert_exporter": "python",
   "pygments_lexer": "ipython3",
   "version": "3.9.18"
  }
 },
 "nbformat": 4,
 "nbformat_minor": 2
}
