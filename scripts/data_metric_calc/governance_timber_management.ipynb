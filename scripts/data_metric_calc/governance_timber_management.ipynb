{
 "cells": [
  {
   "cell_type": "markdown",
   "metadata": {},
   "source": [
    "## This notebook calculates the timber management metric sourced from California Department of Forestry and Fire Protection (CalFire):\n",
    "* % of county under timber management practices"
   ]
  },
  {
   "cell_type": "code",
   "execution_count": 1,
   "metadata": {},
   "outputs": [],
   "source": [
    "import pandas as pd\n",
    "import os\n",
    "import sys\n",
    "import boto3\n",
    "import io\n",
    "import geopandas as gpd\n",
    "\n",
    "# suppress pandas purely educational warnings\n",
    "from warnings import simplefilter\n",
    "simplefilter(action=\"ignore\", category=pd.errors.PerformanceWarning)\n",
    "\n",
    "sys.path.append(os.path.expanduser('../../'))\n",
    "from scripts.utils.file_helpers import pull_gpkg_from_directory, upload_csv_aws\n",
    "from scripts.utils.write_metadata import append_metadata"
   ]
  },
  {
   "cell_type": "code",
   "execution_count": null,
   "metadata": {},
   "outputs": [],
   "source": [
    "# pull csv from aws\n",
    "bucket_name = 'ca-climate-index'\n",
    "aws_dir = '2b_reproject/governance/natural_resource_conservation/calfire/'\n",
    "\n",
    "pull_gpkg_from_directory(bucket_name, aws_dir)"
   ]
  },
  {
   "cell_type": "code",
   "execution_count": 3,
   "metadata": {},
   "outputs": [],
   "source": [
    "timber_management_data = gpd.read_file('governance_calfire_timber_management.gpkg')\n",
    "timber_management_data = timber_management_data.rename(columns={'USCB_GEOID':'tract', 'COUNTY':'county', 'USCB_COUNTYFP':'countyfp'})"
   ]
  },
  {
   "cell_type": "code",
   "execution_count": null,
   "metadata": {},
   "outputs": [],
   "source": [
    "timber_management_data.columns"
   ]
  },
  {
   "cell_type": "code",
   "execution_count": null,
   "metadata": {},
   "outputs": [],
   "source": [
    "unique_counties = timber_management_data['county'].unique()\n",
    "print(len(unique_counties))"
   ]
  },
  {
   "cell_type": "code",
   "execution_count": null,
   "metadata": {},
   "outputs": [],
   "source": [
    "timber_management_data.head()"
   ]
  },
  {
   "cell_type": "code",
   "execution_count": null,
   "metadata": {},
   "outputs": [],
   "source": [
    "timber_management_data.plot()"
   ]
  },
  {
   "cell_type": "code",
   "execution_count": null,
   "metadata": {},
   "outputs": [],
   "source": [
    "# read in CA census tiger file\n",
    "ca_tract_county = \"s3://ca-climate-index/0_map_data/ca_tracts_county.csv\"\n",
    "ca_tract_county = gpd.read_file(ca_tract_county)\n",
    "ca_tract_county = ca_tract_county.drop(columns={'field_1', 'geometry'})\n",
    "ca_tract_county.columns = ca_tract_county.columns.str.lower()\n",
    "ca_tract_county = ca_tract_county.applymap(lambda s: s.lower() if type(s) == str else s)"
   ]
  },
  {
   "cell_type": "code",
   "execution_count": 9,
   "metadata": {},
   "outputs": [],
   "source": [
    "# read in CA census tiger file\n",
    "census_shp_dir = \"s3://ca-climate-index/0_map_data/2021_tiger_census_tract/2021_ca_tract/\"\n",
    "ca_boundaries = gpd.read_file(census_shp_dir)\n",
    "ca_boundaries = ca_boundaries[['GEOID', 'geometry']]\n",
    "ca_boundaries = ca_boundaries.rename(columns={'GEOID':'tract'})"
   ]
  },
  {
   "cell_type": "code",
   "execution_count": null,
   "metadata": {},
   "outputs": [],
   "source": [
    "ca_tract_county_spatial = pd.merge(ca_tract_county, ca_boundaries, on='tract', how='left')\n",
    "ca_tract_county_spatial"
   ]
  },
  {
   "cell_type": "code",
   "execution_count": 11,
   "metadata": {},
   "outputs": [],
   "source": [
    "geo_ca_tract_county = gpd.GeoDataFrame(ca_tract_county_spatial)"
   ]
  },
  {
   "cell_type": "code",
   "execution_count": null,
   "metadata": {},
   "outputs": [],
   "source": [
    "# Step 1: Check the CRS\n",
    "print(\"Initial CRS of NTMPs:\", timber_management_data.crs)\n",
    "print(\"Initial CRS of Counties:\", geo_ca_tract_county.crs)\n",
    "\n",
    "# Step 2: Reproject to an appropriate CRS for area calculations (e.g., EPSG:3310 for California)\n",
    "gdf1 = timber_management_data.to_crs(epsg=3310)  # California Albers\n",
    "gdf2 = geo_ca_tract_county.to_crs(epsg=3310)  # California Albers\n",
    "\n",
    "print(\"Reprojected CRS of NTMPs:\", gdf1.crs)\n",
    "print(\"Reprojected CRS of Counties:\", gdf2.crs)\n",
    "\n",
    "# Step 3: Calculate the total area of NTMPs per county\n",
    "ntmp_area_county = gdf1.dissolve(by='countyfp', aggfunc='sum')['geometry'].area.reset_index(name='NTMP_Area')\n",
    "\n",
    "# Step 4: Calculate the total area of each county\n",
    "county_area = gdf2.dissolve(by='countyfp', aggfunc='sum')['geometry'].area.reset_index(name='County_Area')\n",
    "\n",
    "# Step 5: Merge the two datasets on the county column\n",
    "merged_df = pd.merge(ntmp_area_county, county_area, on='countyfp')\n",
    "\n",
    "# Step 6: Calculate the spatial percentage of NTMPs per county\n",
    "merged_df['NTMP_Percentage'] = (merged_df['NTMP_Area'] / merged_df['County_Area']) * 100\n",
    "\n",
    "# Display the resulting dataframe\n",
    "print(merged_df)"
   ]
  },
  {
   "cell_type": "code",
   "execution_count": null,
   "metadata": {},
   "outputs": [],
   "source": [
    "timber_management_metric = pd.merge(ca_tract_county_spatial, merged_df, on='countyfp', how='left')\n",
    "timber_management_metric = timber_management_metric.drop(columns='geometry')\n",
    "timber_management_metric = timber_management_metric.rename(columns={'NTMP_Percentage':'percent_under_timber_management'})\n",
    "timber_management_metric"
   ]
  },
  {
   "cell_type": "code",
   "execution_count": null,
   "metadata": {},
   "outputs": [],
   "source": [
    "eighty_five = timber_management_metric[timber_management_metric['countyfp'] == '045']\n",
    "eighty_five"
   ]
  },
  {
   "cell_type": "code",
   "execution_count": 15,
   "metadata": {},
   "outputs": [],
   "source": [
    "timber_management_metric.to_csv('governance_timber_management_metric.csv')"
   ]
  },
  {
   "cell_type": "markdown",
   "metadata": {},
   "source": [
    "## Function Call"
   ]
  },
  {
   "cell_type": "code",
   "execution_count": 16,
   "metadata": {},
   "outputs": [],
   "source": [
    "@append_metadata\n",
    "def timber_management_upload(input_csv, export=False, varname=''):\n",
    "    '''\n",
    "    Uploads the timber management metric to S3 bucket. The metric is:\n",
    "    \n",
    "    * % of county under timber management practices\n",
    "\n",
    "    Data for this metric was sourced from the California Department of Forestry and Fire Protection (CalFire) at:\n",
    "    https://gis.data.cnra.ca.gov/datasets/CALFIRE-Forestry::cal-fire-nonindustrial-timber-management-plans-ta83/about\n",
    "\n",
    "    Note: data are for non-industrial timber management plans under 2,500 acres.\n",
    "    Also Note: metric is intentionally county, even though the data itself was at census tract level as there were very small percentage of total CA tracts represented.\n",
    "\n",
    "    Methods\n",
    "    -------\n",
    "    Relevant data columns were isolated, some were renamed for later merging with California tract data.\n",
    "    Data was reprojected to match California tract data.\n",
    "    Using both datasets 'geometry' columns, a total area column for each tract entry was calculated.\n",
    "    Estimated tract percentage under timber management practices was calculated by dividing estimated tract land under management by estimated total tract area.\n",
    "    \n",
    "    Parameters\n",
    "    ----------\n",
    "    input_csv: string\n",
    "        csv PSPS data \n",
    "    export: True/False boolean\n",
    "        False = will not upload resulting df containing CAL CRAI timber management metric to AWS\n",
    "        True = will upload resulting df containing CAL CRAI timber management metric to AWS\n",
    "\n",
    "    Script\n",
    "    ------\n",
    "    governance_timber_management.ipynb\n",
    "\n",
    "    Note:\n",
    "    This function assumes users have configured the AWS CLI such that their access key / secret key pair are stored in ~/.aws/credentials.\n",
    "    See https://docs.aws.amazon.com/cli/latest/userguide/getting-started-install.html for guidance.\n",
    "    '''\n",
    "    print('Data transformation: relevant columns were isolated and renamed')\n",
    "    print('Data transformation: data reprojected to epsg 3310')\n",
    "    print('Data transformation: a new column was created to estimate percentage of each tract with management practices')\n",
    " \n",
    "    if export == True:\n",
    "        bucket_name = 'ca-climate-index'\n",
    "        directory = '3_fair_data/index_data'\n",
    "        export_filename = [input_csv]\n",
    "        upload_csv_aws(export_filename, bucket_name, directory)\n",
    "\n",
    "    if export == False:\n",
    "        print(f'{input_csv} uploaded to AWS.')\n",
    " \n",
    "    if os.path.exists(input_csv):\n",
    "        os.remove(input_csv)"
   ]
  },
  {
   "cell_type": "code",
   "execution_count": 17,
   "metadata": {},
   "outputs": [],
   "source": [
    "input_csv = 'governance_timber_management_metric.csv'\n",
    "variable = 'governance_calfire_timber_management'\n",
    "\n",
    "timber_management_upload(input_csv=input_csv, export=True, varname='test')"
   ]
  }
 ],
 "metadata": {
  "kernelspec": {
   "display_name": "carb",
   "language": "python",
   "name": "python3"
  },
  "language_info": {
   "codemirror_mode": {
    "name": "ipython",
    "version": 3
   },
   "file_extension": ".py",
   "mimetype": "text/x-python",
   "name": "python",
   "nbconvert_exporter": "python",
   "pygments_lexer": "ipython3",
   "version": "3.9.18"
  }
 },
 "nbformat": 4,
 "nbformat_minor": 2
}
