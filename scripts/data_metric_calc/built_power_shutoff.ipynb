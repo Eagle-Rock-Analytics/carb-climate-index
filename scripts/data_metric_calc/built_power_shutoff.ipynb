{
 "cells": [
  {
   "cell_type": "markdown",
   "metadata": {},
   "source": [
    "## Cal-CRAI Metric Calculation for: Built Environment / PSPS event frequency\n",
    "* average Public Safety Power Shutoff (PSPS) events "
   ]
  },
  {
   "cell_type": "code",
   "execution_count": 1,
   "metadata": {
    "execution": {
     "iopub.execute_input": "2024-06-26T19:42:21.548988Z",
     "iopub.status.busy": "2024-06-26T19:42:21.548744Z",
     "iopub.status.idle": "2024-06-26T19:42:22.659224Z",
     "shell.execute_reply": "2024-06-26T19:42:22.658584Z",
     "shell.execute_reply.started": "2024-06-26T19:42:21.548964Z"
    }
   },
   "outputs": [],
   "source": [
    "import pandas as pd\n",
    "import os\n",
    "import sys\n",
    "import numpy as np\n",
    "import boto3\n",
    "import geopandas as gpd\n",
    "\n",
    "# suppress pandas purely educational warnings\n",
    "from warnings import simplefilter\n",
    "simplefilter(action=\"ignore\", category=pd.errors.PerformanceWarning)\n",
    "\n",
    "sys.path.append(os.path.expanduser('../../'))\n",
    "from scripts.utils.file_helpers import pull_csv_from_directory, upload_csv_aws\n",
    "from scripts.utils.write_metadata import append_metadata"
   ]
  },
  {
   "cell_type": "code",
   "execution_count": null,
   "metadata": {
    "execution": {
     "iopub.execute_input": "2024-06-26T19:42:22.660688Z",
     "iopub.status.busy": "2024-06-26T19:42:22.660269Z",
     "iopub.status.idle": "2024-06-26T19:42:23.420936Z",
     "shell.execute_reply": "2024-06-26T19:42:23.420164Z",
     "shell.execute_reply.started": "2024-06-26T19:42:22.660674Z"
    }
   },
   "outputs": [],
   "source": [
    "# pull csv from aws\n",
    "bucket_name = 'ca-climate-index'\n",
    "aws_dir = '1_pull_data/built_environment/utilities/pse_health_energy/'\n",
    "\n",
    "pull_csv_from_directory(bucket_name, aws_dir, search_zipped=False)"
   ]
  },
  {
   "cell_type": "code",
   "execution_count": null,
   "metadata": {
    "execution": {
     "iopub.execute_input": "2024-06-26T19:42:23.422019Z",
     "iopub.status.busy": "2024-06-26T19:42:23.421801Z",
     "iopub.status.idle": "2024-06-26T19:42:23.437617Z",
     "shell.execute_reply": "2024-06-26T19:42:23.437031Z",
     "shell.execute_reply.started": "2024-06-26T19:42:23.422006Z"
    }
   },
   "outputs": [],
   "source": [
    "# read in food access data (already subsetted for CA)\n",
    "power_shutoff_data = pd.read_csv('public_safety_power_shutoff_frequency.csv')\n",
    "print(len(power_shutoff_data))\n",
    "power_shutoff_data = power_shutoff_data.rename(columns={'Fips':'GEOID'})\n",
    "# os.remove('public_safety_power_shutoff_frequency.csv')"
   ]
  },
  {
   "cell_type": "code",
   "execution_count": null,
   "metadata": {
    "execution": {
     "iopub.execute_input": "2024-06-26T19:42:23.438806Z",
     "iopub.status.busy": "2024-06-26T19:42:23.438353Z",
     "iopub.status.idle": "2024-06-26T19:42:23.452824Z",
     "shell.execute_reply": "2024-06-26T19:42:23.452226Z",
     "shell.execute_reply.started": "2024-06-26T19:42:23.438793Z"
    },
    "scrolled": true
   },
   "outputs": [],
   "source": [
    "power_shutoff_data"
   ]
  },
  {
   "cell_type": "markdown",
   "metadata": {},
   "source": [
    "### It is using older tract data, so we will join it with 2017 Tract data first"
   ]
  },
  {
   "cell_type": "code",
   "execution_count": 5,
   "metadata": {
    "execution": {
     "iopub.execute_input": "2024-06-26T19:42:23.454128Z",
     "iopub.status.busy": "2024-06-26T19:42:23.453615Z",
     "iopub.status.idle": "2024-06-26T19:42:32.209353Z",
     "shell.execute_reply": "2024-06-26T19:42:32.208823Z",
     "shell.execute_reply.started": "2024-06-26T19:42:23.454111Z"
    }
   },
   "outputs": [],
   "source": [
    "# read in CA census tiger file\n",
    "old_census_path = \"s3://ca-climate-index/0_map_data/tl_2017_06_tract/\"\n",
    "ca_old = gpd.read_file(old_census_path)\n",
    "ca_old['GEOID'] = pd.to_numeric(ca_old.GEOID)\n",
    "ca_old = ca_old[[\"GEOID\",\"geometry\"]]"
   ]
  },
  {
   "cell_type": "code",
   "execution_count": 6,
   "metadata": {
    "execution": {
     "iopub.execute_input": "2024-06-26T19:42:32.210140Z",
     "iopub.status.busy": "2024-06-26T19:42:32.209980Z",
     "iopub.status.idle": "2024-06-26T19:42:32.220559Z",
     "shell.execute_reply": "2024-06-26T19:42:32.220009Z",
     "shell.execute_reply.started": "2024-06-26T19:42:32.210120Z"
    }
   },
   "outputs": [],
   "source": [
    "old_tract_power_shutoff_data = pd.merge(ca_old, power_shutoff_data, on=\"GEOID\")\n",
    "old_tract_power_shutoff_data = gpd.GeoDataFrame(old_tract_power_shutoff_data, geometry=\"geometry\")"
   ]
  },
  {
   "cell_type": "code",
   "execution_count": null,
   "metadata": {
    "execution": {
     "iopub.execute_input": "2024-06-26T19:42:32.222297Z",
     "iopub.status.busy": "2024-06-26T19:42:32.222036Z",
     "iopub.status.idle": "2024-06-26T19:42:42.023859Z",
     "shell.execute_reply": "2024-06-26T19:42:42.023176Z",
     "shell.execute_reply.started": "2024-06-26T19:42:32.222285Z"
    },
    "scrolled": true
   },
   "outputs": [],
   "source": [
    "# read in CA census tiger file\n",
    "census_shp_dir = \"s3://ca-climate-index/0_map_data/2021_tiger_census_tract/2021_ca_tract/\"\n",
    "\n",
    "ca_boundaries = gpd.read_file(census_shp_dir)\n",
    "# need to rename columns so we don't have any duplicates in the final geodatabase\n",
    "column_names = ca_boundaries.columns\n",
    "new_column_names = [\"USCB_\"+column for column in column_names if column != \"geometry\"]\n",
    "ca_boundaries = ca_boundaries.rename(columns=dict(zip(column_names, new_column_names)))\n",
    "# drop unnecessary columns\n",
    "ca_boundaries = ca_boundaries[[\"geometry\",\"USCB_GEOID\"]]\n",
    "ca_boundaries"
   ]
  },
  {
   "cell_type": "code",
   "execution_count": 8,
   "metadata": {
    "execution": {
     "iopub.execute_input": "2024-06-26T19:42:42.024730Z",
     "iopub.status.busy": "2024-06-26T19:42:42.024544Z",
     "iopub.status.idle": "2024-06-26T19:42:44.326370Z",
     "shell.execute_reply": "2024-06-26T19:42:44.325736Z",
     "shell.execute_reply.started": "2024-06-26T19:42:42.024707Z"
    }
   },
   "outputs": [],
   "source": [
    "# need to convert to an area-preserving CRS for distance calculations\n",
    "old_tract_power_shutoff_data = old_tract_power_shutoff_data.to_crs(crs=3857) \n",
    "ca_boundaries = ca_boundaries.to_crs(crs=3857) "
   ]
  },
  {
   "cell_type": "code",
   "execution_count": null,
   "metadata": {
    "execution": {
     "iopub.execute_input": "2024-06-26T19:42:44.327198Z",
     "iopub.status.busy": "2024-06-26T19:42:44.327033Z",
     "iopub.status.idle": "2024-06-26T19:42:44.344511Z",
     "shell.execute_reply": "2024-06-26T19:42:44.343899Z",
     "shell.execute_reply.started": "2024-06-26T19:42:44.327186Z"
    }
   },
   "outputs": [],
   "source": [
    "# first find the tracts which have not changed from 2010 to 2017\n",
    "# find the indices which correspond to the new boundaries\n",
    "unchanged_tracts_ca = pd.to_numeric(ca_boundaries['USCB_GEOID']).isin(pd.to_numeric(old_tract_power_shutoff_data['GEOID']))\n",
    "ca_boundaries[unchanged_tracts_ca]"
   ]
  },
  {
   "cell_type": "code",
   "execution_count": null,
   "metadata": {
    "execution": {
     "iopub.execute_input": "2024-06-26T19:42:44.345789Z",
     "iopub.status.busy": "2024-06-26T19:42:44.345355Z",
     "iopub.status.idle": "2024-06-26T19:42:44.370727Z",
     "shell.execute_reply": "2024-06-26T19:42:44.370133Z",
     "shell.execute_reply.started": "2024-06-26T19:42:44.345776Z"
    }
   },
   "outputs": [],
   "source": [
    "# now find the indices which correspond to the original data\n",
    "unchanged_tracts_old = pd.to_numeric(old_tract_power_shutoff_data['GEOID']).isin(pd.to_numeric(ca_boundaries['USCB_GEOID']))\n",
    "original_df = old_tract_power_shutoff_data[unchanged_tracts_old]\n",
    "original_df[\"USCB_GEOID\"] = original_df[\"GEOID\"].apply(lambda x: '{0:0>11}'.format(x))\n",
    "original_df"
   ]
  },
  {
   "cell_type": "code",
   "execution_count": null,
   "metadata": {
    "execution": {
     "iopub.execute_input": "2024-06-26T19:42:44.371873Z",
     "iopub.status.busy": "2024-06-26T19:42:44.371423Z",
     "iopub.status.idle": "2024-06-26T19:43:09.792789Z",
     "shell.execute_reply": "2024-06-26T19:43:09.792186Z",
     "shell.execute_reply.started": "2024-06-26T19:42:44.371861Z"
    },
    "scrolled": true
   },
   "outputs": [],
   "source": [
    "# now we only have to join the remaining tracts\n",
    "mapped_df = gpd.sjoin_nearest(\n",
    "    ca_boundaries[~unchanged_tracts_ca], \n",
    "    old_tract_power_shutoff_data[~unchanged_tracts_old], \n",
    "    how=\"inner\", distance_col=\"distances\", \n",
    "    max_distance=5000\n",
    ")\n",
    "mapped_df"
   ]
  },
  {
   "cell_type": "code",
   "execution_count": null,
   "metadata": {
    "execution": {
     "iopub.execute_input": "2024-06-26T19:43:09.793642Z",
     "iopub.status.busy": "2024-06-26T19:43:09.793478Z",
     "iopub.status.idle": "2024-06-26T19:43:09.812794Z",
     "shell.execute_reply": "2024-06-26T19:43:09.812284Z",
     "shell.execute_reply.started": "2024-06-26T19:43:09.793630Z"
    }
   },
   "outputs": [],
   "source": [
    "# then concatenate the sjoined tracts with the unchanged ones\n",
    "joined_df = pd.concat([original_df,mapped_df])\n",
    "joined_df"
   ]
  },
  {
   "cell_type": "code",
   "execution_count": null,
   "metadata": {
    "execution": {
     "iopub.execute_input": "2024-06-26T19:43:09.813859Z",
     "iopub.status.busy": "2024-06-26T19:43:09.813365Z",
     "iopub.status.idle": "2024-06-26T19:43:09.903461Z",
     "shell.execute_reply": "2024-06-26T19:43:09.902843Z",
     "shell.execute_reply.started": "2024-06-26T19:43:09.813843Z"
    }
   },
   "outputs": [],
   "source": [
    "data_vars = ['out_freq_s']\n",
    "for col in data_vars:\n",
    "    non_numeric = joined_df[~joined_df[col].apply(lambda x: pd.to_numeric(x, errors='coerce')).notnull()]\n",
    "    if not non_numeric.empty:\n",
    "        print(f\"Non-numeric values found in column '{col}':\")\n",
    "        display(non_numeric)\n",
    "for col in data_vars:\n",
    "    joined_df[col] = pd.to_numeric(joined_df[col], errors='coerce')"
   ]
  },
  {
   "cell_type": "code",
   "execution_count": null,
   "metadata": {
    "execution": {
     "iopub.execute_input": "2024-06-26T19:43:09.904257Z",
     "iopub.status.busy": "2024-06-26T19:43:09.904109Z",
     "iopub.status.idle": "2024-06-26T19:43:10.268460Z",
     "shell.execute_reply": "2024-06-26T19:43:10.267895Z",
     "shell.execute_reply.started": "2024-06-26T19:43:09.904246Z"
    }
   },
   "outputs": [],
   "source": [
    "data_vars = ['out_freq_s']\n",
    "# now take the average of the tracts which now exist in the new tract\n",
    "joined_avg_df = joined_df.groupby(['USCB_GEOID','geometry'])[data_vars].mean().reset_index()\n",
    "power_shutoff_new_tracts = gpd.GeoDataFrame(joined_avg_df, geometry='geometry')\n",
    "power_shutoff_new_tracts = power_shutoff_new_tracts.drop(columns={'geometry'})\n",
    "power_shutoff_new_tracts"
   ]
  },
  {
   "cell_type": "code",
   "execution_count": null,
   "metadata": {
    "execution": {
     "iopub.execute_input": "2024-06-26T19:43:10.269584Z",
     "iopub.status.busy": "2024-06-26T19:43:10.269134Z",
     "iopub.status.idle": "2024-06-26T19:43:10.280292Z",
     "shell.execute_reply": "2024-06-26T19:43:10.279711Z",
     "shell.execute_reply.started": "2024-06-26T19:43:10.269572Z"
    }
   },
   "outputs": [],
   "source": [
    "# one of the newer tracts (GEOID 06075980401; Farallon Islands) is too far away\n",
    "# from any older ones to reliably interpolate the original data onto, so we fill it with nans\n",
    "df_fill = pd.DataFrame([['06075980401',np.nan]], columns=['USCB_GEOID','out_freq_s'])\n",
    "power_shutoff_new_tracts = pd.concat([power_shutoff_new_tracts,df_fill]).sort_values(by=\"USCB_GEOID\")\n",
    "power_shutoff_new_tracts = power_shutoff_new_tracts.rename(columns={'USCB_GEOID': 'census_tract', 'out_freq_s':'avg_num_psps_event'})\n",
    "power_shutoff_new_tracts"
   ]
  },
  {
   "cell_type": "code",
   "execution_count": 16,
   "metadata": {
    "execution": {
     "iopub.execute_input": "2024-06-26T19:43:10.281328Z",
     "iopub.status.busy": "2024-06-26T19:43:10.280926Z",
     "iopub.status.idle": "2024-06-26T19:43:10.284059Z",
     "shell.execute_reply": "2024-06-26T19:43:10.283488Z",
     "shell.execute_reply.started": "2024-06-26T19:43:10.281315Z"
    }
   },
   "outputs": [],
   "source": [
    "nan_checking = pd.isna(power_shutoff_new_tracts['avg_num_psps_event'])"
   ]
  },
  {
   "cell_type": "code",
   "execution_count": null,
   "metadata": {
    "execution": {
     "iopub.execute_input": "2024-06-26T19:43:10.285157Z",
     "iopub.status.busy": "2024-06-26T19:43:10.284733Z",
     "iopub.status.idle": "2024-06-26T19:43:10.290317Z",
     "shell.execute_reply": "2024-06-26T19:43:10.289654Z",
     "shell.execute_reply.started": "2024-06-26T19:43:10.285143Z"
    }
   },
   "outputs": [],
   "source": [
    "nan_rows = power_shutoff_new_tracts[nan_checking]\n",
    "print(nan_rows)"
   ]
  },
  {
   "cell_type": "code",
   "execution_count": 18,
   "metadata": {
    "execution": {
     "iopub.execute_input": "2024-06-26T19:43:10.291341Z",
     "iopub.status.busy": "2024-06-26T19:43:10.291067Z",
     "iopub.status.idle": "2024-06-26T19:43:10.301573Z",
     "shell.execute_reply": "2024-06-26T19:43:10.300965Z",
     "shell.execute_reply.started": "2024-06-26T19:43:10.291328Z"
    }
   },
   "outputs": [],
   "source": [
    "power_shutoff_new_tracts.to_csv('built_power_shutoffs_metric.csv', index=False)"
   ]
  },
  {
   "cell_type": "code",
   "execution_count": 19,
   "metadata": {
    "execution": {
     "iopub.execute_input": "2024-06-26T19:43:10.302575Z",
     "iopub.status.busy": "2024-06-26T19:43:10.302229Z",
     "iopub.status.idle": "2024-06-26T19:43:10.306729Z",
     "shell.execute_reply": "2024-06-26T19:43:10.306127Z",
     "shell.execute_reply.started": "2024-06-26T19:43:10.302563Z"
    }
   },
   "outputs": [],
   "source": [
    "@append_metadata\n",
    "def power_shutoff_upload(input_csv, export=False, varname=''):\n",
    "    '''\n",
    "    Uploads the calculated Public Safety Power Shutoff (PSPS) metric to S3 bucket. The metric is:\n",
    "    * average Public Safety Power Shutoff (PSPS) events\n",
    "\n",
    "    Data for this metric was sourced from PSE Healthy Energy at:\n",
    "    https://www.psehealthyenergy.org/work/california-public-safety-power-shutoff-interactive-map/ from the \n",
    "    PSPS Duration by Census Tract section\n",
    "\n",
    "    Methods\n",
    "    -------\n",
    "    The data was from older census tracts, so we merged it with 2017 California Tiger shape files first.\n",
    "    The data was then set to Cal-CRAI standardized coordinate reference system (CRS) 4269.\n",
    "    Data was then spatially joined to the nearest 2021 census tract data.\n",
    "    Data were then grouped spatially and had the PSPS frequency data averaged per census tracts.\n",
    "    \n",
    "    Parameters\n",
    "    ----------\n",
    "    input_csv: string\n",
    "        csv PSPS data \n",
    "    export: True/False boolean\n",
    "        False = will not upload resulting df containing CAL CRAI PSPS metric to AWS\n",
    "        True = will upload resulting df containing CAL CRAI PSPS metric to AWS\n",
    "\n",
    "    Script\n",
    "    ------\n",
    "    built_power_shutoff.ipynb\n",
    "\n",
    "    Note:\n",
    "    This function assumes users have configured the AWS CLI such that their access key / secret key pair are stored in ~/.aws/credentials.\n",
    "    See https://docs.aws.amazon.com/cli/latest/userguide/getting-started-install.html for guidance.\n",
    "    '''\n",
    "    print('Data transformation: source data and destination tracts both reprojected to CRS 3857.')\n",
    "    print('Data transformation: unchanged tracts isolated to preserve original data.')\n",
    "    print('Data transformation: new tracts filled by averaging the adjacent original tracts.')\n",
    "    print('Data transformation: GEOID 06075980401 (Farallon Islands, San Francisco County) filled with nan.') \n",
    "    print('Data transformation: original data merged with spatially averaged (\"new\") data.')\n",
    " \n",
    "    if export == True:\n",
    "        bucket_name = 'ca-climate-index'\n",
    "        directory = '3_fair_data/index_data'\n",
    "        export_filename = [input_csv]\n",
    "        upload_csv_aws(export_filename, bucket_name, directory)\n",
    "\n",
    "    if export == False:\n",
    "        print(f'{input_csv} uploaded to AWS.')\n",
    " \n",
    "    if os.path.exists(input_csv):\n",
    "        os.remove(input_csv)"
   ]
  },
  {
   "cell_type": "code",
   "execution_count": 20,
   "metadata": {
    "execution": {
     "iopub.execute_input": "2024-06-26T19:43:10.343420Z",
     "iopub.status.busy": "2024-06-26T19:43:10.342954Z",
     "iopub.status.idle": "2024-06-26T19:43:11.041308Z",
     "shell.execute_reply": "2024-06-26T19:43:11.040494Z",
     "shell.execute_reply.started": "2024-06-26T19:43:10.343404Z"
    }
   },
   "outputs": [],
   "source": [
    "input_csv = 'built_power_shutoffs_metric.csv'\n",
    "varname = 'built_pse_power_shutoff'\n",
    "\n",
    "power_shutoff_upload(input_csv, export=True, varname='test')"
   ]
  }
 ],
 "metadata": {
  "kernelspec": {
   "display_name": "Python 3 (ipykernel)",
   "language": "python",
   "name": "python3"
  },
  "language_info": {
   "codemirror_mode": {
    "name": "ipython",
    "version": 3
   },
   "file_extension": ".py",
   "mimetype": "text/x-python",
   "name": "python",
   "nbconvert_exporter": "python",
   "pygments_lexer": "ipython3",
   "version": "3.9.18"
  }
 },
 "nbformat": 4,
 "nbformat_minor": 4
}
