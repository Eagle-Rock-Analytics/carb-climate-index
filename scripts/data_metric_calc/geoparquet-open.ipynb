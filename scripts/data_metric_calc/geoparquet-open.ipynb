{
 "cells": [
  {
   "cell_type": "markdown",
   "id": "a2ea1886",
   "metadata": {},
   "source": [
    "## How to open geoparquets"
   ]
  },
  {
   "cell_type": "code",
   "execution_count": 29,
   "id": "dbb715ee-e004-405e-b2de-86bb36685ac3",
   "metadata": {},
   "outputs": [],
   "source": [
    "import geopandas as gpd\n",
    "import s3fs\n",
    "import pandas as pd\n",
    "import boto3\n",
    "import dask_geopandas\n",
    "import dask.dataframe as dd\n",
    "import matplotlib.pyplot as plt\n",
    "import os"
   ]
  },
  {
   "cell_type": "code",
   "execution_count": 2,
   "id": "d48351f2-ea37-49db-8133-4e4c58cd8bcf",
   "metadata": {},
   "outputs": [],
   "source": [
    "fs = s3fs.S3FileSystem()\n",
    "bucket = 'ca-climate-index'\n",
    "path = '2b_reproject/' \n",
    "pqt_list = [\n",
    "    'climate_risk/flood/exposure/koordinates/climate_koordinates_floodplain.parquet.gzip',\n",
    "    'climate_risk/wildfire/exposure/historical/iowa_state_environmental_mesonet/climate_iowa_mesonet_wildfire_warnings.parquet.gzip',\n",
    "    'governance/community_preparedness/usda_forest_service/governance_usda_fuel_reduction.parquet.gzip',\n",
    "    'governance/natural_resource_conservation/usda/forest_to_faucets/F2F2_Assessment/governance_usda_watershed_risk.parquet.gzip'\n",
    "]"
   ]
  },
  {
   "cell_type": "code",
   "execution_count": null,
   "id": "ea3ba1ce-cafa-4b64-a8b8-2e438c547a29",
   "metadata": {},
   "outputs": [],
   "source": [
    "for pqt in pqt_list:\n",
    "    ppath = path+pqt\n",
    "    bucket_uri = f's3://{bucket}/{ppath}'\n",
    "    print(pqt)\n",
    "    df = gpd.read_parquet(bucket_uri)\n",
    "    display(df)"
   ]
  }
 ],
 "metadata": {
  "kernelspec": {
   "display_name": "Python 3 (ipykernel)",
   "language": "python",
   "name": "python3"
  },
  "language_info": {
   "codemirror_mode": {
    "name": "ipython",
    "version": 3
   },
   "file_extension": ".py",
   "mimetype": "text/x-python",
   "name": "python",
   "nbconvert_exporter": "python",
   "pygments_lexer": "ipython3",
   "version": "3.9.18"
  }
 },
 "nbformat": 4,
 "nbformat_minor": 5
}
