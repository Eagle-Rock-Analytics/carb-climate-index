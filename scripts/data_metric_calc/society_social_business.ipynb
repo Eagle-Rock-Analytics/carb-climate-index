{
 "cells": [
  {
   "cell_type": "markdown",
   "metadata": {},
   "source": [
    "## Cal-CRAI Metric Calculation\n",
    "Domain: Society & Economy \\\n",
    "Indicator: Social Services\n",
    "\n",
    "This notebook calculates six metrics, sourced from the United States Census Bureau - County Business Patterns:\n",
    "* Metric 1: Number of blood and organ banks per 10,000 people\n",
    "* Metric 2: Number of hospitals per 10,000 people\n",
    "* Metric 3: Number of health and personal care store facilities per 10,000 people\n",
    "* Metric 4: Number of heavy and civil engineering construction establishments per 10,000 people\n",
    "* Metric 5: Number of specialty trade contractors per 10,000 people\n",
    "* Metric 6: Number of household appliance stores and repair establishments per 10,000 people"
   ]
  },
  {
   "cell_type": "code",
   "execution_count": 1,
   "metadata": {
    "execution": {
     "iopub.execute_input": "2024-06-03T16:00:52.514187Z",
     "iopub.status.busy": "2024-06-03T16:00:52.512989Z",
     "iopub.status.idle": "2024-06-03T16:00:53.257978Z",
     "shell.execute_reply": "2024-06-03T16:00:53.257293Z",
     "shell.execute_reply.started": "2024-06-03T16:00:52.514102Z"
    }
   },
   "outputs": [],
   "source": [
    "import pandas as pd\n",
    "import os\n",
    "import sys\n",
    "\n",
    "# suppress pandas purely educational warnings\n",
    "from warnings import simplefilter\n",
    "simplefilter(action=\"ignore\", category=pd.errors.PerformanceWarning)\n",
    "\n",
    "sys.path.append(os.path.expanduser('../../'))\n",
    "from scripts.utils.file_helpers import pull_csv_from_directory, upload_csv_aws, filter_counties\n",
    "from scripts.utils.write_metadata import append_metadata"
   ]
  },
  {
   "cell_type": "code",
   "execution_count": null,
   "metadata": {
    "execution": {
     "iopub.execute_input": "2024-06-03T16:26:11.414447Z",
     "iopub.status.busy": "2024-06-03T16:26:11.413710Z",
     "iopub.status.idle": "2024-06-03T16:26:12.890658Z",
     "shell.execute_reply": "2024-06-03T16:26:12.889493Z",
     "shell.execute_reply.started": "2024-06-03T16:26:11.414411Z"
    }
   },
   "outputs": [],
   "source": [
    "# pull csv from aws\n",
    "bucket_name = 'ca-climate-index'\n",
    "aws_dir = '1_pull_data/society_economy/social_services/census_bureau_soc_services/listed_soc_services/'\n",
    "\n",
    "pull_csv_from_directory(bucket_name, aws_dir, search_zipped=False)"
   ]
  },
  {
   "cell_type": "code",
   "execution_count": null,
   "metadata": {
    "execution": {
     "iopub.execute_input": "2024-06-03T16:26:12.894950Z",
     "iopub.status.busy": "2024-06-03T16:26:12.893431Z",
     "iopub.status.idle": "2024-06-03T16:26:12.911802Z",
     "shell.execute_reply": "2024-06-03T16:26:12.911196Z",
     "shell.execute_reply.started": "2024-06-03T16:26:12.894884Z"
    }
   },
   "outputs": [],
   "source": [
    "# read in social service data\n",
    "social_services_data = pd.read_csv('multiple_social_services_2021_CB2100CBP.csv')\n",
    "print(len(social_services_data))\n",
    "social_services_data.head(5)\n",
    "os.remove('multiple_social_services_2021_CB2100CBP.csv')"
   ]
  },
  {
   "cell_type": "code",
   "execution_count": null,
   "metadata": {
    "execution": {
     "iopub.execute_input": "2024-06-03T16:26:12.913107Z",
     "iopub.status.busy": "2024-06-03T16:26:12.912905Z",
     "iopub.status.idle": "2024-06-03T16:26:12.927644Z",
     "shell.execute_reply": "2024-06-03T16:26:12.927048Z",
     "shell.execute_reply.started": "2024-06-03T16:26:12.913089Z"
    }
   },
   "outputs": [],
   "source": [
    "social_services_data.head(5)"
   ]
  },
  {
   "cell_type": "code",
   "execution_count": 5,
   "metadata": {
    "execution": {
     "iopub.execute_input": "2024-06-03T16:01:51.079944Z",
     "iopub.status.busy": "2024-06-03T16:01:51.079252Z",
     "iopub.status.idle": "2024-06-03T16:01:51.097523Z",
     "shell.execute_reply": "2024-06-03T16:01:51.096379Z",
     "shell.execute_reply.started": "2024-06-03T16:01:51.079909Z"
    }
   },
   "outputs": [],
   "source": [
    "# Set the first row as new column names\n",
    "new_headers = social_services_data.iloc[0]\n",
    "\n",
    "# Replace the headers with the first row values\n",
    "social_services_data = social_services_data.rename(columns=new_headers)\n",
    "\n",
    "# Remove the first row (if needed)\n",
    "social_services_data = social_services_data.drop(0)"
   ]
  },
  {
   "cell_type": "code",
   "execution_count": null,
   "metadata": {
    "execution": {
     "iopub.execute_input": "2024-06-03T16:01:51.789196Z",
     "iopub.status.busy": "2024-06-03T16:01:51.788404Z",
     "iopub.status.idle": "2024-06-03T16:01:51.810020Z",
     "shell.execute_reply": "2024-06-03T16:01:51.808854Z",
     "shell.execute_reply.started": "2024-06-03T16:01:51.789141Z"
    }
   },
   "outputs": [],
   "source": [
    "social_services_columns = social_services_data[['Geographic Area Name', 'Meaning of NAICS Code', 'Meaning of Employment size of establishments code', 'Number of establishments']]\n",
    "social_services_columns"
   ]
  },
  {
   "cell_type": "code",
   "execution_count": null,
   "metadata": {
    "execution": {
     "iopub.execute_input": "2024-06-03T16:01:58.373162Z",
     "iopub.status.busy": "2024-06-03T16:01:58.372402Z",
     "iopub.status.idle": "2024-06-03T16:01:58.397939Z",
     "shell.execute_reply": "2024-06-03T16:01:58.397119Z",
     "shell.execute_reply.started": "2024-06-03T16:01:58.373128Z"
    }
   },
   "outputs": [],
   "source": [
    "# Create a copy of the DataFrame\n",
    "social_services_columns = social_services_columns.copy()\n",
    "\n",
    "# Create a new column 'county' by extracting characters after the first '-'\n",
    "social_services_columns['county'] = social_services_columns['Geographic Area Name'].str.split(',').str[0]\n",
    "\n",
    "# Remove any mention of 'county' within the legalAgencyName column\n",
    "social_services_columns['county'] = social_services_columns['county'].str.replace(' County', '', case=False)\n",
    "\n",
    "# Drop the 'Geographic Area Name' column\n",
    "social_services_county = social_services_columns.drop('Geographic Area Name', axis=1)\n",
    "\n",
    "social_services_county.head(5)"
   ]
  },
  {
   "cell_type": "code",
   "execution_count": null,
   "metadata": {
    "execution": {
     "iopub.execute_input": "2024-06-03T16:02:01.466083Z",
     "iopub.status.busy": "2024-06-03T16:02:01.465336Z",
     "iopub.status.idle": "2024-06-03T16:02:01.484237Z",
     "shell.execute_reply": "2024-06-03T16:02:01.483513Z",
     "shell.execute_reply.started": "2024-06-03T16:02:01.466049Z"
    }
   },
   "outputs": [],
   "source": [
    "social_services_county = social_services_county[social_services_columns['Meaning of Employment size of establishments code'] == 'All establishments'].copy()\n",
    "social_services_county.head()"
   ]
  },
  {
   "cell_type": "code",
   "execution_count": null,
   "metadata": {
    "execution": {
     "iopub.execute_input": "2024-06-03T16:11:46.115797Z",
     "iopub.status.busy": "2024-06-03T16:11:46.115044Z",
     "iopub.status.idle": "2024-06-03T16:11:46.140332Z",
     "shell.execute_reply": "2024-06-03T16:11:46.139394Z",
     "shell.execute_reply.started": "2024-06-03T16:11:46.115759Z"
    }
   },
   "outputs": [],
   "source": [
    "social_services_county.loc[social_services_county.county == 'Colusa']"
   ]
  },
  {
   "cell_type": "code",
   "execution_count": 9,
   "metadata": {
    "execution": {
     "iopub.execute_input": "2024-06-03T16:02:03.981549Z",
     "iopub.status.busy": "2024-06-03T16:02:03.980860Z",
     "iopub.status.idle": "2024-06-03T16:02:03.993080Z",
     "shell.execute_reply": "2024-06-03T16:02:03.991764Z",
     "shell.execute_reply.started": "2024-06-03T16:02:03.981517Z"
    }
   },
   "outputs": [],
   "source": [
    "filtered_social_services, omitted_df = filter_counties(social_services_county, 'county')"
   ]
  },
  {
   "cell_type": "code",
   "execution_count": null,
   "metadata": {
    "execution": {
     "iopub.execute_input": "2024-06-03T16:02:04.276532Z",
     "iopub.status.busy": "2024-06-03T16:02:04.275696Z",
     "iopub.status.idle": "2024-06-03T16:02:04.283879Z",
     "shell.execute_reply": "2024-06-03T16:02:04.282570Z",
     "shell.execute_reply.started": "2024-06-03T16:02:04.276490Z"
    }
   },
   "outputs": [],
   "source": [
    "print(len(filtered_social_services))\n",
    "print(len(omitted_df))"
   ]
  },
  {
   "cell_type": "code",
   "execution_count": null,
   "metadata": {
    "execution": {
     "iopub.execute_input": "2024-06-03T16:02:06.097336Z",
     "iopub.status.busy": "2024-06-03T16:02:06.096647Z",
     "iopub.status.idle": "2024-06-03T16:02:06.113634Z",
     "shell.execute_reply": "2024-06-03T16:02:06.112743Z",
     "shell.execute_reply.started": "2024-06-03T16:02:06.097303Z"
    }
   },
   "outputs": [],
   "source": [
    "filtered_social_services"
   ]
  },
  {
   "cell_type": "code",
   "execution_count": null,
   "metadata": {
    "execution": {
     "iopub.execute_input": "2024-06-03T16:06:21.461965Z",
     "iopub.status.busy": "2024-06-03T16:06:21.461093Z",
     "iopub.status.idle": "2024-06-03T16:06:21.479616Z",
     "shell.execute_reply": "2024-06-03T16:06:21.478911Z",
     "shell.execute_reply.started": "2024-06-03T16:06:21.461895Z"
    }
   },
   "outputs": [],
   "source": [
    "further_filtered_social_services = filtered_social_services.drop(columns='Meaning of Employment size of establishments code')\n",
    "further_filtered_social_services"
   ]
  },
  {
   "cell_type": "code",
   "execution_count": null,
   "metadata": {
    "execution": {
     "iopub.execute_input": "2024-06-03T16:10:56.378858Z",
     "iopub.status.busy": "2024-06-03T16:10:56.378132Z",
     "iopub.status.idle": "2024-06-03T16:10:56.393682Z",
     "shell.execute_reply": "2024-06-03T16:10:56.392535Z",
     "shell.execute_reply.started": "2024-06-03T16:10:56.378824Z"
    }
   },
   "outputs": [],
   "source": [
    "further_filtered_social_services.loc[further_filtered_social_services['county'] == 'Colusa']"
   ]
  },
  {
   "cell_type": "code",
   "execution_count": null,
   "metadata": {
    "execution": {
     "iopub.execute_input": "2024-06-03T16:06:25.096457Z",
     "iopub.status.busy": "2024-06-03T16:06:25.095704Z",
     "iopub.status.idle": "2024-06-03T16:06:25.125314Z",
     "shell.execute_reply": "2024-06-03T16:06:25.124727Z",
     "shell.execute_reply.started": "2024-06-03T16:06:25.096422Z"
    }
   },
   "outputs": [],
   "source": [
    "adjusted_social_services = further_filtered_social_services.pivot(index='county', columns='Meaning of NAICS Code', values='Number of establishments')\n",
    "# Reset index to make 'county' a column again\n",
    "adjusted_social_services = adjusted_social_services.reset_index()\n",
    "\n",
    "# Flatten the multi-level header by setting the columns\n",
    "adjusted_social_services.columns.name = None  # Remove the multi-level header name\n",
    "adjusted_social_services.columns = [str(col).lower() for col in adjusted_social_services.columns]  # Flatten the header\n",
    "\n",
    "adjusted_social_services.head()"
   ]
  },
  {
   "cell_type": "markdown",
   "metadata": {},
   "source": [
    "### Our metrics are per 10,000 people, so we need to add our population data\n",
    "* these metrics are at the county level so we need need county level population estimates"
   ]
  },
  {
   "cell_type": "code",
   "execution_count": null,
   "metadata": {
    "execution": {
     "iopub.execute_input": "2024-06-03T16:06:52.288214Z",
     "iopub.status.busy": "2024-06-03T16:06:52.287452Z",
     "iopub.status.idle": "2024-06-03T16:06:53.412162Z",
     "shell.execute_reply": "2024-06-03T16:06:53.411009Z",
     "shell.execute_reply.started": "2024-06-03T16:06:52.288177Z"
    }
   },
   "outputs": [],
   "source": [
    "county_pop = \"s3://ca-climate-index/0_map_data/county_est_pop_2022.csv\"\n",
    "ca_pop_county = pd.read_csv(county_pop)\n",
    "ca_pop_county = ca_pop_county.drop(columns='Unnamed: 0')\n",
    "ca_pop_county.head()"
   ]
  },
  {
   "cell_type": "code",
   "execution_count": null,
   "metadata": {
    "execution": {
     "iopub.execute_input": "2024-06-03T16:06:54.318726Z",
     "iopub.status.busy": "2024-06-03T16:06:54.317451Z",
     "iopub.status.idle": "2024-06-03T16:06:54.346189Z",
     "shell.execute_reply": "2024-06-03T16:06:54.345593Z",
     "shell.execute_reply.started": "2024-06-03T16:06:54.318686Z"
    }
   },
   "outputs": [],
   "source": [
    "merged_county_social_services = pd.merge(ca_pop_county, adjusted_social_services, on='county', how='right')\n",
    "merged_county_social_services.head()"
   ]
  },
  {
   "cell_type": "code",
   "execution_count": null,
   "metadata": {
    "execution": {
     "iopub.execute_input": "2024-06-03T16:06:59.171981Z",
     "iopub.status.busy": "2024-06-03T16:06:59.170884Z",
     "iopub.status.idle": "2024-06-03T16:06:59.205527Z",
     "shell.execute_reply": "2024-06-03T16:06:59.204971Z",
     "shell.execute_reply.started": "2024-06-03T16:06:59.171913Z"
    }
   },
   "outputs": [],
   "source": [
    "# Create a new DataFrame with the same 'county' and 'est_total_pop' columns\n",
    "social_services_per_10000 = merged_county_social_services[['county', 'est_total_pop']].copy()\n",
    "\n",
    "# Convert necessary columns to numeric if they haven't been converted already\n",
    "for column in merged_county_social_services.columns:\n",
    "    if column not in ['county', 'est_total_pop']:\n",
    "        merged_county_social_services[column] = pd.to_numeric(merged_county_social_services[column], errors='coerce')\n",
    "\n",
    "# Iterate over the columns to rename them and calculate the new values\n",
    "for column in merged_county_social_services.columns:\n",
    "    if column not in ['county', 'est_total_pop']:\n",
    "        # Rename the column\n",
    "        new_column_name = f\"{column} per 10000 people\"\n",
    "        if new_column_name not in social_services_per_10000.columns:\n",
    "            # Calculate the new values\n",
    "            social_services_per_10000[new_column_name] = (merged_county_social_services[column] / merged_county_social_services['est_total_pop']) * 10000\n",
    "\n",
    "# Display the resulting DataFrame\n",
    "social_services_per_10000.head()"
   ]
  },
  {
   "cell_type": "code",
   "execution_count": null,
   "metadata": {
    "execution": {
     "iopub.execute_input": "2024-06-03T16:07:02.287488Z",
     "iopub.status.busy": "2024-06-03T16:07:02.286741Z",
     "iopub.status.idle": "2024-06-03T16:07:02.968749Z",
     "shell.execute_reply": "2024-06-03T16:07:02.967070Z",
     "shell.execute_reply.started": "2024-06-03T16:07:02.287448Z"
    }
   },
   "outputs": [],
   "source": [
    "tract_county_data = \"s3://ca-climate-index/0_map_data/ca_tracts_county.csv\"\n",
    "county_tract = pd.read_csv(tract_county_data)\n",
    "county_tract = county_tract.rename(columns={'TRACT': 'census_tract', 'County': 'county'})\n",
    "county_tract = county_tract.drop(columns=['Unnamed: 0', 'COUNTYFP'])\n",
    "county_tract"
   ]
  },
  {
   "cell_type": "code",
   "execution_count": null,
   "metadata": {
    "execution": {
     "iopub.execute_input": "2024-06-03T16:07:07.723393Z",
     "iopub.status.busy": "2024-06-03T16:07:07.722631Z",
     "iopub.status.idle": "2024-06-03T16:07:07.753269Z",
     "shell.execute_reply": "2024-06-03T16:07:07.752643Z",
     "shell.execute_reply.started": "2024-06-03T16:07:07.723355Z"
    }
   },
   "outputs": [],
   "source": [
    "social_services_metric_tract = pd.merge(county_tract, social_services_per_10000, on='county', how='left')\n",
    "social_services_metric_tract"
   ]
  },
  {
   "cell_type": "code",
   "execution_count": null,
   "metadata": {
    "execution": {
     "iopub.execute_input": "2024-06-03T16:07:24.934209Z",
     "iopub.status.busy": "2024-06-03T16:07:24.933291Z",
     "iopub.status.idle": "2024-06-03T16:07:24.964803Z",
     "shell.execute_reply": "2024-06-03T16:07:24.964257Z",
     "shell.execute_reply.started": "2024-06-03T16:07:24.934153Z"
    }
   },
   "outputs": [],
   "source": [
    "colusa = social_services_per_10000[social_services_per_10000['county']=='Colusa']\n",
    "print('single colusa metric data before merging to census:')\n",
    "display(colusa)\n",
    "\n",
    "colusa = social_services_metric_tract[social_services_metric_tract['county']=='Colusa']\n",
    "print(f'all colusa tracts after merging:')\n",
    "display(colusa)"
   ]
  },
  {
   "cell_type": "code",
   "execution_count": null,
   "metadata": {},
   "outputs": [],
   "source": [
    "# List to store generated CSV file names\n",
    "csv_file_names = []\n",
    "\n",
    "for column in social_services_metric_tract.columns:\n",
    "    if column not in ['county', 'census_tract','est_total_pop']:\n",
    "    # Create new DataFrame\n",
    "        new_df = social_services_metric_tract[['census_tract', 'county']].copy()\n",
    "        new_column_name = column.replace(' ', '_')\n",
    "        \n",
    "        # Remove \"per 10000 people\" from the column name if it exists\n",
    "        cleaned_column_name = new_column_name.replace('per_10000_people', '')\n",
    "        # Define CSV file name based on the new column name\n",
    "        csv_filename = 'society_' + cleaned_column_name + 'metric.csv'\n",
    "\n",
    "        new_df[column] = social_services_metric_tract[column]\n",
    "\n",
    "        # Save the DataFrame to CSV\n",
    "        new_df.to_csv(csv_filename, index=False)\n",
    "\n",
    "        print(f\"Saved DataFrame to: {csv_filename}\")"
   ]
  },
  {
   "cell_type": "code",
   "execution_count": null,
   "metadata": {},
   "outputs": [],
   "source": [
    "blood_organ = pd.read_csv('society_blood_and_organ_banks_metric.csv')\n",
    "blood_organ"
   ]
  },
  {
   "cell_type": "markdown",
   "metadata": {},
   "source": [
    "## Function call"
   ]
  },
  {
   "cell_type": "code",
   "execution_count": 22,
   "metadata": {},
   "outputs": [],
   "source": [
    "# pull csv from aws\n",
    "bucket_name = 'ca-climate-index'\n",
    "\n",
    "@append_metadata\n",
    "def social_services_metric_calc(input_csv, export=False, varname=\"\"):  \n",
    "    '''\n",
    "    The function calculates the social services metrics sourced from the United States Census Bureau:\n",
    "    County Business Patterns. The metrics include:\n",
    "    \n",
    "    * # of blood and organ banks per 10,000 people\n",
    "    * # of hospitals per 10,000 people\n",
    "    * # of health and personal care store facilities per 10,000 people\n",
    "    * # of heavy and civil engineering construction establishments per 10,000 people\n",
    "    * # of specialty trade contractors per 10,000 people\n",
    "    * # of household appliance stores and repair establishments per 10,000 people\n",
    "\n",
    "    Parameters\n",
    "    ----------\n",
    "    input_csv: list\n",
    "        list of calculated metric csv's\n",
    "    export: bool, optional\n",
    "        True to upload csvs to AWS, False otherwise.\n",
    "\n",
    "    Methods\n",
    "    --------\n",
    "    Relevant columns for Cal-CRAI metrics were isolated from the original dataset.\n",
    "    Specific entries were omitted to isolate for the CA population.\n",
    "    Entries within rows were converted to columns for better metric entry/visualization.\n",
    "    Cal-CRAI tracts were merged in with the data, missing data from the extra tracts \n",
    "    were given values for each metric column based on the average values from matching\n",
    "    county entries.\n",
    "    Metric columns were isolated to their own dataframe and uploaded to AWS.\n",
    "    Missing data is kept as is (i.e., \"NaN\") to avoid misrepresentation by setting to zero.\n",
    "\n",
    "    Script\n",
    "    ------\n",
    "    society_social_business.ipynb\n",
    "\n",
    "    Note\n",
    "    ------\n",
    "    This function assumes users have configured the AWS CLI such that their access key / \n",
    "    secret key pair are stored in ~/.aws/credentials. \n",
    "    See https://docs.aws.amazon.com/cli/latest/userguide/getting-started-install.html for guidance.\n",
    "    ''' \n",
    "    print('Data transformation: eliminate excess headers and columns not relevant to metric calculation.')\n",
    "    print('Data transformation: rename and adjust column entires to maintain cleaning standardization.')\n",
    "    print('Data transformation: flatten data so metric variables become columns.')\n",
    "    print('Data transformation: merge data to 2022 population data to calculate per 10,000 people portion of metric.')\n",
    "    print('Data transformation: merge data to 2021 tract data to get 9,129 tracts.')\n",
    "    if export == True:\n",
    "        # pull csv from aws\n",
    "        bucket_name = 'ca-climate-index'\n",
    "        upload_csv_aws([input_csv], bucket_name, '3_fair_data/index_data')\n",
    "\n",
    "    if export == False:\n",
    "        print(f'{input_csv} uploaded to AWS.')\n",
    "\n",
    "       # os.remove(input_csv)  # Remove local file after upload"
   ]
  },
  {
   "cell_type": "code",
   "execution_count": 23,
   "metadata": {},
   "outputs": [],
   "source": [
    "input_csv = [\n",
    "'society_blood_and_organ_banks_metric.csv',\n",
    "'society_health_and_personal_care_stores_metric.csv',\n",
    "'society_heavy_and_civil_engineering_construction_metric.csv',\n",
    "'society_hospitals_metric.csv',\n",
    "'society_personal_and_household_goods_repair_and_maintenance_metric.csv',\n",
    "'society_specialty_trade_contractors_metric.csv'\n",
    "]\n",
    "\n",
    "varnames = [\n",
    "    'society_census_business_blood_organ_banks',\n",
    "    'society_census_business_health_store_facilities',\n",
    "    'society_census_business_engineering_construction',\n",
    "    'society_census_business_hospitals',\n",
    "    'society_census_business_appliance_repair_establishments',\n",
    "    'society_census_business_specialty_trade'\n",
    "]\n",
    "\n",
    "# Process the data and export\n",
    "for csv, var in zip(input_csv, varnames):\n",
    "    social_services_metric_calc(csv,  export=True, varname=var)"
   ]
  }
 ],
 "metadata": {
  "kernelspec": {
   "display_name": "Python 3 (ipykernel)",
   "language": "python",
   "name": "python3"
  },
  "language_info": {
   "codemirror_mode": {
    "name": "ipython",
    "version": 3
   },
   "file_extension": ".py",
   "mimetype": "text/x-python",
   "name": "python",
   "nbconvert_exporter": "python",
   "pygments_lexer": "ipython3",
   "version": "3.9.18"
  }
 },
 "nbformat": 4,
 "nbformat_minor": 4
}
