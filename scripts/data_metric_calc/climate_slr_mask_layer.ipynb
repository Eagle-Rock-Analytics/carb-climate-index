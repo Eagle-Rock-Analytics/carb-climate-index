{
 "cells": [
  {
   "cell_type": "markdown",
   "metadata": {},
   "source": [
    "## Cal-CRAI Supplementary Layer: Sea Level Rise Impact Area\n",
    "\n",
    "In the SLR focused scenario, we intentionally need to set inland census tracts / counties as \"improbable\" or \"invulnerable\" to the particular risk. For our purposes, we define the areas of vulnerability to SLR based on the Cal-CRAI metric: `percent change in wetland habitat under RCP 4.5 at median model SLR per county`. From this metric, we create a binary layer of: **At risk to SLR = 1** and **Not at risk to SLR = 0**, where all census tracts (via their respective county) at risk to SLR are identified as having a non-missing percent change in wetland habitat due to SLR. \n",
    "\n",
    "This \"improbability\" layer is used to mask all in-land counties in the SLR focused scenario analysis, to avoid in-land values skewing the overall distribution of values. The first half of this notebook is similar to the metric calculation for the input layer. "
   ]
  },
  {
   "cell_type": "code",
   "execution_count": 2,
   "metadata": {
    "execution": {
     "iopub.execute_input": "2024-10-01T22:12:20.339502Z",
     "iopub.status.busy": "2024-10-01T22:12:20.338633Z",
     "iopub.status.idle": "2024-10-01T22:12:21.369419Z",
     "shell.execute_reply": "2024-10-01T22:12:21.368925Z",
     "shell.execute_reply.started": "2024-10-01T22:12:20.339463Z"
    }
   },
   "outputs": [],
   "source": [
    "import os\n",
    "import sys\n",
    "import pandas as pd\n",
    "import io\n",
    "import numpy as np\n",
    "import geopandas as gpd\n",
    "\n",
    "sys.path.append(os.path.expanduser('../../'))\n",
    "from scripts.utils.file_helpers import pull_csv_from_directory, upload_csv_aws\n",
    "from scripts.utils.calculate_index import add_census_tracts"
   ]
  },
  {
   "cell_type": "markdown",
   "metadata": {},
   "source": [
    "## Step 1: Pull data and process metric"
   ]
  },
  {
   "cell_type": "code",
   "execution_count": 3,
   "metadata": {
    "execution": {
     "iopub.execute_input": "2024-10-01T22:12:21.370847Z",
     "iopub.status.busy": "2024-10-01T22:12:21.370554Z",
     "iopub.status.idle": "2024-10-01T22:12:22.339981Z",
     "shell.execute_reply": "2024-10-01T22:12:22.339384Z",
     "shell.execute_reply.started": "2024-10-01T22:12:21.370831Z"
    }
   },
   "outputs": [
    {
     "name": "stdout",
     "output_type": "stream",
     "text": [
      "Saved DataFrame as '../data_metric_calc/RCP_wetland_data.csv'\n"
     ]
    }
   ],
   "source": [
    "bucket_name = 'ca-climate-index'\n",
    "aws_dir = '1_pull_data/climate_risk/sea_level_rise/loss/climate_central/'\n",
    "output_folder = '../data_metric_calc'\n",
    "\n",
    "pull_csv_from_directory(bucket_name, aws_dir, output_folder=output_folder, search_zipped=False)"
   ]
  },
  {
   "cell_type": "code",
   "execution_count": 4,
   "metadata": {
    "execution": {
     "iopub.execute_input": "2024-10-01T22:12:22.341052Z",
     "iopub.status.busy": "2024-10-01T22:12:22.340866Z",
     "iopub.status.idle": "2024-10-01T22:12:22.351674Z",
     "shell.execute_reply": "2024-10-01T22:12:22.351200Z",
     "shell.execute_reply.started": "2024-10-01T22:12:22.341036Z"
    }
   },
   "outputs": [],
   "source": [
    "wetland_data = pd.read_csv('RCP_wetland_data.csv')"
   ]
  },
  {
   "cell_type": "code",
   "execution_count": 5,
   "metadata": {
    "execution": {
     "iopub.execute_input": "2024-10-01T22:12:22.353872Z",
     "iopub.status.busy": "2024-10-01T22:12:22.353565Z",
     "iopub.status.idle": "2024-10-01T22:12:22.363888Z",
     "shell.execute_reply": "2024-10-01T22:12:22.363367Z",
     "shell.execute_reply.started": "2024-10-01T22:12:22.353840Z"
    }
   },
   "outputs": [
    {
     "data": {
      "text/plain": [
       "Index(['County', 'RCP_2.6__5th_percentile__2000',\n",
       "       'RCP_2.6__50th_percentile__2000', 'RCP_2.6__95th_percentile__2000',\n",
       "       'RCP_4.5__5th_percentile__2000', 'RCP_4.5__50th_percentile__2000',\n",
       "       'RCP_4.5__95th_percentile__2000', 'RCP_8.5__5th_percentile__2000',\n",
       "       'RCP_8.5__50th_percentile__2000', 'RCP_8.5__95th_percentile__2000',\n",
       "       'RCP_2.6__5th_percentile__2100', 'RCP_2.6__50th_percentile__2100',\n",
       "       'RCP_2.6__95th_percentile__2100', 'RCP_4.5__5th_percentile__2100',\n",
       "       'RCP_4.5__50th_percentile__2100', 'RCP_4.5__95th_percentile__2100',\n",
       "       'RCP_8.5__5th_percentile__2100', 'RCP_8.5__50th_percentile__2100',\n",
       "       'RCP_8.5__95th_percentile__2100'],\n",
       "      dtype='object')"
      ]
     },
     "execution_count": 5,
     "metadata": {},
     "output_type": "execute_result"
    }
   ],
   "source": [
    "# Adjust the data\n",
    "adjusted_wetland_data = wetland_data[22:]\n",
    "\n",
    "# Set the first row as the header and reset index\n",
    "adjusted_wetland_data.columns = adjusted_wetland_data.iloc[0]\n",
    "adjusted_wetland_data = adjusted_wetland_data[1:].reset_index(drop=True)\n",
    "\n",
    "# Drop the index column if it has been set as a column\n",
    "adjusted_wetland_data.reset_index(drop=True, inplace=True)\n",
    "\n",
    "# Rename columns to ensure no extra index is included\n",
    "adjusted_wetland_data.columns.name = None\n",
    "\n",
    "# Filter columns explicitly\n",
    "columns_to_keep = [col for col in adjusted_wetland_data.columns \n",
    "                    if 'County' in col or '2000' in col or '2100' in col]\n",
    "adjusted_wetland_data = adjusted_wetland_data[columns_to_keep]\n",
    "adjusted_wetland_data.columns"
   ]
  },
  {
   "cell_type": "code",
   "execution_count": 6,
   "metadata": {
    "execution": {
     "iopub.execute_input": "2024-10-01T22:12:22.364876Z",
     "iopub.status.busy": "2024-10-01T22:12:22.364659Z",
     "iopub.status.idle": "2024-10-01T22:12:22.371343Z",
     "shell.execute_reply": "2024-10-01T22:12:22.370861Z",
     "shell.execute_reply.started": "2024-10-01T22:12:22.364858Z"
    }
   },
   "outputs": [],
   "source": [
    "# Function to calculate percent change between 2000 and 2100 columns\n",
    "def calculate_percent_change(data, leave_alone=[]):\n",
    "    # Convert columns to numeric, forcing non-numeric to NaN (skip columns in leave_alone)\n",
    "    numeric_data = data.copy()\n",
    "    for col in data.columns:\n",
    "        if col not in leave_alone:\n",
    "            numeric_data[col] = pd.to_numeric(data[col], errors='coerce')\n",
    "    \n",
    "    # Define columns for 2000 and 2100\n",
    "    cols_2000 = [col for col in numeric_data.columns if '2000' in col]\n",
    "    cols_2100 = [col for col in numeric_data.columns if '2100' in col]\n",
    "    \n",
    "    # Calculate percent change\n",
    "    percent_change = pd.DataFrame()\n",
    "\n",
    "    for cols_2000 in cols_2000:\n",
    "        # Find the matching 2100 column\n",
    "        col_2100 = cols_2000.replace('2000', '2100')\n",
    "\n",
    "        if col_2100 in cols_2100:\n",
    "            # Calculate percent change, handling NaN values\n",
    "            percent_change[cols_2000 + '_to_' + col_2100] = (\n",
    "                (numeric_data[col_2100] - numeric_data[cols_2000]) / numeric_data[cols_2000]\n",
    "            ) * 100\n",
    "    \n",
    "    # Concatenate the percent change DataFrame with the original numeric data\n",
    "    result = pd.concat([numeric_data, percent_change], axis=1)\n",
    "    \n",
    "    return result\n",
    "\n",
    "# Function to rename columns, allowing some to be left unchanged\n",
    "def rename_columns(data, leave_alone=[]):\n",
    "    def rename_column(col):\n",
    "        if col in leave_alone:\n",
    "            return col\n",
    "        words = col.split('_')\n",
    "        return '_'.join(words[:4]) + '_percent_change'\n",
    "    \n",
    "    # Apply renaming function to columns\n",
    "    data.columns = [rename_column(col) for col in data.columns]\n",
    "    return data\n",
    "\n",
    "# List of columns to leave unchanged\n",
    "column_leave_alone = ['County']"
   ]
  },
  {
   "cell_type": "code",
   "execution_count": 7,
   "metadata": {
    "execution": {
     "iopub.execute_input": "2024-10-01T22:12:22.372443Z",
     "iopub.status.busy": "2024-10-01T22:12:22.372164Z",
     "iopub.status.idle": "2024-10-01T22:12:22.394896Z",
     "shell.execute_reply": "2024-10-01T22:12:22.394466Z",
     "shell.execute_reply.started": "2024-10-01T22:12:22.372428Z"
    }
   },
   "outputs": [
    {
     "data": {
      "text/html": [
       "<div>\n",
       "<style scoped>\n",
       "    .dataframe tbody tr th:only-of-type {\n",
       "        vertical-align: middle;\n",
       "    }\n",
       "\n",
       "    .dataframe tbody tr th {\n",
       "        vertical-align: top;\n",
       "    }\n",
       "\n",
       "    .dataframe thead th {\n",
       "        text-align: right;\n",
       "    }\n",
       "</style>\n",
       "<table border=\"1\" class=\"dataframe\">\n",
       "  <thead>\n",
       "    <tr style=\"text-align: right;\">\n",
       "      <th></th>\n",
       "      <th>county</th>\n",
       "      <th>rcp_2.6__5th_percent_change</th>\n",
       "      <th>rcp_2.6__50th_percent_change</th>\n",
       "      <th>rcp_2.6__95th_percent_change</th>\n",
       "      <th>rcp_4.5__5th_percent_change</th>\n",
       "      <th>rcp_4.5__50th_percent_change</th>\n",
       "      <th>rcp_4.5__95th_percent_change</th>\n",
       "      <th>rcp_8.5__5th_percent_change</th>\n",
       "      <th>rcp_8.5__50th_percent_change</th>\n",
       "      <th>rcp_8.5__95th_percent_change</th>\n",
       "    </tr>\n",
       "  </thead>\n",
       "  <tbody>\n",
       "    <tr>\n",
       "      <th>0</th>\n",
       "      <td>alameda</td>\n",
       "      <td>0.0</td>\n",
       "      <td>-0.498753</td>\n",
       "      <td>-16.708229</td>\n",
       "      <td>0.0</td>\n",
       "      <td>-3.740648</td>\n",
       "      <td>-21.945137</td>\n",
       "      <td>-0.498753</td>\n",
       "      <td>-10.723192</td>\n",
       "      <td>-38.902743</td>\n",
       "    </tr>\n",
       "    <tr>\n",
       "      <th>1</th>\n",
       "      <td>alpine</td>\n",
       "      <td>NaN</td>\n",
       "      <td>NaN</td>\n",
       "      <td>NaN</td>\n",
       "      <td>NaN</td>\n",
       "      <td>NaN</td>\n",
       "      <td>NaN</td>\n",
       "      <td>NaN</td>\n",
       "      <td>NaN</td>\n",
       "      <td>NaN</td>\n",
       "    </tr>\n",
       "    <tr>\n",
       "      <th>2</th>\n",
       "      <td>amador</td>\n",
       "      <td>NaN</td>\n",
       "      <td>NaN</td>\n",
       "      <td>NaN</td>\n",
       "      <td>NaN</td>\n",
       "      <td>NaN</td>\n",
       "      <td>NaN</td>\n",
       "      <td>NaN</td>\n",
       "      <td>NaN</td>\n",
       "      <td>NaN</td>\n",
       "    </tr>\n",
       "  </tbody>\n",
       "</table>\n",
       "</div>"
      ],
      "text/plain": [
       "    county  rcp_2.6__5th_percent_change  rcp_2.6__50th_percent_change  \\\n",
       "0  alameda                          0.0                     -0.498753   \n",
       "1   alpine                          NaN                           NaN   \n",
       "2   amador                          NaN                           NaN   \n",
       "\n",
       "   rcp_2.6__95th_percent_change  rcp_4.5__5th_percent_change  \\\n",
       "0                    -16.708229                          0.0   \n",
       "1                           NaN                          NaN   \n",
       "2                           NaN                          NaN   \n",
       "\n",
       "   rcp_4.5__50th_percent_change  rcp_4.5__95th_percent_change  \\\n",
       "0                     -3.740648                    -21.945137   \n",
       "1                           NaN                           NaN   \n",
       "2                           NaN                           NaN   \n",
       "\n",
       "   rcp_8.5__5th_percent_change  rcp_8.5__50th_percent_change  \\\n",
       "0                    -0.498753                    -10.723192   \n",
       "1                          NaN                           NaN   \n",
       "2                          NaN                           NaN   \n",
       "\n",
       "   rcp_8.5__95th_percent_change  \n",
       "0                    -38.902743  \n",
       "1                           NaN  \n",
       "2                           NaN  "
      ]
     },
     "execution_count": 7,
     "metadata": {},
     "output_type": "execute_result"
    }
   ],
   "source": [
    "# Run the calculation and renaming\n",
    "adjusted_wetland_metric = calculate_percent_change(adjusted_wetland_data, leave_alone=column_leave_alone)\n",
    "\n",
    "# Filter for columns that contain 'County' or 'to'\n",
    "filtered_columns = [col for col in adjusted_wetland_metric.columns if 'County' in col or 'to' in col]\n",
    "\n",
    "# Create a new DataFrame with only the filtered columns\n",
    "filtered_wetland_metric = adjusted_wetland_metric[filtered_columns]\n",
    "# Remove duplicate columns\n",
    "filtered_wetland_metric = filtered_wetland_metric.loc[:, ~filtered_wetland_metric.columns.duplicated()]\n",
    "\n",
    "wetland_metric_percent_change = rename_columns(filtered_wetland_metric, leave_alone=column_leave_alone)\n",
    "\n",
    "wetland_metric_percent_change.columns = wetland_metric_percent_change.columns.str.lower()\n",
    "wetland_metric_percent_change = wetland_metric_percent_change.applymap(lambda s: s.lower() if type(s) == str else s)\n",
    "\n",
    "# Display the resulting DataFrame\n",
    "wetland_metric_percent_change.head(3)"
   ]
  },
  {
   "cell_type": "code",
   "execution_count": 8,
   "metadata": {
    "execution": {
     "iopub.execute_input": "2024-10-01T22:12:22.395713Z",
     "iopub.status.busy": "2024-10-01T22:12:22.395566Z",
     "iopub.status.idle": "2024-10-01T22:12:24.231365Z",
     "shell.execute_reply": "2024-10-01T22:12:24.231007Z",
     "shell.execute_reply.started": "2024-10-01T22:12:22.395701Z"
    }
   },
   "outputs": [
    {
     "data": {
      "text/html": [
       "<div>\n",
       "<style scoped>\n",
       "    .dataframe tbody tr th:only-of-type {\n",
       "        vertical-align: middle;\n",
       "    }\n",
       "\n",
       "    .dataframe tbody tr th {\n",
       "        vertical-align: top;\n",
       "    }\n",
       "\n",
       "    .dataframe thead th {\n",
       "        text-align: right;\n",
       "    }\n",
       "</style>\n",
       "<table border=\"1\" class=\"dataframe\">\n",
       "  <thead>\n",
       "    <tr style=\"text-align: right;\">\n",
       "      <th></th>\n",
       "      <th>tract</th>\n",
       "      <th>countyfp</th>\n",
       "      <th>county</th>\n",
       "    </tr>\n",
       "  </thead>\n",
       "  <tbody>\n",
       "    <tr>\n",
       "      <th>0</th>\n",
       "      <td>06085504321</td>\n",
       "      <td>085</td>\n",
       "      <td>santa clara</td>\n",
       "    </tr>\n",
       "    <tr>\n",
       "      <th>1</th>\n",
       "      <td>06085504410</td>\n",
       "      <td>085</td>\n",
       "      <td>santa clara</td>\n",
       "    </tr>\n",
       "    <tr>\n",
       "      <th>2</th>\n",
       "      <td>06085507003</td>\n",
       "      <td>085</td>\n",
       "      <td>santa clara</td>\n",
       "    </tr>\n",
       "  </tbody>\n",
       "</table>\n",
       "</div>"
      ],
      "text/plain": [
       "         tract countyfp       county\n",
       "0  06085504321      085  santa clara\n",
       "1  06085504410      085  santa clara\n",
       "2  06085507003      085  santa clara"
      ]
     },
     "execution_count": 8,
     "metadata": {},
     "output_type": "execute_result"
    }
   ],
   "source": [
    "# read in CA census tiger file\n",
    "ca_tract_county = \"s3://ca-climate-index/0_map_data/ca_tracts_county.csv\"\n",
    "ca_tract_county = gpd.read_file(ca_tract_county)\n",
    "ca_tract_county = ca_tract_county.drop(columns={'field_1'})\n",
    "ca_tract_county.columns = ca_tract_county.columns.str.lower()\n",
    "ca_tract_county = ca_tract_county.applymap(lambda s: s.lower() if type(s) == str else s)\n",
    "\n",
    "ca_tract_county.head(3)"
   ]
  },
  {
   "cell_type": "code",
   "execution_count": 9,
   "metadata": {
    "execution": {
     "iopub.execute_input": "2024-10-01T22:12:24.232196Z",
     "iopub.status.busy": "2024-10-01T22:12:24.231945Z",
     "iopub.status.idle": "2024-10-01T22:12:24.242243Z",
     "shell.execute_reply": "2024-10-01T22:12:24.241872Z",
     "shell.execute_reply.started": "2024-10-01T22:12:24.232185Z"
    }
   },
   "outputs": [
    {
     "name": "stderr",
     "output_type": "stream",
     "text": [
      "/var/folders/6g/b2z199kx72x11z3xdvsz3ytr0000gn/T/ipykernel_59066/2344416328.py:4: SettingWithCopyWarning: \n",
      "A value is trying to be set on a copy of a slice from a DataFrame.\n",
      "Try using .loc[row_indexer,col_indexer] = value instead\n",
      "\n",
      "See the caveats in the documentation: https://pandas.pydata.org/pandas-docs/stable/user_guide/indexing.html#returning-a-view-versus-a-copy\n",
      "  wetland_metric_final['GEOID'] = wetland_metric_final['tract']\n"
     ]
    },
    {
     "data": {
      "text/html": [
       "<div>\n",
       "<style scoped>\n",
       "    .dataframe tbody tr th:only-of-type {\n",
       "        vertical-align: middle;\n",
       "    }\n",
       "\n",
       "    .dataframe tbody tr th {\n",
       "        vertical-align: top;\n",
       "    }\n",
       "\n",
       "    .dataframe thead th {\n",
       "        text-align: right;\n",
       "    }\n",
       "</style>\n",
       "<table border=\"1\" class=\"dataframe\">\n",
       "  <thead>\n",
       "    <tr style=\"text-align: right;\">\n",
       "      <th></th>\n",
       "      <th>county</th>\n",
       "      <th>rcp_4.5__50th_percent_change</th>\n",
       "      <th>GEOID</th>\n",
       "    </tr>\n",
       "  </thead>\n",
       "  <tbody>\n",
       "    <tr>\n",
       "      <th>0</th>\n",
       "      <td>santa clara</td>\n",
       "      <td>-4.854369</td>\n",
       "      <td>06085504321</td>\n",
       "    </tr>\n",
       "    <tr>\n",
       "      <th>1</th>\n",
       "      <td>santa clara</td>\n",
       "      <td>-4.854369</td>\n",
       "      <td>06085504410</td>\n",
       "    </tr>\n",
       "    <tr>\n",
       "      <th>2</th>\n",
       "      <td>santa clara</td>\n",
       "      <td>-4.854369</td>\n",
       "      <td>06085507003</td>\n",
       "    </tr>\n",
       "    <tr>\n",
       "      <th>3</th>\n",
       "      <td>santa clara</td>\n",
       "      <td>-4.854369</td>\n",
       "      <td>06085507004</td>\n",
       "    </tr>\n",
       "    <tr>\n",
       "      <th>4</th>\n",
       "      <td>santa clara</td>\n",
       "      <td>-4.854369</td>\n",
       "      <td>06085502204</td>\n",
       "    </tr>\n",
       "    <tr>\n",
       "      <th>...</th>\n",
       "      <td>...</td>\n",
       "      <td>...</td>\n",
       "      <td>...</td>\n",
       "    </tr>\n",
       "    <tr>\n",
       "      <th>9124</th>\n",
       "      <td>orange</td>\n",
       "      <td>-5.952381</td>\n",
       "      <td>06059001303</td>\n",
       "    </tr>\n",
       "    <tr>\n",
       "      <th>9125</th>\n",
       "      <td>orange</td>\n",
       "      <td>-5.952381</td>\n",
       "      <td>06059001304</td>\n",
       "    </tr>\n",
       "    <tr>\n",
       "      <th>9126</th>\n",
       "      <td>orange</td>\n",
       "      <td>-5.952381</td>\n",
       "      <td>06059001401</td>\n",
       "    </tr>\n",
       "    <tr>\n",
       "      <th>9127</th>\n",
       "      <td>contra costa</td>\n",
       "      <td>-7.142857</td>\n",
       "      <td>06013367200</td>\n",
       "    </tr>\n",
       "    <tr>\n",
       "      <th>9128</th>\n",
       "      <td>los angeles</td>\n",
       "      <td>-3.846154</td>\n",
       "      <td>06037578100</td>\n",
       "    </tr>\n",
       "  </tbody>\n",
       "</table>\n",
       "<p>9129 rows × 3 columns</p>\n",
       "</div>"
      ],
      "text/plain": [
       "            county  rcp_4.5__50th_percent_change        GEOID\n",
       "0      santa clara                     -4.854369  06085504321\n",
       "1      santa clara                     -4.854369  06085504410\n",
       "2      santa clara                     -4.854369  06085507003\n",
       "3      santa clara                     -4.854369  06085507004\n",
       "4      santa clara                     -4.854369  06085502204\n",
       "...            ...                           ...          ...\n",
       "9124        orange                     -5.952381  06059001303\n",
       "9125        orange                     -5.952381  06059001304\n",
       "9126        orange                     -5.952381  06059001401\n",
       "9127  contra costa                     -7.142857  06013367200\n",
       "9128   los angeles                     -3.846154  06037578100\n",
       "\n",
       "[9129 rows x 3 columns]"
      ]
     },
     "execution_count": 9,
     "metadata": {},
     "output_type": "execute_result"
    }
   ],
   "source": [
    "wetland_metric_merge = pd.merge(ca_tract_county, wetland_metric_percent_change, on='county', how='left')\n",
    "final_columns = ['tract', 'county', 'rcp_4.5__50th_percent_change']\n",
    "wetland_metric_final = wetland_metric_merge[final_columns]\n",
    "wetland_metric_final['GEOID'] = wetland_metric_final['tract']\n",
    "wetland_metric_final.drop(columns=['tract'])"
   ]
  },
  {
   "cell_type": "code",
   "execution_count": 10,
   "metadata": {
    "execution": {
     "iopub.execute_input": "2024-10-01T22:12:24.244541Z",
     "iopub.status.busy": "2024-10-01T22:12:24.244375Z",
     "iopub.status.idle": "2024-10-01T22:12:34.518522Z",
     "shell.execute_reply": "2024-10-01T22:12:34.518150Z",
     "shell.execute_reply.started": "2024-10-01T22:12:24.244531Z"
    }
   },
   "outputs": [
    {
     "data": {
      "text/html": [
       "<div>\n",
       "<style scoped>\n",
       "    .dataframe tbody tr th:only-of-type {\n",
       "        vertical-align: middle;\n",
       "    }\n",
       "\n",
       "    .dataframe tbody tr th {\n",
       "        vertical-align: top;\n",
       "    }\n",
       "\n",
       "    .dataframe thead th {\n",
       "        text-align: right;\n",
       "    }\n",
       "</style>\n",
       "<table border=\"1\" class=\"dataframe\">\n",
       "  <thead>\n",
       "    <tr style=\"text-align: right;\">\n",
       "      <th></th>\n",
       "      <th>tract</th>\n",
       "      <th>county</th>\n",
       "      <th>rcp_4.5__50th_percent_change</th>\n",
       "      <th>GEOID</th>\n",
       "      <th>STATEFP</th>\n",
       "      <th>COUNTYFP</th>\n",
       "      <th>TRACTCE</th>\n",
       "      <th>NAME</th>\n",
       "      <th>NAMELSAD</th>\n",
       "      <th>MTFCC</th>\n",
       "      <th>FUNCSTAT</th>\n",
       "      <th>ALAND</th>\n",
       "      <th>AWATER</th>\n",
       "      <th>INTPTLAT</th>\n",
       "      <th>INTPTLON</th>\n",
       "      <th>geometry</th>\n",
       "    </tr>\n",
       "  </thead>\n",
       "  <tbody>\n",
       "    <tr>\n",
       "      <th>0</th>\n",
       "      <td>06085504321</td>\n",
       "      <td>santa clara</td>\n",
       "      <td>-4.854369</td>\n",
       "      <td>06085504321</td>\n",
       "      <td>06</td>\n",
       "      <td>085</td>\n",
       "      <td>504321</td>\n",
       "      <td>5043.21</td>\n",
       "      <td>Census Tract 5043.21</td>\n",
       "      <td>G5020</td>\n",
       "      <td>S</td>\n",
       "      <td>1450237</td>\n",
       "      <td>0</td>\n",
       "      <td>+37.3931319</td>\n",
       "      <td>-121.8651427</td>\n",
       "      <td>POLYGON ((-121.87556 37.39924, -121.87535 37.3...</td>\n",
       "    </tr>\n",
       "    <tr>\n",
       "      <th>1</th>\n",
       "      <td>06085504410</td>\n",
       "      <td>santa clara</td>\n",
       "      <td>-4.854369</td>\n",
       "      <td>06085504410</td>\n",
       "      <td>06</td>\n",
       "      <td>085</td>\n",
       "      <td>504410</td>\n",
       "      <td>5044.10</td>\n",
       "      <td>Census Tract 5044.10</td>\n",
       "      <td>G5020</td>\n",
       "      <td>S</td>\n",
       "      <td>1102136</td>\n",
       "      <td>0</td>\n",
       "      <td>+37.4093719</td>\n",
       "      <td>-121.8788884</td>\n",
       "      <td>POLYGON ((-121.88886 37.40758, -121.88576 37.4...</td>\n",
       "    </tr>\n",
       "    <tr>\n",
       "      <th>2</th>\n",
       "      <td>06085507003</td>\n",
       "      <td>santa clara</td>\n",
       "      <td>-4.854369</td>\n",
       "      <td>06085507003</td>\n",
       "      <td>06</td>\n",
       "      <td>085</td>\n",
       "      <td>507003</td>\n",
       "      <td>5070.03</td>\n",
       "      <td>Census Tract 5070.03</td>\n",
       "      <td>G5020</td>\n",
       "      <td>S</td>\n",
       "      <td>9529865</td>\n",
       "      <td>0</td>\n",
       "      <td>+37.2199936</td>\n",
       "      <td>-121.9979512</td>\n",
       "      <td>POLYGON ((-122.02489 37.21683, -122.02458 37.2...</td>\n",
       "    </tr>\n",
       "    <tr>\n",
       "      <th>3</th>\n",
       "      <td>06085507004</td>\n",
       "      <td>santa clara</td>\n",
       "      <td>-4.854369</td>\n",
       "      <td>06085507004</td>\n",
       "      <td>06</td>\n",
       "      <td>085</td>\n",
       "      <td>507004</td>\n",
       "      <td>5070.04</td>\n",
       "      <td>Census Tract 5070.04</td>\n",
       "      <td>G5020</td>\n",
       "      <td>S</td>\n",
       "      <td>2424447</td>\n",
       "      <td>0</td>\n",
       "      <td>+37.2260144</td>\n",
       "      <td>-121.9763816</td>\n",
       "      <td>POLYGON ((-121.99304 37.22562, -121.99249 37.2...</td>\n",
       "    </tr>\n",
       "    <tr>\n",
       "      <th>4</th>\n",
       "      <td>06085502204</td>\n",
       "      <td>santa clara</td>\n",
       "      <td>-4.854369</td>\n",
       "      <td>06085502204</td>\n",
       "      <td>06</td>\n",
       "      <td>085</td>\n",
       "      <td>502204</td>\n",
       "      <td>5022.04</td>\n",
       "      <td>Census Tract 5022.04</td>\n",
       "      <td>G5020</td>\n",
       "      <td>S</td>\n",
       "      <td>331145</td>\n",
       "      <td>0</td>\n",
       "      <td>+37.3013832</td>\n",
       "      <td>-121.9258424</td>\n",
       "      <td>POLYGON ((-121.93167 37.29803, -121.92801 37.3...</td>\n",
       "    </tr>\n",
       "  </tbody>\n",
       "</table>\n",
       "</div>"
      ],
      "text/plain": [
       "         tract       county  rcp_4.5__50th_percent_change        GEOID  \\\n",
       "0  06085504321  santa clara                     -4.854369  06085504321   \n",
       "1  06085504410  santa clara                     -4.854369  06085504410   \n",
       "2  06085507003  santa clara                     -4.854369  06085507003   \n",
       "3  06085507004  santa clara                     -4.854369  06085507004   \n",
       "4  06085502204  santa clara                     -4.854369  06085502204   \n",
       "\n",
       "  STATEFP COUNTYFP TRACTCE     NAME              NAMELSAD  MTFCC FUNCSTAT  \\\n",
       "0      06      085  504321  5043.21  Census Tract 5043.21  G5020        S   \n",
       "1      06      085  504410  5044.10  Census Tract 5044.10  G5020        S   \n",
       "2      06      085  507003  5070.03  Census Tract 5070.03  G5020        S   \n",
       "3      06      085  507004  5070.04  Census Tract 5070.04  G5020        S   \n",
       "4      06      085  502204  5022.04  Census Tract 5022.04  G5020        S   \n",
       "\n",
       "     ALAND  AWATER     INTPTLAT      INTPTLON  \\\n",
       "0  1450237       0  +37.3931319  -121.8651427   \n",
       "1  1102136       0  +37.4093719  -121.8788884   \n",
       "2  9529865       0  +37.2199936  -121.9979512   \n",
       "3  2424447       0  +37.2260144  -121.9763816   \n",
       "4   331145       0  +37.3013832  -121.9258424   \n",
       "\n",
       "                                            geometry  \n",
       "0  POLYGON ((-121.87556 37.39924, -121.87535 37.3...  \n",
       "1  POLYGON ((-121.88886 37.40758, -121.88576 37.4...  \n",
       "2  POLYGON ((-122.02489 37.21683, -122.02458 37.2...  \n",
       "3  POLYGON ((-121.99304 37.22562, -121.99249 37.2...  \n",
       "4  POLYGON ((-121.93167 37.29803, -121.92801 37.3...  "
      ]
     },
     "execution_count": 10,
     "metadata": {},
     "output_type": "execute_result"
    }
   ],
   "source": [
    "gdf = add_census_tracts(wetland_metric_final)\n",
    "gdf.head(5)"
   ]
  },
  {
   "cell_type": "markdown",
   "metadata": {},
   "source": [
    "## Step 2: Identify SLR regions and create binary layer"
   ]
  },
  {
   "cell_type": "code",
   "execution_count": 11,
   "metadata": {
    "execution": {
     "iopub.execute_input": "2024-10-01T22:12:34.519360Z",
     "iopub.status.busy": "2024-10-01T22:12:34.519248Z",
     "iopub.status.idle": "2024-10-01T22:12:34.525593Z",
     "shell.execute_reply": "2024-10-01T22:12:34.525317Z",
     "shell.execute_reply.started": "2024-10-01T22:12:34.519351Z"
    }
   },
   "outputs": [
    {
     "name": "stdout",
     "output_type": "stream",
     "text": [
      "# of non-impacted census tracts:  2306\n"
     ]
    },
    {
     "data": {
      "text/plain": [
       "['kern',\n",
       " 'san bernardino',\n",
       " 'el dorado',\n",
       " 'placer',\n",
       " 'riverside',\n",
       " 'sutter',\n",
       " 'tulare',\n",
       " 'alpine',\n",
       " 'stanislaus',\n",
       " 'trinity',\n",
       " 'amador',\n",
       " 'fresno',\n",
       " 'tehama',\n",
       " 'merced',\n",
       " 'butte',\n",
       " 'lake',\n",
       " 'madera',\n",
       " 'lassen',\n",
       " 'imperial',\n",
       " 'mariposa',\n",
       " 'nevada',\n",
       " 'yuba',\n",
       " 'tuolumne',\n",
       " 'calaveras',\n",
       " 'shasta',\n",
       " 'siskiyou',\n",
       " 'san benito',\n",
       " 'plumas',\n",
       " 'sierra',\n",
       " 'kings',\n",
       " 'colusa',\n",
       " 'modoc',\n",
       " 'inyo',\n",
       " 'glenn',\n",
       " 'mono']"
      ]
     },
     "execution_count": 11,
     "metadata": {},
     "output_type": "execute_result"
    }
   ],
   "source": [
    "# counties not impacted by SLR\n",
    "no_impact_counties = gdf.loc[gdf['rcp_4.5__50th_percent_change'].isnull()]['county'].unique().tolist()\n",
    "print('# of non-impacted census tracts: ', len(gdf.loc[gdf['rcp_4.5__50th_percent_change'].isnull()]))\n",
    "no_impact_counties"
   ]
  },
  {
   "cell_type": "code",
   "execution_count": 12,
   "metadata": {
    "execution": {
     "iopub.execute_input": "2024-10-01T22:12:34.526247Z",
     "iopub.status.busy": "2024-10-01T22:12:34.526137Z",
     "iopub.status.idle": "2024-10-01T22:12:34.533497Z",
     "shell.execute_reply": "2024-10-01T22:12:34.533241Z",
     "shell.execute_reply.started": "2024-10-01T22:12:34.526238Z"
    }
   },
   "outputs": [
    {
     "name": "stdout",
     "output_type": "stream",
     "text": [
      "# of SLR impacted census tracts:  6823\n"
     ]
    },
    {
     "data": {
      "text/plain": [
       "['santa clara',\n",
       " 'orange',\n",
       " 'alameda',\n",
       " 'napa',\n",
       " 'san francisco',\n",
       " 'monterey',\n",
       " 'contra costa',\n",
       " 'los angeles',\n",
       " 'san joaquin',\n",
       " 'sacramento',\n",
       " 'sonoma',\n",
       " 'del norte',\n",
       " 'ventura',\n",
       " 'santa barbara',\n",
       " 'yolo',\n",
       " 'san mateo',\n",
       " 'solano',\n",
       " 'san luis obispo',\n",
       " 'san diego',\n",
       " 'marin',\n",
       " 'santa cruz',\n",
       " 'humboldt',\n",
       " 'mendocino']"
      ]
     },
     "execution_count": 12,
     "metadata": {},
     "output_type": "execute_result"
    }
   ],
   "source": [
    "# slr impacted counties\n",
    "impact_counties = gdf.loc[gdf['rcp_4.5__50th_percent_change'] < 100]['county'].unique().tolist()\n",
    "print('# of SLR impacted census tracts: ', len(gdf.loc[gdf['rcp_4.5__50th_percent_change'] < 100]))\n",
    "impact_counties"
   ]
  },
  {
   "cell_type": "markdown",
   "metadata": {},
   "source": [
    "Create new binary layer of SLR impact"
   ]
  },
  {
   "cell_type": "code",
   "execution_count": 13,
   "metadata": {
    "execution": {
     "iopub.execute_input": "2024-10-01T22:12:34.534835Z",
     "iopub.status.busy": "2024-10-01T22:12:34.534702Z",
     "iopub.status.idle": "2024-10-01T22:12:34.549848Z",
     "shell.execute_reply": "2024-10-01T22:12:34.549506Z",
     "shell.execute_reply.started": "2024-10-01T22:12:34.534825Z"
    }
   },
   "outputs": [
    {
     "data": {
      "text/html": [
       "<div>\n",
       "<style scoped>\n",
       "    .dataframe tbody tr th:only-of-type {\n",
       "        vertical-align: middle;\n",
       "    }\n",
       "\n",
       "    .dataframe tbody tr th {\n",
       "        vertical-align: top;\n",
       "    }\n",
       "\n",
       "    .dataframe thead th {\n",
       "        text-align: right;\n",
       "    }\n",
       "</style>\n",
       "<table border=\"1\" class=\"dataframe\">\n",
       "  <thead>\n",
       "    <tr style=\"text-align: right;\">\n",
       "      <th></th>\n",
       "      <th>tract</th>\n",
       "      <th>county</th>\n",
       "      <th>rcp_4.5__50th_percent_change</th>\n",
       "      <th>GEOID</th>\n",
       "      <th>STATEFP</th>\n",
       "      <th>COUNTYFP</th>\n",
       "      <th>TRACTCE</th>\n",
       "      <th>NAME</th>\n",
       "      <th>NAMELSAD</th>\n",
       "      <th>MTFCC</th>\n",
       "      <th>FUNCSTAT</th>\n",
       "      <th>ALAND</th>\n",
       "      <th>AWATER</th>\n",
       "      <th>INTPTLAT</th>\n",
       "      <th>INTPTLON</th>\n",
       "      <th>geometry</th>\n",
       "      <th>slr_impacted</th>\n",
       "    </tr>\n",
       "  </thead>\n",
       "  <tbody>\n",
       "    <tr>\n",
       "      <th>0</th>\n",
       "      <td>06085504321</td>\n",
       "      <td>santa clara</td>\n",
       "      <td>-4.854369</td>\n",
       "      <td>06085504321</td>\n",
       "      <td>06</td>\n",
       "      <td>085</td>\n",
       "      <td>504321</td>\n",
       "      <td>5043.21</td>\n",
       "      <td>Census Tract 5043.21</td>\n",
       "      <td>G5020</td>\n",
       "      <td>S</td>\n",
       "      <td>1450237</td>\n",
       "      <td>0</td>\n",
       "      <td>+37.3931319</td>\n",
       "      <td>-121.8651427</td>\n",
       "      <td>POLYGON ((-121.87556 37.39924, -121.87535 37.3...</td>\n",
       "      <td>1</td>\n",
       "    </tr>\n",
       "    <tr>\n",
       "      <th>1</th>\n",
       "      <td>06085504410</td>\n",
       "      <td>santa clara</td>\n",
       "      <td>-4.854369</td>\n",
       "      <td>06085504410</td>\n",
       "      <td>06</td>\n",
       "      <td>085</td>\n",
       "      <td>504410</td>\n",
       "      <td>5044.10</td>\n",
       "      <td>Census Tract 5044.10</td>\n",
       "      <td>G5020</td>\n",
       "      <td>S</td>\n",
       "      <td>1102136</td>\n",
       "      <td>0</td>\n",
       "      <td>+37.4093719</td>\n",
       "      <td>-121.8788884</td>\n",
       "      <td>POLYGON ((-121.88886 37.40758, -121.88576 37.4...</td>\n",
       "      <td>1</td>\n",
       "    </tr>\n",
       "    <tr>\n",
       "      <th>2</th>\n",
       "      <td>06085507003</td>\n",
       "      <td>santa clara</td>\n",
       "      <td>-4.854369</td>\n",
       "      <td>06085507003</td>\n",
       "      <td>06</td>\n",
       "      <td>085</td>\n",
       "      <td>507003</td>\n",
       "      <td>5070.03</td>\n",
       "      <td>Census Tract 5070.03</td>\n",
       "      <td>G5020</td>\n",
       "      <td>S</td>\n",
       "      <td>9529865</td>\n",
       "      <td>0</td>\n",
       "      <td>+37.2199936</td>\n",
       "      <td>-121.9979512</td>\n",
       "      <td>POLYGON ((-122.02489 37.21683, -122.02458 37.2...</td>\n",
       "      <td>1</td>\n",
       "    </tr>\n",
       "    <tr>\n",
       "      <th>3</th>\n",
       "      <td>06085507004</td>\n",
       "      <td>santa clara</td>\n",
       "      <td>-4.854369</td>\n",
       "      <td>06085507004</td>\n",
       "      <td>06</td>\n",
       "      <td>085</td>\n",
       "      <td>507004</td>\n",
       "      <td>5070.04</td>\n",
       "      <td>Census Tract 5070.04</td>\n",
       "      <td>G5020</td>\n",
       "      <td>S</td>\n",
       "      <td>2424447</td>\n",
       "      <td>0</td>\n",
       "      <td>+37.2260144</td>\n",
       "      <td>-121.9763816</td>\n",
       "      <td>POLYGON ((-121.99304 37.22562, -121.99249 37.2...</td>\n",
       "      <td>1</td>\n",
       "    </tr>\n",
       "    <tr>\n",
       "      <th>4</th>\n",
       "      <td>06085502204</td>\n",
       "      <td>santa clara</td>\n",
       "      <td>-4.854369</td>\n",
       "      <td>06085502204</td>\n",
       "      <td>06</td>\n",
       "      <td>085</td>\n",
       "      <td>502204</td>\n",
       "      <td>5022.04</td>\n",
       "      <td>Census Tract 5022.04</td>\n",
       "      <td>G5020</td>\n",
       "      <td>S</td>\n",
       "      <td>331145</td>\n",
       "      <td>0</td>\n",
       "      <td>+37.3013832</td>\n",
       "      <td>-121.9258424</td>\n",
       "      <td>POLYGON ((-121.93167 37.29803, -121.92801 37.3...</td>\n",
       "      <td>1</td>\n",
       "    </tr>\n",
       "    <tr>\n",
       "      <th>5</th>\n",
       "      <td>06085502203</td>\n",
       "      <td>santa clara</td>\n",
       "      <td>-4.854369</td>\n",
       "      <td>06085502203</td>\n",
       "      <td>06</td>\n",
       "      <td>085</td>\n",
       "      <td>502203</td>\n",
       "      <td>5022.03</td>\n",
       "      <td>Census Tract 5022.03</td>\n",
       "      <td>G5020</td>\n",
       "      <td>S</td>\n",
       "      <td>643887</td>\n",
       "      <td>0</td>\n",
       "      <td>+37.3063756</td>\n",
       "      <td>-121.9180681</td>\n",
       "      <td>POLYGON ((-121.92296 37.30281, -121.92296 37.3...</td>\n",
       "      <td>1</td>\n",
       "    </tr>\n",
       "    <tr>\n",
       "      <th>6</th>\n",
       "      <td>06085501902</td>\n",
       "      <td>santa clara</td>\n",
       "      <td>-4.854369</td>\n",
       "      <td>06085501902</td>\n",
       "      <td>06</td>\n",
       "      <td>085</td>\n",
       "      <td>501902</td>\n",
       "      <td>5019.02</td>\n",
       "      <td>Census Tract 5019.02</td>\n",
       "      <td>G5020</td>\n",
       "      <td>S</td>\n",
       "      <td>1064609</td>\n",
       "      <td>0</td>\n",
       "      <td>+37.3162127</td>\n",
       "      <td>-121.9087833</td>\n",
       "      <td>POLYGON ((-121.91513 37.31435, -121.91511 37.3...</td>\n",
       "      <td>1</td>\n",
       "    </tr>\n",
       "    <tr>\n",
       "      <th>7</th>\n",
       "      <td>06085502104</td>\n",
       "      <td>santa clara</td>\n",
       "      <td>-4.854369</td>\n",
       "      <td>06085502104</td>\n",
       "      <td>06</td>\n",
       "      <td>085</td>\n",
       "      <td>502104</td>\n",
       "      <td>5021.04</td>\n",
       "      <td>Census Tract 5021.04</td>\n",
       "      <td>G5020</td>\n",
       "      <td>S</td>\n",
       "      <td>770515</td>\n",
       "      <td>0</td>\n",
       "      <td>+37.3061059</td>\n",
       "      <td>-121.9278721</td>\n",
       "      <td>POLYGON ((-121.93179 37.31045, -121.93179 37.3...</td>\n",
       "      <td>1</td>\n",
       "    </tr>\n",
       "    <tr>\n",
       "      <th>8</th>\n",
       "      <td>06085502103</td>\n",
       "      <td>santa clara</td>\n",
       "      <td>-4.854369</td>\n",
       "      <td>06085502103</td>\n",
       "      <td>06</td>\n",
       "      <td>085</td>\n",
       "      <td>502103</td>\n",
       "      <td>5021.03</td>\n",
       "      <td>Census Tract 5021.03</td>\n",
       "      <td>G5020</td>\n",
       "      <td>S</td>\n",
       "      <td>1029808</td>\n",
       "      <td>0</td>\n",
       "      <td>+37.3133200</td>\n",
       "      <td>-121.9236600</td>\n",
       "      <td>POLYGON ((-121.93184 37.31695, -121.93168 37.3...</td>\n",
       "      <td>1</td>\n",
       "    </tr>\n",
       "    <tr>\n",
       "      <th>9</th>\n",
       "      <td>06085504424</td>\n",
       "      <td>santa clara</td>\n",
       "      <td>-4.854369</td>\n",
       "      <td>06085504424</td>\n",
       "      <td>06</td>\n",
       "      <td>085</td>\n",
       "      <td>504424</td>\n",
       "      <td>5044.24</td>\n",
       "      <td>Census Tract 5044.24</td>\n",
       "      <td>G5020</td>\n",
       "      <td>S</td>\n",
       "      <td>25455452</td>\n",
       "      <td>119350</td>\n",
       "      <td>+37.4524963</td>\n",
       "      <td>-121.8635532</td>\n",
       "      <td>POLYGON ((-121.90392 37.46454, -121.90376 37.4...</td>\n",
       "      <td>1</td>\n",
       "    </tr>\n",
       "  </tbody>\n",
       "</table>\n",
       "</div>"
      ],
      "text/plain": [
       "         tract       county  rcp_4.5__50th_percent_change        GEOID  \\\n",
       "0  06085504321  santa clara                     -4.854369  06085504321   \n",
       "1  06085504410  santa clara                     -4.854369  06085504410   \n",
       "2  06085507003  santa clara                     -4.854369  06085507003   \n",
       "3  06085507004  santa clara                     -4.854369  06085507004   \n",
       "4  06085502204  santa clara                     -4.854369  06085502204   \n",
       "5  06085502203  santa clara                     -4.854369  06085502203   \n",
       "6  06085501902  santa clara                     -4.854369  06085501902   \n",
       "7  06085502104  santa clara                     -4.854369  06085502104   \n",
       "8  06085502103  santa clara                     -4.854369  06085502103   \n",
       "9  06085504424  santa clara                     -4.854369  06085504424   \n",
       "\n",
       "  STATEFP COUNTYFP TRACTCE     NAME              NAMELSAD  MTFCC FUNCSTAT  \\\n",
       "0      06      085  504321  5043.21  Census Tract 5043.21  G5020        S   \n",
       "1      06      085  504410  5044.10  Census Tract 5044.10  G5020        S   \n",
       "2      06      085  507003  5070.03  Census Tract 5070.03  G5020        S   \n",
       "3      06      085  507004  5070.04  Census Tract 5070.04  G5020        S   \n",
       "4      06      085  502204  5022.04  Census Tract 5022.04  G5020        S   \n",
       "5      06      085  502203  5022.03  Census Tract 5022.03  G5020        S   \n",
       "6      06      085  501902  5019.02  Census Tract 5019.02  G5020        S   \n",
       "7      06      085  502104  5021.04  Census Tract 5021.04  G5020        S   \n",
       "8      06      085  502103  5021.03  Census Tract 5021.03  G5020        S   \n",
       "9      06      085  504424  5044.24  Census Tract 5044.24  G5020        S   \n",
       "\n",
       "      ALAND  AWATER     INTPTLAT      INTPTLON  \\\n",
       "0   1450237       0  +37.3931319  -121.8651427   \n",
       "1   1102136       0  +37.4093719  -121.8788884   \n",
       "2   9529865       0  +37.2199936  -121.9979512   \n",
       "3   2424447       0  +37.2260144  -121.9763816   \n",
       "4    331145       0  +37.3013832  -121.9258424   \n",
       "5    643887       0  +37.3063756  -121.9180681   \n",
       "6   1064609       0  +37.3162127  -121.9087833   \n",
       "7    770515       0  +37.3061059  -121.9278721   \n",
       "8   1029808       0  +37.3133200  -121.9236600   \n",
       "9  25455452  119350  +37.4524963  -121.8635532   \n",
       "\n",
       "                                            geometry  slr_impacted  \n",
       "0  POLYGON ((-121.87556 37.39924, -121.87535 37.3...             1  \n",
       "1  POLYGON ((-121.88886 37.40758, -121.88576 37.4...             1  \n",
       "2  POLYGON ((-122.02489 37.21683, -122.02458 37.2...             1  \n",
       "3  POLYGON ((-121.99304 37.22562, -121.99249 37.2...             1  \n",
       "4  POLYGON ((-121.93167 37.29803, -121.92801 37.3...             1  \n",
       "5  POLYGON ((-121.92296 37.30281, -121.92296 37.3...             1  \n",
       "6  POLYGON ((-121.91513 37.31435, -121.91511 37.3...             1  \n",
       "7  POLYGON ((-121.93179 37.31045, -121.93179 37.3...             1  \n",
       "8  POLYGON ((-121.93184 37.31695, -121.93168 37.3...             1  \n",
       "9  POLYGON ((-121.90392 37.46454, -121.90376 37.4...             1  "
      ]
     },
     "execution_count": 13,
     "metadata": {},
     "output_type": "execute_result"
    }
   ],
   "source": [
    "# need to save a new binary layer of SLR imapct\n",
    "gdf['slr_impacted'] = gdf['rcp_4.5__50th_percent_change'].apply(lambda x: 1 if not pd.isnull(x) else 0)\n",
    "gdf.head(10)"
   ]
  },
  {
   "cell_type": "code",
   "execution_count": 14,
   "metadata": {
    "execution": {
     "iopub.execute_input": "2024-10-01T22:12:34.550415Z",
     "iopub.status.busy": "2024-10-01T22:12:34.550303Z",
     "iopub.status.idle": "2024-10-01T22:12:34.553890Z",
     "shell.execute_reply": "2024-10-01T22:12:34.553595Z",
     "shell.execute_reply.started": "2024-10-01T22:12:34.550405Z"
    }
   },
   "outputs": [
    {
     "data": {
      "text/plain": [
       "slr_impacted\n",
       "1    6823\n",
       "0    2306\n",
       "Name: count, dtype: int64"
      ]
     },
     "execution_count": 14,
     "metadata": {},
     "output_type": "execute_result"
    }
   ],
   "source": [
    "# confirming count of impacted slr tracts\n",
    "gdf.slr_impacted.value_counts()"
   ]
  },
  {
   "cell_type": "code",
   "execution_count": 15,
   "metadata": {
    "execution": {
     "iopub.execute_input": "2024-10-01T22:12:34.554577Z",
     "iopub.status.busy": "2024-10-01T22:12:34.554426Z",
     "iopub.status.idle": "2024-10-01T22:12:34.558097Z",
     "shell.execute_reply": "2024-10-01T22:12:34.557818Z",
     "shell.execute_reply.started": "2024-10-01T22:12:34.554565Z"
    }
   },
   "outputs": [],
   "source": [
    "# clean up before export\n",
    "gdf = gdf[['GEOID', 'county', 'geometry', 'COUNTYFP', 'slr_impacted']]"
   ]
  },
  {
   "cell_type": "code",
   "execution_count": 16,
   "metadata": {
    "execution": {
     "iopub.execute_input": "2024-10-01T22:12:34.558721Z",
     "iopub.status.busy": "2024-10-01T22:12:34.558601Z",
     "iopub.status.idle": "2024-10-01T22:12:35.653682Z",
     "shell.execute_reply": "2024-10-01T22:12:35.653310Z",
     "shell.execute_reply.started": "2024-10-01T22:12:34.558712Z"
    }
   },
   "outputs": [
    {
     "data": {
      "text/plain": [
       "<Axes: >"
      ]
     },
     "execution_count": 16,
     "metadata": {},
     "output_type": "execute_result"
    },
    {
     "data": {
      "image/png": "[encoded data removed]",
      "text/plain": [
       "<Figure size 640x480 with 2 Axes>"
      ]
     },
     "metadata": {},
     "output_type": "display_data"
    }
   ],
   "source": [
    "# visually confirm coastal areas have value of 1, inland areas have value of 0 \n",
    "gdf.plot(column='slr_impacted', legend=True)"
   ]
  },
  {
   "cell_type": "markdown",
   "metadata": {},
   "source": [
    "## Step 3: Export binary layer"
   ]
  },
  {
   "cell_type": "code",
   "execution_count": 17,
   "metadata": {
    "execution": {
     "iopub.execute_input": "2024-10-01T22:12:47.894809Z",
     "iopub.status.busy": "2024-10-01T22:12:47.893683Z",
     "iopub.status.idle": "2024-10-01T22:12:49.184127Z",
     "shell.execute_reply": "2024-10-01T22:12:49.183580Z",
     "shell.execute_reply.started": "2024-10-01T22:12:47.894740Z"
    }
   },
   "outputs": [],
   "source": [
    "# save layer as csv file\n",
    "gdf.to_csv('../utils/slr_mask_layer.csv')"
   ]
  },
  {
   "cell_type": "code",
   "execution_count": 25,
   "metadata": {
    "execution": {
     "iopub.execute_input": "2024-10-01T20:56:30.638860Z",
     "iopub.status.busy": "2024-10-01T20:56:30.638048Z",
     "iopub.status.idle": "2024-10-01T20:56:47.733651Z",
     "shell.execute_reply": "2024-10-01T20:56:47.731993Z",
     "shell.execute_reply.started": "2024-10-01T20:56:30.638814Z"
    }
   },
   "outputs": [
    {
     "name": "stdout",
     "output_type": "stream",
     "text": [
      "slr_mask_layer.csv uploaded to AWS\n"
     ]
    }
   ],
   "source": [
    "# upload to AWS\n",
    "bucket_name = 'ca-climate-index'\n",
    "directory = '0_map_data'\n",
    "export_filename = ['slr_mask_layer.csv']\n",
    "\n",
    "upload_csv_aws(export_filename, bucket_name, directory) "
   ]
  }
 ],
 "metadata": {
  "kernelspec": {
   "display_name": "Python 3 (ipykernel)",
   "language": "python",
   "name": "python3"
  },
  "language_info": {
   "codemirror_mode": {
    "name": "ipython",
    "version": 3
   },
   "file_extension": ".py",
   "mimetype": "text/x-python",
   "name": "python",
   "nbconvert_exporter": "python",
   "pygments_lexer": "ipython3",
   "version": "3.9.18"
  }
 },
 "nbformat": 4,
 "nbformat_minor": 4
}
