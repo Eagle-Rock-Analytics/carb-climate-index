{
 "cells": [
  {
   "cell_type": "markdown",
   "metadata": {},
   "source": [
    "## Cal-CRAI Supplementary Layer: Sea Level Rise Impact Area\n",
    "\n",
    "In the SLR focused scenario, we intentionally need to set inland census tracts / counties as \"improbable\" or \"invulnerable\" to the particular risk. For our purposes, we define the areas of vulnerability to SLR based on the Cal-CRAI metric: `percent change in wetland habitat under RCP 4.5 at median model SLR per county`. From this metric, we create a binary layer of: **At risk to SLR = 1** and **Not at risk to SLR = 0**, where all census tracts (via their respective county) at risk to SLR are identified as having a non-missing percent change in wetland habitat due to SLR. \n",
    "\n",
    "This \"improbability\" layer is used to mask all in-land counties in the SLR focused scenario analysis, to avoid in-land values skewing the overall distribution of values. The first half of this notebook is similar to the metric calculation for the input layer. "
   ]
  },
  {
   "cell_type": "code",
   "execution_count": 2,
   "metadata": {
    "execution": {
     "iopub.execute_input": "2024-10-01T22:12:20.339502Z",
     "iopub.status.busy": "2024-10-01T22:12:20.338633Z",
     "iopub.status.idle": "2024-10-01T22:12:21.369419Z",
     "shell.execute_reply": "2024-10-01T22:12:21.368925Z",
     "shell.execute_reply.started": "2024-10-01T22:12:20.339463Z"
    }
   },
   "outputs": [],
   "source": [
    "import os\n",
    "import sys\n",
    "import pandas as pd\n",
    "import io\n",
    "import numpy as np\n",
    "import geopandas as gpd\n",
    "\n",
    "sys.path.append(os.path.expanduser('../../'))\n",
    "from scripts.utils.file_helpers import pull_csv_from_directory, upload_csv_aws\n",
    "from scripts.utils.calculate_index import add_census_tracts"
   ]
  },
  {
   "cell_type": "markdown",
   "metadata": {},
   "source": [
    "## Step 1: Pull data and process metric"
   ]
  },
  {
   "cell_type": "code",
   "execution_count": null,
   "metadata": {
    "execution": {
     "iopub.execute_input": "2024-10-01T22:12:21.370847Z",
     "iopub.status.busy": "2024-10-01T22:12:21.370554Z",
     "iopub.status.idle": "2024-10-01T22:12:22.339981Z",
     "shell.execute_reply": "2024-10-01T22:12:22.339384Z",
     "shell.execute_reply.started": "2024-10-01T22:12:21.370831Z"
    }
   },
   "outputs": [],
   "source": [
    "bucket_name = 'ca-climate-index'\n",
    "aws_dir = '1_pull_data/climate_risk/sea_level_rise/loss/climate_central/'\n",
    "output_folder = '../data_metric_calc'\n",
    "\n",
    "pull_csv_from_directory(bucket_name, aws_dir, output_folder=output_folder, search_zipped=False)"
   ]
  },
  {
   "cell_type": "code",
   "execution_count": 4,
   "metadata": {
    "execution": {
     "iopub.execute_input": "2024-10-01T22:12:22.341052Z",
     "iopub.status.busy": "2024-10-01T22:12:22.340866Z",
     "iopub.status.idle": "2024-10-01T22:12:22.351674Z",
     "shell.execute_reply": "2024-10-01T22:12:22.351200Z",
     "shell.execute_reply.started": "2024-10-01T22:12:22.341036Z"
    }
   },
   "outputs": [],
   "source": [
    "wetland_data = pd.read_csv('RCP_wetland_data.csv')"
   ]
  },
  {
   "cell_type": "code",
   "execution_count": null,
   "metadata": {
    "execution": {
     "iopub.execute_input": "2024-10-01T22:12:22.353872Z",
     "iopub.status.busy": "2024-10-01T22:12:22.353565Z",
     "iopub.status.idle": "2024-10-01T22:12:22.363888Z",
     "shell.execute_reply": "2024-10-01T22:12:22.363367Z",
     "shell.execute_reply.started": "2024-10-01T22:12:22.353840Z"
    }
   },
   "outputs": [],
   "source": [
    "# Adjust the data\n",
    "adjusted_wetland_data = wetland_data[22:]\n",
    "\n",
    "# Set the first row as the header and reset index\n",
    "adjusted_wetland_data.columns = adjusted_wetland_data.iloc[0]\n",
    "adjusted_wetland_data = adjusted_wetland_data[1:].reset_index(drop=True)\n",
    "\n",
    "# Drop the index column if it has been set as a column\n",
    "adjusted_wetland_data.reset_index(drop=True, inplace=True)\n",
    "\n",
    "# Rename columns to ensure no extra index is included\n",
    "adjusted_wetland_data.columns.name = None\n",
    "\n",
    "# Filter columns explicitly\n",
    "columns_to_keep = [col for col in adjusted_wetland_data.columns \n",
    "                    if 'County' in col or '2000' in col or '2100' in col]\n",
    "adjusted_wetland_data = adjusted_wetland_data[columns_to_keep]\n",
    "adjusted_wetland_data.columns"
   ]
  },
  {
   "cell_type": "code",
   "execution_count": 6,
   "metadata": {
    "execution": {
     "iopub.execute_input": "2024-10-01T22:12:22.364876Z",
     "iopub.status.busy": "2024-10-01T22:12:22.364659Z",
     "iopub.status.idle": "2024-10-01T22:12:22.371343Z",
     "shell.execute_reply": "2024-10-01T22:12:22.370861Z",
     "shell.execute_reply.started": "2024-10-01T22:12:22.364858Z"
    }
   },
   "outputs": [],
   "source": [
    "# Function to calculate percent change between 2000 and 2100 columns\n",
    "def calculate_percent_change(data, leave_alone=[]):\n",
    "    # Convert columns to numeric, forcing non-numeric to NaN (skip columns in leave_alone)\n",
    "    numeric_data = data.copy()\n",
    "    for col in data.columns:\n",
    "        if col not in leave_alone:\n",
    "            numeric_data[col] = pd.to_numeric(data[col], errors='coerce')\n",
    "    \n",
    "    # Define columns for 2000 and 2100\n",
    "    cols_2000 = [col for col in numeric_data.columns if '2000' in col]\n",
    "    cols_2100 = [col for col in numeric_data.columns if '2100' in col]\n",
    "    \n",
    "    # Calculate percent change\n",
    "    percent_change = pd.DataFrame()\n",
    "\n",
    "    for cols_2000 in cols_2000:\n",
    "        # Find the matching 2100 column\n",
    "        col_2100 = cols_2000.replace('2000', '2100')\n",
    "\n",
    "        if col_2100 in cols_2100:\n",
    "            # Calculate percent change, handling NaN values\n",
    "            percent_change[cols_2000 + '_to_' + col_2100] = (\n",
    "                (numeric_data[col_2100] - numeric_data[cols_2000]) / numeric_data[cols_2000]\n",
    "            ) * 100\n",
    "    \n",
    "    # Concatenate the percent change DataFrame with the original numeric data\n",
    "    result = pd.concat([numeric_data, percent_change], axis=1)\n",
    "    \n",
    "    return result\n",
    "\n",
    "# Function to rename columns, allowing some to be left unchanged\n",
    "def rename_columns(data, leave_alone=[]):\n",
    "    def rename_column(col):\n",
    "        if col in leave_alone:\n",
    "            return col\n",
    "        words = col.split('_')\n",
    "        return '_'.join(words[:4]) + '_percent_change'\n",
    "    \n",
    "    # Apply renaming function to columns\n",
    "    data.columns = [rename_column(col) for col in data.columns]\n",
    "    return data\n",
    "\n",
    "# List of columns to leave unchanged\n",
    "column_leave_alone = ['County']"
   ]
  },
  {
   "cell_type": "code",
   "execution_count": null,
   "metadata": {
    "execution": {
     "iopub.execute_input": "2024-10-01T22:12:22.372443Z",
     "iopub.status.busy": "2024-10-01T22:12:22.372164Z",
     "iopub.status.idle": "2024-10-01T22:12:22.394896Z",
     "shell.execute_reply": "2024-10-01T22:12:22.394466Z",
     "shell.execute_reply.started": "2024-10-01T22:12:22.372428Z"
    }
   },
   "outputs": [],
   "source": [
    "# Run the calculation and renaming\n",
    "adjusted_wetland_metric = calculate_percent_change(adjusted_wetland_data, leave_alone=column_leave_alone)\n",
    "\n",
    "# Filter for columns that contain 'County' or 'to'\n",
    "filtered_columns = [col for col in adjusted_wetland_metric.columns if 'County' in col or 'to' in col]\n",
    "\n",
    "# Create a new DataFrame with only the filtered columns\n",
    "filtered_wetland_metric = adjusted_wetland_metric[filtered_columns]\n",
    "# Remove duplicate columns\n",
    "filtered_wetland_metric = filtered_wetland_metric.loc[:, ~filtered_wetland_metric.columns.duplicated()]\n",
    "\n",
    "wetland_metric_percent_change = rename_columns(filtered_wetland_metric, leave_alone=column_leave_alone)\n",
    "\n",
    "wetland_metric_percent_change.columns = wetland_metric_percent_change.columns.str.lower()\n",
    "wetland_metric_percent_change = wetland_metric_percent_change.applymap(lambda s: s.lower() if type(s) == str else s)\n",
    "\n",
    "# Display the resulting DataFrame\n",
    "wetland_metric_percent_change.head(3)"
   ]
  },
  {
   "cell_type": "code",
   "execution_count": null,
   "metadata": {
    "execution": {
     "iopub.execute_input": "2024-10-01T22:12:22.395713Z",
     "iopub.status.busy": "2024-10-01T22:12:22.395566Z",
     "iopub.status.idle": "2024-10-01T22:12:24.231365Z",
     "shell.execute_reply": "2024-10-01T22:12:24.231007Z",
     "shell.execute_reply.started": "2024-10-01T22:12:22.395701Z"
    }
   },
   "outputs": [],
   "source": [
    "# read in CA census tiger file\n",
    "ca_tract_county = \"s3://ca-climate-index/0_map_data/ca_tracts_county.csv\"\n",
    "ca_tract_county = gpd.read_file(ca_tract_county)\n",
    "ca_tract_county = ca_tract_county.drop(columns={'field_1'})\n",
    "ca_tract_county.columns = ca_tract_county.columns.str.lower()\n",
    "ca_tract_county = ca_tract_county.applymap(lambda s: s.lower() if type(s) == str else s)\n",
    "\n",
    "ca_tract_county.head(3)"
   ]
  },
  {
   "cell_type": "code",
   "execution_count": null,
   "metadata": {
    "execution": {
     "iopub.execute_input": "2024-10-01T22:12:24.232196Z",
     "iopub.status.busy": "2024-10-01T22:12:24.231945Z",
     "iopub.status.idle": "2024-10-01T22:12:24.242243Z",
     "shell.execute_reply": "2024-10-01T22:12:24.241872Z",
     "shell.execute_reply.started": "2024-10-01T22:12:24.232185Z"
    }
   },
   "outputs": [],
   "source": [
    "wetland_metric_merge = pd.merge(ca_tract_county, wetland_metric_percent_change, on='county', how='left')\n",
    "final_columns = ['tract', 'county', 'rcp_4.5__50th_percent_change']\n",
    "wetland_metric_final = wetland_metric_merge[final_columns]\n",
    "wetland_metric_final['GEOID'] = wetland_metric_final['tract']\n",
    "wetland_metric_final.drop(columns=['tract'])"
   ]
  },
  {
   "cell_type": "code",
   "execution_count": null,
   "metadata": {
    "execution": {
     "iopub.execute_input": "2024-10-01T22:12:24.244541Z",
     "iopub.status.busy": "2024-10-01T22:12:24.244375Z",
     "iopub.status.idle": "2024-10-01T22:12:34.518522Z",
     "shell.execute_reply": "2024-10-01T22:12:34.518150Z",
     "shell.execute_reply.started": "2024-10-01T22:12:24.244531Z"
    }
   },
   "outputs": [],
   "source": [
    "gdf = add_census_tracts(wetland_metric_final)\n",
    "gdf.head(5)"
   ]
  },
  {
   "cell_type": "markdown",
   "metadata": {},
   "source": [
    "## Step 2: Identify SLR regions and create binary layer"
   ]
  },
  {
   "cell_type": "code",
   "execution_count": null,
   "metadata": {
    "execution": {
     "iopub.execute_input": "2024-10-01T22:12:34.519360Z",
     "iopub.status.busy": "2024-10-01T22:12:34.519248Z",
     "iopub.status.idle": "2024-10-01T22:12:34.525593Z",
     "shell.execute_reply": "2024-10-01T22:12:34.525317Z",
     "shell.execute_reply.started": "2024-10-01T22:12:34.519351Z"
    }
   },
   "outputs": [],
   "source": [
    "# counties not impacted by SLR\n",
    "no_impact_counties = gdf.loc[gdf['rcp_4.5__50th_percent_change'].isnull()]['county'].unique().tolist()\n",
    "print('# of non-impacted census tracts: ', len(gdf.loc[gdf['rcp_4.5__50th_percent_change'].isnull()]))\n",
    "no_impact_counties"
   ]
  },
  {
   "cell_type": "code",
   "execution_count": null,
   "metadata": {
    "execution": {
     "iopub.execute_input": "2024-10-01T22:12:34.526247Z",
     "iopub.status.busy": "2024-10-01T22:12:34.526137Z",
     "iopub.status.idle": "2024-10-01T22:12:34.533497Z",
     "shell.execute_reply": "2024-10-01T22:12:34.533241Z",
     "shell.execute_reply.started": "2024-10-01T22:12:34.526238Z"
    }
   },
   "outputs": [],
   "source": [
    "# slr impacted counties\n",
    "impact_counties = gdf.loc[gdf['rcp_4.5__50th_percent_change'] < 100]['county'].unique().tolist()\n",
    "print('# of SLR impacted census tracts: ', len(gdf.loc[gdf['rcp_4.5__50th_percent_change'] < 100]))\n",
    "impact_counties"
   ]
  },
  {
   "cell_type": "markdown",
   "metadata": {},
   "source": [
    "Create new binary layer of SLR impact"
   ]
  },
  {
   "cell_type": "code",
   "execution_count": null,
   "metadata": {
    "execution": {
     "iopub.execute_input": "2024-10-01T22:12:34.534835Z",
     "iopub.status.busy": "2024-10-01T22:12:34.534702Z",
     "iopub.status.idle": "2024-10-01T22:12:34.549848Z",
     "shell.execute_reply": "2024-10-01T22:12:34.549506Z",
     "shell.execute_reply.started": "2024-10-01T22:12:34.534825Z"
    }
   },
   "outputs": [],
   "source": [
    "# need to save a new binary layer of SLR imapct\n",
    "gdf['slr_impacted'] = gdf['rcp_4.5__50th_percent_change'].apply(lambda x: 1 if not pd.isnull(x) else 0)\n",
    "gdf.head(10)"
   ]
  },
  {
   "cell_type": "code",
   "execution_count": null,
   "metadata": {
    "execution": {
     "iopub.execute_input": "2024-10-01T22:12:34.550415Z",
     "iopub.status.busy": "2024-10-01T22:12:34.550303Z",
     "iopub.status.idle": "2024-10-01T22:12:34.553890Z",
     "shell.execute_reply": "2024-10-01T22:12:34.553595Z",
     "shell.execute_reply.started": "2024-10-01T22:12:34.550405Z"
    }
   },
   "outputs": [],
   "source": [
    "# confirming count of impacted slr tracts\n",
    "gdf.slr_impacted.value_counts()"
   ]
  },
  {
   "cell_type": "code",
   "execution_count": 15,
   "metadata": {
    "execution": {
     "iopub.execute_input": "2024-10-01T22:12:34.554577Z",
     "iopub.status.busy": "2024-10-01T22:12:34.554426Z",
     "iopub.status.idle": "2024-10-01T22:12:34.558097Z",
     "shell.execute_reply": "2024-10-01T22:12:34.557818Z",
     "shell.execute_reply.started": "2024-10-01T22:12:34.554565Z"
    }
   },
   "outputs": [],
   "source": [
    "# clean up before export\n",
    "gdf = gdf[['GEOID', 'county', 'geometry', 'COUNTYFP', 'slr_impacted']]"
   ]
  },
  {
   "cell_type": "code",
   "execution_count": null,
   "metadata": {
    "execution": {
     "iopub.execute_input": "2024-10-01T22:12:34.558721Z",
     "iopub.status.busy": "2024-10-01T22:12:34.558601Z",
     "iopub.status.idle": "2024-10-01T22:12:35.653682Z",
     "shell.execute_reply": "2024-10-01T22:12:35.653310Z",
     "shell.execute_reply.started": "2024-10-01T22:12:34.558712Z"
    }
   },
   "outputs": [],
   "source": [
    "# visually confirm coastal areas have value of 1, inland areas have value of 0 \n",
    "gdf.plot(column='slr_impacted', legend=True)"
   ]
  },
  {
   "cell_type": "markdown",
   "metadata": {},
   "source": [
    "## Step 3: Export binary layer"
   ]
  },
  {
   "cell_type": "code",
   "execution_count": 17,
   "metadata": {
    "execution": {
     "iopub.execute_input": "2024-10-01T22:12:47.894809Z",
     "iopub.status.busy": "2024-10-01T22:12:47.893683Z",
     "iopub.status.idle": "2024-10-01T22:12:49.184127Z",
     "shell.execute_reply": "2024-10-01T22:12:49.183580Z",
     "shell.execute_reply.started": "2024-10-01T22:12:47.894740Z"
    }
   },
   "outputs": [],
   "source": [
    "# save layer as csv file\n",
    "gdf.to_csv('../utils/slr_mask_layer.csv')"
   ]
  },
  {
   "cell_type": "code",
   "execution_count": null,
   "metadata": {
    "execution": {
     "iopub.execute_input": "2024-10-01T20:56:30.638860Z",
     "iopub.status.busy": "2024-10-01T20:56:30.638048Z",
     "iopub.status.idle": "2024-10-01T20:56:47.733651Z",
     "shell.execute_reply": "2024-10-01T20:56:47.731993Z",
     "shell.execute_reply.started": "2024-10-01T20:56:30.638814Z"
    }
   },
   "outputs": [],
   "source": [
    "# upload to AWS\n",
    "bucket_name = 'ca-climate-index'\n",
    "directory = '0_map_data'\n",
    "export_filename = ['slr_mask_layer.csv']\n",
    "\n",
    "upload_csv_aws(export_filename, bucket_name, directory) "
   ]
  }
 ],
 "metadata": {
  "kernelspec": {
   "display_name": "Python 3 (ipykernel)",
   "language": "python",
   "name": "python3"
  },
  "language_info": {
   "codemirror_mode": {
    "name": "ipython",
    "version": 3
   },
   "file_extension": ".py",
   "mimetype": "text/x-python",
   "name": "python",
   "nbconvert_exporter": "python",
   "pygments_lexer": "ipython3",
   "version": "3.9.18"
  }
 },
 "nbformat": 4,
 "nbformat_minor": 4
}
