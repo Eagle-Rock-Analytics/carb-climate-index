{
 "cells": [
  {
   "cell_type": "markdown",
   "metadata": {},
   "source": [
    "## Cal-CRAI Metric Calculation\n",
    "Domain: Society & Economy \\\n",
    "Indicator: Vulnerable Populations\n",
    "\n",
    "This notebook calculates one metric, sourced from the California Homelessness Data Integration System:\n",
    "* Metric 1: Average percentage of population receiving homeless response services per California county"
   ]
  },
  {
   "cell_type": "code",
   "execution_count": 1,
   "metadata": {
    "execution": {
     "iopub.execute_input": "2024-05-14T20:22:34.712974Z",
     "iopub.status.busy": "2024-05-14T20:22:34.712233Z",
     "iopub.status.idle": "2024-05-14T20:22:35.739297Z",
     "shell.execute_reply": "2024-05-14T20:22:35.738644Z",
     "shell.execute_reply.started": "2024-05-14T20:22:34.712935Z"
    }
   },
   "outputs": [],
   "source": [
    "import pandas as pd\n",
    "import os\n",
    "import sys\n",
    "import math\n",
    "import numpy as np\n",
    "\n",
    "# suppress pandas purely educational warnings\n",
    "from warnings import simplefilter\n",
    "simplefilter(action=\"ignore\", category=pd.errors.PerformanceWarning)\n",
    "\n",
    "sys.path.append(os.path.expanduser('../../'))\n",
    "from scripts.utils.file_helpers import pull_csv_from_directory, upload_csv_aws, filter_counties\n",
    "from scripts.utils.write_metadata import append_metadata"
   ]
  },
  {
   "cell_type": "code",
   "execution_count": null,
   "metadata": {
    "execution": {
     "iopub.execute_input": "2024-05-14T20:22:36.772403Z",
     "iopub.status.busy": "2024-05-14T20:22:36.770997Z",
     "iopub.status.idle": "2024-05-14T20:22:37.951343Z",
     "shell.execute_reply": "2024-05-14T20:22:37.950701Z",
     "shell.execute_reply.started": "2024-05-14T20:22:36.772337Z"
    }
   },
   "outputs": [],
   "source": [
    "# pull csv from aws\n",
    "bucket_name = 'ca-climate-index'\n",
    "aws_dir = '1_pull_data/society_economy/vulnerable_populations/ca_homelessness_data_integration_system/'\n",
    "folder = 'homeless_data'\n",
    "\n",
    "pull_csv_from_directory(bucket_name, aws_dir, folder, search_zipped=False)"
   ]
  },
  {
   "cell_type": "code",
   "execution_count": null,
   "metadata": {
    "execution": {
     "iopub.execute_input": "2024-05-14T20:22:38.691495Z",
     "iopub.status.busy": "2024-05-14T20:22:38.690951Z",
     "iopub.status.idle": "2024-05-14T20:22:38.722263Z",
     "shell.execute_reply": "2024-05-14T20:22:38.721690Z",
     "shell.execute_reply.started": "2024-05-14T20:22:38.691468Z"
    }
   },
   "outputs": [],
   "source": [
    "homelessness_data = pd.read_csv(r'homeless_data/experiencing_homelessness_gender_demographics.csv')\n",
    "print(len(homelessness_data))\n",
    "homelessness_data.head(10)\n",
    "#os.remove('homelessness_data.csv')"
   ]
  },
  {
   "cell_type": "code",
   "execution_count": null,
   "metadata": {},
   "outputs": [],
   "source": [
    "# Remove any non-county entries within the location column\n",
    "homelessness_data['COUNTY'] = homelessness_data['LOCATION'].str.replace(' County CoC', '', case=False)\n",
    "homelessness_data['COUNTY'] = homelessness_data['COUNTY'].str.replace(' Counties CoC', '', case=False)\n",
    "homelessness_data['COUNTY'] = homelessness_data['COUNTY'].str.replace(' CoC', '', case=False)\n",
    "homelessness_data['COUNTY'] = homelessness_data['COUNTY'].str.replace('Glendale (Los Angeles County)', 'Los Angeles', case=False)\n",
    "homelessness_data['COUNTY'] = homelessness_data['COUNTY'].str.replace('Pasadena (Los Angeles County)', 'Los Angeles', case=False)\n",
    "homelessness_data['COUNTY'] = homelessness_data['COUNTY'].str.replace('Long Beach (Los Angeles County)', 'Los Angeles', case=False)\n",
    "\n",
    "# Convert 'EXPERIENCING_HOMELESSNESS' column to numeric\n",
    "homelessness_data['EXPERIENCING_HOMELESSNESS'] = pd.to_numeric(homelessness_data['EXPERIENCING_HOMELESSNESS'], errors='coerce')\n",
    "\n",
    "# Drop any leading or trailing whitespace from the 'county' column\n",
    "homelessness_data['COUNTY'] = homelessness_data['COUNTY'].str.strip()\n",
    "unique_entries = homelessness_data['COUNTY'].unique()\n",
    "unique_entries"
   ]
  },
  {
   "cell_type": "code",
   "execution_count": 5,
   "metadata": {
    "execution": {
     "iopub.execute_input": "2024-05-14T20:30:04.744594Z",
     "iopub.status.busy": "2024-05-14T20:30:04.743857Z",
     "iopub.status.idle": "2024-05-14T20:30:04.763255Z",
     "shell.execute_reply": "2024-05-14T20:30:04.762004Z",
     "shell.execute_reply.started": "2024-05-14T20:30:04.744559Z"
    }
   },
   "outputs": [],
   "source": [
    "filtered_homelessness_data, omitted_data = filter_counties(homelessness_data, county_column='COUNTY')"
   ]
  },
  {
   "cell_type": "code",
   "execution_count": null,
   "metadata": {},
   "outputs": [],
   "source": [
    "# View unique entries from the df that holds all entries not in our California counties function\n",
    "# After getting rid of California as an entry, all entries hold multiple counties\n",
    "omitted_data = omitted_data[omitted_data['COUNTY'] != 'California']\n",
    "unique_entries = omitted_data['COUNTY'].unique()\n",
    "unique_entries"
   ]
  },
  {
   "cell_type": "code",
   "execution_count": null,
   "metadata": {},
   "outputs": [],
   "source": [
    "print(len(omitted_data))\n",
    "omitted_data.head(5)"
   ]
  },
  {
   "cell_type": "markdown",
   "metadata": {},
   "source": [
    "### Function to handle the df holding rows with multiple counties\n",
    "\n",
    "* splits multiple counties into their own rows\n",
    "* divides the 'Experiencing_homelessness' values by the number of counties"
   ]
  },
  {
   "cell_type": "code",
   "execution_count": null,
   "metadata": {},
   "outputs": [],
   "source": [
    "# Function to split rows with multiple counties\n",
    "def split_county(row):\n",
    "    counties = row['COUNTY'].split(', ')\n",
    "    num_counties = len(counties)\n",
    "    new_rows = []\n",
    "    for county in counties:\n",
    "        new_row = row.copy()\n",
    "        new_row['COUNTY'] = county\n",
    "        new_row['EXPERIENCING_HOMELESSNESS'] //= num_counties\n",
    "        new_rows.append(new_row)\n",
    "    return pd.DataFrame(new_rows)\n",
    "\n",
    "# Apply the function to each row and concatenate the results\n",
    "new_rows = pd.concat([split_county(row) for _, row in omitted_data.iterrows()], ignore_index=True)\n",
    "cleaned_dropped_rows = new_rows.dropna()\n",
    "print(len(cleaned_dropped_rows))\n",
    "cleaned_dropped_rows.head(5)"
   ]
  },
  {
   "cell_type": "code",
   "execution_count": null,
   "metadata": {},
   "outputs": [],
   "source": [
    "# Fact checking Alpine county with Alpine county after grouping the data\n",
    "alpine = cleaned_dropped_rows[cleaned_dropped_rows['COUNTY']=='Alpine']\n",
    "alpine.head()"
   ]
  },
  {
   "cell_type": "code",
   "execution_count": null,
   "metadata": {},
   "outputs": [],
   "source": [
    "# Group by the 'Name' column and aggregate the 'Value' column\n",
    "summed_dropped_rows = cleaned_dropped_rows.groupby(['COUNTY', 'CALENDAR_YEAR'])['EXPERIENCING_HOMELESSNESS'].sum().reset_index()\n",
    "print(len(summed_dropped_rows))\n",
    "summed_dropped_rows.head(5)"
   ]
  },
  {
   "cell_type": "markdown",
   "metadata": {},
   "source": [
    "### Now further cleaning the data that got didnt get omitted from the filter county function"
   ]
  },
  {
   "cell_type": "code",
   "execution_count": null,
   "metadata": {},
   "outputs": [],
   "source": [
    "filtered_homelessness_data = filtered_homelessness_data[['CALENDAR_YEAR', 'COUNTY', 'EXPERIENCING_HOMELESSNESS']]\n",
    "filtered_homelessness_data"
   ]
  },
  {
   "cell_type": "code",
   "execution_count": null,
   "metadata": {},
   "outputs": [],
   "source": [
    "# Fact checking the totals from Alameda with the totals in Alameda after grouping the data below\n",
    "alameda = filtered_homelessness_data[filtered_homelessness_data['COUNTY']=='Alameda']\n",
    "alameda.head(6)"
   ]
  },
  {
   "cell_type": "code",
   "execution_count": null,
   "metadata": {},
   "outputs": [],
   "source": [
    "# Group the homeless data by county and calendar year and add the experiencing homeless values\n",
    "# This eliminates the multiple entries from the gender column into total counts per county per year \n",
    "summed_filtered_homelessness_data = filtered_homelessness_data.groupby(['COUNTY', 'CALENDAR_YEAR'])['EXPERIENCING_HOMELESSNESS'].sum().reset_index()\n",
    "summed_filtered_homelessness_data.head(5)"
   ]
  },
  {
   "cell_type": "markdown",
   "metadata": {},
   "source": [
    "### Adding the cleaned dataframes containing homeless data together"
   ]
  },
  {
   "cell_type": "code",
   "execution_count": null,
   "metadata": {},
   "outputs": [],
   "source": [
    "# Concatenate the dataframes\n",
    "concatenated_df = pd.concat([summed_filtered_homelessness_data, summed_dropped_rows], ignore_index=True)\n",
    "homelessness_county_year = concatenated_df.sort_values(by='COUNTY')\n",
    "homelessness_county_year.head(5)"
   ]
  },
  {
   "cell_type": "markdown",
   "metadata": {},
   "source": [
    "### Import California county population estimate data from AWS"
   ]
  },
  {
   "cell_type": "code",
   "execution_count": null,
   "metadata": {},
   "outputs": [],
   "source": [
    "est_pop = \"s3://ca-climate-index/0_map_data/county_est_pop_2022.csv\"\n",
    "ca_est_county_pop = pd.read_csv(est_pop)\n",
    "# Rename columns for future merging\n",
    "ca_est_county_pop = ca_est_county_pop.rename(columns={'county': 'COUNTY'})\n",
    "ca_est_county_pop = ca_est_county_pop.rename(columns={'est_total_pop': 'est_population_2021'})\n",
    "ca_est_county_pop = ca_est_county_pop.drop(columns=['Unnamed: 0'])\n",
    "\n",
    "ca_est_county_pop.head()"
   ]
  },
  {
   "cell_type": "code",
   "execution_count": null,
   "metadata": {},
   "outputs": [],
   "source": [
    "# Merge population estimates and cleaned homelessness data based on the shared 'COUNTY' column\n",
    "population_homelessness_merge = pd.merge(homelessness_county_year, ca_est_county_pop, on='COUNTY')\n",
    "population_homelessness_merge.head(5)"
   ]
  },
  {
   "cell_type": "code",
   "execution_count": null,
   "metadata": {},
   "outputs": [],
   "source": [
    "# Calculate percent population homeless\n",
    "population_homelessness_merge['percent_pop_homeless'] = (population_homelessness_merge['EXPERIENCING_HOMELESSNESS']/population_homelessness_merge['est_population_2021'])*100\n",
    "population_homelessness_merge.head(5)"
   ]
  },
  {
   "cell_type": "code",
   "execution_count": null,
   "metadata": {},
   "outputs": [],
   "source": [
    "# Group by COUNTY and calculate the average of percent_pop_homeless\n",
    "average_percent_pop_homeless = population_homelessness_merge.groupby('COUNTY')['percent_pop_homeless'].mean().reset_index()\n",
    "average_percent_pop_homeless.tail(5)"
   ]
  },
  {
   "cell_type": "code",
   "execution_count": null,
   "metadata": {},
   "outputs": [],
   "source": [
    "ca_tract = \"s3://ca-climate-index/0_map_data/ca_tract_county_population_2021.csv\"\n",
    "ca_tract_county = pd.read_csv(ca_tract)\n",
    "ca_tract_county = ca_tract_county.drop(columns='Unnamed: 0')\n",
    "ca_tract_county = ca_tract_county.rename(columns={'County': 'COUNTY'})\n",
    "\n",
    "ca_tract_county"
   ]
  },
  {
   "cell_type": "code",
   "execution_count": null,
   "metadata": {},
   "outputs": [],
   "source": [
    "county_to_tract_homelessness = pd.merge(ca_tract_county, average_percent_pop_homeless, on='COUNTY', how='right')\n",
    "county_to_tract_homelessness = county_to_tract_homelessness[['Census Tract', 'COUNTY', 'percent_pop_homeless']]\n",
    "\n",
    "county_to_tract_homelessness"
   ]
  },
  {
   "cell_type": "code",
   "execution_count": 24,
   "metadata": {},
   "outputs": [],
   "source": [
    "county_to_tract_homelessness.to_csv('society_vulnerable_homelessness_metric.csv')"
   ]
  },
  {
   "cell_type": "markdown",
   "metadata": {},
   "source": [
    "Function Call(s)"
   ]
  },
  {
   "cell_type": "code",
   "execution_count": 25,
   "metadata": {
    "execution": {
     "iopub.execute_input": "2024-05-14T20:37:20.765143Z",
     "iopub.status.busy": "2024-05-14T20:37:20.763736Z",
     "iopub.status.idle": "2024-05-14T20:37:20.791356Z",
     "shell.execute_reply": "2024-05-14T20:37:20.790769Z",
     "shell.execute_reply.started": "2024-05-14T20:37:20.765069Z"
    }
   },
   "outputs": [],
   "source": [
    "@append_metadata\n",
    "def calc_homelessness_services_percent(input_csv, export=False, varname = ''):\n",
    "    '''\n",
    "    Calculates the average percentage of population receiving homelessness response services per California\n",
    "    county, sourced from the California Homelessness Data Integration System: \n",
    "    https://data.ca.gov/dataset/homelessness-demographics. \n",
    "\n",
    "    \"Homelessness response services\" is defined by CHDIS as individuals who at any point in the selected timeframe:\n",
    "    (1) accessed lodging services through emergency shelter, transitional housing, and/or safe haven projects\n",
    "    (2) entered into a permanent housing project from homelessness\n",
    "    (3) reported living in a homeless situation (including living in a location not meant for habitation) at\n",
    "    the time they accessed other services\n",
    "\n",
    "    Methods\n",
    "    -------\n",
    "    Data was cleaned to translate CHDIS \"Continuum of Care\" regions to county. While not an exact 1 to 1 relationship, \n",
    "    estimates were divided amongst counties so that the the values sum to the Continuum of Care count.\n",
    "    Estimates for each county and year were divided by 2021 American Community Survey (ACS) population\n",
    "    to calculate percentage of population receiving homelessness response services.\n",
    "    Percent values per county were averaged across the ~7 year dataset to calculate average percent\n",
    "    of population receiving homelessness response services per CA county.\n",
    "    The percent values were then merged in with 2021 ACS tract data so each tract had the avg percent homelessness\n",
    "    value from its respective county.\n",
    "    \n",
    "    Parameters\n",
    "    ----------\n",
    "    df: string\n",
    "        the dataframe containing the initial homelessness response services data\n",
    "    export: True/False boolean\n",
    "        False = will not upload resulting df containing CAL CRAI homelessness response services metric to AWS\n",
    "        True = will upload resulting df containing CAL CRAI homelessness response services metric to AWS\n",
    "    export_filename: string\n",
    "        name of the csv file to be uploaded to AWS\n",
    "\n",
    "    Script\n",
    "    ------\n",
    "    society_vulnerable_homelessness.ipynb\n",
    "\n",
    "    Note:\n",
    "    This function assumes users have configured the AWS CLI such that their access key / secret key pair are stored in ~/.aws/credentials.\n",
    "    See https://docs.aws.amazon.com/cli/latest/userguide/getting-started-install.html for guidance.\n",
    "    '''\n",
    "    if export == False:\n",
    "        print('Data transformation: translating location column to exclusively state county name.')\n",
    "        print('Data transformation: adjusting column types to numeric for future calculations.')\n",
    "        print('Data transformation: splitting multi-county locations to per county. Values sum to raw data location count.')\n",
    "        print('Data transformation: import 2021 ACS county data and calculate percent of population receiving homelessness response services.')\n",
    "        print('Data transformation: merge with 2021 ACS tract data so each tract within a given county has that respective counties metric value.')\n",
    "        \n",
    "    if export == True: \n",
    "        bucket_name = 'ca-climate-index'\n",
    "        directory = '3_fair_data/index_data'\n",
    "        upload_csv_aws([input_csv], bucket_name, directory)\n",
    "\n",
    "    # Check if the file exists before attempting to remove it\n",
    "    if os.path.exists('experiencing_homelessness_gender_demographics.csv'):\n",
    "        os.remove('experiencing_homelessness_gender_demographics.csv')  # remove from local to clear up directory\n",
    "\n",
    "    if os.path.exists(input_csv[0]):\n",
    "        os.remove(input_csv[0])"
   ]
  },
  {
   "cell_type": "code",
   "execution_count": 26,
   "metadata": {},
   "outputs": [],
   "source": [
    "homelessness_metric = 'society_vulnerable_homelessness_metric.csv'\n",
    "\n",
    "calc_homelessness_services_percent(homelessness_metric, export=False, varname='society_vulnerable_percent_homelessness_services')"
   ]
  }
 ],
 "metadata": {
  "kernelspec": {
   "display_name": "Python 3 (ipykernel)",
   "language": "python",
   "name": "python3"
  },
  "language_info": {
   "codemirror_mode": {
    "name": "ipython",
    "version": 3
   },
   "file_extension": ".py",
   "mimetype": "text/x-python",
   "name": "python",
   "nbconvert_exporter": "python",
   "pygments_lexer": "ipython3",
   "version": "3.9.18"
  }
 },
 "nbformat": 4,
 "nbformat_minor": 4
}
