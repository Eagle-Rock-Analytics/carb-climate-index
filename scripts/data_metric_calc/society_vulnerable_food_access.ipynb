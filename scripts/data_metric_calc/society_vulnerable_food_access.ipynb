{
 "cells": [
  {
   "cell_type": "markdown",
   "metadata": {},
   "source": [
    "## Cal-CRAI Metric Calculation\n",
    "Domain: Society & Economy \\\n",
    "Indicator: Vulnerable Populations\n",
    "\n",
    "This notebook calculates one metric, sourced from the United States Department of Agriculture - Economic Research Service:\n",
    "* Metric 1: Percentage of population living more than 1 mile (urban) or 10 miles (rural) from nearest supermarket, supercenter, or large grocery store"
   ]
  },
  {
   "cell_type": "code",
   "execution_count": 1,
   "metadata": {
    "execution": {
     "iopub.execute_input": "2024-04-23T19:17:59.750556Z",
     "iopub.status.busy": "2024-04-23T19:17:59.749770Z",
     "iopub.status.idle": "2024-04-23T19:18:00.475790Z",
     "shell.execute_reply": "2024-04-23T19:18:00.475156Z",
     "shell.execute_reply.started": "2024-04-23T19:17:59.750519Z"
    }
   },
   "outputs": [],
   "source": [
    "import pandas as pd\n",
    "import os\n",
    "import sys\n",
    "import numpy as np\n",
    "\n",
    "# suppress pandas purely educational warnings\n",
    "from warnings import simplefilter\n",
    "simplefilter(action=\"ignore\", category=pd.errors.PerformanceWarning)\n",
    "\n",
    "sys.path.append(os.path.expanduser('../../'))\n",
    "from scripts.utils.file_helpers import pull_csv_from_directory, upload_csv_aws\n",
    "from scripts.utils.write_metadata import append_metadata"
   ]
  },
  {
   "cell_type": "code",
   "execution_count": null,
   "metadata": {
    "execution": {
     "iopub.execute_input": "2024-04-23T19:18:00.739627Z",
     "iopub.status.busy": "2024-04-23T19:18:00.738387Z",
     "iopub.status.idle": "2024-04-23T19:18:02.958175Z",
     "shell.execute_reply": "2024-04-23T19:18:02.957744Z",
     "shell.execute_reply.started": "2024-04-23T19:18:00.739582Z"
    }
   },
   "outputs": [],
   "source": [
    "# pull csv from aws\n",
    "bucket_name = 'ca-climate-index'\n",
    "aws_dir = '2a_subset/society_economy/vulnerable_populations/usda/food_access/'\n",
    "output_folder = 'vulnerable_food_data'\n",
    "\n",
    "pull_csv_from_directory(bucket_name, aws_dir, output_folder, search_zipped=False)"
   ]
  },
  {
   "cell_type": "code",
   "execution_count": null,
   "metadata": {
    "execution": {
     "iopub.execute_input": "2024-04-23T19:18:02.959191Z",
     "iopub.status.busy": "2024-04-23T19:18:02.958968Z",
     "iopub.status.idle": "2024-04-23T19:18:03.014622Z",
     "shell.execute_reply": "2024-04-23T19:18:03.014270Z",
     "shell.execute_reply.started": "2024-04-23T19:18:02.959179Z"
    }
   },
   "outputs": [],
   "source": [
    "# read in food access data (already subsetted for CA)\n",
    "food_access_data = pd.read_csv(r'vulnerable_food_data/food_access_subset.csv')\n",
    "print(len(food_access_data))\n",
    "#os.remove('food_access_subset.csv')"
   ]
  },
  {
   "cell_type": "code",
   "execution_count": 4,
   "metadata": {
    "execution": {
     "iopub.execute_input": "2024-04-23T19:18:24.240990Z",
     "iopub.status.busy": "2024-04-23T19:18:24.240254Z",
     "iopub.status.idle": "2024-04-23T19:18:24.248954Z",
     "shell.execute_reply": "2024-04-23T19:18:24.248052Z",
     "shell.execute_reply.started": "2024-04-23T19:18:24.240947Z"
    }
   },
   "outputs": [],
   "source": [
    "food_access_data = food_access_data[['CensusTract', 'County', 'Pop2010', 'LA1and10', 'LAPOP1_10']]\n",
    "food_access_data['percent_1miurban_10mirural'] = (food_access_data['LAPOP1_10'] / food_access_data['Pop2010']) * 100"
   ]
  },
  {
   "cell_type": "markdown",
   "metadata": {},
   "source": [
    "#### Use the 2010 population from this dataset as it is used for the estimated low access population values"
   ]
  },
  {
   "cell_type": "code",
   "execution_count": null,
   "metadata": {
    "execution": {
     "iopub.execute_input": "2024-04-23T19:18:49.335457Z",
     "iopub.status.busy": "2024-04-23T19:18:49.334753Z",
     "iopub.status.idle": "2024-04-23T19:18:49.353031Z",
     "shell.execute_reply": "2024-04-23T19:18:49.352027Z",
     "shell.execute_reply.started": "2024-04-23T19:18:49.335423Z"
    }
   },
   "outputs": [],
   "source": [
    "food_access_data.rename(columns={'Pop2010': '2010_population', 'LA1and10': 'flag_over_1mileurban_10milerural_store', 'LAPOP1_10': 'population_over_1mileurban_10milerural_store'}, inplace=True)\n",
    "food_access_data = food_access_data.rename(columns={'CensusTract':'census_tract'})\n",
    "food_access_data.tail(10)"
   ]
  },
  {
   "cell_type": "markdown",
   "metadata": {},
   "source": [
    "## Calculate average percent population >1mi urban and >10mi rural from a store per county\n",
    "* used to fact check after merging this dataset with 2021 ACS tracts and filling in extra tracts with average values per county"
   ]
  },
  {
   "cell_type": "code",
   "execution_count": null,
   "metadata": {},
   "outputs": [],
   "source": [
    "# Prompt the user to input the county name\n",
    "county_name = input(\"Enter the name of the county: \")\n",
    "\n",
    "columns_to_fill = [\n",
    "                    'percent_1miurban_10mirural'\n",
    "]\n",
    "\n",
    "# Filter the dataframe for the specified county\n",
    "county_data = food_access_data[food_access_data['County'] == county_name]\n",
    "\n",
    "# Print out the average values for the specified county\n",
    "print(f\"Average values for {county_name}:\")\n",
    "for column in columns_to_fill:\n",
    "    avg_value = county_data[column].mean()\n",
    "    print(f\"{column}: {avg_value}\")"
   ]
  },
  {
   "cell_type": "markdown",
   "metadata": {},
   "source": [
    "## Import and merge 2021 ACS tract data as this dataset has around 8,000 tracts"
   ]
  },
  {
   "cell_type": "code",
   "execution_count": null,
   "metadata": {},
   "outputs": [],
   "source": [
    "county_tract = \"s3://ca-climate-index/0_map_data/ca_tracts_county.csv\"\n",
    "ca_county_tract = pd.read_csv(county_tract)\n",
    "ca_county_tract = ca_county_tract.rename(columns={'TRACT': 'census_tract'})\n",
    "ca_county_tract = ca_county_tract.rename(columns={'County': 'county'})\n",
    "\n",
    "ca_county_tract = ca_county_tract.drop(columns='Unnamed: 0')\n",
    "\n",
    "ca_county_tract"
   ]
  },
  {
   "cell_type": "code",
   "execution_count": null,
   "metadata": {},
   "outputs": [],
   "source": [
    "merged_food_access = pd.merge(ca_county_tract, food_access_data, on='census_tract', how='left')\n",
    "print(len(merged_food_access))\n",
    "merged_food_access.tail()"
   ]
  },
  {
   "cell_type": "code",
   "execution_count": null,
   "metadata": {},
   "outputs": [],
   "source": [
    "# Columns to fill NaN values\n",
    "columns_to_fill = ['percent_1miurban_10mirural'\n",
    "                    ]\n",
    "\n",
    "# Add a new column indicating whether a value was originally NaN\n",
    "original_na_flag_column = 'Original_NA_Flag'\n",
    "merged_food_access[original_na_flag_column] = np.where(merged_food_access[columns_to_fill].isna().any(axis=1), 1, 0)\n",
    "\n",
    "# Compute average values for each column grouped by 'County'\n",
    "average_values_by_county = merged_food_access.groupby('county')[columns_to_fill].transform('mean')\n",
    "\n",
    "# Fill NaN values in each column with the corresponding average value of that column for the respective 'County'\n",
    "for column in columns_to_fill:\n",
    "    na_mask = merged_food_access[column].isna()\n",
    "    merged_food_access.loc[na_mask, column] = average_values_by_county.loc[na_mask, column]\n",
    "\n",
    "print(len(merged_food_access))\n",
    "merged_food_access.tail()"
   ]
  },
  {
   "cell_type": "code",
   "execution_count": null,
   "metadata": {},
   "outputs": [],
   "source": [
    "merged_food_access_metric = merged_food_access[['census_tract', 'county', 'percent_1miurban_10mirural']]\n",
    "merged_food_access_metric"
   ]
  },
  {
   "cell_type": "code",
   "execution_count": 11,
   "metadata": {},
   "outputs": [],
   "source": [
    "merged_food_access_metric.to_csv('society_food_access_metric.csv')"
   ]
  },
  {
   "cell_type": "code",
   "execution_count": 12,
   "metadata": {
    "execution": {
     "iopub.execute_input": "2024-04-23T19:21:39.669448Z",
     "iopub.status.busy": "2024-04-23T19:21:39.668121Z",
     "iopub.status.idle": "2024-04-23T19:21:39.685417Z",
     "shell.execute_reply": "2024-04-23T19:21:39.684188Z",
     "shell.execute_reply.started": "2024-04-23T19:21:39.669375Z"
    }
   },
   "outputs": [],
   "source": [
    "@append_metadata\n",
    "def calc_food_access(input_csv, export=False, varname = ''):\n",
    "    '''\n",
    "    Calculates the percentage of people living >1 mile from a grocery store in urban areas and \n",
    "    >10 miles in rural areas. Data is sourced from USDA's food access atlas: \n",
    "    https://www.ers.usda.gov/data-products/food-access-research-atlas/\n",
    "    \n",
    "    Methods\n",
    "    -------\n",
    "    Relevant columns within the original data were renamed and isolated to California for our \n",
    "    purposes. Percentage of population with low access to grocery stores was calculated by dividing \n",
    "    estimated population with low access by the total population (2010 data), as the data was based \n",
    "    on specific population estimates. Note this differs from other Cal-CRAI population-based estimates \n",
    "    using the 2020 population values. \n",
    "    \n",
    "    Parameters\n",
    "    ----------\n",
    "    df: string\n",
    "        the dataframe containing the food access data\n",
    "    export: True/False boolean\n",
    "        False = will not upload resulting df containing the food access metric to AWS\n",
    "        True = will upload resulting df containing the food access metric to AWS\n",
    "    export_filename: string\n",
    "        name of the csv file to be uploaded to AWS\n",
    "\n",
    "    Script\n",
    "    ------\n",
    "    society_vulnerable_food_access.ipynb\n",
    "\n",
    "    Note:\n",
    "    This function assumes users have configured the AWS CLI such that their access key / secret key pair are \n",
    "    stored in ~/.aws/credentials.\n",
    "    See https://docs.aws.amazon.com/cli/latest/userguide/getting-started-install.html for guidance.\n",
    "    '''\n",
    "    if export == False:\n",
    "        print('Data transformation: select relevant columns to calculate metric.')\n",
    "        print('Data transformation: rename columns for increased transparency/readability.')\n",
    "        print('Data transformation: import 2021 American Community Survey tract data.')\n",
    "        print('Data transformation: New, empty census tracts were in-filled with the average metric value for the county that tract resides within.')\n",
    "        return None\n",
    "    \n",
    "    # export to csv and upload to AWS\n",
    "    if export == True:\n",
    "        # pull csv from aws\n",
    "        bucket_name = 'ca-climate-index'\n",
    "        upload_csv_aws([input_csv], bucket_name, '3_fair_data/index_data')\n",
    "\n",
    "        os.remove('food_access_subset.csv') # remove from local to clear up directory\n",
    "        \n",
    "    return merged_food_access_metric # returns df"
   ]
  },
  {
   "cell_type": "code",
   "execution_count": 14,
   "metadata": {
    "execution": {
     "iopub.execute_input": "2024-04-23T19:21:40.131436Z",
     "iopub.status.busy": "2024-04-23T19:21:40.130406Z",
     "iopub.status.idle": "2024-04-23T19:21:44.591454Z",
     "shell.execute_reply": "2024-04-23T19:21:44.590431Z",
     "shell.execute_reply.started": "2024-04-23T19:21:40.131369Z"
    }
   },
   "outputs": [],
   "source": [
    "food_access_data = pd.read_csv('society_food_access_metric.csv')\n",
    "\n",
    "calc_food_access(food_access_data, export=False,\n",
    "                    varname = 'society_usda_food_accessibility')"
   ]
  }
 ],
 "metadata": {
  "kernelspec": {
   "display_name": "Python 3 (ipykernel)",
   "language": "python",
   "name": "python3"
  },
  "language_info": {
   "codemirror_mode": {
    "name": "ipython",
    "version": 3
   },
   "file_extension": ".py",
   "mimetype": "text/x-python",
   "name": "python",
   "nbconvert_exporter": "python",
   "pygments_lexer": "ipython3",
   "version": "3.9.18"
  }
 },
 "nbformat": 4,
 "nbformat_minor": 4
}
