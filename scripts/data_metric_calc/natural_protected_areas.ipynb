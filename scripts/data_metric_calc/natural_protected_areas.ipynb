{
 "cells": [
  {
   "cell_type": "markdown",
   "metadata": {},
   "source": [
    "## Cal-CRAI Metric Calculation\n",
    "Domain: Natural Systems \\\n",
    "Indicator: Ecosystem condition\n",
    "\n",
    "This notebook calculates one metric, sourced from the California Protected Areas Database:\n",
    "* Metric 1: Percentage of each California tract under management practices"
   ]
  },
  {
   "cell_type": "code",
   "execution_count": 1,
   "metadata": {},
   "outputs": [],
   "source": [
    "import pandas as pd\n",
    "import os\n",
    "import sys\n",
    "import boto3\n",
    "import io\n",
    "import geopandas as gpd\n",
    "\n",
    "# suppress pandas purely educational warnings\n",
    "from warnings import simplefilter\n",
    "simplefilter(action=\"ignore\", category=pd.errors.PerformanceWarning)\n",
    "\n",
    "sys.path.append(os.path.expanduser('../../'))\n",
    "from scripts.utils.file_helpers import pull_gpkg_from_directory, upload_csv_aws\n",
    "from scripts.utils.write_metadata import append_metadata"
   ]
  },
  {
   "cell_type": "code",
   "execution_count": null,
   "metadata": {},
   "outputs": [],
   "source": [
    "# pull csv from aws\n",
    "bucket_name = 'ca-climate-index'\n",
    "aws_dir = '2b_reproject/governance/natural_resource_conservation/cal_protected_areas/'\n",
    "\n",
    "pull_gpkg_from_directory(bucket_name, aws_dir)"
   ]
  },
  {
   "cell_type": "code",
   "execution_count": 3,
   "metadata": {},
   "outputs": [],
   "source": [
    "protected_areas_data = gpd.read_file('governance_cnra_protected_areas.gpkg')"
   ]
  },
  {
   "cell_type": "code",
   "execution_count": null,
   "metadata": {},
   "outputs": [],
   "source": [
    "protected_areas_data.columns"
   ]
  },
  {
   "cell_type": "code",
   "execution_count": null,
   "metadata": {},
   "outputs": [],
   "source": [
    "protected_areas_data.head()"
   ]
  },
  {
   "cell_type": "code",
   "execution_count": null,
   "metadata": {},
   "outputs": [],
   "source": [
    "protected_areas_data.plot()"
   ]
  },
  {
   "cell_type": "code",
   "execution_count": null,
   "metadata": {},
   "outputs": [],
   "source": [
    "# selecting relevant columns for processing\n",
    "selected_columns = ['HOLDING_ID', 'ACCESS_TYP', 'UNIT_ID', 'UNIT_NAME', 'AGNCY_NAME',\n",
    "       'SITE_NAME', 'COUNTY', 'ACRES', 'SRC_ATTR', 'SRC_ALIGN', 'GAP1_acres', 'GAP2_acres', 'GAP3_acres',\n",
    "       'GAP4_acres', 'GAP_tot_ac',\n",
    "       'USCB_COUNTYFP', 'USCB_TRACTCE', 'USCB_GEOID', 'geometry']\n",
    "\n",
    "filtered_protected_areas_data = protected_areas_data[selected_columns]\n",
    "filtered_protected_areas_data"
   ]
  },
  {
   "cell_type": "code",
   "execution_count": null,
   "metadata": {},
   "outputs": [],
   "source": [
    "# read in CA census tiger file\n",
    "ca_tract_county = \"s3://ca-climate-index/0_map_data/ca_tracts_county.csv\"\n",
    "ca_tract_county = gpd.read_file(ca_tract_county)\n",
    "ca_tract_county = ca_tract_county.drop(columns={'field_1', 'geometry'})\n",
    "ca_tract_county.columns = ca_tract_county.columns.str.lower()\n",
    "ca_tract_county = ca_tract_county.applymap(lambda s: s.lower() if type(s) == str else s)"
   ]
  },
  {
   "cell_type": "code",
   "execution_count": 9,
   "metadata": {},
   "outputs": [],
   "source": [
    "# read in CA census tiger file\n",
    "census_shp_dir = \"s3://ca-climate-index/0_map_data/2021_tiger_census_tract/2021_ca_tract/\"\n",
    "ca_boundaries = gpd.read_file(census_shp_dir)\n",
    "ca_boundaries = ca_boundaries[['GEOID', 'geometry']]\n",
    "ca_boundaries = ca_boundaries.rename(columns={'GEOID':'tract'})"
   ]
  },
  {
   "cell_type": "code",
   "execution_count": null,
   "metadata": {},
   "outputs": [],
   "source": [
    "ca_tract_county_spatial = pd.merge(ca_tract_county, ca_boundaries, on='tract', how='left')\n",
    "ca_tract_county_spatial = ca_tract_county_spatial.rename(columns={'tract':'USCB_GEOID'})\n",
    "ca_tract_county_spatial"
   ]
  },
  {
   "cell_type": "code",
   "execution_count": 11,
   "metadata": {},
   "outputs": [],
   "source": [
    "geo_ca_tract_county = gpd.GeoDataFrame(ca_tract_county_spatial)"
   ]
  },
  {
   "cell_type": "code",
   "execution_count": null,
   "metadata": {},
   "outputs": [],
   "source": [
    "# Step 1: Check the CRS\n",
    "print(\"Initial CRS of protected areas:\", filtered_protected_areas_data.crs)\n",
    "print(\"Initial CRS of CA tract/counties dataset:\", geo_ca_tract_county.crs)\n",
    "\n",
    "# Step 2: Reproject to an appropriate CRS for area calculations\n",
    "gdf1 = filtered_protected_areas_data.to_crs(epsg=3310)  # California Albers\n",
    "gdf2 = geo_ca_tract_county.to_crs(epsg=3310)  # California Albers\n",
    "\n",
    "print(\"Reprojected CRS of cnra protected areas:\", gdf1.crs)\n",
    "print(\"Reprojected CRS of Counties:\", gdf2.crs)\n",
    "\n",
    "# Check for and fix invalid geometries in both GeoDataFrames\n",
    "gdf1['geometry'] = gdf1['geometry'].apply(lambda geom: geom.buffer(0) if not geom.is_valid else geom)\n",
    "gdf2['geometry'] = gdf2['geometry'].apply(lambda geom: geom.buffer(0) if not geom.is_valid else geom)\n",
    "\n",
    "# Verify if all geometries are now valid\n",
    "print(\"Protected areas geometries valid:\", gdf1.is_valid.all())\n",
    "print(\"County geometries valid:\", gdf2.is_valid.all())\n",
    "\n",
    "# Step 3: Calculate the total area of protected areas per tract\n",
    "protected_area_tract = gdf1.dissolve(by='USCB_GEOID', aggfunc='sum')['geometry'].area.reset_index(name='protected_tract_area')\n",
    "\n",
    "# Step 4: Calculate the total area of each county\n",
    "county_area = gdf2.dissolve(by='USCB_GEOID', aggfunc='sum')['geometry'].area.reset_index(name='tract_area')\n",
    "\n",
    "# Step 5: Merge the two datasets on the county column\n",
    "merged_df = pd.merge(protected_area_tract, county_area, on='USCB_GEOID')\n",
    "\n",
    "# Step 6: Calculate the spatial percentage of NTMPs per county\n",
    "merged_df['protected_areas_percentage'] = (merged_df['protected_tract_area'] / merged_df['tract_area']) * 100"
   ]
  },
  {
   "cell_type": "code",
   "execution_count": null,
   "metadata": {},
   "outputs": [],
   "source": [
    "merged_df"
   ]
  },
  {
   "cell_type": "code",
   "execution_count": null,
   "metadata": {},
   "outputs": [],
   "source": [
    "print(merged_df.protected_areas_percentage.max())\n",
    "print(merged_df.protected_areas_percentage.min())"
   ]
  },
  {
   "cell_type": "code",
   "execution_count": null,
   "metadata": {},
   "outputs": [],
   "source": [
    "# merge back to CA tract/county data so we have our 9129 census tracts\n",
    "protected_areas_metric = pd.merge(ca_tract_county_spatial, merged_df, on='USCB_GEOID', how='left')\n",
    "protected_areas_metric"
   ]
  },
  {
   "cell_type": "code",
   "execution_count": 16,
   "metadata": {},
   "outputs": [],
   "source": [
    "protected_areas_metric.to_csv('natural_cnra_protected_areas_metric.csv')"
   ]
  },
  {
   "cell_type": "markdown",
   "metadata": {},
   "source": [
    "## Function Call"
   ]
  },
  {
   "cell_type": "code",
   "execution_count": 17,
   "metadata": {},
   "outputs": [],
   "source": [
    "@append_metadata\n",
    "def protected_areas_upload(input_csv, export=False, varname=''):\n",
    "    '''\n",
    "    Uploads the protected areas metric to S3 bucket. The metric is:\n",
    "    \n",
    "    * % of tract under management practices\n",
    "\n",
    "    Data for this metric was sourced from theCalifornia Natural Resources Agency: California Protected Areas Database at\n",
    "    https://data.cnra.ca.gov/dataset/california-protected-areas-database/resource/27323846-4000-42a2-85b3-93ae40edeff9\n",
    "\n",
    "    Methods\n",
    "    -------\n",
    "    Relevant data columns were isolated, some were renamed for later merging with California tract data.\n",
    "    Data was reprojected to match California tract data.\n",
    "    Using both datasets 'geometry' columns, a total area column for each tract entry was calculated.\n",
    "    Estimated tract percentage under management practices was calculated by dividing estimated tract land under management\n",
    "    by estimated total tract area.\n",
    "    \n",
    "    Parameters\n",
    "    ----------\n",
    "    input_csv: string\n",
    "        csv protected areas metric data \n",
    "    export: True/False boolean\n",
    "        False = will not upload resulting df containing CAL CRAI protected areas metric to AWS\n",
    "        True = will upload resulting df containing CAL CRAI protected areas metric to AWS\n",
    "\n",
    "    Script\n",
    "    ------\n",
    "    natural_protected_areas.ipynb\n",
    "\n",
    "    Note:\n",
    "    This function assumes users have configured the AWS CLI such that their access key / secret key pair are stored in ~/.aws/credentials.\n",
    "    See https://docs.aws.amazon.com/cli/latest/userguide/getting-started-install.html for guidance.\n",
    "    '''\n",
    "    print('Data transformation: relevant columns were isolated and renamed')\n",
    "    print('Data transformation: data reprojected to epsg 3310')\n",
    "    print('Data transformation: a new column was created to estimate percentage of each tract with management practices')\n",
    "\n",
    "    if export == True:\n",
    "        bucket_name = 'ca-climate-index'\n",
    "        directory = '3_fair_data/index_data'\n",
    "        export_filename = [input_csv]\n",
    "        upload_csv_aws(export_filename, bucket_name, directory)\n",
    "\n",
    "    if export == False:\n",
    "        print(f'{input_csv} uploaded to AWS.')\n",
    " \n",
    "    '''if os.path.exists(input_csv):\n",
    "        os.remove(input_csv)'''"
   ]
  },
  {
   "cell_type": "code",
   "execution_count": 18,
   "metadata": {},
   "outputs": [],
   "source": [
    "input_csv = 'natural_cnra_protected_areas_metric.csv'\n",
    "variable = 'natural_cnra_protected_areas'\n",
    "\n",
    "protected_areas_upload(input_csv, varname='test', export=True)"
   ]
  }
 ],
 "metadata": {
  "kernelspec": {
   "display_name": "carb",
   "language": "python",
   "name": "python3"
  },
  "language_info": {
   "codemirror_mode": {
    "name": "ipython",
    "version": 3
   },
   "file_extension": ".py",
   "mimetype": "text/x-python",
   "name": "python",
   "nbconvert_exporter": "python",
   "pygments_lexer": "ipython3",
   "version": "3.9.18"
  }
 },
 "nbformat": 4,
 "nbformat_minor": 2
}
