{
 "cells": [
  {
   "cell_type": "markdown",
   "id": "9da4e854-5d2f-48f7-8dec-a074b2019239",
   "metadata": {},
   "source": [
    "## Mean change in annual extreme heat day and warm nights\n",
    "\n",
    "This notebook generates the text metadata files for the extreme heat exposure metric `mean change in annual extreme heat day` and `mean change in annual warm nights` metrics, using data from Cal-Adapt: Analytics Engine data. Because the AE data represents 200+ GB of data, metrics were calculated with a cluster in a high performance computing environment (i.e., a pcluster). Please see the processing script `climate_ae_extreme_heat_metrics.py` for full methodological process. \n",
    "\n",
    "### Step 1: Generate metadata"
   ]
  },
  {
   "cell_type": "code",
   "execution_count": null,
   "id": "fdf6dc43-87a2-4a1d-8100-599bf4331ddc",
   "metadata": {},
   "outputs": [],
   "source": [
    "import pandas as pd\n",
    "import os\n",
    "import sys\n",
    "\n",
    "sys.path.append(os.path.expanduser('../../'))\n",
    "from scripts.utils.file_helpers import upload_csv_aws\n",
    "from scripts.utils.write_metadata import append_metadata"
   ]
  },
  {
   "cell_type": "code",
   "execution_count": null,
   "id": "9d31becc-30e0-40fd-b5f9-a096a42a497e",
   "metadata": {},
   "outputs": [],
   "source": [
    "# options here: climate_extreme_heat_hot_day_metric, climate_extreme_heat_warm_night_metric\n",
    "df_in = pd.read_csv('climate_extreme_heat_warm_night_metric.csv') # make sure this is in the same folder!\n",
    "df_in # check"
   ]
  },
  {
   "cell_type": "code",
   "execution_count": null,
   "id": "0cacbc2c-8ea4-4fce-b4b8-d1d98a66f0e3",
   "metadata": {},
   "outputs": [],
   "source": [
    "@append_metadata\n",
    "def extreme_heat_ae_data_process(df, export=False, export_filename=None, varname=''):\n",
    "    '''\n",
    "    Reduces the size of the initial daily raw temperature data in order to streamline compute time.\n",
    "    Transforms the raw data into the following baseline metrics:\n",
    "    * Mean change in annual number of warm nights\n",
    "    * Mean change in annual number of extreme heat days\n",
    "    \n",
    "    Methods\n",
    "    -------\n",
    "    Metric is calculated by counting the total number of days greater than 98th historical percentile and taking the annual average.\n",
    "    \n",
    "    Parameters\n",
    "    ----------\n",
    "    df: pd.DataFrame\n",
    "        Input data.\n",
    "    export: True/False boolean\n",
    "        False = will not upload resulting df containing CAL CRAI extreme heat metric to AWS\n",
    "        True = will upload resulting df containing CAL CRAI extreme heat metric to AWS\n",
    "    export_filename: string\n",
    "        name of csv file to be uploaded to AWS\n",
    "    varname: string\n",
    "        Final metric name, for metadata generation\n",
    "        \n",
    "    Script\n",
    "    ------\n",
    "    Metric calculation: climate_ae_extreme_heat_metrics.py via pcluster run\n",
    "    Metadata generation: climate_ae_extreme_heat_metadata.ipynb\n",
    "    \n",
    "    Note\n",
    "    ----\n",
    "    Because the climate projections data is on the order of 2.4 TB in size, intermediary\n",
    "    processed files are not produced for each stage of the metric calculation. All processing\n",
    "    occurs in a single complete run in the notebook listed above.\n",
    "    '''\n",
    "        \n",
    "    # calculate with 2°C WL\n",
    "    print('Data transformation: raw projections data retrieved for warming level of 2.0°C, by manually subsetting based on GWL for parent GCM and calculating 30 year average.')\n",
    "    print(\"Data transformation: dynamically-downscaled climate data subsetted for a-priori bias-corrected models.\")\n",
    "\n",
    "    # historical baseline\n",
    "    print(\"Data transformation: historical baseline data retrieved for 1981-2010, averaging across models.\")\n",
    "    print(\"Data transformation: dynamically-downscaled climate data subsetted for a-priori bias-corrected models.\")\n",
    "\n",
    "    # calculate delta signal\n",
    "    print(\"Data transformation: drop all singleton dimensions (scenario).\")\n",
    "    print(\"Data transformation: count total # of days above 98th historical percentile and calculate annual average.\")\n",
    "    print(\"Data transformation: delta signal calculated by taking difference between chronic (2.0°C) and historical baseline.\")\n",
    "    print(\"Data transformation: non-CA grid points removed from data.\")\n",
    "\n",
    "    # reprojection to census tracts\n",
    "    print(\"Data transformation: data transformed from xarray dataset into pandas dataframe.\")\n",
    "    print(\"Data transformation: data reprojected from Lambert Conformal Conic CRS to CRS 3857.\")\n",
    "        \n",
    "    # min-max standardization\n",
    "    print(\"Data transformation: data min-max standardized with min_max_standardize function.\")\n",
    "    \n",
    "    # export data as csv\n",
    "    if export == True:\n",
    "        bucket_name = 'ca-climate-index'\n",
    "        directory = '3_fair_data/index_data'\n",
    "        export_filename = [export_filename]\n",
    "        upload_csv_aws(export_filename, bucket_name, directory)\n",
    "        \n",
    "        # # Check if file exists before attempting to remove it\n",
    "        # if os.path.exists('climate_extreme_heat_likelihood_metric.csv'):\n",
    "        #     os.remove('climate_extreme_heat_likelihood_metric') # remove from local to clear up directory\n",
    "        \n",
    "        # if os.path.exists(export_filename[0]):\n",
    "        #     os.remove(export_filename[0])\n",
    "    \n",
    "    if export == False:\n",
    "        print(f'{export_filename} uploaded to AWS.')"
   ]
  },
  {
   "cell_type": "code",
   "execution_count": null,
   "id": "7b1a4987-12aa-4a3c-abd3-f0b209440ece",
   "metadata": {},
   "outputs": [],
   "source": [
    "extreme_heat_ae_data_process(df_in, export=False, export_filename ='climate_extreme_heat_warm_night_metric.csv', varname='test') # varname)"
   ]
  }
 ],
 "metadata": {
  "kernelspec": {
   "display_name": "Python 3 (ipykernel)",
   "language": "python",
   "name": "python3"
  },
  "language_info": {
   "codemirror_mode": {
    "name": "ipython",
    "version": 3
   },
   "file_extension": ".py",
   "mimetype": "text/x-python",
   "name": "python",
   "nbconvert_exporter": "python",
   "pygments_lexer": "ipython3",
   "version": "3.9.18"
  }
 },
 "nbformat": 4,
 "nbformat_minor": 5
}
