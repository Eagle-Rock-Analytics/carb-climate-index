{
 "cells": [
  {
   "cell_type": "markdown",
   "metadata": {},
   "source": [
    "## To calculate the number of power plants metric\n",
    "* was able to merge power plant data and california census data geometries\n",
    "* got counts of power plants per county and per tract"
   ]
  },
  {
   "cell_type": "code",
   "execution_count": 4,
   "metadata": {},
   "outputs": [],
   "source": [
    "import pandas as pd\n",
    "import os\n",
    "import sys\n",
    "import boto3\n",
    "import io\n",
    "import geopandas as gpd\n",
    "\n",
    "# suppress pandas purely educational warnings\n",
    "from warnings import simplefilter\n",
    "simplefilter(action=\"ignore\", category=pd.errors.PerformanceWarning)\n",
    "\n",
    "sys.path.append(os.path.expanduser('../../'))\n",
    "from scripts.utils.file_helpers import pull_gpkg_from_directory, upload_csv_aws\n",
    "from scripts.utils.write_metadata import append_metadata"
   ]
  },
  {
   "cell_type": "markdown",
   "metadata": {},
   "source": [
    "## New function to pull .gpkg files\n",
    "* if good, will move to utils or can update existing pull function to handle different file types"
   ]
  },
  {
   "cell_type": "code",
   "execution_count": 2,
   "metadata": {},
   "outputs": [
    {
     "name": "stdout",
     "output_type": "stream",
     "text": [
      "Saved GeoPackage as 'built_cec_power_plants.gpkg' locally\n",
      "Saved GeoPackage as 'built_cec_transmission_lines.gpkg' locally\n"
     ]
    }
   ],
   "source": [
    "# pull csv from aws\n",
    "bucket_name = 'ca-climate-index'\n",
    "aws_dir = '2b_reproject/built_environment/utilities/ca_energy_commission/'\n",
    "\n",
    "pull_gpkg_from_directory(bucket_name, aws_dir)"
   ]
  },
  {
   "cell_type": "code",
   "execution_count": null,
   "metadata": {},
   "outputs": [],
   "source": [
    "power_plants = gpd.read_file('built_cec_power_plants.gpkg')"
   ]
  },
  {
   "cell_type": "code",
   "execution_count": null,
   "metadata": {},
   "outputs": [],
   "source": [
    "power_plants"
   ]
  },
  {
   "cell_type": "markdown",
   "metadata": {},
   "source": [
    "## Filtering to relevant columns"
   ]
  },
  {
   "cell_type": "code",
   "execution_count": null,
   "metadata": {},
   "outputs": [],
   "source": [
    "filtered_power_plants = power_plants[['PlantName', 'CECPlantID', 'County','geometry']]\n",
    "\n",
    "# Establish columns to check for duplicates\n",
    "columns_to_check = ['CECPlantID']\n",
    "\n",
    "# Find duplicate rows based on specified columns\n",
    "duplicate_mask = filtered_power_plants.duplicated(subset=columns_to_check, keep='first')\n",
    "\n",
    "# Filter rows based on condition on the numeric column\n",
    "cleaned_power_plants = filtered_power_plants[~(duplicate_mask)]\n",
    "\n",
    "cleaned_power_plants"
   ]
  },
  {
   "cell_type": "markdown",
   "metadata": {},
   "source": [
    "### Below counts the number of entries per selected county. This is used to check that counties have the same number of power plants after the spatial join done next. The numbers should match as we have done all duplicate cleaning above"
   ]
  },
  {
   "cell_type": "code",
   "execution_count": null,
   "metadata": {},
   "outputs": [],
   "source": [
    "# Filter the DataFrame to include only rows where 'CECPlantID' column exists\n",
    "checkin = cleaned_power_plants.dropna(subset=['CECPlantID'])\n",
    "county_count = checkin['County'] == 'Kern'\n",
    "print('Number of entries of designated county:',len(county_count[county_count]))"
   ]
  },
  {
   "cell_type": "markdown",
   "metadata": {},
   "source": [
    "## Pull tract data and isolate relevant columns"
   ]
  },
  {
   "cell_type": "code",
   "execution_count": null,
   "metadata": {},
   "outputs": [],
   "source": [
    "# read in CA census tiger file\n",
    "census_shp_dir = \"s3://ca-climate-index/0_map_data/2021_tiger_census_tract/2021_ca_tract/\"\n",
    "ca_boundaries = gpd.read_file(census_shp_dir)"
   ]
  },
  {
   "cell_type": "code",
   "execution_count": null,
   "metadata": {},
   "outputs": [],
   "source": [
    "# Create a copy of the relevant columns from ca_boundaries\n",
    "filtered_ca_boundaries = ca_boundaries[['GEOID', 'geometry']].copy()\n",
    "\n",
    "# Rename the 'GEOID' column to 'tract'\n",
    "filtered_ca_boundaries.rename(columns={'GEOID': 'tract'}, inplace=True)\n",
    "\n",
    "# Remove the first character from the 'tract' column\n",
    "filtered_ca_boundaries['tract'] = filtered_ca_boundaries['tract'].str[1:]\n",
    "\n",
    "# Display the resulting DataFrame\n",
    "filtered_ca_boundaries\n"
   ]
  },
  {
   "cell_type": "markdown",
   "metadata": {},
   "source": [
    "# Spatial join the power plant data with the ca boundaries so we can attribute counties and tracts to power plants\n",
    "* the result has an extra thousand rows due to duplicate tract/geometries, this is addressed when grouping by tract"
   ]
  },
  {
   "cell_type": "code",
   "execution_count": null,
   "metadata": {},
   "outputs": [],
   "source": [
    "ca_power_plants = gpd.sjoin(cleaned_power_plants, filtered_ca_boundaries, how='right', predicate='within')\n",
    "ca_power_plants"
   ]
  },
  {
   "cell_type": "markdown",
   "metadata": {},
   "source": [
    "### Another checker to count how many of a given tract show up in the dataset (that also have a CECPlantID) before we merge them and get the final counts"
   ]
  },
  {
   "cell_type": "code",
   "execution_count": null,
   "metadata": {},
   "outputs": [],
   "source": [
    "# Filter the DataFrame to include only rows where 'CECPlantID' column exists\n",
    "filtered_df = ca_power_plants.dropna(subset=['CECPlantID'])\n",
    "tract_check = filtered_df['tract'] == '6085505010'\n",
    "print('Number of entries of designated tract:',len(tract_check[tract_check]))"
   ]
  },
  {
   "cell_type": "markdown",
   "metadata": {},
   "source": [
    "### Grouping by tract as long as CECPlantID is not NaN and summing those so we have number of plants per tract"
   ]
  },
  {
   "cell_type": "code",
   "execution_count": null,
   "metadata": {},
   "outputs": [],
   "source": [
    "# Group by 'tract' and count the number of entries where 'CECPlantID' exists\n",
    "tract_power_counts = ca_power_plants.groupby('tract')['CECPlantID'].apply(lambda x: x.notnull().sum()).reset_index(name='Power_Plant_Count')\n",
    "\n",
    "# Output the result\n",
    "tract_power_counts"
   ]
  },
  {
   "cell_type": "markdown",
   "metadata": {},
   "source": [
    "### Now that we have merged, we can check the df's counts per given tract and see if it matches with our checker above"
   ]
  },
  {
   "cell_type": "code",
   "execution_count": null,
   "metadata": {},
   "outputs": [],
   "source": [
    "tract_value = '6085505010'\n",
    "filtered_entries = tract_power_counts[tract_power_counts['tract'] == tract_value]\n",
    "print(filtered_entries)"
   ]
  },
  {
   "cell_type": "code",
   "execution_count": null,
   "metadata": {},
   "outputs": [],
   "source": [
    "# Group by 'tract' and count the number of entries where 'CECPlantID' exists\n",
    "county_power_counts = ca_power_plants.groupby('County')['CECPlantID'].apply(lambda x: x.notnull().sum()).reset_index(name='Power_Plant_Count')\n",
    "county_power_counts = county_power_counts[1:]\n",
    "\n",
    "# Output the result\n",
    "county_power_counts"
   ]
  },
  {
   "cell_type": "markdown",
   "metadata": {},
   "source": [
    "## Drafting function call while we discuss methods"
   ]
  },
  {
   "cell_type": "code",
   "execution_count": 12,
   "metadata": {},
   "outputs": [],
   "source": [
    "@append_metadata\n",
    "def calc_power_plant(df, export=False, export_filename=None, varname = ''):\n",
    "    '''\n",
    "    Calculates the number of power plants per California tract and county. Data is sourced from the California Energy Commission (CEC): https://cecgis-caenergy.opendata.arcgis.com/datasets/CAEnergy::california-power-plants/about\n",
    "    \n",
    "    Methods\n",
    "    -------\n",
    "    Geometry columns were merged between California 2021 tiger census tract data and CEC power plant data to attribute power plants to census tracts. Duplicate entries were removed based on matching CECPlantID. \n",
    "\n",
    "    Script\n",
    "    ------\n",
    "    built_power_plant.ipynb\n",
    "    \n",
    "    Parameters\n",
    "    ----------\n",
    "    df: string\n",
    "        the dataframe containing the power plant data\n",
    "    export: True/False boolian\n",
    "        False = will not upload resulting df containing the power plant metric to AWS\n",
    "        True = will upload resulting df containing the power plant metric to AWS\n",
    "    export_filename: string\n",
    "        name of the csv file to be uploaded to AWS\n",
    "\n",
    "    Note:\n",
    "    This function assumes users have configured the AWS CLI such that their access key / secret key pair are stored in ~/.aws/credentials.\n",
    "    See https://docs.aws.amazon.com/cli/latest/userguide/getting-started-install.html for guidance.\n",
    "    '''   \n",
    "    print('Data transformation: isolate relevant columns for metric calculation')\n",
    "    print('Data transformation: check for duplicate plant IDs and retain just one')\n",
    "\n",
    "    filtered_power_plants = df[['PlantName', 'CECPlantID', 'County','geometry']]\n",
    "\n",
    "    # Establish columns to check for duplicates\n",
    "    columns_to_check = ['CECPlantID']\n",
    "\n",
    "    # Find duplicate rows based on specified columns\n",
    "    duplicate_mask = filtered_power_plants.duplicated(subset=columns_to_check, keep='first')\n",
    "\n",
    "    # Filter rows based on condition on the numeric column\n",
    "    cleaned_power_plants = filtered_power_plants[~(duplicate_mask)]\n",
    "    \n",
    "    # read in CA census tiger file\n",
    "    census_shp_dir = \"s3://ca-climate-index/0_map_data/2021_tiger_census_tract/2021_ca_tract/\"\n",
    "    ca_boundaries = gpd.read_file(census_shp_dir)\n",
    "\n",
    "    # Create a copy of the relevant columns from ca_boundaries\n",
    "    filtered_ca_boundaries = ca_boundaries[['GEOID', 'geometry']].copy()  # Added parentheses to the copy method\n",
    "\n",
    "    # Rename the 'GEOID' column to 'tract'\n",
    "    filtered_ca_boundaries = filtered_ca_boundaries.rename(columns={'GEOID': 'tract'})  # Corrected the rename method call\n",
    "\n",
    "    # Remove the first character from the 'tract' column\n",
    "    filtered_ca_boundaries['tract'] = filtered_ca_boundaries['tract'].str[1:]\n",
    "\n",
    "    print('Data transformation: merge geometries with California tiger census tract data (2021)')\n",
    "\n",
    "    ca_power_plants = gpd.sjoin(cleaned_power_plants, filtered_ca_boundaries, how='right', predicate='within')\n",
    "\n",
    "    print('Data transformation: make new dataframe by grouping data by census tracts and sum multiple entries')\n",
    "    # Group by 'tract' and count the number of entries where 'CECPlantID' exists\n",
    "    tract_power_counts = ca_power_plants.groupby('tract')['CECPlantID'].apply(lambda x: x.notnull().sum()).reset_index(name='power_plant_count')\n",
    "\n",
    "    # export to csv and upload to AWS\n",
    "    if export == True:\n",
    "        tract_power_counts.to_csv(export_filename)\n",
    "        bucket_name = 'ca-climate-index'\n",
    "        directory = '3_fair_data/index_data'\n",
    "        export_filename = [export_filename]\n",
    "        upload_csv_aws(export_filename, bucket_name, directory)\n",
    "\n",
    "        os.remove('built_cec_power_plants.gpkg') # remove from local to clear up directory\n",
    "        os.remove(export_filename[0])\n",
    "\n",
    "    return tract_power_counts # returns df"
   ]
  },
  {
   "cell_type": "code",
   "execution_count": 13,
   "metadata": {},
   "outputs": [
    {
     "name": "stdout",
     "output_type": "stream",
     "text": [
      "Saved GeoPackage as 'built_cec_power_plants.gpkg' locally\n",
      "Saved GeoPackage as 'built_cec_transmission_lines.gpkg' locally\n"
     ]
    },
    {
     "data": {
      "text/html": [
       "<div>\n",
       "<style scoped>\n",
       "    .dataframe tbody tr th:only-of-type {\n",
       "        vertical-align: middle;\n",
       "    }\n",
       "\n",
       "    .dataframe tbody tr th {\n",
       "        vertical-align: top;\n",
       "    }\n",
       "\n",
       "    .dataframe thead th {\n",
       "        text-align: right;\n",
       "    }\n",
       "</style>\n",
       "<table border=\"1\" class=\"dataframe\">\n",
       "  <thead>\n",
       "    <tr style=\"text-align: right;\">\n",
       "      <th></th>\n",
       "      <th>tract</th>\n",
       "      <th>power_plant_count</th>\n",
       "    </tr>\n",
       "  </thead>\n",
       "  <tbody>\n",
       "    <tr>\n",
       "      <th>0</th>\n",
       "      <td>6001400100</td>\n",
       "      <td>0</td>\n",
       "    </tr>\n",
       "    <tr>\n",
       "      <th>1</th>\n",
       "      <td>6001400200</td>\n",
       "      <td>0</td>\n",
       "    </tr>\n",
       "    <tr>\n",
       "      <th>2</th>\n",
       "      <td>6001400300</td>\n",
       "      <td>0</td>\n",
       "    </tr>\n",
       "    <tr>\n",
       "      <th>3</th>\n",
       "      <td>6001400400</td>\n",
       "      <td>0</td>\n",
       "    </tr>\n",
       "    <tr>\n",
       "      <th>4</th>\n",
       "      <td>6001400500</td>\n",
       "      <td>0</td>\n",
       "    </tr>\n",
       "    <tr>\n",
       "      <th>...</th>\n",
       "      <td>...</td>\n",
       "      <td>...</td>\n",
       "    </tr>\n",
       "    <tr>\n",
       "      <th>9124</th>\n",
       "      <td>6115040902</td>\n",
       "      <td>0</td>\n",
       "    </tr>\n",
       "    <tr>\n",
       "      <th>9125</th>\n",
       "      <td>6115041001</td>\n",
       "      <td>0</td>\n",
       "    </tr>\n",
       "    <tr>\n",
       "      <th>9126</th>\n",
       "      <td>6115041002</td>\n",
       "      <td>1</td>\n",
       "    </tr>\n",
       "    <tr>\n",
       "      <th>9127</th>\n",
       "      <td>6115041101</td>\n",
       "      <td>2</td>\n",
       "    </tr>\n",
       "    <tr>\n",
       "      <th>9128</th>\n",
       "      <td>6115041102</td>\n",
       "      <td>1</td>\n",
       "    </tr>\n",
       "  </tbody>\n",
       "</table>\n",
       "<p>9129 rows × 2 columns</p>\n",
       "</div>"
      ],
      "text/plain": [
       "           tract  power_plant_count\n",
       "0     6001400100                  0\n",
       "1     6001400200                  0\n",
       "2     6001400300                  0\n",
       "3     6001400400                  0\n",
       "4     6001400500                  0\n",
       "...          ...                ...\n",
       "9124  6115040902                  0\n",
       "9125  6115041001                  0\n",
       "9126  6115041002                  1\n",
       "9127  6115041101                  2\n",
       "9128  6115041102                  1\n",
       "\n",
       "[9129 rows x 2 columns]"
      ]
     },
     "execution_count": 13,
     "metadata": {},
     "output_type": "execute_result"
    }
   ],
   "source": [
    "# pull csv from aws\n",
    "bucket_name = 'ca-climate-index'\n",
    "aws_dir = '2b_reproject/built_environment/utilities/ca_energy_commission/'\n",
    "pull_gpkg_from_directory(bucket_name, aws_dir)\n",
    "\n",
    "power_plants = gpd.read_file('built_cec_power_plants.gpkg')\n",
    "\n",
    "calc_power_plant(power_plants, export=True, export_filename = 'built_power_plant_metric.csv',\n",
    "                 varname = 'built_cec_power_plants')"
   ]
  }
 ],
 "metadata": {
  "kernelspec": {
   "display_name": "carb",
   "language": "python",
   "name": "python3"
  },
  "language_info": {
   "codemirror_mode": {
    "name": "ipython",
    "version": 3
   },
   "file_extension": ".py",
   "mimetype": "text/x-python",
   "name": "python",
   "nbconvert_exporter": "python",
   "pygments_lexer": "ipython3",
   "version": "3.9.18"
  }
 },
 "nbformat": 4,
 "nbformat_minor": 2
}
