{
 "cells": [
  {
   "cell_type": "markdown",
   "metadata": {},
   "source": [
    "## Cal-CRAI metric calculation: governance fire fuel reduction\n",
    "\n",
    "* number of acres treated for fuel reduction per county\n",
    "\n",
    "### * Note: This metric is no longer utilized in the Cal-CRAI, this notebook is obsolete"
   ]
  },
  {
   "cell_type": "code",
   "execution_count": 1,
   "metadata": {},
   "outputs": [],
   "source": [
    "import geopandas as gpd\n",
    "import s3fs\n",
    "import pandas as pd\n",
    "import boto3\n",
    "import dask_geopandas\n",
    "import dask.dataframe as dd\n",
    "import matplotlib.pyplot as plt\n",
    "import os\n",
    "import sys\n",
    "\n",
    "# suppress pandas purely educational warnings\n",
    "from warnings import simplefilter\n",
    "simplefilter(action=\"ignore\", category=pd.errors.PerformanceWarning)\n",
    "\n",
    "sys.path.append(os.path.expanduser('../../'))\n",
    "from scripts.utils.file_helpers import pull_gpkg_from_directory, upload_csv_aws\n",
    "from scripts.utils.write_metadata import append_metadata"
   ]
  },
  {
   "cell_type": "code",
   "execution_count": 2,
   "metadata": {},
   "outputs": [],
   "source": [
    "fs = s3fs.S3FileSystem()\n",
    "bucket = 'ca-climate-index'\n",
    "path = '2b_reproject/' \n",
    "pqt_list = [\n",
    "    'governance/community_preparedness/usda_forest_service/governance_usda_fuel_reduction.parquet.gzip'\n",
    "]"
   ]
  },
  {
   "cell_type": "code",
   "execution_count": null,
   "metadata": {},
   "outputs": [],
   "source": [
    "for pqt in pqt_list:\n",
    "    ppath = path+pqt\n",
    "    bucket_uri = f's3://{bucket}/{ppath}'\n",
    "    print(pqt)\n",
    "    df = gpd.read_parquet(bucket_uri)\n",
    "fuel_reduction_data = df"
   ]
  },
  {
   "cell_type": "code",
   "execution_count": null,
   "metadata": {},
   "outputs": [],
   "source": [
    "fuel_reduction_data"
   ]
  },
  {
   "cell_type": "code",
   "execution_count": null,
   "metadata": {},
   "outputs": [],
   "source": [
    "fuel_reduction_data.columns"
   ]
  },
  {
   "cell_type": "markdown",
   "metadata": {},
   "source": [
    "## Isolating the dataset for desired columns for metric calculation\n",
    "\n",
    "The following columns were inspected and designated as redundant or not needed:\n",
    "GIS_ACRES, NBR_UNITS1, TREATMENT1, DATE_PLANN, FY_PLANNED, TREATMENT_"
   ]
  },
  {
   "cell_type": "code",
   "execution_count": null,
   "metadata": {},
   "outputs": [],
   "source": [
    "fuel_reduction_data_columns = fuel_reduction_data[['DATE_PLANN', 'FISCAL_YEA', 'FY_PLANNED', 'NBR_UNITS_', 'UOM', 'USCB_GEOID']]\n",
    "fuel_reduction_data_columns = fuel_reduction_data_columns.rename(columns={'USCB_GEOID':'tract'})\n",
    "fuel_reduction_data_columns"
   ]
  },
  {
   "cell_type": "markdown",
   "metadata": {},
   "source": [
    "## Checking what the date range of the data is\n",
    "* deciding to use all and total them up"
   ]
  },
  {
   "cell_type": "code",
   "execution_count": null,
   "metadata": {},
   "outputs": [],
   "source": [
    "unique_funding_year = fuel_reduction_data_columns['FISCAL_YEA'].unique()\n",
    "\n",
    "# Display all unique entries\n",
    "print(unique_funding_year)"
   ]
  },
  {
   "cell_type": "code",
   "execution_count": null,
   "metadata": {},
   "outputs": [],
   "source": [
    "# ensuring that the only unit of measure is acrage\n",
    "unique_acrage_units = fuel_reduction_data_columns['UOM'].unique()\n",
    "\n",
    "# Display all unique entries\n",
    "print(unique_acrage_units)"
   ]
  },
  {
   "cell_type": "markdown",
   "metadata": {},
   "source": [
    "## Import Cal-CRAI census tract data and merging with our cleaned fuel reduction data based on tract"
   ]
  },
  {
   "cell_type": "code",
   "execution_count": null,
   "metadata": {},
   "outputs": [],
   "source": [
    "# read in CA census tiger file\n",
    "ca_tract_county = \"s3://ca-climate-index/0_map_data/ca_tracts_county.csv\"\n",
    "ca_tract_county = gpd.read_file(ca_tract_county)\n",
    "ca_tract_county = ca_tract_county.drop(columns={'field_1', 'geometry'})\n",
    "ca_tract_county.columns = ca_tract_county.columns.str.lower()\n",
    "ca_tract_county = ca_tract_county.applymap(lambda s: s.lower() if type(s) == str else s)\n",
    "\n",
    "ca_tract_county"
   ]
  },
  {
   "cell_type": "code",
   "execution_count": null,
   "metadata": {},
   "outputs": [],
   "source": [
    "fuel_reduction_merge = pd.merge(ca_tract_county, fuel_reduction_data_columns, on='tract', how='right')\n",
    "fuel_reduction_merge"
   ]
  },
  {
   "cell_type": "code",
   "execution_count": null,
   "metadata": {},
   "outputs": [],
   "source": [
    "# checking Humboldt results before we group by county and sum the totals\n",
    "humboldt = fuel_reduction_merge[fuel_reduction_merge['county'] == 'humboldt']\n",
    "humboldt"
   ]
  },
  {
   "cell_type": "markdown",
   "metadata": {},
   "source": [
    "## Grouping by county and summing acres planned to be treated\n",
    "* results in 20 CA counties that have data"
   ]
  },
  {
   "cell_type": "code",
   "execution_count": null,
   "metadata": {},
   "outputs": [],
   "source": [
    "# group by 'county' and sum the values in 'NBR_UNITS_'\n",
    "county_count_fuel_reduction = fuel_reduction_merge.groupby('county')['NBR_UNITS_'].sum().reset_index()\n",
    "\n",
    "# rename the counting column for clarity\n",
    "county_count_fuel_reduction = county_count_fuel_reduction.rename(columns={'NBR_UNITS_': 'total_fuel_reduction_acres_planned'})\n",
    "\n",
    "# print the number of unique counties\n",
    "print(len(county_count_fuel_reduction))\n",
    "\n",
    "county_count_fuel_reduction\n"
   ]
  },
  {
   "cell_type": "markdown",
   "metadata": {},
   "source": [
    "## Merge once again with CA tracts based on county to attribute county sums to their respective tracts"
   ]
  },
  {
   "cell_type": "code",
   "execution_count": null,
   "metadata": {},
   "outputs": [],
   "source": [
    "fuel_reduction_metric = pd.merge(ca_tract_county, county_count_fuel_reduction, on='county', how='left')\n",
    "fuel_reduction_metric"
   ]
  },
  {
   "cell_type": "code",
   "execution_count": null,
   "metadata": {},
   "outputs": [],
   "source": [
    "# checking if all Trinity tracts have the same acrage\n",
    "# also checked that 2021 census data has 4 total Trinity tracts\n",
    "trinity = fuel_reduction_metric[fuel_reduction_metric['county'] == 'trinity']\n",
    "trinity"
   ]
  },
  {
   "cell_type": "code",
   "execution_count": 22,
   "metadata": {},
   "outputs": [],
   "source": [
    "# save final df as a csv for upload to S3 bucket\n",
    "fuel_reduction_metric.to_csv('governance_fuel_reduction_metric.csv', index=False)"
   ]
  },
  {
   "cell_type": "markdown",
   "metadata": {},
   "source": [
    "## Function Call"
   ]
  },
  {
   "cell_type": "code",
   "execution_count": 16,
   "metadata": {},
   "outputs": [],
   "source": [
    "@append_metadata\n",
    "def fuel_reduction_upload(input_csv, export=False, varname=''):\n",
    "    '''\n",
    "    Uploads our fuel reduction metric to S3 bucket. The metric is:\n",
    "    \n",
    "    * Number of acres treated for fire fuel reduction per California county\n",
    "    \n",
    "    Data for this metric was sourced from the United States Department of Agriculture Forest Service at:\n",
    "    https://data.fs.usda.gov/geodata/edw/datasets.php?xmlKeyword=Hazardous+Fuel+Treatment\n",
    "\n",
    "    Methods\n",
    "    -------\n",
    "    Relevant data columns were isolated.\n",
    "    Data was merged with CA tract/county data to attribute each data tract to a California county.\n",
    "    Number of acres planned to be treated per county was calculated by grouping counties together and summing acre counts.\n",
    "    Data was once again merged with CA tracts based on county to attribute acrage counts to each CA tract.\n",
    "    \n",
    "    Parameters\n",
    "    ----------\n",
    "    input_csv: string\n",
    "        csv fire fuel reduction metric data \n",
    "    export: True/False boolean\n",
    "        False = will not upload resulting df containing CAL CRAI fuel reduction metric to AWS\n",
    "        True = will upload resulting df containing CAL CRAI fuel reduction metric to AWS\n",
    "\n",
    "    Script\n",
    "    ------\n",
    "    governance_fuel_reduction.ipynb\n",
    "\n",
    "    Note:\n",
    "    This function assumes users have configured the AWS CLI such that their access key / secret key pair are stored in ~/.aws/credentials.\n",
    "    See https://docs.aws.amazon.com/cli/latest/userguide/getting-started-install.html for guidance.\n",
    "    '''\n",
    "    print('Data transformation: relevant columns were isolated and renamed')\n",
    "    print('Data transformation: data was merged with CA tracts and counties to generate Cal-CRAI metric.')\n",
    "    print('Data transformation: data was grouped by county and summed to calculate treated acres.')\n",
    "\n",
    "    if export == True:\n",
    "        bucket_name = 'ca-climate-index'\n",
    "        directory = '3_fair_data/index_data'\n",
    "        export_filename = [input_csv]\n",
    "        upload_csv_aws(export_filename, bucket_name, directory)\n",
    "\n",
    "    if export == False:\n",
    "        print(f'{input_csv} uploaded to AWS.')\n",
    " \n",
    "    #if os.path.exists(input_csv):\n",
    "    #   os.remove(input_csv)"
   ]
  },
  {
   "cell_type": "code",
   "execution_count": 17,
   "metadata": {},
   "outputs": [],
   "source": [
    "input_csv = 'governance_fuel_reduction_metric.csv'\n",
    "varname = 'governance_usda_fuel_reduction'\n",
    "\n",
    "fuel_reduction_upload(input_csv, export=False, varname='test') #varname"
   ]
  }
 ],
 "metadata": {
  "kernelspec": {
   "display_name": "carb",
   "language": "python",
   "name": "python3"
  },
  "language_info": {
   "codemirror_mode": {
    "name": "ipython",
    "version": 3
   },
   "file_extension": ".py",
   "mimetype": "text/x-python",
   "name": "python",
   "nbconvert_exporter": "python",
   "pygments_lexer": "ipython3",
   "version": "3.9.18"
  }
 },
 "nbformat": 4,
 "nbformat_minor": 2
}
