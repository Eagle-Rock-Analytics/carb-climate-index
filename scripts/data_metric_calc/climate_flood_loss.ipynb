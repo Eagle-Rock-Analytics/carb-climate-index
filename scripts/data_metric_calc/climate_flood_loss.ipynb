{
 "cells": [
  {
   "cell_type": "markdown",
   "metadata": {},
   "source": [
    "## Cal-CRAI Metric Calculation\n",
    "Domain: Climate Risks \\\n",
    "Indicator: Flooding Loss\n",
    "\n",
    "This notebook calculates two metrics, sourced from NOAA:\n",
    "* Metric 1: Number of direct flood/flash flood fatalities since 1996\n",
    "* Metric 2: Estimated monetary crop damage"
   ]
  },
  {
   "cell_type": "code",
   "execution_count": 2,
   "metadata": {
    "execution": {
     "iopub.execute_input": "2024-08-12T15:39:26.577570Z",
     "iopub.status.busy": "2024-08-12T15:39:26.575584Z",
     "iopub.status.idle": "2024-08-12T15:39:26.590674Z",
     "shell.execute_reply": "2024-08-12T15:39:26.589140Z",
     "shell.execute_reply.started": "2024-08-12T15:39:26.577474Z"
    }
   },
   "outputs": [],
   "source": [
    "import os\n",
    "import sys\n",
    "import pandas as pd\n",
    "import io\n",
    "import numpy as np\n",
    "import geopandas as gpd\n",
    "from shapely.geometry import Point\n",
    "\n",
    "sys.path.append(os.path.expanduser('../../'))\n",
    "from scripts.utils.write_metadata import (\n",
    "    append_metadata\n",
    ")\n",
    "from scripts.utils.file_helpers import (\n",
    "    pull_csv_from_directory, upload_csv_aws\n",
    ") \n",
    "pd.set_option('display.max_columns', None)"
   ]
  },
  {
   "cell_type": "code",
   "execution_count": null,
   "metadata": {
    "execution": {
     "iopub.execute_input": "2024-08-12T15:39:27.911568Z",
     "iopub.status.busy": "2024-08-12T15:39:27.910373Z",
     "iopub.status.idle": "2024-08-12T15:39:30.564919Z",
     "shell.execute_reply": "2024-08-12T15:39:30.564537Z",
     "shell.execute_reply.started": "2024-08-12T15:39:27.911490Z"
    }
   },
   "outputs": [],
   "source": [
    "bucket_name = 'ca-climate-index'\n",
    "aws_dir = '1_pull_data/climate_risk/flood/loss/noaa/downloaded_files/all_events/'\n",
    "folder = 'csv_folder'\n",
    "\n",
    "pull_csv_from_directory(bucket_name, aws_dir, folder, search_zipped=False)"
   ]
  },
  {
   "cell_type": "code",
   "execution_count": null,
   "metadata": {
    "execution": {
     "iopub.execute_input": "2024-08-12T15:39:30.565901Z",
     "iopub.status.busy": "2024-08-12T15:39:30.565786Z",
     "iopub.status.idle": "2024-08-12T15:39:30.779115Z",
     "shell.execute_reply": "2024-08-12T15:39:30.778797Z",
     "shell.execute_reply.started": "2024-08-12T15:39:30.565892Z"
    }
   },
   "outputs": [],
   "source": [
    "# read in data\n",
    "noaa_storm_event_data = pd.read_csv(f'csv_folder/all_noaa_storm_events_ca.csv')\n",
    "noaa_storm_event_data"
   ]
  },
  {
   "cell_type": "code",
   "execution_count": null,
   "metadata": {
    "execution": {
     "iopub.execute_input": "2024-08-12T15:39:38.232497Z",
     "iopub.status.busy": "2024-08-12T15:39:38.231422Z",
     "iopub.status.idle": "2024-08-12T15:39:38.244886Z",
     "shell.execute_reply": "2024-08-12T15:39:38.243843Z",
     "shell.execute_reply.started": "2024-08-12T15:39:38.232422Z"
    }
   },
   "outputs": [],
   "source": [
    "noaa_storm_event_data.columns"
   ]
  },
  {
   "cell_type": "code",
   "execution_count": null,
   "metadata": {
    "execution": {
     "iopub.execute_input": "2024-08-12T15:43:54.572515Z",
     "iopub.status.busy": "2024-08-12T15:43:54.571193Z",
     "iopub.status.idle": "2024-08-12T15:43:54.599821Z",
     "shell.execute_reply": "2024-08-12T15:43:54.599145Z",
     "shell.execute_reply.started": "2024-08-12T15:43:54.572433Z"
    }
   },
   "outputs": [],
   "source": [
    "# isolate for relevant columns\n",
    "columns = [\n",
    "'EVENT_ID',\n",
    "'YEAR', 'EVENT_TYPE', 'CZ_TYPE', 'CZ_FIPS', 'DEATHS_DIRECT',\n",
    "'DAMAGE_CROPS','BEGIN_LAT', 'BEGIN_LON'\n",
    "]\n",
    "noaa_storm_columns = noaa_storm_event_data[columns]\n",
    "noaa_storm_columns"
   ]
  },
  {
   "cell_type": "code",
   "execution_count": null,
   "metadata": {
    "execution": {
     "iopub.execute_input": "2024-08-12T15:43:56.016375Z",
     "iopub.status.busy": "2024-08-12T15:43:56.015207Z",
     "iopub.status.idle": "2024-08-12T15:43:56.025800Z",
     "shell.execute_reply": "2024-08-12T15:43:56.024766Z",
     "shell.execute_reply.started": "2024-08-12T15:43:56.016305Z"
    }
   },
   "outputs": [],
   "source": [
    "# checking how many nan entries are within one of the lat columns\n",
    "nan_count = noaa_storm_columns.BEGIN_LAT.isna().sum()\n",
    "print(f\"Number of NaN values in BEGIN_LAT: {nan_count}\")"
   ]
  },
  {
   "cell_type": "code",
   "execution_count": null,
   "metadata": {
    "execution": {
     "iopub.execute_input": "2024-08-12T15:43:56.781728Z",
     "iopub.status.busy": "2024-08-12T15:43:56.780986Z",
     "iopub.status.idle": "2024-08-12T15:43:56.794557Z",
     "shell.execute_reply": "2024-08-12T15:43:56.793737Z",
     "shell.execute_reply.started": "2024-08-12T15:43:56.781691Z"
    }
   },
   "outputs": [],
   "source": [
    "# view all entries within the event type columns\n",
    "noaa_storm_columns.EVENT_TYPE.unique()"
   ]
  },
  {
   "cell_type": "code",
   "execution_count": null,
   "metadata": {
    "execution": {
     "iopub.execute_input": "2024-08-12T15:43:57.957194Z",
     "iopub.status.busy": "2024-08-12T15:43:57.956094Z",
     "iopub.status.idle": "2024-08-12T15:43:57.985437Z",
     "shell.execute_reply": "2024-08-12T15:43:57.984863Z",
     "shell.execute_reply.started": "2024-08-12T15:43:57.957127Z"
    }
   },
   "outputs": [],
   "source": [
    "# select for relevent flood related events\n",
    "flood_types = [    \n",
    "    'Flash Flood',\n",
    "    'Heavy Rain',  \n",
    "    'Flood',\n",
    "    'Coastal Flood',  \n",
    "    'Tsunami'\n",
    "]\n",
    "\n",
    "cz_type_county = ['C']\n",
    "\n",
    "# filter for flood events based on event type\n",
    "flood_events = noaa_storm_columns[noaa_storm_columns['EVENT_TYPE'].isin(flood_types)]\n",
    "flood_events"
   ]
  },
  {
   "cell_type": "code",
   "execution_count": null,
   "metadata": {
    "execution": {
     "iopub.execute_input": "2024-08-12T15:43:59.632652Z",
     "iopub.status.busy": "2024-08-12T15:43:59.631937Z",
     "iopub.status.idle": "2024-08-12T15:43:59.657336Z",
     "shell.execute_reply": "2024-08-12T15:43:59.656290Z",
     "shell.execute_reply.started": "2024-08-12T15:43:59.632615Z"
    }
   },
   "outputs": [],
   "source": [
    "# there is a small percentage of the data with lat & lon entries, so we will use county entries within the CZ_TYPE and CZ_FIPS\n",
    "# turther filter for county events (CZ_TYPE == 'C')\n",
    "flood_county_events = flood_events[flood_events['CZ_TYPE'].isin(cz_type_county)]\n",
    "\n",
    "flood_county_events = flood_county_events.copy()\n",
    "flood_county_event_filtered = flood_county_events.drop(columns=['BEGIN_LAT', 'BEGIN_LON'])\n",
    "# display the updated DataFrame\n",
    "flood_county_event_filtered"
   ]
  },
  {
   "cell_type": "code",
   "execution_count": null,
   "metadata": {
    "execution": {
     "iopub.execute_input": "2024-08-12T15:44:02.891630Z",
     "iopub.status.busy": "2024-08-12T15:44:02.890833Z",
     "iopub.status.idle": "2024-08-12T15:44:02.905713Z",
     "shell.execute_reply": "2024-08-12T15:44:02.904381Z",
     "shell.execute_reply.started": "2024-08-12T15:44:02.891589Z"
    }
   },
   "outputs": [],
   "source": [
    "# drop duplicates based on event id columns, there are no duplicates\n",
    "selected_columns = ['EVENT_ID']\n",
    "flood_county_event_drop_duplicates = flood_county_event_filtered.duplicated(subset=selected_columns, keep='first')\n",
    "flood_county_event_drop_duplicates\n",
    "duplicate_count = flood_county_event_drop_duplicates.sum()\n",
    "duplicate_count"
   ]
  },
  {
   "cell_type": "code",
   "execution_count": null,
   "metadata": {
    "execution": {
     "iopub.execute_input": "2024-08-12T15:44:03.896264Z",
     "iopub.status.busy": "2024-08-12T15:44:03.895530Z",
     "iopub.status.idle": "2024-08-12T15:44:03.920901Z",
     "shell.execute_reply": "2024-08-12T15:44:03.919454Z",
     "shell.execute_reply.started": "2024-08-12T15:44:03.896227Z"
    }
   },
   "outputs": [],
   "source": [
    "flood_county_event_filtered"
   ]
  },
  {
   "cell_type": "code",
   "execution_count": null,
   "metadata": {
    "execution": {
     "iopub.execute_input": "2024-08-12T15:44:06.376223Z",
     "iopub.status.busy": "2024-08-12T15:44:06.375295Z",
     "iopub.status.idle": "2024-08-12T15:44:06.386073Z",
     "shell.execute_reply": "2024-08-12T15:44:06.385379Z",
     "shell.execute_reply.started": "2024-08-12T15:44:06.376161Z"
    }
   },
   "outputs": [],
   "source": [
    "flood_county_event_filtered.DAMAGE_CROPS.unique()"
   ]
  },
  {
   "cell_type": "code",
   "execution_count": null,
   "metadata": {
    "execution": {
     "iopub.execute_input": "2024-08-12T15:44:07.360328Z",
     "iopub.status.busy": "2024-08-12T15:44:07.359470Z",
     "iopub.status.idle": "2024-08-12T15:44:07.392568Z",
     "shell.execute_reply": "2024-08-12T15:44:07.391978Z",
     "shell.execute_reply.started": "2024-08-12T15:44:07.360281Z"
    }
   },
   "outputs": [],
   "source": [
    "# function to convert 'M' and 'K' suffixes while properly adjusting value\n",
    "def convert_to_numeric(value):\n",
    "    if pd.isna(value):\n",
    "        return np.nan\n",
    "    value = value.strip()\n",
    "    if value.endswith('M'):\n",
    "        return float(value[:-1]) * 1e6\n",
    "    elif value.endswith('K'):\n",
    "        return float(value[:-1]) * 1e3\n",
    "    else:\n",
    "        return float(value)\n",
    "    \n",
    "flood_county_event_adjusted = flood_county_event_filtered\n",
    "# Apply the function to the DAMAGE_CROPS column\n",
    "flood_county_event_adjusted['DAMAGE_CROPS'] = flood_county_event_adjusted['DAMAGE_CROPS'].apply(convert_to_numeric)\n",
    "\n",
    "# Display the DataFrame to verify the conversion\n",
    "flood_county_event_adjusted"
   ]
  },
  {
   "cell_type": "code",
   "execution_count": null,
   "metadata": {
    "execution": {
     "iopub.execute_input": "2024-08-12T15:44:14.032604Z",
     "iopub.status.busy": "2024-08-12T15:44:14.031647Z",
     "iopub.status.idle": "2024-08-12T15:44:14.059643Z",
     "shell.execute_reply": "2024-08-12T15:44:14.058301Z",
     "shell.execute_reply.started": "2024-08-12T15:44:14.032545Z"
    }
   },
   "outputs": [],
   "source": [
    "# sum indirect and direct deaths to create total fatalies column\n",
    "flood_county_event_filtered['total_fatalities'] = flood_county_event_filtered['DEATHS_DIRECT']\n",
    "flood_county_event_filtered['DAMAGE_CROPS'] = pd.to_numeric(flood_county_event_filtered['DAMAGE_CROPS'])\n",
    "\n",
    "flood_county_event_filtered"
   ]
  },
  {
   "cell_type": "code",
   "execution_count": null,
   "metadata": {
    "execution": {
     "iopub.execute_input": "2024-08-12T15:44:15.741898Z",
     "iopub.status.busy": "2024-08-12T15:44:15.740768Z",
     "iopub.status.idle": "2024-08-12T15:44:15.771523Z",
     "shell.execute_reply": "2024-08-12T15:44:15.770888Z",
     "shell.execute_reply.started": "2024-08-12T15:44:15.741829Z"
    }
   },
   "outputs": [],
   "source": [
    "columns_to_sum = ['total_fatalities','DAMAGE_CROPS']\n",
    "flood_loss_sums = flood_county_event_filtered.groupby('CZ_FIPS')[columns_to_sum].sum().reset_index()\n",
    "flood_loss_sums = flood_loss_sums.rename(columns={'CZ_FIPS': 'countyfp', 'DAMAGE_CROPS':'estimated_crop_loss_cost'})\n",
    "flood_loss_sums['countyfp'] = flood_loss_sums['countyfp'].astype(str).str.zfill(3)\n",
    "\n",
    "flood_loss_sums\n",
    "                                                   "
   ]
  },
  {
   "cell_type": "code",
   "execution_count": null,
   "metadata": {
    "execution": {
     "iopub.execute_input": "2024-08-12T15:44:21.523819Z",
     "iopub.status.busy": "2024-08-12T15:44:21.523063Z",
     "iopub.status.idle": "2024-08-12T15:44:26.459791Z",
     "shell.execute_reply": "2024-08-12T15:44:26.459447Z",
     "shell.execute_reply.started": "2024-08-12T15:44:21.523782Z"
    }
   },
   "outputs": [],
   "source": [
    "# read in CA census tiger file\n",
    "ca_tract_county = \"s3://ca-climate-index/0_map_data/ca_tracts_county.csv\"\n",
    "ca_tract_county = gpd.read_file(ca_tract_county)\n",
    "ca_tract_county = ca_tract_county.drop(columns={'field_1', 'geometry'})\n",
    "ca_tract_county.columns = ca_tract_county.columns.str.lower()\n",
    "ca_tract_county = ca_tract_county.applymap(lambda s: s.lower() if type(s) == str else s)\n",
    "\n",
    "ca_tract_county"
   ]
  },
  {
   "cell_type": "code",
   "execution_count": null,
   "metadata": {
    "execution": {
     "iopub.execute_input": "2024-08-12T15:44:26.461371Z",
     "iopub.status.busy": "2024-08-12T15:44:26.461174Z",
     "iopub.status.idle": "2024-08-12T15:44:26.470407Z",
     "shell.execute_reply": "2024-08-12T15:44:26.470105Z",
     "shell.execute_reply.started": "2024-08-12T15:44:26.461358Z"
    }
   },
   "outputs": [],
   "source": [
    "# merge flood loss data with California census tract data\n",
    "flood_loss_merge = pd.merge(ca_tract_county, flood_loss_sums, on='countyfp', how='left')\n",
    "flood_loss_merge"
   ]
  },
  {
   "cell_type": "code",
   "execution_count": 19,
   "metadata": {
    "execution": {
     "iopub.execute_input": "2024-08-12T15:44:26.471084Z",
     "iopub.status.busy": "2024-08-12T15:44:26.470971Z",
     "iopub.status.idle": "2024-08-12T15:44:26.489356Z",
     "shell.execute_reply": "2024-08-12T15:44:26.488978Z",
     "shell.execute_reply.started": "2024-08-12T15:44:26.471074Z"
    }
   },
   "outputs": [],
   "source": [
    "# save metric calculated data as separate csvs for upload\n",
    "flood_crop_loss_metric = flood_loss_merge[['tract', 'countyfp', 'estimated_crop_loss_cost']]\n",
    "flood_crop_loss_metric = flood_crop_loss_metric.rename(columns={'estimated_crop_loss_cost':'estimated_flood_crop_loss_cost'})\n",
    "\n",
    "flood_fatality_loss_metric = flood_loss_merge[['tract', 'countyfp', 'total_fatalities']]\n",
    "flood_fatality_loss_metric = flood_fatality_loss_metric.rename(columns={'total_fatalities':'total_flood_fatalities'})\n",
    "\n",
    "flood_crop_loss_metric.to_csv('climate_flood_crop_loss_metric.csv', index=False)\n",
    "flood_fatality_loss_metric.to_csv('climate_flood_fatality_loss_metric.csv', index=False)"
   ]
  },
  {
   "cell_type": "code",
   "execution_count": 23,
   "metadata": {},
   "outputs": [],
   "source": [
    "@append_metadata\n",
    "def flood_loss_upload(input_csv, export=False, varname=''):\n",
    "    '''\n",
    "    Uploads the flood loss metrics to S3 bucket. The metrics are:\n",
    "    \n",
    "    * number of direct flood/flash flood fatalities per county since 1996\n",
    "    * estimated monetary crop damage\n",
    "    \n",
    "    Data for this metric was sourced from NOAA's - Storm event database:\n",
    "    https://www.ncdc.noaa.gov/stormevents/\n",
    "\n",
    "    Methods\n",
    "    -------\n",
    "    Relevant columns to our data metrics were isolated, various spatial options were considered, but county fips had the fewest NaN data.\n",
    "    Data was isolated to include flooding and flood related storm events.\n",
    "    Duplicates were removed based on storm event ID.\n",
    "    Data was isolated to included populated county entries.\n",
    "    Direct fatalities summed to create total fatalities column.\n",
    "    Data were grouped by county and summed to calculate final metrics.\n",
    "    \n",
    "    Parameters\n",
    "    ----------\n",
    "    input_csv: string\n",
    "        csv flood loss data \n",
    "    export: True/False boolean\n",
    "        False = will not upload resulting df containing CAL CRAI flood loss metrics to AWS\n",
    "        True = will upload resulting df containing CAL CRAI flood loss metrics to AWS\n",
    "\n",
    "    Script\n",
    "    ------\n",
    "    climate_flood_loss.ipynb\n",
    "\n",
    "    Note:\n",
    "    This function assumes users have configured the AWS CLI such that their access key / secret key pair are stored in ~/.aws/credentials.\n",
    "    See https://docs.aws.amazon.com/cli/latest/userguide/getting-started-install.html for guidance.\n",
    "    '''\n",
    "    print('Data transformation: relevant columns were isolated and renamed')\n",
    "    print('Data transformation: duplicate entries by event ID were dropped.')\n",
    "    print('Data transformation: data was grouped by county and summed.')\n",
    "    print('Data transformation: data was merged with California census tracts.') \n",
    " \n",
    "    if export == True:\n",
    "        bucket_name = 'ca-climate-index'\n",
    "        directory = '3_fair_data/index_data'\n",
    "        export_filename = [input_csv]\n",
    "        upload_csv_aws(export_filename, bucket_name, directory)\n",
    "\n",
    "    if export == False:\n",
    "        print(f'{input_csv} uploaded to AWS.')\n",
    " \n",
    "    if os.path.exists(input_csv):\n",
    "        os.remove(input_csv)"
   ]
  },
  {
   "cell_type": "code",
   "execution_count": null,
   "metadata": {},
   "outputs": [],
   "source": [
    "input_csvs = ['climate_flood_crop_loss_metric.csv',\n",
    "               'climate_flood_fatality_loss_metric.csv']\n",
    "\n",
    "varnames = ['climate_noaa_flood_crop_cost',\n",
    "            'climate_noaa_flood_fatalities']\n",
    "\n",
    "# Process the data and export\n",
    "for input_csv, varname in zip(input_csvs, varnames):\n",
    "    print(f'Processing {input_csv} with varname {varname}')\n",
    "    flood_loss_upload(input_csv, export=True, varname='test')\n",
    "    print(f'Completed uploading {input_csv} with varname {varname}')"
   ]
  }
 ],
 "metadata": {
  "kernelspec": {
   "display_name": "carb",
   "language": "python",
   "name": "python3"
  },
  "language_info": {
   "codemirror_mode": {
    "name": "ipython",
    "version": 3
   },
   "file_extension": ".py",
   "mimetype": "text/x-python",
   "name": "python",
   "nbconvert_exporter": "python",
   "pygments_lexer": "ipython3",
   "version": "3.9.18"
  }
 },
 "nbformat": 4,
 "nbformat_minor": 4
}
