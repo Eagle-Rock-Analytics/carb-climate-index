{
 "cells": [
  {
   "cell_type": "markdown",
   "metadata": {},
   "source": [
    "## Cal-CRAI Metric Calculation\n",
    "Domain: Society & Economy \\\n",
    "Indicator: Vulnerable Populations\n",
    "\n",
    "This notebook calculates 6 metrics, all sourced from the American Community Survey:\n",
    "* Metric 1: Ambulatory Difficulty: Percentage of population living with an ambulatory disability\n",
    "* Metric 2: Cognitive Difficulty: Percentage of population living with a cognitive disability\n",
    "* Metric 3: Financial Assistance: Percentage of population living in a household with Supplemental Security Income (SSI), cash public assistance income, or Food Stamps/SNAP in the last 12 months\n",
    "* Metric 4: Health Insurance: Percentage of population without health insurance\n",
    "* Metric 5: Percentage of population aged 65 years or older\n",
    "* Metric 6: Percentage of population under 5 years old\n",
    "* Metric 7: Percentage of population American Indian and Alaska Native"
   ]
  },
  {
   "cell_type": "code",
   "execution_count": 1,
   "metadata": {
    "execution": {
     "iopub.execute_input": "2024-04-23T16:26:26.725046Z",
     "iopub.status.busy": "2024-04-23T16:26:26.724098Z",
     "iopub.status.idle": "2024-04-23T16:26:27.683732Z",
     "shell.execute_reply": "2024-04-23T16:26:27.683328Z",
     "shell.execute_reply.started": "2024-04-23T16:26:26.724989Z"
    }
   },
   "outputs": [],
   "source": [
    "import os\n",
    "import sys\n",
    "import pandas as pd\n",
    "import io\n",
    "import numpy as np\n",
    "import boto3\n",
    "import zipfile\n",
    "import shutil\n",
    "import glob\n",
    "\n",
    "# suppress pandas purely educational warnings\n",
    "from warnings import simplefilter\n",
    "simplefilter(action=\"ignore\", category=pd.errors.PerformanceWarning)\n",
    "\n",
    "sys.path.append(os.path.expanduser('../../'))\n",
    "from scripts.utils.write_metadata import append_metadata\n",
    "from scripts.utils.file_helpers import pull_csv_from_directory, upload_csv_aws\n",
    "\n",
    "# Adjust display options, helpful for long descriptions within ACS data\n",
    "pd.set_option('display.max_colwidth', None)"
   ]
  },
  {
   "cell_type": "markdown",
   "metadata": {},
   "source": [
    "#### Pulling all zipped folders within the vulnerable populations folder from AWS"
   ]
  },
  {
   "cell_type": "code",
   "execution_count": null,
   "metadata": {
    "execution": {
     "iopub.execute_input": "2024-04-23T16:26:33.058259Z",
     "iopub.status.busy": "2024-04-23T16:26:33.056715Z",
     "iopub.status.idle": "2024-04-23T16:26:37.336857Z",
     "shell.execute_reply": "2024-04-23T16:26:37.336508Z",
     "shell.execute_reply.started": "2024-04-23T16:26:33.058205Z"
    }
   },
   "outputs": [],
   "source": [
    "bucket_name = 'ca-climate-index'\n",
    "aws_dir = '1_pull_data/society_economy/vulnerable_populations/american_community_survey/'\n",
    "folder = 'vulnerable_populations_data'\n",
    "\n",
    "pull_csv_from_directory(bucket_name, aws_dir, folder, search_zipped=True)"
   ]
  },
  {
   "cell_type": "markdown",
   "metadata": {},
   "source": [
    "#### Metrics 1-3: % of population aged 65 years or older, under 5 years old, American Indian and Alaska Native"
   ]
  },
  {
   "cell_type": "code",
   "execution_count": null,
   "metadata": {
    "execution": {
     "iopub.execute_input": "2024-04-23T16:26:52.334408Z",
     "iopub.status.busy": "2024-04-23T16:26:52.333535Z",
     "iopub.status.idle": "2024-04-23T16:26:52.607792Z",
     "shell.execute_reply": "2024-04-23T16:26:52.607460Z",
     "shell.execute_reply.started": "2024-04-23T16:26:52.334361Z"
    }
   },
   "outputs": [],
   "source": [
    "# Read in demographic data\n",
    "# we do not need the second row since it only describes the data\n",
    "demographic_data = pd.read_csv(r'vulnerable_populations_data/demographic_DP05.csv', skiprows=[1])\n",
    "demographic_data.head()"
   ]
  },
  {
   "cell_type": "code",
   "execution_count": null,
   "metadata": {
    "execution": {
     "iopub.execute_input": "2024-04-23T16:26:56.820333Z",
     "iopub.status.busy": "2024-04-23T16:26:56.819505Z",
     "iopub.status.idle": "2024-04-23T16:26:56.863342Z",
     "shell.execute_reply": "2024-04-23T16:26:56.862353Z",
     "shell.execute_reply.started": "2024-04-23T16:26:56.820289Z"
    }
   },
   "outputs": [],
   "source": [
    "# Making a Census tract column using the GEO_ID column\n",
    "demographic_data['Census_Tract'] = demographic_data.copy()['GEO_ID'].str[10:]\n",
    "demographic_data.head(3)"
   ]
  },
  {
   "cell_type": "markdown",
   "metadata": {},
   "source": [
    "#### Re-naming demographic data columns from their code to our desired metrics\n",
    "* dataset contains percent of population for each of the demographic metrics"
   ]
  },
  {
   "cell_type": "code",
   "execution_count": 6,
   "metadata": {
    "execution": {
     "iopub.execute_input": "2024-04-23T16:27:16.181236Z",
     "iopub.status.busy": "2024-04-23T16:27:16.180501Z",
     "iopub.status.idle": "2024-04-23T16:27:16.287337Z",
     "shell.execute_reply": "2024-04-23T16:27:16.286785Z",
     "shell.execute_reply.started": "2024-04-23T16:27:16.181198Z"
    }
   },
   "outputs": [],
   "source": [
    "# Renaming columns from dictionary code to definition\n",
    "demographic_data = demographic_data.rename(columns={'DP05_0005PE': 'percent_total_pop_under_5'})\n",
    "demographic_data = demographic_data.rename(columns={'DP05_0029PE': 'percent_total_pop_over_65'})\n",
    "demographic_data = demographic_data.rename(columns={'DP05_0039PE': 'percent_total_pop_american_indian_alaska_native'})\n",
    "demographic_data = demographic_data.rename(columns={'DP05_0001E': 'est_total_pop'})\n",
    "demographic_data = demographic_data.rename(columns={'DP05_0024E': 'est_total_pop_over_65'})\n",
    "demographic_data = demographic_data.rename(columns={'Census_Tract': 'census_tract'})\n",
    "\n",
    "# Adding in estimates under age 18 as it is used in another metric below\n",
    "demographic_data = demographic_data.rename(columns={'DP05_0019E': 'est_under_18'})"
   ]
  },
  {
   "cell_type": "markdown",
   "metadata": {},
   "source": [
    "* have to calculate percent of the population over 65, the values in their 'percent_pop_over_65' are not percentages\n",
    "* save df as a csv"
   ]
  },
  {
   "cell_type": "code",
   "execution_count": null,
   "metadata": {
    "execution": {
     "iopub.execute_input": "2024-04-23T16:27:32.934304Z",
     "iopub.status.busy": "2024-04-23T16:27:32.933549Z",
     "iopub.status.idle": "2024-04-23T16:27:32.993607Z",
     "shell.execute_reply": "2024-04-23T16:27:32.992966Z",
     "shell.execute_reply.started": "2024-04-23T16:27:32.934256Z"
    }
   },
   "outputs": [],
   "source": [
    "# Isolating relevant columns to our data metrics\n",
    "# Ommitting 'percent_total_pop_over_65' as the column is incorrect\n",
    "cri_demographic_data = demographic_data[\n",
    "['GEO_ID', 'census_tract', 'percent_total_pop_under_5', \n",
    " 'percent_total_pop_american_indian_alaska_native', \n",
    " 'est_total_pop', 'est_total_pop_over_65', 'est_under_18']\n",
    "]\n",
    "\n",
    "# Create a new column for % of population over 65 years using estimated population values \n",
    "cri_demographic_data = cri_demographic_data.assign(\n",
    "    real_percent_total_pop_over_65=\n",
    "    lambda x: 100*(x.est_total_pop_over_65 / x.est_total_pop)\n",
    ")\n",
    "\n",
    "# Saving metric df to .csv file\n",
    "cri_demographic_data.to_csv('society_age_race_metric.csv')\n",
    "print('Saving demographic metric data to a .csv')\n",
    "\n",
    "cri_demographic_data"
   ]
  },
  {
   "cell_type": "markdown",
   "metadata": {},
   "source": [
    "#### Separating the three metrics for individual csv creation"
   ]
  },
  {
   "cell_type": "code",
   "execution_count": 8,
   "metadata": {
    "execution": {
     "iopub.execute_input": "2024-04-23T16:28:13.536265Z",
     "iopub.status.busy": "2024-04-23T16:28:13.535489Z",
     "iopub.status.idle": "2024-04-23T16:28:13.553490Z",
     "shell.execute_reply": "2024-04-23T16:28:13.551677Z",
     "shell.execute_reply.started": "2024-04-23T16:28:13.536208Z"
    }
   },
   "outputs": [],
   "source": [
    "cri_under_5_metric = cri_demographic_data[\n",
    "['census_tract', 'percent_total_pop_under_5']\n",
    "]\n",
    "cri_american_indian_alaska_native_metric = cri_demographic_data[\n",
    "['census_tract', 'percent_total_pop_american_indian_alaska_native']\n",
    "]\n",
    "cri_over_65_metric = cri_demographic_data[\n",
    "['census_tract', 'est_total_pop_over_65', 'real_percent_total_pop_over_65']\n",
    "]"
   ]
  },
  {
   "cell_type": "code",
   "execution_count": null,
   "metadata": {
    "execution": {
     "iopub.execute_input": "2024-04-23T16:28:14.497060Z",
     "iopub.status.busy": "2024-04-23T16:28:14.496204Z",
     "iopub.status.idle": "2024-04-23T16:28:14.569578Z",
     "shell.execute_reply": "2024-04-23T16:28:14.568950Z",
     "shell.execute_reply.started": "2024-04-23T16:28:14.497004Z"
    }
   },
   "outputs": [],
   "source": [
    "# Saving metric df to .csv file\n",
    "cri_under_5_metric.to_csv('society_under_5yo_metric.csv')\n",
    "print('Saving under 5 years old metric data to a .csv')\n",
    "\n",
    "# Saving American Indian and Alaska Native population metrics to .csv file\n",
    "cri_american_indian_alaska_native_metric.to_csv('society_american_indian_alaska_native_metric.csv')\n",
    "print('Saving demographic metric data to a .csv')\n",
    "\n",
    "# Saving over 65 years old metric data to .csv file\n",
    "cri_over_65_metric.to_csv('society_over_65yo_metric.csv')\n",
    "print('Saving demographic metric data to a .csv')"
   ]
  },
  {
   "cell_type": "markdown",
   "metadata": {},
   "source": [
    "#### Using the ACS demographic data estimated population values for all other population percent calculations, we should create a separate csv file with just the population estimates per census tract"
   ]
  },
  {
   "cell_type": "code",
   "execution_count": null,
   "metadata": {
    "execution": {
     "iopub.execute_input": "2024-04-23T16:28:50.582742Z",
     "iopub.status.busy": "2024-04-23T16:28:50.581968Z",
     "iopub.status.idle": "2024-04-23T16:28:50.618872Z",
     "shell.execute_reply": "2024-04-23T16:28:50.618310Z",
     "shell.execute_reply.started": "2024-04-23T16:28:50.582705Z"
    }
   },
   "outputs": [],
   "source": [
    "cri_demographic_estimated_population = cri_demographic_data[['census_tract']]\n",
    "cri_demographic_estimated_population['est_total_pop'] = cri_demographic_data['est_total_pop']\n",
    "\n",
    "# Saving metric df to .csv file\n",
    "cri_demographic_estimated_population.to_csv('cri_acs_demographic_estimated_population.csv')\n",
    "print('Saving demographic metric data to a .csv')\n",
    "cri_demographic_estimated_population"
   ]
  },
  {
   "cell_type": "markdown",
   "metadata": {},
   "source": [
    "#### Metrics 4-5\n",
    "* will be using total population from demographic data (originally column DP05_0001E) to calculate percentages\n",
    "    - so csv files resulting from these metrics will be run through a final function at the end to calculate percent of population metric"
   ]
  },
  {
   "cell_type": "markdown",
   "metadata": {},
   "source": [
    "#### Ambulatory Disability"
   ]
  },
  {
   "cell_type": "code",
   "execution_count": null,
   "metadata": {
    "execution": {
     "iopub.execute_input": "2024-04-23T16:29:33.714471Z",
     "iopub.status.busy": "2024-04-23T16:29:33.713380Z",
     "iopub.status.idle": "2024-04-23T16:29:33.793081Z",
     "shell.execute_reply": "2024-04-23T16:29:33.792609Z",
     "shell.execute_reply.started": "2024-04-23T16:29:33.714407Z"
    }
   },
   "outputs": [],
   "source": [
    "# Read in ambulatory data\n",
    "ambulatory_data = pd.read_csv(r'vulnerable_populations_data/ambulatory_difficulty_B18105.csv', header=[0,1])\n",
    "ambulatory_data.head(5)"
   ]
  },
  {
   "cell_type": "code",
   "execution_count": null,
   "metadata": {
    "execution": {
     "iopub.execute_input": "2024-04-23T16:30:17.724982Z",
     "iopub.status.busy": "2024-04-23T16:30:17.723859Z",
     "iopub.status.idle": "2024-04-23T16:30:17.759279Z",
     "shell.execute_reply": "2024-04-23T16:30:17.758589Z",
     "shell.execute_reply.started": "2024-04-23T16:30:17.724915Z"
    }
   },
   "outputs": [],
   "source": [
    "# Making a Census tract column using the GEO_ID column\n",
    "ambulatory_data['Census_Tract'] = ambulatory_data.copy()['GEO_ID', 'Geography'].str[10:]\n",
    "filtered_ambulatory_disability = ambulatory_data[['GEO_ID', 'Census_Tract']]\n",
    "# filter data to only include estimated population living with an ambulatory disability\n",
    "filtered_ambulatory_disability = pd.concat(\n",
    "    [filtered_ambulatory_disability,\n",
    "    ambulatory_data.filter(regex=r'Estimate').filter(\n",
    "    regex=r'With an ambulatory difficulty')], axis=1)\n",
    "\n",
    "# Display the resulting DataFrame\n",
    "filtered_ambulatory_disability.head(5)"
   ]
  },
  {
   "cell_type": "code",
   "execution_count": null,
   "metadata": {
    "execution": {
     "iopub.execute_input": "2024-04-23T16:30:26.045881Z",
     "iopub.status.busy": "2024-04-23T16:30:26.044795Z",
     "iopub.status.idle": "2024-04-23T16:30:26.071423Z",
     "shell.execute_reply": "2024-04-23T16:30:26.070312Z",
     "shell.execute_reply.started": "2024-04-23T16:30:26.045822Z"
    }
   },
   "outputs": [],
   "source": [
    "# Create a new column by summing all columns with data (ie not tract info)\n",
    "filtered_ambulatory_disability['sum_ambulatory_disabilities'] = filtered_ambulatory_disability.iloc[:, 2:].sum(axis=1).astype(int)\n",
    "# Display the DataFrame with the new column\n",
    "filtered_ambulatory_disability.head(5)"
   ]
  },
  {
   "cell_type": "markdown",
   "metadata": {},
   "source": [
    "#### Subset necessary columns and clean up header row"
   ]
  },
  {
   "cell_type": "code",
   "execution_count": null,
   "metadata": {
    "execution": {
     "iopub.execute_input": "2024-04-23T16:30:49.640771Z",
     "iopub.status.busy": "2024-04-23T16:30:49.640093Z",
     "iopub.status.idle": "2024-04-23T16:30:49.680870Z",
     "shell.execute_reply": "2024-04-23T16:30:49.680461Z",
     "shell.execute_reply.started": "2024-04-23T16:30:49.640739Z"
    }
   },
   "outputs": [],
   "source": [
    "ambulatory_disability_sum = filtered_ambulatory_disability.loc[\n",
    ":,['Census_Tract', 'sum_ambulatory_disabilities']\n",
    "]\n",
    "ambulatory_disability_sum.columns = ambulatory_disability_sum.columns.droplevel(-1)\n",
    "# Saving metric df to .csv file\n",
    "ambulatory_disability_sum = ambulatory_disability_sum.rename(columns={'Census_Tract': 'census_tract'})\n",
    "\n",
    "ambulatory_disability_sum.to_csv('ambulatory_disability_sum.csv')\n",
    "print('Saving demographic metric data to a .csv')\n",
    "ambulatory_disability_sum"
   ]
  },
  {
   "cell_type": "markdown",
   "metadata": {},
   "source": [
    "#### Cognitive Disability"
   ]
  },
  {
   "cell_type": "code",
   "execution_count": null,
   "metadata": {
    "execution": {
     "iopub.execute_input": "2024-04-23T16:31:00.315871Z",
     "iopub.status.busy": "2024-04-23T16:31:00.314747Z",
     "iopub.status.idle": "2024-04-23T16:31:00.394154Z",
     "shell.execute_reply": "2024-04-23T16:31:00.393557Z",
     "shell.execute_reply.started": "2024-04-23T16:31:00.315827Z"
    }
   },
   "outputs": [],
   "source": [
    "# Read in cognitive data\n",
    "cognitive_data = pd.read_csv(r'vulnerable_populations_data/cognitive_difficulty_B18104.csv', header=[0,1])\n",
    "cognitive_data.head(5)"
   ]
  },
  {
   "cell_type": "code",
   "execution_count": null,
   "metadata": {
    "execution": {
     "iopub.execute_input": "2024-04-23T16:31:11.635762Z",
     "iopub.status.busy": "2024-04-23T16:31:11.635030Z",
     "iopub.status.idle": "2024-04-23T16:31:11.670539Z",
     "shell.execute_reply": "2024-04-23T16:31:11.669871Z",
     "shell.execute_reply.started": "2024-04-23T16:31:11.635728Z"
    }
   },
   "outputs": [],
   "source": [
    "# Making a Census tract column using the GEO_ID column\n",
    "cognitive_data['Census_Tract'] = cognitive_data.copy()['GEO_ID', 'Geography'].str[10:]\n",
    "# Filter columns based on criteria\n",
    "columns_to_keep = ['Census_Tract']  # Always keep these columns\n",
    "filtered_cognitive_disability = cognitive_data[['Census_Tract']]\n",
    "# filter data to only include estimated population living with a cognitive disability\n",
    "filtered_cognitive_disability = pd.concat(\n",
    "    [filtered_cognitive_disability,\n",
    "    cognitive_data.filter(regex=r'Estimate').filter(\n",
    "    regex=r'With a cognitive difficulty')], axis=1)\n",
    "# Display the resulting DataFrame\n",
    "filtered_cognitive_disability.head(5)"
   ]
  },
  {
   "cell_type": "code",
   "execution_count": null,
   "metadata": {
    "execution": {
     "iopub.execute_input": "2024-04-23T16:31:14.875955Z",
     "iopub.status.busy": "2024-04-23T16:31:14.875209Z",
     "iopub.status.idle": "2024-04-23T16:31:14.906475Z",
     "shell.execute_reply": "2024-04-23T16:31:14.905889Z",
     "shell.execute_reply.started": "2024-04-23T16:31:14.875918Z"
    }
   },
   "outputs": [],
   "source": [
    "# Create a new column by summing all data columns\n",
    "filtered_cognitive_disability['sum_cognitive_disabilities'] = filtered_cognitive_disability.iloc[:, 2:].sum(axis=1).astype(int)\n",
    "# Display the DataFrame with the new column\n",
    "display(filtered_cognitive_disability)"
   ]
  },
  {
   "cell_type": "code",
   "execution_count": null,
   "metadata": {
    "execution": {
     "iopub.execute_input": "2024-04-23T16:31:33.866821Z",
     "iopub.status.busy": "2024-04-23T16:31:33.866116Z",
     "iopub.status.idle": "2024-04-23T16:31:33.904026Z",
     "shell.execute_reply": "2024-04-23T16:31:33.903507Z",
     "shell.execute_reply.started": "2024-04-23T16:31:33.866789Z"
    }
   },
   "outputs": [],
   "source": [
    "# clean up headers and keep the columns we want\n",
    "cognitive_disability_sum = filtered_cognitive_disability.loc[:,['Census_Tract', 'sum_cognitive_disabilities']]\n",
    "cognitive_disability_sum = cognitive_disability_sum.rename(columns={'Census_Tract': 'census_tract'})\n",
    "\n",
    "# Saving metric df to .csv file\n",
    "cognitive_disability_sum.to_csv('cognitive_disability_sum.csv')\n",
    "print('Saving demographic metric data to a .csv')\n",
    "cognitive_disability_sum.head(5)"
   ]
  },
  {
   "cell_type": "markdown",
   "metadata": {},
   "source": [
    "#### Metric 6: Financial Assistance\n",
    "* ACS data is for children under 18 years in households\n",
    "* number of children per tract in financial support data matches number\\\n",
    "of children in demographic data, so no conversion necessary"
   ]
  },
  {
   "cell_type": "code",
   "execution_count": null,
   "metadata": {
    "execution": {
     "iopub.execute_input": "2024-04-23T16:31:42.258826Z",
     "iopub.status.busy": "2024-04-23T16:31:42.258069Z",
     "iopub.status.idle": "2024-04-23T16:31:42.319650Z",
     "shell.execute_reply": "2024-04-23T16:31:42.319032Z",
     "shell.execute_reply.started": "2024-04-23T16:31:42.258782Z"
    }
   },
   "outputs": [],
   "source": [
    "# Read in financial assistance data\n",
    "financial_assistance_data = pd.read_csv(r'vulnerable_populations_data/financial_support_B09010.csv', header=[0,1])\n",
    "# Making a Census tract column using the GEO_ID column\n",
    "financial_assistance_data['Census_Tract'] = financial_assistance_data['GEO_ID', 'Geography'].str[10:]\n",
    "financial_assistance_data.head(5)"
   ]
  },
  {
   "cell_type": "code",
   "execution_count": null,
   "metadata": {
    "execution": {
     "iopub.execute_input": "2024-04-23T16:33:58.843211Z",
     "iopub.status.busy": "2024-04-23T16:33:58.842148Z",
     "iopub.status.idle": "2024-04-23T16:33:58.872256Z",
     "shell.execute_reply": "2024-04-23T16:33:58.871638Z",
     "shell.execute_reply.started": "2024-04-23T16:33:58.843145Z"
    }
   },
   "outputs": [],
   "source": [
    "# Renaming columns from dictionary code to definition\n",
    "financial_assistance_data = financial_assistance_data.rename(\n",
    "    columns={'B09010_001E': 'total_children_under_18',\n",
    "             'B09010_002E': 'estimated_total_children_household_ssi_cash_assistance_or_SNAP_12_months'}\n",
    ")\n",
    "# Drop the first row that contains additional info about columns\n",
    "financial_assistance_data.columns = financial_assistance_data.columns.droplevel(-1)\n",
    "# Subset for desired columns\n",
    "filtered_financial_assistance_data = financial_assistance_data.loc[\n",
    ":,['GEO_ID', 'Census_Tract', 'total_children_under_18', \n",
    "   'estimated_total_children_household_ssi_cash_assistance_or_SNAP_12_months']\n",
    "]\n",
    "# Create a new column for % of children living in household with financial assistance \n",
    "filtered_financial_assistance_data.loc[:,'percent_children_household_financial_assistance'] = pd.to_numeric(\n",
    "    filtered_financial_assistance_data['estimated_total_children_household_ssi_cash_assistance_or_SNAP_12_months']\n",
    ") / pd.to_numeric(filtered_financial_assistance_data['total_children_under_18'])\n",
    "# Convert to percentage\n",
    "filtered_financial_assistance_data.loc[:,'percent_children_household_financial_assistance'] *= 100\n",
    "\n",
    "filtered_financial_assistance_data.head(5)"
   ]
  },
  {
   "cell_type": "code",
   "execution_count": null,
   "metadata": {
    "execution": {
     "iopub.execute_input": "2024-04-23T16:34:04.697213Z",
     "iopub.status.busy": "2024-04-23T16:34:04.696455Z",
     "iopub.status.idle": "2024-04-23T16:34:04.746871Z",
     "shell.execute_reply": "2024-04-23T16:34:04.746428Z",
     "shell.execute_reply.started": "2024-04-23T16:34:04.697179Z"
    }
   },
   "outputs": [],
   "source": [
    "# Saving metric df to .csv file\n",
    "filtered_financial_assistance_data = filtered_financial_assistance_data.rename(columns={'Census_Tract':'census_tract'})\n",
    "filtered_financial_assistance_data = filtered_financial_assistance_data[['census_tract', 'percent_children_household_financial_assistance']]\n",
    "filtered_financial_assistance_data.to_csv('society_financial_assistance_metric.csv')\n",
    "print('Saving demographic metric data to a .csv')\n",
    "filtered_financial_assistance_data"
   ]
  },
  {
   "cell_type": "markdown",
   "metadata": {},
   "source": [
    "#### Metric 7: Health Insurance\n",
    "* though the estimated total code (_001E) is the same as cognitive and ambulatory disability datasets,\\\n",
    "SOME of the values are the same as the demographic data values. Strange, first three match, fourth one does not, so to be safe,\n",
    "I will impliment the resulting csv in the function below to calculate percent based on the demographic data total population"
   ]
  },
  {
   "cell_type": "code",
   "execution_count": null,
   "metadata": {
    "execution": {
     "iopub.execute_input": "2024-04-23T16:34:25.745849Z",
     "iopub.status.busy": "2024-04-23T16:34:25.745146Z",
     "iopub.status.idle": "2024-04-23T16:34:25.858112Z",
     "shell.execute_reply": "2024-04-23T16:34:25.857572Z",
     "shell.execute_reply.started": "2024-04-23T16:34:25.745816Z"
    }
   },
   "outputs": [],
   "source": [
    "# Read in cognitive data\n",
    "health_insurance_data = pd.read_csv(r'vulnerable_populations_data/health_insurance_B27010.csv', header=[0,1])\n",
    "# Making a Census tract column using the GEO_ID column\n",
    "health_insurance_data['Census_Tract'] = health_insurance_data['GEO_ID', 'Geography'].str[10:]\n",
    "health_insurance_data.head(5)"
   ]
  },
  {
   "cell_type": "code",
   "execution_count": null,
   "metadata": {
    "execution": {
     "iopub.execute_input": "2024-04-23T16:34:35.566997Z",
     "iopub.status.busy": "2024-04-23T16:34:35.566272Z",
     "iopub.status.idle": "2024-04-23T16:34:35.594504Z",
     "shell.execute_reply": "2024-04-23T16:34:35.594036Z",
     "shell.execute_reply.started": "2024-04-23T16:34:35.566964Z"
    }
   },
   "outputs": [],
   "source": [
    "# Renaming columns from dictionary code to definition\n",
    "filtered_health_insurance_data = health_insurance_data[['GEO_ID', 'Census_Tract']]\n",
    "# filter data to only include estimated population living with a cognitive disability\n",
    "filtered_health_insurance_data = pd.concat(\n",
    "    [filtered_health_insurance_data,\n",
    "    health_insurance_data.filter(regex=r'Estimate').filter(\n",
    "    regex=r'No health insurance coverage')], axis=1)\n",
    "# Display the resulting DataFrame\n",
    "filtered_health_insurance_data.head(5)"
   ]
  },
  {
   "cell_type": "code",
   "execution_count": null,
   "metadata": {
    "execution": {
     "iopub.execute_input": "2024-04-23T16:34:43.174426Z",
     "iopub.status.busy": "2024-04-23T16:34:43.173727Z",
     "iopub.status.idle": "2024-04-23T16:34:43.198457Z",
     "shell.execute_reply": "2024-04-23T16:34:43.197574Z",
     "shell.execute_reply.started": "2024-04-23T16:34:43.174393Z"
    }
   },
   "outputs": [],
   "source": [
    "filtered_health_insurance_data.columns = filtered_health_insurance_data.columns.droplevel(-1)\n",
    "# Create a new column by summing all columns starting from the second column\n",
    "filtered_health_insurance_data['sum_without_health_insurance'] = filtered_health_insurance_data.iloc[:, 2:].sum(axis=1).astype(int)\n",
    "# Display the DataFrame with the new column\n",
    "filtered_health_insurance_data.head(5)"
   ]
  },
  {
   "cell_type": "code",
   "execution_count": null,
   "metadata": {
    "execution": {
     "iopub.execute_input": "2024-04-23T16:34:50.978762Z",
     "iopub.status.busy": "2024-04-23T16:34:50.978070Z",
     "iopub.status.idle": "2024-04-23T16:34:51.023591Z",
     "shell.execute_reply": "2024-04-23T16:34:51.023035Z",
     "shell.execute_reply.started": "2024-04-23T16:34:50.978730Z"
    }
   },
   "outputs": [],
   "source": [
    "filtered_health_insurance_data = filtered_health_insurance_data.rename(columns={'Census_Tract':'census_tract'})\n",
    "without_health_insurance_sum = filtered_health_insurance_data.loc[:,['census_tract', 'sum_without_health_insurance']]\n",
    "# Saving metric df to .csv file\n",
    "without_health_insurance_sum.to_csv('without_health_insurance_sum.csv')\n",
    "print('Saving health insurance metric data to a .csv')\n",
    "without_health_insurance_sum"
   ]
  },
  {
   "cell_type": "markdown",
   "metadata": {},
   "source": [
    "#### Calculate % of total population\n",
    "\n",
    "* pull the acs demographic (dpo5) estimated population csv file from AWS\n",
    "* iterate through each input csv file that needs to calculate metric percentage\n",
    "* perform the calculation on the selected csv column (sum/demographic total population) *100\n",
    "* save new metric as a csv file"
   ]
  },
  {
   "cell_type": "code",
   "execution_count": 29,
   "metadata": {
    "execution": {
     "iopub.execute_input": "2024-04-23T16:36:49.453916Z",
     "iopub.status.busy": "2024-04-23T16:36:49.452638Z",
     "iopub.status.idle": "2024-04-23T16:36:49.471445Z",
     "shell.execute_reply": "2024-04-23T16:36:49.470326Z",
     "shell.execute_reply.started": "2024-04-23T16:36:49.453841Z"
    }
   },
   "outputs": [],
   "source": [
    "@append_metadata\n",
    "def calculate_acs_metric_percentage(\n",
    "    input_csv, output_csv, calculate_percentage=True, varname=\"\", export=False\n",
    "):\n",
    "    '''\n",
    "    Calculates the following metrics sourced from the American Community Survey:\n",
    "    - Ambulatory Difficulty: % of population living with an ambulatory disability\n",
    "    - Cognitive Difficulty: % of population living with a cognitive disability\n",
    "    - Financial Assistance: \n",
    "        % of population living in a household with Supplemental Security Income (SSI), \n",
    "        cash public assistance income, or Food Stamps/SNAP in the last 12 months\n",
    "    - Health Insurance: % of population without health insurance\n",
    "\n",
    "    Demography: \n",
    "    - % of population aged 65 years or older\n",
    "    - % of population under 5 years old\n",
    "    - % of population American Indian and Alaska Native\n",
    "  \n",
    "    Methods\n",
    "    --------\n",
    "    The estimated population column (DP05_0001E) from ACS dataset DP05 was used as the \n",
    "    universal population values when calculating metric percentage for the metrics above. \n",
    "    Columns were renamed and summed when a metric's values were separated by age group.\n",
    "\n",
    "    Parameters\n",
    "    ------------\n",
    "    input_csv: string\n",
    "        Dataframe containing a column with sum of people meeting a metric condition.\n",
    "    output_csv: string\n",
    "        Output filename.\n",
    "    calculate_percentage: boolean\n",
    "        if true, calculates percentage of input_csv based on a 'sum' column\n",
    "        if false, skipts percentage calculation and uploads .csv to AWS\n",
    "    varname: string\n",
    "        Final metric name. \n",
    "    export: bool\n",
    "        If True, uploads csv to S3.\n",
    "        If False, just runs metadata portion\n",
    "\n",
    "    Script\n",
    "    ------\n",
    "    society_vulnerable_populations.ipynb\n",
    "\n",
    "    Note\n",
    "    ------\n",
    "    This function assumes users have configured the AWS CLI such that their access key / \n",
    "    secret key pair are stored in ~/.aws/credentials. \n",
    "    See https://docs.aws.amazon.com/cli/latest/userguide/getting-started-install.html for guidance.\n",
    "    \n",
    "    '''\n",
    "    if export == False:\n",
    "        print('Data transformation: utilizing ACS dataset DP05 population data to calculate metric.')\n",
    "        print('Data transformation: columns renamed and summed for total metric value.')\n",
    "\n",
    "    if export == True:\n",
    "        bucket_name = 'ca-climate-index'\n",
    "        directory = '3_fair_data/index_data'\n",
    "        cri_est_pop = f\"s3://{bucket_name}/0_map_data/cri_acs_demographic_estimated_population.csv\"\n",
    "        cri_tract_est_pop = pd.read_csv(cri_est_pop)\n",
    "        data = pd.read_csv(input_csv)\n",
    "        \n",
    "        if calculate_percentage:\n",
    "            data['est_total_population'] = cri_tract_est_pop['est_total_pop']\n",
    "            # get column with raw sum\n",
    "            sum_column = data.filter(regex=r'sum_').columns[0]\n",
    "            # name new column for 'percent of total' data\n",
    "            percent_column_name = sum_column.replace('sum','percent_population')\n",
    "            # calculate percent of total population from sum\n",
    "            data[percent_column_name] = (data[sum_column] / data['est_total_population']) * 100\n",
    "        \n",
    "            # Reorder columns with the new column at the end\n",
    "            columns = list(data.columns)\n",
    "            columns.remove(percent_column_name)  # Remove the column to be placed at the end\n",
    "            columns.append(percent_column_name)  # Append it to the end\n",
    "            data = data[columns]\n",
    "            \n",
    "            # Save the updated DataFrame to a new CSV file\n",
    "            data.to_csv(output_csv, index=False)\n",
    "            upload_csv_aws([output_csv], bucket_name, directory)\n",
    "\n",
    "        os.remove(input_csv)"
   ]
  },
  {
   "cell_type": "code",
   "execution_count": 31,
   "metadata": {
    "execution": {
     "iopub.execute_input": "2024-04-23T16:36:52.368602Z",
     "iopub.status.busy": "2024-04-23T16:36:52.367848Z",
     "iopub.status.idle": "2024-04-23T16:37:05.270240Z",
     "shell.execute_reply": "2024-04-23T16:37:05.269022Z",
     "shell.execute_reply.started": "2024-04-23T16:36:52.368564Z"
    }
   },
   "outputs": [],
   "source": [
    "# for metrics that need the percent calculation\n",
    "input_csvs = [\n",
    "    'ambulatory_disability_sum.csv', \n",
    "    'cognitive_disability_sum.csv', \n",
    "    'without_health_insurance_sum.csv'\n",
    "]\n",
    "output_csvs = [\n",
    "    'society_ambulatory_disability_metric.csv', \n",
    "    'society_cognitive_disability_metric.csv', \n",
    "    'society_without_health_insurance_metric.csv'\n",
    "]\n",
    "varnames = [\n",
    "    'society_acs_ambulatory',\n",
    "    'society_acs_cognitive',\n",
    "    'society_acs_health_insurance'\n",
    "]\n",
    "aa = list(zip(input_csvs,output_csvs,varnames))\n",
    "for input_csv,output_csv,varname in list(\n",
    "    zip(input_csvs,output_csvs,varnames)\n",
    "):\n",
    "    calculate_acs_metric_percentage(\n",
    "        input_csv, output_csv, calculate_percentage=True, export=False,\n",
    "        varname=varname\n",
    "    )"
   ]
  },
  {
   "cell_type": "code",
   "execution_count": 32,
   "metadata": {
    "execution": {
     "iopub.execute_input": "2024-04-23T16:37:05.273373Z",
     "iopub.status.busy": "2024-04-23T16:37:05.272795Z",
     "iopub.status.idle": "2024-04-23T16:37:17.495615Z",
     "shell.execute_reply": "2024-04-23T16:37:17.493924Z",
     "shell.execute_reply.started": "2024-04-23T16:37:05.273329Z"
    }
   },
   "outputs": [],
   "source": [
    "# for metrics that dont need the percent calculation\n",
    "input_csvs = [\n",
    "    'society_under_5yo_metric.csv',\n",
    "    'society_american_indian_alaska_native_metric.csv',\n",
    "    'society_over_65yo_metric.csv',\n",
    "    'society_financial_assistance_metric.csv'\n",
    "]\n",
    "output_csvs = [\n",
    "    'society_under_5yo_metric.csv',\n",
    "    'society_american_indian_alaska_native_metric.csv',\n",
    "    'society_over_65yo_metric.csv',\n",
    "    'society_financial_assistance_metric.csv'\n",
    "]\n",
    "varnames = [\n",
    "    'society_acs_demographic_under_5',\n",
    "    'society_acs_demographic_american_indian',\n",
    "    'society_acs_demographic_over_65',\n",
    "    'society_acs_financial_assistance'\n",
    "]\n",
    "aa = list(zip(input_csvs,output_csvs,varnames))\n",
    "for input_csv,output_csv,varname in list(\n",
    "    zip(input_csvs,output_csvs,varnames)\n",
    "):\n",
    "    calculate_acs_metric_percentage(\n",
    "        input_csv, output_csv, calculate_percentage=False, export=False,\n",
    "        varname=varname\n",
    "    )"
   ]
  },
  {
   "cell_type": "code",
   "execution_count": 33,
   "metadata": {},
   "outputs": [],
   "source": [
    "# Delete all CSV files in the current directory that are not in the output folder\n",
    "current_files = glob.glob('*.csv')\n",
    "for file in current_files:\n",
    "    os.remove(file)"
   ]
  }
 ],
 "metadata": {
  "kernelspec": {
   "display_name": "Python 3 (ipykernel)",
   "language": "python",
   "name": "python3"
  },
  "language_info": {
   "codemirror_mode": {
    "name": "ipython",
    "version": 3
   },
   "file_extension": ".py",
   "mimetype": "text/x-python",
   "name": "python",
   "nbconvert_exporter": "python",
   "pygments_lexer": "ipython3",
   "version": "3.9.18"
  }
 },
 "nbformat": 4,
 "nbformat_minor": 4
}
