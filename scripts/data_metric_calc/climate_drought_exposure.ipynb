{
 "cells": [
  {
   "cell_type": "markdown",
   "id": "0fe76b1e-6ac4-4d4c-8ff0-265d83aa2e97",
   "metadata": {},
   "source": [
    "### Cal-CRAI metric calculation: drought exposure\n",
    "* Average annual drought % coverage\n",
    "* total # of weeks in drought"
   ]
  },
  {
   "cell_type": "code",
   "execution_count": 1,
   "id": "bdcab490-4371-4589-92f0-6c74c47fcbd8",
   "metadata": {
    "execution": {
     "iopub.execute_input": "2024-08-07T23:14:28.037475Z",
     "iopub.status.busy": "2024-08-07T23:14:28.037320Z",
     "iopub.status.idle": "2024-08-07T23:14:29.308411Z",
     "shell.execute_reply": "2024-08-07T23:14:29.307949Z",
     "shell.execute_reply.started": "2024-08-07T23:14:28.037461Z"
    },
    "scrolled": false
   },
   "outputs": [],
   "source": [
    "import geopandas as gpd\n",
    "import s3fs\n",
    "import pandas as pd\n",
    "import boto3\n",
    "import os\n",
    "import sys\n",
    "import numpy as np\n",
    "sys.path.append(os.path.expanduser('../../'))\n",
    "from scripts.utils.file_helpers import pull_csv_from_directory, upload_csv_aws\n",
    "from scripts.utils.write_metadata import append_metadata"
   ]
  },
  {
   "cell_type": "code",
   "execution_count": null,
   "id": "69cea261-8fd9-4b8a-b3b7-c9a450199875",
   "metadata": {
    "execution": {
     "iopub.execute_input": "2024-08-07T23:14:29.311231Z",
     "iopub.status.busy": "2024-08-07T23:14:29.311108Z",
     "iopub.status.idle": "2024-08-07T23:14:30.346054Z",
     "shell.execute_reply": "2024-08-07T23:14:30.345329Z",
     "shell.execute_reply.started": "2024-08-07T23:14:29.311219Z"
    }
   },
   "outputs": [],
   "source": [
    "# census tract info\n",
    "# pull census tract data for merging\n",
    "county_tract = \"s3://ca-climate-index/0_map_data/ca_tracts_county.csv\"\n",
    "ca_county_tract = pd.read_csv(county_tract)\n",
    "ca_county_tract = ca_county_tract.rename(columns={'TRACT': 'census_tract'})\n",
    "# ca_county_tract = ca_county_tract.rename(columns={'County': 'county'})\n",
    "ca_county_tract = ca_county_tract.drop(columns={'Unnamed: 0','COUNTYFP'})\n",
    "ca_county_tract"
   ]
  },
  {
   "cell_type": "code",
   "execution_count": null,
   "id": "43e86d3f-5775-4a03-8356-fd23f933caee",
   "metadata": {
    "execution": {
     "iopub.execute_input": "2024-08-07T23:14:30.347704Z",
     "iopub.status.busy": "2024-08-07T23:14:30.347430Z",
     "iopub.status.idle": "2024-08-07T23:14:31.964024Z",
     "shell.execute_reply": "2024-08-07T23:14:31.963661Z",
     "shell.execute_reply.started": "2024-08-07T23:14:30.347682Z"
    }
   },
   "outputs": [],
   "source": [
    "# pull csv from aws\n",
    "bucket_name = 'ca-climate-index'\n",
    "aws_dir = '1_pull_data/climate_risk/drought/exposure/university_nebraska_lincoln/'\n",
    "folder = 'csv_folder'\n",
    "\n",
    "pull_csv_from_directory(bucket_name, aws_dir, folder, search_zipped=False)"
   ]
  },
  {
   "cell_type": "code",
   "execution_count": null,
   "id": "3adce893-ca0e-4cf2-9b4b-13e951de6892",
   "metadata": {
    "execution": {
     "iopub.execute_input": "2024-08-07T23:14:31.965298Z",
     "iopub.status.busy": "2024-08-07T23:14:31.965167Z",
     "iopub.status.idle": "2024-08-07T23:14:32.019101Z",
     "shell.execute_reply": "2024-08-07T23:14:32.018593Z",
     "shell.execute_reply.started": "2024-08-07T23:14:31.965287Z"
    }
   },
   "outputs": [],
   "source": [
    "# read in data\n",
    "drought_data = pd.read_csv(r'csv_folder/unl_drought_20000104_20201229.csv')\n",
    "\n",
    "# drop \"county\" from name and merge to tracts\n",
    "drought_data['County'] = drought_data['County'].str[:-7]\n",
    "drought_data.head(5)"
   ]
  },
  {
   "cell_type": "code",
   "execution_count": 5,
   "id": "044e8657",
   "metadata": {},
   "outputs": [],
   "source": [
    "# add column for year to aggregate across\n",
    "drought_data['drought_year'] = drought_data['MapDate'].astype(str).str[:4]"
   ]
  },
  {
   "cell_type": "markdown",
   "id": "48d37b71-37e9-443f-b2cb-d237204f081f",
   "metadata": {},
   "source": [
    "#### Metric 1: total number of weeks in drought"
   ]
  },
  {
   "cell_type": "code",
   "execution_count": null,
   "id": "ae840143-a787-49e0-976e-c4b48a8b64da",
   "metadata": {
    "execution": {
     "iopub.execute_input": "2024-08-07T23:14:37.784975Z",
     "iopub.status.busy": "2024-08-07T23:14:37.784192Z",
     "iopub.status.idle": "2024-08-07T23:14:37.825505Z",
     "shell.execute_reply": "2024-08-07T23:14:37.824882Z",
     "shell.execute_reply.started": "2024-08-07T23:14:37.784940Z"
    }
   },
   "outputs": [],
   "source": [
    "some_drought = drought_data.loc[drought_data['None'] != 100]\n",
    "some_drought"
   ]
  },
  {
   "cell_type": "code",
   "execution_count": null,
   "id": "c951cfc0-0179-41de-8ae2-c680dff8b74b",
   "metadata": {
    "execution": {
     "iopub.execute_input": "2024-08-07T23:14:42.979669Z",
     "iopub.status.busy": "2024-08-07T23:14:42.978968Z",
     "iopub.status.idle": "2024-08-07T23:14:43.008191Z",
     "shell.execute_reply": "2024-08-07T23:14:43.007624Z",
     "shell.execute_reply.started": "2024-08-07T23:14:42.979623Z"
    }
   },
   "outputs": [],
   "source": [
    "# count number of rows per county and drought year where \"None\" != 100\n",
    "count_drought_data = some_drought.groupby(['drought_year', 'County']).size().reset_index(name='drought_week_count')\n",
    "count_drought_data"
   ]
  },
  {
   "cell_type": "code",
   "execution_count": null,
   "id": "e2bea9ee",
   "metadata": {},
   "outputs": [],
   "source": [
    "count_drought_data_total = count_drought_data.groupby(['County']).sum().reset_index()\n",
    "count_drought_data_total.head(5)"
   ]
  },
  {
   "cell_type": "code",
   "execution_count": null,
   "id": "f0082c36-458d-4767-96b3-e8156ae95c7f",
   "metadata": {
    "execution": {
     "iopub.execute_input": "2024-08-07T23:17:18.089903Z",
     "iopub.status.busy": "2024-08-07T23:17:18.089169Z",
     "iopub.status.idle": "2024-08-07T23:17:18.121243Z",
     "shell.execute_reply": "2024-08-07T23:17:18.120619Z",
     "shell.execute_reply.started": "2024-08-07T23:17:18.089867Z"
    }
   },
   "outputs": [],
   "source": [
    "# # reformatting to % of total weeks in drought\n",
    "tot_num_weeks = len(drought_data.loc[(drought_data['County'] == 'Alameda')]) # 1096 weeks\n",
    "count_drought_data_total['percent_weeks_drought'] = count_drought_data_total['drought_week_count'] / tot_num_weeks\n",
    "count_drought_data_total.head(5)"
   ]
  },
  {
   "cell_type": "code",
   "execution_count": null,
   "id": "ac9d3d8a-ba89-4440-9df1-275826ed07fb",
   "metadata": {
    "execution": {
     "iopub.execute_input": "2024-08-07T23:17:53.156087Z",
     "iopub.status.busy": "2024-08-07T23:17:53.155298Z",
     "iopub.status.idle": "2024-08-07T23:17:53.182337Z",
     "shell.execute_reply": "2024-08-07T23:17:53.181754Z",
     "shell.execute_reply.started": "2024-08-07T23:17:53.156039Z"
    }
   },
   "outputs": [],
   "source": [
    "total_weeks_metric = pd.merge(ca_county_tract, count_drought_data_total, on='County', how='left')\n",
    "total_weeks_metric"
   ]
  },
  {
   "cell_type": "markdown",
   "id": "d7fbb07c",
   "metadata": {},
   "source": [
    "#### Metric 2: annual average % coverage\n",
    "We refactor this metric to look at percentages above certain categories of drought severity. D1 is \"moderate drought\". \n",
    "`annual average % of moderate to exceptional drought` \n",
    "https://droughtmonitor.unl.edu/About/AbouttheData/DroughtClassification.aspx"
   ]
  },
  {
   "cell_type": "code",
   "execution_count": null,
   "id": "9939e418",
   "metadata": {},
   "outputs": [],
   "source": [
    "drought_data['sum_d1_d4'] = drought_data[['D1', 'D2', 'D3', 'D4']].sum(axis=1)\n",
    "drought_data"
   ]
  },
  {
   "cell_type": "code",
   "execution_count": 12,
   "id": "e134e412",
   "metadata": {},
   "outputs": [],
   "source": [
    "drought_data_coverage = drought_data.groupby(['County']).mean(['sum_d1_d4', 'drought_year']).reset_index()"
   ]
  },
  {
   "cell_type": "code",
   "execution_count": null,
   "id": "149b9548",
   "metadata": {},
   "outputs": [],
   "source": [
    "# drop unnecessary columns now\n",
    "drought_data_coverage = drought_data_coverage[['County', 'sum_d1_d4']]\n",
    "drought_data_coverage.head(5)"
   ]
  },
  {
   "cell_type": "code",
   "execution_count": null,
   "id": "d376f9d9",
   "metadata": {},
   "outputs": [],
   "source": [
    "coverage_metric = pd.merge(ca_county_tract, drought_data_coverage, on='County', how='left')\n",
    "coverage_metric = coverage_metric.rename(columns={'sum_d1_d4':'drought_coverage_percentage'})\n",
    "coverage_metric"
   ]
  },
  {
   "cell_type": "code",
   "execution_count": null,
   "id": "072eae89",
   "metadata": {},
   "outputs": [],
   "source": [
    "coverage_metric.drought_coverage_percentage.min(), coverage_metric.drought_coverage_percentage.max()"
   ]
  },
  {
   "cell_type": "markdown",
   "id": "59a84c28",
   "metadata": {},
   "source": [
    "### Export"
   ]
  },
  {
   "cell_type": "code",
   "execution_count": 17,
   "id": "7f45f1a0-bee3-4597-b7fe-0d74d17fc1ce",
   "metadata": {},
   "outputs": [],
   "source": [
    "# export\n",
    "total_weeks_metric.to_csv('climate_drought_total_weeks.csv', index=False) # done\n",
    "coverage_metric.to_csv('climate_drought_coverage_metric.csv', index=False) # done"
   ]
  },
  {
   "cell_type": "markdown",
   "id": "4cee6d42-e701-4af5-863f-158a31aff9dc",
   "metadata": {},
   "source": [
    "### Function Call"
   ]
  },
  {
   "cell_type": "code",
   "execution_count": 18,
   "id": "83e6761b-886f-4cab-a65e-7d2d9dc84375",
   "metadata": {},
   "outputs": [],
   "source": [
    "@append_metadata\n",
    "def drought_metrics_metadata(input_csv, export=False, varname=''):    \n",
    "    '''\n",
    "    Uploads three csv files that contain metric calculations for drought classification within Cal-CRAI's Climate Domain.\n",
    "    Data was sourced from the UNL from: https://droughtmonitor.unl.edu/DmData/DataDownload/ComprehensiveStatistics.aspx\n",
    "\n",
    "    Methods\n",
    "    -------\n",
    "    Total weeks calculated as sum of weeks not in \"None\" category. \n",
    "    Annual coverage calculated as average of coverage in categories D1-D4 (moderate to exceptional drought).\n",
    "\n",
    "    Parameters\n",
    "    ----------\n",
    "    df: string\n",
    "        the dataframe containing the initial soil data\n",
    "    export: True/False boolean\n",
    "        False = will not upload resulting df containing CAL CRAI drought metric to AWS\n",
    "        True = will upload resulting df containing CAL CRAI drought metric to AWS\n",
    "    import_csv: string\n",
    "        name of the csv file to be uploaded to AWS\n",
    "\n",
    "    Script\n",
    "    ------\n",
    "    climate_drought_exposure.ipynb\n",
    "\n",
    "    Note:\n",
    "    This function assumes users have configured the AWS CLI such that their access key / secret key pair are\n",
    "    stored in ~/.aws/credentials.\n",
    "    See https://docs.aws.amazon.com/cli/latest/userguide/getting-started-install.html for guidance.\n",
    "    '''\n",
    "    if export == False:\n",
    "        print('Data transformation: drought year added to dataframe.')\n",
    "        print('Data transformation: data filtered based on severity ratings.')\n",
    "        print('Data transformation: average percentage values for multi-county entries.')\n",
    "        print('Data transformation: merge data to California tracts.')\n",
    "\n",
    "    if export == True:\n",
    "        bucket_name = 'ca-climate-index'\n",
    "        directory = '3_fair_data/index_data'\n",
    "        export_filename = [input_csv]\n",
    "        upload_csv_aws(export_filename, bucket_name, directory)\n",
    "\n",
    "    #if os.path.exists(input_csv):\n",
    "    #   os.remove(input_csv)"
   ]
  },
  {
   "cell_type": "code",
   "execution_count": null,
   "id": "87ff5e6d-9e2d-4ef4-914b-5d13408e7df5",
   "metadata": {},
   "outputs": [],
   "source": [
    "input_csv = [\n",
    "            'climate_drought_total_weeks_metric.csv',\n",
    "            'climate_drought_coverage_metric.csv',\n",
    "            ]\n",
    "\n",
    "varnames = [\n",
    "    'climate_unl_drought_duration',\n",
    "    'climate_unl_drought_coverage',\n",
    "    ]\n",
    "\n",
    "for csv, var in zip(input_csv, varnames):\n",
    "    drought_metrics_metadata(csv, export=True, varname='test')"
   ]
  }
 ],
 "metadata": {
  "kernelspec": {
   "display_name": "carb",
   "language": "python",
   "name": "python3"
  },
  "language_info": {
   "codemirror_mode": {
    "name": "ipython",
    "version": 3
   },
   "file_extension": ".py",
   "mimetype": "text/x-python",
   "name": "python",
   "nbconvert_exporter": "python",
   "pygments_lexer": "ipython3",
   "version": "3.9.18"
  }
 },
 "nbformat": 4,
 "nbformat_minor": 5
}
