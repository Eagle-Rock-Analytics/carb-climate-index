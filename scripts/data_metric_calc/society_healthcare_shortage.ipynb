{
 "cells": [
  {
   "cell_type": "markdown",
   "metadata": {},
   "source": [
    "### Cal-CRAI Metric Calculation for: Society & Economy / Health Shortage Metrics\n",
    "This notebook calculates 3 metrics, all sourced from the California Health Resources and Services Administration.\n",
    "* Mental health professional shortage area score\n",
    "* Primary health care professional shortage area score\n",
    "* num. of licensed narcotic treatment programs per 10,000 people"
   ]
  },
  {
   "cell_type": "code",
   "execution_count": 1,
   "metadata": {
    "execution": {
     "iopub.execute_input": "2024-06-19T15:03:54.332184Z",
     "iopub.status.busy": "2024-06-19T15:03:54.330942Z",
     "iopub.status.idle": "2024-06-19T15:03:55.157688Z",
     "shell.execute_reply": "2024-06-19T15:03:55.157297Z",
     "shell.execute_reply.started": "2024-06-19T15:03:54.332116Z"
    }
   },
   "outputs": [],
   "source": [
    "import pandas as pd\n",
    "import os\n",
    "import sys\n",
    "import boto3\n",
    "import io\n",
    "import geopandas as gpd\n",
    "\n",
    "# suppress pandas purely educational warnings\n",
    "from warnings import simplefilter\n",
    "simplefilter(action=\"ignore\", category=pd.errors.PerformanceWarning)\n",
    "\n",
    "sys.path.append(os.path.expanduser('../../'))\n",
    "from scripts.utils.file_helpers import pull_gpkg_from_directory, upload_csv_aws, filter_counties\n",
    "from scripts.utils.write_metadata import append_metadata"
   ]
  },
  {
   "cell_type": "code",
   "execution_count": null,
   "metadata": {
    "execution": {
     "iopub.execute_input": "2024-06-19T15:03:55.158828Z",
     "iopub.status.busy": "2024-06-19T15:03:55.158593Z",
     "iopub.status.idle": "2024-06-19T15:03:56.702233Z",
     "shell.execute_reply": "2024-06-19T15:03:56.700441Z",
     "shell.execute_reply.started": "2024-06-19T15:03:55.158819Z"
    }
   },
   "outputs": [],
   "source": [
    "# pull csv from aws\n",
    "bucket_name = 'ca-climate-index'\n",
    "aws_dir = '2b_reproject/society_economy/social_services/ca_health_human_services/'\n",
    "\n",
    "pull_gpkg_from_directory(bucket_name, aws_dir)"
   ]
  },
  {
   "cell_type": "code",
   "execution_count": 3,
   "metadata": {
    "execution": {
     "iopub.execute_input": "2024-06-19T15:03:59.844275Z",
     "iopub.status.busy": "2024-06-19T15:03:59.843551Z",
     "iopub.status.idle": "2024-06-19T15:04:00.987877Z",
     "shell.execute_reply": "2024-06-19T15:04:00.987375Z",
     "shell.execute_reply.started": "2024-06-19T15:03:59.844242Z"
    }
   },
   "outputs": [],
   "source": [
    "mental_healthcare_shortage_data = gpd.read_file('society_hrsa_mental_care_shortage.gpkg')\n",
    "primary_healthcare_shortage_data = gpd.read_file('society_hrsa_primary_care_shortage.gpkg')\n",
    "\n",
    "mental_healthcare_shortage_data = mental_healthcare_shortage_data.to_crs(crs=4269) \n",
    "primary_healthcare_shortage_data = primary_healthcare_shortage_data.to_crs(crs=4269) \n",
    "\n",
    "os.remove('society_hrsa_mental_care_shortage.gpkg')\n",
    "os.remove('society_hrsa_primary_care_shortage.gpkg')"
   ]
  },
  {
   "cell_type": "markdown",
   "metadata": {},
   "source": [
    "Start with primary care shortage data"
   ]
  },
  {
   "cell_type": "code",
   "execution_count": null,
   "metadata": {
    "execution": {
     "iopub.execute_input": "2024-06-19T15:04:00.988897Z",
     "iopub.status.busy": "2024-06-19T15:04:00.988778Z",
     "iopub.status.idle": "2024-06-19T15:04:01.006218Z",
     "shell.execute_reply": "2024-06-19T15:04:01.005906Z",
     "shell.execute_reply.started": "2024-06-19T15:04:00.988887Z"
    }
   },
   "outputs": [],
   "source": [
    "primary_healthcare_shortage_data"
   ]
  },
  {
   "cell_type": "code",
   "execution_count": null,
   "metadata": {
    "execution": {
     "iopub.execute_input": "2024-06-19T15:04:04.669847Z",
     "iopub.status.busy": "2024-06-19T15:04:04.668620Z",
     "iopub.status.idle": "2024-06-19T15:04:05.126441Z",
     "shell.execute_reply": "2024-06-19T15:04:05.126055Z",
     "shell.execute_reply.started": "2024-06-19T15:04:04.669771Z"
    }
   },
   "outputs": [],
   "source": [
    "primary_healthcare_shortage_data.plot(column=\"HpsScore\")"
   ]
  },
  {
   "cell_type": "markdown",
   "metadata": {},
   "source": [
    "call in California 2021 tiger tract data"
   ]
  },
  {
   "cell_type": "code",
   "execution_count": null,
   "metadata": {
    "execution": {
     "iopub.execute_input": "2024-06-19T15:04:08.111352Z",
     "iopub.status.busy": "2024-06-19T15:04:08.109804Z",
     "iopub.status.idle": "2024-06-19T15:04:22.687866Z",
     "shell.execute_reply": "2024-06-19T15:04:22.687507Z",
     "shell.execute_reply.started": "2024-06-19T15:04:08.111281Z"
    }
   },
   "outputs": [],
   "source": [
    "# read in CA census tiger file\n",
    "tract_shp_dir = \"s3://ca-climate-index/0_map_data/2021_tiger_census_tract/2021_ca_tract/\"\n",
    "\n",
    "ca_tract_boundaries = gpd.read_file(tract_shp_dir)\n",
    "# need to rename columns so we don't have any duplicates in the final geodatabase\n",
    "column_names = ca_tract_boundaries.columns\n",
    "# new_column_names = [\"USCB_\"+column for column in column_names if column != \"geometry\"]\n",
    "ca_tract_boundaries = ca_tract_boundaries.rename(columns={'GEOID':\"TRACT\"})\n",
    "ca_tract_boundaries = ca_tract_boundaries.to_crs(crs=4269) \n",
    "ca_tract_boundaries"
   ]
  },
  {
   "cell_type": "markdown",
   "metadata": {},
   "source": [
    "sjoin instead and take a mean of all the point data within a tract"
   ]
  },
  {
   "cell_type": "code",
   "execution_count": null,
   "metadata": {
    "execution": {
     "iopub.execute_input": "2024-06-19T15:04:22.689448Z",
     "iopub.status.busy": "2024-06-19T15:04:22.689223Z",
     "iopub.status.idle": "2024-06-19T15:04:22.859688Z",
     "shell.execute_reply": "2024-06-19T15:04:22.859191Z",
     "shell.execute_reply.started": "2024-06-19T15:04:22.689436Z"
    }
   },
   "outputs": [],
   "source": [
    "# sjoin with tracts\n",
    "joined_primary_df = ca_tract_boundaries.sjoin(primary_healthcare_shortage_data).reset_index()\n",
    "# take the mean of the point data within each tract\n",
    "avg_primary_df = joined_primary_df.groupby('USCB_GEOID')['HpsScore'].agg(['mean']).reset_index()\n",
    "# merge the means with the tract shapefile and transform to geodataframe so we can plot\n",
    "avg_primary_df = avg_primary_df.rename(columns={\"USCB_GEOID\":\"TRACT\"})\n",
    "avg_primary_df = pd.merge(avg_primary_df,ca_tract_boundaries,on=\"TRACT\", how='right')\n",
    "avg_primary_df = gpd.GeoDataFrame(avg_primary_df,geometry=\"geometry\")\n",
    "avg_primary_df.plot(column=\"mean\")"
   ]
  },
  {
   "cell_type": "markdown",
   "metadata": {},
   "source": [
    "isolate for relevant columns"
   ]
  },
  {
   "cell_type": "code",
   "execution_count": null,
   "metadata": {
    "execution": {
     "iopub.execute_input": "2024-06-19T15:04:22.860901Z",
     "iopub.status.busy": "2024-06-19T15:04:22.860622Z",
     "iopub.status.idle": "2024-06-19T15:04:22.867905Z",
     "shell.execute_reply": "2024-06-19T15:04:22.867510Z",
     "shell.execute_reply.started": "2024-06-19T15:04:22.860885Z"
    }
   },
   "outputs": [],
   "source": [
    "columns_keep = ['TRACT', 'mean']\n",
    "\n",
    "primary_healthcare_shortage_metric = avg_primary_df[columns_keep]\n",
    "primary_healthcare_shortage_metric = primary_healthcare_shortage_metric.rename(columns={'TRACT':'census_tract', 'mean':'avg_hpsscore_primary_care_metric'})\n",
    "primary_healthcare_shortage_metric"
   ]
  },
  {
   "cell_type": "markdown",
   "metadata": {},
   "source": [
    "## Now to count the number of Indian Health Service designation types are in the primary healthcare shortage dataset\n",
    "* per census tract\n",
    "* then merge to our calculated metric dataframe based on tract"
   ]
  },
  {
   "cell_type": "code",
   "execution_count": null,
   "metadata": {},
   "outputs": [],
   "source": [
    "primary_native_tribe_column = joined_primary_df\n",
    "\n",
    "columns_to_keep = ['TRACT', 'HpsTypDes']\n",
    "\n",
    "native_tribe_merge = pd.merge(primary_native_tribe_column, ca_tract_boundaries,on=\"TRACT\", how='right')\n",
    "cleaned_native_tribe = native_tribe_merge.drop_duplicates(subset=['TRACT', 'HpsTypDes'])\n",
    "\n",
    "filtered_df = cleaned_native_tribe[cleaned_native_tribe['HpsTypDes'].isin(['Indian Health Service, Tribal Health, and Urban Indian Health Organizations'])]\n",
    "primary_native_filtered = filtered_df[columns_to_keep]\n",
    "\n",
    "grouped_native_counts = primary_native_filtered.groupby('TRACT')['HpsTypDes'].agg(['count']).reset_index()\n",
    "grouped_native_counts = grouped_native_counts.rename(columns={'TRACT':'census_tract'})\n",
    "grouped_native_counts"
   ]
  },
  {
   "cell_type": "code",
   "execution_count": null,
   "metadata": {},
   "outputs": [],
   "source": [
    "# merge metric dataset to tribal healthcare sites\n",
    "primary_healthcare_shortage_metric_tribe_count = pd.merge(grouped_native_counts,primary_healthcare_shortage_metric, on='census_tract', how='right')\n",
    "primary_healthcare_shortage_metric_tribe_count = primary_healthcare_shortage_metric_tribe_count.rename(columns={'count':'number_tribal_health_services'})\n",
    "primary_healthcare_shortage_metric_tribe_count"
   ]
  },
  {
   "cell_type": "code",
   "execution_count": 11,
   "metadata": {
    "execution": {
     "iopub.execute_input": "2024-06-19T15:04:22.869374Z",
     "iopub.status.busy": "2024-06-19T15:04:22.869168Z",
     "iopub.status.idle": "2024-06-19T15:04:22.883356Z",
     "shell.execute_reply": "2024-06-19T15:04:22.882970Z",
     "shell.execute_reply.started": "2024-06-19T15:04:22.869364Z"
    }
   },
   "outputs": [],
   "source": [
    "# save as a csv\n",
    "primary_healthcare_shortage_metric_tribe_count.to_csv('society_primary_healthcare_shortage_metric.csv', index=False)"
   ]
  },
  {
   "cell_type": "markdown",
   "metadata": {},
   "source": [
    "## Now we do the same steps for mental healthcare shortage areas"
   ]
  },
  {
   "cell_type": "code",
   "execution_count": null,
   "metadata": {
    "execution": {
     "iopub.execute_input": "2024-06-19T15:04:22.884074Z",
     "iopub.status.busy": "2024-06-19T15:04:22.883966Z",
     "iopub.status.idle": "2024-06-19T15:04:22.898421Z",
     "shell.execute_reply": "2024-06-19T15:04:22.898022Z",
     "shell.execute_reply.started": "2024-06-19T15:04:22.884064Z"
    }
   },
   "outputs": [],
   "source": [
    "mental_healthcare_shortage_data"
   ]
  },
  {
   "cell_type": "code",
   "execution_count": null,
   "metadata": {
    "execution": {
     "iopub.execute_input": "2024-06-19T15:04:22.899300Z",
     "iopub.status.busy": "2024-06-19T15:04:22.899129Z",
     "iopub.status.idle": "2024-06-19T15:04:22.985959Z",
     "shell.execute_reply": "2024-06-19T15:04:22.985324Z",
     "shell.execute_reply.started": "2024-06-19T15:04:22.899290Z"
    }
   },
   "outputs": [],
   "source": [
    "mental_healthcare_shortage_data.plot(column=\"HpsScore\")"
   ]
  },
  {
   "cell_type": "code",
   "execution_count": null,
   "metadata": {
    "execution": {
     "iopub.execute_input": "2024-06-19T15:04:22.987003Z",
     "iopub.status.busy": "2024-06-19T15:04:22.986684Z",
     "iopub.status.idle": "2024-06-19T15:04:23.160958Z",
     "shell.execute_reply": "2024-06-19T15:04:23.160603Z",
     "shell.execute_reply.started": "2024-06-19T15:04:22.986991Z"
    }
   },
   "outputs": [],
   "source": [
    "# sjoin with tracts\n",
    "joined_mental_df = ca_tract_boundaries.sjoin(mental_healthcare_shortage_data).reset_index()\n",
    "# take the mean of the point data within each tract\n",
    "avg_mental_df = joined_mental_df.groupby('USCB_GEOID')['HpsScore'].agg(['mean']).reset_index()\n",
    "# merge the means with the tract shapefile and transform to geodataframe so we can plot\n",
    "avg_mental_df = avg_mental_df.rename(columns={\"USCB_GEOID\":\"TRACT\"})\n",
    "avg_mental_df = pd.merge(avg_mental_df,ca_tract_boundaries,on=\"TRACT\", how='right')\n",
    "avg_mental_df = gpd.GeoDataFrame(avg_mental_df,geometry=\"geometry\")\n",
    "avg_mental_df.plot(column=\"mean\")"
   ]
  },
  {
   "cell_type": "code",
   "execution_count": null,
   "metadata": {
    "execution": {
     "iopub.execute_input": "2024-06-19T15:04:23.161664Z",
     "iopub.status.busy": "2024-06-19T15:04:23.161563Z",
     "iopub.status.idle": "2024-06-19T15:04:23.168130Z",
     "shell.execute_reply": "2024-06-19T15:04:23.167835Z",
     "shell.execute_reply.started": "2024-06-19T15:04:23.161655Z"
    }
   },
   "outputs": [],
   "source": [
    "columns_keep = ['TRACT', 'mean']\n",
    "\n",
    "mental_healthcare_shortage_metric = avg_mental_df[columns_keep]\n",
    "mental_healthcare_shortage_metric = mental_healthcare_shortage_metric.rename(columns={'TRACT':'census_tract', 'mean':'avg_hpsscore_mental_shortage_metric'})\n",
    "mental_healthcare_shortage_metric"
   ]
  },
  {
   "cell_type": "markdown",
   "metadata": {},
   "source": [
    "## Now to count the number of Indian Health Service designation types are in the mental healthcare shortage dataset\n",
    "* per census tract\n",
    "* then merge to our calculated metric dataframe based on tract"
   ]
  },
  {
   "cell_type": "code",
   "execution_count": null,
   "metadata": {},
   "outputs": [],
   "source": [
    "native_tribe_column = joined_mental_df\n",
    "\n",
    "columns_to_keep = ['TRACT', 'HpsTypDes']\n",
    "\n",
    "native_tribe_column = native_tribe_column[columns_to_keep]\n",
    "native_tribe_merge = pd.merge(native_tribe_column,ca_tract_boundaries,on=\"TRACT\", how='right')\n",
    "cleaned_native_tribe = native_tribe_merge.drop_duplicates(subset=['TRACT', 'HpsTypDes'])\n",
    "\n",
    "filtered_df = cleaned_native_tribe[cleaned_native_tribe['HpsTypDes'].isin(['Indian Health Service, Tribal Health, and Urban Indian Health Organizations'])]\n",
    "mental_native_filtered = filtered_df[columns_to_keep]\n",
    "\n",
    "grouped_native_counts = mental_native_filtered.groupby('TRACT')['HpsTypDes'].agg(['count']).reset_index()\n",
    "grouped_native_counts_mental_shortage = grouped_native_counts.rename(columns={'TRACT':'census_tract'})\n",
    "grouped_native_counts_mental_shortage"
   ]
  },
  {
   "cell_type": "code",
   "execution_count": null,
   "metadata": {},
   "outputs": [],
   "source": [
    "# merge metric dataset to tribal healthcare sites\n",
    "mental_healthcare_shortage_metric_tribe_count = pd.merge(grouped_native_counts_mental_shortage,\n",
    "                                                        mental_healthcare_shortage_metric, \n",
    "                                                        on='census_tract',\n",
    "                                                        how='right')\n",
    "\n",
    "mental_healthcare_shortage_metric_tribe_count = mental_healthcare_shortage_metric_tribe_count.rename(columns={'count':'number_tribal_health_services'})\n",
    "\n",
    "mental_healthcare_shortage_metric_tribe_count"
   ]
  },
  {
   "cell_type": "code",
   "execution_count": 18,
   "metadata": {
    "execution": {
     "iopub.execute_input": "2024-06-19T15:04:23.624688Z",
     "iopub.status.busy": "2024-06-19T15:04:23.623903Z",
     "iopub.status.idle": "2024-06-19T15:04:23.651536Z",
     "shell.execute_reply": "2024-06-19T15:04:23.650974Z",
     "shell.execute_reply.started": "2024-06-19T15:04:23.624651Z"
    }
   },
   "outputs": [],
   "source": [
    "# save as a csv\n",
    "mental_healthcare_shortage_metric_tribe_count.to_csv('society_mental_healthcare_shortage_metric.csv', index=False)"
   ]
  },
  {
   "cell_type": "markdown",
   "metadata": {},
   "source": [
    "## Function Call for both mental health and primary care shortages"
   ]
  },
  {
   "cell_type": "code",
   "execution_count": 19,
   "metadata": {
    "execution": {
     "iopub.execute_input": "2024-06-06T19:17:00.199870Z",
     "iopub.status.busy": "2024-06-06T19:17:00.199028Z",
     "iopub.status.idle": "2024-06-06T19:17:01.549081Z",
     "shell.execute_reply": "2024-06-06T19:17:01.548530Z",
     "shell.execute_reply.started": "2024-06-06T19:17:00.199829Z"
    }
   },
   "outputs": [],
   "source": [
    "@append_metadata\n",
    "def healthcare_shortage_metric_calc(input_csv, export=False, varname=''):    \n",
    "    '''\n",
    "    Calculates the average Healthcare Professional Shortage Area (HPSA) score per California census tract.\n",
    "    Data was sourced from: https://data.hrsa.gov/data/download\n",
    "    The function calculates metrics for mental and primary healthcare shortages.\n",
    "\n",
    "    The number of tribal health facilities were also retained and summed per census tract.\n",
    "\n",
    "    Methods\n",
    "    -------\n",
    "    Data was cleaned by removing duplicate entries containing the same county and HPSA score.\n",
    "    Data columns were renamed, merged to 2022 census tract data, and averaged to attribute\n",
    "    scores to all California tracts.\n",
    "    \n",
    "    Parameters\n",
    "    ----------\n",
    "    df: string\n",
    "        the dataframe containing the initial HPSA score data\n",
    "    export: True/False boolean\n",
    "        False = will not upload resulting df containing CAL CRAI HPSA score metric to AWS\n",
    "        True = will upload resulting df containing CAL CRAI HPSA score metric to AWS\n",
    "    import_csv: string\n",
    "        name of the csv file to be uploaded to AWS\n",
    "\n",
    "    Script\n",
    "    ------\n",
    "    society_healthcare_shortage.ipynb\n",
    "\n",
    "    Note:\n",
    "    This function assumes users have configured the AWS CLI such that their access key / secret key pair are\n",
    "    stored in ~/.aws/credentials.\n",
    "    See https://docs.aws.amazon.com/cli/latest/userguide/getting-started-install.html for guidance.\n",
    "    '''\n",
    "    print('Data transformation: data converted to Cal-CRAI standardized coordinate reference system (CRS): 4269.')\n",
    "    print('Data transformation: merge data to California tracts and calculate census tract average.')\n",
    "    print('Data transformation: nan values are retained for each census tract without an HPSA score.')\n",
    "\n",
    "    bucket_name = 'ca-climate-index'\n",
    "    directory = '3_fair_data/index_data'\n",
    "    export_filename = [input_csv]\n",
    "\n",
    "    if export == True:\n",
    "        upload_csv_aws(export_filename, bucket_name, directory)\n",
    "\n",
    "    if export == False:\n",
    "        print(f'{export_filename} uploaded to AWS.')\n",
    "\n",
    "    if os.path.exists(input_csv):\n",
    "        os.remove(input_csv)"
   ]
  },
  {
   "cell_type": "code",
   "execution_count": 20,
   "metadata": {},
   "outputs": [],
   "source": [
    "input_csv = ['society_primary_healthcare_shortage_metric.csv',\n",
    "            'society_mental_healthcare_shortage_metric.csv']\n",
    "\n",
    "varnames = [\n",
    "    'society_hrsa_primary_care_shortage',\n",
    "    'society_hrsa_mental_care_shortage']\n",
    "\n",
    "for csv, var in zip(input_csv, varnames):\n",
    "    healthcare_shortage_metric_calc(csv, export=True, varname=var)"
   ]
  },
  {
   "cell_type": "markdown",
   "metadata": {},
   "source": [
    "### Narcotic Treatment Facilities Metric\n",
    "* num. of licensed narcotic treatment programs per 10,000 people"
   ]
  },
  {
   "cell_type": "code",
   "execution_count": 21,
   "metadata": {
    "execution": {
     "iopub.execute_input": "2024-06-06T19:18:35.968483Z",
     "iopub.status.busy": "2024-06-06T19:18:35.967511Z",
     "iopub.status.idle": "2024-06-06T19:18:36.069717Z",
     "shell.execute_reply": "2024-06-06T19:18:36.069186Z",
     "shell.execute_reply.started": "2024-06-06T19:18:35.968416Z"
    }
   },
   "outputs": [],
   "source": [
    "narcotic_support_data = gpd.read_file('society_hrsa_narcotic_support.gpkg')\n",
    "os.remove('society_hrsa_narcotic_support.gpkg')"
   ]
  },
  {
   "cell_type": "code",
   "execution_count": null,
   "metadata": {
    "execution": {
     "iopub.execute_input": "2024-06-06T19:18:38.938951Z",
     "iopub.status.busy": "2024-06-06T19:18:38.938103Z",
     "iopub.status.idle": "2024-06-06T19:18:38.963422Z",
     "shell.execute_reply": "2024-06-06T19:18:38.962694Z",
     "shell.execute_reply.started": "2024-06-06T19:18:38.938893Z"
    }
   },
   "outputs": [],
   "source": [
    "narcotic_columns = ['OBJECTID',\n",
    "                    'CountyName',\n",
    "                    'DBA',\n",
    "                    'OTP_CA10',\n",
    "                    'geometry'\n",
    "                    ]\n",
    "narcotic_support = narcotic_support_data[narcotic_columns]\n",
    "narcotic_support = narcotic_support.rename(columns={'CountyName': 'County'})\n",
    "\n",
    "narcotic_support['County'] = narcotic_support['County'].str.replace(' County', '', case=False)\n",
    "\n",
    "unique_entries = narcotic_support['County'].unique()\n",
    "\n",
    "narcotic_support\n",
    "unique_entries"
   ]
  },
  {
   "cell_type": "markdown",
   "metadata": {},
   "source": [
    "Checking to make sure only CA counties are included"
   ]
  },
  {
   "cell_type": "code",
   "execution_count": null,
   "metadata": {
    "execution": {
     "iopub.execute_input": "2024-06-06T19:18:50.716142Z",
     "iopub.status.busy": "2024-06-06T19:18:50.715401Z",
     "iopub.status.idle": "2024-06-06T19:18:50.744119Z",
     "shell.execute_reply": "2024-06-06T19:18:50.743502Z",
     "shell.execute_reply.started": "2024-06-06T19:18:50.716100Z"
    }
   },
   "outputs": [],
   "source": [
    "ca_narcotic_support, omitted_rows = filter_counties(narcotic_support, 'County')\n",
    "print(ca_narcotic_support)\n",
    "print(f'number of omitted rows:{len(omitted_rows)}')"
   ]
  },
  {
   "cell_type": "markdown",
   "metadata": {},
   "source": [
    "Getting rid of duplicates based on a few columns"
   ]
  },
  {
   "cell_type": "code",
   "execution_count": null,
   "metadata": {
    "execution": {
     "iopub.execute_input": "2024-06-06T19:19:11.709226Z",
     "iopub.status.busy": "2024-06-06T19:19:11.708081Z",
     "iopub.status.idle": "2024-06-06T19:19:11.736895Z",
     "shell.execute_reply": "2024-06-06T19:19:11.736178Z",
     "shell.execute_reply.started": "2024-06-06T19:19:11.709142Z"
    }
   },
   "outputs": [],
   "source": [
    "# Columns to check for duplicates\n",
    "selected_columns = ['OTP_CA10', 'geometry', 'DBA']\n",
    "\n",
    "# Check for duplicates\n",
    "duplicates = ca_narcotic_support.duplicated(subset=selected_columns, keep=False)\n",
    "\n",
    "# Count duplicates\n",
    "duplicate_count = duplicates.sum()\n",
    "\n",
    "# Filter out the duplicate rows for display\n",
    "duplicate_rows = narcotic_support[duplicates]\n",
    "\n",
    "print(f\"Number of duplicate entries in columns {selected_columns}: {duplicate_count}\")\n",
    "print(\"Duplicate rows:\")\n",
    "display(duplicate_rows)\n",
    "\n",
    "# Drop duplicates, keeping the first occurrence\n",
    "narcotic_support_unique_values = narcotic_support.drop_duplicates(subset=selected_columns, keep='first')"
   ]
  },
  {
   "cell_type": "code",
   "execution_count": null,
   "metadata": {
    "execution": {
     "iopub.execute_input": "2024-06-06T19:19:18.839206Z",
     "iopub.status.busy": "2024-06-06T19:19:18.838313Z",
     "iopub.status.idle": "2024-06-06T19:19:18.868501Z",
     "shell.execute_reply": "2024-06-06T19:19:18.867910Z",
     "shell.execute_reply.started": "2024-06-06T19:19:18.839167Z"
    }
   },
   "outputs": [],
   "source": [
    "narcotic_support_unique_values"
   ]
  },
  {
   "cell_type": "code",
   "execution_count": 26,
   "metadata": {
    "execution": {
     "iopub.execute_input": "2024-06-06T19:19:21.907417Z",
     "iopub.status.busy": "2024-06-06T19:19:21.906789Z",
     "iopub.status.idle": "2024-06-06T19:19:23.265431Z",
     "shell.execute_reply": "2024-06-06T19:19:23.265050Z",
     "shell.execute_reply.started": "2024-06-06T19:19:21.907378Z"
    }
   },
   "outputs": [],
   "source": [
    "# read in CA census tiger file\n",
    "census_shp_dir = \"s3://ca-climate-index/0_map_data/ca_tracts_county.csv\"\n",
    "ca_counties_tract = gpd.read_file(census_shp_dir)\n",
    "ca_counties = ca_counties_tract.drop(columns={'field_1', 'TRACT', 'geometry'})"
   ]
  },
  {
   "cell_type": "markdown",
   "metadata": {},
   "source": [
    "Merge narcotic support data with California counties"
   ]
  },
  {
   "cell_type": "code",
   "execution_count": null,
   "metadata": {
    "execution": {
     "iopub.execute_input": "2024-06-06T19:19:25.420811Z",
     "iopub.status.busy": "2024-06-06T19:19:25.420087Z",
     "iopub.status.idle": "2024-06-06T19:19:25.558334Z",
     "shell.execute_reply": "2024-06-06T19:19:25.557849Z",
     "shell.execute_reply.started": "2024-06-06T19:19:25.420775Z"
    }
   },
   "outputs": [],
   "source": [
    "# Columns to check for duplicates\n",
    "selected_columns = ['OTP_CA10', 'geometry', 'DBA']\n",
    "\n",
    "merge_df = pd.merge(narcotic_support_unique_values, ca_counties, how='left', on='County')\n",
    "merge_df = merge_df.drop_duplicates(subset=selected_columns, keep='first')\n",
    "merge_df"
   ]
  },
  {
   "cell_type": "markdown",
   "metadata": {},
   "source": [
    "Make a new df containing counts of narcotic support facilities per California county"
   ]
  },
  {
   "cell_type": "code",
   "execution_count": null,
   "metadata": {
    "execution": {
     "iopub.execute_input": "2024-06-06T19:19:35.386444Z",
     "iopub.status.busy": "2024-06-06T19:19:35.385660Z",
     "iopub.status.idle": "2024-06-06T19:19:35.415333Z",
     "shell.execute_reply": "2024-06-06T19:19:35.414147Z",
     "shell.execute_reply.started": "2024-06-06T19:19:35.386391Z"
    }
   },
   "outputs": [],
   "source": [
    "# Group by 'CntFips' and 'County' and count the number of entries\n",
    "count_narcotic_support_facilities = merge_df.groupby(['COUNTYFP', 'County']).size().reset_index(name='num_narcotic_support_facilities')\n",
    "\n",
    "print(len(count_narcotic_support_facilities))\n",
    "count_narcotic_support_facilities"
   ]
  },
  {
   "cell_type": "code",
   "execution_count": 29,
   "metadata": {
    "execution": {
     "iopub.execute_input": "2024-06-06T19:19:43.081880Z",
     "iopub.status.busy": "2024-06-06T19:19:43.081182Z",
     "iopub.status.idle": "2024-06-06T19:19:44.085279Z",
     "shell.execute_reply": "2024-06-06T19:19:44.084161Z",
     "shell.execute_reply.started": "2024-06-06T19:19:43.081840Z"
    }
   },
   "outputs": [],
   "source": [
    "# read in CA estimated county population\n",
    "pull_county_pop = \"s3://ca-climate-index/0_map_data/county_est_pop_2022.csv\"\n",
    "ca_county_pop = gpd.read_file(pull_county_pop)\n",
    "ca_counties_pop = ca_county_pop.drop(columns={'field_1', 'geometry'})\n",
    "ca_counties_pop = ca_counties_pop.rename(columns={'county':'County'})"
   ]
  },
  {
   "cell_type": "code",
   "execution_count": null,
   "metadata": {
    "execution": {
     "iopub.execute_input": "2024-06-06T19:19:45.535724Z",
     "iopub.status.busy": "2024-06-06T19:19:45.534944Z",
     "iopub.status.idle": "2024-06-06T19:19:45.565487Z",
     "shell.execute_reply": "2024-06-06T19:19:45.564871Z",
     "shell.execute_reply.started": "2024-06-06T19:19:45.535685Z"
    }
   },
   "outputs": [],
   "source": [
    "# Ensure the 'num_narcotic_support_facilities' and 'est_total_pop' columns are numeric\n",
    "count_narcotic_support_facilities['num_narcotic_support_facilities'] = pd.to_numeric(count_narcotic_support_facilities['num_narcotic_support_facilities'], errors='coerce')\n",
    "ca_counties_pop['est_total_pop'] = pd.to_numeric(ca_counties_pop['est_total_pop'], errors='coerce')\n",
    "\n",
    "ca_pop_narcotic_support_merge = pd.merge(ca_counties_pop, count_narcotic_support_facilities, on='County', how='right')\n",
    "ca_pop_narcotic_support_merge['narcotic_support_per_10000'] = (ca_pop_narcotic_support_merge['num_narcotic_support_facilities'] / ca_pop_narcotic_support_merge['est_total_pop']) * 10000\n",
    "ca_pop_narcotic_support_merge"
   ]
  },
  {
   "cell_type": "code",
   "execution_count": null,
   "metadata": {},
   "outputs": [],
   "source": [
    "ca_counties_tract"
   ]
  },
  {
   "cell_type": "code",
   "execution_count": null,
   "metadata": {},
   "outputs": [],
   "source": [
    "ca_tracts = ca_counties_tract.drop(columns={'field_1', 'geometry', 'COUNTYFP'})\n",
    "#count_narcotic_support_facilities = count_narcotic_support_facilities.drop(columns={'County'})\n",
    "\n",
    "tract_merge = pd.merge(ca_tracts, ca_pop_narcotic_support_merge, on='County', how='left')\n",
    "tract_merge"
   ]
  },
  {
   "cell_type": "markdown",
   "metadata": {},
   "source": [
    "Function to check data per county"
   ]
  },
  {
   "cell_type": "code",
   "execution_count": null,
   "metadata": {},
   "outputs": [],
   "source": [
    "# Define a function to display data for a specific county\n",
    "def display_county_data(df, county_name):\n",
    "    county_data = df[df['County'] == county_name]\n",
    "    if county_data.empty:\n",
    "        print(f\"No data found for {county_name}\")\n",
    "    else:\n",
    "        print(f\"Data for {county_name}:\")\n",
    "        display(county_data)\n",
    "\n",
    "display_county_data(tract_merge, 'Orange')"
   ]
  },
  {
   "cell_type": "markdown",
   "metadata": {},
   "source": [
    "## Function Call for Narcotic Support"
   ]
  },
  {
   "cell_type": "code",
   "execution_count": 34,
   "metadata": {},
   "outputs": [],
   "source": [
    "# read in CA census tiger file\n",
    "census_shp_dir = \"s3://ca-climate-index/0_map_data/ca_tracts_county.csv\"\n",
    "ca_counties_tract = gpd.read_file(census_shp_dir)\n",
    "ca_counties_tract = ca_counties_tract.drop(columns={'field_1', 'geometry'})\n",
    "\n",
    "@append_metadata\n",
    "def narcotic_support_metric_calc(df, export=False, export_filename=None, varname=''):\n",
    "    '''\n",
    "    Calculates the number of Licensed Narcotic Treatment Programs per California county per\n",
    "    10,000 people.\n",
    "    Data was sourced from: https://data.chhs.ca.gov/dataset/licensed-narcotic-treatment-programs\n",
    "    The function calculates the metrics for narcotic support.\n",
    "\n",
    "    Methods\n",
    "    -------\n",
    "    Data was cleaned by removing duplicate entries containing the same location and facility identifier.\n",
    "    Data columns were renamed, merged to 2022 census tract data, and summed to attribute scores to all \n",
    "    California tracts.\n",
    "    \n",
    "    Parameters\n",
    "    ----------\n",
    "    df: string\n",
    "        the dataframe containing the initial narcotic support data\n",
    "    export: True/False boolean\n",
    "        False = will not upload resulting df containing CAL CRAI narcotic support metric to AWS\n",
    "        True = will upload resulting df containing CAL CRAI narcotic support metric to AWS\n",
    "    export_filename: string\n",
    "        name of the csv file to be uploaded to AWS\n",
    "\n",
    "    Script\n",
    "    ------\n",
    "    society_healthcare_shortage.ipynb\n",
    "\n",
    "    Note:\n",
    "    This function assumes users have configured the AWS CLI such that their access key / secret key pair are stored in ~/.aws/credentials.\n",
    "    See https://docs.aws.amazon.com/cli/latest/userguide/getting-started-install.html for guidance.\n",
    "    '''\n",
    "    print('Data transformation: isolate relevant columns and remove duplicate entries.')\n",
    "    print('Data transformation: merge data to California counties and calculate county totals.')\n",
    "    print('Data transformation: merge data to California tracts, keeping county sums for all tracts within.')\n",
    "    print('Data transformation: import county population estimates and merge into data.')\n",
    "    print('Data transformation: calculate metric by dividing county level narcotic treatment facilities by county population and multiply by 10,000.')\n",
    "\n",
    "    # Columns to check for duplicates\n",
    "    selected_columns = ['OTP_CA10', 'geometry', 'DBA']\n",
    "\n",
    "    # Check for duplicates\n",
    "    duplicates = df.duplicated(subset=selected_columns, keep=False)\n",
    "\n",
    "    # Filter out the duplicate rows for display\n",
    "    duplicate_rows = narcotic_support[duplicates]\n",
    "\n",
    "    # Drop duplicates, keeping the first occurrence\n",
    "    narcotic_support_unique_values = narcotic_support.drop_duplicates(subset=selected_columns, keep='first')\n",
    "\n",
    "    # Columns to check for duplicates\n",
    "    selected_columns = ['OTP_CA10', 'geometry', 'DBA']\n",
    "\n",
    "    merge_df = pd.merge(narcotic_support_unique_values, ca_counties_tract, how='left', on='County')\n",
    "    merge_df = merge_df.drop_duplicates(subset=selected_columns, keep='first')\n",
    "    \n",
    "    count_narcotic_support_facilities = merge_df.groupby(['COUNTYFP', 'County']).size().reset_index(name='num_narcotic_support_facilities')\n",
    "\n",
    "    # read in CA estimated county population\n",
    "    pull_county_pop = \"s3://ca-climate-index/0_map_data/county_est_pop_2022.csv\"\n",
    "    ca_county_pop = gpd.read_file(pull_county_pop)\n",
    "    ca_counties_pop = ca_county_pop.drop(columns={'field_1', 'geometry'})\n",
    "    ca_counties_pop = ca_counties_pop.rename(columns={'county':'County'})\n",
    "\n",
    "    # Ensure the 'num_narcotic_support_facilities' and 'est_total_pop' columns are numeric\n",
    "    count_narcotic_support_facilities['num_narcotic_support_facilities'] =  pd.to_numeric(count_narcotic_support_facilities['num_narcotic_support_facilities'], errors='coerce')\n",
    "    ca_counties_pop['est_total_pop'] = pd.to_numeric(ca_counties_pop['est_total_pop'], errors='coerce')\n",
    "\n",
    "    ca_pop_narcotic_support_merge = pd.merge(ca_counties_pop, count_narcotic_support_facilities, on='County', how='right')\n",
    "    ca_pop_narcotic_support_merge['narcotic_support_per_10000'] = (ca_pop_narcotic_support_merge['num_narcotic_support_facilities'] / ca_pop_narcotic_support_merge['est_total_pop']) * 10000\n",
    "\n",
    "    ca_tracts = ca_counties_tract.drop(columns={'COUNTYFP'})\n",
    "    \n",
    "    tract_merge = pd.merge(ca_tracts, ca_pop_narcotic_support_merge, on='County', how='left')\n",
    "    tract_merge = tract_merge.drop(columns='COUNTYFP')\n",
    "    # export to csv and upload to AWS\n",
    "    if export == True:\n",
    "        tract_merge.to_csv(export_filename)\n",
    "        bucket_name = 'ca-climate-index'\n",
    "        directory = '3_fair_data/index_data'\n",
    "        export_filename = [export_filename]\n",
    "        upload_csv_aws(export_filename, bucket_name, directory)\n",
    "\n",
    "    if export == False:\n",
    "        print(f'{export_filename} uploaded to AWS.')\n",
    "\n",
    "    if os.path.exists(export_filename[0]):\n",
    "        os.remove(export_filename[0])\n",
    "\n",
    "    return tract_merge"
   ]
  },
  {
   "cell_type": "code",
   "execution_count": null,
   "metadata": {},
   "outputs": [],
   "source": [
    "# pull csv from aws\n",
    "bucket_name = 'ca-climate-index'\n",
    "aws_dir = '2b_reproject/society_economy/social_services/ca_health_human_services/'\n",
    "\n",
    "pull_gpkg_from_directory(bucket_name, aws_dir)\n",
    "\n",
    "narcotic_support_data = gpd.read_file('society_hrsa_narcotic_support.gpkg')\n",
    "\n",
    "narcotic_columns = ['OBJECTID',\n",
    "                    'CountyName',\n",
    "                    'DBA',\n",
    "                    'OTP_CA10',\n",
    "                    'geometry'\n",
    "                    ]\n",
    "narcotic_support = narcotic_support_data[narcotic_columns]\n",
    "narcotic_support = narcotic_support.rename(columns={'CountyName': 'County'})\n",
    "narcotic_support['County'] = narcotic_support['County'].str.replace(' County', '', case=False)\n",
    "\n",
    "narcotic_support_metric_calc(narcotic_support, export=True, export_filename='society_narcotic_support_metric.csv', varname='test')#'society_hrsa_narcotic_support')"
   ]
  }
 ],
 "metadata": {
  "kernelspec": {
   "display_name": "Python 3 (ipykernel)",
   "language": "python",
   "name": "python3"
  },
  "language_info": {
   "codemirror_mode": {
    "name": "ipython",
    "version": 3
   },
   "file_extension": ".py",
   "mimetype": "text/x-python",
   "name": "python",
   "nbconvert_exporter": "python",
   "pygments_lexer": "ipython3",
   "version": "3.9.18"
  }
 },
 "nbformat": 4,
 "nbformat_minor": 4
}
