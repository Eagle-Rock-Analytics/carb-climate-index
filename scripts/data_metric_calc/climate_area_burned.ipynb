{
 "cells": [
  {
   "cell_type": "markdown",
   "metadata": {},
   "source": [
    "## This notebook calculates the following metrics sourced from Cal-Adapt Tools: Wildfire\n",
    "* Change in total area burned per tract per year"
   ]
  },
  {
   "cell_type": "code",
   "execution_count": 1,
   "metadata": {
    "execution": {
     "iopub.execute_input": "2024-08-07T20:37:25.199398Z",
     "iopub.status.busy": "2024-08-07T20:37:25.199137Z",
     "iopub.status.idle": "2024-08-07T20:37:26.324657Z",
     "shell.execute_reply": "2024-08-07T20:37:26.324085Z",
     "shell.execute_reply.started": "2024-08-07T20:37:25.199375Z"
    }
   },
   "outputs": [],
   "source": [
    "import pandas as pd\n",
    "import os\n",
    "import sys\n",
    "import math\n",
    "import geopandas as gpd\n",
    "import xarray as xr\n",
    "import cftime\n",
    "\n",
    "import pyproj\n",
    "import rioxarray as rio\n",
    "import xarray as xr\n",
    "\n",
    "# projection information\n",
    "import cartopy.crs as ccrs\n",
    "\n",
    "# suppress pandas purely educational warnings\n",
    "from warnings import simplefilter\n",
    "simplefilter(action=\"ignore\", category=pd.errors.PerformanceWarning)\n",
    "\n",
    "sys.path.append(os.path.expanduser('../../'))\n",
    "from scripts.utils.file_helpers import upload_csv_aws, filter_counties\n",
    "from scripts.utils.write_metadata import append_metadata"
   ]
  },
  {
   "cell_type": "code",
   "execution_count": 4,
   "metadata": {
    "execution": {
     "iopub.execute_input": "2024-08-07T20:44:53.313854Z",
     "iopub.status.busy": "2024-08-07T20:44:53.313049Z",
     "iopub.status.idle": "2024-08-07T20:44:53.324393Z",
     "shell.execute_reply": "2024-08-07T20:44:53.323235Z",
     "shell.execute_reply.started": "2024-08-07T20:44:53.313816Z"
    }
   },
   "outputs": [],
   "source": [
    "def process_fire_data(fn):\n",
    "    bucket_loc = \"s3://ca-climate-index/1_pull_data/climate_risk/wildfire/loss/projections/caladapt/\"\n",
    "    filepath = bucket_loc + fn + \"_AA.monthly_all.bau.mu.nc.zarr\"\n",
    "    print('Opening: {}'.format(filepath))\n",
    "    ds = xr.open_dataset(\n",
    "        filepath, \n",
    "        engine=\"zarr\",\n",
    "        consolidated=False,\n",
    "        decode_times=False\n",
    "    )    \n",
    "    units, refdate = ds.time.attrs['units'].split('since')\n",
    "    ds['time'] = pd.date_range(start=refdate, periods=ds.sizes['time'], freq='MS')\n",
    "\n",
    "    # calculate annual area burned\n",
    "    print('Calculating annual sum of area burned...')\n",
    "    ds = ds.resample(time='1Y').sum()\n",
    "    return ds\n",
    "\n",
    "def convert_30yr(start):\n",
    "    return (start-5, start+24)"
   ]
  },
  {
   "cell_type": "code",
   "execution_count": 5,
   "metadata": {
    "execution": {
     "iopub.execute_input": "2024-08-07T20:44:54.115846Z",
     "iopub.status.busy": "2024-08-07T20:44:54.115107Z",
     "iopub.status.idle": "2024-08-07T21:07:29.023852Z",
     "shell.execute_reply": "2024-08-07T21:07:29.023190Z",
     "shell.execute_reply.started": "2024-08-07T20:44:54.115808Z"
    }
   },
   "outputs": [
    {
     "name": "stdout",
     "output_type": "stream",
     "text": [
      "Opening: s3://ca-climate-index/1_pull_data/climate_risk/wildfire/loss/projections/caladapt/MIROC5_45_AA.monthly_all.bau.mu.nc.zarr\n",
      "Calculating annual sum of area burned...\n",
      "Opening: s3://ca-climate-index/1_pull_data/climate_risk/wildfire/loss/projections/caladapt/CNRM-CM5_45_AA.monthly_all.bau.mu.nc.zarr\n",
      "Calculating annual sum of area burned...\n",
      "Opening: s3://ca-climate-index/1_pull_data/climate_risk/wildfire/loss/projections/caladapt/HadGEM2-ES_45_AA.monthly_all.bau.mu.nc.zarr\n",
      "Calculating annual sum of area burned...\n",
      "Opening: s3://ca-climate-index/1_pull_data/climate_risk/wildfire/loss/projections/caladapt/CanESM2_45_AA.monthly_all.bau.mu.nc.zarr\n",
      "Calculating annual sum of area burned...\n",
      "Opening: s3://ca-climate-index/1_pull_data/climate_risk/wildfire/loss/projections/caladapt/MIROC5_85_AA.monthly_all.bau.mu.nc.zarr\n",
      "Calculating annual sum of area burned...\n",
      "Opening: s3://ca-climate-index/1_pull_data/climate_risk/wildfire/loss/projections/caladapt/CNRM-CM5_85_AA.monthly_all.bau.mu.nc.zarr\n",
      "Calculating annual sum of area burned...\n",
      "Opening: s3://ca-climate-index/1_pull_data/climate_risk/wildfire/loss/projections/caladapt/HadGEM2-ES_85_AA.monthly_all.bau.mu.nc.zarr\n",
      "Calculating annual sum of area burned...\n",
      "Opening: s3://ca-climate-index/1_pull_data/climate_risk/wildfire/loss/projections/caladapt/CanESM2_85_AA.monthly_all.bau.mu.nc.zarr\n",
      "Calculating annual sum of area burned...\n"
     ]
    }
   ],
   "source": [
    "# this takes a few minutes because it is opening the file and then pre-processing by calculating the annual sum\n",
    "# approx 2 min  per file\n",
    "# RCP 4.5\n",
    "miroc45 = process_fire_data(fn='MIROC5_45')\n",
    "cnrm45 = process_fire_data(fn='CNRM-CM5_45')\n",
    "hadgem45 = process_fire_data(fn='HadGEM2-ES_45')\n",
    "canesm45 = process_fire_data(fn='CanESM2_45')\n",
    "\n",
    "# RCP 8.5\n",
    "miroc85 = process_fire_data(fn='MIROC5_85')\n",
    "cnrm85 = process_fire_data(fn='CNRM-CM5_85')\n",
    "hadgem85 = process_fire_data(fn='HadGEM2-ES_85')\n",
    "canesm85 = process_fire_data(fn='CanESM2_85')"
   ]
  },
  {
   "cell_type": "markdown",
   "metadata": {},
   "source": [
    "#### Step 1a) Calculate historical baseline (1981-2010)"
   ]
  },
  {
   "cell_type": "code",
   "execution_count": 6,
   "metadata": {
    "execution": {
     "iopub.execute_input": "2024-08-07T21:07:29.025302Z",
     "iopub.status.busy": "2024-08-07T21:07:29.025096Z",
     "iopub.status.idle": "2024-08-07T21:07:29.089160Z",
     "shell.execute_reply": "2024-08-07T21:07:29.088700Z",
     "shell.execute_reply.started": "2024-08-07T21:07:29.025279Z"
    }
   },
   "outputs": [],
   "source": [
    "# grab historical period in each, and take multimodel mean\n",
    "all_sims = [miroc45, miroc85, cnrm45, cnrm85, hadgem45, hadgem85, canesm45, canesm85]\n",
    "\n",
    "ds_hist = xr.concat(all_sims, 'simulation')\n",
    "ds_hist = ds_hist.sel(time=slice('1981', '2010')).mean(dim='time').mean(dim='simulation') # subset for historical baseline period, and take multi-model mean"
   ]
  },
  {
   "cell_type": "code",
   "execution_count": 7,
   "metadata": {
    "execution": {
     "iopub.execute_input": "2024-08-07T21:07:29.089927Z",
     "iopub.status.busy": "2024-08-07T21:07:29.089682Z",
     "iopub.status.idle": "2024-08-07T21:07:29.094886Z",
     "shell.execute_reply": "2024-08-07T21:07:29.094576Z",
     "shell.execute_reply.started": "2024-08-07T21:07:29.089912Z"
    }
   },
   "outputs": [
    {
     "data": {
      "text/plain": [
       "(<xarray.DataArray 'hectares' ()>\n",
       " array(0.),\n",
       " <xarray.DataArray 'hectares' ()>\n",
       " array(72.98579407),\n",
       " <xarray.DataArray 'hectares' ()>\n",
       " array(5.905063, dtype=float32))"
      ]
     },
     "execution_count": 7,
     "metadata": {},
     "output_type": "execute_result"
    }
   ],
   "source": [
    "ds_hist.hectares.min(), ds_hist.hectares.max(), ds_hist.hectares.mean()"
   ]
  },
  {
   "cell_type": "code",
   "execution_count": 8,
   "metadata": {
    "execution": {
     "iopub.execute_input": "2024-08-07T21:07:29.096208Z",
     "iopub.status.busy": "2024-08-07T21:07:29.096093Z",
     "iopub.status.idle": "2024-08-07T21:07:29.114818Z",
     "shell.execute_reply": "2024-08-07T21:07:29.114388Z",
     "shell.execute_reply.started": "2024-08-07T21:07:29.096199Z"
    }
   },
   "outputs": [
    {
     "name": "stdout",
     "output_type": "stream",
     "text": [
      "<xarray.DataArray 'hectares' ()>\n",
      "array(0.) <xarray.DataArray 'hectares' ()>\n",
      "array(72.82633209)\n",
      "<xarray.DataArray 'hectares' ()>\n",
      "array(0.) <xarray.DataArray 'hectares' ()>\n",
      "array(70.47467804)\n",
      "<xarray.DataArray 'hectares' ()>\n",
      "array(0.) <xarray.DataArray 'hectares' ()>\n",
      "array(75.83365631)\n",
      "<xarray.DataArray 'hectares' ()>\n",
      "array(0.) <xarray.DataArray 'hectares' ()>\n",
      "array(75.75833893)\n",
      "<xarray.DataArray 'hectares' ()>\n",
      "array(0.) <xarray.DataArray 'hectares' ()>\n",
      "array(71.63867188)\n",
      "<xarray.DataArray 'hectares' ()>\n",
      "array(0.) <xarray.DataArray 'hectares' ()>\n",
      "array(80.78733826)\n",
      "<xarray.DataArray 'hectares' ()>\n",
      "array(0.) <xarray.DataArray 'hectares' ()>\n",
      "array(80.18798065)\n",
      "<xarray.DataArray 'hectares' ()>\n",
      "array(0.) <xarray.DataArray 'hectares' ()>\n",
      "array(82.21967316)\n"
     ]
    }
   ],
   "source": [
    "# somewhat low? looking into each model -- \n",
    "def test_historical(ds):\n",
    "    ds_sub = ds.sel(time=slice('1981','2010')).mean(dim='time')\n",
    "    print(ds_sub.hectares.min(), ds_sub.hectares.max())\n",
    "\n",
    "for mdl in all_sims:\n",
    "    test_historical(mdl)"
   ]
  },
  {
   "cell_type": "markdown",
   "metadata": {},
   "source": [
    "#### Step 1b) Calculate warming level per model\n",
    "This will have to be manually done per model\n",
    "* https://github.com/mathause/cmip_warming_levels/blob/main/warming_levels/cmip5_all_ens/csv/cmip5_warming_levels_all_ens_1850_1900_no_bounds_check.csv\n",
    "* Assuming all models are r1i1ip1f1\n",
    "* The csv file at loc above has typos in it, making it unreadable programmatically -- working manually\n",
    "   * uses a 20 year average around start year\n",
    "   * MIROC5 4.5 -- 2063-2082, MIROC5 8.5 -- 2039-2058\n",
    "   * CNRM-CM5 4.5 -- 2049-2068, CNRM-CM5 8.5 -- 2036-2055\n",
    "   * HADGEM-ES 4.5 -- 2034-2053, HADGEM-ES 8.5 -- 2026-2045\n",
    "   * CANESM2 4.5 -- 2022-2041, CANESM2 8.5 -- 2017-2036"
   ]
  },
  {
   "cell_type": "code",
   "execution_count": 9,
   "metadata": {
    "execution": {
     "iopub.execute_input": "2024-08-07T21:07:29.115608Z",
     "iopub.status.busy": "2024-08-07T21:07:29.115510Z",
     "iopub.status.idle": "2024-08-07T21:07:29.118538Z",
     "shell.execute_reply": "2024-08-07T21:07:29.118161Z",
     "shell.execute_reply.started": "2024-08-07T21:07:29.115599Z"
    }
   },
   "outputs": [
    {
     "name": "stdout",
     "output_type": "stream",
     "text": [
      "miroc45 20-yr-start:  2063 30-yr range: (2058, 2087)\n",
      "miroc85 20-yr-start:  2039 30-yr range: (2034, 2063)\n",
      "cnrm45 20-yr-start:  2049 30-yr range: (2044, 2073)\n",
      "cnrm85 20-yr-start:  2036 30-yr range: (2031, 2060)\n",
      "hadgem45 20-yr-start:  2034 30-yr range: (2029, 2058)\n",
      "hadgem85 20-yr-start:  2026 30-yr range: (2021, 2050)\n",
      "canesm45 20-yr-start:  2022 30-yr range: (2017, 2046)\n",
      "canesm85 20-yr-start:  2017 30-yr range: (2012, 2041)\n"
     ]
    }
   ],
   "source": [
    "sim_yrs = {\n",
    "    'miroc45'  : 2063,\n",
    "    'miroc85'  : 2039,\n",
    "    'cnrm45'   : 2049,\n",
    "    'cnrm85'   : 2036,\n",
    "    'hadgem45' : 2034,\n",
    "    'hadgem85' : 2026,\n",
    "    'canesm45' : 2022,\n",
    "    'canesm85' : 2017\n",
    "}\n",
    "\n",
    "for i in sim_yrs.keys():\n",
    "    print(i, '20-yr-start: ', sim_yrs.get(i), '30-yr range:', convert_30yr(sim_yrs.get(i)))"
   ]
  },
  {
   "cell_type": "code",
   "execution_count": 10,
   "metadata": {
    "execution": {
     "iopub.execute_input": "2024-08-07T21:07:29.119233Z",
     "iopub.status.busy": "2024-08-07T21:07:29.119141Z",
     "iopub.status.idle": "2024-08-07T21:07:29.144046Z",
     "shell.execute_reply": "2024-08-07T21:07:29.143713Z",
     "shell.execute_reply.started": "2024-08-07T21:07:29.119225Z"
    }
   },
   "outputs": [
    {
     "data": {
      "text/html": [
       "<div><svg style=\"position: absolute; width: 0; height: 0; overflow: hidden\">\n",
       "<defs>\n",
       "<symbol id=\"icon-database\" viewBox=\"0 0 32 32\">\n",
       "<path d=\"M16 0c-8.837 0-16 2.239-16 5v4c0 2.761 7.163 5 16 5s16-2.239 16-5v-4c0-2.761-7.163-5-16-5z\"></path>\n",
       "<path d=\"M16 17c-8.837 0-16-2.239-16-5v6c0 2.761 7.163 5 16 5s16-2.239 16-5v-6c0 2.761-7.163 5-16 5z\"></path>\n",
       "<path d=\"M16 26c-8.837 0-16-2.239-16-5v6c0 2.761 7.163 5 16 5s16-2.239 16-5v-6c0 2.761-7.163 5-16 5z\"></path>\n",
       "</symbol>\n",
       "<symbol id=\"icon-file-text2\" viewBox=\"0 0 32 32\">\n",
       "<path d=\"M28.681 7.159c-0.694-0.947-1.662-2.053-2.724-3.116s-2.169-2.030-3.116-2.724c-1.612-1.182-2.393-1.319-2.841-1.319h-15.5c-1.378 0-2.5 1.121-2.5 2.5v27c0 1.378 1.122 2.5 2.5 2.5h23c1.378 0 2.5-1.122 2.5-2.5v-19.5c0-0.448-0.137-1.23-1.319-2.841zM24.543 5.457c0.959 0.959 1.712 1.825 2.268 2.543h-4.811v-4.811c0.718 0.556 1.584 1.309 2.543 2.268zM28 29.5c0 0.271-0.229 0.5-0.5 0.5h-23c-0.271 0-0.5-0.229-0.5-0.5v-27c0-0.271 0.229-0.5 0.5-0.5 0 0 15.499-0 15.5 0v7c0 0.552 0.448 1 1 1h7v19.5z\"></path>\n",
       "<path d=\"M23 26h-14c-0.552 0-1-0.448-1-1s0.448-1 1-1h14c0.552 0 1 0.448 1 1s-0.448 1-1 1z\"></path>\n",
       "<path d=\"M23 22h-14c-0.552 0-1-0.448-1-1s0.448-1 1-1h14c0.552 0 1 0.448 1 1s-0.448 1-1 1z\"></path>\n",
       "<path d=\"M23 18h-14c-0.552 0-1-0.448-1-1s0.448-1 1-1h14c0.552 0 1 0.448 1 1s-0.448 1-1 1z\"></path>\n",
       "</symbol>\n",
       "</defs>\n",
       "</svg>\n",
       "<style>/* CSS stylesheet for displaying xarray objects in jupyterlab.\n",
       " *\n",
       " */\n",
       "\n",
       ":root {\n",
       "  --xr-font-color0: var(--jp-content-font-color0, rgba(0, 0, 0, 1));\n",
       "  --xr-font-color2: var(--jp-content-font-color2, rgba(0, 0, 0, 0.54));\n",
       "  --xr-font-color3: var(--jp-content-font-color3, rgba(0, 0, 0, 0.38));\n",
       "  --xr-border-color: var(--jp-border-color2, #e0e0e0);\n",
       "  --xr-disabled-color: var(--jp-layout-color3, #bdbdbd);\n",
       "  --xr-background-color: var(--jp-layout-color0, white);\n",
       "  --xr-background-color-row-even: var(--jp-layout-color1, white);\n",
       "  --xr-background-color-row-odd: var(--jp-layout-color2, #eeeeee);\n",
       "}\n",
       "\n",
       "html[theme=dark],\n",
       "body[data-theme=dark],\n",
       "body.vscode-dark {\n",
       "  --xr-font-color0: rgba(255, 255, 255, 1);\n",
       "  --xr-font-color2: rgba(255, 255, 255, 0.54);\n",
       "  --xr-font-color3: rgba(255, 255, 255, 0.38);\n",
       "  --xr-border-color: #1F1F1F;\n",
       "  --xr-disabled-color: #515151;\n",
       "  --xr-background-color: #111111;\n",
       "  --xr-background-color-row-even: #111111;\n",
       "  --xr-background-color-row-odd: #313131;\n",
       "}\n",
       "\n",
       ".xr-wrap {\n",
       "  display: block !important;\n",
       "  min-width: 300px;\n",
       "  max-width: 700px;\n",
       "}\n",
       "\n",
       ".xr-text-repr-fallback {\n",
       "  /* fallback to plain text repr when CSS is not injected (untrusted notebook) */\n",
       "  display: none;\n",
       "}\n",
       "\n",
       ".xr-header {\n",
       "  padding-top: 6px;\n",
       "  padding-bottom: 6px;\n",
       "  margin-bottom: 4px;\n",
       "  border-bottom: solid 1px var(--xr-border-color);\n",
       "}\n",
       "\n",
       ".xr-header > div,\n",
       ".xr-header > ul {\n",
       "  display: inline;\n",
       "  margin-top: 0;\n",
       "  margin-bottom: 0;\n",
       "}\n",
       "\n",
       ".xr-obj-type,\n",
       ".xr-array-name {\n",
       "  margin-left: 2px;\n",
       "  margin-right: 10px;\n",
       "}\n",
       "\n",
       ".xr-obj-type {\n",
       "  color: var(--xr-font-color2);\n",
       "}\n",
       "\n",
       ".xr-sections {\n",
       "  padding-left: 0 !important;\n",
       "  display: grid;\n",
       "  grid-template-columns: 150px auto auto 1fr 20px 20px;\n",
       "}\n",
       "\n",
       ".xr-section-item {\n",
       "  display: contents;\n",
       "}\n",
       "\n",
       ".xr-section-item input {\n",
       "  display: none;\n",
       "}\n",
       "\n",
       ".xr-section-item input + label {\n",
       "  color: var(--xr-disabled-color);\n",
       "}\n",
       "\n",
       ".xr-section-item input:enabled + label {\n",
       "  cursor: pointer;\n",
       "  color: var(--xr-font-color2);\n",
       "}\n",
       "\n",
       ".xr-section-item input:enabled + label:hover {\n",
       "  color: var(--xr-font-color0);\n",
       "}\n",
       "\n",
       ".xr-section-summary {\n",
       "  grid-column: 1;\n",
       "  color: var(--xr-font-color2);\n",
       "  font-weight: 500;\n",
       "}\n",
       "\n",
       ".xr-section-summary > span {\n",
       "  display: inline-block;\n",
       "  padding-left: 0.5em;\n",
       "}\n",
       "\n",
       ".xr-section-summary-in:disabled + label {\n",
       "  color: var(--xr-font-color2);\n",
       "}\n",
       "\n",
       ".xr-section-summary-in + label:before {\n",
       "  display: inline-block;\n",
       "  content: '►';\n",
       "  font-size: 11px;\n",
       "  width: 15px;\n",
       "  text-align: center;\n",
       "}\n",
       "\n",
       ".xr-section-summary-in:disabled + label:before {\n",
       "  color: var(--xr-disabled-color);\n",
       "}\n",
       "\n",
       ".xr-section-summary-in:checked + label:before {\n",
       "  content: '▼';\n",
       "}\n",
       "\n",
       ".xr-section-summary-in:checked + label > span {\n",
       "  display: none;\n",
       "}\n",
       "\n",
       ".xr-section-summary,\n",
       ".xr-section-inline-details {\n",
       "  padding-top: 4px;\n",
       "  padding-bottom: 4px;\n",
       "}\n",
       "\n",
       ".xr-section-inline-details {\n",
       "  grid-column: 2 / -1;\n",
       "}\n",
       "\n",
       ".xr-section-details {\n",
       "  display: none;\n",
       "  grid-column: 1 / -1;\n",
       "  margin-bottom: 5px;\n",
       "}\n",
       "\n",
       ".xr-section-summary-in:checked ~ .xr-section-details {\n",
       "  display: contents;\n",
       "}\n",
       "\n",
       ".xr-array-wrap {\n",
       "  grid-column: 1 / -1;\n",
       "  display: grid;\n",
       "  grid-template-columns: 20px auto;\n",
       "}\n",
       "\n",
       ".xr-array-wrap > label {\n",
       "  grid-column: 1;\n",
       "  vertical-align: top;\n",
       "}\n",
       "\n",
       ".xr-preview {\n",
       "  color: var(--xr-font-color3);\n",
       "}\n",
       "\n",
       ".xr-array-preview,\n",
       ".xr-array-data {\n",
       "  padding: 0 5px !important;\n",
       "  grid-column: 2;\n",
       "}\n",
       "\n",
       ".xr-array-data,\n",
       ".xr-array-in:checked ~ .xr-array-preview {\n",
       "  display: none;\n",
       "}\n",
       "\n",
       ".xr-array-in:checked ~ .xr-array-data,\n",
       ".xr-array-preview {\n",
       "  display: inline-block;\n",
       "}\n",
       "\n",
       ".xr-dim-list {\n",
       "  display: inline-block !important;\n",
       "  list-style: none;\n",
       "  padding: 0 !important;\n",
       "  margin: 0;\n",
       "}\n",
       "\n",
       ".xr-dim-list li {\n",
       "  display: inline-block;\n",
       "  padding: 0;\n",
       "  margin: 0;\n",
       "}\n",
       "\n",
       ".xr-dim-list:before {\n",
       "  content: '(';\n",
       "}\n",
       "\n",
       ".xr-dim-list:after {\n",
       "  content: ')';\n",
       "}\n",
       "\n",
       ".xr-dim-list li:not(:last-child):after {\n",
       "  content: ',';\n",
       "  padding-right: 5px;\n",
       "}\n",
       "\n",
       ".xr-has-index {\n",
       "  font-weight: bold;\n",
       "}\n",
       "\n",
       ".xr-var-list,\n",
       ".xr-var-item {\n",
       "  display: contents;\n",
       "}\n",
       "\n",
       ".xr-var-item > div,\n",
       ".xr-var-item label,\n",
       ".xr-var-item > .xr-var-name span {\n",
       "  background-color: var(--xr-background-color-row-even);\n",
       "  margin-bottom: 0;\n",
       "}\n",
       "\n",
       ".xr-var-item > .xr-var-name:hover span {\n",
       "  padding-right: 5px;\n",
       "}\n",
       "\n",
       ".xr-var-list > li:nth-child(odd) > div,\n",
       ".xr-var-list > li:nth-child(odd) > label,\n",
       ".xr-var-list > li:nth-child(odd) > .xr-var-name span {\n",
       "  background-color: var(--xr-background-color-row-odd);\n",
       "}\n",
       "\n",
       ".xr-var-name {\n",
       "  grid-column: 1;\n",
       "}\n",
       "\n",
       ".xr-var-dims {\n",
       "  grid-column: 2;\n",
       "}\n",
       "\n",
       ".xr-var-dtype {\n",
       "  grid-column: 3;\n",
       "  text-align: right;\n",
       "  color: var(--xr-font-color2);\n",
       "}\n",
       "\n",
       ".xr-var-preview {\n",
       "  grid-column: 4;\n",
       "}\n",
       "\n",
       ".xr-index-preview {\n",
       "  grid-column: 2 / 5;\n",
       "  color: var(--xr-font-color2);\n",
       "}\n",
       "\n",
       ".xr-var-name,\n",
       ".xr-var-dims,\n",
       ".xr-var-dtype,\n",
       ".xr-preview,\n",
       ".xr-attrs dt {\n",
       "  white-space: nowrap;\n",
       "  overflow: hidden;\n",
       "  text-overflow: ellipsis;\n",
       "  padding-right: 10px;\n",
       "}\n",
       "\n",
       ".xr-var-name:hover,\n",
       ".xr-var-dims:hover,\n",
       ".xr-var-dtype:hover,\n",
       ".xr-attrs dt:hover {\n",
       "  overflow: visible;\n",
       "  width: auto;\n",
       "  z-index: 1;\n",
       "}\n",
       "\n",
       ".xr-var-attrs,\n",
       ".xr-var-data,\n",
       ".xr-index-data {\n",
       "  display: none;\n",
       "  background-color: var(--xr-background-color) !important;\n",
       "  padding-bottom: 5px !important;\n",
       "}\n",
       "\n",
       ".xr-var-attrs-in:checked ~ .xr-var-attrs,\n",
       ".xr-var-data-in:checked ~ .xr-var-data,\n",
       ".xr-index-data-in:checked ~ .xr-index-data {\n",
       "  display: block;\n",
       "}\n",
       "\n",
       ".xr-var-data > table {\n",
       "  float: right;\n",
       "}\n",
       "\n",
       ".xr-var-name span,\n",
       ".xr-var-data,\n",
       ".xr-index-name div,\n",
       ".xr-index-data,\n",
       ".xr-attrs {\n",
       "  padding-left: 25px !important;\n",
       "}\n",
       "\n",
       ".xr-attrs,\n",
       ".xr-var-attrs,\n",
       ".xr-var-data,\n",
       ".xr-index-data {\n",
       "  grid-column: 1 / -1;\n",
       "}\n",
       "\n",
       "dl.xr-attrs {\n",
       "  padding: 0;\n",
       "  margin: 0;\n",
       "  display: grid;\n",
       "  grid-template-columns: 125px auto;\n",
       "}\n",
       "\n",
       ".xr-attrs dt,\n",
       ".xr-attrs dd {\n",
       "  padding: 0;\n",
       "  margin: 0;\n",
       "  float: left;\n",
       "  padding-right: 10px;\n",
       "  width: auto;\n",
       "}\n",
       "\n",
       ".xr-attrs dt {\n",
       "  font-weight: normal;\n",
       "  grid-column: 1;\n",
       "}\n",
       "\n",
       ".xr-attrs dt:hover span {\n",
       "  display: inline-block;\n",
       "  background: var(--xr-background-color);\n",
       "  padding-right: 10px;\n",
       "}\n",
       "\n",
       ".xr-attrs dd {\n",
       "  grid-column: 2;\n",
       "  white-space: pre-wrap;\n",
       "  word-break: break-all;\n",
       "}\n",
       "\n",
       ".xr-icon-database,\n",
       ".xr-icon-file-text2,\n",
       ".xr-no-icon {\n",
       "  display: inline-block;\n",
       "  vertical-align: middle;\n",
       "  width: 1em;\n",
       "  height: 1.5em !important;\n",
       "  stroke-width: 0;\n",
       "  stroke: currentColor;\n",
       "  fill: currentColor;\n",
       "}\n",
       "</style><pre class='xr-text-repr-fallback'>&lt;xarray.Dataset&gt;\n",
       "Dimensions:   (lat: 179, lon: 173)\n",
       "Coordinates:\n",
       "  * lat       (lat) float64 31.59 31.66 31.72 31.78 ... 42.53 42.59 42.66 42.72\n",
       "  * lon       (lon) float64 -124.5 -124.5 -124.4 -124.3 ... -113.9 -113.8 -113.8\n",
       "Data variables:\n",
       "    hectares  (lat, lon) float32 0.0 0.0 0.0 0.0 0.0 0.0 ... 0.0 0.0 0.0 0.0 0.0</pre><div class='xr-wrap' style='display:none'><div class='xr-header'><div class='xr-obj-type'>xarray.Dataset</div></div><ul class='xr-sections'><li class='xr-section-item'><input id='section-d8cef14c-09fb-4889-ace7-98b5ee24e86e' class='xr-section-summary-in' type='checkbox' disabled ><label for='section-d8cef14c-09fb-4889-ace7-98b5ee24e86e' class='xr-section-summary'  title='Expand/collapse section'>Dimensions:</label><div class='xr-section-inline-details'><ul class='xr-dim-list'><li><span class='xr-has-index'>lat</span>: 179</li><li><span class='xr-has-index'>lon</span>: 173</li></ul></div><div class='xr-section-details'></div></li><li class='xr-section-item'><input id='section-2119fc63-3c53-4529-ad93-8a12b378570e' class='xr-section-summary-in' type='checkbox'  checked><label for='section-2119fc63-3c53-4529-ad93-8a12b378570e' class='xr-section-summary' >Coordinates: <span>(2)</span></label><div class='xr-section-inline-details'></div><div class='xr-section-details'><ul class='xr-var-list'><li class='xr-var-item'><div class='xr-var-name'><span class='xr-has-index'>lat</span></div><div class='xr-var-dims'>(lat)</div><div class='xr-var-dtype'>float64</div><div class='xr-var-preview xr-preview'>31.59 31.66 31.72 ... 42.66 42.72</div><input id='attrs-079df7b7-a7ad-4d41-9c19-060467b643b2' class='xr-var-attrs-in' type='checkbox' ><label for='attrs-079df7b7-a7ad-4d41-9c19-060467b643b2' title='Show/Hide attributes'><svg class='icon xr-icon-file-text2'><use xlink:href='#icon-file-text2'></use></svg></label><input id='data-2c44602d-4e60-4235-8058-43c6ebdc735a' class='xr-var-data-in' type='checkbox'><label for='data-2c44602d-4e60-4235-8058-43c6ebdc735a' title='Show/Hide data repr'><svg class='icon xr-icon-database'><use xlink:href='#icon-database'></use></svg></label><div class='xr-var-attrs'><dl class='xr-attrs'><dt><span>long_name :</span></dt><dd>latitude</dd><dt><span>units :</span></dt><dd>degreesN</dd></dl></div><div class='xr-var-data'><pre>array([31.59375, 31.65625, 31.71875, 31.78125, 31.84375, 31.90625, 31.96875,\n",
       "       32.03125, 32.09375, 32.15625, 32.21875, 32.28125, 32.34375, 32.40625,\n",
       "       32.46875, 32.53125, 32.59375, 32.65625, 32.71875, 32.78125, 32.84375,\n",
       "       32.90625, 32.96875, 33.03125, 33.09375, 33.15625, 33.21875, 33.28125,\n",
       "       33.34375, 33.40625, 33.46875, 33.53125, 33.59375, 33.65625, 33.71875,\n",
       "       33.78125, 33.84375, 33.90625, 33.96875, 34.03125, 34.09375, 34.15625,\n",
       "       34.21875, 34.28125, 34.34375, 34.40625, 34.46875, 34.53125, 34.59375,\n",
       "       34.65625, 34.71875, 34.78125, 34.84375, 34.90625, 34.96875, 35.03125,\n",
       "       35.09375, 35.15625, 35.21875, 35.28125, 35.34375, 35.40625, 35.46875,\n",
       "       35.53125, 35.59375, 35.65625, 35.71875, 35.78125, 35.84375, 35.90625,\n",
       "       35.96875, 36.03125, 36.09375, 36.15625, 36.21875, 36.28125, 36.34375,\n",
       "       36.40625, 36.46875, 36.53125, 36.59375, 36.65625, 36.71875, 36.78125,\n",
       "       36.84375, 36.90625, 36.96875, 37.03125, 37.09375, 37.15625, 37.21875,\n",
       "       37.28125, 37.34375, 37.40625, 37.46875, 37.53125, 37.59375, 37.65625,\n",
       "       37.71875, 37.78125, 37.84375, 37.90625, 37.96875, 38.03125, 38.09375,\n",
       "       38.15625, 38.21875, 38.28125, 38.34375, 38.40625, 38.46875, 38.53125,\n",
       "       38.59375, 38.65625, 38.71875, 38.78125, 38.84375, 38.90625, 38.96875,\n",
       "       39.03125, 39.09375, 39.15625, 39.21875, 39.28125, 39.34375, 39.40625,\n",
       "       39.46875, 39.53125, 39.59375, 39.65625, 39.71875, 39.78125, 39.84375,\n",
       "       39.90625, 39.96875, 40.03125, 40.09375, 40.15625, 40.21875, 40.28125,\n",
       "       40.34375, 40.40625, 40.46875, 40.53125, 40.59375, 40.65625, 40.71875,\n",
       "       40.78125, 40.84375, 40.90625, 40.96875, 41.03125, 41.09375, 41.15625,\n",
       "       41.21875, 41.28125, 41.34375, 41.40625, 41.46875, 41.53125, 41.59375,\n",
       "       41.65625, 41.71875, 41.78125, 41.84375, 41.90625, 41.96875, 42.03125,\n",
       "       42.09375, 42.15625, 42.21875, 42.28125, 42.34375, 42.40625, 42.46875,\n",
       "       42.53125, 42.59375, 42.65625, 42.71875])</pre></div></li><li class='xr-var-item'><div class='xr-var-name'><span class='xr-has-index'>lon</span></div><div class='xr-var-dims'>(lon)</div><div class='xr-var-dtype'>float64</div><div class='xr-var-preview xr-preview'>-124.5 -124.5 ... -113.8 -113.8</div><input id='attrs-72a461f2-6b1a-4cce-ad95-eb9c0d9f1bd9' class='xr-var-attrs-in' type='checkbox' ><label for='attrs-72a461f2-6b1a-4cce-ad95-eb9c0d9f1bd9' title='Show/Hide attributes'><svg class='icon xr-icon-file-text2'><use xlink:href='#icon-file-text2'></use></svg></label><input id='data-d2a64d94-b321-400d-a746-04f2c96705a6' class='xr-var-data-in' type='checkbox'><label for='data-d2a64d94-b321-400d-a746-04f2c96705a6' title='Show/Hide data repr'><svg class='icon xr-icon-database'><use xlink:href='#icon-database'></use></svg></label><div class='xr-var-attrs'><dl class='xr-attrs'><dt><span>long_name :</span></dt><dd>longitude</dd><dt><span>units :</span></dt><dd>degreesW</dd></dl></div><div class='xr-var-data'><pre>array([-124.53125, -124.46875, -124.40625, -124.34375, -124.28125, -124.21875,\n",
       "       -124.15625, -124.09375, -124.03125, -123.96875, -123.90625, -123.84375,\n",
       "       -123.78125, -123.71875, -123.65625, -123.59375, -123.53125, -123.46875,\n",
       "       -123.40625, -123.34375, -123.28125, -123.21875, -123.15625, -123.09375,\n",
       "       -123.03125, -122.96875, -122.90625, -122.84375, -122.78125, -122.71875,\n",
       "       -122.65625, -122.59375, -122.53125, -122.46875, -122.40625, -122.34375,\n",
       "       -122.28125, -122.21875, -122.15625, -122.09375, -122.03125, -121.96875,\n",
       "       -121.90625, -121.84375, -121.78125, -121.71875, -121.65625, -121.59375,\n",
       "       -121.53125, -121.46875, -121.40625, -121.34375, -121.28125, -121.21875,\n",
       "       -121.15625, -121.09375, -121.03125, -120.96875, -120.90625, -120.84375,\n",
       "       -120.78125, -120.71875, -120.65625, -120.59375, -120.53125, -120.46875,\n",
       "       -120.40625, -120.34375, -120.28125, -120.21875, -120.15625, -120.09375,\n",
       "       -120.03125, -119.96875, -119.90625, -119.84375, -119.78125, -119.71875,\n",
       "       -119.65625, -119.59375, -119.53125, -119.46875, -119.40625, -119.34375,\n",
       "       -119.28125, -119.21875, -119.15625, -119.09375, -119.03125, -118.96875,\n",
       "       -118.90625, -118.84375, -118.78125, -118.71875, -118.65625, -118.59375,\n",
       "       -118.53125, -118.46875, -118.40625, -118.34375, -118.28125, -118.21875,\n",
       "       -118.15625, -118.09375, -118.03125, -117.96875, -117.90625, -117.84375,\n",
       "       -117.78125, -117.71875, -117.65625, -117.59375, -117.53125, -117.46875,\n",
       "       -117.40625, -117.34375, -117.28125, -117.21875, -117.15625, -117.09375,\n",
       "       -117.03125, -116.96875, -116.90625, -116.84375, -116.78125, -116.71875,\n",
       "       -116.65625, -116.59375, -116.53125, -116.46875, -116.40625, -116.34375,\n",
       "       -116.28125, -116.21875, -116.15625, -116.09375, -116.03125, -115.96875,\n",
       "       -115.90625, -115.84375, -115.78125, -115.71875, -115.65625, -115.59375,\n",
       "       -115.53125, -115.46875, -115.40625, -115.34375, -115.28125, -115.21875,\n",
       "       -115.15625, -115.09375, -115.03125, -114.96875, -114.90625, -114.84375,\n",
       "       -114.78125, -114.71875, -114.65625, -114.59375, -114.53125, -114.46875,\n",
       "       -114.40625, -114.34375, -114.28125, -114.21875, -114.15625, -114.09375,\n",
       "       -114.03125, -113.96875, -113.90625, -113.84375, -113.78125])</pre></div></li></ul></div></li><li class='xr-section-item'><input id='section-881235aa-e71a-4deb-8883-0de049b7fdb8' class='xr-section-summary-in' type='checkbox'  checked><label for='section-881235aa-e71a-4deb-8883-0de049b7fdb8' class='xr-section-summary' >Data variables: <span>(1)</span></label><div class='xr-section-inline-details'></div><div class='xr-section-details'><ul class='xr-var-list'><li class='xr-var-item'><div class='xr-var-name'><span>hectares</span></div><div class='xr-var-dims'>(lat, lon)</div><div class='xr-var-dtype'>float32</div><div class='xr-var-preview xr-preview'>0.0 0.0 0.0 0.0 ... 0.0 0.0 0.0 0.0</div><input id='attrs-4cfe8fed-e8d3-4c6a-96da-95f1171a1857' class='xr-var-attrs-in' type='checkbox' disabled><label for='attrs-4cfe8fed-e8d3-4c6a-96da-95f1171a1857' title='Show/Hide attributes'><svg class='icon xr-icon-file-text2'><use xlink:href='#icon-file-text2'></use></svg></label><input id='data-66fa6b87-4f00-4e65-8776-c69cbd43d0a5' class='xr-var-data-in' type='checkbox'><label for='data-66fa6b87-4f00-4e65-8776-c69cbd43d0a5' title='Show/Hide data repr'><svg class='icon xr-icon-database'><use xlink:href='#icon-database'></use></svg></label><div class='xr-var-attrs'><dl class='xr-attrs'></dl></div><div class='xr-var-data'><pre>array([[0., 0., 0., ..., 0., 0., 0.],\n",
       "       [0., 0., 0., ..., 0., 0., 0.],\n",
       "       [0., 0., 0., ..., 0., 0., 0.],\n",
       "       ...,\n",
       "       [0., 0., 0., ..., 0., 0., 0.],\n",
       "       [0., 0., 0., ..., 0., 0., 0.],\n",
       "       [0., 0., 0., ..., 0., 0., 0.]], dtype=float32)</pre></div></li></ul></div></li><li class='xr-section-item'><input id='section-9906650d-1479-4478-95d4-d45f8059f682' class='xr-section-summary-in' type='checkbox'  ><label for='section-9906650d-1479-4478-95d4-d45f8059f682' class='xr-section-summary' >Indexes: <span>(2)</span></label><div class='xr-section-inline-details'></div><div class='xr-section-details'><ul class='xr-var-list'><li class='xr-var-item'><div class='xr-index-name'><div>lat</div></div><div class='xr-index-preview'>PandasIndex</div><div></div><input id='index-2c8b4f44-06b1-49aa-b6f0-f9815652733d' class='xr-index-data-in' type='checkbox'/><label for='index-2c8b4f44-06b1-49aa-b6f0-f9815652733d' title='Show/Hide index repr'><svg class='icon xr-icon-database'><use xlink:href='#icon-database'></use></svg></label><div class='xr-index-data'><pre>PandasIndex(Index([31.59375, 31.65625, 31.71875, 31.78125, 31.84375, 31.90625, 31.96875,\n",
       "       32.03125, 32.09375, 32.15625,\n",
       "       ...\n",
       "       42.15625, 42.21875, 42.28125, 42.34375, 42.40625, 42.46875, 42.53125,\n",
       "       42.59375, 42.65625, 42.71875],\n",
       "      dtype=&#x27;float64&#x27;, name=&#x27;lat&#x27;, length=179))</pre></div></li><li class='xr-var-item'><div class='xr-index-name'><div>lon</div></div><div class='xr-index-preview'>PandasIndex</div><div></div><input id='index-078263ce-6f67-4dea-a0cd-c0f34333190e' class='xr-index-data-in' type='checkbox'/><label for='index-078263ce-6f67-4dea-a0cd-c0f34333190e' title='Show/Hide index repr'><svg class='icon xr-icon-database'><use xlink:href='#icon-database'></use></svg></label><div class='xr-index-data'><pre>PandasIndex(Index([-124.53125, -124.46875, -124.40625, -124.34375, -124.28125, -124.21875,\n",
       "       -124.15625, -124.09375, -124.03125, -123.96875,\n",
       "       ...\n",
       "       -114.34375, -114.28125, -114.21875, -114.15625, -114.09375, -114.03125,\n",
       "       -113.96875, -113.90625, -113.84375, -113.78125],\n",
       "      dtype=&#x27;float64&#x27;, name=&#x27;lon&#x27;, length=173))</pre></div></li></ul></div></li><li class='xr-section-item'><input id='section-fc62ca4b-11f4-4e76-97ad-e5dbe411b0e7' class='xr-section-summary-in' type='checkbox' disabled ><label for='section-fc62ca4b-11f4-4e76-97ad-e5dbe411b0e7' class='xr-section-summary'  title='Expand/collapse section'>Attributes: <span>(0)</span></label><div class='xr-section-inline-details'></div><div class='xr-section-details'><dl class='xr-attrs'></dl></div></li></ul></div></div>"
      ],
      "text/plain": [
       "<xarray.Dataset>\n",
       "Dimensions:   (lat: 179, lon: 173)\n",
       "Coordinates:\n",
       "  * lat       (lat) float64 31.59 31.66 31.72 31.78 ... 42.53 42.59 42.66 42.72\n",
       "  * lon       (lon) float64 -124.5 -124.5 -124.4 -124.3 ... -113.9 -113.8 -113.8\n",
       "Data variables:\n",
       "    hectares  (lat, lon) float32 0.0 0.0 0.0 0.0 0.0 0.0 ... 0.0 0.0 0.0 0.0 0.0"
      ]
     },
     "execution_count": 10,
     "metadata": {},
     "output_type": "execute_result"
    }
   ],
   "source": [
    "## brute force calculating for the time being\n",
    "miroc45_wl = miroc45.sel(time=slice('2058', '2087')).mean(dim='time')\n",
    "cnrm45_wl = cnrm45.sel(time=slice('2044', '2073')).mean(dim='time')\n",
    "hadgem45_wl = hadgem45.sel(time=slice('2029', '2058')).mean(dim='time')\n",
    "canesm45_wl = canesm45.sel(time=slice('2017', '2046')).mean(dim='time')\n",
    "\n",
    "# RCP 8.5\n",
    "miroc85_wl = miroc85.sel(time=slice('2034', '2063')).mean(dim='time')\n",
    "cnrm85_wl = cnrm85.sel(time=slice('2031', '2060')).mean(dim='time')\n",
    "hadgem85_wl = hadgem85.sel(time=slice('2021', '2050')).mean(dim='time')\n",
    "canesm85_wl = canesm85.sel(time=slice('2012', '2041')).mean(dim='time')\n",
    "\n",
    "projs = [miroc45_wl, miroc85_wl, cnrm45_wl, cnrm85_wl, hadgem45_wl, hadgem85_wl, canesm45_wl, canesm85_wl]\n",
    "ds_proj = xr.concat(projs,'simulation')\n",
    "ds_proj = ds_proj.mean(dim='simulation')\n",
    "ds_proj"
   ]
  },
  {
   "cell_type": "markdown",
   "metadata": {},
   "source": [
    "#### Step 2: Calculate delta signal"
   ]
  },
  {
   "cell_type": "code",
   "execution_count": 11,
   "metadata": {
    "execution": {
     "iopub.execute_input": "2024-08-07T21:07:29.144590Z",
     "iopub.status.busy": "2024-08-07T21:07:29.144486Z",
     "iopub.status.idle": "2024-08-07T21:07:29.147132Z",
     "shell.execute_reply": "2024-08-07T21:07:29.146745Z",
     "shell.execute_reply.started": "2024-08-07T21:07:29.144581Z"
    }
   },
   "outputs": [],
   "source": [
    "ds_delta = ds_proj - ds_hist"
   ]
  },
  {
   "cell_type": "markdown",
   "metadata": {},
   "source": [
    "#### Step 3: Reproject data to census tract projection"
   ]
  },
  {
   "cell_type": "code",
   "execution_count": 12,
   "metadata": {
    "execution": {
     "iopub.execute_input": "2024-08-07T21:07:29.147707Z",
     "iopub.status.busy": "2024-08-07T21:07:29.147591Z",
     "iopub.status.idle": "2024-08-07T21:07:44.841410Z",
     "shell.execute_reply": "2024-08-07T21:07:44.840859Z",
     "shell.execute_reply.started": "2024-08-07T21:07:29.147698Z"
    }
   },
   "outputs": [],
   "source": [
    "# read in CA census tiger file -- not working from s3 link, uploading manually to keep testing\n",
    "census_shp_dir = \"s3://ca-climate-index/0_map_data/2021_tiger_census_tract/2021_ca_tract/\"\n",
    "ca_boundaries = gpd.read_file(census_shp_dir)\n",
    "\n",
    "# # need to rename columns so we don't have any duplicates in the final geodatabase\n",
    "column_names = ca_boundaries.columns\n",
    "new_column_names = [\"USCB_\"+column for column in column_names if column != \"geometry\"]\n",
    "ca_boundaries = ca_boundaries.rename(columns=dict(zip(column_names, new_column_names)))\n",
    "ca_boundaries = ca_boundaries.to_crs(crs=3857) "
   ]
  },
  {
   "cell_type": "code",
   "execution_count": 13,
   "metadata": {
    "execution": {
     "iopub.execute_input": "2024-08-07T21:07:44.842109Z",
     "iopub.status.busy": "2024-08-07T21:07:44.841988Z",
     "iopub.status.idle": "2024-08-07T21:07:44.850491Z",
     "shell.execute_reply": "2024-08-07T21:07:44.850216Z",
     "shell.execute_reply.started": "2024-08-07T21:07:44.842099Z"
    }
   },
   "outputs": [
    {
     "data": {
      "text/html": [
       "<div>\n",
       "<style scoped>\n",
       "    .dataframe tbody tr th:only-of-type {\n",
       "        vertical-align: middle;\n",
       "    }\n",
       "\n",
       "    .dataframe tbody tr th {\n",
       "        vertical-align: top;\n",
       "    }\n",
       "\n",
       "    .dataframe thead th {\n",
       "        text-align: right;\n",
       "    }\n",
       "</style>\n",
       "<table border=\"1\" class=\"dataframe\">\n",
       "  <thead>\n",
       "    <tr style=\"text-align: right;\">\n",
       "      <th></th>\n",
       "      <th>lat</th>\n",
       "      <th>lon</th>\n",
       "      <th>hectares</th>\n",
       "    </tr>\n",
       "  </thead>\n",
       "  <tbody>\n",
       "    <tr>\n",
       "      <th>0</th>\n",
       "      <td>31.59375</td>\n",
       "      <td>-124.53125</td>\n",
       "      <td>0.0</td>\n",
       "    </tr>\n",
       "    <tr>\n",
       "      <th>1</th>\n",
       "      <td>31.59375</td>\n",
       "      <td>-124.46875</td>\n",
       "      <td>0.0</td>\n",
       "    </tr>\n",
       "    <tr>\n",
       "      <th>2</th>\n",
       "      <td>31.59375</td>\n",
       "      <td>-124.40625</td>\n",
       "      <td>0.0</td>\n",
       "    </tr>\n",
       "    <tr>\n",
       "      <th>3</th>\n",
       "      <td>31.59375</td>\n",
       "      <td>-124.34375</td>\n",
       "      <td>0.0</td>\n",
       "    </tr>\n",
       "    <tr>\n",
       "      <th>4</th>\n",
       "      <td>31.59375</td>\n",
       "      <td>-124.28125</td>\n",
       "      <td>0.0</td>\n",
       "    </tr>\n",
       "    <tr>\n",
       "      <th>...</th>\n",
       "      <td>...</td>\n",
       "      <td>...</td>\n",
       "      <td>...</td>\n",
       "    </tr>\n",
       "    <tr>\n",
       "      <th>30962</th>\n",
       "      <td>42.71875</td>\n",
       "      <td>-114.03125</td>\n",
       "      <td>0.0</td>\n",
       "    </tr>\n",
       "    <tr>\n",
       "      <th>30963</th>\n",
       "      <td>42.71875</td>\n",
       "      <td>-113.96875</td>\n",
       "      <td>0.0</td>\n",
       "    </tr>\n",
       "    <tr>\n",
       "      <th>30964</th>\n",
       "      <td>42.71875</td>\n",
       "      <td>-113.90625</td>\n",
       "      <td>0.0</td>\n",
       "    </tr>\n",
       "    <tr>\n",
       "      <th>30965</th>\n",
       "      <td>42.71875</td>\n",
       "      <td>-113.84375</td>\n",
       "      <td>0.0</td>\n",
       "    </tr>\n",
       "    <tr>\n",
       "      <th>30966</th>\n",
       "      <td>42.71875</td>\n",
       "      <td>-113.78125</td>\n",
       "      <td>0.0</td>\n",
       "    </tr>\n",
       "  </tbody>\n",
       "</table>\n",
       "<p>30967 rows × 3 columns</p>\n",
       "</div>"
      ],
      "text/plain": [
       "            lat        lon  hectares\n",
       "0      31.59375 -124.53125       0.0\n",
       "1      31.59375 -124.46875       0.0\n",
       "2      31.59375 -124.40625       0.0\n",
       "3      31.59375 -124.34375       0.0\n",
       "4      31.59375 -124.28125       0.0\n",
       "...         ...        ...       ...\n",
       "30962  42.71875 -114.03125       0.0\n",
       "30963  42.71875 -113.96875       0.0\n",
       "30964  42.71875 -113.90625       0.0\n",
       "30965  42.71875 -113.84375       0.0\n",
       "30966  42.71875 -113.78125       0.0\n",
       "\n",
       "[30967 rows x 3 columns]"
      ]
     },
     "execution_count": 13,
     "metadata": {},
     "output_type": "execute_result"
    }
   ],
   "source": [
    "df = ds_delta.to_dataframe().reset_index()\n",
    "df"
   ]
  },
  {
   "cell_type": "code",
   "execution_count": 14,
   "metadata": {
    "execution": {
     "iopub.execute_input": "2024-08-07T21:07:44.852520Z",
     "iopub.status.busy": "2024-08-07T21:07:44.852213Z",
     "iopub.status.idle": "2024-08-07T21:07:44.855207Z",
     "shell.execute_reply": "2024-08-07T21:07:44.854871Z",
     "shell.execute_reply.started": "2024-08-07T21:07:44.852510Z"
    }
   },
   "outputs": [
    {
     "data": {
      "text/plain": [
       "(-35.910457611083984, 123.4852066040039)"
      ]
     },
     "execution_count": 14,
     "metadata": {},
     "output_type": "execute_result"
    }
   ],
   "source": [
    "df.hectares.min(), df.hectares.max()"
   ]
  },
  {
   "cell_type": "code",
   "execution_count": 15,
   "metadata": {
    "execution": {
     "iopub.execute_input": "2024-08-07T21:07:44.855889Z",
     "iopub.status.busy": "2024-08-07T21:07:44.855706Z",
     "iopub.status.idle": "2024-08-07T21:09:10.450717Z",
     "shell.execute_reply": "2024-08-07T21:09:10.450195Z",
     "shell.execute_reply.started": "2024-08-07T21:07:44.855880Z"
    }
   },
   "outputs": [],
   "source": [
    "# taking about 2 min\n",
    "gdf = gpd.GeoDataFrame(\n",
    "    df, geometry=gpd.points_from_xy(df.lon,df.lat), crs=\"EPSG:4326\")\n",
    "gdf = gdf.to_crs(ca_boundaries.crs)\n",
    "\n",
    "# clipped_gdf = clipped_gdf.set_index(['USCB_GEOID'])\n",
    "ca_boundaries = ca_boundaries.set_index(['USCB_GEOID'])\n",
    "clipped_gdf = gpd.sjoin_nearest(ca_boundaries, gdf, how='left')\n",
    "clipped_gdf = clipped_gdf[[\"geometry\",\"hectares\"]]\n",
    "\n",
    "diss_gdf = clipped_gdf.reset_index().dissolve(by='USCB_GEOID', aggfunc='mean')"
   ]
  },
  {
   "cell_type": "code",
   "execution_count": 16,
   "metadata": {
    "execution": {
     "iopub.execute_input": "2024-08-07T21:09:10.451392Z",
     "iopub.status.busy": "2024-08-07T21:09:10.451269Z",
     "iopub.status.idle": "2024-08-07T21:09:10.454319Z",
     "shell.execute_reply": "2024-08-07T21:09:10.454003Z",
     "shell.execute_reply.started": "2024-08-07T21:09:10.451382Z"
    }
   },
   "outputs": [
    {
     "data": {
      "text/plain": [
       "(-35.910457611083984, 53.45079040527344)"
      ]
     },
     "execution_count": 16,
     "metadata": {},
     "output_type": "execute_result"
    }
   ],
   "source": [
    "diss_gdf.hectares.min(), diss_gdf.hectares.max()"
   ]
  },
  {
   "cell_type": "code",
   "execution_count": 17,
   "metadata": {
    "execution": {
     "iopub.execute_input": "2024-08-07T21:09:10.454888Z",
     "iopub.status.busy": "2024-08-07T21:09:10.454790Z",
     "iopub.status.idle": "2024-08-07T21:09:11.776835Z",
     "shell.execute_reply": "2024-08-07T21:09:11.776367Z",
     "shell.execute_reply.started": "2024-08-07T21:09:10.454878Z"
    }
   },
   "outputs": [
    {
     "data": {
      "text/plain": [
       "<Axes: >"
      ]
     },
     "execution_count": 17,
     "metadata": {},
     "output_type": "execute_result"
    },
    {
     "data": {
      "image/png": "[encoded data removed]",
      "text/plain": [
       "<Figure size 640x480 with 2 Axes>"
      ]
     },
     "metadata": {},
     "output_type": "display_data"
    }
   ],
   "source": [
    "diss_gdf.plot(column='hectares', cmap='bwr', legend=True)"
   ]
  },
  {
   "cell_type": "markdown",
   "metadata": {},
   "source": [
    "#### Step 4: Min-max standardization\n",
    "Using Cal-CRAI min-max standardization function, available in `utils.calculate_index.py`"
   ]
  },
  {
   "cell_type": "code",
   "execution_count": 18,
   "metadata": {
    "execution": {
     "iopub.execute_input": "2024-08-07T21:09:11.777800Z",
     "iopub.status.busy": "2024-08-07T21:09:11.777504Z",
     "iopub.status.idle": "2024-08-07T21:09:11.780990Z",
     "shell.execute_reply": "2024-08-07T21:09:11.780655Z",
     "shell.execute_reply.started": "2024-08-07T21:09:11.777789Z"
    }
   },
   "outputs": [],
   "source": [
    "def min_max_standardize(df, cols_to_run_on):\n",
    "    '''\n",
    "    Calculates min and max values for specified columns, then calculates\n",
    "    min-max standardized values.\n",
    "\n",
    "    Parameters\n",
    "    ----------\n",
    "    df: DataFrame\n",
    "        Input dataframe   \n",
    "    cols_to_run_on: list\n",
    "        List of columns to calculate min, max, and standardize\n",
    "    '''\n",
    "    for col in cols_to_run_on:\n",
    "        max_value = df[col].max()\n",
    "        min_value = df[col].min()\n",
    "\n",
    "        # Get min-max values, standardize, and add columns to df\n",
    "        prefix = col # Extracting the prefix from the column name\n",
    "        df[f'{prefix}_min'] = min_value\n",
    "        df[f'{prefix}_max'] = max_value\n",
    "        df[f'{prefix}_min_max_standardized'] = ((df[col] - min_value) / (max_value - min_value))\n",
    "        \n",
    "        # note to add checker to make sure new min_max column values arent < 0 >\n",
    "        \n",
    "        # Drop the original columns\n",
    "        # df.drop(columns=[col], inplace=True)\n",
    "     \n",
    "    return df"
   ]
  },
  {
   "cell_type": "code",
   "execution_count": 19,
   "metadata": {
    "execution": {
     "iopub.execute_input": "2024-08-07T21:09:11.781554Z",
     "iopub.status.busy": "2024-08-07T21:09:11.781463Z",
     "iopub.status.idle": "2024-08-07T21:09:11.785379Z",
     "shell.execute_reply": "2024-08-07T21:09:11.785023Z",
     "shell.execute_reply.started": "2024-08-07T21:09:11.781545Z"
    }
   },
   "outputs": [],
   "source": [
    "data_std = min_max_standardize(diss_gdf, cols_to_run_on=['hectares'])\n",
    "\n",
    "# drop geometry column\n",
    "data_std = data_std.drop(columns = ['geometry'])"
   ]
  },
  {
   "cell_type": "markdown",
   "metadata": {},
   "source": [
    "#### Step 5: Export data as csv"
   ]
  },
  {
   "cell_type": "code",
   "execution_count": 20,
   "metadata": {
    "execution": {
     "iopub.execute_input": "2024-08-07T21:09:11.786189Z",
     "iopub.status.busy": "2024-08-07T21:09:11.786011Z",
     "iopub.status.idle": "2024-08-07T21:09:11.844475Z",
     "shell.execute_reply": "2024-08-07T21:09:11.844097Z",
     "shell.execute_reply.started": "2024-08-07T21:09:11.786178Z"
    }
   },
   "outputs": [],
   "source": [
    "data_std.to_csv('climate_wildfire_burned_area_metric.csv')"
   ]
  },
  {
   "cell_type": "markdown",
   "metadata": {},
   "source": [
    "#### Step 6: Metadata"
   ]
  },
  {
   "cell_type": "code",
   "execution_count": 21,
   "metadata": {
    "execution": {
     "iopub.execute_input": "2024-08-07T21:09:11.845347Z",
     "iopub.status.busy": "2024-08-07T21:09:11.845234Z",
     "iopub.status.idle": "2024-08-07T21:09:11.849102Z",
     "shell.execute_reply": "2024-08-07T21:09:11.848774Z",
     "shell.execute_reply.started": "2024-08-07T21:09:11.845337Z"
    }
   },
   "outputs": [],
   "source": [
    "@append_metadata\n",
    "def wildfire_burned_area_metadata(df, export=False, export_filename=None, varname=''):\n",
    "    '''\n",
    "    Transforms the raw data into the following baseline metrics:\n",
    "    * Change in total area burned per tract per year\n",
    "    \n",
    "    Methods\n",
    "    -------\n",
    "    Data is natively modeled area burned\n",
    "    Uses CMIP5 warming level targets identified from: \n",
    "    https://github.com/mathause/cmip_warming_levels/blob/main/warming_levels/cmip5_all_ens/csv/cmip5_warming_levels_all_ens_1850_1900_no_bounds_check.csv\n",
    "    \n",
    "    Parameters\n",
    "    ----------\n",
    "    df: pd.DataFrame\n",
    "        Input data.\n",
    "    export: True/False boolean\n",
    "        False = will not upload resulting df containing CAL CRAI wildfire burn area metric to AWS\n",
    "        True = will upload resulting df containing CAL CRAI wildfire burn area metric to AWS\n",
    "    export_filename: string\n",
    "        name of csv file to be uploaded to AWS\n",
    "    varname: string\n",
    "        Final metric name, for metadata generation\n",
    "        \n",
    "    Script\n",
    "    ------\n",
    "    climate_area_burned.ipynb\n",
    "    '''\n",
    "    print('Data transformation: monthly # of hectares summed to annual counts per model.')\n",
    "          \n",
    "    # historical baseline\n",
    "    print(\"Data transformation: historical baseline data subsetted for 1981-2010, averaging across models.\")\n",
    "    \n",
    "    # calculate with 2°C WL\n",
    "    print('Data transformation: data subsetted for warming level of 2.0°C, by manually subsetting based on GWL for parent GCM, and calculating 30 year average, averaging across models.')\n",
    "\n",
    "    # calculate delta signal\n",
    "    print(\"Data transformation: delta signal calculated by taking difference between chronic (2.0°C) and historical baseline.\")\n",
    "\n",
    "    # reprojection to census tracts\n",
    "    print(\"Data transformation: data transformed from xarray dataset into pandas dataframe.\")\n",
    "    print(\"Data transformation: data reprojected from Lambert Conformal Conic CRS to CRS 3857.\")\n",
    "        \n",
    "    # min-max standardization\n",
    "    print(\"Data transformation: data min-max standardized with min_max_standardize function.\")\n",
    "    \n",
    "    # export data as csv\n",
    "    if export == True:\n",
    "        bucket_name = 'ca-climate-index'\n",
    "        directory = '3_fair_data/index_data'\n",
    "        export_filename = [export_filename]\n",
    "        upload_csv_aws(export_filename, bucket_name, directory)\n",
    "        \n",
    "        # # Check if file exists before attempting to remove it\n",
    "        # if os.path.exists('climate_wildfire_burned_area_metric.csv'):\n",
    "        #     os.remove('climate_wildfire_burned_area_metric') # remove from local to clear up directory\n",
    "        \n",
    "        # if os.path.exists(export_filename[0]):\n",
    "        #     os.remove(export_filename[0])\n",
    "    \n",
    "    if export == False:\n",
    "        print(f'{export_filename} uploaded to AWS.')"
   ]
  },
  {
   "cell_type": "code",
   "execution_count": 22,
   "metadata": {
    "execution": {
     "iopub.execute_input": "2024-08-07T21:09:11.849717Z",
     "iopub.status.busy": "2024-08-07T21:09:11.849614Z",
     "iopub.status.idle": "2024-08-07T21:09:11.852414Z",
     "shell.execute_reply": "2024-08-07T21:09:11.852112Z",
     "shell.execute_reply.started": "2024-08-07T21:09:11.849708Z"
    }
   },
   "outputs": [],
   "source": [
    "wildfire_burned_area_metadata(data_std, export=False, export_filename ='climate_wildfire_burned_area_metric.csv', varname='test') # varname)"
   ]
  },
  {
   "cell_type": "code",
   "execution_count": null,
   "metadata": {},
   "outputs": [],
   "source": []
  }
 ],
 "metadata": {
  "kernelspec": {
   "display_name": "Python 3 (ipykernel)",
   "language": "python",
   "name": "python3"
  },
  "language_info": {
   "codemirror_mode": {
    "name": "ipython",
    "version": 3
   },
   "file_extension": ".py",
   "mimetype": "text/x-python",
   "name": "python",
   "nbconvert_exporter": "python",
   "pygments_lexer": "ipython3",
   "version": "3.9.18"
  }
 },
 "nbformat": 4,
 "nbformat_minor": 4
}
