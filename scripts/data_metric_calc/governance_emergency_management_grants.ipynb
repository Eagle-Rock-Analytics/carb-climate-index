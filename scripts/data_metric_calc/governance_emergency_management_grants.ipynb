{
 "cells": [
  {
   "cell_type": "markdown",
   "metadata": {},
   "source": [
    "## Cal-CRAI Metric Calculation\n",
    "Domain: Governance \\\n",
    "Indicator: Community Preparedness\n",
    "\n",
    "This notebook calculates one metric, sourced from the Federal Emergency Management Agency:\n",
    "* Metric 1: Total amount of emergency performance grant funding recieved per CA county between 2014-2022"
   ]
  },
  {
   "cell_type": "code",
   "execution_count": 1,
   "metadata": {
    "execution": {
     "iopub.execute_input": "2024-04-23T17:38:21.798364Z",
     "iopub.status.busy": "2024-04-23T17:38:21.797477Z",
     "iopub.status.idle": "2024-04-23T17:38:22.525505Z",
     "shell.execute_reply": "2024-04-23T17:38:22.524959Z",
     "shell.execute_reply.started": "2024-04-23T17:38:21.798303Z"
    }
   },
   "outputs": [],
   "source": [
    "import pandas as pd\n",
    "import os\n",
    "import sys\n",
    "import math\n",
    "\n",
    "# suppress pandas purely educational warnings\n",
    "from warnings import simplefilter\n",
    "simplefilter(action=\"ignore\", category=pd.errors.PerformanceWarning)\n",
    "\n",
    "sys.path.append(os.path.expanduser('../../'))\n",
    "\n",
    "from scripts.utils.file_helpers import pull_csv_from_directory, upload_csv_aws, filter_counties\n",
    "from scripts.utils.write_metadata import append_metadata"
   ]
  },
  {
   "cell_type": "code",
   "execution_count": null,
   "metadata": {
    "execution": {
     "iopub.execute_input": "2024-04-23T17:38:22.527078Z",
     "iopub.status.busy": "2024-04-23T17:38:22.526747Z",
     "iopub.status.idle": "2024-04-23T17:38:24.081111Z",
     "shell.execute_reply": "2024-04-23T17:38:24.080441Z",
     "shell.execute_reply.started": "2024-04-23T17:38:22.527064Z"
    }
   },
   "outputs": [],
   "source": [
    "# pull csv from aws\n",
    "bucket_name = 'ca-climate-index'\n",
    "aws_dir = '2a_subset/governance/community_preparedness/fema/emergency_management_performance_grants/'\n",
    "\n",
    "pull_csv_from_directory(bucket_name, aws_dir, search_zipped=False)"
   ]
  },
  {
   "cell_type": "code",
   "execution_count": null,
   "metadata": {
    "execution": {
     "iopub.execute_input": "2024-04-23T17:38:24.083027Z",
     "iopub.status.busy": "2024-04-23T17:38:24.082712Z",
     "iopub.status.idle": "2024-04-23T17:38:24.094827Z",
     "shell.execute_reply": "2024-04-23T17:38:24.094336Z",
     "shell.execute_reply.started": "2024-04-23T17:38:24.083006Z"
    }
   },
   "outputs": [],
   "source": [
    "# read in FEMA emergency performance grants data\n",
    "emergency_grants_data = pd.read_csv('fema_emergency_management_grants_subset.csv')\n",
    "print(len(emergency_grants_data))\n",
    "emergency_grants_data.head(5)\n",
    "os.remove('fema_emergency_management_grants_subset.csv')"
   ]
  },
  {
   "cell_type": "code",
   "execution_count": null,
   "metadata": {
    "execution": {
     "iopub.execute_input": "2024-04-23T17:38:24.096067Z",
     "iopub.status.busy": "2024-04-23T17:38:24.095678Z",
     "iopub.status.idle": "2024-04-23T17:38:24.107337Z",
     "shell.execute_reply": "2024-04-23T17:38:24.106868Z",
     "shell.execute_reply.started": "2024-04-23T17:38:24.096044Z"
    }
   },
   "outputs": [],
   "source": [
    "emergency_grants_data.head()"
   ]
  },
  {
   "cell_type": "code",
   "execution_count": null,
   "metadata": {
    "execution": {
     "iopub.execute_input": "2024-04-23T17:38:28.877398Z",
     "iopub.status.busy": "2024-04-23T17:38:28.876438Z",
     "iopub.status.idle": "2024-04-23T17:38:28.908672Z",
     "shell.execute_reply": "2024-04-23T17:38:28.908201Z",
     "shell.execute_reply.started": "2024-04-23T17:38:28.877326Z"
    }
   },
   "outputs": [],
   "source": [
    "# Create a new column 'county' by extracting characters after the first '-'\n",
    "emergency_grants_data['county'] = emergency_grants_data['legalAgencyName'].str.split('-').str[1]\n",
    "\n",
    "# Remove any mention of 'county' within the legalAgencyName column\n",
    "emergency_grants_data['county'] = emergency_grants_data['county'].str.replace(' county', '', case=False)\n",
    "emergency_grants_data['county'] = emergency_grants_data['county'].str.replace(' city/county', '', case=False)\n",
    "emergency_grants_data['county'] = emergency_grants_data['county'].str.replace(', california', '', case=False)\n",
    "\n",
    "# Drop any leading or trailing whitespace from the 'county' column\n",
    "emergency_grants_data['county'] = emergency_grants_data['county'].str.strip()\n",
    "\n",
    "# Display the modified DataFrame\n",
    "emergency_grants_data.head()"
   ]
  },
  {
   "cell_type": "code",
   "execution_count": null,
   "metadata": {
    "execution": {
     "iopub.execute_input": "2024-04-23T17:38:31.743558Z",
     "iopub.status.busy": "2024-04-23T17:38:31.742583Z",
     "iopub.status.idle": "2024-04-23T17:38:31.774657Z",
     "shell.execute_reply": "2024-04-23T17:38:31.774103Z",
     "shell.execute_reply.started": "2024-04-23T17:38:31.743485Z"
    }
   },
   "outputs": [],
   "source": [
    "# Extract only the year from the 'reportingPeriod' column and place into new 'year' column\n",
    "emergency_grants_data['year'] = emergency_grants_data['reportingPeriod'].str.extract(r'(\\d{4})')\n",
    "emergency_grants_data['year'] = emergency_grants_data['year'].str.replace('-01-01', '', case=False)\n",
    "\n",
    "emergency_grants_data.head(5)"
   ]
  },
  {
   "cell_type": "code",
   "execution_count": null,
   "metadata": {
    "execution": {
     "iopub.execute_input": "2024-04-23T17:38:34.345424Z",
     "iopub.status.busy": "2024-04-23T17:38:34.344682Z",
     "iopub.status.idle": "2024-04-23T17:38:34.363878Z",
     "shell.execute_reply": "2024-04-23T17:38:34.362891Z",
     "shell.execute_reply.started": "2024-04-23T17:38:34.345390Z"
    }
   },
   "outputs": [],
   "source": [
    "emergency_grants_data['year'] = emergency_grants_data['reportingPeriod'].str.extract(r'(\\d{4})')\n",
    "\n",
    "# Display unique years\n",
    "unique_years = emergency_grants_data['year'].unique()\n",
    "print(unique_years)"
   ]
  },
  {
   "cell_type": "code",
   "execution_count": null,
   "metadata": {
    "execution": {
     "iopub.execute_input": "2024-04-23T17:38:34.874464Z",
     "iopub.status.busy": "2024-04-23T17:38:34.873733Z",
     "iopub.status.idle": "2024-04-23T17:38:34.896225Z",
     "shell.execute_reply": "2024-04-23T17:38:34.895481Z",
     "shell.execute_reply.started": "2024-04-23T17:38:34.874427Z"
    }
   },
   "outputs": [],
   "source": [
    "# Isolate desired columns for CRI metric\n",
    "cleaned_emergency_grants = emergency_grants_data[['county', 'year','fundingAmount']]\n",
    "print(len(cleaned_emergency_grants))\n",
    "cleaned_emergency_grants.head(10)"
   ]
  },
  {
   "cell_type": "code",
   "execution_count": 9,
   "metadata": {
    "execution": {
     "iopub.execute_input": "2024-04-23T17:38:39.912092Z",
     "iopub.status.busy": "2024-04-23T17:38:39.911358Z",
     "iopub.status.idle": "2024-04-23T17:38:39.925141Z",
     "shell.execute_reply": "2024-04-23T17:38:39.924005Z",
     "shell.execute_reply.started": "2024-04-23T17:38:39.912059Z"
    }
   },
   "outputs": [],
   "source": [
    "# call filter_counties function and output county results as filtered_df and the omitted results as omitted_df\n",
    "filtered_df, omitted_df = filter_counties(cleaned_emergency_grants, 'county')"
   ]
  },
  {
   "cell_type": "code",
   "execution_count": null,
   "metadata": {
    "execution": {
     "iopub.execute_input": "2024-04-23T17:38:41.020691Z",
     "iopub.status.busy": "2024-04-23T17:38:41.019656Z",
     "iopub.status.idle": "2024-04-23T17:38:41.041199Z",
     "shell.execute_reply": "2024-04-23T17:38:41.040354Z",
     "shell.execute_reply.started": "2024-04-23T17:38:41.020621Z"
    }
   },
   "outputs": [],
   "source": [
    "# look at the skipped over rows\n",
    "print(len(omitted_df))\n",
    "omitted_df"
   ]
  },
  {
   "cell_type": "code",
   "execution_count": null,
   "metadata": {
    "execution": {
     "iopub.execute_input": "2024-04-23T17:38:45.943465Z",
     "iopub.status.busy": "2024-04-23T17:38:45.942754Z",
     "iopub.status.idle": "2024-04-23T17:38:45.970032Z",
     "shell.execute_reply": "2024-04-23T17:38:45.969390Z",
     "shell.execute_reply.started": "2024-04-23T17:38:45.943432Z"
    }
   },
   "outputs": [],
   "source": [
    "# group the omitted results into total funding over the data date range\n",
    "total_omitted = omitted_df.groupby(['county', 'year']).agg({'fundingAmount': 'sum'}).reset_index()\n",
    "aggregated_omitted = total_omitted.groupby(['county']).agg({'fundingAmount': 'sum'}).reset_index()\n",
    "aggregated_omitted.rename(columns={'fundingAmount': 'tribe_funding_2014_2022'}, inplace=True)\n",
    "aggregated_omitted.rename(columns={'county': 'tribe'}, inplace=True)\n",
    "\n",
    "print(len(aggregated_omitted))\n",
    "aggregated_omitted.head(20)"
   ]
  },
  {
   "cell_type": "markdown",
   "metadata": {},
   "source": [
    "#### Search through to find which county each of these tribes reside in and made a dictionary to attribute these tribes to a county\n",
    "* tribe names will be retained as a separate column (along with their independent funding values)"
   ]
  },
  {
   "cell_type": "code",
   "execution_count": 12,
   "metadata": {
    "execution": {
     "iopub.execute_input": "2024-04-23T17:38:50.293665Z",
     "iopub.status.busy": "2024-04-23T17:38:50.292978Z",
     "iopub.status.idle": "2024-04-23T17:38:50.300995Z",
     "shell.execute_reply": "2024-04-23T17:38:50.299248Z",
     "shell.execute_reply.started": "2024-04-23T17:38:50.293631Z"
    }
   },
   "outputs": [],
   "source": [
    "indigenous_to_county_dict = {'Riverside' : 'agua caliente band of cahuilla indians',\n",
    "                            'San Diego': ['barona band of mission indians', 'rincon band of luiseno indians'],\n",
    "                            'Humboldt': ['blue lake rancheria', 'hoopa valley tribe'],\n",
    "                             'Tulare' : 'tule river tribe'\n",
    "                             }"
   ]
  },
  {
   "cell_type": "markdown",
   "metadata": {},
   "source": [
    "#### Processing the county filtered data"
   ]
  },
  {
   "cell_type": "code",
   "execution_count": null,
   "metadata": {
    "execution": {
     "iopub.execute_input": "2024-04-23T17:38:52.986044Z",
     "iopub.status.busy": "2024-04-23T17:38:52.985356Z",
     "iopub.status.idle": "2024-04-23T17:38:53.006970Z",
     "shell.execute_reply": "2024-04-23T17:38:53.005403Z",
     "shell.execute_reply.started": "2024-04-23T17:38:52.986012Z"
    }
   },
   "outputs": [],
   "source": [
    "# Call filter_counties function to omit of some non-county entries\n",
    "cri_emergency_grants = filtered_df\n",
    "print(len(cri_emergency_grants))\n",
    "cri_emergency_grants"
   ]
  },
  {
   "cell_type": "code",
   "execution_count": null,
   "metadata": {
    "execution": {
     "iopub.execute_input": "2024-04-23T17:39:01.287284Z",
     "iopub.status.busy": "2024-04-23T17:39:01.286563Z",
     "iopub.status.idle": "2024-04-23T17:39:01.314114Z",
     "shell.execute_reply": "2024-04-23T17:39:01.313123Z",
     "shell.execute_reply.started": "2024-04-23T17:39:01.287250Z"
    }
   },
   "outputs": [],
   "source": [
    "# Group the DataFrame by 'county' and 'year', then sum the 'funding amount'\n",
    "cri_emergency_grants = cri_emergency_grants.groupby(['county', 'year']).agg({'fundingAmount': 'sum'}).reset_index()\n",
    "\n",
    "print(len(cri_emergency_grants))\n",
    "cri_emergency_grants.head(5)"
   ]
  },
  {
   "cell_type": "code",
   "execution_count": null,
   "metadata": {
    "execution": {
     "iopub.execute_input": "2024-04-23T17:39:07.508079Z",
     "iopub.status.busy": "2024-04-23T17:39:07.507377Z",
     "iopub.status.idle": "2024-04-23T17:39:07.529967Z",
     "shell.execute_reply": "2024-04-23T17:39:07.528889Z",
     "shell.execute_reply.started": "2024-04-23T17:39:07.508044Z"
    }
   },
   "outputs": [],
   "source": [
    "# Group the data further by just county and sum the funding recieved for each county from 2014-2022 (minus 2015)\n",
    "cri_emergency_grants_total_county = cri_emergency_grants.groupby(['county']).agg({'fundingAmount': 'sum'}).reset_index()\n",
    "cri_emergency_grants_total_county.rename(columns={'fundingAmount': 'county_funding_2014_2022'}, inplace=True)\n",
    "\n",
    "print(len(cri_emergency_grants_total_county))\n",
    "cri_emergency_grants_total_county.head(5)"
   ]
  },
  {
   "cell_type": "markdown",
   "metadata": {},
   "source": [
    "#### Assigning the tribes to their corresponding county from the dictionary above"
   ]
  },
  {
   "cell_type": "code",
   "execution_count": 16,
   "metadata": {
    "execution": {
     "iopub.execute_input": "2024-04-23T17:39:41.236362Z",
     "iopub.status.busy": "2024-04-23T17:39:41.235543Z",
     "iopub.status.idle": "2024-04-23T17:39:41.246802Z",
     "shell.execute_reply": "2024-04-23T17:39:41.245671Z",
     "shell.execute_reply.started": "2024-04-23T17:39:41.236316Z"
    }
   },
   "outputs": [],
   "source": [
    "# Preprocess the dictionary to ensure all values are strings\n",
    "processed_dict = {}\n",
    "for county, tribes in indigenous_to_county_dict.items():\n",
    "    if isinstance(tribes, list):\n",
    "        processed_dict[county] = ', '.join(tribes)\n",
    "    else:\n",
    "        processed_dict[county] = tribes\n",
    "\n",
    "# Map the processed dictionary to the DataFrame\n",
    "cri_emergency_grants_total_county['tribe'] = cri_emergency_grants_total_county['county'].map(processed_dict)\n",
    "\n",
    "# Display the DataFrame\n",
    "# cri_emergency_grants_total_county"
   ]
  },
  {
   "cell_type": "markdown",
   "metadata": {},
   "source": [
    "#### Manually adding the tribal funding values based on the county they reside in"
   ]
  },
  {
   "cell_type": "code",
   "execution_count": null,
   "metadata": {
    "execution": {
     "iopub.execute_input": "2024-04-23T17:39:48.538971Z",
     "iopub.status.busy": "2024-04-23T17:39:48.538260Z",
     "iopub.status.idle": "2024-04-23T17:39:48.563292Z",
     "shell.execute_reply": "2024-04-23T17:39:48.562193Z",
     "shell.execute_reply.started": "2024-04-23T17:39:48.538938Z"
    }
   },
   "outputs": [],
   "source": [
    "cri_emergency_grants_total_county['tribe_funding_2014_2022'] = 0\n",
    "\n",
    "# Define the specific values you want to add based on the county\n",
    "specific_values = {\n",
    "    'Riverside': 38574.0,\n",
    "    'San Diego': 109947.0,\n",
    "    'Humboldt' : 674458.0,\n",
    "    'Tulare' : 16345.0\n",
    "}\n",
    "\n",
    "# Iterate over the specific_values dictionary and assign values to the 'tribe_funding_within_county' column based on the county\n",
    "for county, value in specific_values.items():\n",
    "    cri_emergency_grants_total_county.loc[cri_emergency_grants_total_county['county'] == county, 'tribe_funding_2014_2022'] = value\n",
    "\n",
    "# Display the resulting DataFrame\n",
    "cri_emergency_grants_total_county.head(5)"
   ]
  },
  {
   "cell_type": "markdown",
   "metadata": {},
   "source": [
    "#### Creating a total funding column by adding the county funding values with the tribe funding values"
   ]
  },
  {
   "cell_type": "code",
   "execution_count": 18,
   "metadata": {
    "execution": {
     "iopub.execute_input": "2024-04-23T17:39:55.173722Z",
     "iopub.status.busy": "2024-04-23T17:39:55.172986Z",
     "iopub.status.idle": "2024-04-23T17:39:55.183339Z",
     "shell.execute_reply": "2024-04-23T17:39:55.181575Z",
     "shell.execute_reply.started": "2024-04-23T17:39:55.173687Z"
    }
   },
   "outputs": [],
   "source": [
    "cri_emergency_grants_total_county['total_funding'] = cri_emergency_grants_total_county['county_funding_2014_2022'] + cri_emergency_grants_total_county['tribe_funding_2014_2022']"
   ]
  },
  {
   "cell_type": "code",
   "execution_count": null,
   "metadata": {
    "execution": {
     "iopub.execute_input": "2024-04-23T17:39:55.660670Z",
     "iopub.status.busy": "2024-04-23T17:39:55.659685Z",
     "iopub.status.idle": "2024-04-23T17:39:55.690799Z",
     "shell.execute_reply": "2024-04-23T17:39:55.690357Z",
     "shell.execute_reply.started": "2024-04-23T17:39:55.660622Z"
    }
   },
   "outputs": [],
   "source": [
    "cri_emergency_grants_total_county.head(5)"
   ]
  },
  {
   "cell_type": "code",
   "execution_count": null,
   "metadata": {},
   "outputs": [],
   "source": [
    "county_tract = \"s3://ca-climate-index/0_map_data/ca_tract_county_population_2021.csv\"\n",
    "ca_county_tract = pd.read_csv(county_tract)\n",
    "ca_county_tract = ca_county_tract.rename(columns={'Census Tract': 'census_tract', 'County':'county'})\n",
    "ca_county_tract = ca_county_tract.drop(columns={'Unnamed: 0', 'COUNTYFP', 'Total Population 2021'})\n",
    "ca_county_tract"
   ]
  },
  {
   "cell_type": "code",
   "execution_count": null,
   "metadata": {},
   "outputs": [],
   "source": [
    "merged_emergency_grants = pd.merge(ca_county_tract,cri_emergency_grants_total_county, on='county', how='left')\n",
    "merged_emergency_grants = merged_emergency_grants.drop(columns={'county_funding_2014_2022','tribe','tribe_funding_2014_2022'})\n",
    "merged_emergency_grants = merged_emergency_grants.rename(columns={'total_funding':'total_emergency_management_funding'})\n",
    "\n",
    "merged_emergency_grants"
   ]
  },
  {
   "cell_type": "code",
   "execution_count": 23,
   "metadata": {
    "execution": {
     "iopub.execute_input": "2024-04-23T17:40:13.108721Z",
     "iopub.status.busy": "2024-04-23T17:40:13.107965Z",
     "iopub.status.idle": "2024-04-23T17:40:13.118787Z",
     "shell.execute_reply": "2024-04-23T17:40:13.116318Z",
     "shell.execute_reply.started": "2024-04-23T17:40:13.108684Z"
    }
   },
   "outputs": [],
   "source": [
    "# Saving metric df to .csv file\n",
    "merged_emergency_grants.to_csv('governance_emergency_management_metric.csv')"
   ]
  },
  {
   "cell_type": "markdown",
   "metadata": {},
   "source": [
    "### Function call for this metric"
   ]
  },
  {
   "cell_type": "code",
   "execution_count": 24,
   "metadata": {
    "execution": {
     "iopub.execute_input": "2024-04-23T17:43:24.053450Z",
     "iopub.status.busy": "2024-04-23T17:43:24.052098Z",
     "iopub.status.idle": "2024-04-23T17:43:24.080765Z",
     "shell.execute_reply": "2024-04-23T17:43:24.079927Z",
     "shell.execute_reply.started": "2024-04-23T17:43:24.053378Z"
    }
   },
   "outputs": [],
   "source": [
    "@append_metadata\n",
    "def calc_emergency_management_upload(input_csv, export=False, varname=''):\n",
    "    '''\n",
    "    Uploads the csv file containing the total amount of emergency performance grant funding received per CA \n",
    "    county between 2014-2022 from FEMA: \n",
    "    https://www.fema.gov/openfema-data-page/emergency-management-performance-grants-v2\n",
    "\n",
    "    Methods\n",
    "    -------\n",
    "    Data was cleaned to isolate funding for California counties and Indigenous tribes. \n",
    "    Tribe names were preserved while their funding was added to the total funding column \n",
    "    within the county they reside in.\n",
    "    Data was grouped by county and year and funding was summed to calculate the final metric.\n",
    "\n",
    "    Parameters\n",
    "    ----------\n",
    "    df: string\n",
    "        the dataframe containing the initial emergency management performance grant data\n",
    "    export: True/False boolean\n",
    "        False = will not upload resulting df containing CAL CRAI emergency management grant metric to AWS\n",
    "        True = will upload resulting df containing CAL CRAI emergency management grant metric to AWS\n",
    "    export_filename: string\n",
    "        name of the csv file to be uploaded to AWS\n",
    "\n",
    "    Script\n",
    "    ------\n",
    "    governance_emergency_management_grants.ipynb\n",
    "\n",
    "    Note:\n",
    "    This function assumes users have configured the AWS CLI such that their access key / secret key pair are \n",
    "    stored in ~/.aws/credentials.\n",
    "    See https://docs.aws.amazon.com/cli/latest/userguide/getting-started-install.html for guidance.\n",
    "    '''\n",
    "    print('Data transformation: ensure consistent county naming scheme.')\n",
    "    print('Data transformation: adjust reporting period column to single year.')\n",
    "    print('Data transformation: isolate desired columns and run \"filter_counties\" through county column.')\n",
    "    print('Data transformation: dropping all columns with recipients labeled \"Cal OES etc\" due to lack of clarity')\n",
    "    print('Data transformation: group the data by county and sum the funding received for each county from 2014-2022 minus 2015.')\n",
    "    print('Data transformation: attribute listed Tribes to a county they reside in, while preserving Tribe name and funding.')\n",
    "    print('Data transformation: add funding from Tribes to the total received per county.')\n",
    "\n",
    "    bucket_name = 'ca-climate-index'\n",
    "    directory = '3_fair_data/index_data'\n",
    "    export_filename = [input_csv]\n",
    "    \n",
    "    if export == True:\n",
    "        upload_csv_aws(export_filename, bucket_name, directory)\n",
    "\n",
    "    if export == False:\n",
    "        print(f'{export_filename} uploaded to AWS.')\n",
    "\n",
    "    if os.path.exists(input_csv):\n",
    "        os.remove(input_csv)"
   ]
  },
  {
   "cell_type": "code",
   "execution_count": 25,
   "metadata": {},
   "outputs": [],
   "source": [
    "input_csv = ['governance_emergency_management_metric.csv'\n",
    "            ]\n",
    "\n",
    "varnames = [\n",
    "    'governance_fema_emergency_grants'\n",
    "]\n",
    "\n",
    "for csv, var in zip(input_csv, varnames):\n",
    "    calc_emergency_management_upload(csv, export=True, varname='test')#var)"
   ]
  }
 ],
 "metadata": {
  "kernelspec": {
   "display_name": "Python 3 (ipykernel)",
   "language": "python",
   "name": "python3"
  },
  "language_info": {
   "codemirror_mode": {
    "name": "ipython",
    "version": 3
   },
   "file_extension": ".py",
   "mimetype": "text/x-python",
   "name": "python",
   "nbconvert_exporter": "python",
   "pygments_lexer": "ipython3",
   "version": "3.9.18"
  }
 },
 "nbformat": 4,
 "nbformat_minor": 4
}
