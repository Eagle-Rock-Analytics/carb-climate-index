{
 "cells": [
  {
   "cell_type": "markdown",
   "metadata": {},
   "source": [
    "### This notebook calculates the Cal-CRAI governance metric for emergency response\n",
    "* Num of fire stations per 10,000 people"
   ]
  },
  {
   "cell_type": "code",
   "execution_count": 1,
   "metadata": {
    "execution": {
     "iopub.execute_input": "2024-07-22T19:32:33.789672Z",
     "iopub.status.busy": "2024-07-22T19:32:33.788778Z",
     "iopub.status.idle": "2024-07-22T19:32:34.524508Z",
     "shell.execute_reply": "2024-07-22T19:32:34.523977Z",
     "shell.execute_reply.started": "2024-07-22T19:32:33.789622Z"
    }
   },
   "outputs": [],
   "source": [
    "import pandas as pd\n",
    "import os\n",
    "import sys\n",
    "import boto3\n",
    "\n",
    "import io\n",
    "import geopandas as gpd\n",
    "\n",
    "# suppress pandas purely educational warnings\n",
    "from warnings import simplefilter\n",
    "simplefilter(action=\"ignore\", category=pd.errors.PerformanceWarning)\n",
    "\n",
    "sys.path.append(os.path.expanduser('../../'))\n",
    "from scripts.utils.file_helpers import pull_gpkg_from_directory, upload_csv_aws, pull_csv_from_directory\n",
    "from scripts.utils.write_metadata import append_metadata"
   ]
  },
  {
   "cell_type": "code",
   "execution_count": null,
   "metadata": {
    "execution": {
     "iopub.execute_input": "2024-07-22T19:32:36.794506Z",
     "iopub.status.busy": "2024-07-22T19:32:36.793288Z",
     "iopub.status.idle": "2024-07-22T19:32:38.166485Z",
     "shell.execute_reply": "2024-07-22T19:32:38.164725Z",
     "shell.execute_reply.started": "2024-07-22T19:32:36.794458Z"
    }
   },
   "outputs": [],
   "source": [
    "# pull csv from aws\n",
    "bucket_name = 'ca-climate-index'\n",
    "aws_dir = '2b_reproject/governance/emergency_response/usgs/'\n",
    "\n",
    "pull_gpkg_from_directory(bucket_name, aws_dir)"
   ]
  },
  {
   "cell_type": "code",
   "execution_count": null,
   "metadata": {
    "execution": {
     "iopub.execute_input": "2024-07-22T19:32:38.171044Z",
     "iopub.status.busy": "2024-07-22T19:32:38.170307Z",
     "iopub.status.idle": "2024-07-22T19:32:38.974988Z",
     "shell.execute_reply": "2024-07-22T19:32:38.974658Z",
     "shell.execute_reply.started": "2024-07-22T19:32:38.170985Z"
    }
   },
   "outputs": [],
   "source": [
    "fire_station_data = gpd.read_file('governance_usgs_fire_stations.gpkg')\n",
    "fire_station_data.columns"
   ]
  },
  {
   "cell_type": "code",
   "execution_count": null,
   "metadata": {
    "execution": {
     "iopub.execute_input": "2024-07-22T19:32:38.975914Z",
     "iopub.status.busy": "2024-07-22T19:32:38.975784Z",
     "iopub.status.idle": "2024-07-22T19:32:38.988181Z",
     "shell.execute_reply": "2024-07-22T19:32:38.987891Z",
     "shell.execute_reply.started": "2024-07-22T19:32:38.975904Z"
    }
   },
   "outputs": [],
   "source": [
    "fire_station_data = fire_station_data.rename(columns={'USCB_COUNTYFP':'countyfp'})\n",
    "fire_station_data"
   ]
  },
  {
   "cell_type": "code",
   "execution_count": null,
   "metadata": {
    "execution": {
     "iopub.execute_input": "2024-07-22T19:32:54.739676Z",
     "iopub.status.busy": "2024-07-22T19:32:54.738959Z",
     "iopub.status.idle": "2024-07-22T19:32:54.774492Z",
     "shell.execute_reply": "2024-07-22T19:32:54.773953Z",
     "shell.execute_reply.started": "2024-07-22T19:32:54.739641Z"
    }
   },
   "outputs": [],
   "source": [
    "fire_station_data_county_count = fire_station_data[fire_station_data['countyfp'] == '037']\n",
    "fire_station_data_county_count"
   ]
  },
  {
   "cell_type": "code",
   "execution_count": null,
   "metadata": {
    "execution": {
     "iopub.execute_input": "2024-07-22T19:33:00.510017Z",
     "iopub.status.busy": "2024-07-22T19:33:00.509276Z",
     "iopub.status.idle": "2024-07-22T19:33:00.547617Z",
     "shell.execute_reply": "2024-07-22T19:33:00.547057Z",
     "shell.execute_reply.started": "2024-07-22T19:33:00.509971Z"
    }
   },
   "outputs": [],
   "source": [
    "filtered_fire_station_data = fire_station_data.drop_duplicates(subset=['USCB_GEOID', 'USCB_INTPTLAT', 'USCB_INTPTLON'])\n",
    "filtered_fire_station_data"
   ]
  },
  {
   "cell_type": "code",
   "execution_count": null,
   "metadata": {
    "execution": {
     "iopub.execute_input": "2024-07-22T19:33:01.881836Z",
     "iopub.status.busy": "2024-07-22T19:33:01.881106Z",
     "iopub.status.idle": "2024-07-22T19:33:01.906185Z",
     "shell.execute_reply": "2024-07-22T19:33:01.905534Z",
     "shell.execute_reply.started": "2024-07-22T19:33:01.881801Z"
    }
   },
   "outputs": [],
   "source": [
    "county_count_fire_stations = filtered_fire_station_data['countyfp'].value_counts().reset_index()\n",
    "county_count_fire_stations = county_count_fire_stations.rename(columns={'count':'num_fire_stations'})\n",
    "county_count_fire_stations.head(50)"
   ]
  },
  {
   "cell_type": "code",
   "execution_count": null,
   "metadata": {
    "execution": {
     "iopub.execute_input": "2024-07-22T19:33:08.317608Z",
     "iopub.status.busy": "2024-07-22T19:33:08.316817Z",
     "iopub.status.idle": "2024-07-22T19:33:10.753226Z",
     "shell.execute_reply": "2024-07-22T19:33:10.752858Z",
     "shell.execute_reply.started": "2024-07-22T19:33:08.317563Z"
    }
   },
   "outputs": [],
   "source": [
    "# read in CA census tiger file\n",
    "ca_tract_county = \"s3://ca-climate-index/0_map_data/ca_tracts_county.csv\"\n",
    "ca_tract_county = gpd.read_file(ca_tract_county)\n",
    "ca_tract_county = ca_tract_county.drop(columns={'field_1', 'geometry'})\n",
    "ca_tract_county.columns = ca_tract_county.columns.str.lower()\n",
    "ca_tract_county = ca_tract_county.applymap(lambda s: s.lower() if type(s) == str else s)\n",
    "\n",
    "ca_tract_county"
   ]
  },
  {
   "cell_type": "code",
   "execution_count": null,
   "metadata": {
    "execution": {
     "iopub.execute_input": "2024-07-22T19:33:10.754704Z",
     "iopub.status.busy": "2024-07-22T19:33:10.754565Z",
     "iopub.status.idle": "2024-07-22T19:33:10.761942Z",
     "shell.execute_reply": "2024-07-22T19:33:10.761653Z",
     "shell.execute_reply.started": "2024-07-22T19:33:10.754694Z"
    }
   },
   "outputs": [],
   "source": [
    "fire_stations_merged = pd.merge(ca_tract_county, county_count_fire_stations, how='left', on='countyfp')\n",
    "fire_stations_merged"
   ]
  },
  {
   "cell_type": "code",
   "execution_count": null,
   "metadata": {
    "execution": {
     "iopub.execute_input": "2024-07-22T19:33:11.855535Z",
     "iopub.status.busy": "2024-07-22T19:33:11.854788Z",
     "iopub.status.idle": "2024-07-22T19:33:12.749954Z",
     "shell.execute_reply": "2024-07-22T19:33:12.749052Z",
     "shell.execute_reply.started": "2024-07-22T19:33:11.855495Z"
    }
   },
   "outputs": [],
   "source": [
    "county_pop = \"s3://ca-climate-index/0_map_data/county_est_pop_2022.csv\"\n",
    "county_pop = pd.read_csv(county_pop)\n",
    "county_pop = county_pop.drop({'Unnamed: 0'}, axis=1)\n",
    "county_pop['county'] = county_pop['county'].str.lower()\n",
    "\n",
    "county_pop"
   ]
  },
  {
   "cell_type": "code",
   "execution_count": null,
   "metadata": {
    "execution": {
     "iopub.execute_input": "2024-07-22T19:33:13.739871Z",
     "iopub.status.busy": "2024-07-22T19:33:13.738615Z",
     "iopub.status.idle": "2024-07-22T19:33:13.765715Z",
     "shell.execute_reply": "2024-07-22T19:33:13.765046Z",
     "shell.execute_reply.started": "2024-07-22T19:33:13.739831Z"
    }
   },
   "outputs": [],
   "source": [
    "fire_stations_per_population = pd.merge(fire_stations_merged, county_pop, on='county', how='left')\n",
    "fire_stations_per_population"
   ]
  },
  {
   "cell_type": "code",
   "execution_count": null,
   "metadata": {
    "execution": {
     "iopub.execute_input": "2024-07-22T19:33:18.717743Z",
     "iopub.status.busy": "2024-07-22T19:33:18.716847Z",
     "iopub.status.idle": "2024-07-22T19:33:18.739023Z",
     "shell.execute_reply": "2024-07-22T19:33:18.738139Z",
     "shell.execute_reply.started": "2024-07-22T19:33:18.717696Z"
    }
   },
   "outputs": [],
   "source": [
    "fire_stations_per_population['num_fire_stations_per_10000_people'] = (fire_stations_per_population['num_fire_stations'] / fire_stations_per_population['est_total_pop']) * 10000\n",
    "fire_stations_per_population"
   ]
  },
  {
   "cell_type": "code",
   "execution_count": 20,
   "metadata": {},
   "outputs": [],
   "source": [
    "fire_stations_per_population.to_csv('governance_fire_stations_metric.csv', index=False)"
   ]
  },
  {
   "cell_type": "code",
   "execution_count": 17,
   "metadata": {},
   "outputs": [],
   "source": [
    "@append_metadata\n",
    "def fire_station_upload(input_csv, export=False, varname=''):\n",
    "    '''\n",
    "    Uploads the number of California fire station metric to S3 bucket. The metric is:\n",
    "    \n",
    "    * Number of fire stations per CA county per 10,000 people\n",
    "    \n",
    "    Fire stations are likely municipal and CalFire stations, though we are unable to isoate them within the data.\n",
    "\n",
    "    Data for this metric was sourced from the United States Geological Service at:\n",
    "    https://azgeo-open-data-agic.hub.arcgis.com/ though the original dataset has been replaced with similar datasets\n",
    "\n",
    "    Methods\n",
    "    -------\n",
    "    Relevant data columns were isolated, some were renamed for later merging with California tract data.\n",
    "    Duplicate stations that matched anothers tract ID, latitude, and longitude were dropped.\n",
    "    Number of fire stations per county was calculated by grouping countyfp's together and generating a count.\n",
    "    Data was then merged with CA tract/county data to attribute each county total to all CA tracts.\n",
    "    Data was once again merged with CA county population totals so number of fire stations per 10,000 could be calculated.\n",
    "    \n",
    "    Parameters\n",
    "    ----------\n",
    "    input_csv: string\n",
    "        csv PSPS data \n",
    "    export: True/False boolean\n",
    "        False = will not upload resulting df containing CAL CRAI Fire Station metric to AWS\n",
    "        True = will upload resulting df containing CAL CRAI Fire Station metric to AWS\n",
    "\n",
    "    Script\n",
    "    ------\n",
    "    governance_fire_stations.ipynb\n",
    "\n",
    "    Note:\n",
    "    This function assumes users have configured the AWS CLI such that their access key / secret key pair are stored in ~/.aws/credentials.\n",
    "    See https://docs.aws.amazon.com/cli/latest/userguide/getting-started-install.html for guidance.\n",
    "    '''\n",
    "    print('Data transformation: relevant columns were isolated and renamed')\n",
    "    print('Data transformation: duplicate entries by location were dropped.')\n",
    "    print('Data transformation: number of rows per county were totalled.')\n",
    "    print('Data transformation: data was merged with CA county and population data to generate final metric data.') \n",
    " \n",
    "    if export == True:\n",
    "        bucket_name = 'ca-climate-index'\n",
    "        directory = '3_fair_data/index_data'\n",
    "        export_filename = [input_csv]\n",
    "        upload_csv_aws(export_filename, bucket_name, directory)\n",
    "\n",
    "    if export == False:\n",
    "        print(f'{input_csv} uploaded to AWS.')\n",
    " \n",
    "    if os.path.exists(input_csv):\n",
    "        os.remove(input_csv)"
   ]
  },
  {
   "cell_type": "code",
   "execution_count": null,
   "metadata": {},
   "outputs": [],
   "source": [
    "input_csv = 'governance_fire_stations_metric.csv'\n",
    "varname = 'governance_usgs_fire_stations'\n",
    "\n",
    "fire_station_upload(input_csv, export=True, varname='test')"
   ]
  }
 ],
 "metadata": {
  "kernelspec": {
   "display_name": "Python 3 (ipykernel)",
   "language": "python",
   "name": "python3"
  },
  "language_info": {
   "codemirror_mode": {
    "name": "ipython",
    "version": 3
   },
   "file_extension": ".py",
   "mimetype": "text/x-python",
   "name": "python",
   "nbconvert_exporter": "python",
   "pygments_lexer": "ipython3",
   "version": "3.9.18"
  }
 },
 "nbformat": 4,
 "nbformat_minor": 4
}
