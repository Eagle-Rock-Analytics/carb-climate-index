{
 "cells": [
  {
   "cell_type": "markdown",
   "metadata": {},
   "source": [
    "# This notebook calculates the hazard mitigation funding metric sourced from FEMA\n",
    "* Total amount of hazard mitigation funding recieved per CA county between 1990-2023"
   ]
  },
  {
   "cell_type": "code",
   "execution_count": 1,
   "metadata": {},
   "outputs": [],
   "source": [
    "import pandas as pd\n",
    "import os\n",
    "import sys\n",
    "import math\n",
    "\n",
    "# suppress pandas purely educational warnings\n",
    "from warnings import simplefilter\n",
    "simplefilter(action=\"ignore\", category=pd.errors.PerformanceWarning)\n",
    "\n",
    "sys.path.append(os.path.expanduser('../../'))\n",
    "from scripts.utils.file_helpers import (\n",
    "    pull_csv_from_directory, upload_csv_aws, filter_counties\n",
    ")"
   ]
  },
  {
   "cell_type": "code",
   "execution_count": 2,
   "metadata": {},
   "outputs": [
    {
     "name": "stdout",
     "output_type": "stream",
     "text": [
      "Saved DataFrame as 'hazard_mitigation_funding_subset.csv'\n"
     ]
    }
   ],
   "source": [
    "# pull csv from aws\n",
    "bucket_name = 'ca-climate-index'\n",
    "aws_dir = '2a_subset/governance/community_preparedness/fema/hazard_mitigation_funding/'\n",
    "\n",
    "pull_csv_from_directory(bucket_name, aws_dir, search_zipped=False)"
   ]
  },
  {
   "cell_type": "code",
   "execution_count": 3,
   "metadata": {},
   "outputs": [
    {
     "name": "stdout",
     "output_type": "stream",
     "text": [
      "2131\n"
     ]
    }
   ],
   "source": [
    "# read in FEMA emergency performance grants data\n",
    "hazard_mitigation_data = pd.read_csv('hazard_mitigation_funding_subset.csv')\n",
    "print(len(hazard_mitigation_data))\n",
    "os.remove('hazard_mitigation_funding_subset.csv')"
   ]
  },
  {
   "cell_type": "code",
   "execution_count": 4,
   "metadata": {},
   "outputs": [],
   "source": [
    "# renaming and selecting relevant columns to our CRI metric\n",
    "hazard_mitigation_columns = hazard_mitigation_data[['programFy', 'county', 'projectAmount']].copy()\n",
    "\n",
    "hazard_mitigation_columns.rename(columns={'programFy': 'funding_year', \n",
    "                                      'projectAmount': 'project_amount'}, inplace=True)\n",
    "\n"
   ]
  },
  {
   "cell_type": "code",
   "execution_count": 5,
   "metadata": {},
   "outputs": [
    {
     "data": {
      "text/html": [
       "<div>\n",
       "<style scoped>\n",
       "    .dataframe tbody tr th:only-of-type {\n",
       "        vertical-align: middle;\n",
       "    }\n",
       "\n",
       "    .dataframe tbody tr th {\n",
       "        vertical-align: top;\n",
       "    }\n",
       "\n",
       "    .dataframe thead th {\n",
       "        text-align: right;\n",
       "    }\n",
       "</style>\n",
       "<table border=\"1\" class=\"dataframe\">\n",
       "  <thead>\n",
       "    <tr style=\"text-align: right;\">\n",
       "      <th></th>\n",
       "      <th>funding_year</th>\n",
       "      <th>county</th>\n",
       "      <th>project_amount</th>\n",
       "    </tr>\n",
       "  </thead>\n",
       "  <tbody>\n",
       "    <tr>\n",
       "      <th>0</th>\n",
       "      <td>2019</td>\n",
       "      <td>Ventura</td>\n",
       "      <td>2159446.00</td>\n",
       "    </tr>\n",
       "    <tr>\n",
       "      <th>1</th>\n",
       "      <td>2022</td>\n",
       "      <td>Santa Barbara</td>\n",
       "      <td>196315.00</td>\n",
       "    </tr>\n",
       "    <tr>\n",
       "      <th>2</th>\n",
       "      <td>2018</td>\n",
       "      <td>Marin</td>\n",
       "      <td>1385685.00</td>\n",
       "    </tr>\n",
       "    <tr>\n",
       "      <th>3</th>\n",
       "      <td>2019</td>\n",
       "      <td>Ventura</td>\n",
       "      <td>1083095.00</td>\n",
       "    </tr>\n",
       "    <tr>\n",
       "      <th>4</th>\n",
       "      <td>2011</td>\n",
       "      <td>San Luis Obispo</td>\n",
       "      <td>3334701.39</td>\n",
       "    </tr>\n",
       "    <tr>\n",
       "      <th>...</th>\n",
       "      <td>...</td>\n",
       "      <td>...</td>\n",
       "      <td>...</td>\n",
       "    </tr>\n",
       "    <tr>\n",
       "      <th>2126</th>\n",
       "      <td>1997</td>\n",
       "      <td>Sacramento</td>\n",
       "      <td>3164945.00</td>\n",
       "    </tr>\n",
       "    <tr>\n",
       "      <th>2127</th>\n",
       "      <td>1992</td>\n",
       "      <td>San Bernardino</td>\n",
       "      <td>1108678.00</td>\n",
       "    </tr>\n",
       "    <tr>\n",
       "      <th>2128</th>\n",
       "      <td>1993</td>\n",
       "      <td>San Bernardino</td>\n",
       "      <td>170000.00</td>\n",
       "    </tr>\n",
       "    <tr>\n",
       "      <th>2129</th>\n",
       "      <td>1993</td>\n",
       "      <td>San Bernardino</td>\n",
       "      <td>100000.00</td>\n",
       "    </tr>\n",
       "    <tr>\n",
       "      <th>2130</th>\n",
       "      <td>1992</td>\n",
       "      <td>San Bernardino</td>\n",
       "      <td>97200.00</td>\n",
       "    </tr>\n",
       "  </tbody>\n",
       "</table>\n",
       "<p>2131 rows × 3 columns</p>\n",
       "</div>"
      ],
      "text/plain": [
       "      funding_year           county  project_amount\n",
       "0             2019          Ventura      2159446.00\n",
       "1             2022    Santa Barbara       196315.00\n",
       "2             2018            Marin      1385685.00\n",
       "3             2019          Ventura      1083095.00\n",
       "4             2011  San Luis Obispo      3334701.39\n",
       "...            ...              ...             ...\n",
       "2126          1997       Sacramento      3164945.00\n",
       "2127          1992   San Bernardino      1108678.00\n",
       "2128          1993   San Bernardino       170000.00\n",
       "2129          1993   San Bernardino       100000.00\n",
       "2130          1992   San Bernardino        97200.00\n",
       "\n",
       "[2131 rows x 3 columns]"
      ]
     },
     "execution_count": 5,
     "metadata": {},
     "output_type": "execute_result"
    }
   ],
   "source": [
    "hazard_mitigation_columns"
   ]
  },
  {
   "cell_type": "code",
   "execution_count": 8,
   "metadata": {},
   "outputs": [],
   "source": [
    "# running the filter county function to get rid of any non-CA county entries\n",
    "filtered_hazard_mitigation, omitted_rows = filter_counties(hazard_mitigation_columns, 'county')"
   ]
  },
  {
   "cell_type": "code",
   "execution_count": 9,
   "metadata": {},
   "outputs": [
    {
     "name": "stdout",
     "output_type": "stream",
     "text": [
      "504\n"
     ]
    },
    {
     "data": {
      "text/html": [
       "<div>\n",
       "<style scoped>\n",
       "    .dataframe tbody tr th:only-of-type {\n",
       "        vertical-align: middle;\n",
       "    }\n",
       "\n",
       "    .dataframe tbody tr th {\n",
       "        vertical-align: top;\n",
       "    }\n",
       "\n",
       "    .dataframe thead th {\n",
       "        text-align: right;\n",
       "    }\n",
       "</style>\n",
       "<table border=\"1\" class=\"dataframe\">\n",
       "  <thead>\n",
       "    <tr style=\"text-align: right;\">\n",
       "      <th></th>\n",
       "      <th>county</th>\n",
       "      <th>funding_year</th>\n",
       "      <th>project_amount</th>\n",
       "    </tr>\n",
       "  </thead>\n",
       "  <tbody>\n",
       "    <tr>\n",
       "      <th>0</th>\n",
       "      <td>Alameda</td>\n",
       "      <td>1990</td>\n",
       "      <td>43439324.0</td>\n",
       "    </tr>\n",
       "    <tr>\n",
       "      <th>1</th>\n",
       "      <td>Alameda</td>\n",
       "      <td>1992</td>\n",
       "      <td>5097938.0</td>\n",
       "    </tr>\n",
       "    <tr>\n",
       "      <th>2</th>\n",
       "      <td>Alameda</td>\n",
       "      <td>1993</td>\n",
       "      <td>2904070.0</td>\n",
       "    </tr>\n",
       "    <tr>\n",
       "      <th>3</th>\n",
       "      <td>Alameda</td>\n",
       "      <td>1994</td>\n",
       "      <td>57804311.0</td>\n",
       "    </tr>\n",
       "    <tr>\n",
       "      <th>4</th>\n",
       "      <td>Alameda</td>\n",
       "      <td>2003</td>\n",
       "      <td>382740.0</td>\n",
       "    </tr>\n",
       "  </tbody>\n",
       "</table>\n",
       "</div>"
      ],
      "text/plain": [
       "    county  funding_year  project_amount\n",
       "0  Alameda          1990      43439324.0\n",
       "1  Alameda          1992       5097938.0\n",
       "2  Alameda          1993       2904070.0\n",
       "3  Alameda          1994      57804311.0\n",
       "4  Alameda          2003        382740.0"
      ]
     },
     "execution_count": 9,
     "metadata": {},
     "output_type": "execute_result"
    }
   ],
   "source": [
    "# Group the DataFrame by 'county' and 'year', then sum the 'damaged_destroyed_structures' and 'total_fatalities'\n",
    "summed_hazard_mitigation = filtered_hazard_mitigation.groupby(['county', 'funding_year']).agg({'project_amount': 'sum'}).reset_index()\n",
    "\n",
    "print(len(summed_hazard_mitigation))\n",
    "summed_hazard_mitigation.head()"
   ]
  },
  {
   "cell_type": "markdown",
   "metadata": {},
   "source": [
    "## Non-CA county entries are 'statewide' and nan"
   ]
  },
  {
   "cell_type": "code",
   "execution_count": 11,
   "metadata": {},
   "outputs": [
    {
     "name": "stdout",
     "output_type": "stream",
     "text": [
      "['Statewide' nan]\n"
     ]
    }
   ],
   "source": [
    "unique_counties = omitted_rows['county'].unique()\n",
    "print(unique_counties)"
   ]
  },
  {
   "cell_type": "code",
   "execution_count": 8,
   "metadata": {},
   "outputs": [
    {
     "name": "stdout",
     "output_type": "stream",
     "text": [
      "[1990 1992 1993 1994 2003 2004 2005 2006 2007 2008 2009 2010 2015 2017\n",
      " 2018 2020 2021 2022 2023 2014 1995 1997 2019 2011 1998 2002 2012 1999\n",
      " 2000 2016 2013]\n"
     ]
    }
   ],
   "source": [
    "# Display unique years\n",
    "unique_years = summed_hazard_mitigation['funding_year'].unique()\n",
    "print(unique_years)"
   ]
  },
  {
   "cell_type": "code",
   "execution_count": 9,
   "metadata": {},
   "outputs": [
    {
     "name": "stdout",
     "output_type": "stream",
     "text": [
      "58\n"
     ]
    },
    {
     "data": {
      "text/html": [
       "<div>\n",
       "<style scoped>\n",
       "    .dataframe tbody tr th:only-of-type {\n",
       "        vertical-align: middle;\n",
       "    }\n",
       "\n",
       "    .dataframe tbody tr th {\n",
       "        vertical-align: top;\n",
       "    }\n",
       "\n",
       "    .dataframe thead th {\n",
       "        text-align: right;\n",
       "    }\n",
       "</style>\n",
       "<table border=\"1\" class=\"dataframe\">\n",
       "  <thead>\n",
       "    <tr style=\"text-align: right;\">\n",
       "      <th></th>\n",
       "      <th>county</th>\n",
       "      <th>funding_1990_2023</th>\n",
       "    </tr>\n",
       "  </thead>\n",
       "  <tbody>\n",
       "    <tr>\n",
       "      <th>0</th>\n",
       "      <td>Alameda</td>\n",
       "      <td>193501555.81</td>\n",
       "    </tr>\n",
       "    <tr>\n",
       "      <th>1</th>\n",
       "      <td>Alpine</td>\n",
       "      <td>319033.91</td>\n",
       "    </tr>\n",
       "    <tr>\n",
       "      <th>2</th>\n",
       "      <td>Amador</td>\n",
       "      <td>8581918.04</td>\n",
       "    </tr>\n",
       "    <tr>\n",
       "      <th>3</th>\n",
       "      <td>Butte</td>\n",
       "      <td>22708739.59</td>\n",
       "    </tr>\n",
       "    <tr>\n",
       "      <th>4</th>\n",
       "      <td>Calaveras</td>\n",
       "      <td>10750389.00</td>\n",
       "    </tr>\n",
       "  </tbody>\n",
       "</table>\n",
       "</div>"
      ],
      "text/plain": [
       "      county  funding_1990_2023\n",
       "0    Alameda       193501555.81\n",
       "1     Alpine          319033.91\n",
       "2     Amador         8581918.04\n",
       "3      Butte        22708739.59\n",
       "4  Calaveras        10750389.00"
      ]
     },
     "execution_count": 9,
     "metadata": {},
     "output_type": "execute_result"
    }
   ],
   "source": [
    "# Group the data further by just county and sum the funding recieved for each county from 1990-2023\n",
    "cri_hazard_mitigation_total_county = summed_hazard_mitigation.groupby(['county']).agg({'project_amount': 'sum'}).reset_index()\n",
    "cri_hazard_mitigation_total_county.rename(columns={'project_amount': 'funding_1990_2023'}, inplace=True)\n",
    "pd.set_option('display.float_format', '{:.2f}'.format)\n",
    "\n",
    "print(len(cri_hazard_mitigation_total_county))\n",
    "cri_hazard_mitigation_total_county.head()"
   ]
  },
  {
   "cell_type": "markdown",
   "metadata": {},
   "source": [
    "# These are pretty large numbers, though they do span 33 years of funding..."
   ]
  },
  {
   "cell_type": "code",
   "execution_count": 10,
   "metadata": {},
   "outputs": [],
   "source": [
    "# Saving metric df to .csv file\n",
    "cri_hazard_mitigation_total_county.to_csv('governance_hazard_mitigation_metric.csv')"
   ]
  },
  {
   "cell_type": "code",
   "execution_count": 11,
   "metadata": {},
   "outputs": [
    {
     "name": "stdout",
     "output_type": "stream",
     "text": [
      "governance_hazard_mitigation_metric.csv uploaded to AWS\n"
     ]
    }
   ],
   "source": [
    "# upload final csv file to aws\n",
    "bucket_name = 'ca-climate-index'\n",
    "file_name = ['governance_hazard_mitigation_metric.csv']\n",
    "directory = '3_fair_data/index_data'\n",
    "\n",
    "#@append_metadata\n",
    "upload_csv_aws(file_name, bucket_name, directory)\n",
    "os.remove('governance_hazard_mitigation_metric.csv')"
   ]
  }
 ],
 "metadata": {
  "kernelspec": {
   "display_name": "carb",
   "language": "python",
   "name": "python3"
  },
  "language_info": {
   "codemirror_mode": {
    "name": "ipython",
    "version": 3
   },
   "file_extension": ".py",
   "mimetype": "text/x-python",
   "name": "python",
   "nbconvert_exporter": "python",
   "pygments_lexer": "ipython3",
   "version": "3.9.18"
  }
 },
 "nbformat": 4,
 "nbformat_minor": 2
}
