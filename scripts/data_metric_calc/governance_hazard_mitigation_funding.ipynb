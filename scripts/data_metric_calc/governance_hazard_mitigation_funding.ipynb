{
 "cells": [
  {
   "cell_type": "markdown",
   "metadata": {},
   "source": [
    "## Cal-CRAI Metric Calculation\n",
    "Domain: Governance \\\n",
    "Indicator: Community Preparedness\n",
    "\n",
    "This notebook calculates one metric, sourced from the Federal Emergency Management Agency:\n",
    "* Metric 1: Total amount of hazard mitigation funding recieved per CA county between 1990-2023\n"
   ]
  },
  {
   "cell_type": "code",
   "execution_count": 34,
   "metadata": {
    "execution": {
     "iopub.execute_input": "2024-04-29T21:32:13.547491Z",
     "iopub.status.busy": "2024-04-29T21:32:13.546468Z",
     "iopub.status.idle": "2024-04-29T21:32:14.294197Z",
     "shell.execute_reply": "2024-04-29T21:32:14.293484Z",
     "shell.execute_reply.started": "2024-04-29T21:32:13.547422Z"
    }
   },
   "outputs": [],
   "source": [
    "import pandas as pd\n",
    "import os\n",
    "import sys\n",
    "import math\n",
    "import numpy as np\n",
    "\n",
    "# suppress pandas purely educational warnings\n",
    "from warnings import simplefilter\n",
    "simplefilter(action=\"ignore\", category=pd.errors.PerformanceWarning)\n",
    "\n",
    "sys.path.append(os.path.expanduser('../../'))\n",
    "from scripts.utils.file_helpers import pull_csv_from_directory, upload_csv_aws, filter_counties\n",
    "from scripts.utils.write_metadata import append_metadata"
   ]
  },
  {
   "cell_type": "code",
   "execution_count": null,
   "metadata": {
    "execution": {
     "iopub.execute_input": "2024-04-29T21:32:14.296030Z",
     "iopub.status.busy": "2024-04-29T21:32:14.295628Z",
     "iopub.status.idle": "2024-04-29T21:32:15.665664Z",
     "shell.execute_reply": "2024-04-29T21:32:15.665223Z",
     "shell.execute_reply.started": "2024-04-29T21:32:14.296012Z"
    }
   },
   "outputs": [],
   "source": [
    "# pull csv from aws\n",
    "bucket_name = 'ca-climate-index'\n",
    "aws_dir = '2a_subset/governance/community_preparedness/fema/hazard_mitigation_funding/'\n",
    "\n",
    "pull_csv_from_directory(bucket_name, aws_dir, search_zipped=False)"
   ]
  },
  {
   "cell_type": "code",
   "execution_count": null,
   "metadata": {
    "execution": {
     "iopub.execute_input": "2024-04-29T21:32:15.667086Z",
     "iopub.status.busy": "2024-04-29T21:32:15.666841Z",
     "iopub.status.idle": "2024-04-29T21:32:15.680603Z",
     "shell.execute_reply": "2024-04-29T21:32:15.680120Z",
     "shell.execute_reply.started": "2024-04-29T21:32:15.667066Z"
    }
   },
   "outputs": [],
   "source": [
    "# read in FEMA emergency performance grants data\n",
    "hazard_mitigation_data = pd.read_csv('hazard_mitigation_funding_subset.csv')\n",
    "print(len(hazard_mitigation_data))\n",
    "os.remove('hazard_mitigation_funding_subset.csv')"
   ]
  },
  {
   "cell_type": "code",
   "execution_count": null,
   "metadata": {
    "execution": {
     "iopub.execute_input": "2024-04-29T21:32:15.681395Z",
     "iopub.status.busy": "2024-04-29T21:32:15.681237Z",
     "iopub.status.idle": "2024-04-29T21:32:15.685965Z",
     "shell.execute_reply": "2024-04-29T21:32:15.685532Z",
     "shell.execute_reply.started": "2024-04-29T21:32:15.681375Z"
    }
   },
   "outputs": [],
   "source": [
    "hazard_mitigation_data.columns"
   ]
  },
  {
   "cell_type": "code",
   "execution_count": null,
   "metadata": {
    "execution": {
     "iopub.execute_input": "2024-04-29T21:32:17.345404Z",
     "iopub.status.busy": "2024-04-29T21:32:17.344742Z",
     "iopub.status.idle": "2024-04-29T21:32:17.373059Z",
     "shell.execute_reply": "2024-04-29T21:32:17.372449Z",
     "shell.execute_reply.started": "2024-04-29T21:32:17.345372Z"
    }
   },
   "outputs": [],
   "source": [
    "# renaming and selecting relevant columns to our CRI metric\n",
    "hazard_mitigation_columns = hazard_mitigation_data[['programFy',\n",
    "                                                    'county', \n",
    "                                                    'projectAmount',\n",
    "                                                    'recipientTribalIndicator',\n",
    "                                                    'subrecipientTribalIndicator']].copy()\n",
    "\n",
    "hazard_mitigation_columns.rename(columns={'programFy': 'funding_year', \n",
    "                                      'projectAmount': 'project_amount',\n",
    "                                      'subrecipientTribalIndicator': 'subrecipient_tribal_indicator',\n",
    "                                      'recipientTribalIndicator': 'recipient_tribal_indicator'}, inplace=True)\n",
    "\n",
    "hazard_mitigation_columns"
   ]
  },
  {
   "cell_type": "markdown",
   "metadata": {},
   "source": [
    "#### Assessing if both tribal indicators should be included\n",
    "* 5 instances where the entries between the indicators differ"
   ]
  },
  {
   "cell_type": "code",
   "execution_count": 39,
   "metadata": {
    "execution": {
     "iopub.execute_input": "2024-04-29T21:32:30.069451Z",
     "iopub.status.busy": "2024-04-29T21:32:30.068728Z",
     "iopub.status.idle": "2024-04-29T21:32:30.104671Z",
     "shell.execute_reply": "2024-04-29T21:32:30.103889Z",
     "shell.execute_reply.started": "2024-04-29T21:32:30.069418Z"
    }
   },
   "outputs": [],
   "source": [
    "def check_tribal_discrepancy(row):\n",
    "    recipient_indicator = row['recipient_tribal_indicator']\n",
    "    subrecipient_indicator = row['subrecipient_tribal_indicator']\n",
    "    \n",
    "    # Handling NaN values explicitly\n",
    "    if pd.isna(recipient_indicator) or pd.isna(subrecipient_indicator):\n",
    "        return False\n",
    "    elif recipient_indicator != subrecipient_indicator:\n",
    "        return True\n",
    "    else:\n",
    "        return False\n",
    "\n",
    "hazard_mitigation_columns['different_tribal_entries'] = hazard_mitigation_columns.apply(check_tribal_discrepancy, axis=1)"
   ]
  },
  {
   "cell_type": "code",
   "execution_count": null,
   "metadata": {
    "execution": {
     "iopub.execute_input": "2024-04-29T21:32:30.666987Z",
     "iopub.status.busy": "2024-04-29T21:32:30.666244Z",
     "iopub.status.idle": "2024-04-29T21:32:30.727138Z",
     "shell.execute_reply": "2024-04-29T21:32:30.726621Z",
     "shell.execute_reply.started": "2024-04-29T21:32:30.666950Z"
    }
   },
   "outputs": [],
   "source": [
    "false_count = hazard_mitigation_columns.apply(check_tribal_discrepancy, axis=1).value_counts().get(True, 0)\n",
    "print(\"Number of rows with a different recipient tribal and subrecipient tribal entries:\", false_count)\n",
    "filtered_df = hazard_mitigation_columns[hazard_mitigation_columns.apply(check_tribal_discrepancy, axis=1) == True]\n",
    "filtered_df"
   ]
  },
  {
   "cell_type": "code",
   "execution_count": null,
   "metadata": {
    "execution": {
     "iopub.execute_input": "2024-04-29T21:32:37.447168Z",
     "iopub.status.busy": "2024-04-29T21:32:37.446661Z",
     "iopub.status.idle": "2024-04-29T21:32:37.455786Z",
     "shell.execute_reply": "2024-04-29T21:32:37.454527Z",
     "shell.execute_reply.started": "2024-04-29T21:32:37.447136Z"
    }
   },
   "outputs": [],
   "source": [
    "# identifying all unique entries within the tribal indicators\n",
    "tribal_indicator = hazard_mitigation_columns['recipient_tribal_indicator'].unique()\n",
    "print(tribal_indicator)"
   ]
  },
  {
   "cell_type": "code",
   "execution_count": 42,
   "metadata": {
    "execution": {
     "iopub.execute_input": "2024-04-29T21:32:41.748835Z",
     "iopub.status.busy": "2024-04-29T21:32:41.748169Z",
     "iopub.status.idle": "2024-04-29T21:32:41.763353Z",
     "shell.execute_reply": "2024-04-29T21:32:41.762050Z",
     "shell.execute_reply.started": "2024-04-29T21:32:41.748804Z"
    }
   },
   "outputs": [],
   "source": [
    "# running the filter county function to get rid of any non-CA county entries\n",
    "filtered_hazard_mitigation, omitted_rows = filter_counties(hazard_mitigation_columns, 'county')"
   ]
  },
  {
   "cell_type": "markdown",
   "metadata": {},
   "source": [
    "#### Looking to see how many total recipient_tribal_indicator's are in the filtered dataset\n",
    "* our final total_tribal_recipient_count should total to 52"
   ]
  },
  {
   "cell_type": "code",
   "execution_count": null,
   "metadata": {
    "execution": {
     "iopub.execute_input": "2024-04-29T21:32:50.130428Z",
     "iopub.status.busy": "2024-04-29T21:32:50.129320Z",
     "iopub.status.idle": "2024-04-29T21:32:50.152424Z",
     "shell.execute_reply": "2024-04-29T21:32:50.151546Z",
     "shell.execute_reply.started": "2024-04-29T21:32:50.130354Z"
    }
   },
   "outputs": [],
   "source": [
    "count_tribal_indicators = filtered_hazard_mitigation['recipient_tribal_indicator'] == 1.0\n",
    "rows_with_one = filtered_hazard_mitigation[count_tribal_indicators]\n",
    "print(len(rows_with_one))\n",
    "rows_with_one.head()"
   ]
  },
  {
   "cell_type": "code",
   "execution_count": null,
   "metadata": {
    "execution": {
     "iopub.execute_input": "2024-04-29T21:32:51.354665Z",
     "iopub.status.busy": "2024-04-29T21:32:51.353993Z",
     "iopub.status.idle": "2024-04-29T21:32:51.375550Z",
     "shell.execute_reply": "2024-04-29T21:32:51.374489Z",
     "shell.execute_reply.started": "2024-04-29T21:32:51.354632Z"
    }
   },
   "outputs": [],
   "source": [
    "filtered_hazard_mitigation"
   ]
  },
  {
   "cell_type": "markdown",
   "metadata": {},
   "source": [
    "#### Count the total number of times a county is funded\n",
    "* doing this before grouping data and will maintain the values"
   ]
  },
  {
   "cell_type": "code",
   "execution_count": null,
   "metadata": {
    "execution": {
     "iopub.execute_input": "2024-04-29T21:32:59.333283Z",
     "iopub.status.busy": "2024-04-29T21:32:59.332620Z",
     "iopub.status.idle": "2024-04-29T21:32:59.358156Z",
     "shell.execute_reply": "2024-04-29T21:32:59.355957Z",
     "shell.execute_reply.started": "2024-04-29T21:32:59.333250Z"
    }
   },
   "outputs": [],
   "source": [
    "filtered_hazard_mitigation = filtered_hazard_mitigation.copy()\n",
    "filtered_hazard_mitigation.loc[:, 'total_times_funded'] = filtered_hazard_mitigation.groupby('county')['county'].transform('count')\n",
    "\n",
    "filtered_hazard_mitigation.tail(5)"
   ]
  },
  {
   "cell_type": "markdown",
   "metadata": {},
   "source": [
    "#### Looking at Riverside\n",
    "* checking how many tribal indicators it has to fact check resulting values"
   ]
  },
  {
   "cell_type": "code",
   "execution_count": 46,
   "metadata": {
    "execution": {
     "iopub.execute_input": "2024-04-29T21:33:05.494673Z",
     "iopub.status.busy": "2024-04-29T21:33:05.493976Z",
     "iopub.status.idle": "2024-04-29T21:33:05.505683Z",
     "shell.execute_reply": "2024-04-29T21:33:05.502917Z",
     "shell.execute_reply.started": "2024-04-29T21:33:05.494642Z"
    }
   },
   "outputs": [],
   "source": [
    "riverside = filtered_hazard_mitigation[filtered_hazard_mitigation['county'] == 'Riverside']"
   ]
  },
  {
   "cell_type": "code",
   "execution_count": null,
   "metadata": {
    "execution": {
     "iopub.execute_input": "2024-04-29T21:33:05.932746Z",
     "iopub.status.busy": "2024-04-29T21:33:05.932034Z",
     "iopub.status.idle": "2024-04-29T21:33:05.952148Z",
     "shell.execute_reply": "2024-04-29T21:33:05.951101Z",
     "shell.execute_reply.started": "2024-04-29T21:33:05.932701Z"
    }
   },
   "outputs": [],
   "source": [
    "print(len(riverside))\n",
    "riverside.tail(5)"
   ]
  },
  {
   "cell_type": "code",
   "execution_count": null,
   "metadata": {
    "execution": {
     "iopub.execute_input": "2024-04-29T21:33:08.731169Z",
     "iopub.status.busy": "2024-04-29T21:33:08.730458Z",
     "iopub.status.idle": "2024-04-29T21:33:08.753613Z",
     "shell.execute_reply": "2024-04-29T21:33:08.752524Z",
     "shell.execute_reply.started": "2024-04-29T21:33:08.731136Z"
    }
   },
   "outputs": [],
   "source": [
    "tribe_count = riverside['subrecipient_tribal_indicator'] == 1.0\n",
    "rows_with_one = riverside[tribe_count]\n",
    "print(len(rows_with_one))\n",
    "rows_with_one.head(5)"
   ]
  },
  {
   "cell_type": "markdown",
   "metadata": {},
   "source": [
    "#### Group by county\n",
    "* utilize a function to assign values if any rows indicate indigenous funding"
   ]
  },
  {
   "cell_type": "code",
   "execution_count": null,
   "metadata": {
    "execution": {
     "iopub.execute_input": "2024-04-29T21:33:52.781252Z",
     "iopub.status.busy": "2024-04-29T21:33:52.780568Z",
     "iopub.status.idle": "2024-04-29T21:33:52.898684Z",
     "shell.execute_reply": "2024-04-29T21:33:52.898290Z",
     "shell.execute_reply.started": "2024-04-29T21:33:52.781219Z"
    }
   },
   "outputs": [],
   "source": [
    "# count occurrences of 1.0\n",
    "def tribal_indicator_agg(series):\n",
    "    return (series == 1.0).sum()\n",
    "# function to return the first value of total_times_funded per when grouping per county\n",
    "def first_value(series):\n",
    "    return series.iloc[0]\n",
    "\n",
    "summed_hazard_mitigation = filtered_hazard_mitigation.groupby(['county', 'funding_year']).agg({\n",
    "    'project_amount': 'sum',\n",
    "    'recipient_tribal_indicator': tribal_indicator_agg,\n",
    "    'subrecipient_tribal_indicator': tribal_indicator_agg,\n",
    "    'total_times_funded' : first_value\n",
    "}).reset_index()\n",
    "\n",
    "summed_hazard_mitigation.head(5)"
   ]
  },
  {
   "cell_type": "code",
   "execution_count": 50,
   "metadata": {},
   "outputs": [],
   "source": [
    "# same process, just grouping further to get total funding per county for the duration of the study\n",
    "final_hazard_mitigation_funding = summed_hazard_mitigation.groupby(['county']).agg({\n",
    "    'project_amount': 'sum',\n",
    "    'recipient_tribal_indicator': 'sum',\n",
    "    'subrecipient_tribal_indicator': 'sum',\n",
    "    'total_times_funded': first_value\n",
    "}).reset_index()\n",
    "final_hazard_mitigation_funding.rename(columns={'project_amount': 'funding_1990_2023',\n",
    "                                        'recipient_tribal_indicator': 'total_tribal_recipient_count',\n",
    "                                        'subrecipient_tribal_indicator': 'total_tribal_subrecipient_count'}, inplace=True)"
   ]
  },
  {
   "cell_type": "code",
   "execution_count": null,
   "metadata": {},
   "outputs": [],
   "source": [
    "final_hazard_mitigation_funding.head()"
   ]
  },
  {
   "cell_type": "code",
   "execution_count": 52,
   "metadata": {},
   "outputs": [],
   "source": [
    "county_tract = \"s3://ca-climate-index/0_map_data/ca_tract_county_population_2021.csv\"\n",
    "ca_county_tract = pd.read_csv(county_tract)\n",
    "ca_county_tract = ca_county_tract.rename(columns={'Census Tract': 'census_tract', 'County':'county'})\n",
    "ca_county_tract = ca_county_tract.drop(columns={'Unnamed: 0', 'COUNTYFP', 'Total Population 2021'})"
   ]
  },
  {
   "cell_type": "code",
   "execution_count": 53,
   "metadata": {},
   "outputs": [],
   "source": [
    "merged_hazard_mitigation = pd.merge(ca_county_tract, final_hazard_mitigation_funding, on='county', how='left')\n",
    "\n",
    "merged_hazard_mitigation = merged_hazard_mitigation.rename(columns={'funding_1990_2023':'total_hazard_mitigation_funding'})\n",
    "\n",
    "# Move column 'total_hazard_mitigation_funding' to the end\n",
    "column_to_move = 'total_hazard_mitigation_funding'\n",
    "merged_hazard_mitigation = merged_hazard_mitigation[[col for col in merged_hazard_mitigation.columns if col != column_to_move] + [column_to_move]]"
   ]
  },
  {
   "cell_type": "code",
   "execution_count": null,
   "metadata": {},
   "outputs": [],
   "source": [
    "merged_hazard_mitigation"
   ]
  },
  {
   "cell_type": "code",
   "execution_count": 55,
   "metadata": {},
   "outputs": [],
   "source": [
    "# Saving metric df to .csv file\n",
    "merged_hazard_mitigation.to_csv('governance_hazard_mitigation_metric.csv')"
   ]
  },
  {
   "cell_type": "markdown",
   "metadata": {},
   "source": [
    "### Function call for this metric"
   ]
  },
  {
   "cell_type": "code",
   "execution_count": 56,
   "metadata": {
    "execution": {
     "iopub.execute_input": "2024-04-29T21:36:37.058448Z",
     "iopub.status.busy": "2024-04-29T21:36:37.057087Z",
     "iopub.status.idle": "2024-04-29T21:36:37.081081Z",
     "shell.execute_reply": "2024-04-29T21:36:37.079851Z",
     "shell.execute_reply.started": "2024-04-29T21:36:37.058361Z"
    }
   },
   "outputs": [],
   "source": [
    "@append_metadata\n",
    "def upload_emergency_management_funding(input_csv, export=False, varname=''):\n",
    "    '''\n",
    "    Uploads csv containing the total amount of hazard mitigation funding received per CA county between \n",
    "    1990-2023 from FEMA: \n",
    "    https://www.fema.gov/openfema-data-page/hazard-mitigation-assistance-projects-v3\n",
    "\n",
    "    Methods\n",
    "    -------\n",
    "    Data was cleaned to isolate funding for California counties.\n",
    "    Funding from 1990-2023 was summed per county. \n",
    "    Columns indicating number of tribal recipients are also retained for transparency.\n",
    "\n",
    "    Parameters\n",
    "    ----------\n",
    "    df: string\n",
    "        the dataframe containing the initial hazard mitigation funding data\n",
    "    export: True/False boolean\n",
    "        False = will not upload resulting df containing CAL CRAI hazard mitigation funding metric to AWS\n",
    "        True = will upload resulting df containing CAL CRAI emergency hazard mitigation funding metric to AWS\n",
    "    export_filename: string\n",
    "        name of the csv file to be uploaded to AWS\n",
    "\n",
    "    Script\n",
    "    ------\n",
    "    governance_hazard_mitigation_funding.ipynb\n",
    "\n",
    "    Note:\n",
    "    This function assumes users have configured the AWS CLI such that their access key / secret key pair are \n",
    "    stored in ~/.aws/credentials.\n",
    "    See https://docs.aws.amazon.com/cli/latest/userguide/getting-started-install.html for guidance.\n",
    "    '''\n",
    "\n",
    "    print('Data transformation: selecting and renaming relevant columns including indicators if funding was recieved by tribes.')\n",
    "    print('Data transformation: apply \"filter_counties\" to county column to isolate CA counties.')\n",
    "    print('Data transformation: dropping all columns with recipients labeled \"statewide\" due to lack of clarity as to distribution at county/census tract scale.')\n",
    "    print('Data transformation: adding a column that maintains the total times a county was funded.')\n",
    "    print('Data transformation: group the data by county and sum funding from 1990-2023.')\n",
    "    print('Data transformation: count the number of times funding was recieved by a tribe per county.')\n",
    "\n",
    "    if export == True:\n",
    "        bucket_name = 'ca-climate-index'\n",
    "        directory = '3_fair_data/index_data'\n",
    "        export_filename = [input_csv]\n",
    "        upload_csv_aws(export_filename, bucket_name, directory)\n",
    "\n",
    "    if export == False:\n",
    "        print(f'{os.path.basename(input_csv)} uploaded to AWS.')"
   ]
  },
  {
   "cell_type": "code",
   "execution_count": 57,
   "metadata": {},
   "outputs": [],
   "source": [
    "filenames = [\n",
    "            'governance_hazard_mitigation_metric.csv'\n",
    "]\n",
    "\n",
    "varnames = [\n",
    "            'governance_fema_hazard_mitigation'\n",
    "]\n",
    "\n",
    "# Process the data and export\n",
    "for filename, varname in zip(filenames, varnames):\n",
    "    upload_emergency_management_funding(filename, export=True, varname='test') #varname)\n",
    "    if os.path.exists(filename):\n",
    "        os.remove(filename)"
   ]
  }
 ],
 "metadata": {
  "kernelspec": {
   "display_name": "Python 3 (ipykernel)",
   "language": "python",
   "name": "python3"
  },
  "language_info": {
   "codemirror_mode": {
    "name": "ipython",
    "version": 3
   },
   "file_extension": ".py",
   "mimetype": "text/x-python",
   "name": "python",
   "nbconvert_exporter": "python",
   "pygments_lexer": "ipython3",
   "version": "3.9.18"
  }
 },
 "nbformat": 4,
 "nbformat_minor": 4
}
