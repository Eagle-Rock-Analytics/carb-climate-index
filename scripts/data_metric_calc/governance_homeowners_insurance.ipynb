{
 "cells": [
  {
   "cell_type": "markdown",
   "metadata": {},
   "source": [
    "## Governance Domain: Mortgage Percentage among Homeowners Metric Calculation\n",
    "* % of homeowners with a mortgage"
   ]
  },
  {
   "cell_type": "code",
   "execution_count": 1,
   "metadata": {},
   "outputs": [],
   "source": [
    "import pandas as pd\n",
    "import os\n",
    "import sys\n",
    "import numpy as np\n",
    "\n",
    "# suppress pandas purely educational warnings\n",
    "from warnings import simplefilter\n",
    "simplefilter(action=\"ignore\", category=pd.errors.PerformanceWarning)\n",
    "\n",
    "sys.path.append(os.path.expanduser('../../'))\n",
    "from scripts.utils.file_helpers import pull_csv_from_directory, upload_csv_aws, filter_counties\n",
    "from scripts.utils.write_metadata import append_metadata"
   ]
  },
  {
   "cell_type": "code",
   "execution_count": null,
   "metadata": {},
   "outputs": [],
   "source": [
    "# pull csv from aws\n",
    "bucket_name = 'ca-climate-index'\n",
    "aws_dir = '1_pull_data/governance/personal_preparedness/american_community_survey/'\n",
    "\n",
    "pull_csv_from_directory(bucket_name, aws_dir, search_zipped=False)"
   ]
  },
  {
   "cell_type": "code",
   "execution_count": null,
   "metadata": {},
   "outputs": [],
   "source": [
    "homeowners_insurance_data_county = pd.read_csv('by_county.csv')\n",
    "print(len(homeowners_insurance_data_county))\n",
    "homeowners_insurance_data_county = homeowners_insurance_data_county.rename(columns={'Label (Grouping)':'index'})\n",
    "homeowners_insurance_data_county = homeowners_insurance_data_county[1:]\n",
    "homeowners_insurance_data_county.head(5)\n",
    "\n",
    "# os.remove('by_county.csv')"
   ]
  },
  {
   "cell_type": "code",
   "execution_count": null,
   "metadata": {},
   "outputs": [],
   "source": [
    "# Transpose the DataFrame\n",
    "homeowners_insurance_data_county_transpose = homeowners_insurance_data_county.set_index('index').T.reset_index()\n",
    "\n",
    "homeowners_insurance_data_county_transpose"
   ]
  },
  {
   "cell_type": "code",
   "execution_count": null,
   "metadata": {},
   "outputs": [],
   "source": [
    "homeowners_insurance_data_county_transpose.columns"
   ]
  },
  {
   "cell_type": "code",
   "execution_count": null,
   "metadata": {},
   "outputs": [],
   "source": [
    "# retain one of the columns after transposing\n",
    "# really strange how the names change to multiple '\\xa0' before the name after transposing \n",
    "columns = [\n",
    "    'index',\n",
    "    '\\xa0\\xa0\\xa0\\xa0\\xa0\\xa0\\xa0\\xa0Housing units with a mortgage']\n",
    "# Select the specified columns\n",
    "homeowners_insurance_county_columns = homeowners_insurance_data_county_transpose[columns]\n",
    "homeowners_insurance_county_columns = homeowners_insurance_county_columns.rename(columns={'MORTGAGE STATUS':'mortgage_status', '\\xa0\\xa0\\xa0\\xa0\\xa0\\xa0\\xa0\\xa0Housing units with a mortgage':'housing_units_with_mortgage', 'index':'county'})\n",
    "# Display the selected columns\n",
    "homeowners_insurance_county_columns.head()"
   ]
  },
  {
   "cell_type": "code",
   "execution_count": null,
   "metadata": {},
   "outputs": [],
   "source": [
    "homeowners_insurance_county_columns.columns"
   ]
  },
  {
   "cell_type": "code",
   "execution_count": null,
   "metadata": {},
   "outputs": [],
   "source": [
    "homeowners_insurance_county_columns"
   ]
  },
  {
   "cell_type": "code",
   "execution_count": null,
   "metadata": {},
   "outputs": [],
   "source": [
    "# get rid of extra, non-percentage data entries\n",
    "filtered_county_mortgage = homeowners_insurance_county_columns[~homeowners_insurance_county_columns['county'].str.contains('Margin|Estimate')]\n",
    "\n",
    "print(len(filtered_county_mortgage))\n",
    "filtered_county_mortgage.head()"
   ]
  },
  {
   "cell_type": "code",
   "execution_count": null,
   "metadata": {},
   "outputs": [],
   "source": [
    "# Filter and remove \" County, California!!Percent\" from 'county' column to isolate county name\n",
    "filtered_county_mortgage = filtered_county_mortgage[~filtered_county_mortgage['county'].str.contains('Margin')]\n",
    "filtered_county_mortgage['county'] = filtered_county_mortgage['county'].str.replace(' County, California!!Percent', '')\n",
    "\n",
    "print(len(filtered_county_mortgage))\n",
    "filtered_county_mortgage.head(50)"
   ]
  },
  {
   "cell_type": "code",
   "execution_count": null,
   "metadata": {},
   "outputs": [],
   "source": [
    "# pull census tract data for merging\n",
    "county_tract = \"s3://ca-climate-index/0_map_data/ca_tracts_county.csv\"\n",
    "ca_county_tract = pd.read_csv(county_tract)\n",
    "ca_county_tract = ca_county_tract.rename(columns={'TRACT': 'census_tract'})\n",
    "ca_county_tract = ca_county_tract.rename(columns={'County': 'county'})\n",
    "ca_county_tract = ca_county_tract.drop(columns={'Unnamed: 0','COUNTYFP'})\n",
    "\n",
    "ca_county_tract"
   ]
  },
  {
   "cell_type": "code",
   "execution_count": null,
   "metadata": {},
   "outputs": [],
   "source": [
    "# merge data with tract data\n",
    "merged_homeowners = pd.merge(ca_county_tract, filtered_county_mortgage, on='county', how='left')\n",
    "\n",
    "# replace 'N' entry with nan\n",
    "merged_homeowners['housing_units_with_mortgage'].replace('N', np.nan, inplace=True)\n",
    "\n",
    "merged_homeowners['housing_units_with_mortgage'] = merged_homeowners['housing_units_with_mortgage'].replace('%', '', regex=True).astype(float)\n",
    "\n",
    "merged_homeowners"
   ]
  },
  {
   "cell_type": "code",
   "execution_count": null,
   "metadata": {},
   "outputs": [],
   "source": [
    "unique_values = merged_homeowners['housing_units_with_mortgage'].unique()\n",
    "unique_values"
   ]
  },
  {
   "cell_type": "code",
   "execution_count": null,
   "metadata": {},
   "outputs": [],
   "source": [
    "# checking counties that werent included in the dataset showed up as NaN\n",
    "alpine = merged_homeowners[merged_homeowners['county']=='Amador']\n",
    "alpine"
   ]
  },
  {
   "cell_type": "code",
   "execution_count": 20,
   "metadata": {},
   "outputs": [],
   "source": [
    "merged_homeowners.to_csv('governance_morgage_metric.csv')"
   ]
  },
  {
   "cell_type": "code",
   "execution_count": null,
   "metadata": {},
   "outputs": [],
   "source": [
    "merged_homeowners"
   ]
  },
  {
   "cell_type": "markdown",
   "metadata": {},
   "source": [
    "## Function Call"
   ]
  },
  {
   "cell_type": "code",
   "execution_count": 25,
   "metadata": {},
   "outputs": [],
   "source": [
    "@append_metadata\n",
    "def governance_mortgage_upload(input_csv, export=False, varname=\"\"):  \n",
    "    '''\n",
    "    The function uploads a CSV file of the percentage of homeowners with mortgages to S3. Data was sources from the American Community Survey (ACS). Data code is: DP05\n",
    "\n",
    "    Parameters\n",
    "    ----------\n",
    "    input_csv: str\n",
    "        calculated metric csv\n",
    "    export: bool, optional\n",
    "        True to upload csv to AWS, False otherwise.\n",
    "\n",
    "    Methods\n",
    "    --------\n",
    "    Relevant columns for the Cal-CRAI metric were isolated from the original dataset.\n",
    "    Entries within rows were converted to columns for better metric entry/visualization.\n",
    "    Data entries were renamed for better transparency.\n",
    "    Cal-CRAI tracts were merged in with the county level data, assiging mortage percentages to each tract within its repective county.\n",
    "    Missing data is kept as is (i.e., \"NaN\") to avoid misrepresentation by setting to zero.\n",
    "\n",
    "    Script\n",
    "    ------\n",
    "    governance_homeowners_insurance.ipynb\n",
    "\n",
    "    Note\n",
    "    ------\n",
    "    This function assumes users have configured the AWS CLI such that their access key / \n",
    "    secret key pair are stored in ~/.aws/credentials. \n",
    "    See https://docs.aws.amazon.com/cli/latest/userguide/getting-started-install.html for guidance.\n",
    "    ''' \n",
    "    print('Data transformation: eliminate excess headers and columns not relevant to metric calculation.')\n",
    "    print('Data transformation: rename and adjust column entires to maintain cleaning standardization.')\n",
    "    print('Data transformation: flatten data so metric variables become columns.')\n",
    "    print('Data transformation: assign non-percentage values as nan.')\n",
    "\n",
    "    if export == True:\n",
    "        # pull csv from aws\n",
    "        bucket_name = 'ca-climate-index'\n",
    "        upload_csv_aws([input_csv], bucket_name, '3_fair_data/index_data')\n",
    "\n",
    "    if export == False:\n",
    "        print(f'{input_csv} uploaded to AWS.')\n",
    "\n",
    "       # os.remove(input_csv)  # Remove local file after upload"
   ]
  },
  {
   "cell_type": "code",
   "execution_count": 26,
   "metadata": {},
   "outputs": [],
   "source": [
    "input_csv = 'governance_morgage_metric.csv'\n",
    "variable = 'governance_acs_homeowners_insurance'\n",
    "\n",
    "governance_mortgage_upload(input_csv, export=True, varname='test')"
   ]
  }
 ],
 "metadata": {
  "kernelspec": {
   "display_name": "carb",
   "language": "python",
   "name": "python3"
  },
  "language_info": {
   "codemirror_mode": {
    "name": "ipython",
    "version": 3
   },
   "file_extension": ".py",
   "mimetype": "text/x-python",
   "name": "python",
   "nbconvert_exporter": "python",
   "pygments_lexer": "ipython3",
   "version": "3.9.18"
  }
 },
 "nbformat": 4,
 "nbformat_minor": 2
}
