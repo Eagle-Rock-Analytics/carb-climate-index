{
 "cells": [
  {
   "cell_type": "markdown",
   "metadata": {},
   "source": [
    "## This notebook shows an example of how to transform data from 2010 census tracts to 2020 tracts using sjoin_nearest \n",
    "* This is a proposed method approach for handling raw input data originally on census tract scale, but at an older (e.g., 2010) boundary set\n",
    "* E.g., CalEnviroscreen data\n",
    "\n",
    "**Note**: Make sure to clear the output from this notebook before merging any updates, as the display of data creates a massive output (on the order of 200MB) which breaks github storage limits per file."
   ]
  },
  {
   "cell_type": "code",
   "execution_count": null,
   "metadata": {},
   "outputs": [],
   "source": [
    "import pandas as pd\n",
    "import os\n",
    "import sys\n",
    "import math\n",
    "import numpy as np\n",
    "import geopandas as gpd\n",
    "\n",
    "# suppress pandas purely educational warnings\n",
    "from warnings import simplefilter\n",
    "simplefilter(action=\"ignore\", category=pd.errors.PerformanceWarning)\n",
    "\n",
    "sys.path.append(os.path.expanduser('../../'))\n",
    "from scripts.utils.file_helpers import pull_csv_from_directory, upload_csv_aws, filter_counties\n",
    "from scripts.utils.write_metadata import append_metadata"
   ]
  },
  {
   "cell_type": "code",
   "execution_count": null,
   "metadata": {},
   "outputs": [],
   "source": [
    "# pull .xlsx from aws\n",
    "enviroscreen_excel = 's3://ca-climate-index/1_pull_data/society_economy/vulnerable_populations/ca_enviro_screen/calenviroscreen.xlsx'\n",
    "enviroscreen_data = pd.read_excel(enviroscreen_excel)\n",
    "enviroscreen_data = enviroscreen_data[['Census Tract', \n",
    "                                              'California County', \n",
    "                                              'Total Population', \n",
    "                                                'Asthma',\n",
    "                                                'Low Birth Weight', \n",
    "                                                'Cardiovascular Disease', \n",
    "                                                'Education', \n",
    "                                                'Linguistic Isolation',\n",
    "                                                'Poverty',\n",
    "                                                'Unemployment', \n",
    "                                                'Housing Burden', \n",
    "                                                'Imp. Water Bodies'\n",
    "                                                ]]\n",
    "enviroscreen_data = enviroscreen_data.rename(columns={'Census Tract':\"GEOID\"})\n",
    "\n",
    "# read in CA census tiger file\n",
    "old_census_path = \"s3://ca-climate-index/0_map_data/tl_2017_06_tract/\"\n",
    "ca_old = gpd.read_file(old_census_path)\n",
    "ca_old['GEOID'] = pd.to_numeric(ca_old.GEOID)\n",
    "ca_old = ca_old[[\"GEOID\",\"geometry\"]]\n",
    "\n",
    "enviroscreen_data = pd.merge(ca_old,enviroscreen_data,on=\"GEOID\")\n",
    "enviroscreen_data = gpd.GeoDataFrame(enviroscreen_data, geometry=\"geometry\")"
   ]
  },
  {
   "cell_type": "code",
   "execution_count": null,
   "metadata": {},
   "outputs": [],
   "source": [
    "# read in CA census tiger file\n",
    "census_shp_dir = \"s3://ca-climate-index/0_map_data/2021_tiger_census_tract/2021_ca_tract/\"\n",
    "\n",
    "ca_boundaries = gpd.read_file(census_shp_dir)\n",
    "# need to rename columns so we don't have any duplicates in the final geodatabase\n",
    "column_names = ca_boundaries.columns\n",
    "new_column_names = [\"USCB_\"+column for column in column_names if column != \"geometry\"]\n",
    "ca_boundaries = ca_boundaries.rename(columns=dict(zip(column_names, new_column_names)))\n",
    "# drop unnecessary columns\n",
    "ca_boundaries = ca_boundaries[[\"geometry\",\"USCB_GEOID\"]]\n",
    "ca_boundaries"
   ]
  },
  {
   "cell_type": "markdown",
   "metadata": {},
   "source": [
    "### A key step: we need to reproject from lat-lon data to x-y, otherwise the distance calculations from old > new census tracts will be extremely inaccurate."
   ]
  },
  {
   "cell_type": "code",
   "execution_count": null,
   "metadata": {},
   "outputs": [],
   "source": [
    "enviroscreen_data = enviroscreen_data.to_crs(crs=3857) \n",
    "ca_boundaries = ca_boundaries.to_crs(crs=3857) "
   ]
  },
  {
   "cell_type": "markdown",
   "metadata": {},
   "source": [
    "### Now the code calculates the distances between old and new tracts. A distance of 0 means that a new tract's boundaries exist within the older one's. The presence of many more geometries than tracts occurs when multiple old tracts are equidistant to a new tract. We only search within a max distance of 5 km. This results in dropping one new tract (Farallon Islands; GEOID 06075980401), since the closest of the 2010 tracts is 25 km away from it. Otherwise all distances are 0, since old and new boundaries are nested within each other in some way: \n",
    "1. Two or more old ones are combined to make a new one.\n",
    "2. An old one is split into two or more.\n",
    "3. A new one is made by merging portions of two or more old ones."
   ]
  },
  {
   "cell_type": "code",
   "execution_count": null,
   "metadata": {},
   "outputs": [],
   "source": [
    "joined_df = gpd.sjoin_nearest(\n",
    "    ca_boundaries, enviroscreen_data, \n",
    "    how=\"inner\", distance_col=\"distances\", \n",
    "    max_distance=5000\n",
    ")\n",
    "joined_df"
   ]
  },
  {
   "cell_type": "code",
   "execution_count": null,
   "metadata": {},
   "outputs": [],
   "source": [
    "data_vars = ['Asthma',\n",
    "            'Low Birth Weight', \n",
    "            'Cardiovascular Disease', \n",
    "            'Education', \n",
    "            'Linguistic Isolation',\n",
    "            'Poverty',\n",
    "            'Unemployment', \n",
    "            'Housing Burden', \n",
    "            'Imp. Water Bodies' # probably not a use case here though\n",
    "            ]\n",
    "# now take the average of the tracts which now exist in the new tract\n",
    "joined_avg_df = joined_df.groupby(['USCB_GEOID','geometry'])[data_vars].mean().reset_index()\n",
    "calenviroscreen_new_tracts = gpd.GeoDataFrame(joined_avg_df, geometry='geometry')\n",
    "calenviroscreen_new_tracts"
   ]
  },
  {
   "cell_type": "markdown",
   "metadata": {},
   "source": [
    "### Explore the data"
   ]
  },
  {
   "cell_type": "code",
   "execution_count": null,
   "metadata": {},
   "outputs": [],
   "source": [
    "gdf_new_tracts.explore(column=\"Asthma\")"
   ]
  },
  {
   "cell_type": "markdown",
   "metadata": {},
   "source": [
    "### Explore the original data for reference"
   ]
  },
  {
   "cell_type": "code",
   "execution_count": null,
   "metadata": {
    "scrolled": true
   },
   "outputs": [],
   "source": [
    "enviroscreen_data.explore(column=\"Asthma\")"
   ]
  },
  {
   "cell_type": "markdown",
   "metadata": {},
   "source": [
    "### One problem: The joining ends up averaging even when a census tract has not changed. \n",
    "* Proposed solution is to infill with the original data in these cases\n",
    "* Perform a check between new and old data, and infill with original data where appropriate"
   ]
  }
 ],
 "metadata": {
  "kernelspec": {
   "display_name": "Python 3 (ipykernel)",
   "language": "python",
   "name": "python3"
  },
  "language_info": {
   "codemirror_mode": {
    "name": "ipython",
    "version": 3
   },
   "file_extension": ".py",
   "mimetype": "text/x-python",
   "name": "python",
   "nbconvert_exporter": "python",
   "pygments_lexer": "ipython3",
   "version": "3.9.18"
  }
 },
 "nbformat": 4,
 "nbformat_minor": 4
}
