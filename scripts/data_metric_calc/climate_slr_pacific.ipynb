{
 "cells": [
  {
   "cell_type": "markdown",
   "metadata": {},
   "source": [
    "## Cal-CRAI Metric Calculation\n",
    "Domain: Climate Risks \\\n",
    "Indicator: Sea Level Rise Exposure\n",
    "\n",
    "This notebook calculates 8 metrics, sourced from Pacific Institute:\n",
    "* Metric 1: Delta percent change in slr tract vulnerablility between 2000 and 2100\n",
    "* Metric 2: Number of exposed buildings\n",
    "* Metric 3: Monetrary value of replacing buildings & contents\n",
    "* Metric 4: Delta change in number of fire stations vulnerable to sea level rise between baseline and 1.4m rise conditions\n",
    "* Metric 5: Delta change in number of police stations vulnerable to sea level rise between baseline and 1.4m rise conditions\n",
    "* Metric 6: Delta change in number of schools vulnerable to sea level rise between baseline and 1.4m rise conditions\n",
    "* Metric 7: Delta change in number of hospitals vulnerable to sea level rise between baseline and 1.4m rise conditions\n",
    "* Metric 8: Number of wastewater treatment plants vulnerable to sea level rise under 1.4m rise conditions\n",
    "\n",
    "Note: All layers will have a SLR mask applied in the 'climate hazard score' notebook to ensure that coastal impacts are focused on. More info on the SLR mask found here: `climate_slr_mask_layer.ipynb`"
   ]
  },
  {
   "cell_type": "code",
   "execution_count": 1,
   "metadata": {
    "execution": {
     "iopub.execute_input": "2024-10-17T20:52:25.479648Z",
     "iopub.status.busy": "2024-10-17T20:52:25.478703Z",
     "iopub.status.idle": "2024-10-17T20:52:26.438855Z",
     "shell.execute_reply": "2024-10-17T20:52:26.438395Z",
     "shell.execute_reply.started": "2024-10-17T20:52:25.479581Z"
    }
   },
   "outputs": [],
   "source": [
    "import pandas as pd\n",
    "import os\n",
    "import sys\n",
    "import boto3\n",
    "import io\n",
    "import geopandas as gpd\n",
    "import numpy as np\n",
    "\n",
    "# suppress pandas purely educational warnings\n",
    "from warnings import simplefilter\n",
    "simplefilter(action=\"ignore\", category=pd.errors.PerformanceWarning)\n",
    "\n",
    "sys.path.append(os.path.expanduser('../../'))\n",
    "from scripts.utils.file_helpers import pull_gpkg_from_directory, pull_csv_from_directory, upload_csv_aws\n",
    "from scripts.utils.write_metadata import append_metadata\n",
    "from scripts.utils.calculate_index import add_census_tracts"
   ]
  },
  {
   "cell_type": "code",
   "execution_count": null,
   "metadata": {
    "execution": {
     "iopub.execute_input": "2024-10-17T20:52:26.440014Z",
     "iopub.status.busy": "2024-10-17T20:52:26.439770Z",
     "iopub.status.idle": "2024-10-17T20:52:30.496634Z",
     "shell.execute_reply": "2024-10-17T20:52:30.496144Z",
     "shell.execute_reply.started": "2024-10-17T20:52:26.440001Z"
    }
   },
   "outputs": [],
   "source": [
    "# pull csv from aws\n",
    "bucket_name = 'ca-climate-index'\n",
    "aws_dir = '2b_reproject/climate_risk/sea_level_rise/exposure/projections/pacific_institute/'\n",
    "output_folder = 'csv_folder'\n",
    "\n",
    "pull_gpkg_from_directory(bucket_name, aws_dir)\n",
    "pull_csv_from_directory(bucket_name, aws_dir, output_folder, search_zipped=False)"
   ]
  },
  {
   "cell_type": "code",
   "execution_count": null,
   "metadata": {
    "execution": {
     "iopub.execute_input": "2024-10-17T20:52:30.497548Z",
     "iopub.status.busy": "2024-10-17T20:52:30.497286Z",
     "iopub.status.idle": "2024-10-17T20:52:34.837090Z",
     "shell.execute_reply": "2024-10-17T20:52:34.836740Z",
     "shell.execute_reply.started": "2024-10-17T20:52:30.497519Z"
    }
   },
   "outputs": [],
   "source": [
    "# pull csv from aws\n",
    "bucket_name = 'ca-climate-index'\n",
    "aws_dir = '1_pull_data/climate_risk/sea_level_rise/exposure/projections/pacific_institute/'\n",
    "output_folder = 'csv_folder'\n",
    "\n",
    "pull_csv_from_directory(bucket_name, aws_dir, output_folder, search_zipped=False)"
   ]
  },
  {
   "cell_type": "markdown",
   "metadata": {},
   "source": [
    "### Metric 1: delta in % tract vulnerable to sea level rise between baseline and 1.4m rise conditions\n",
    "    * the data is at the census block level, so there are multiple entries for census tracts\n",
    "    * group by census tract and take the average percentage per tract"
   ]
  },
  {
   "cell_type": "code",
   "execution_count": null,
   "metadata": {
    "execution": {
     "iopub.execute_input": "2024-10-17T20:52:34.838435Z",
     "iopub.status.busy": "2024-10-17T20:52:34.838289Z",
     "iopub.status.idle": "2024-10-17T20:52:34.850741Z",
     "shell.execute_reply": "2024-10-17T20:52:34.850420Z",
     "shell.execute_reply.started": "2024-10-17T20:52:34.838426Z"
    }
   },
   "outputs": [],
   "source": [
    "census_vulnerable_slr_tracts = pd.read_csv(r'csv_folder/climate_pacific_institute_slr_exposure_census_vulnerability.csv')\n",
    "#os.remove('climate_pacific_institute_slr_exposure_census_vulnerability.csv')\n",
    "census_vulnerable_slr_tracts"
   ]
  },
  {
   "cell_type": "code",
   "execution_count": null,
   "metadata": {
    "execution": {
     "iopub.execute_input": "2024-10-17T20:52:34.851369Z",
     "iopub.status.busy": "2024-10-17T20:52:34.851255Z",
     "iopub.status.idle": "2024-10-17T20:52:34.857793Z",
     "shell.execute_reply": "2024-10-17T20:52:34.857465Z",
     "shell.execute_reply.started": "2024-10-17T20:52:34.851358Z"
    }
   },
   "outputs": [],
   "source": [
    "# select relevant columns\n",
    "slr_tracts_columns = census_vulnerable_slr_tracts[['CensusTract', 'Perc_2000', 'Perc_2100']]\n",
    "slr_tracts_columns = slr_tracts_columns.rename(columns={'CensusTract':'tract','Perc_2000':'percent_2000', 'Perc_2100':'percent_2100'})\n",
    "slr_tracts_columns"
   ]
  },
  {
   "cell_type": "code",
   "execution_count": null,
   "metadata": {
    "execution": {
     "iopub.execute_input": "2024-10-17T20:52:34.858564Z",
     "iopub.status.busy": "2024-10-17T20:52:34.858415Z",
     "iopub.status.idle": "2024-10-17T20:52:34.864694Z",
     "shell.execute_reply": "2024-10-17T20:52:34.864410Z",
     "shell.execute_reply.started": "2024-10-17T20:52:34.858553Z"
    }
   },
   "outputs": [],
   "source": [
    "# this data is at the census block scale so there are multiple repeat census tracts\n",
    "# census tracts are grouped together and have their percentage columns averaged\n",
    "slr_tracts_grouped = slr_tracts_columns.groupby('tract')[['percent_2000', 'percent_2100']].mean().reset_index()\n",
    "slr_tracts_grouped"
   ]
  },
  {
   "cell_type": "code",
   "execution_count": null,
   "metadata": {
    "execution": {
     "iopub.execute_input": "2024-10-17T20:52:34.865344Z",
     "iopub.status.busy": "2024-10-17T20:52:34.865232Z",
     "iopub.status.idle": "2024-10-17T20:52:34.867627Z",
     "shell.execute_reply": "2024-10-17T20:52:34.867317Z",
     "shell.execute_reply.started": "2024-10-17T20:52:34.865336Z"
    }
   },
   "outputs": [],
   "source": [
    "# looking at how many unique tracts there are\n",
    "unique = slr_tracts_grouped.tract.unique()\n",
    "print(len(unique))"
   ]
  },
  {
   "cell_type": "code",
   "execution_count": null,
   "metadata": {
    "execution": {
     "iopub.execute_input": "2024-10-17T20:52:34.868590Z",
     "iopub.status.busy": "2024-10-17T20:52:34.868427Z",
     "iopub.status.idle": "2024-10-17T20:52:36.594874Z",
     "shell.execute_reply": "2024-10-17T20:52:36.594498Z",
     "shell.execute_reply.started": "2024-10-17T20:52:34.868578Z"
    }
   },
   "outputs": [],
   "source": [
    "# read in CA census tiger file\n",
    "ca_tract_county = \"s3://ca-climate-index/0_map_data/ca_tracts_county.csv\"\n",
    "ca_tract_county = gpd.read_file(ca_tract_county)\n",
    "\n",
    "# adjust the columns and entries within so merging with slr data is easier\n",
    "ca_tract_county.columns = ca_tract_county.columns.str.lower()\n",
    "ca_tract_county = ca_tract_county.applymap(lambda s: s.lower() if type(s) == str else s)\n",
    "ca_tract_county = ca_tract_county.drop(columns={'field_1', 'countyfp'})\n",
    "if 'geometry' in ca_tract_county.columns:\n",
    "    ca_tract_county = ca_tract_county.drop(columns={'geometry'})\n",
    "\n",
    "# Remove leading zeros from the 'tract' column\n",
    "ca_tract_county['tract'] = ca_tract_county['tract'].str.lstrip('0')\n",
    "ca_tract_county"
   ]
  },
  {
   "cell_type": "code",
   "execution_count": null,
   "metadata": {
    "execution": {
     "iopub.execute_input": "2024-10-17T20:52:36.597035Z",
     "iopub.status.busy": "2024-10-17T20:52:36.596801Z",
     "iopub.status.idle": "2024-10-17T20:52:36.607372Z",
     "shell.execute_reply": "2024-10-17T20:52:36.606947Z",
     "shell.execute_reply.started": "2024-10-17T20:52:36.597022Z"
    }
   },
   "outputs": [],
   "source": [
    "# make sure columns are the same datatype\n",
    "ca_tract_county['tract'] = ca_tract_county['tract'].astype(str)\n",
    "slr_tracts_grouped['tract'] = slr_tracts_grouped['tract'].astype(str)\n",
    "\n",
    "# merge slr data with census tract data\n",
    "merged_slr_tracts = pd.merge(ca_tract_county, slr_tracts_grouped, on='tract', how='left')\n",
    "merged_slr_tracts"
   ]
  },
  {
   "cell_type": "code",
   "execution_count": null,
   "metadata": {
    "execution": {
     "iopub.execute_input": "2024-10-17T20:52:36.608266Z",
     "iopub.status.busy": "2024-10-17T20:52:36.608057Z",
     "iopub.status.idle": "2024-10-17T20:52:36.614693Z",
     "shell.execute_reply": "2024-10-17T20:52:36.614284Z",
     "shell.execute_reply.started": "2024-10-17T20:52:36.608254Z"
    }
   },
   "outputs": [],
   "source": [
    "metric_slr_tracts = merged_slr_tracts\n",
    "\n",
    "# calculate delta percent change between 2000 and 2100 columns\n",
    "metric_slr_tracts['delta_percentage_change'] = (merged_slr_tracts['percent_2100'] - merged_slr_tracts['percent_2000']) * 100\n",
    "metric_slr_tracts"
   ]
  },
  {
   "cell_type": "code",
   "execution_count": null,
   "metadata": {
    "execution": {
     "iopub.execute_input": "2024-10-17T20:52:36.615609Z",
     "iopub.status.busy": "2024-10-17T20:52:36.615491Z",
     "iopub.status.idle": "2024-10-17T20:52:36.619090Z",
     "shell.execute_reply": "2024-10-17T20:52:36.618725Z",
     "shell.execute_reply.started": "2024-10-17T20:52:36.615599Z"
    }
   },
   "outputs": [],
   "source": [
    "# Find the index of the maximum value in the delta column\n",
    "max_index = metric_slr_tracts['delta_percentage_change'].idxmax()\n",
    "\n",
    "# Retrieve the row corresponding to the maximum value\n",
    "max_row = metric_slr_tracts.loc[max_index]\n",
    "\n",
    "# Display the entire row\n",
    "print(max_row)"
   ]
  },
  {
   "cell_type": "code",
   "execution_count": 12,
   "metadata": {
    "execution": {
     "iopub.execute_input": "2024-10-17T20:52:36.619880Z",
     "iopub.status.busy": "2024-10-17T20:52:36.619697Z",
     "iopub.status.idle": "2024-10-17T20:52:36.622049Z",
     "shell.execute_reply": "2024-10-17T20:52:36.621735Z",
     "shell.execute_reply.started": "2024-10-17T20:52:36.619860Z"
    }
   },
   "outputs": [],
   "source": [
    "## apply the mask (utils/slr_mask_layer.csv')\n",
    "slr_coast_counties = ['001', '013', '015', '023', '037', '041', '045', '053', '055', '059', '067', '073', '075', '077', '079', '081', '083', '085', '087', '095', '097', '111', '113']"
   ]
  },
  {
   "cell_type": "code",
   "execution_count": null,
   "metadata": {
    "execution": {
     "iopub.execute_input": "2024-10-17T20:52:36.622706Z",
     "iopub.status.busy": "2024-10-17T20:52:36.622586Z",
     "iopub.status.idle": "2024-10-17T20:52:36.629980Z",
     "shell.execute_reply": "2024-10-17T20:52:36.629639Z",
     "shell.execute_reply.started": "2024-10-17T20:52:36.622697Z"
    }
   },
   "outputs": [],
   "source": [
    "# add geoid col for mask\n",
    "metric_slr_tracts['GEOID'] = '0' + metric_slr_tracts['tract']\n",
    "metric_slr_tracts"
   ]
  },
  {
   "cell_type": "code",
   "execution_count": null,
   "metadata": {
    "execution": {
     "iopub.execute_input": "2024-10-17T20:52:36.630521Z",
     "iopub.status.busy": "2024-10-17T20:52:36.630422Z",
     "iopub.status.idle": "2024-10-17T20:52:44.012463Z",
     "shell.execute_reply": "2024-10-17T20:52:44.012065Z",
     "shell.execute_reply.started": "2024-10-17T20:52:36.630512Z"
    }
   },
   "outputs": [],
   "source": [
    "# merged_slr_tracts['GEOID'] = '0' + merged_slr_tracts['tract']\n",
    "gdf = add_census_tracts(metric_slr_tracts)\n",
    "gdf.head(5)"
   ]
  },
  {
   "cell_type": "code",
   "execution_count": 15,
   "metadata": {
    "execution": {
     "iopub.execute_input": "2024-10-17T20:52:44.013096Z",
     "iopub.status.busy": "2024-10-17T20:52:44.012979Z",
     "iopub.status.idle": "2024-10-17T20:52:44.016554Z",
     "shell.execute_reply": "2024-10-17T20:52:44.016115Z",
     "shell.execute_reply.started": "2024-10-17T20:52:44.013086Z"
    }
   },
   "outputs": [],
   "source": [
    "# set any county not in slr_coast_counties to nan\n",
    "gdf.loc[~gdf['COUNTYFP'].isin(slr_coast_counties), 'delta_percentage_change'] = np.nan"
   ]
  },
  {
   "cell_type": "code",
   "execution_count": null,
   "metadata": {
    "execution": {
     "iopub.execute_input": "2024-10-17T20:52:44.017347Z",
     "iopub.status.busy": "2024-10-17T20:52:44.017187Z",
     "iopub.status.idle": "2024-10-17T20:52:44.022879Z",
     "shell.execute_reply": "2024-10-17T20:52:44.022578Z",
     "shell.execute_reply.started": "2024-10-17T20:52:44.017337Z"
    }
   },
   "outputs": [],
   "source": [
    "gdf.loc[~gdf['COUNTYFP'].isin(slr_coast_counties)]['delta_percentage_change'].unique() # confirmed applied!"
   ]
  },
  {
   "cell_type": "code",
   "execution_count": null,
   "metadata": {
    "execution": {
     "iopub.execute_input": "2024-10-17T20:52:44.023773Z",
     "iopub.status.busy": "2024-10-17T20:52:44.023485Z",
     "iopub.status.idle": "2024-10-17T20:52:44.026583Z",
     "shell.execute_reply": "2024-10-17T20:52:44.026298Z",
     "shell.execute_reply.started": "2024-10-17T20:52:44.023763Z"
    }
   },
   "outputs": [],
   "source": [
    "gdf['delta_percentage_change'].min(), gdf['delta_percentage_change'].max()"
   ]
  },
  {
   "cell_type": "code",
   "execution_count": null,
   "metadata": {
    "execution": {
     "iopub.execute_input": "2024-10-17T20:52:44.027107Z",
     "iopub.status.busy": "2024-10-17T20:52:44.026997Z",
     "iopub.status.idle": "2024-10-17T20:52:44.191057Z",
     "shell.execute_reply": "2024-10-17T20:52:44.190624Z",
     "shell.execute_reply.started": "2024-10-17T20:52:44.027096Z"
    }
   },
   "outputs": [],
   "source": [
    "gdf.plot('delta_percentage_change', legend=True) # visual check"
   ]
  },
  {
   "cell_type": "code",
   "execution_count": 19,
   "metadata": {
    "execution": {
     "iopub.execute_input": "2024-10-17T20:52:44.192079Z",
     "iopub.status.busy": "2024-10-17T20:52:44.191829Z",
     "iopub.status.idle": "2024-10-17T20:52:44.196086Z",
     "shell.execute_reply": "2024-10-17T20:52:44.195700Z",
     "shell.execute_reply.started": "2024-10-17T20:52:44.192059Z"
    }
   },
   "outputs": [],
   "source": [
    "# clean up before export\n",
    "gdf_to_save = gdf[['tract', 'county', 'delta_percentage_change']]\n",
    "gdf_to_save = gdf_to_save.rename(columns={'delta_percentage_change':'slr_vulnerability_delta_percentage_change'})"
   ]
  },
  {
   "cell_type": "code",
   "execution_count": null,
   "metadata": {
    "execution": {
     "iopub.execute_input": "2024-10-17T20:52:44.196916Z",
     "iopub.status.busy": "2024-10-17T20:52:44.196802Z",
     "iopub.status.idle": "2024-10-17T20:52:44.202417Z",
     "shell.execute_reply": "2024-10-17T20:52:44.201951Z",
     "shell.execute_reply.started": "2024-10-17T20:52:44.196906Z"
    }
   },
   "outputs": [],
   "source": [
    "gdf_to_save"
   ]
  },
  {
   "cell_type": "code",
   "execution_count": 21,
   "metadata": {
    "execution": {
     "iopub.execute_input": "2024-10-17T20:52:44.203288Z",
     "iopub.status.busy": "2024-10-17T20:52:44.203080Z",
     "iopub.status.idle": "2024-10-17T20:52:44.213449Z",
     "shell.execute_reply": "2024-10-17T20:52:44.213037Z",
     "shell.execute_reply.started": "2024-10-17T20:52:44.203273Z"
    }
   },
   "outputs": [],
   "source": [
    "# save as csv\n",
    "gdf_to_save.to_csv('climate_slr_vulnerable_metric.csv', index=False)"
   ]
  },
  {
   "cell_type": "markdown",
   "metadata": {},
   "source": [
    "## Metric 2: # of exposed buildings"
   ]
  },
  {
   "cell_type": "code",
   "execution_count": 22,
   "metadata": {
    "execution": {
     "iopub.execute_input": "2024-10-17T20:52:44.214534Z",
     "iopub.status.busy": "2024-10-17T20:52:44.214294Z",
     "iopub.status.idle": "2024-10-17T20:52:44.379101Z",
     "shell.execute_reply": "2024-10-17T20:52:44.378521Z",
     "shell.execute_reply.started": "2024-10-17T20:52:44.214520Z"
    }
   },
   "outputs": [],
   "source": [
    "building_data = pd.read_csv(r'csv_folder/building_count.csv')"
   ]
  },
  {
   "cell_type": "code",
   "execution_count": null,
   "metadata": {
    "execution": {
     "iopub.execute_input": "2024-10-17T20:52:44.379788Z",
     "iopub.status.busy": "2024-10-17T20:52:44.379678Z",
     "iopub.status.idle": "2024-10-17T20:52:44.454033Z",
     "shell.execute_reply": "2024-10-17T20:52:44.453673Z",
     "shell.execute_reply.started": "2024-10-17T20:52:44.379779Z"
    }
   },
   "outputs": [],
   "source": [
    "columns_to_sum = [\n",
    "'Residential',\n",
    "'Commercial',\n",
    "'Industrial',\n",
    "'Agricultural',\n",
    "'Religious',\n",
    "'Government',\n",
    "'Education'\n",
    "]\n",
    "\n",
    "# Fill NaNs with 0 before summing, if you want to treat NaNs as zeroes\n",
    "building_data[columns_to_sum] = building_data[columns_to_sum].fillna(0)\n",
    "\n",
    "# Recalculate the total\n",
    "building_data['total'] = building_data[columns_to_sum].sum(axis=1)\n",
    "building_data"
   ]
  },
  {
   "cell_type": "code",
   "execution_count": null,
   "metadata": {
    "execution": {
     "iopub.execute_input": "2024-10-17T20:52:44.457822Z",
     "iopub.status.busy": "2024-10-17T20:52:44.457669Z",
     "iopub.status.idle": "2024-10-17T20:52:44.465734Z",
     "shell.execute_reply": "2024-10-17T20:52:44.465287Z",
     "shell.execute_reply.started": "2024-10-17T20:52:44.457813Z"
    }
   },
   "outputs": [],
   "source": [
    "building_columns = building_data[['Tract', 'CountyFIPS', 'total']]\n",
    "building_columns"
   ]
  },
  {
   "cell_type": "code",
   "execution_count": null,
   "metadata": {
    "execution": {
     "iopub.execute_input": "2024-10-17T20:52:44.466496Z",
     "iopub.status.busy": "2024-10-17T20:52:44.466332Z",
     "iopub.status.idle": "2024-10-17T20:52:44.479736Z",
     "shell.execute_reply": "2024-10-17T20:52:44.479305Z",
     "shell.execute_reply.started": "2024-10-17T20:52:44.466486Z"
    }
   },
   "outputs": [],
   "source": [
    "grouped_building_data = building_columns.groupby('Tract')['total'].sum().reset_index(name='building_count')\n",
    "grouped_building_data = grouped_building_data.rename(columns={'Tract':'tract'})\n",
    "grouped_building_data"
   ]
  },
  {
   "cell_type": "code",
   "execution_count": null,
   "metadata": {
    "execution": {
     "iopub.execute_input": "2024-10-17T20:52:44.480449Z",
     "iopub.status.busy": "2024-10-17T20:52:44.480334Z",
     "iopub.status.idle": "2024-10-17T20:52:44.493925Z",
     "shell.execute_reply": "2024-10-17T20:52:44.493609Z",
     "shell.execute_reply.started": "2024-10-17T20:52:44.480439Z"
    },
    "scrolled": true
   },
   "outputs": [],
   "source": [
    "# make sure columns are the same datatype\n",
    "grouped_building_data['tract'] = grouped_building_data['tract'].astype(str)\n",
    "\n",
    "# merge slr data with census tract data\n",
    "merged_vulnerable_buildings = pd.merge(ca_tract_county, grouped_building_data, on='tract', how='left')\n",
    "merged_vulnerable_buildings['GEOID'] = '0' + merged_vulnerable_buildings['tract']\n",
    "merged_vulnerable_buildings"
   ]
  },
  {
   "cell_type": "code",
   "execution_count": null,
   "metadata": {
    "execution": {
     "iopub.execute_input": "2024-10-17T20:52:44.494729Z",
     "iopub.status.busy": "2024-10-17T20:52:44.494549Z",
     "iopub.status.idle": "2024-10-17T20:52:50.656736Z",
     "shell.execute_reply": "2024-10-17T20:52:50.656369Z",
     "shell.execute_reply.started": "2024-10-17T20:52:44.494718Z"
    }
   },
   "outputs": [],
   "source": [
    "gdf = add_census_tracts(merged_vulnerable_buildings)\n",
    "gdf.head(5)"
   ]
  },
  {
   "cell_type": "code",
   "execution_count": 28,
   "metadata": {
    "execution": {
     "iopub.execute_input": "2024-10-17T20:52:50.657634Z",
     "iopub.status.busy": "2024-10-17T20:52:50.657437Z",
     "iopub.status.idle": "2024-10-17T20:52:50.660893Z",
     "shell.execute_reply": "2024-10-17T20:52:50.660497Z",
     "shell.execute_reply.started": "2024-10-17T20:52:50.657622Z"
    }
   },
   "outputs": [],
   "source": [
    "# set any county not in slr_coast_counties to nan\n",
    "gdf.loc[~gdf['COUNTYFP'].isin(slr_coast_counties), 'building_count'] = np.nan"
   ]
  },
  {
   "cell_type": "code",
   "execution_count": null,
   "metadata": {
    "execution": {
     "iopub.execute_input": "2024-10-17T20:52:50.661527Z",
     "iopub.status.busy": "2024-10-17T20:52:50.661410Z",
     "iopub.status.idle": "2024-10-17T20:52:50.666951Z",
     "shell.execute_reply": "2024-10-17T20:52:50.666646Z",
     "shell.execute_reply.started": "2024-10-17T20:52:50.661517Z"
    }
   },
   "outputs": [],
   "source": [
    "gdf.loc[~gdf['COUNTYFP'].isin(slr_coast_counties)]['building_count'].unique() # confirmed applied!"
   ]
  },
  {
   "cell_type": "code",
   "execution_count": null,
   "metadata": {
    "execution": {
     "iopub.execute_input": "2024-10-17T20:52:50.667800Z",
     "iopub.status.busy": "2024-10-17T20:52:50.667631Z",
     "iopub.status.idle": "2024-10-17T20:52:50.671028Z",
     "shell.execute_reply": "2024-10-17T20:52:50.670649Z",
     "shell.execute_reply.started": "2024-10-17T20:52:50.667790Z"
    }
   },
   "outputs": [],
   "source": [
    "gdf['building_count'].min(), gdf['building_count'].max()"
   ]
  },
  {
   "cell_type": "code",
   "execution_count": null,
   "metadata": {
    "execution": {
     "iopub.execute_input": "2024-10-17T20:52:50.671639Z",
     "iopub.status.busy": "2024-10-17T20:52:50.671530Z",
     "iopub.status.idle": "2024-10-17T20:52:51.177266Z",
     "shell.execute_reply": "2024-10-17T20:52:51.176876Z",
     "shell.execute_reply.started": "2024-10-17T20:52:50.671630Z"
    }
   },
   "outputs": [],
   "source": [
    "gdf.plot('building_count', legend=True)"
   ]
  },
  {
   "cell_type": "code",
   "execution_count": 32,
   "metadata": {
    "execution": {
     "iopub.execute_input": "2024-10-17T20:52:51.178131Z",
     "iopub.status.busy": "2024-10-17T20:52:51.177954Z",
     "iopub.status.idle": "2024-10-17T20:52:51.181946Z",
     "shell.execute_reply": "2024-10-17T20:52:51.181474Z",
     "shell.execute_reply.started": "2024-10-17T20:52:51.178120Z"
    }
   },
   "outputs": [],
   "source": [
    "# clean up before export\n",
    "gdf_to_save = gdf[['tract', 'GEOID', 'county', 'building_count']]\n",
    "gdf_to_save = gdf_to_save.rename(columns={'building_count':'building_exposed_slr_count'})"
   ]
  },
  {
   "cell_type": "code",
   "execution_count": 33,
   "metadata": {
    "execution": {
     "iopub.execute_input": "2024-10-17T20:52:51.182574Z",
     "iopub.status.busy": "2024-10-17T20:52:51.182474Z",
     "iopub.status.idle": "2024-10-17T20:52:51.195215Z",
     "shell.execute_reply": "2024-10-17T20:52:51.194788Z",
     "shell.execute_reply.started": "2024-10-17T20:52:51.182565Z"
    }
   },
   "outputs": [],
   "source": [
    "gdf_to_save.to_csv('climate_slr_vulnerable_buildings_metric.csv', index=False)"
   ]
  },
  {
   "cell_type": "markdown",
   "metadata": {},
   "source": [
    "## Metric #3: value of replacing buildings & contents from potential SLR"
   ]
  },
  {
   "cell_type": "code",
   "execution_count": 34,
   "metadata": {
    "execution": {
     "iopub.execute_input": "2024-10-17T20:52:51.196164Z",
     "iopub.status.busy": "2024-10-17T20:52:51.195975Z",
     "iopub.status.idle": "2024-10-17T20:52:51.297566Z",
     "shell.execute_reply": "2024-10-17T20:52:51.297055Z",
     "shell.execute_reply.started": "2024-10-17T20:52:51.196152Z"
    }
   },
   "outputs": [],
   "source": [
    "building_cost_data = pd.read_csv(r'csv_folder/total_value_building_contents.csv')\n",
    "building_cost_columns = building_cost_data[['Tract', 'CountyFIPS', 'Total']]"
   ]
  },
  {
   "cell_type": "code",
   "execution_count": null,
   "metadata": {
    "execution": {
     "iopub.execute_input": "2024-10-17T20:52:51.298287Z",
     "iopub.status.busy": "2024-10-17T20:52:51.298165Z",
     "iopub.status.idle": "2024-10-17T20:52:51.301774Z",
     "shell.execute_reply": "2024-10-17T20:52:51.301439Z",
     "shell.execute_reply.started": "2024-10-17T20:52:51.298278Z"
    }
   },
   "outputs": [],
   "source": [
    "# to check totals calculated in the cell below are accurate\n",
    "check_tract = building_cost_columns[building_cost_columns['Tract'] == 6001400100]\n",
    "total_sum = check_tract['Total'].sum()\n",
    "print(total_sum)"
   ]
  },
  {
   "cell_type": "code",
   "execution_count": null,
   "metadata": {
    "execution": {
     "iopub.execute_input": "2024-10-17T20:52:51.302313Z",
     "iopub.status.busy": "2024-10-17T20:52:51.302215Z",
     "iopub.status.idle": "2024-10-17T20:52:51.311352Z",
     "shell.execute_reply": "2024-10-17T20:52:51.311043Z",
     "shell.execute_reply.started": "2024-10-17T20:52:51.302304Z"
    }
   },
   "outputs": [],
   "source": [
    "grouped_building_cost = building_cost_columns.groupby('Tract')['Total'].sum().reset_index(name='building_content_cost')\n",
    "grouped_building_cost = grouped_building_cost.rename(columns={'Tract':'tract'})\n",
    "grouped_building_cost"
   ]
  },
  {
   "cell_type": "code",
   "execution_count": null,
   "metadata": {
    "execution": {
     "iopub.execute_input": "2024-10-17T20:52:51.312024Z",
     "iopub.status.busy": "2024-10-17T20:52:51.311892Z",
     "iopub.status.idle": "2024-10-17T20:52:51.331043Z",
     "shell.execute_reply": "2024-10-17T20:52:51.329388Z",
     "shell.execute_reply.started": "2024-10-17T20:52:51.312014Z"
    }
   },
   "outputs": [],
   "source": [
    "# make sure columns are the same datatype\n",
    "grouped_building_cost['tract'] = grouped_building_cost['tract'].astype(str)\n",
    "\n",
    "# merge slr data with census tract data\n",
    "merged_building_content_cost = pd.merge(ca_tract_county, grouped_building_cost, on='tract', how='left')\n",
    "merged_building_content_cost"
   ]
  },
  {
   "cell_type": "code",
   "execution_count": null,
   "metadata": {
    "execution": {
     "iopub.execute_input": "2024-10-17T20:52:51.332586Z",
     "iopub.status.busy": "2024-10-17T20:52:51.332413Z",
     "iopub.status.idle": "2024-10-17T20:52:51.335733Z",
     "shell.execute_reply": "2024-10-17T20:52:51.335346Z",
     "shell.execute_reply.started": "2024-10-17T20:52:51.332574Z"
    }
   },
   "outputs": [],
   "source": [
    "# how many non nan entries do we have in our final metric for building and content cost\n",
    "print(len(merged_building_content_cost.building_content_cost.unique()))"
   ]
  },
  {
   "cell_type": "code",
   "execution_count": null,
   "metadata": {
    "execution": {
     "iopub.execute_input": "2024-10-17T20:52:51.336353Z",
     "iopub.status.busy": "2024-10-17T20:52:51.336256Z",
     "iopub.status.idle": "2024-10-17T20:52:58.234912Z",
     "shell.execute_reply": "2024-10-17T20:52:58.234554Z",
     "shell.execute_reply.started": "2024-10-17T20:52:51.336344Z"
    }
   },
   "outputs": [],
   "source": [
    "# apply mask\n",
    "merged_building_content_cost['GEOID'] = '0' + merged_building_content_cost['tract']\n",
    "gdf = add_census_tracts(merged_building_content_cost)\n",
    "gdf.head(5)"
   ]
  },
  {
   "cell_type": "code",
   "execution_count": 40,
   "metadata": {
    "execution": {
     "iopub.execute_input": "2024-10-17T20:52:58.235560Z",
     "iopub.status.busy": "2024-10-17T20:52:58.235436Z",
     "iopub.status.idle": "2024-10-17T20:52:58.238939Z",
     "shell.execute_reply": "2024-10-17T20:52:58.238571Z",
     "shell.execute_reply.started": "2024-10-17T20:52:58.235550Z"
    }
   },
   "outputs": [],
   "source": [
    "# set any county not in slr_coast_counties to nan\n",
    "gdf.loc[~gdf['COUNTYFP'].isin(slr_coast_counties), 'building_content_cost'] = np.nan"
   ]
  },
  {
   "cell_type": "code",
   "execution_count": null,
   "metadata": {
    "execution": {
     "iopub.execute_input": "2024-10-17T20:52:58.239619Z",
     "iopub.status.busy": "2024-10-17T20:52:58.239516Z",
     "iopub.status.idle": "2024-10-17T20:52:58.244493Z",
     "shell.execute_reply": "2024-10-17T20:52:58.244203Z",
     "shell.execute_reply.started": "2024-10-17T20:52:58.239609Z"
    }
   },
   "outputs": [],
   "source": [
    "gdf.loc[~gdf['COUNTYFP'].isin(slr_coast_counties)]['building_content_cost'].unique() # confirmed applied!"
   ]
  },
  {
   "cell_type": "code",
   "execution_count": null,
   "metadata": {
    "execution": {
     "iopub.execute_input": "2024-10-17T20:52:58.245148Z",
     "iopub.status.busy": "2024-10-17T20:52:58.245015Z",
     "iopub.status.idle": "2024-10-17T20:52:58.248424Z",
     "shell.execute_reply": "2024-10-17T20:52:58.248100Z",
     "shell.execute_reply.started": "2024-10-17T20:52:58.245137Z"
    }
   },
   "outputs": [],
   "source": [
    "gdf['building_content_cost'].min(), gdf['building_content_cost'].max()"
   ]
  },
  {
   "cell_type": "code",
   "execution_count": null,
   "metadata": {
    "execution": {
     "iopub.execute_input": "2024-10-17T20:52:58.249115Z",
     "iopub.status.busy": "2024-10-17T20:52:58.249001Z",
     "iopub.status.idle": "2024-10-17T20:52:58.735357Z",
     "shell.execute_reply": "2024-10-17T20:52:58.734926Z",
     "shell.execute_reply.started": "2024-10-17T20:52:58.249105Z"
    }
   },
   "outputs": [],
   "source": [
    "gdf.plot('building_content_cost', legend=True)"
   ]
  },
  {
   "cell_type": "code",
   "execution_count": 44,
   "metadata": {
    "execution": {
     "iopub.execute_input": "2024-10-17T20:52:58.736194Z",
     "iopub.status.busy": "2024-10-17T20:52:58.736064Z",
     "iopub.status.idle": "2024-10-17T20:52:58.740542Z",
     "shell.execute_reply": "2024-10-17T20:52:58.740178Z",
     "shell.execute_reply.started": "2024-10-17T20:52:58.736184Z"
    }
   },
   "outputs": [],
   "source": [
    "# clean up before export\n",
    "gdf_to_save = gdf[['tract', 'GEOID', 'county', 'building_content_cost']]\n",
    "gdf_to_save = gdf_to_save.rename(columns={'building_content_cost':'slr_vulnerable_building_content_cost'})"
   ]
  },
  {
   "cell_type": "code",
   "execution_count": 45,
   "metadata": {
    "execution": {
     "iopub.execute_input": "2024-10-17T20:52:58.741099Z",
     "iopub.status.busy": "2024-10-17T20:52:58.740992Z",
     "iopub.status.idle": "2024-10-17T20:52:58.754656Z",
     "shell.execute_reply": "2024-10-17T20:52:58.754207Z",
     "shell.execute_reply.started": "2024-10-17T20:52:58.741089Z"
    }
   },
   "outputs": [],
   "source": [
    "gdf_to_save.to_csv('climate_slr_buildings_contents_cost_metric.csv', index=False)"
   ]
  },
  {
   "cell_type": "markdown",
   "metadata": {},
   "source": [
    "## Now for metrics that do not have both baseline and 1.4m rise conditions\n",
    "* number of wastewater treatment plants vulnerable to sea level rise under 1.4m rise conditions"
   ]
  },
  {
   "cell_type": "code",
   "execution_count": 46,
   "metadata": {
    "execution": {
     "iopub.execute_input": "2024-10-17T20:52:58.760792Z",
     "iopub.status.busy": "2024-10-17T20:52:58.760620Z",
     "iopub.status.idle": "2024-10-17T20:52:58.796160Z",
     "shell.execute_reply": "2024-10-17T20:52:58.795679Z",
     "shell.execute_reply.started": "2024-10-17T20:52:58.760774Z"
    }
   },
   "outputs": [],
   "source": [
    "# first calling all shapefiles in\n",
    "slr_fire_stations_2000 = gpd.read_file('climate_pacific_institute_slr_exposure_fire_stations_2000.gpkg')\n",
    "slr_fire_stations_2100 = gpd.read_file('climate_pacific_institute_slr_exposure_fire_stations_2100.gpkg')\n",
    "slr_hospitals_2000 = gpd.read_file('climate_pacific_institute_slr_exposure_hospitals_2000.gpkg')\n",
    "slr_hospitals_2100 = gpd.read_file('climate_pacific_institute_slr_exposure_hospitals_2100.gpkg')\n",
    "slr_police_stations_2000 = gpd.read_file('climate_pacific_institute_slr_exposure_police_stations_2000.gpkg')\n",
    "slr_police_stations_2100 = gpd.read_file('climate_pacific_institute_slr_exposure_police_stations_2100.gpkg')\n",
    "slr_schools_2000 = gpd.read_file('climate_pacific_institute_slr_exposure_schools_2000.gpkg')\n",
    "slr_schools_2100 = gpd.read_file('climate_pacific_institute_slr_exposure_schools_2100.gpkg')\n",
    "\n",
    "slr_wastewater_2100 = gpd.read_file('climate_pacific_institute_slr_exposure_wastewater_treatment_2100.gpkg')"
   ]
  },
  {
   "cell_type": "code",
   "execution_count": null,
   "metadata": {
    "execution": {
     "iopub.execute_input": "2024-10-17T20:52:58.797144Z",
     "iopub.status.busy": "2024-10-17T20:52:58.797012Z",
     "iopub.status.idle": "2024-10-17T20:52:58.802431Z",
     "shell.execute_reply": "2024-10-17T20:52:58.802009Z",
     "shell.execute_reply.started": "2024-10-17T20:52:58.797134Z"
    }
   },
   "outputs": [],
   "source": [
    "county_slr_wastewater_2100 = slr_wastewater_2100[['USCB_COUNTYFP', 'USCB_NAME']]\n",
    "county_slr_wastewater_2100.head()"
   ]
  },
  {
   "cell_type": "code",
   "execution_count": null,
   "metadata": {
    "execution": {
     "iopub.execute_input": "2024-10-17T20:52:58.803385Z",
     "iopub.status.busy": "2024-10-17T20:52:58.803138Z",
     "iopub.status.idle": "2024-10-17T20:52:58.808816Z",
     "shell.execute_reply": "2024-10-17T20:52:58.808434Z",
     "shell.execute_reply.started": "2024-10-17T20:52:58.803367Z"
    }
   },
   "outputs": [],
   "source": [
    "county_slr_wastewater_2100.groupby('USCB_COUNTYFP').count().reset_index()"
   ]
  },
  {
   "cell_type": "code",
   "execution_count": null,
   "metadata": {
    "execution": {
     "iopub.execute_input": "2024-10-17T20:52:58.809588Z",
     "iopub.status.busy": "2024-10-17T20:52:58.809480Z",
     "iopub.status.idle": "2024-10-17T20:52:58.816932Z",
     "shell.execute_reply": "2024-10-17T20:52:58.816142Z",
     "shell.execute_reply.started": "2024-10-17T20:52:58.809578Z"
    }
   },
   "outputs": [],
   "source": [
    "county_slr_wastewater_2100.USCB_COUNTYFP.unique()"
   ]
  },
  {
   "cell_type": "markdown",
   "metadata": {},
   "source": [
    "## Looking at shared columns between all of the shape files\n",
    "* all share countyfp columns which is what we want"
   ]
  },
  {
   "cell_type": "code",
   "execution_count": null,
   "metadata": {
    "execution": {
     "iopub.execute_input": "2024-10-17T20:52:58.818008Z",
     "iopub.status.busy": "2024-10-17T20:52:58.817810Z",
     "iopub.status.idle": "2024-10-17T20:52:58.823400Z",
     "shell.execute_reply": "2024-10-17T20:52:58.822150Z",
     "shell.execute_reply.started": "2024-10-17T20:52:58.817991Z"
    }
   },
   "outputs": [],
   "source": [
    "# List of GeoDataFrames\n",
    "gdfs = [slr_fire_stations_2000, slr_fire_stations_2100, slr_hospitals_2000, slr_hospitals_2100,\n",
    "        slr_police_stations_2000, slr_police_stations_2100, slr_schools_2000, slr_schools_2100,\n",
    "        slr_wastewater_2100]\n",
    "\n",
    "# Get the set of columns for each GeoDataFrame\n",
    "column_sets = [set(gdf.columns) for gdf in gdfs]\n",
    "\n",
    "# Find the intersection of all columns (shared columns)\n",
    "shared_columns = set.intersection(*column_sets)\n",
    "\n",
    "# Find the unique columns for each GeoDataFrame\n",
    "unique_columns = [columns - shared_columns for columns in column_sets]\n",
    "\n",
    "# Print the shared columns\n",
    "print(\"Shared columns among all GeoDataFrames:\", shared_columns)\n",
    "\n",
    "# Print the unique columns for each GeoDataFrame\n",
    "for idx, unique in enumerate(unique_columns):\n",
    "    print(f\"Unique columns in GeoDataFrame {idx+1}: {unique}\")"
   ]
  },
  {
   "cell_type": "code",
   "execution_count": 51,
   "metadata": {
    "execution": {
     "iopub.execute_input": "2024-10-17T20:52:58.826744Z",
     "iopub.status.busy": "2024-10-17T20:52:58.825081Z",
     "iopub.status.idle": "2024-10-17T20:52:58.834769Z",
     "shell.execute_reply": "2024-10-17T20:52:58.834015Z",
     "shell.execute_reply.started": "2024-10-17T20:52:58.826719Z"
    }
   },
   "outputs": [],
   "source": [
    "# all geodataframes share a common county fp column, so we have a function to count number\n",
    "# of rows for a specified county fp number\n",
    "# this will help fact check our new dfs that contain county counts per metric\n",
    "def count_entries_by_county_fp(df, county_fp_number):\n",
    "    \"\"\"\n",
    "    Returns the count of entries in the 'USCB_COUNTYFP' column that match the given county_fp_number.\n",
    "\n",
    "    Parameters:\n",
    "    df (pd.DataFrame): The DataFrame containing the data.\n",
    "    county_fp_number (str or int): The county FP number to match.\n",
    "\n",
    "    Returns:\n",
    "    int: The count of matching entries.\n",
    "    \"\"\"\n",
    "    return df['USCB_COUNTYFP'].astype(str).eq(str(county_fp_number)).sum()"
   ]
  },
  {
   "cell_type": "code",
   "execution_count": 52,
   "metadata": {
    "execution": {
     "iopub.execute_input": "2024-10-17T20:52:58.838526Z",
     "iopub.status.busy": "2024-10-17T20:52:58.838340Z",
     "iopub.status.idle": "2024-10-17T20:52:58.842052Z",
     "shell.execute_reply": "2024-10-17T20:52:58.841540Z",
     "shell.execute_reply.started": "2024-10-17T20:52:58.838510Z"
    }
   },
   "outputs": [],
   "source": [
    "slr_wastewater_count = county_slr_wastewater_2100.groupby('USCB_COUNTYFP').size().reset_index(name='count')"
   ]
  },
  {
   "cell_type": "code",
   "execution_count": null,
   "metadata": {
    "execution": {
     "iopub.execute_input": "2024-10-17T20:53:34.755600Z",
     "iopub.status.busy": "2024-10-17T20:53:34.754894Z",
     "iopub.status.idle": "2024-10-17T20:53:34.772271Z",
     "shell.execute_reply": "2024-10-17T20:53:34.771330Z",
     "shell.execute_reply.started": "2024-10-17T20:53:34.755567Z"
    }
   },
   "outputs": [],
   "source": [
    "# Rename the count column\n",
    "slr_wastewater_count = slr_wastewater_count.rename(columns={'USCB_COUNTYFP':'countyfp', 'count': 'wastewater_count'})\n",
    "\n",
    "slr_wastewater_metric = slr_wastewater_count\n",
    "slr_wastewater_metric"
   ]
  },
  {
   "cell_type": "code",
   "execution_count": null,
   "metadata": {
    "execution": {
     "iopub.execute_input": "2024-10-17T20:53:36.712523Z",
     "iopub.status.busy": "2024-10-17T20:53:36.711793Z",
     "iopub.status.idle": "2024-10-17T20:53:37.900638Z",
     "shell.execute_reply": "2024-10-17T20:53:37.900246Z",
     "shell.execute_reply.started": "2024-10-17T20:53:36.712489Z"
    }
   },
   "outputs": [],
   "source": [
    "# read in CA census tiger file\n",
    "ca_tract_county = \"s3://ca-climate-index/0_map_data/ca_tracts_county.csv\"\n",
    "ca_tract_county = gpd.read_file(ca_tract_county)\n",
    "ca_tract_county = ca_tract_county.drop(columns={'field_1'})\n",
    "ca_tract_county.columns = ca_tract_county.columns.str.lower()\n",
    "ca_tract_county = ca_tract_county.applymap(lambda s: s.lower() if type(s) == str else s)\n",
    "\n",
    "# List of columns you want to check and drop if they exist\n",
    "columns_to_drop = ['geometry']  # Replace with your actual column names\n",
    "\n",
    "# Check if the column exists, and drop it if it does\n",
    "for col in columns_to_drop:\n",
    "    if col in ca_tract_county.columns:\n",
    "        ca_tract_county = ca_tract_county.drop(columns=col)\n",
    "\n",
    "ca_tract_county"
   ]
  },
  {
   "cell_type": "code",
   "execution_count": 55,
   "metadata": {
    "execution": {
     "iopub.execute_input": "2024-10-17T20:53:37.901623Z",
     "iopub.status.busy": "2024-10-17T20:53:37.901504Z",
     "iopub.status.idle": "2024-10-17T20:53:37.906272Z",
     "shell.execute_reply": "2024-10-17T20:53:37.905873Z",
     "shell.execute_reply.started": "2024-10-17T20:53:37.901613Z"
    }
   },
   "outputs": [],
   "source": [
    "merged_slr_wastewater_metric = pd.merge(ca_tract_county, slr_wastewater_metric, on='countyfp', how='left')"
   ]
  },
  {
   "cell_type": "code",
   "execution_count": null,
   "metadata": {
    "execution": {
     "iopub.execute_input": "2024-10-17T20:53:39.930111Z",
     "iopub.status.busy": "2024-10-17T20:53:39.929078Z",
     "iopub.status.idle": "2024-10-17T20:53:46.849611Z",
     "shell.execute_reply": "2024-10-17T20:53:46.849231Z",
     "shell.execute_reply.started": "2024-10-17T20:53:39.930047Z"
    }
   },
   "outputs": [],
   "source": [
    "# apply mask\n",
    "merged_slr_wastewater_metric['GEOID'] = merged_slr_wastewater_metric['tract']\n",
    "gdf = add_census_tracts(merged_slr_wastewater_metric)\n",
    "gdf.head(5)"
   ]
  },
  {
   "cell_type": "code",
   "execution_count": 57,
   "metadata": {
    "execution": {
     "iopub.execute_input": "2024-10-17T20:53:46.850634Z",
     "iopub.status.busy": "2024-10-17T20:53:46.850521Z",
     "iopub.status.idle": "2024-10-17T20:53:46.853497Z",
     "shell.execute_reply": "2024-10-17T20:53:46.853123Z",
     "shell.execute_reply.started": "2024-10-17T20:53:46.850625Z"
    }
   },
   "outputs": [],
   "source": [
    "# set any county not in slr_coast_counties to nan\n",
    "gdf.loc[~gdf['COUNTYFP'].isin(slr_coast_counties), 'wastewater_count'] = np.nan"
   ]
  },
  {
   "cell_type": "code",
   "execution_count": null,
   "metadata": {
    "execution": {
     "iopub.execute_input": "2024-10-17T20:53:46.854175Z",
     "iopub.status.busy": "2024-10-17T20:53:46.853960Z",
     "iopub.status.idle": "2024-10-17T20:53:46.858411Z",
     "shell.execute_reply": "2024-10-17T20:53:46.858113Z",
     "shell.execute_reply.started": "2024-10-17T20:53:46.854166Z"
    }
   },
   "outputs": [],
   "source": [
    "gdf.loc[~gdf['COUNTYFP'].isin(slr_coast_counties)]['wastewater_count'].unique() # confirmed applied!"
   ]
  },
  {
   "cell_type": "code",
   "execution_count": null,
   "metadata": {
    "execution": {
     "iopub.execute_input": "2024-10-17T20:53:46.859614Z",
     "iopub.status.busy": "2024-10-17T20:53:46.859484Z",
     "iopub.status.idle": "2024-10-17T20:53:46.862370Z",
     "shell.execute_reply": "2024-10-17T20:53:46.862088Z",
     "shell.execute_reply.started": "2024-10-17T20:53:46.859604Z"
    }
   },
   "outputs": [],
   "source": [
    "gdf['wastewater_count'].min(), gdf['wastewater_count'].max()"
   ]
  },
  {
   "cell_type": "code",
   "execution_count": null,
   "metadata": {
    "execution": {
     "iopub.execute_input": "2024-10-17T20:53:46.863017Z",
     "iopub.status.busy": "2024-10-17T20:53:46.862843Z",
     "iopub.status.idle": "2024-10-17T20:53:47.273543Z",
     "shell.execute_reply": "2024-10-17T20:53:47.273135Z",
     "shell.execute_reply.started": "2024-10-17T20:53:46.862994Z"
    }
   },
   "outputs": [],
   "source": [
    "gdf.plot('wastewater_count', legend=True)"
   ]
  },
  {
   "cell_type": "code",
   "execution_count": 61,
   "metadata": {
    "execution": {
     "iopub.execute_input": "2024-10-17T20:53:47.274145Z",
     "iopub.status.busy": "2024-10-17T20:53:47.274039Z",
     "iopub.status.idle": "2024-10-17T20:53:47.277962Z",
     "shell.execute_reply": "2024-10-17T20:53:47.277592Z",
     "shell.execute_reply.started": "2024-10-17T20:53:47.274135Z"
    }
   },
   "outputs": [],
   "source": [
    "# clean up before export\n",
    "gdf_to_save = gdf[['tract', 'GEOID', 'county', 'wastewater_count']]"
   ]
  },
  {
   "cell_type": "code",
   "execution_count": 62,
   "metadata": {
    "execution": {
     "iopub.execute_input": "2024-10-17T20:53:50.191756Z",
     "iopub.status.busy": "2024-10-17T20:53:50.191003Z",
     "iopub.status.idle": "2024-10-17T20:53:50.204428Z",
     "shell.execute_reply": "2024-10-17T20:53:50.202492Z",
     "shell.execute_reply.started": "2024-10-17T20:53:50.191719Z"
    }
   },
   "outputs": [],
   "source": [
    "gdf_to_save = gdf_to_save.drop(columns=['tract'])  # using a list\n",
    "gdf_to_save = gdf_to_save.rename(columns={'wastewater_count':'slr_vulnerable_wastewater_treatment_count'})"
   ]
  },
  {
   "cell_type": "code",
   "execution_count": 64,
   "metadata": {
    "execution": {
     "iopub.execute_input": "2024-10-17T20:53:56.085313Z",
     "iopub.status.busy": "2024-10-17T20:53:56.084610Z",
     "iopub.status.idle": "2024-10-17T20:53:56.117884Z",
     "shell.execute_reply": "2024-10-17T20:53:56.117204Z",
     "shell.execute_reply.started": "2024-10-17T20:53:56.085281Z"
    }
   },
   "outputs": [],
   "source": [
    "gdf_to_save.to_csv('climate_slr_wastewater_metric.csv', index=False)"
   ]
  },
  {
   "cell_type": "markdown",
   "metadata": {},
   "source": [
    "## Now for the rest of the metrics, metrics that find the change in number of at risk facilities between baseline conditions and their 1.4m SLR future counterparts\n",
    "* delta number of fire stations vulnerable to sea level rise\n",
    "* delta number of police stations vulnerable to sea level rise\n",
    "* delta number of schools vulnerable to sea level rise\n",
    "* delta number of hospitals vulnerable to sea level rise"
   ]
  },
  {
   "cell_type": "code",
   "execution_count": null,
   "metadata": {
    "execution": {
     "iopub.execute_input": "2024-10-17T20:53:58.889272Z",
     "iopub.status.busy": "2024-10-17T20:53:58.888429Z",
     "iopub.status.idle": "2024-10-17T20:53:58.942796Z",
     "shell.execute_reply": "2024-10-17T20:53:58.942260Z",
     "shell.execute_reply.started": "2024-10-17T20:53:58.889233Z"
    }
   },
   "outputs": [],
   "source": [
    "gdf_names = ['slr_fire_stations_2000', 'slr_fire_stations_2100', 'slr_hospitals_2000', 'slr_hospitals_2100',\n",
    "             'slr_police_stations_2000', 'slr_police_stations_2100', 'slr_schools_2000', 'slr_schools_2100']\n",
    "\n",
    "# Dictionary to store the count DataFrames for 2000 and 2100\n",
    "count_dfs = {}\n",
    "\n",
    "# Loop through each GeoDataFrame and its corresponding name\n",
    "for gdf, gdf_name in zip(gdfs, gdf_names):\n",
    "    # Isolate the required columns\n",
    "    df_isolated = gdf[['USCB_NAME', 'USCB_COUNTYFP']]\n",
    "\n",
    "    # Group by USCB_COUNTYFP and count the occurrences\n",
    "    df_grouped = df_isolated.groupby('USCB_COUNTYFP').size().reset_index(name='count')\n",
    "    df_grouped = df_grouped.rename(columns={'USCB_COUNTYFP': 'countyfp'})\n",
    "\n",
    "    # Store the count DataFrame in the dictionary\n",
    "    count_dfs[gdf_name] = df_grouped\n",
    "\n",
    "# Dictionary to store the new DataFrames with differences\n",
    "difference_dfs = {}\n",
    "\n",
    "# Loop through the 2000 and 2100 pairs\n",
    "for phrasing in ['fire_stations', 'hospitals', 'police_stations', 'schools', 'wastewater']:\n",
    "    df_2000_name = f'slr_{phrasing}_2000'\n",
    "    df_2100_name = f'slr_{phrasing}_2100'\n",
    "\n",
    "    if df_2000_name in count_dfs and df_2100_name in count_dfs:\n",
    "        df_2000 = count_dfs[df_2000_name]\n",
    "        df_2100 = count_dfs[df_2100_name]\n",
    "\n",
    "        # Perform an outer merge to include all counties\n",
    "        merged_df = df_2000.merge(df_2100, on='countyfp', how='outer', suffixes=('_2000', '_2100'))\n",
    "\n",
    "        # Fill NaN values with 0 for count columns\n",
    "        merged_df.fillna({'count_2000': 0},inplace=True)\n",
    "        merged_df.fillna({'count_2100': 0}, inplace=True)\n",
    "\n",
    "        # Calculate the difference in counts\n",
    "        merged_df[f'{phrasing}_count_diff'] = merged_df['count_2100'] - merged_df['count_2000']\n",
    "\n",
    "        # Select only the 'countyfp' and difference columns\n",
    "        difference_df = merged_df[['countyfp', f'{phrasing}_count_diff']]\n",
    "\n",
    "        # Create a new name for the DataFrame\n",
    "        new_df_name = f'slr_{phrasing}_count_diff'\n",
    "\n",
    "        # Add the new DataFrame to the dictionary\n",
    "        difference_dfs[new_df_name] = difference_df\n",
    "\n",
    "# Access the new DataFrames using difference_dfs dictionary\n",
    "for name, df in difference_dfs.items():\n",
    "    print(f\"\\n{name}:\\n\", df)"
   ]
  },
  {
   "cell_type": "markdown",
   "metadata": {},
   "source": [
    "**Schools**"
   ]
  },
  {
   "cell_type": "code",
   "execution_count": null,
   "metadata": {
    "execution": {
     "iopub.execute_input": "2024-10-17T20:54:04.526804Z",
     "iopub.status.busy": "2024-10-17T20:54:04.526074Z",
     "iopub.status.idle": "2024-10-17T20:54:11.323340Z",
     "shell.execute_reply": "2024-10-17T20:54:11.322973Z",
     "shell.execute_reply.started": "2024-10-17T20:54:04.526769Z"
    }
   },
   "outputs": [],
   "source": [
    "new_name = 'slr_schools_count_metric'\n",
    "\n",
    "# Merge with ca_tract_county\n",
    "merged_df = pd.merge(ca_tract_county, difference_dfs['slr_schools_count_diff'], on='countyfp', how='left')\n",
    "merged_df.iloc[:, -1] = merged_df.iloc[:, -1].fillna(0)\n",
    "merged_df['GEOID'] = merged_df['tract']\n",
    "\n",
    "gdf = add_census_tracts(merged_df)\n",
    "gdf"
   ]
  },
  {
   "cell_type": "code",
   "execution_count": null,
   "metadata": {
    "execution": {
     "iopub.execute_input": "2024-10-17T20:54:11.324308Z",
     "iopub.status.busy": "2024-10-17T20:54:11.324197Z",
     "iopub.status.idle": "2024-10-17T20:54:11.328077Z",
     "shell.execute_reply": "2024-10-17T20:54:11.327808Z",
     "shell.execute_reply.started": "2024-10-17T20:54:11.324299Z"
    }
   },
   "outputs": [],
   "source": [
    "slr_coast_counties = ['001', '013', '015', '023', '037', '041', '045', '053', '055', '059', '067', '073', '075', '077', '079', '081', '083', '085', '087', '095', '097', '111', '113']\n",
    "gdf.loc[~gdf['COUNTYFP'].isin(slr_coast_counties), 'schools_count_diff'] = np.nan\n",
    "print(gdf['schools_count_diff'].min(), gdf['schools_count_diff'].max())"
   ]
  },
  {
   "cell_type": "code",
   "execution_count": null,
   "metadata": {
    "execution": {
     "iopub.execute_input": "2024-10-17T20:54:11.328758Z",
     "iopub.status.busy": "2024-10-17T20:54:11.328613Z",
     "iopub.status.idle": "2024-10-17T20:54:12.098960Z",
     "shell.execute_reply": "2024-10-17T20:54:12.098527Z",
     "shell.execute_reply.started": "2024-10-17T20:54:11.328750Z"
    }
   },
   "outputs": [],
   "source": [
    "gdf.plot('schools_count_diff', legend=True)"
   ]
  },
  {
   "cell_type": "code",
   "execution_count": null,
   "metadata": {
    "execution": {
     "iopub.execute_input": "2024-10-17T20:54:20.803065Z",
     "iopub.status.busy": "2024-10-17T20:54:20.802216Z",
     "iopub.status.idle": "2024-10-17T20:54:20.840399Z",
     "shell.execute_reply": "2024-10-17T20:54:20.839956Z",
     "shell.execute_reply.started": "2024-10-17T20:54:20.803000Z"
    }
   },
   "outputs": [],
   "source": [
    "# export\n",
    "csv_file_path = f\"climate_{new_name}.csv\"\n",
    "gdf_to_save = gdf[['tract', 'GEOID', 'county', 'schools_count_diff']]\n",
    "gdf_to_save.to_csv(csv_file_path, index=False)\n",
    "print(f\"{csv_file_path}\")"
   ]
  },
  {
   "cell_type": "markdown",
   "metadata": {},
   "source": [
    "**Police stations**"
   ]
  },
  {
   "cell_type": "code",
   "execution_count": null,
   "metadata": {
    "execution": {
     "iopub.execute_input": "2024-10-17T20:54:22.105862Z",
     "iopub.status.busy": "2024-10-17T20:54:22.105128Z",
     "iopub.status.idle": "2024-10-17T20:54:29.161351Z",
     "shell.execute_reply": "2024-10-17T20:54:29.160956Z",
     "shell.execute_reply.started": "2024-10-17T20:54:22.105827Z"
    }
   },
   "outputs": [],
   "source": [
    "new_name = 'slr_police_stations_count_metric'\n",
    "\n",
    "# Merge with ca_tract_county\n",
    "merged_df = pd.merge(ca_tract_county, difference_dfs['slr_police_stations_count_diff'], on='countyfp', how='left')\n",
    "merged_df.iloc[:, -1] = merged_df.iloc[:, -1].fillna(0)\n",
    "merged_df['GEOID'] = merged_df['tract']\n",
    "\n",
    "gdf = add_census_tracts(merged_df)\n",
    "gdf"
   ]
  },
  {
   "cell_type": "code",
   "execution_count": null,
   "metadata": {
    "execution": {
     "iopub.execute_input": "2024-10-17T20:54:29.162357Z",
     "iopub.status.busy": "2024-10-17T20:54:29.162201Z",
     "iopub.status.idle": "2024-10-17T20:54:29.165828Z",
     "shell.execute_reply": "2024-10-17T20:54:29.165531Z",
     "shell.execute_reply.started": "2024-10-17T20:54:29.162347Z"
    }
   },
   "outputs": [],
   "source": [
    "gdf.loc[~gdf['COUNTYFP'].isin(slr_coast_counties), 'police_stations_count_diff'] = np.nan\n",
    "print(gdf['police_stations_count_diff'].min(), gdf['police_stations_count_diff'].max())"
   ]
  },
  {
   "cell_type": "code",
   "execution_count": null,
   "metadata": {
    "execution": {
     "iopub.execute_input": "2024-10-17T20:54:29.166388Z",
     "iopub.status.busy": "2024-10-17T20:54:29.166285Z",
     "iopub.status.idle": "2024-10-17T20:54:29.924123Z",
     "shell.execute_reply": "2024-10-17T20:54:29.923766Z",
     "shell.execute_reply.started": "2024-10-17T20:54:29.166379Z"
    }
   },
   "outputs": [],
   "source": [
    "gdf.plot('police_stations_count_diff', legend=True)"
   ]
  },
  {
   "cell_type": "code",
   "execution_count": null,
   "metadata": {
    "execution": {
     "iopub.execute_input": "2024-10-17T20:54:29.925575Z",
     "iopub.status.busy": "2024-10-17T20:54:29.925443Z",
     "iopub.status.idle": "2024-10-17T20:54:29.940368Z",
     "shell.execute_reply": "2024-10-17T20:54:29.939993Z",
     "shell.execute_reply.started": "2024-10-17T20:54:29.925563Z"
    }
   },
   "outputs": [],
   "source": [
    "# export\n",
    "csv_file_path = f\"climate_{new_name}.csv\"\n",
    "gdf_to_save = gdf[['tract', 'GEOID', 'county', 'police_stations_count_diff']]\n",
    "gdf_to_save.to_csv(csv_file_path, index=False)\n",
    "print(f\"{csv_file_path}\")"
   ]
  },
  {
   "cell_type": "markdown",
   "metadata": {},
   "source": [
    "**Fire Stations**"
   ]
  },
  {
   "cell_type": "code",
   "execution_count": null,
   "metadata": {
    "execution": {
     "iopub.execute_input": "2024-10-17T20:54:47.625338Z",
     "iopub.status.busy": "2024-10-17T20:54:47.624608Z",
     "iopub.status.idle": "2024-10-17T20:54:54.578560Z",
     "shell.execute_reply": "2024-10-17T20:54:54.578033Z",
     "shell.execute_reply.started": "2024-10-17T20:54:47.625303Z"
    }
   },
   "outputs": [],
   "source": [
    "new_name = 'slr_fire_stations_count_metric'\n",
    "\n",
    "# Merge with ca_tract_county\n",
    "merged_df = pd.merge(ca_tract_county, difference_dfs['slr_fire_stations_count_diff'], on='countyfp', how='left')\n",
    "merged_df.iloc[:, -1] = merged_df.iloc[:, -1].fillna(0)\n",
    "merged_df['GEOID'] = merged_df['tract']\n",
    "\n",
    "gdf = add_census_tracts(merged_df)\n",
    "gdf"
   ]
  },
  {
   "cell_type": "code",
   "execution_count": null,
   "metadata": {
    "execution": {
     "iopub.execute_input": "2024-10-17T20:54:54.579687Z",
     "iopub.status.busy": "2024-10-17T20:54:54.579514Z",
     "iopub.status.idle": "2024-10-17T20:54:54.583857Z",
     "shell.execute_reply": "2024-10-17T20:54:54.583512Z",
     "shell.execute_reply.started": "2024-10-17T20:54:54.579673Z"
    }
   },
   "outputs": [],
   "source": [
    "gdf.loc[~gdf['COUNTYFP'].isin(slr_coast_counties), 'fire_stations_count_diff'] = np.nan\n",
    "print(gdf['fire_stations_count_diff'].min(), gdf['fire_stations_count_diff'].max())"
   ]
  },
  {
   "cell_type": "code",
   "execution_count": null,
   "metadata": {
    "execution": {
     "iopub.execute_input": "2024-10-17T20:54:54.584489Z",
     "iopub.status.busy": "2024-10-17T20:54:54.584380Z",
     "iopub.status.idle": "2024-10-17T20:54:55.410333Z",
     "shell.execute_reply": "2024-10-17T20:54:55.409952Z",
     "shell.execute_reply.started": "2024-10-17T20:54:54.584480Z"
    }
   },
   "outputs": [],
   "source": [
    "gdf.plot('fire_stations_count_diff', legend=True)"
   ]
  },
  {
   "cell_type": "code",
   "execution_count": null,
   "metadata": {
    "execution": {
     "iopub.execute_input": "2024-10-17T20:55:04.004893Z",
     "iopub.status.busy": "2024-10-17T20:55:04.004190Z",
     "iopub.status.idle": "2024-10-17T20:55:04.045161Z",
     "shell.execute_reply": "2024-10-17T20:55:04.044584Z",
     "shell.execute_reply.started": "2024-10-17T20:55:04.004859Z"
    }
   },
   "outputs": [],
   "source": [
    "# export\n",
    "csv_file_path = f\"climate_{new_name}.csv\"\n",
    "gdf_to_save = gdf[['tract', 'GEOID', 'county', 'fire_stations_count_diff']]\n",
    "gdf_to_save.to_csv(csv_file_path, index=False)\n",
    "print(f\"{csv_file_path}\")"
   ]
  },
  {
   "cell_type": "markdown",
   "metadata": {},
   "source": [
    "**Hospitals**"
   ]
  },
  {
   "cell_type": "code",
   "execution_count": null,
   "metadata": {
    "execution": {
     "iopub.execute_input": "2024-10-17T20:55:05.106509Z",
     "iopub.status.busy": "2024-10-17T20:55:05.105692Z",
     "iopub.status.idle": "2024-10-17T20:55:12.171553Z",
     "shell.execute_reply": "2024-10-17T20:55:12.171167Z",
     "shell.execute_reply.started": "2024-10-17T20:55:05.106472Z"
    }
   },
   "outputs": [],
   "source": [
    "new_name = 'slr_hospitals_count_metric'\n",
    "\n",
    "# Merge with ca_tract_county\n",
    "merged_df = pd.merge(ca_tract_county, difference_dfs['slr_hospitals_count_diff'], on='countyfp', how='left')\n",
    "merged_df.iloc[:, -1] = merged_df.iloc[:, -1].fillna(0)\n",
    "merged_df['GEOID'] = merged_df['tract']\n",
    "\n",
    "gdf = add_census_tracts(merged_df)\n",
    "gdf"
   ]
  },
  {
   "cell_type": "code",
   "execution_count": null,
   "metadata": {
    "execution": {
     "iopub.execute_input": "2024-10-17T20:55:12.172513Z",
     "iopub.status.busy": "2024-10-17T20:55:12.172401Z",
     "iopub.status.idle": "2024-10-17T20:55:12.176053Z",
     "shell.execute_reply": "2024-10-17T20:55:12.175732Z",
     "shell.execute_reply.started": "2024-10-17T20:55:12.172502Z"
    }
   },
   "outputs": [],
   "source": [
    "gdf.loc[~gdf['COUNTYFP'].isin(slr_coast_counties), 'hospitals_count_diff'] = np.nan\n",
    "print(gdf['hospitals_count_diff'].min(), gdf['hospitals_count_diff'].max())"
   ]
  },
  {
   "cell_type": "code",
   "execution_count": null,
   "metadata": {
    "execution": {
     "iopub.execute_input": "2024-10-17T20:55:12.176765Z",
     "iopub.status.busy": "2024-10-17T20:55:12.176611Z",
     "iopub.status.idle": "2024-10-17T20:55:12.995397Z",
     "shell.execute_reply": "2024-10-17T20:55:12.995033Z",
     "shell.execute_reply.started": "2024-10-17T20:55:12.176756Z"
    }
   },
   "outputs": [],
   "source": [
    "gdf.plot('hospitals_count_diff', legend=True)"
   ]
  },
  {
   "cell_type": "code",
   "execution_count": null,
   "metadata": {
    "execution": {
     "iopub.execute_input": "2024-10-17T20:55:38.767771Z",
     "iopub.status.busy": "2024-10-17T20:55:38.767053Z",
     "iopub.status.idle": "2024-10-17T20:55:38.805313Z",
     "shell.execute_reply": "2024-10-17T20:55:38.804784Z",
     "shell.execute_reply.started": "2024-10-17T20:55:38.767737Z"
    }
   },
   "outputs": [],
   "source": [
    "# export\n",
    "csv_file_path = f\"climate_{new_name}.csv\"\n",
    "gdf_to_save = gdf[['tract', 'GEOID', 'county', 'hospitals_count_diff']]\n",
    "gdf_to_save.to_csv(csv_file_path, index=False)\n",
    "print(f\"{csv_file_path}\")"
   ]
  },
  {
   "cell_type": "code",
   "execution_count": null,
   "metadata": {},
   "outputs": [],
   "source": [
    "## OLD CODE -- APPEARED TO BE OVERWRITING OLD DF FILES AND PRODUCING NAN VALUES IN ALL COASTAL COUNTIES\n",
    "# # Dictionary to store the merged DataFrames\n",
    "# merged_dfs = {}\n",
    "\n",
    "# # Loop through each output DataFrame in new_dfs\n",
    "# for name, df in difference_dfs.items():\n",
    "#     # Create a new name for the DataFrame with '_metric' suffix\n",
    "#     new_name = name.replace('_diff', '_metric')\n",
    "\n",
    "#     # Merge with ca_tract_county\n",
    "#     merged_df = pd.merge(ca_tract_county, df, on='countyfp', how='left')\n",
    "#     merged_df.iloc[:, -1] = merged_df.iloc[:, -1].fillna(0)\n",
    "#     merged_df['GEOID'] = merged_df['tract']\n",
    "    \n",
    "#     # Store the merged DataFrame in the dictionary\n",
    "#     # merged_dfs[new_name] = merged_df\n",
    "\n",
    "#     # apply mask\n",
    "#     gdf = add_census_tracts(merged_df)\n",
    "    \n",
    "#     # set any county not in slr_coast_counties to nan\n",
    "#     gdf.loc[~gdf['COUNTYFP'].isin(slr_coast_counties), new_name] = np.nan\n",
    "#     print(f'Values in masked counties for {new_name}:', gdf.loc[~gdf['COUNTYFP'].isin(slr_coast_counties)][new_name].unique()) # confirmed applied!\n",
    "#     print(f'Values in unmasked counties for {new_name}:', gdf.loc[gdf['COUNTYFP'].isin(slr_coast_counties)][new_name].unique()) # confirmed applied!\n",
    "    \n",
    "\n",
    "#     # Save the merged DataFrame as a CSV file\n",
    "#     csv_file_path = f\"climate_{new_name}.csv\"\n",
    "#     gdf_to_save = gdf[['tract', 'GEOID', 'county', new_name]]\n",
    "#     gdf_to_save.to_csv(csv_file_path, index=False)\n",
    "#     print(f\"{csv_file_path}\")\n",
    "\n",
    "# # # Access the merged DataFrames using merged_dfs dictionary\n",
    "# # for name, df in merged_dfs.items():\n",
    "# #     print(f\"\\n{name}:\\n\", df)"
   ]
  },
  {
   "cell_type": "markdown",
   "metadata": {},
   "source": [
    "## Function Call"
   ]
  },
  {
   "cell_type": "code",
   "execution_count": 82,
   "metadata": {
    "execution": {
     "iopub.execute_input": "2024-10-17T20:55:44.111845Z",
     "iopub.status.busy": "2024-10-17T20:55:44.111087Z",
     "iopub.status.idle": "2024-10-17T20:55:44.125853Z",
     "shell.execute_reply": "2024-10-17T20:55:44.124630Z",
     "shell.execute_reply.started": "2024-10-17T20:55:44.111813Z"
    }
   },
   "outputs": [],
   "source": [
    "@append_metadata\n",
    "def slr_pacific_metric_upload(input_csv, export=False, varname=\"\"):  \n",
    "    '''\n",
    "    The function uploads calculated metrics for sea level rise sourced from Pacific Institute at:\n",
    "    https://pacinst.org/califonia-sea-level-rise-gis-data-downloads/\n",
    "    \n",
    "    The metrics include:\n",
    "    * delta percent change in slr tract vulnerablility between 2000 and 2100\n",
    "    * number of exposed buildings\n",
    "    * $ value of replacing buildings & contents\n",
    "    * delta change in number of fire stations vulnerable to sea level rise between baseline and 1.4m rise conditions\n",
    "    * delta change in number of police stations vulnerable to sea level rise between baseline and 1.4m rise conditions\n",
    "    * delta change in number of schools vulnerable to sea level rise between baseline and 1.4m rise conditions\n",
    "    * delta change in number of hospitals vulnerable to sea level rise between baseline and 1.4m rise conditions\n",
    "    * number of wastewater treatment plants vulnerable to sea level rise under 1.4m rise conditions\n",
    "\n",
    "    Parameters\n",
    "    ----------\n",
    "    input_csv: list\n",
    "        list of calculated metric csv's\n",
    "    export: bool, optional\n",
    "        True to upload csvs to AWS, False otherwise.\n",
    "\n",
    "    Methods\n",
    "    --------\n",
    "    Relevant columns for Cal-CRAI SLR metrics were isolated from the original dataset.\n",
    "    For 'number of' metrics, data were grouped and summed by county.\n",
    "    For 'percent of' metrics, data were grouped by tract and averaged.\n",
    "    Most datasets contained data for both baseline and 1.4m SLR, in those cases, the delta change was found and used as the metric\n",
    "    Data were then merged with California census data so 'number of' metrics represent total vulnerable facilities for each county while 'percent of' metrics represent the vulnerability at the tract level.\n",
    "\n",
    "    Script\n",
    "    ------\n",
    "    climate_slr_pacific.ipynb\n",
    "\n",
    "    Note\n",
    "    ------\n",
    "    This function assumes users have configured the AWS CLI such that their access key / \n",
    "    secret key pair are stored in ~/.aws/credentials. \n",
    "    See https://docs.aws.amazon.com/cli/latest/userguide/getting-started-install.html for guidance.\n",
    "    ''' \n",
    "    print('Data transformation: eliminate excess headers and columns not relevant to metric calculation.')\n",
    "    print('Data transformation: for number of metrics, data were grouped and summed by county.')\n",
    "    print('Data transformation: for percentage of metrics, data were grouped by tract and averaged as there were multiple entries per tract.')\n",
    "    print('Data transformation: data were merged to California census tracts so each metric value were attributed to CA tracts.')\n",
    "    print('Data transformation: SLR mask applied to in-land counties to highlight coastal vulnerability and ensure no in-land tract skews results for coastal at-risk regions.')\n",
    "    \n",
    "    if export == True:\n",
    "        # pull csv from aws\n",
    "        bucket_name = 'ca-climate-index'\n",
    "        upload_csv_aws([input_csv], bucket_name, '3_fair_data/index_data')\n",
    "\n",
    "    if export == False:\n",
    "        print(f'{input_csv} uploaded to AWS.')\n",
    "\n",
    "        os.remove(input_csv)  # Remove local file after upload"
   ]
  },
  {
   "cell_type": "code",
   "execution_count": 83,
   "metadata": {
    "execution": {
     "iopub.execute_input": "2024-10-17T20:55:51.424688Z",
     "iopub.status.busy": "2024-10-17T20:55:51.423970Z",
     "iopub.status.idle": "2024-10-17T20:56:04.234396Z",
     "shell.execute_reply": "2024-10-17T20:56:04.233147Z",
     "shell.execute_reply.started": "2024-10-17T20:55:51.424655Z"
    }
   },
   "outputs": [],
   "source": [
    "input_csvs = [\n",
    "'climate_slr_vulnerable_metric.csv', \n",
    "'climate_slr_vulnerable_buildings_metric.csv',\n",
    "'climate_slr_buildings_contents_cost_metric.csv',  \n",
    "'climate_slr_fire_stations_count_metric.csv',\n",
    "'climate_slr_police_stations_count_metric.csv',\n",
    "'climate_slr_schools_count_metric.csv',\n",
    "'climate_slr_hospitals_count_metric.csv',\n",
    "'climate_slr_wastewater_metric.csv'\n",
    "]\n",
    "\n",
    "varnames = [\n",
    "'climate_pacific_institute_slr_exposure_tracts_delta',\n",
    "'climate_pacific_institute_slr_exposure_building_count',\n",
    "'climate_pacific_institute_slr_exposure_building_cost',\n",
    "'climate_pacific_institute_slr_exposure_fire_stations_delta',\n",
    "'climate_pacific_institute_slr_exposure_police_stations_delta',\n",
    "'climate_pacific_institute_slr_exposure_schools_delta',\n",
    "'climate_pacific_institute_slr_exposure_hospitals_delta',\n",
    "'climate_pacific_institute_slr_exposure_wastewater_treatment'\n",
    "]\n",
    "\n",
    "# Process the data and export   \n",
    "for csv, var in zip(input_csvs, varnames):\n",
    "    slr_pacific_metric_upload(csv, export=True, varname='test') #var"
   ]
  },
  {
   "cell_type": "code",
   "execution_count": null,
   "metadata": {},
   "outputs": [],
   "source": []
  }
 ],
 "metadata": {
  "kernelspec": {
   "display_name": "Python 3 (ipykernel)",
   "language": "python",
   "name": "python3"
  },
  "language_info": {
   "codemirror_mode": {
    "name": "ipython",
    "version": 3
   },
   "file_extension": ".py",
   "mimetype": "text/x-python",
   "name": "python",
   "nbconvert_exporter": "python",
   "pygments_lexer": "ipython3",
   "version": "3.9.18"
  }
 },
 "nbformat": 4,
 "nbformat_minor": 4
}
