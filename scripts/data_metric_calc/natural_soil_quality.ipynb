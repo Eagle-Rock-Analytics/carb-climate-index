{
 "cells": [
  {
   "cell_type": "markdown",
   "metadata": {},
   "source": [
    "### Cal-CRAI metric calculation: soil quality\n",
    "* Mean evaporative stress index\n",
    "* Mean surface soil moisture anomaly (depending on structure)"
   ]
  },
  {
   "cell_type": "code",
   "execution_count": 1,
   "metadata": {
    "execution": {
     "iopub.execute_input": "2024-08-21T17:42:44.552457Z",
     "iopub.status.busy": "2024-08-21T17:42:44.551206Z",
     "iopub.status.idle": "2024-08-21T17:42:45.815882Z",
     "shell.execute_reply": "2024-08-21T17:42:45.815313Z",
     "shell.execute_reply.started": "2024-08-21T17:42:44.552375Z"
    }
   },
   "outputs": [],
   "source": [
    "import pandas as pd\n",
    "import os\n",
    "import sys\n",
    "import math\n",
    "import numpy as np\n",
    "import xarray as xr\n",
    "import matplotlib.pyplot as plt\n",
    "import geopandas as gpd\n",
    "from shapely.geometry import Point\n",
    "\n",
    "# suppress pandas purely educational warnings\n",
    "from warnings import simplefilter\n",
    "simplefilter(action=\"ignore\", category=pd.errors.PerformanceWarning)\n",
    "\n",
    "sys.path.append(os.path.expanduser('../../'))\n",
    "from scripts.utils.file_helpers import pull_csv_from_directory, upload_csv_aws, filter_counties\n",
    "from scripts.utils.write_metadata import append_metadata"
   ]
  },
  {
   "cell_type": "markdown",
   "metadata": {},
   "source": [
    "### Metric 1\n",
    "Mean evaporative stress index"
   ]
  },
  {
   "cell_type": "code",
   "execution_count": 2,
   "metadata": {
    "execution": {
     "iopub.execute_input": "2024-08-21T17:42:45.817563Z",
     "iopub.status.busy": "2024-08-21T17:42:45.817039Z",
     "iopub.status.idle": "2024-08-21T17:42:45.820057Z",
     "shell.execute_reply": "2024-08-21T17:42:45.819655Z",
     "shell.execute_reply.started": "2024-08-21T17:42:45.817534Z"
    }
   },
   "outputs": [],
   "source": [
    "evap_stress_link = 's3://ca-climate-index/2b_reproject/natural_systems/agricultural_productivity_conservation/usda_nasa/evaporative_stress_ca_reproject.zarr/'"
   ]
  },
  {
   "cell_type": "code",
   "execution_count": null,
   "metadata": {
    "execution": {
     "iopub.execute_input": "2024-08-21T17:42:45.821084Z",
     "iopub.status.busy": "2024-08-21T17:42:45.820896Z",
     "iopub.status.idle": "2024-08-21T17:43:05.072029Z",
     "shell.execute_reply": "2024-08-21T17:43:05.071638Z",
     "shell.execute_reply.started": "2024-08-21T17:42:45.821071Z"
    }
   },
   "outputs": [],
   "source": [
    "ds = xr.open_zarr(evap_stress_link)\n",
    "\n",
    "# grab variable and load into memory\n",
    "esi = ds['esi']\n",
    "esi = esi.compute()\n",
    "esi"
   ]
  },
  {
   "cell_type": "code",
   "execution_count": null,
   "metadata": {
    "execution": {
     "iopub.execute_input": "2024-08-21T17:43:05.073464Z",
     "iopub.status.busy": "2024-08-21T17:43:05.073118Z",
     "iopub.status.idle": "2024-08-21T17:43:05.200052Z",
     "shell.execute_reply": "2024-08-21T17:43:05.199713Z",
     "shell.execute_reply.started": "2024-08-21T17:43:05.073452Z"
    }
   },
   "outputs": [],
   "source": [
    "# determine how many values are extreme negative values -- are these outliers and can be safely removed?\n",
    "esi.min().values, esi.max().values\n",
    "# range is -25 to +5\n",
    "\n",
    "# how many values are below ~ -5? (determining # of outliers)\n",
    "outliers = (esi < -5).sum()\n",
    "outliers\n",
    "\n",
    "# 862 values below -5 (1 value below -25), keep!"
   ]
  },
  {
   "cell_type": "markdown",
   "metadata": {},
   "source": [
    "### Calculate metric\n",
    "* mean evaporative stress index"
   ]
  },
  {
   "cell_type": "code",
   "execution_count": null,
   "metadata": {
    "execution": {
     "iopub.execute_input": "2024-08-21T17:43:05.200608Z",
     "iopub.status.busy": "2024-08-21T17:43:05.200503Z",
     "iopub.status.idle": "2024-08-21T17:43:05.247962Z",
     "shell.execute_reply": "2024-08-21T17:43:05.247595Z",
     "shell.execute_reply.started": "2024-08-21T17:43:05.200599Z"
    }
   },
   "outputs": [],
   "source": [
    "# check difference between time mean and annual mean -- no difference\n",
    "esi_ann = esi.groupby('time.year').mean()\n",
    "esi_ann_avg = esi_ann.mean(dim='year')\n",
    "esi_ann_avg.min().values, esi_ann_avg.max().values"
   ]
  },
  {
   "cell_type": "markdown",
   "metadata": {},
   "source": [
    "### Reproject data to census tract projection"
   ]
  },
  {
   "cell_type": "code",
   "execution_count": 6,
   "metadata": {
    "execution": {
     "iopub.execute_input": "2024-08-21T17:43:05.248864Z",
     "iopub.status.busy": "2024-08-21T17:43:05.248630Z",
     "iopub.status.idle": "2024-08-21T17:43:05.253641Z",
     "shell.execute_reply": "2024-08-21T17:43:05.253320Z",
     "shell.execute_reply.started": "2024-08-21T17:43:05.248843Z"
    }
   },
   "outputs": [],
   "source": [
    "df = esi_ann_avg.to_dataframe().reset_index()"
   ]
  },
  {
   "cell_type": "code",
   "execution_count": null,
   "metadata": {
    "execution": {
     "iopub.execute_input": "2024-08-21T17:43:05.254283Z",
     "iopub.status.busy": "2024-08-21T17:43:05.254138Z",
     "iopub.status.idle": "2024-08-21T17:43:05.257426Z",
     "shell.execute_reply": "2024-08-21T17:43:05.257140Z",
     "shell.execute_reply.started": "2024-08-21T17:43:05.254272Z"
    }
   },
   "outputs": [],
   "source": [
    "unique_esi_entries = df['esi'].nunique()\n",
    "print(f'There are {unique_esi_entries} unique entries in the esi column.')"
   ]
  },
  {
   "cell_type": "code",
   "execution_count": null,
   "metadata": {
    "execution": {
     "iopub.execute_input": "2024-08-21T17:43:05.258885Z",
     "iopub.status.busy": "2024-08-21T17:43:05.258763Z",
     "iopub.status.idle": "2024-08-21T17:43:05.505327Z",
     "shell.execute_reply": "2024-08-21T17:43:05.505018Z",
     "shell.execute_reply.started": "2024-08-21T17:43:05.258875Z"
    }
   },
   "outputs": [],
   "source": [
    "# Create geometry column from coordinates\n",
    "geometry = [Point(xy) for xy in zip(df['lon'], df['lat'])]\n",
    "\n",
    "# Create GeoDataFrame\n",
    "esi_gdf = gpd.GeoDataFrame(df, geometry=geometry)\n",
    "esi_gdf"
   ]
  },
  {
   "cell_type": "code",
   "execution_count": null,
   "metadata": {
    "execution": {
     "iopub.execute_input": "2024-08-21T17:43:17.344355Z",
     "iopub.status.busy": "2024-08-21T17:43:17.343172Z",
     "iopub.status.idle": "2024-08-21T17:43:17.943449Z",
     "shell.execute_reply": "2024-08-21T17:43:17.943060Z",
     "shell.execute_reply.started": "2024-08-21T17:43:17.344279Z"
    }
   },
   "outputs": [],
   "source": [
    "esi_gdf.plot(column='esi', markersize=0.25, cmap='bwr')"
   ]
  },
  {
   "cell_type": "code",
   "execution_count": null,
   "metadata": {
    "execution": {
     "iopub.execute_input": "2024-08-21T17:46:21.885131Z",
     "iopub.status.busy": "2024-08-21T17:46:21.883930Z",
     "iopub.status.idle": "2024-08-21T17:46:33.141652Z",
     "shell.execute_reply": "2024-08-21T17:46:33.141309Z",
     "shell.execute_reply.started": "2024-08-21T17:46:21.885050Z"
    }
   },
   "outputs": [],
   "source": [
    "# read in CA census tiger file\n",
    "census_shp_dir = \"s3://ca-climate-index/0_map_data/2021_tiger_census_tract/2021_ca_tract/\"\n",
    "ca_boundaries = gpd.read_file(census_shp_dir)\n",
    "print(\"ca_boundaries CRS:\", ca_boundaries.crs)"
   ]
  },
  {
   "cell_type": "code",
   "execution_count": null,
   "metadata": {
    "execution": {
     "iopub.execute_input": "2024-08-21T17:46:33.142859Z",
     "iopub.status.busy": "2024-08-21T17:46:33.142467Z",
     "iopub.status.idle": "2024-08-21T17:46:33.146484Z",
     "shell.execute_reply": "2024-08-21T17:46:33.146219Z",
     "shell.execute_reply.started": "2024-08-21T17:46:33.142848Z"
    }
   },
   "outputs": [],
   "source": [
    "# Check the current CRS of the GeoDataFrame\n",
    "print(\"gdf CRS:\", esi_gdf.crs)\n",
    "esi_gdf.set_crs(epsg=\"4269\", inplace=True)\n",
    "\n",
    "# If they have different CRS, transform one to match the other\n",
    "if esi_gdf.crs != ca_boundaries.crs:\n",
    "    esi_gdf = esi_gdf.to_crs(ca_boundaries.crs)\n",
    "\n",
    "# Now both GeoDataFrames should have the same CRS\n",
    "print(\"Transformed gdf CRS:\", esi_gdf.crs)"
   ]
  },
  {
   "cell_type": "code",
   "execution_count": null,
   "metadata": {
    "execution": {
     "iopub.execute_input": "2024-08-21T17:46:44.631895Z",
     "iopub.status.busy": "2024-08-21T17:46:44.631172Z",
     "iopub.status.idle": "2024-08-21T17:46:48.591664Z",
     "shell.execute_reply": "2024-08-21T17:46:48.591324Z",
     "shell.execute_reply.started": "2024-08-21T17:46:44.631859Z"
    }
   },
   "outputs": [],
   "source": [
    "# intersect points within geometry -- warning popping up about CRS -- ignore since they are in the same projection\n",
    "intersect_df = gpd.sjoin_nearest(esi_gdf, ca_boundaries, how='right')\n",
    "intersect_df_avg = intersect_df.groupby('GEOID')['esi'].agg(['mean']).reset_index()\n",
    "intersect_df_avg = pd.merge(intersect_df_avg, ca_boundaries, on='GEOID', how='right')\n",
    "intersect_df_avg = gpd.GeoDataFrame(intersect_df_avg, geometry='geometry')\n",
    "\n",
    "# reanme column to be interpretable\n",
    "intersect_df_avg['esi_mean'] = intersect_df_avg['mean']\n",
    "intersect_df_avg.plot(column='esi_mean')"
   ]
  },
  {
   "cell_type": "code",
   "execution_count": null,
   "metadata": {
    "execution": {
     "iopub.execute_input": "2024-08-21T17:47:00.409870Z",
     "iopub.status.busy": "2024-08-21T17:47:00.408941Z",
     "iopub.status.idle": "2024-08-21T17:47:00.429298Z",
     "shell.execute_reply": "2024-08-21T17:47:00.428463Z",
     "shell.execute_reply.started": "2024-08-21T17:47:00.409819Z"
    }
   },
   "outputs": [],
   "source": [
    "# drop unneeded columns\n",
    "intersect_df_avg = intersect_df_avg[['GEOID', 'esi_mean']]\n",
    "intersect_df_avg"
   ]
  },
  {
   "cell_type": "code",
   "execution_count": 19,
   "metadata": {
    "execution": {
     "iopub.execute_input": "2024-08-20T16:40:26.246397Z",
     "iopub.status.busy": "2024-08-20T16:40:26.245661Z",
     "iopub.status.idle": "2024-08-20T16:40:26.287166Z",
     "shell.execute_reply": "2024-08-20T16:40:26.286588Z",
     "shell.execute_reply.started": "2024-08-20T16:40:26.246355Z"
    }
   },
   "outputs": [],
   "source": [
    "# save as a csv\n",
    "intersect_df_avg.to_csv('natural_crop_condition_esi_metric.csv', index=False)"
   ]
  },
  {
   "cell_type": "markdown",
   "metadata": {},
   "source": [
    "### Metric 2\n",
    "* Mean surface soil moisture anomaly"
   ]
  },
  {
   "cell_type": "code",
   "execution_count": 16,
   "metadata": {
    "execution": {
     "iopub.execute_input": "2024-08-21T17:47:19.677629Z",
     "iopub.status.busy": "2024-08-21T17:47:19.676940Z",
     "iopub.status.idle": "2024-08-21T17:47:19.684554Z",
     "shell.execute_reply": "2024-08-21T17:47:19.681990Z",
     "shell.execute_reply.started": "2024-08-21T17:47:19.677594Z"
    }
   },
   "outputs": [],
   "source": [
    "soil_anom_link = 's3://ca-climate-index/2b_reproject/natural_systems/agricultural_productivity_conservation/usda_nasa/soil_moisture_anom_ca_reproject.zarr/'"
   ]
  },
  {
   "cell_type": "code",
   "execution_count": null,
   "metadata": {
    "execution": {
     "iopub.execute_input": "2024-08-21T17:47:20.044037Z",
     "iopub.status.busy": "2024-08-21T17:47:20.042841Z",
     "iopub.status.idle": "2024-08-21T17:47:22.029776Z",
     "shell.execute_reply": "2024-08-21T17:47:22.029137Z",
     "shell.execute_reply.started": "2024-08-21T17:47:20.043969Z"
    }
   },
   "outputs": [],
   "source": [
    "ds = xr.open_zarr(soil_anom_link)\n",
    "\n",
    "# grab variable and load into memory\n",
    "ssma = ds['ssma']\n",
    "ssma = ssma.compute()\n",
    "ssma"
   ]
  },
  {
   "cell_type": "code",
   "execution_count": null,
   "metadata": {
    "execution": {
     "iopub.execute_input": "2024-08-21T17:47:22.031065Z",
     "iopub.status.busy": "2024-08-21T17:47:22.030871Z",
     "iopub.status.idle": "2024-08-21T17:47:22.089137Z",
     "shell.execute_reply": "2024-08-21T17:47:22.088719Z",
     "shell.execute_reply.started": "2024-08-21T17:47:22.031048Z"
    }
   },
   "outputs": [],
   "source": [
    "ssma.min().values, ssma.max().values"
   ]
  },
  {
   "cell_type": "markdown",
   "metadata": {},
   "source": [
    "### Calculate metric"
   ]
  },
  {
   "cell_type": "code",
   "execution_count": null,
   "metadata": {
    "execution": {
     "iopub.execute_input": "2024-08-21T17:47:22.622663Z",
     "iopub.status.busy": "2024-08-21T17:47:22.621916Z",
     "iopub.status.idle": "2024-08-21T17:47:22.667190Z",
     "shell.execute_reply": "2024-08-21T17:47:22.666521Z",
     "shell.execute_reply.started": "2024-08-21T17:47:22.622627Z"
    }
   },
   "outputs": [],
   "source": [
    "ssma_ann = ssma.groupby('time.year').mean()\n",
    "ssma_ann_avg = ssma_ann.mean(dim='year')\n",
    "ssma_ann_avg.min().values, ssma_ann_avg.max().values"
   ]
  },
  {
   "cell_type": "markdown",
   "metadata": {},
   "source": [
    "### Reproject to census tracts"
   ]
  },
  {
   "cell_type": "code",
   "execution_count": 20,
   "metadata": {
    "execution": {
     "iopub.execute_input": "2024-08-21T17:47:25.762468Z",
     "iopub.status.busy": "2024-08-21T17:47:25.761762Z",
     "iopub.status.idle": "2024-08-21T17:47:25.775136Z",
     "shell.execute_reply": "2024-08-21T17:47:25.774013Z",
     "shell.execute_reply.started": "2024-08-21T17:47:25.762432Z"
    }
   },
   "outputs": [],
   "source": [
    "df = ssma_ann_avg.to_dataframe().reset_index()"
   ]
  },
  {
   "cell_type": "code",
   "execution_count": null,
   "metadata": {
    "execution": {
     "iopub.execute_input": "2024-08-21T17:47:26.162709Z",
     "iopub.status.busy": "2024-08-21T17:47:26.161483Z",
     "iopub.status.idle": "2024-08-21T17:47:26.249174Z",
     "shell.execute_reply": "2024-08-21T17:47:26.248819Z",
     "shell.execute_reply.started": "2024-08-21T17:47:26.162640Z"
    }
   },
   "outputs": [],
   "source": [
    "# Create geometry column from coordinates\n",
    "geometry = [Point(xy) for xy in zip(df['lon'], df['lat'])]\n",
    "\n",
    "# Create GeoDataFrame\n",
    "ssma_gdf = gpd.GeoDataFrame(df, geometry=geometry)\n",
    "ssma_gdf"
   ]
  },
  {
   "cell_type": "code",
   "execution_count": null,
   "metadata": {
    "execution": {
     "iopub.execute_input": "2024-08-21T17:48:05.881309Z",
     "iopub.status.busy": "2024-08-21T17:48:05.880610Z",
     "iopub.status.idle": "2024-08-21T17:48:06.085385Z",
     "shell.execute_reply": "2024-08-21T17:48:06.084999Z",
     "shell.execute_reply.started": "2024-08-21T17:48:05.881275Z"
    }
   },
   "outputs": [],
   "source": [
    "ssma_gdf.plot(column='ssma', markersize=7, cmap='bwr')\n",
    "# noting that there are actual nan values for some locations"
   ]
  },
  {
   "cell_type": "code",
   "execution_count": null,
   "metadata": {
    "execution": {
     "iopub.execute_input": "2024-08-21T17:48:22.083777Z",
     "iopub.status.busy": "2024-08-21T17:48:22.083012Z",
     "iopub.status.idle": "2024-08-21T17:48:22.100861Z",
     "shell.execute_reply": "2024-08-21T17:48:22.099401Z",
     "shell.execute_reply.started": "2024-08-21T17:48:22.083737Z"
    }
   },
   "outputs": [],
   "source": [
    "# Check the current CRS of the GeoDataFrame\n",
    "print(\"gdf CRS:\", ssma_gdf.crs)\n",
    "ssma_gdf.set_crs(epsg=\"4269\", inplace=True)\n",
    "\n",
    "# If they have different CRS, transform one to match the other\n",
    "if ssma_gdf.crs != ca_boundaries.crs:\n",
    "    ssma_gdf = ssma_gdf.to_crs(ca_boundaries.crs)\n",
    "\n",
    "# Now both GeoDataFrames should have the same CRS\n",
    "print(\"Transformed gdf CRS:\", ssma_gdf.crs)"
   ]
  },
  {
   "cell_type": "code",
   "execution_count": null,
   "metadata": {
    "execution": {
     "iopub.execute_input": "2024-08-21T17:48:27.111805Z",
     "iopub.status.busy": "2024-08-21T17:48:27.111054Z",
     "iopub.status.idle": "2024-08-21T17:48:29.326798Z",
     "shell.execute_reply": "2024-08-21T17:48:29.326259Z",
     "shell.execute_reply.started": "2024-08-21T17:48:27.111768Z"
    }
   },
   "outputs": [],
   "source": [
    "# intersect points within geometry -- warning popping up about CRS -- ignore since they are in the same projection\n",
    "intersect_df = gpd.sjoin_nearest(ssma_gdf, ca_boundaries, how='right')\n",
    "intersect_ssma_avg = intersect_df.groupby('GEOID')['ssma'].agg(['mean']).reset_index()\n",
    "intersect_ssma_avg = pd.merge(intersect_ssma_avg, ca_boundaries, on='GEOID', how='right')\n",
    "intersect_ssma_avg = gpd.GeoDataFrame(intersect_ssma_avg, geometry='geometry')\n",
    "\n",
    "# reanme column to be interpretable\n",
    "intersect_ssma_avg['ssma_mean'] = intersect_ssma_avg['mean']\n",
    "intersect_ssma_avg.plot(column='ssma_mean')"
   ]
  },
  {
   "cell_type": "code",
   "execution_count": null,
   "metadata": {
    "execution": {
     "iopub.execute_input": "2024-08-20T16:42:14.246180Z",
     "iopub.status.busy": "2024-08-20T16:42:14.245393Z",
     "iopub.status.idle": "2024-08-20T16:42:14.268411Z",
     "shell.execute_reply": "2024-08-20T16:42:14.267041Z",
     "shell.execute_reply.started": "2024-08-20T16:42:14.246145Z"
    }
   },
   "outputs": [],
   "source": [
    "# drop unneeded columns\n",
    "intersect_ssma_avg = intersect_ssma_avg[['GEOID', 'ssma_mean']]\n",
    "intersect_ssma_avg"
   ]
  },
  {
   "cell_type": "code",
   "execution_count": 33,
   "metadata": {
    "execution": {
     "iopub.execute_input": "2024-08-20T16:42:14.605298Z",
     "iopub.status.busy": "2024-08-20T16:42:14.604511Z",
     "iopub.status.idle": "2024-08-20T16:42:14.637639Z",
     "shell.execute_reply": "2024-08-20T16:42:14.637029Z",
     "shell.execute_reply.started": "2024-08-20T16:42:14.605263Z"
    }
   },
   "outputs": [],
   "source": [
    "# save as a csv\n",
    "intersect_ssma_avg.to_csv('natural_crop_condition_soil_anomaly_metric.csv', index=False)"
   ]
  },
  {
   "cell_type": "markdown",
   "metadata": {},
   "source": [
    "### Step 4: Metadata"
   ]
  },
  {
   "cell_type": "code",
   "execution_count": 34,
   "metadata": {
    "execution": {
     "iopub.execute_input": "2024-08-20T16:42:20.333280Z",
     "iopub.status.busy": "2024-08-20T16:42:20.332484Z",
     "iopub.status.idle": "2024-08-20T16:42:20.343423Z",
     "shell.execute_reply": "2024-08-20T16:42:20.342535Z",
     "shell.execute_reply.started": "2024-08-20T16:42:20.333244Z"
    }
   },
   "outputs": [],
   "source": [
    "@append_metadata\n",
    "def natural_soil_quality(input_csv, export=False, varname=''):    \n",
    "    '''\n",
    "    Calculates the average soil quality / crop condition values per California census tract.\n",
    "    Metrics are:\n",
    "    * Mean evaporative stress index\n",
    "    * Mean surface soil moisture anomaly\n",
    "    Data was sourced from: https://climateserv.servirglobal.net/map\n",
    "\n",
    "    Methods\n",
    "    -------\n",
    "    Data columns were renamed, merged to 2022 census tract data, and averaged to attribute\n",
    "    scores to all California tracts.\n",
    "    \n",
    "    Parameters\n",
    "    ----------\n",
    "    df: string\n",
    "        the dataframe containing the crop condition data\n",
    "    export: True/False boolean\n",
    "        False = will not upload resulting df containing CAL CRAI crop condition metric to AWS\n",
    "        True = will upload resulting df containing CAL CRAI crop condition metric to AWS\n",
    "    import_csv: string\n",
    "        name of the csv file to be uploaded to AWS\n",
    "\n",
    "    Script\n",
    "    ------\n",
    "    natural_soil_quality.ipynb\n",
    "\n",
    "    Note:\n",
    "    This function assumes users have configured the AWS CLI such that their access key / secret key pair are\n",
    "    stored in ~/.aws/credentials.\n",
    "    See https://docs.aws.amazon.com/cli/latest/userguide/getting-started-install.html for guidance.\n",
    "    '''\n",
    "    print('Data transformation: data converted to Cal-CRAI standardized coordinate reference system (CRS): 4269.')\n",
    "    print('Data transformation: merge data to California tracts and calculate census tract average over time.')\n",
    "    print('Data transformation: nan values are retained for each census tract without a soil quality metric(s), especially relevant for urban areas.')\n",
    "\n",
    "    bucket_name = 'ca-climate-index'\n",
    "    directory = '3_fair_data/index_data'\n",
    "    export_filename = [input_csv]\n",
    "\n",
    "    if export == True:\n",
    "        upload_csv_aws(export_filename, bucket_name, directory)\n",
    "\n",
    "    if export == False:\n",
    "        print(f'{export_filename} uploaded to AWS.')\n",
    "\n",
    "    if os.path.exists(input_csv):\n",
    "        os.remove(input_csv)"
   ]
  },
  {
   "cell_type": "code",
   "execution_count": 35,
   "metadata": {
    "execution": {
     "iopub.execute_input": "2024-08-20T16:42:22.561549Z",
     "iopub.status.busy": "2024-08-20T16:42:22.560845Z",
     "iopub.status.idle": "2024-08-20T16:42:23.908197Z",
     "shell.execute_reply": "2024-08-20T16:42:23.906976Z",
     "shell.execute_reply.started": "2024-08-20T16:42:22.561510Z"
    }
   },
   "outputs": [],
   "source": [
    "input_csv = ['natural_crop_condition_esi_metric.csv',\n",
    "            'natural_crop_condition_soil_anomaly_metric.csv']\n",
    "\n",
    "varnames = [\n",
    "    'natural_nasa_crop_esi',\n",
    "    'natural_nasa_soil_moisture_anomaly']\n",
    "\n",
    "for csv, var in zip(input_csv, varnames):\n",
    "    natural_soil_quality(csv, export=False, varname=var)"
   ]
  },
  {
   "cell_type": "code",
   "execution_count": null,
   "metadata": {},
   "outputs": [],
   "source": []
  }
 ],
 "metadata": {
  "kernelspec": {
   "display_name": "Python 3 (ipykernel)",
   "language": "python",
   "name": "python3"
  },
  "language_info": {
   "codemirror_mode": {
    "name": "ipython",
    "version": 3
   },
   "file_extension": ".py",
   "mimetype": "text/x-python",
   "name": "python",
   "nbconvert_exporter": "python",
   "pygments_lexer": "ipython3",
   "version": "3.9.18"
  }
 },
 "nbformat": 4,
 "nbformat_minor": 4
}
