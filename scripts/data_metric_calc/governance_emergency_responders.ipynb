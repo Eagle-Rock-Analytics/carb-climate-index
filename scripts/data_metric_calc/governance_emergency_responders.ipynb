{
 "cells": [
  {
   "cell_type": "markdown",
   "metadata": {},
   "source": [
    "## Cal-CRAI Metric Calculation\n",
    "Domain: Governance \\\n",
    "Indicator: Emergency Response\n",
    "\n",
    "This notebook calculates four metrics, sourced from the California Employment Development Department:\n",
    "* Metric 1: Number of firefighters per 10,000 people\n",
    "* Metric 2: Number of registered nurses per 10,000 people\n",
    "* Metric 3: Number of paramedics and emergency medical technicians per 10,000 people\n",
    "* Metric 4: Number of police officers per 10,000 people"
   ]
  },
  {
   "cell_type": "code",
   "execution_count": 1,
   "metadata": {},
   "outputs": [],
   "source": [
    "import pandas as pd\n",
    "import os\n",
    "import sys\n",
    "import math\n",
    "import re\n",
    "import shutil\n",
    "\n",
    "# suppress pandas purely educational warnings\n",
    "from warnings import simplefilter\n",
    "simplefilter(action=\"ignore\", category=pd.errors.PerformanceWarning)\n",
    "\n",
    "sys.path.append(os.path.expanduser('../../'))\n",
    "\n",
    "from scripts.utils.file_helpers import pull_csv_from_directory, upload_csv_aws, filter_counties\n",
    "from scripts.utils.write_metadata import append_metadata"
   ]
  },
  {
   "cell_type": "code",
   "execution_count": null,
   "metadata": {},
   "outputs": [],
   "source": [
    "# pull csv from aws\n",
    "bucket_name = 'ca-climate-index'\n",
    "aws_dir = '1_pull_data/governance/emergency_response/ca_employment_development_dept/'\n",
    "\n",
    "pull_csv_from_directory(bucket_name, aws_dir, search_zipped=False)"
   ]
  },
  {
   "cell_type": "code",
   "execution_count": null,
   "metadata": {},
   "outputs": [],
   "source": [
    "# read in data\n",
    "# drop non-relevant columns and rename useful ones\n",
    "emergency_employment_data = pd.read_csv('ca_emergency_employment.csv')\n",
    "emergency_employment_data = emergency_employment_data.drop(columns={'Unnamed: 0', 'Subject'})\n",
    "emergency_employment_data = emergency_employment_data.rename(columns={'Value':'number_employed'})\n",
    "emergency_employment_data.columns = emergency_employment_data.columns.str.lower()\n",
    "emergency_employment_data"
   ]
  },
  {
   "cell_type": "code",
   "execution_count": null,
   "metadata": {},
   "outputs": [],
   "source": [
    "# check to see if any entries are non-California counties or have a different naming scheme\n",
    "filter_county_employ, omitted_data = filter_counties(emergency_employment_data, 'county')\n",
    "omitted_data"
   ]
  },
  {
   "cell_type": "code",
   "execution_count": null,
   "metadata": {},
   "outputs": [],
   "source": [
    "# call in our estimated population by CA county dataset\n",
    "county_pop_link = \"s3://ca-climate-index/0_map_data/county_est_pop_2022.csv\"\n",
    "county_pop = pd.read_csv(county_pop_link)\n",
    "county_pop = county_pop.drop(columns='Unnamed: 0')\n",
    "county_pop.head()"
   ]
  },
  {
   "cell_type": "code",
   "execution_count": null,
   "metadata": {},
   "outputs": [],
   "source": [
    "# merge the employment data with population data, based on shared counties\n",
    "ca_emergency_responder_population = pd.merge(county_pop, emergency_employment_data, on='county', how='right')\n",
    "ca_emergency_responder_population"
   ]
  },
  {
   "cell_type": "code",
   "execution_count": null,
   "metadata": {},
   "outputs": [],
   "source": [
    "# create our metric calculation by dividing the employment per occupation by the corresponding counties population\n",
    "ca_emergency_responder_population['number_employed_per_10000'] = (ca_emergency_responder_population['number_employed'] / ca_emergency_responder_population['est_total_pop']) * 10000\n",
    "ca_emergency_responder_population"
   ]
  },
  {
   "cell_type": "markdown",
   "metadata": {},
   "source": [
    "## Separate the data into four different dataframes, one for each occupation\n",
    "* save each df as a csv, appending a 'governance_' prefix and '_metric' suffix"
   ]
  },
  {
   "cell_type": "code",
   "execution_count": 15,
   "metadata": {},
   "outputs": [],
   "source": [
    "county_tract = \"s3://ca-climate-index/0_map_data/ca_tract_county_population_2021.csv\"\n",
    "ca_county_tract = pd.read_csv(county_tract)\n",
    "ca_county_tract = ca_county_tract.rename(columns={'Census Tract': 'census_tract', 'County':'county'})\n",
    "ca_county_tract = ca_county_tract.drop(columns={'Unnamed: 0', 'COUNTYFP', 'Total Population 2021'})"
   ]
  },
  {
   "cell_type": "code",
   "execution_count": null,
   "metadata": {},
   "outputs": [],
   "source": [
    "unique_occupations = ca_emergency_responder_population['occupation code'].unique()\n",
    "\n",
    "occupation_dfs = {}  # dictionary to store dataframes for each occupation\n",
    "\n",
    "for occupation_code in unique_occupations:\n",
    "    # get the occupation name for the current occupation code\n",
    "    occupation_name = ca_emergency_responder_population.loc[ca_emergency_responder_population['occupation code'] == occupation_code, 'occupation code'].iloc[0]\n",
    "    \n",
    "    # create a dataframe for the current occupation code\n",
    "    occupation_df = ca_emergency_responder_population[ca_emergency_responder_population['occupation code'] == occupation_code].copy()\n",
    "    \n",
    "    # store the DataFrame in the dictionary with the occupation name as the key\n",
    "    occupation_dfs[occupation_name] = occupation_df\n",
    "    \n",
    "for occupation_name, occupation_df in occupation_dfs.items():\n",
    "    # Clean up the occupation name\n",
    "    occupation_name_clean = re.sub(r'\\b\\d+\\b', '', occupation_name).strip()  # remove numbers\n",
    "    occupation_name_clean = occupation_name_clean.lower().replace(' ', '_')  # convert to lowercase and replace spaces\n",
    "    \n",
    "    # Define a filename based on the cleaned occupation name\n",
    "    filename = f\"governance_{occupation_name_clean}_metric.csv\"\n",
    "        \n",
    "    # Save files in the current directory\n",
    "    save_path = './'  # Saves in the current directory\n",
    "    \n",
    "    # Construct the full file path\n",
    "    file_path = os.path.join(save_path, filename)\n",
    "    \n",
    "    # Merge with 'ca_county_tract' and rename the relevant column\n",
    "    occupation_df = pd.merge(ca_county_tract, occupation_df, how='left', on='county')\n",
    "    occupation_df = occupation_df.rename(columns={'number_employed_per_10000': f'num_{occupation_name_clean}_employed_per_10000'})\n",
    "    \n",
    "    # Save the dataframe as a CSV file\n",
    "    occupation_df.to_csv(file_path, index=False)\n",
    "    \n",
    "    print(f\"Saved {filename} successfully.\")"
   ]
  },
  {
   "cell_type": "markdown",
   "metadata": {},
   "source": [
    "## Function Call"
   ]
  },
  {
   "cell_type": "code",
   "execution_count": 38,
   "metadata": {},
   "outputs": [],
   "source": [
    "@append_metadata\n",
    "def first_responders_upload(input_csv, export=False, varname=''):\n",
    "    '''\n",
    "    Uploads the calculated emergency responder metrics to S3 bucket. The metrics are:\n",
    "    - # of firefighters per 10,000 people\n",
    "    - # of registered nurses per 10,000 people\n",
    "    - # of paramedics and emergency medical technicians per 10,000 people\n",
    "    - # of police officers per 10,000 people\n",
    "\n",
    "    Data for this metric was sourced from the California Employment Development Department at:\n",
    "    https://labormarketinfo.edd.ca.gov/geography/demoaa.html\n",
    "\n",
    "    Methods\n",
    "    -------\n",
    "    Data columns were renamed for better transparency.\n",
    "    Population per California county data were merged with the employment data.\n",
    "    A new column was calculated by dividing each emergency responder employment by each counties population.\n",
    "    The dataset was split into four different datasets, one for each empergency responder position, then saved as their own csv's.\n",
    "\n",
    "    Parameters\n",
    "    ----------\n",
    "    input_csv: string\n",
    "        csv emergency responder employment data \n",
    "    export: True/False boolean\n",
    "        False = will not upload resulting df containing CAL CRAI emergency responder metric to AWS\n",
    "        True = will upload resulting df containing CAL CRAI emergency responder metric to AWS\n",
    "\n",
    "    Script\n",
    "    ------\n",
    "    governance_emergency_responders.ipynb\n",
    "\n",
    "    Note:\n",
    "    This function assumes users have configured the AWS CLI such that their access key / secret key pair are \n",
    "    stored in ~/.aws/credentials.\n",
    "    See https://docs.aws.amazon.com/cli/latest/userguide/getting-started-install.html for guidance.\n",
    "    '''\n",
    "    print('Data transformation: columns were renamed for transparency.')\n",
    "    print('Data transformation: population data were merged into the dataset')\n",
    "    print('Data transformation: data were separated into four different datasets, one for each emergency responder position.')\n",
    "    print('Data transformation: data were merged to CA census tract data.')\n",
    " \n",
    "    if export == True:\n",
    "        bucket_name = 'ca-climate-index'\n",
    "        directory = '3_fair_data/index_data'\n",
    "        export_filename = [input_csv]\n",
    "        upload_csv_aws(export_filename, bucket_name, directory)\n",
    "\n",
    "    if export == False:\n",
    "        print(f'{os.path.basename(input_csv)} uploaded to AWS.')"
   ]
  },
  {
   "cell_type": "code",
   "execution_count": 39,
   "metadata": {},
   "outputs": [],
   "source": [
    "filenames = [\n",
    "            'governance_emergency_medical_technicians_and_paramedics_metric.csv',\n",
    "            'governance_firefighting_and_prevention_workers_metric.csv',\n",
    "            'governance_police_officers_metric.csv',\n",
    "            'governance_registered_nurses_metric.csv'\n",
    "]\n",
    "\n",
    "varnames = [\n",
    "            'governance_edd_responder_parametics',\n",
    "            'governance_edd_responder_firefighter',\n",
    "            'governance_edd_responder_police',\n",
    "            'governance_edd_responder_nurse'\n",
    "]\n",
    "\n",
    "# Process the data and export\n",
    "for filename, varname in zip(filenames, varnames):\n",
    "    first_responders_upload(filename, export=True, varname='test') #varname)\n",
    "\n",
    "    if os.path.exists(filename):\n",
    "        os.remove(filename)"
   ]
  }
 ],
 "metadata": {
  "kernelspec": {
   "display_name": "carb",
   "language": "python",
   "name": "python3"
  },
  "language_info": {
   "codemirror_mode": {
    "name": "ipython",
    "version": 3
   },
   "file_extension": ".py",
   "mimetype": "text/x-python",
   "name": "python",
   "nbconvert_exporter": "python",
   "pygments_lexer": "ipython3",
   "version": "3.9.18"
  }
 },
 "nbformat": 4,
 "nbformat_minor": 2
}
