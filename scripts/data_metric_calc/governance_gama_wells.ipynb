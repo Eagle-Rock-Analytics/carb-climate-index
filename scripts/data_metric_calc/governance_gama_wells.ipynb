{
 "cells": [
  {
   "cell_type": "markdown",
   "metadata": {},
   "source": [
    "## Cal-CRAI Metric Calculation\n",
    "Domain: Governance \\\n",
    "Indicator: Natural Resources Conservation\n",
    "\n",
    "This notebook calculates one metric, sourced from the California State Water Resources Control Board:\n",
    "* Metric 1: Percent of domestic wells considered “high risk” for any of the following contaminants: Nitrate, Arsenic, 1,2,3-Trichloropropane, Hexavalent Chromium, Uranium\n"
   ]
  },
  {
   "cell_type": "code",
   "execution_count": 1,
   "metadata": {
    "execution": {
     "iopub.execute_input": "2024-07-26T15:19:33.561919Z",
     "iopub.status.busy": "2024-07-26T15:19:33.560813Z",
     "iopub.status.idle": "2024-07-26T15:19:35.439979Z",
     "shell.execute_reply": "2024-07-26T15:19:35.439476Z",
     "shell.execute_reply.started": "2024-07-26T15:19:33.561847Z"
    }
   },
   "outputs": [],
   "source": [
    "import pandas as pd\n",
    "import os\n",
    "import sys\n",
    "import boto3\n",
    "import io\n",
    "import geopandas as gpd\n",
    "import dask_geopandas \n",
    "import pyogrio \n",
    "\n",
    "# suppress pandas purely educational warnings\n",
    "from warnings import simplefilter\n",
    "simplefilter(action=\"ignore\", category=pd.errors.PerformanceWarning)\n",
    "\n",
    "sys.path.append(os.path.expanduser('../../'))\n",
    "from scripts.utils.file_helpers import pull_gpkg_from_directory, upload_csv_aws\n",
    "from scripts.utils.write_metadata import append_metadata"
   ]
  },
  {
   "cell_type": "code",
   "execution_count": null,
   "metadata": {
    "execution": {
     "iopub.execute_input": "2024-07-26T15:19:52.066644Z",
     "iopub.status.busy": "2024-07-26T15:19:52.065398Z",
     "iopub.status.idle": "2024-07-26T15:20:46.900544Z",
     "shell.execute_reply": "2024-07-26T15:20:46.900124Z",
     "shell.execute_reply.started": "2024-07-26T15:19:52.066596Z"
    }
   },
   "outputs": [],
   "source": [
    "# pull csv from aws\n",
    "bucket_name = 'ca-climate-index'\n",
    "aws_dir = '2b_reproject/governance/natural_resource_conservation/ca_state_water_resources_board/'\n",
    "\n",
    "pull_gpkg_from_directory(bucket_name, aws_dir)"
   ]
  },
  {
   "cell_type": "code",
   "execution_count": null,
   "metadata": {
    "execution": {
     "iopub.execute_input": "2024-07-26T15:20:46.901619Z",
     "iopub.status.busy": "2024-07-26T15:20:46.901498Z",
     "iopub.status.idle": "2024-07-26T15:21:00.376075Z",
     "shell.execute_reply": "2024-07-26T15:21:00.375556Z",
     "shell.execute_reply.started": "2024-07-26T15:20:46.901609Z"
    }
   },
   "outputs": [],
   "source": [
    "# large file, so we break it up into partitions\n",
    "water_well_data = dask_geopandas.read_file('GAMA_division_drinking_water_reproject.gpkg',npartitions=5)\n",
    "# let's load in one partition so we can look at the data (up to about the first 1/5 of the rows)\n",
    "df = water_well_data.partitions[0].compute()\n",
    "df"
   ]
  },
  {
   "cell_type": "code",
   "execution_count": null,
   "metadata": {
    "execution": {
     "iopub.execute_input": "2024-07-26T15:21:00.377070Z",
     "iopub.status.busy": "2024-07-26T15:21:00.376813Z",
     "iopub.status.idle": "2024-07-26T15:21:00.380567Z",
     "shell.execute_reply": "2024-07-26T15:21:00.380264Z",
     "shell.execute_reply.started": "2024-07-26T15:21:00.377052Z"
    }
   },
   "outputs": [],
   "source": [
    "# lots of columns! Can we get rid of some to save memory?\n",
    "df.columns"
   ]
  },
  {
   "cell_type": "code",
   "execution_count": 5,
   "metadata": {
    "execution": {
     "iopub.execute_input": "2024-07-26T15:21:00.381895Z",
     "iopub.status.busy": "2024-07-26T15:21:00.381735Z",
     "iopub.status.idle": "2024-07-26T15:21:00.386030Z",
     "shell.execute_reply": "2024-07-26T15:21:00.385652Z",
     "shell.execute_reply.started": "2024-07-26T15:21:00.381880Z"
    }
   },
   "outputs": [],
   "source": [
    "# columns we need to calculate our metrics\n",
    "subset = water_well_data[[\n",
    "    'gm_well_id',\n",
    "    'gm_chemical_name',\n",
    "    'gm_result_modifier',\n",
    "    'gm_result',\n",
    "    'gm_chemical_units', \n",
    "    'gm_reporting_limit',\n",
    "    'GEOID'\n",
    "]]"
   ]
  },
  {
   "cell_type": "code",
   "execution_count": null,
   "metadata": {
    "execution": {
     "iopub.execute_input": "2024-07-26T15:21:00.386756Z",
     "iopub.status.busy": "2024-07-26T15:21:00.386606Z",
     "iopub.status.idle": "2024-07-26T15:21:31.431552Z",
     "shell.execute_reply": "2024-07-26T15:21:31.431159Z",
     "shell.execute_reply.started": "2024-07-26T15:21:00.386746Z"
    }
   },
   "outputs": [],
   "source": [
    "# now that the dataframe is much smaller, we can load it in\n",
    "subset_df = subset.compute()\n",
    "subset_df"
   ]
  },
  {
   "cell_type": "code",
   "execution_count": null,
   "metadata": {},
   "outputs": [],
   "source": [
    "unique_chemical_names = subset_df['gm_chemical_name'].unique()\n",
    "unique_chemical_names"
   ]
  },
  {
   "cell_type": "code",
   "execution_count": null,
   "metadata": {},
   "outputs": [],
   "source": [
    "# looking at how many tracts are\n",
    "unique_tracts = subset_df['GEOID'].unique()\n",
    "print(len(unique_tracts))"
   ]
  },
  {
   "cell_type": "code",
   "execution_count": null,
   "metadata": {},
   "outputs": [],
   "source": [
    "# looking at how many wells there are\n",
    "unique_wells = subset_df['gm_well_id'].unique()\n",
    "print(len(unique_wells))"
   ]
  },
  {
   "cell_type": "code",
   "execution_count": null,
   "metadata": {},
   "outputs": [],
   "source": [
    "# Group by both GEOID and gm_well_id, then count unique combinations\n",
    "count_entries_geoid_wellid = subset_df.groupby(['GEOID', 'gm_well_id']).size().reset_index(name='num_sampled_wells')\n",
    "final_count_entries_geoid = count_entries_geoid_wellid.groupby('GEOID').size().reset_index(name='num_sampled_wells')\n",
    "\n",
    "final_count_entries_geoid"
   ]
  },
  {
   "cell_type": "code",
   "execution_count": null,
   "metadata": {},
   "outputs": [],
   "source": [
    "# checking this specific tract in Orange county as it had 561 rows, they are all the same well\n",
    "orange_county = subset_df[subset_df['GEOID'] == '06059001303']\n",
    "print(orange_county.head(5))\n",
    "\n",
    "unique_wells_orange_county = orange_county['gm_well_id'].unique()\n",
    "unique_wells_orange_county"
   ]
  },
  {
   "cell_type": "code",
   "execution_count": null,
   "metadata": {},
   "outputs": [],
   "source": [
    "# summing up the count column to make sure total well count matches above\n",
    "total_well_count = final_count_entries_geoid['num_sampled_wells'].sum()\n",
    "\n",
    "print(\"Total count of entries:\", total_well_count)"
   ]
  },
  {
   "cell_type": "code",
   "execution_count": null,
   "metadata": {},
   "outputs": [],
   "source": [
    "# subsetting data to desired contaminants\n",
    "list_of_contaminants = ['Nitrate as N',\n",
    "                        'Arsenic',\n",
    "                        '1,2,3-Trichloropropane (1,2,3 TCP)',\n",
    "                        'Chromium, Hexavalent (Cr6)',\n",
    "                        'Uranium']\n",
    "\n",
    "contaminant_data = subset_df[subset_df['gm_chemical_name'].isin(list_of_contaminants)]\n",
    "contaminant_data"
   ]
  },
  {
   "cell_type": "code",
   "execution_count": null,
   "metadata": {},
   "outputs": [],
   "source": [
    "# further filter data to entries that exceed the reporting limit\n",
    "condition1 = contaminant_data['gm_result_modifier'].isin(['>'])\n",
    "condition2 = contaminant_data['gm_result'] > contaminant_data['gm_reporting_limit']\n",
    "# Apply filters\n",
    "filtered_df = contaminant_data[condition1 | condition2]\n",
    "\n",
    "# Display the filtered DataFrame\n",
    "filtered_df"
   ]
  },
  {
   "cell_type": "code",
   "execution_count": null,
   "metadata": {},
   "outputs": [],
   "source": [
    "# group by both GEOID and gm_well_id, then count unique combinations\n",
    "count_contaminate_geoid = filtered_df.groupby(['GEOID', 'gm_well_id']).size().reset_index(name='num_contaminated_wells')\n",
    "final_count_contaminant_geoid = count_contaminate_geoid.groupby('GEOID').size().reset_index(name='num_contaminated_wells')\n",
    "\n",
    "final_count_contaminant_geoid\n"
   ]
  },
  {
   "cell_type": "code",
   "execution_count": null,
   "metadata": {},
   "outputs": [],
   "source": [
    "# merge total unique wells per tract and contaminated wells per tract\n",
    "well_merge = pd.merge(final_count_entries_geoid, final_count_contaminant_geoid, on='GEOID', how='left')\n",
    "\n",
    "# calculate percentage of wells contaminated per well\n",
    "well_merge['percent_sampled_wells_contaminated'] = (well_merge['num_contaminated_wells'] / well_merge['num_sampled_wells']) * 100\n",
    "\n",
    "# replace NaN values with 0, as all tracts within this df had been sampled from, so na for contaminants is truly 0\n",
    "well_merge.fillna(0, inplace=True)\n",
    "\n",
    "well_merge"
   ]
  },
  {
   "cell_type": "code",
   "execution_count": null,
   "metadata": {},
   "outputs": [],
   "source": [
    "# checking to make sure contaminated wells does not exceed total wells\n",
    "check = well_merge['num_contaminated_wells'] > well_merge['num_sampled_wells']\n",
    "true_rows = well_merge[check]\n",
    "true_rows"
   ]
  },
  {
   "cell_type": "code",
   "execution_count": 32,
   "metadata": {},
   "outputs": [],
   "source": [
    "# read in CA census tiger file\n",
    "ca_tract_county = \"s3://ca-climate-index/0_map_data/ca_tracts_county.csv\"\n",
    "ca_tract_county = gpd.read_file(ca_tract_county)\n",
    "ca_tract_county = ca_tract_county.drop(columns={'field_1', 'geometry'})\n",
    "ca_tract_county = ca_tract_county.rename(columns={'TRACT':'GEOID'})"
   ]
  },
  {
   "cell_type": "code",
   "execution_count": null,
   "metadata": {},
   "outputs": [],
   "source": [
    "ca_tract_county"
   ]
  },
  {
   "cell_type": "code",
   "execution_count": null,
   "metadata": {},
   "outputs": [],
   "source": [
    "# merge CA census tract with final data metric df\n",
    "# leave nans as there was no data for those tracts\n",
    "well_merge_ca_tracts = pd.merge(ca_tract_county, well_merge, on='GEOID', how='left')\n",
    "well_merge_ca_tracts"
   ]
  },
  {
   "cell_type": "code",
   "execution_count": 82,
   "metadata": {},
   "outputs": [],
   "source": [
    "well_merge_ca_tracts.to_csv('governance_well_quality_metric.csv', index=False)"
   ]
  },
  {
   "cell_type": "markdown",
   "metadata": {},
   "source": [
    "## Function Call"
   ]
  },
  {
   "cell_type": "code",
   "execution_count": 83,
   "metadata": {},
   "outputs": [],
   "source": [
    "@append_metadata\n",
    "def gama_well_water_quality_upload(input_csv, export=False, varname=''):\n",
    "    '''\n",
    "    Uploads the water well quality metric to S3 bucket. The metric is:\n",
    "    \n",
    "    * Percentage of domestic wells considered “high risk” for any of the following contaminants:\n",
    "      Nitrate, Arsenic, 1,2,3-Trichloropropane, Hexavalent Chromium, Uranium\n",
    "\n",
    "    Data for this metric was sourced from the California State Water Resources Control Board: GAMA - Division of Drinking Water at\n",
    "    https://data.ca.gov/dataset/ground-water-water-quality-results/resource/d2e74ace-2cf4-4baf-aadd-406280bf1c1c?inner_span=True\n",
    "\n",
    "    Methods\n",
    "    -------\n",
    "    Relevant data columns were isolated, some were renamed for later merging with California tract data.\n",
    "    Total number of wells sampled per census tract were retained for the percentage calculation.\n",
    "    Specific contaminants (per the metric) were isolated for.\n",
    "    Sample levels exceeding the 'gm_reporting_limit' column were further retained and counted per California tract.\n",
    "    Total wells sampled and total entries exceeding desired contaminants were merged together per census tract.\n",
    "    Number of samples exceeding the threshold were divided by number of wells sampled, then multiplied by 100 to calculate\n",
    "    percentage.\n",
    "    Tracts missing data were left as nan, as missing tracts were either not sampled from, or had missing data\n",
    "    \n",
    "    Parameters\n",
    "    ----------\n",
    "    input_csv: string\n",
    "        csv water well quality metric data \n",
    "    export: True/False boolean\n",
    "        False = will not upload resulting df containing CAL CRAI water well quality metric to AWS\n",
    "        True = will upload resulting df containing CAL CRAI water well quality metric to AWS\n",
    "\n",
    "    Script\n",
    "    ------\n",
    "    governance_gama_wells.ipynb\n",
    "\n",
    "    Note:\n",
    "    This function assumes users have configured the AWS CLI such that their access key / secret key pair are stored in ~/.aws/credentials.\n",
    "    See https://docs.aws.amazon.com/cli/latest/userguide/getting-started-install.html for guidance.\n",
    "    '''\n",
    "    print('Data transformation: relevant columns and contaminants were isolated and renamed.')\n",
    "    print('Data transformation: data was isolated when above its predefined threshold.')\n",
    "    print('Data transformation: data were then merged to California census tracts.')\n",
    "\n",
    "    if export == True:\n",
    "        bucket_name = 'ca-climate-index'\n",
    "        directory = '3_fair_data/index_data'\n",
    "        export_filename = [input_csv]\n",
    "        upload_csv_aws(export_filename, bucket_name, directory)\n",
    "\n",
    "    if export == False:\n",
    "        print(f'{input_csv} uploaded to AWS.')\n",
    " \n",
    "    '''if os.path.exists(input_csv):\n",
    "        os.remove(input_csv)'''"
   ]
  },
  {
   "cell_type": "code",
   "execution_count": 84,
   "metadata": {},
   "outputs": [],
   "source": [
    "input_csv = 'governance_well_quality_metric.csv'\n",
    "variable = 'governance_swcrb_groundwater_quality'\n",
    "\n",
    "gama_well_water_quality_upload(input_csv=input_csv, export=True, varname='test')"
   ]
  }
 ],
 "metadata": {
  "kernelspec": {
   "display_name": "Python 3 (ipykernel)",
   "language": "python",
   "name": "python3"
  },
  "language_info": {
   "codemirror_mode": {
    "name": "ipython",
    "version": 3
   },
   "file_extension": ".py",
   "mimetype": "text/x-python",
   "name": "python",
   "nbconvert_exporter": "python",
   "pygments_lexer": "ipython3",
   "version": "3.9.18"
  }
 },
 "nbformat": 4,
 "nbformat_minor": 4
}
