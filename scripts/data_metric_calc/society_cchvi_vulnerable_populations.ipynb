{
 "cells": [
  {
   "cell_type": "markdown",
   "metadata": {},
   "source": [
    "# This notebook calculates the climate change health vulnerabilities data metrics\n",
    "* % of households without air conditioning\n",
    "* num of violent crimes per 10,000 people\n",
    "* % of population aged 16+ working outdoors"
   ]
  },
  {
   "cell_type": "code",
   "execution_count": 1,
   "metadata": {
    "execution": {
     "iopub.execute_input": "2024-05-21T19:50:45.313900Z",
     "iopub.status.busy": "2024-05-21T19:50:45.313531Z",
     "iopub.status.idle": "2024-05-21T19:50:46.127893Z",
     "shell.execute_reply": "2024-05-21T19:50:46.127290Z",
     "shell.execute_reply.started": "2024-05-21T19:50:45.313881Z"
    }
   },
   "outputs": [],
   "source": [
    "import pandas as pd\n",
    "import os\n",
    "import sys\n",
    "import numpy as np\n",
    "\n",
    "# suppress pandas purely educational warnings\n",
    "from warnings import simplefilter\n",
    "simplefilter(action=\"ignore\", category=pd.errors.PerformanceWarning)\n",
    "\n",
    "sys.path.append(os.path.expanduser('../../'))\n",
    "from scripts.utils.file_helpers import pull_csv_from_directory, upload_csv_aws\n",
    "from scripts.utils.write_metadata import append_metadata"
   ]
  },
  {
   "cell_type": "code",
   "execution_count": null,
   "metadata": {
    "execution": {
     "iopub.execute_input": "2024-05-21T19:50:57.169572Z",
     "iopub.status.busy": "2024-05-21T19:50:57.169128Z",
     "iopub.status.idle": "2024-05-21T19:51:07.396602Z",
     "shell.execute_reply": "2024-05-21T19:51:07.395847Z",
     "shell.execute_reply.started": "2024-05-21T19:50:57.169554Z"
    }
   },
   "outputs": [],
   "source": [
    "# pull csv from aws\n",
    "bucket_name = 'ca-climate-index'\n",
    "aws_dir = '1_pull_data/society_economy/vulnerable_populations/climate_change_health_vulnerabilities/'\n",
    "output = 'cchvi'\n",
    "\n",
    "pull_csv_from_directory(bucket_name, aws_dir, output, search_zipped=False)"
   ]
  },
  {
   "cell_type": "code",
   "execution_count": null,
   "metadata": {
    "execution": {
     "iopub.execute_input": "2024-05-21T19:51:07.397745Z",
     "iopub.status.busy": "2024-05-21T19:51:07.397493Z",
     "iopub.status.idle": "2024-05-21T19:51:08.270359Z",
     "shell.execute_reply": "2024-05-21T19:51:08.269733Z",
     "shell.execute_reply.started": "2024-05-21T19:51:07.397732Z"
    }
   },
   "outputs": [],
   "source": [
    "# read in food access data (already subsetted for CA)\n",
    "\n",
    "cchvi_data = pd.read_csv(r'cchvi/selectedCHVIdata.csv')\n",
    "print(len(cchvi_data))\n",
    "#os.remove('selectedCHVIdata.csv')"
   ]
  },
  {
   "cell_type": "code",
   "execution_count": null,
   "metadata": {
    "execution": {
     "iopub.execute_input": "2024-05-21T19:51:08.271578Z",
     "iopub.status.busy": "2024-05-21T19:51:08.271085Z",
     "iopub.status.idle": "2024-05-21T19:51:08.290169Z",
     "shell.execute_reply": "2024-05-21T19:51:08.289632Z",
     "shell.execute_reply.started": "2024-05-21T19:51:08.271561Z"
    }
   },
   "outputs": [],
   "source": [
    "cchvi_data"
   ]
  },
  {
   "cell_type": "code",
   "execution_count": null,
   "metadata": {
    "execution": {
     "iopub.execute_input": "2024-05-21T19:51:08.291503Z",
     "iopub.status.busy": "2024-05-21T19:51:08.291212Z",
     "iopub.status.idle": "2024-05-21T19:51:08.392318Z",
     "shell.execute_reply": "2024-05-21T19:51:08.391802Z",
     "shell.execute_reply.started": "2024-05-21T19:51:08.291490Z"
    }
   },
   "outputs": [],
   "source": [
    "cchvi_data = cchvi_data[cchvi_data['Race']== 'Total']\n",
    "unique_entries = cchvi_data['Definition'].unique()\n",
    "unique_entries"
   ]
  },
  {
   "cell_type": "code",
   "execution_count": null,
   "metadata": {
    "execution": {
     "iopub.execute_input": "2024-05-21T19:51:08.393507Z",
     "iopub.status.busy": "2024-05-21T19:51:08.393001Z",
     "iopub.status.idle": "2024-05-21T19:51:08.409201Z",
     "shell.execute_reply": "2024-05-21T19:51:08.408439Z",
     "shell.execute_reply.started": "2024-05-21T19:51:08.393491Z"
    }
   },
   "outputs": [],
   "source": [
    "unique_entries = cchvi_data['Year'].unique()\n",
    "unique_entries"
   ]
  },
  {
   "cell_type": "code",
   "execution_count": null,
   "metadata": {
    "execution": {
     "iopub.execute_input": "2024-05-21T19:51:09.143967Z",
     "iopub.status.busy": "2024-05-21T19:51:09.143374Z",
     "iopub.status.idle": "2024-05-21T19:51:09.239507Z",
     "shell.execute_reply": "2024-05-21T19:51:09.238890Z",
     "shell.execute_reply.started": "2024-05-21T19:51:09.143952Z"
    }
   },
   "outputs": [],
   "source": [
    "selected_entries = ['2040-2060',\n",
    "                    '2080-2099',\n",
    "                    ]\n",
    "\n",
    "cchvi_data_filtered = cchvi_data[~cchvi_data['Year'].isin(selected_entries)]\n",
    "# Drop rows with NaN values in 'Year' column\n",
    "cchvi_data_filtered = cchvi_data_filtered.dropna(subset=['Year'])\n",
    "unique_entries = cchvi_data_filtered['Year'].unique()\n",
    "\n",
    "unique_entries"
   ]
  },
  {
   "cell_type": "code",
   "execution_count": null,
   "metadata": {
    "execution": {
     "iopub.execute_input": "2024-05-21T19:51:26.368071Z",
     "iopub.status.busy": "2024-05-21T19:51:26.367822Z",
     "iopub.status.idle": "2024-05-21T19:51:26.410658Z",
     "shell.execute_reply": "2024-05-21T19:51:26.410024Z",
     "shell.execute_reply.started": "2024-05-21T19:51:26.368055Z"
    }
   },
   "outputs": [],
   "source": [
    "selected_entries = ['Number of Violent Crimes per 1,000 Population', \n",
    "                    'Percent of households without air conditioning', \n",
    "                    'Percent of population employed and aged > 16 working outdoors']\n",
    "\n",
    "cchvi_data_filtered = cchvi_data_filtered[cchvi_data_filtered['Definition'].isin(selected_entries)]\n",
    "cchvi_data_filtered"
   ]
  },
  {
   "cell_type": "code",
   "execution_count": null,
   "metadata": {
    "execution": {
     "iopub.execute_input": "2024-05-21T19:51:52.096280Z",
     "iopub.status.busy": "2024-05-21T19:51:52.095819Z",
     "iopub.status.idle": "2024-05-21T19:51:52.131914Z",
     "shell.execute_reply": "2024-05-21T19:51:52.131067Z",
     "shell.execute_reply.started": "2024-05-21T19:51:52.096260Z"
    }
   },
   "outputs": [],
   "source": [
    "grouping_cchvi = cchvi_data_filtered.groupby(['FIPS', 'Definition'])['Mean'].mean().reset_index()\n",
    "grouping_cchvi.head(10)"
   ]
  },
  {
   "cell_type": "code",
   "execution_count": null,
   "metadata": {
    "execution": {
     "iopub.execute_input": "2024-05-21T19:52:10.800198Z",
     "iopub.status.busy": "2024-05-21T19:52:10.799596Z",
     "iopub.status.idle": "2024-05-21T19:52:10.805365Z",
     "shell.execute_reply": "2024-05-21T19:52:10.804701Z",
     "shell.execute_reply.started": "2024-05-21T19:52:10.800179Z"
    }
   },
   "outputs": [],
   "source": [
    "# Filter the DataFrame for the specific FIPS code\n",
    "testing_fips = grouping_cchvi[grouping_cchvi['FIPS'] == 6085512037]\n",
    "\n",
    "# Display the results\n",
    "print(testing_fips)"
   ]
  },
  {
   "cell_type": "code",
   "execution_count": null,
   "metadata": {
    "execution": {
     "iopub.execute_input": "2024-05-21T19:52:13.184791Z",
     "iopub.status.busy": "2024-05-21T19:52:13.184203Z",
     "iopub.status.idle": "2024-05-21T19:52:13.210152Z",
     "shell.execute_reply": "2024-05-21T19:52:13.209469Z",
     "shell.execute_reply.started": "2024-05-21T19:52:13.184772Z"
    }
   },
   "outputs": [],
   "source": [
    "pivot_table = grouping_cchvi.pivot_table(index='FIPS', columns='Definition', values='Mean', aggfunc='mean')\n",
    "pivot_table.reset_index(inplace=True)\n",
    "random_rows = pivot_table.sample(n=10)\n",
    "random_rows"
   ]
  },
  {
   "cell_type": "markdown",
   "metadata": {},
   "source": [
    "### Importing CA tracts - county data for further clarity on data and the similar entries\n",
    "* Data has eight thousand tracts, need to translate to get the full nine-thousand\n",
    "* Decided to merge then fill in the excess empty tracts with the county wide average values for the respective county for the metric columns"
   ]
  },
  {
   "cell_type": "code",
   "execution_count": null,
   "metadata": {
    "execution": {
     "iopub.execute_input": "2024-05-21T19:52:17.759481Z",
     "iopub.status.busy": "2024-05-21T19:52:17.758885Z",
     "iopub.status.idle": "2024-05-21T19:52:18.491203Z",
     "shell.execute_reply": "2024-05-21T19:52:18.490544Z",
     "shell.execute_reply.started": "2024-05-21T19:52:17.759461Z"
    }
   },
   "outputs": [],
   "source": [
    "county_tract = \"s3://ca-climate-index/0_map_data/ca_tracts_county.csv\"\n",
    "ca_county_tract = pd.read_csv(county_tract)\n",
    "ca_county_tract = ca_county_tract.rename(columns={'TRACT': 'FIPS'})\n",
    "ca_county_tract"
   ]
  },
  {
   "cell_type": "code",
   "execution_count": null,
   "metadata": {
    "execution": {
     "iopub.execute_input": "2024-05-21T19:52:37.273077Z",
     "iopub.status.busy": "2024-05-21T19:52:37.272188Z",
     "iopub.status.idle": "2024-05-21T19:52:37.371418Z",
     "shell.execute_reply": "2024-05-21T19:52:37.370878Z",
     "shell.execute_reply.started": "2024-05-21T19:52:37.273054Z"
    }
   },
   "outputs": [],
   "source": [
    "# Merge the datasets\n",
    "cchvi_ca_counties = pd.merge(ca_county_tract, pivot_table, on ='FIPS', how='left')\n",
    "\n",
    "# Move the 'County' column to the second position\n",
    "column_to_move = 'County'\n",
    "col = cchvi_ca_counties.pop(column_to_move)\n",
    "cchvi_ca_counties.insert(1, column_to_move, col)\n",
    "\n",
    "# Columns to fill NaN values\n",
    "columns_to_fill = ['Number of Violent Crimes per 1,000 Population',\n",
    "                   'Percent of households without air conditioning',\n",
    "                   'Percent of population employed and aged > 16 working outdoors']\n",
    "\n",
    "# Add a new column indicating whether a value was originally NaN\n",
    "original_na_flag_column = 'Original_NA_Flag'\n",
    "cchvi_ca_counties[original_na_flag_column] = np.where(cchvi_ca_counties[columns_to_fill].isna().any(axis=1), 1, 0)\n",
    "\n",
    "# Compute average values for each column grouped by 'County'\n",
    "average_values_by_county = cchvi_ca_counties.groupby('County')[columns_to_fill].transform('mean')\n",
    "\n",
    "# Fill NaN values in each column with the corresponding average value of that column for the respective 'County'\n",
    "for column in columns_to_fill:\n",
    "    na_mask = cchvi_ca_counties[column].isna()\n",
    "    cchvi_ca_counties.loc[na_mask, column] = average_values_by_county.loc[na_mask, column]\n",
    "\n",
    "print(len(cchvi_ca_counties))\n",
    "cchvi_ca_counties.head(10)"
   ]
  },
  {
   "cell_type": "code",
   "execution_count": null,
   "metadata": {
    "execution": {
     "iopub.execute_input": "2024-05-21T19:52:46.000756Z",
     "iopub.status.busy": "2024-05-21T19:52:46.000175Z",
     "iopub.status.idle": "2024-05-21T19:52:46.010474Z",
     "shell.execute_reply": "2024-05-21T19:52:46.009834Z",
     "shell.execute_reply.started": "2024-05-21T19:52:46.000741Z"
    }
   },
   "outputs": [],
   "source": [
    "cchvi_ca_counties.loc[cchvi_ca_counties['County'] == 'Santa Clara']"
   ]
  },
  {
   "cell_type": "code",
   "execution_count": 15,
   "metadata": {
    "execution": {
     "iopub.execute_input": "2024-05-21T19:52:57.615414Z",
     "iopub.status.busy": "2024-05-21T19:52:57.614842Z",
     "iopub.status.idle": "2024-05-21T19:52:57.620627Z",
     "shell.execute_reply": "2024-05-21T19:52:57.619987Z",
     "shell.execute_reply.started": "2024-05-21T19:52:57.615395Z"
    }
   },
   "outputs": [],
   "source": [
    "retained_columns = ['FIPS', 'County']\n",
    "\n",
    "# convert violent crime per 1,000 to 10,000 population\n",
    "violent_crime = cchvi_ca_counties[retained_columns + ['Number of Violent Crimes per 1,000 Population']].copy()\n",
    "violent_crime['Number of Violent Crimes per 10,000 Population'] = violent_crime['Number of Violent Crimes per 1,000 Population'] * 10\n",
    "violent_crime = violent_crime.drop(columns='Number of Violent Crimes per 1,000 Population')\n",
    "\n",
    "percent_without_ac = cchvi_ca_counties[retained_columns + ['Percent of households without air conditioning']].copy()\n",
    "percent_working_outdoors = cchvi_ca_counties[retained_columns + ['Percent of population employed and aged > 16 working outdoors']].copy()"
   ]
  },
  {
   "cell_type": "code",
   "execution_count": null,
   "metadata": {
    "execution": {
     "iopub.execute_input": "2024-05-21T19:52:59.092101Z",
     "iopub.status.busy": "2024-05-21T19:52:59.091641Z",
     "iopub.status.idle": "2024-05-21T19:52:59.128692Z",
     "shell.execute_reply": "2024-05-21T19:52:59.128072Z",
     "shell.execute_reply.started": "2024-05-21T19:52:59.092084Z"
    }
   },
   "outputs": [],
   "source": [
    "violent_crime.to_csv('society_vulnerable_violent_crime_metric.csv')\n",
    "percent_without_ac.to_csv('society_vulnerable_percent_without_ac_metric.csv')\n",
    "percent_working_outdoors.to_csv('society_vulnerable_percent_working_outdoors_metric.csv')"
   ]
  },
  {
   "cell_type": "markdown",
   "metadata": {},
   "source": [
    "### Function Call"
   ]
  },
  {
   "cell_type": "code",
   "execution_count": 17,
   "metadata": {
    "execution": {
     "iopub.execute_input": "2024-05-21T19:53:00.727534Z",
     "iopub.status.busy": "2024-05-21T19:53:00.727079Z",
     "iopub.status.idle": "2024-05-21T19:53:00.736047Z",
     "shell.execute_reply": "2024-05-21T19:53:00.735365Z",
     "shell.execute_reply.started": "2024-05-21T19:53:00.727514Z"
    }
   },
   "outputs": [],
   "source": [
    "@append_metadata\n",
    "def cchvi_metric_calc(input_csv, export=False, varname=''):\n",
    "    '''\n",
    "    The function calculates the vulnerable population metrics sourced from the California Department of Public Health\n",
    "    Climate Change and Health Vulnerability Indicators for California. The metrics include:\n",
    "    \n",
    "    * Number of Violent Crimes per 10,000 Population    \n",
    "    * Percent of households without air conditioning    \n",
    "    * Percent of population employed and aged > 16 working outdoors\n",
    "\n",
    "    Parameters\n",
    "    ----------\n",
    "    df: DataFrame\n",
    "        The DataFrame containing the CCHVI indicators.\n",
    "    output_csv: string\n",
    "        Filename for exporting the DataFrame.\n",
    "    export: bool, optional\n",
    "        True to upload resulting DataFrame containing the CCHVI indicator metrics to AWS, False otherwise.\n",
    "\n",
    "    Methods\n",
    "    --------\n",
    "    Relevant columns for Cal-CRAI metrics were isolated from the original dataset.\n",
    "    Specific entries were omitted to isolate for the CA population.\n",
    "    Entries within rows were converted to columns for better metric entry/visualization.\n",
    "    Cal-CRAI tracts were merged in with the data, missing data from the extra tracts \n",
    "    were given values for each metric column based on the average values from matching\n",
    "    county entries.\n",
    "    Metric columns were isolated to their own dataframe and uploaded to AWS.\n",
    "\n",
    "    Script\n",
    "    ------\n",
    "    society_cchvi_vulnerable_populations.ipynb\n",
    "\n",
    "    Note\n",
    "    ------\n",
    "    This function assumes users have configured the AWS CLI such that their access key / \n",
    "    secret key pair are stored in ~/.aws/credentials. \n",
    "    See https://docs.aws.amazon.com/cli/latest/userguide/getting-started-install.html for guidance.\n",
    "    '''\n",
    "    if export == False:\n",
    "        print('Data transformation: isolated dataset for metric related columns.')\n",
    "        print('Data transformation: adjust row entries from definition column to be their own columns.')\n",
    "        print('Data transformation: add Cal-CRAI census tract set and fill missing values with average county values.')\n",
    "        print('Data transformation: multiply the violent crimes per 1,000 people column by 10 to calculate Cal-CRAI metric per 10,000.')\n",
    "        print(f'{input_csv} uploaded to AWS.')\n",
    "        return None\n",
    "    \n",
    "    if export == True:\n",
    "        bucket_name = 'ca-climate-index'\n",
    "        upload_csv_aws([input_csv], bucket_name, '3_fair_data/index_data')\n",
    "        os.remove(input_csv)  # Remove local file after upload"
   ]
  },
  {
   "cell_type": "code",
   "execution_count": null,
   "metadata": {
    "execution": {
     "iopub.execute_input": "2024-05-21T19:53:02.271630Z",
     "iopub.status.busy": "2024-05-21T19:53:02.271197Z",
     "iopub.status.idle": "2024-05-21T19:53:16.699156Z",
     "shell.execute_reply": "2024-05-21T19:53:16.698518Z",
     "shell.execute_reply.started": "2024-05-21T19:53:02.271613Z"
    }
   },
   "outputs": [],
   "source": [
    "input_csvs = ['society_vulnerable_violent_crime_metric.csv',\n",
    "               'society_vulnerable_percent_without_ac_metric.csv',\n",
    "               'society_vulnerable_percent_working_outdoors_metric.csv']\n",
    "\n",
    "varnames = ['society_cdph_violent_crimes',\n",
    "            'society_cdph_air_conditioning_access',\n",
    "            'society_cdph_working_outdoors']\n",
    "\n",
    "# Process the data and export\n",
    "for input_csv, varname in zip(input_csvs, varnames):\n",
    "    print(f'Processing {input_csv} with varname {varname}')\n",
    "    cchvi_metric_calc(input_csv, export=False, varname=varname)\n",
    "\n",
    "print('Processing complete.')"
   ]
  }
 ],
 "metadata": {
  "kernelspec": {
   "display_name": "Python 3 (ipykernel)",
   "language": "python",
   "name": "python3"
  },
  "language_info": {
   "codemirror_mode": {
    "name": "ipython",
    "version": 3
   },
   "file_extension": ".py",
   "mimetype": "text/x-python",
   "name": "python",
   "nbconvert_exporter": "python",
   "pygments_lexer": "ipython3",
   "version": "3.9.18"
  }
 },
 "nbformat": 4,
 "nbformat_minor": 4
}
