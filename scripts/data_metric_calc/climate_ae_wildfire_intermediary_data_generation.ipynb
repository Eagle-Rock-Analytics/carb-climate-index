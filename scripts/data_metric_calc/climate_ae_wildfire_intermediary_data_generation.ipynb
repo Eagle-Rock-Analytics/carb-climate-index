{
 "cells": [
  {
   "cell_type": "markdown",
   "id": "9da4e854-5d2f-48f7-8dec-a074b2019239",
   "metadata": {},
   "source": [
    "## Fosberg Fire Weather Index\n",
    "\n",
    "This notebook briefly walks through how to calculate the wildfire metric `change in annual median # of days with FFWI greater than 50` from Cal-Adapt: Analytics Engine data. This notebook may be expanded upon for inclusion in cae-notebooks in the future. \n",
    "\n",
    "**Note:** FFWI is calculated at hourly timesteps which ultimately comprises 100+ GB of data between warming level data and the historical baseline. This notebook retrieves the data, processes it by calculating the metric, and then exports the intermediary files to perform the rest of the calculation and generation of Cal-CRAI metric data. At present, this must be performed on the Analytics Engine Jupyter Hub. \n",
    "\n",
    "**Order of operations**:\n",
    "1. Read data in\n",
    "2. Calculate base function (FFWI, SPEI, warm nights, etc.)\n",
    "\n",
    "### Step 0: Import libraries"
   ]
  },
  {
   "cell_type": "code",
   "execution_count": null,
   "id": "5f5a1aaa",
   "metadata": {
    "tags": []
   },
   "outputs": [],
   "source": [
    "import climakitae as ck\n",
    "from climakitae.explore import warming_levels \n",
    "from climakitae.util.utils import add_dummy_time_to_wl\n",
    "from climakitae.tools.indices import fosberg_fire_index\n",
    "from climakitae.core.data_interface import DataParameters\n",
    "import pandas as pd\n",
    "import numpy as np\n",
    "import xarray as xr\n",
    "\n",
    "sims_hist = [\n",
    "    'WRF_MPI-ESM1-2-HR_r3i1p1f1',\n",
    "    'WRF_MIROC6_r1i1p1f1', \n",
    "    'WRF_EC-Earth3_r1i1p1f1',\n",
    "    'WRF_TaiESM1_r1i1p1f1', \n",
    "]"
   ]
  },
  {
   "cell_type": "markdown",
   "id": "62d07307-44c2-4ea9-9188-958ee24a108e",
   "metadata": {},
   "source": [
    "### Step 1: Retrieve data\n",
    "We need to calculate:\n",
    "- 30 year centered around 2.0degC warming level (SSP3-7.0)\n",
    "- Historical baseline 1981-2010 (Historical Climate)"
   ]
  },
  {
   "cell_type": "code",
   "execution_count": null,
   "id": "af9dca59-1e5d-49b8-9c32-f9db8fa1b80f",
   "metadata": {},
   "outputs": [],
   "source": [
    "## Step 1a) Historical baseline data (1981-2010)\n",
    "selections = DataParameters()\n",
    "selections.area_average = 'No'\n",
    "selections.timescale = 'hourly'\n",
    "selections.variable_type = 'Derived Index'\n",
    "selections.variable = 'Fosberg fire weather index'\n",
    "selections.area_subset = \"states\"\n",
    "selections.cached_area = [\"CA\"]\n",
    "selections.scenario_historical = ['Historical Climate']\n",
    "selections.time_slice = (1981, 2010)\n",
    "selections.resolution = '9 km' ## 45km for testing on AE hub\n",
    "hist_ds = selections.retrieve()\n",
    "hist_ds = hist_ds.sel(simulation = sims_hist)\n",
    "hist_ds"
   ]
  },
  {
   "cell_type": "code",
   "execution_count": null,
   "id": "2a074368-1110-4eba-a5a0-ec352010e55e",
   "metadata": {},
   "outputs": [],
   "source": [
    "# calculate metric\n",
    "ffwi_threshold = 50\n",
    "ds_ffwi_h = (hist_ds >= ffwi_threshold).groupby('time.year').sum('time', min_count=1).mean(['year', 'simulation']).squeeze()\n",
    "ds_ffwi_h"
   ]
  },
  {
   "cell_type": "code",
   "execution_count": null,
   "id": "3e5dfd87-7ab3-4548-9232-2acba89e737d",
   "metadata": {},
   "outputs": [],
   "source": [
    "## export intermediary file -- export takes approximately 1 hour due to data size\n",
    "ck.export(ds_ffwi_h, 'ffwi_hist_9km', 'NetCDF')"
   ]
  },
  {
   "cell_type": "markdown",
   "id": "ebd79ce7-d752-485a-a6d9-8a4d9bc25579",
   "metadata": {},
   "source": [
    "GWL data for hourly, CA, 9km, 4 bias-adjusted simulations is ~85 GB. We can use the \"simulation\" paramater to specifically select simulations breaking it into a more manageable size. We'll do 1 simulation at a time, export each as a new file, and then in the next phase aggregate together. \n",
    "\n",
    "**Note**: This is not the recommended approach for retrieving WL data on the Analytics Engine. "
   ]
  },
  {
   "cell_type": "code",
   "execution_count": null,
   "id": "34f9b346-df0b-4d6f-82e5-58e7277dbd24",
   "metadata": {
    "tags": []
   },
   "outputs": [],
   "source": [
    "# MIROC6 r1i1p1f1 2048-12-16 2.0\n",
    "# EC-Earth3 r1i1p1f1  2032-02-15 \n",
    "# MPI-ESM1-2-HR_r3i1p1f1 2045-01-16\n",
    "# TaiESM r1i1p1f1  2040-08-16 2.0\n",
    "selections = DataParameters()\n",
    "selections.area_average = 'No'\n",
    "selections.timescale = 'hourly'\n",
    "selections.variable_type = 'Derived Index'\n",
    "selections.variable = 'Fosberg fire weather index'\n",
    "selections.area_subset = \"states\"\n",
    "selections.cached_area = [\"CA\"]\n",
    "selections.simulation = ['TaiESM1'] ## order here matters\n",
    "selections.scenario_historical = ['Historical Climate']\n",
    "selections.scenario_ssp = ['SSP 3-7.0 -- Business as Usual']\n",
    "selections.time_slice = (2025, 2054)\n",
    "selections.resolution = '9 km' ## 45km for testing on AE hub\n",
    "hist_ds = selections.retrieve()\n",
    "hist_ds"
   ]
  },
  {
   "cell_type": "code",
   "execution_count": null,
   "id": "18cbbe0a-8dd2-416f-a272-a64398eca1de",
   "metadata": {
    "tags": []
   },
   "outputs": [],
   "source": [
    "ffwi_threshold = 50\n",
    "ds_ffwi_f = (hist_ds >= ffwi_threshold).groupby('time.year').sum('time', min_count=1).mean(['year']).squeeze()\n",
    "ds_ffwi_f"
   ]
  },
  {
   "cell_type": "code",
   "execution_count": null,
   "id": "389eee1a-bfdf-4260-bcf5-fe7a8e81218c",
   "metadata": {
    "tags": []
   },
   "outputs": [],
   "source": [
    "## export intermediary file -- export takes approximately 10 minutes per model due to data size\n",
    "ck.export(ds_ffwi_f, 'ffwi_proj_9km_MIROC', \"NetCDF\")\n",
    "# ck.export(ds_ffwi_f, 'ffwi_proj_9km_ECEarth3', 'NetCDF')\n",
    "# ck.export(ds_ffwi_f, 'ffwi_proj_9km_TaiESM', 'NetCDF')\n",
    "# ck.export(ds_ffwi_f, 'ffwi_proj_9km_MPI', 'NetCDF')"
   ]
  },
  {
   "cell_type": "markdown",
   "id": "1e36588b-36f1-4b76-ba62-9ed96ce9b909",
   "metadata": {},
   "source": [
    "**Export note**: Intermediary files for FFWI are in the 2a_subset/climate_risk/wildfire/exposure folder on AWS. "
   ]
  }
 ],
 "metadata": {
  "kernelspec": {
   "display_name": "Python 3 (ipykernel)",
   "language": "python",
   "name": "python3"
  },
  "language_info": {
   "codemirror_mode": {
    "name": "ipython",
    "version": 3
   },
   "file_extension": ".py",
   "mimetype": "text/x-python",
   "name": "python",
   "nbconvert_exporter": "python",
   "pygments_lexer": "ipython3",
   "version": "3.9.18"
  }
 },
 "nbformat": 4,
 "nbformat_minor": 5
}
