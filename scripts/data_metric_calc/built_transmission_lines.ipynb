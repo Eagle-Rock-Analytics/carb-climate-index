{
 "cells": [
  {
   "cell_type": "markdown",
   "metadata": {},
   "source": [
    "## Built Domain: Energy Transmission Metric Calculation\n",
    "* % of power lines that are underground"
   ]
  },
  {
   "cell_type": "code",
   "execution_count": 1,
   "metadata": {
    "execution": {
     "iopub.execute_input": "2024-06-20T21:39:40.115854Z",
     "iopub.status.busy": "2024-06-20T21:39:40.114668Z",
     "iopub.status.idle": "2024-06-20T21:39:40.846246Z",
     "shell.execute_reply": "2024-06-20T21:39:40.845851Z",
     "shell.execute_reply.started": "2024-06-20T21:39:40.115772Z"
    }
   },
   "outputs": [],
   "source": [
    "import pandas as pd\n",
    "import os\n",
    "import sys\n",
    "import boto3\n",
    "import io\n",
    "import geopandas as gpd\n",
    "import numpy as np\n",
    "\n",
    "# suppress pandas purely educational warnings\n",
    "from warnings import simplefilter\n",
    "simplefilter(action=\"ignore\", category=pd.errors.PerformanceWarning)\n",
    "\n",
    "sys.path.append(os.path.expanduser('../../'))\n",
    "from scripts.utils.file_helpers import pull_gpkg_from_directory, upload_csv_aws\n",
    "from scripts.utils.write_metadata import append_metadata"
   ]
  },
  {
   "cell_type": "code",
   "execution_count": null,
   "metadata": {
    "execution": {
     "iopub.execute_input": "2024-06-20T21:39:41.773559Z",
     "iopub.status.busy": "2024-06-20T21:39:41.772210Z",
     "iopub.status.idle": "2024-06-20T21:39:43.716072Z",
     "shell.execute_reply": "2024-06-20T21:39:43.715490Z",
     "shell.execute_reply.started": "2024-06-20T21:39:41.773498Z"
    }
   },
   "outputs": [],
   "source": [
    "# pull csv from aws\n",
    "bucket_name = 'ca-climate-index'\n",
    "aws_dir = '2b_reproject/built_environment/utilities/ca_energy_commission/'\n",
    "\n",
    "pull_gpkg_from_directory(bucket_name, aws_dir)"
   ]
  },
  {
   "cell_type": "code",
   "execution_count": null,
   "metadata": {
    "execution": {
     "iopub.execute_input": "2024-06-20T21:39:43.717832Z",
     "iopub.status.busy": "2024-06-20T21:39:43.717523Z",
     "iopub.status.idle": "2024-06-20T21:39:49.284209Z",
     "shell.execute_reply": "2024-06-20T21:39:49.283828Z",
     "shell.execute_reply.started": "2024-06-20T21:39:43.717814Z"
    }
   },
   "outputs": [],
   "source": [
    "transmission_lines = gpd.read_file('built_cec_transmission_lines.gpkg')\n",
    "transmission_lines = transmission_lines.to_crs(crs=4269)\n",
    "print(len(transmission_lines))"
   ]
  },
  {
   "cell_type": "code",
   "execution_count": null,
   "metadata": {
    "execution": {
     "iopub.execute_input": "2024-06-20T21:39:49.284852Z",
     "iopub.status.busy": "2024-06-20T21:39:49.284744Z",
     "iopub.status.idle": "2024-06-20T21:39:50.156906Z",
     "shell.execute_reply": "2024-06-20T21:39:50.156560Z",
     "shell.execute_reply.started": "2024-06-20T21:39:49.284842Z"
    }
   },
   "outputs": [],
   "source": [
    "transmission_lines.plot(column=\"Type\")"
   ]
  },
  {
   "cell_type": "code",
   "execution_count": null,
   "metadata": {
    "execution": {
     "iopub.execute_input": "2024-06-20T21:40:23.365558Z",
     "iopub.status.busy": "2024-06-20T21:40:23.364369Z",
     "iopub.status.idle": "2024-06-20T21:40:23.378066Z",
     "shell.execute_reply": "2024-06-20T21:40:23.376796Z",
     "shell.execute_reply.started": "2024-06-20T21:40:23.365519Z"
    }
   },
   "outputs": [],
   "source": [
    "transmission_lines.columns"
   ]
  },
  {
   "cell_type": "markdown",
   "metadata": {},
   "source": [
    "### Want to keep line type, it length, and its geospatial positioning"
   ]
  },
  {
   "cell_type": "code",
   "execution_count": null,
   "metadata": {
    "execution": {
     "iopub.execute_input": "2024-06-20T21:40:25.084680Z",
     "iopub.status.busy": "2024-06-20T21:40:25.083987Z",
     "iopub.status.idle": "2024-06-20T21:40:25.138881Z",
     "shell.execute_reply": "2024-06-20T21:40:25.138330Z",
     "shell.execute_reply.started": "2024-06-20T21:40:25.084646Z"
    }
   },
   "outputs": [],
   "source": [
    "columns_keep = ['Type', 'Length_Mil', 'geometry']\n",
    "filtered_transmission_lines = transmission_lines[columns_keep].copy()\n",
    "\n",
    "# ensure all entries within the 'Type' column are capitalized\n",
    "filtered_transmission_lines.loc[:, 'Type'] = filtered_transmission_lines['Type'].str.upper()\n",
    "\n",
    "# drop nan line types\n",
    "filtered_transmission_lines = filtered_transmission_lines.dropna(subset=['Type'])\n",
    "filtered_transmission_lines"
   ]
  },
  {
   "cell_type": "code",
   "execution_count": null,
   "metadata": {
    "execution": {
     "iopub.execute_input": "2024-06-20T21:40:31.106084Z",
     "iopub.status.busy": "2024-06-20T21:40:31.105383Z",
     "iopub.status.idle": "2024-06-20T21:40:31.120881Z",
     "shell.execute_reply": "2024-06-20T21:40:31.119792Z",
     "shell.execute_reply.started": "2024-06-20T21:40:31.106045Z"
    }
   },
   "outputs": [],
   "source": [
    "unique_lines = filtered_transmission_lines['Type'].unique()\n",
    "unique_lines"
   ]
  },
  {
   "cell_type": "markdown",
   "metadata": {},
   "source": [
    "### Separate the data into two dataframes\n",
    "* overhead lines\n",
    "* underground lines (with underwater lines included)"
   ]
  },
  {
   "cell_type": "code",
   "execution_count": null,
   "metadata": {
    "execution": {
     "iopub.execute_input": "2024-06-20T21:40:36.796304Z",
     "iopub.status.busy": "2024-06-20T21:40:36.795631Z",
     "iopub.status.idle": "2024-06-20T21:40:36.830160Z",
     "shell.execute_reply": "2024-06-20T21:40:36.829680Z",
     "shell.execute_reply.started": "2024-06-20T21:40:36.796269Z"
    }
   },
   "outputs": [],
   "source": [
    "# Create the overhead_lines DataFrame with 'OH' entries\n",
    "overhead_lines = filtered_transmission_lines[filtered_transmission_lines['Type'] == 'OH']\n",
    "\n",
    "# Create the underground_lines DataFrame with 'UG' and 'UW' entries\n",
    "underground_lines = filtered_transmission_lines[filtered_transmission_lines['Type'].isin(['UG', 'UW'])]\n",
    "\n",
    "print(\"Overhead Lines:\")\n",
    "print(overhead_lines)\n",
    "print(\"\\nUnderground Lines:\")\n",
    "print(underground_lines)"
   ]
  },
  {
   "cell_type": "code",
   "execution_count": null,
   "metadata": {
    "execution": {
     "iopub.execute_input": "2024-06-20T21:40:43.964267Z",
     "iopub.status.busy": "2024-06-20T21:40:43.963591Z",
     "iopub.status.idle": "2024-06-20T21:40:57.591505Z",
     "shell.execute_reply": "2024-06-20T21:40:57.591122Z",
     "shell.execute_reply.started": "2024-06-20T21:40:43.964234Z"
    }
   },
   "outputs": [],
   "source": [
    "# read in CA census tiger file\n",
    "tract_shp_dir = \"s3://ca-climate-index/0_map_data/2021_tiger_census_tract/2021_ca_tract/\"\n",
    "\n",
    "ca_tract_boundaries = gpd.read_file(tract_shp_dir)\n",
    "# need to rename columns so we don't have any duplicates in the final geodatabase\n",
    "column_names = ca_tract_boundaries.columns\n",
    "# new_column_names = [\"USCB_\"+column for column in column_names if column != \"geometry\"]\n",
    "ca_tract_boundaries = ca_tract_boundaries.rename(columns={'GEOID':\"TRACT\"})\n",
    "ca_tract_boundaries = ca_tract_boundaries.to_crs(crs=4269) \n",
    "ca_tract_boundaries.head()"
   ]
  },
  {
   "cell_type": "markdown",
   "metadata": {},
   "source": [
    "### Spatial join the tract boundaries with each of the line types, starting with overhead\n",
    "* sum the Length_Mil per line within a census tract\n",
    "* included below this cell is code to check line lengths per tract before and after summing"
   ]
  },
  {
   "cell_type": "code",
   "execution_count": null,
   "metadata": {
    "execution": {
     "iopub.execute_input": "2024-06-20T21:41:23.383912Z",
     "iopub.status.busy": "2024-06-20T21:41:23.383019Z",
     "iopub.status.idle": "2024-06-20T21:41:23.700656Z",
     "shell.execute_reply": "2024-06-20T21:41:23.700301Z",
     "shell.execute_reply.started": "2024-06-20T21:41:23.383851Z"
    }
   },
   "outputs": [],
   "source": [
    "# sjoin with tracts\n",
    "joined_overhead_lines = ca_tract_boundaries.sjoin(overhead_lines).reset_index()\n",
    "summed_overhead_lines = joined_overhead_lines.groupby('TRACT')['Length_Mil'].agg(['sum']).reset_index()\n",
    "summed_overhead_lines = pd.merge(summed_overhead_lines,ca_tract_boundaries,on=\"TRACT\", how='right')\n",
    "summed_overhead_lines = summed_overhead_lines[['TRACT', 'sum']]\n",
    "summed_overhead_lines = summed_overhead_lines.rename(columns={'TRACT':'census_tract', 'sum':'total_overhead_length_mi'})\n",
    "summed_overhead_lines"
   ]
  },
  {
   "cell_type": "markdown",
   "metadata": {},
   "source": [
    "## Check rows within a specified tract before and after summing"
   ]
  },
  {
   "cell_type": "code",
   "execution_count": null,
   "metadata": {
    "execution": {
     "iopub.execute_input": "2024-06-20T21:43:15.515696Z",
     "iopub.status.busy": "2024-06-20T21:43:15.514985Z",
     "iopub.status.idle": "2024-06-20T21:43:15.545811Z",
     "shell.execute_reply": "2024-06-20T21:43:15.545286Z",
     "shell.execute_reply.started": "2024-06-20T21:43:15.515661Z"
    }
   },
   "outputs": [],
   "source": [
    "tract = '06001400100'\n",
    "\n",
    "filtered_df = joined_overhead_lines[joined_overhead_lines['TRACT'] == tract]\n",
    "filtered_df = filtered_df[['TRACT', 'Length_Mil']]\n",
    "\n",
    "print(f'overhead transmission line rows for tract: {tract}')\n",
    "print(filtered_df)\n",
    "print('')\n",
    "\n",
    "filtered_df = summed_overhead_lines[summed_overhead_lines['census_tract'] == tract]\n",
    "filtered_df = filtered_df[['census_tract', 'total_overhead_length_mi']]\n",
    "\n",
    "print(f'sum of milage for overhead transmission line rows for tract: {tract}')\n",
    "print(filtered_df)"
   ]
  },
  {
   "cell_type": "markdown",
   "metadata": {},
   "source": [
    "### Now spatial join with underground lines (much few rows than overhead lines)"
   ]
  },
  {
   "cell_type": "code",
   "execution_count": null,
   "metadata": {
    "execution": {
     "iopub.execute_input": "2024-06-20T21:43:17.212096Z",
     "iopub.status.busy": "2024-06-20T21:43:17.211367Z",
     "iopub.status.idle": "2024-06-20T21:43:17.280899Z",
     "shell.execute_reply": "2024-06-20T21:43:17.280451Z",
     "shell.execute_reply.started": "2024-06-20T21:43:17.212048Z"
    }
   },
   "outputs": [],
   "source": [
    "# sjoin with tracts\n",
    "joined_underground_lines = ca_tract_boundaries.sjoin(underground_lines).reset_index()\n",
    "summed_underground_lines = joined_underground_lines.groupby('TRACT')['Length_Mil'].agg(['sum']).reset_index()\n",
    "summed_underground_lines = pd.merge(summed_underground_lines,ca_tract_boundaries,on=\"TRACT\", how='right')\n",
    "summed_underground_lines = summed_underground_lines[['TRACT', 'sum']]\n",
    "summed_underground_lines = summed_underground_lines.rename(columns={'TRACT':'census_tract', 'sum':'total_underground_length_mi'})\n",
    "summed_underground_lines"
   ]
  },
  {
   "cell_type": "markdown",
   "metadata": {},
   "source": [
    "### Merge the above and below ground spatially joined datasets together so we have total milage of lines respectively per census tract"
   ]
  },
  {
   "cell_type": "code",
   "execution_count": null,
   "metadata": {
    "execution": {
     "iopub.execute_input": "2024-06-20T21:43:19.934557Z",
     "iopub.status.busy": "2024-06-20T21:43:19.933775Z",
     "iopub.status.idle": "2024-06-20T21:43:19.962323Z",
     "shell.execute_reply": "2024-06-20T21:43:19.961779Z",
     "shell.execute_reply.started": "2024-06-20T21:43:19.934523Z"
    }
   },
   "outputs": [],
   "source": [
    "all_transmission_lines = pd.merge(summed_overhead_lines,summed_underground_lines, on='census_tract')\n",
    "all_transmission_lines"
   ]
  },
  {
   "cell_type": "markdown",
   "metadata": {},
   "source": [
    "### As there are about 506 rows (out of 9129 before sjoin) that have underground values, most were nan, which wouldnt allow for a calculation to be made\n",
    "* nan values were replaced with 0\n",
    "* a new column was made that is the sum of above and below ground milage per tract\n",
    "* another new column was made that calculated the percent of a tract has belowground transmission lines"
   ]
  },
  {
   "cell_type": "code",
   "execution_count": null,
   "metadata": {
    "execution": {
     "iopub.execute_input": "2024-06-20T21:43:29.296793Z",
     "iopub.status.busy": "2024-06-20T21:43:29.296040Z",
     "iopub.status.idle": "2024-06-20T21:43:29.326380Z",
     "shell.execute_reply": "2024-06-20T21:43:29.325748Z",
     "shell.execute_reply.started": "2024-06-20T21:43:29.296758Z"
    }
   },
   "outputs": [],
   "source": [
    "# Fill NaN values with 0 across the entire DataFrame\n",
    "all_transmission_lines = all_transmission_lines.fillna(0)\n",
    "\n",
    "# Calculate the total length of transmission lines\n",
    "all_transmission_lines['total_length_mi'] = all_transmission_lines['total_overhead_length_mi'] + all_transmission_lines['total_underground_length_mi']\n",
    "\n",
    "# Calculate the percentage of underground transmission lines\n",
    "# Handle division by zero by setting to 0 if total_length_mi is 0\n",
    "all_transmission_lines['percent_underground_transmission_lines'] = 0\n",
    "mask = all_transmission_lines['total_length_mi'] != 0\n",
    "all_transmission_lines.loc[mask, 'percent_underground_transmission_lines'] = (\n",
    "    all_transmission_lines['total_underground_length_mi'] / all_transmission_lines['total_length_mi']\n",
    ") * 100\n",
    "\n",
    "# Replace any remaining NaN values in 'percent_underground_transmission_lines' with 0\n",
    "all_transmission_lines['percent_underground_transmission_lines'] = all_transmission_lines['percent_underground_transmission_lines'].replace({np.nan: 0})\n",
    "\n",
    "# Print the DataFrame to verify the changes\n",
    "all_transmission_lines"
   ]
  },
  {
   "cell_type": "markdown",
   "metadata": {},
   "source": [
    "### Visualizing non 0 values"
   ]
  },
  {
   "cell_type": "code",
   "execution_count": null,
   "metadata": {
    "execution": {
     "iopub.execute_input": "2024-06-20T21:50:54.453939Z",
     "iopub.status.busy": "2024-06-20T21:50:54.453144Z",
     "iopub.status.idle": "2024-06-20T21:50:54.472876Z",
     "shell.execute_reply": "2024-06-20T21:50:54.471980Z",
     "shell.execute_reply.started": "2024-06-20T21:50:54.453888Z"
    }
   },
   "outputs": [],
   "source": [
    "percent_above_zero = all_transmission_lines[all_transmission_lines['percent_underground_transmission_lines'] > 0]\n",
    "print('length of non nan percentages:', len(percent_above_zero))\n",
    "percent_above_zero.head(5)"
   ]
  },
  {
   "cell_type": "code",
   "execution_count": 17,
   "metadata": {
    "execution": {
     "iopub.execute_input": "2024-06-20T21:49:47.547335Z",
     "iopub.status.busy": "2024-06-20T21:49:47.546607Z",
     "iopub.status.idle": "2024-06-20T21:49:47.600658Z",
     "shell.execute_reply": "2024-06-20T21:49:47.599896Z",
     "shell.execute_reply.started": "2024-06-20T21:49:47.547300Z"
    }
   },
   "outputs": [],
   "source": [
    "# save final df to csv for upload\n",
    "all_transmission_lines.to_csv('built_energy_transmission_lines_metric.csv', index=False)"
   ]
  },
  {
   "cell_type": "markdown",
   "metadata": {},
   "source": [
    "### Function Call"
   ]
  },
  {
   "cell_type": "code",
   "execution_count": 101,
   "metadata": {},
   "outputs": [],
   "source": [
    "@append_metadata\n",
    "def transmission_line_upload(input_csv, export=False, varname=''):\n",
    "    '''\n",
    "    Uploads prepared transmission lines metric csv to S3 bucket. The metrics is:\n",
    "    % of power lines that are underground\n",
    "\n",
    "    Data for this energy transmission metric was sourced from California Energy Commission at:\n",
    "    https://cecgis-caenergy.opendata.arcgis.com/datasets/CAEnergy::california-electric-transmission-lines-1/about\n",
    "\n",
    "    Methods\n",
    "    -------\n",
    "    Relevant columns to Cal-CRAI's metric were isolated.\n",
    "    Overhead transmission lines were separated from underground and underwater lines.\n",
    "    The separated types of lines were spatially joined with California 2021 census tract shape files.\n",
    "    Resulting files were merged together, with toal overhead and below ground lines summed together per census tract.\n",
    "    Percentage underground lines were calculated per tract by dividing summed underground/underwater lines with total line counts.\n",
    "    \n",
    "    Parameters\n",
    "    ----------\n",
    "    input_csv: string\n",
    "        csv transmission lines data \n",
    "    export: True/False boolean\n",
    "        False = will not upload resulting df containing CAL CRAI transmission line metric to AWS\n",
    "        True = will upload resulting df containing CAL CRAI transmission line metric to AWS\n",
    "\n",
    "    Script\n",
    "    ------\n",
    "    built_transmission_lines.ipynb\n",
    "\n",
    "    Note:\n",
    "    This function assumes users have configured the AWS CLI such that their access key / secret key pair are stored in ~/.aws/credentials.\n",
    "    See https://docs.aws.amazon.com/cli/latest/userguide/getting-started-install.html for guidance.\n",
    "    '''\n",
    "    print('Data transformation: data cleaned by isolating relevant columns.')\n",
    "    print('Data transformation: data was spatially joined to California census boudaries after separating overhead and below ground lines.')\n",
    "    print('Data transformation: new columns calculated percentage underground/underwater lines per census tract.')\n",
    "\n",
    "    if export == True:\n",
    "        bucket_name = 'ca-climate-index'\n",
    "        directory = '3_fair_data/index_data'\n",
    "        export_filename = [input_csv]\n",
    "        upload_csv_aws(export_filename, bucket_name, directory)\n",
    "\n",
    "    if export == False:\n",
    "        print(f'{input_csv} uplaoded to AWS.')\n",
    "\n",
    "    if os.path.exists(input_csv):\n",
    "        os.remove(input_csv)"
   ]
  },
  {
   "cell_type": "code",
   "execution_count": 96,
   "metadata": {},
   "outputs": [],
   "source": [
    "built_energy_csv='built_energy_transmission_lines_metric.csv'\n",
    "var = 'built_cec_transmission_lines'\n",
    "\n",
    "transmission_line_upload(built_energy_csv, export=True, varname='test')"
   ]
  },
  {
   "cell_type": "code",
   "execution_count": null,
   "metadata": {},
   "outputs": [],
   "source": [
    "all_transmission_lines"
   ]
  }
 ],
 "metadata": {
  "kernelspec": {
   "display_name": "Python 3 (ipykernel)",
   "language": "python",
   "name": "python3"
  },
  "language_info": {
   "codemirror_mode": {
    "name": "ipython",
    "version": 3
   },
   "file_extension": ".py",
   "mimetype": "text/x-python",
   "name": "python",
   "nbconvert_exporter": "python",
   "pygments_lexer": "ipython3",
   "version": "3.9.18"
  }
 },
 "nbformat": 4,
 "nbformat_minor": 4
}
