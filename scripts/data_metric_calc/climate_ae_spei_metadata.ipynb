{
 "cells": [
  {
   "cell_type": "markdown",
   "id": "a184be96-f61f-4546-8ff2-1cb43042623b",
   "metadata": {
    "execution": {
     "iopub.execute_input": "2024-01-04T22:15:17.898163Z",
     "iopub.status.busy": "2024-01-04T22:15:17.897747Z",
     "iopub.status.idle": "2024-01-04T22:15:17.902224Z",
     "shell.execute_reply": "2024-01-04T22:15:17.901452Z",
     "shell.execute_reply.started": "2024-01-04T22:15:17.898091Z"
    }
   },
   "source": [
    "## Cal-CRAI metric: SPEI\n",
    "This notebook generates the text metadata files for the drought exposure metric: `% change in probability that a water year is classified as having Moderate, Severe, or Extreme drought conditions via SPEI` using Cal-Adapt: Analytics Engine data. Because the AE data represents 200+ GB of data, metrics were calculated with a cluster in a high performance computing environment (i.e. a pcluster). Please see the processing script `climate_ae_spei.py` for full methodological process.\n",
    "\n",
    "**SPEI** will be added as an available data metric to climakitae as a part of this development. \n",
    "\n",
    "**References**: \n",
    "1. S. M. Vicente-Serrano, S. Beguería, and J. I. López-Moreno, “A Multiscalar Drought Index Sensitive to Global Warming: The Standardized Precipitation Evapotranspiration Index,” Journal of Climate, vol. 23, no. 7, pp. 1696–1718, Apr. 2010, doi: 10.1175/2009JCLI2909.1.\n",
    "2. George H. Hargreaves and Zohrab A. Samani. Reference Crop Evapotranspiration from Temperature. Applied engineering in agriculture, 1(2):96–99, 1985. PubAg AGID: 5662005. doi:10.13031/2013.26773\n",
    "3. https://xclim.readthedocs.io/en/stable/indices.html#xclim.indices.potential_evapotranspiration\n",
    "4. https://xclim.readthedocs.io/en/stable/indices.html#xclim.indices.standardized_precipitation_evapotranspiration_index\n",
    "\n",
    "Variables:\n",
    "1. Daily Water Budget, which is the difference between:\n",
    "    - Daily precipitation and\n",
    "    - Daily potential evapotranspiration, derived from some combo of the following, depending on method:\n",
    "       - Daily Min Temperature\n",
    "       - Daily Max Temperature\n",
    "       - Daily Mean Temperature\n",
    "       - Relative Humidity\n",
    "       - Surface Downwelling Shortwave Radiation\n",
    "       - Surface Upwelling Shortwave Radiation\n",
    "       - Surface Downwelling Longwave Radiation\n",
    "       - Surface Upwelling Longwave Radiation\n",
    "       - 10m Wind Speed\n",
    "       \n",
    "       *we will be using the Hargreaves and Samani (1985) version, so we use daily min and max temperatures*\n",
    "2. Calibration Daily Water Budget\n",
    "    - Can be computed from Daily Water Budget over a given \"calibration\" time period\n",
    "    \n",
    "### Step 1: Generate metadata"
   ]
  },
  {
   "cell_type": "code",
   "execution_count": 1,
   "id": "76b4bf12-d884-41a2-b20e-cd3490402d1b",
   "metadata": {},
   "outputs": [],
   "source": [
    "import pandas as pd\n",
    "import os\n",
    "import sys\n",
    "\n",
    "sys.path.append(os.path.expanduser('../../'))\n",
    "from scripts.utils.file_helpers import upload_csv_aws, pull_csv_from_directory\n",
    "from scripts.utils.write_metadata import append_metadata"
   ]
  },
  {
   "cell_type": "code",
   "execution_count": null,
   "id": "cd0eecf3",
   "metadata": {},
   "outputs": [],
   "source": [
    "bucket_name = 'ca-climate-index'\n",
    "aws_dir = '3_fair_data/index_data/climate_drought_spei_metric.csv'\n",
    "folder = 'csv_folder'\n",
    "\n",
    "pull_csv_from_directory(bucket_name, aws_dir, folder, search_zipped=False)"
   ]
  },
  {
   "cell_type": "code",
   "execution_count": null,
   "id": "aecd9a1e-9fcd-4712-b9b4-c8c12e500ff5",
   "metadata": {},
   "outputs": [],
   "source": [
    "df_in = pd.read_csv(r'csv_folder/climate_drought_spei_metric.csv') # make sure this is in the same folder!\n",
    "df_in # check"
   ]
  },
  {
   "cell_type": "code",
   "execution_count": 4,
   "id": "defa5bca",
   "metadata": {},
   "outputs": [],
   "source": [
    "# Move a specific column to the end of the DataFrame\n",
    "column_to_move = 'change_in_drought_years'  # Replace with the actual column name\n",
    "columns = [col for col in df_in.columns if col != column_to_move]  # Keep all other columns\n",
    "columns.append(column_to_move)  # Add the column to move to the end\n",
    "\n",
    "# Reassign the DataFrame with the new column order\n",
    "df_in = df_in[columns]"
   ]
  },
  {
   "cell_type": "code",
   "execution_count": 5,
   "id": "4658e8ed",
   "metadata": {},
   "outputs": [],
   "source": [
    "df_in.to_csv('climate_drought_spei_metric.csv', index=False)"
   ]
  },
  {
   "cell_type": "code",
   "execution_count": 6,
   "id": "554f09ba-1854-4c48-8e0a-7d95a03cfff4",
   "metadata": {},
   "outputs": [],
   "source": [
    "@append_metadata\n",
    "def drought_spei_process(df, export=False, export_filename=None, varname=''):\n",
    "    '''\n",
    "    Reduces the size of the initial daily raw data in order to streamline compute time.\n",
    "    Transforms the raw data into the following baseline metrics:\n",
    "    * change in probability that a water year is classified as having Moderate, Severe,\n",
    "    or Extreme drought conditions via Standardized Precipitation Evapotranspiration Index (SPEI)\n",
    "    \n",
    "    Methods\n",
    "    -------\n",
    "    Metric is calculated with the xclim.indices.standardized_precipitation_evapotranspiration_index.\n",
    "    \n",
    "    Parameters\n",
    "    ----------\n",
    "    df: pd.DataFrame\n",
    "        Input data.\n",
    "    export: True/False boolean\n",
    "        False = will not upload resulting df containing CAL CRAI drought metric to AWS\n",
    "        True = will upload resulting df containing CAL CRAI drought metric to AWS\n",
    "    export_filename: string\n",
    "        name of csv file to be uploaded to AWS\n",
    "    varname: string\n",
    "        Final metric name, for metadata generation\n",
    "        \n",
    "    Script\n",
    "    ------\n",
    "    Metric calculation: climate_ae_spei.py via pcluster run\n",
    "    Metadata generation: climate_ae_spei_metadata.ipynb\n",
    "    \n",
    "    Note\n",
    "    ----\n",
    "    Because the climate projections data is on the order of 2.4 TB in size, intermediary\n",
    "    processed files are not produced for each stage of the metric calculation. All processing\n",
    "    occurs in a single complete run in the notebook listed above.\n",
    "    '''\n",
    "        \n",
    "    # historical baseline\n",
    "    print(\"Data transformation: historical baseline data retrieved for 1981-2010 for max & min air temperature and precipitation.\")\n",
    "    print(\"Data transformation: dynamically-downscaled climate data subsetted for a-priori bias-corrected models.\")\n",
    "    print(\"Data transformation: drop all singleton dimensions (scenario).\")\n",
    "\n",
    "    # calculate chronic with 2°C WL\n",
    "    print('Data transformation: raw projections data retrieved for warming level of 2.0°C, by manually subsetting based on GWL for parent GCM and calculating 30 year average.')\n",
    "    print(\"Data transformation: dynamically-downscaled climate data subsetted for a-priori bias-corrected models.\")\n",
    "    print(\"Data transformation: drop all singleton dimensions (scenario).\")\n",
    "    \n",
    "    # calculate delta signal\n",
    "    print(\"Data transformation: water budget calculated as input for SPEI.\")\n",
    "    print(\"Data transformation: SPEI calculated, with the number of water years with 6+ months of SPEI <-1 (6+ dry months).\")\n",
    "    print(\"Data transformation: delta signal calculated by taking difference between chronic (2.0°C) and historical baseline.\")\n",
    "\n",
    "    # reprojection to census tracts\n",
    "    print(\"Data transformation: data transformed from xarray dataset into pandas dataframe.\")\n",
    "    print(\"Data transformation: data reprojected from Lambert Conformal Conic CRS to CRS 3857.\")\n",
    "    print(\"Data transformation: data infilling for coastal census tracts by the average of nearest valid census tract via sjoin.nearest\") ## confirm\n",
    "\n",
    "        \n",
    "    # min-max standardization\n",
    "    print(\"Data transformation: data min-max standardized with min_max_standardize function.\")\n",
    "    \n",
    "    if export == True:\n",
    "        bucket_name = 'ca-climate-index'\n",
    "        directory = '3_fair_data/index_data'\n",
    "        export_filename = [df]\n",
    "        upload_csv_aws(export_filename, bucket_name, directory)\n",
    "\n",
    "    if export == False:\n",
    "        print(f'{df} uplaoded to AWS.')\n",
    "\n",
    "    if os.path.exists(df):\n",
    "        os.remove(df)"
   ]
  },
  {
   "cell_type": "code",
   "execution_count": 8,
   "id": "336d4105",
   "metadata": {},
   "outputs": [],
   "source": [
    "varname = 'climate_caladapt_drought_probability'\n",
    "filename = 'climate_drought_spei_metric.csv'\n",
    "drought_spei_process(filename, export=True, export_filename=None, varname='test')"
   ]
  }
 ],
 "metadata": {
  "kernelspec": {
   "display_name": "carb",
   "language": "python",
   "name": "python3"
  },
  "language_info": {
   "codemirror_mode": {
    "name": "ipython",
    "version": 3
   },
   "file_extension": ".py",
   "mimetype": "text/x-python",
   "name": "python",
   "nbconvert_exporter": "python",
   "pygments_lexer": "ipython3",
   "version": "3.9.18"
  }
 },
 "nbformat": 4,
 "nbformat_minor": 5
}
