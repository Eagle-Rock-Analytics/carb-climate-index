{
 "cells": [
  {
   "cell_type": "markdown",
   "metadata": {},
   "source": [
    "## Cal-CRAI Metric Calculation for: Climate Risk / extreme heat warnings\n",
    "* Median annual number of days with excessive heat warnings"
   ]
  },
  {
   "cell_type": "code",
   "execution_count": 1,
   "metadata": {
    "execution": {
     "iopub.execute_input": "2024-08-06T18:42:04.703990Z",
     "iopub.status.busy": "2024-08-06T18:42:04.703837Z",
     "iopub.status.idle": "2024-08-06T18:42:06.021539Z",
     "shell.execute_reply": "2024-08-06T18:42:06.021015Z",
     "shell.execute_reply.started": "2024-08-06T18:42:04.703975Z"
    }
   },
   "outputs": [],
   "source": [
    "import geopandas as gpd\n",
    "import s3fs\n",
    "import pandas as pd\n",
    "import boto3\n",
    "import dask_geopandas\n",
    "import dask.dataframe as dd\n",
    "import matplotlib.pyplot as plt\n",
    "import os\n",
    "import sys\n",
    "import numpy as np\n",
    "\n",
    "sys.path.append(os.path.expanduser('../../'))\n",
    "from scripts.utils.file_helpers import upload_csv_aws, pull_gpkg_from_directory\n",
    "from scripts.utils.write_metadata import append_metadata"
   ]
  },
  {
   "cell_type": "markdown",
   "metadata": {},
   "source": [
    "### Retrieve data"
   ]
  },
  {
   "cell_type": "code",
   "execution_count": null,
   "metadata": {
    "execution": {
     "iopub.execute_input": "2024-08-06T18:42:06.022805Z",
     "iopub.status.busy": "2024-08-06T18:42:06.022365Z",
     "iopub.status.idle": "2024-08-06T18:42:54.242327Z",
     "shell.execute_reply": "2024-08-06T18:42:54.241862Z",
     "shell.execute_reply.started": "2024-08-06T18:42:06.022764Z"
    }
   },
   "outputs": [],
   "source": [
    "# pull gpkg data from AWS\n",
    "bucket_name = 'ca-climate-index'\n",
    "aws_dir = '2b_reproject/climate_risk/extreme_heat/exposure/iowa_state_environmental_mesonet/'\n",
    "\n",
    "pull_gpkg_from_directory(bucket_name, aws_dir)"
   ]
  },
  {
   "cell_type": "code",
   "execution_count": 3,
   "metadata": {
    "execution": {
     "iopub.execute_input": "2024-08-06T18:42:54.243631Z",
     "iopub.status.busy": "2024-08-06T18:42:54.243489Z",
     "iopub.status.idle": "2024-08-06T18:44:47.467667Z",
     "shell.execute_reply": "2024-08-06T18:44:47.467226Z",
     "shell.execute_reply.started": "2024-08-06T18:42:54.243620Z"
    }
   },
   "outputs": [],
   "source": [
    "heat_warnings_data = gpd.read_file('climate_iowa_mesonet_heat_warnings.gpkg')\n",
    "heat_warnings_data.columns\n",
    "heat_warnings_data = heat_warnings_data[['ISSUED', 'USCB_GEOID', 'geometry']]"
   ]
  },
  {
   "cell_type": "code",
   "execution_count": null,
   "metadata": {
    "execution": {
     "iopub.execute_input": "2024-08-06T18:44:47.470557Z",
     "iopub.status.busy": "2024-08-06T18:44:47.470464Z",
     "iopub.status.idle": "2024-08-06T18:44:47.545488Z",
     "shell.execute_reply": "2024-08-06T18:44:47.545159Z",
     "shell.execute_reply.started": "2024-08-06T18:44:47.470548Z"
    }
   },
   "outputs": [],
   "source": [
    "heat_warnings_data = heat_warnings_data[['ISSUED', 'USCB_GEOID', 'geometry']]\n",
    "heat_warnings_data"
   ]
  },
  {
   "cell_type": "markdown",
   "metadata": {},
   "source": [
    "### Clean and count the number of warning days"
   ]
  },
  {
   "cell_type": "code",
   "execution_count": null,
   "metadata": {
    "execution": {
     "iopub.execute_input": "2024-08-06T18:44:47.546242Z",
     "iopub.status.busy": "2024-08-06T18:44:47.546119Z",
     "iopub.status.idle": "2024-08-06T18:44:47.908438Z",
     "shell.execute_reply": "2024-08-06T18:44:47.908085Z",
     "shell.execute_reply.started": "2024-08-06T18:44:47.546233Z"
    }
   },
   "outputs": [],
   "source": [
    "def clean_warnings(df):\n",
    "    # reduce by counting the # of events per tract:\n",
    "    # shave off time issued so we only have days    \n",
    "    df['ISSUED_day'] = df['ISSUED'].str.slice(0,8)\n",
    "    df = df.drop_duplicates(subset=['ISSUED_day', 'USCB_GEOID'], keep='first')\n",
    "    df['ISSUED_year'] = df['ISSUED'].str.slice(0,4)\n",
    "    \n",
    "    df_out = df.groupby(['USCB_GEOID','ISSUED_day', 'ISSUED_year'])['ISSUED'].count().reset_index().rename(columns={'ISSUED':'number_warnings'})\n",
    "    return df_out\n",
    "\n",
    "df_cleaned = clean_warnings(heat_warnings_data)\n",
    "df_cleaned"
   ]
  },
  {
   "cell_type": "code",
   "execution_count": null,
   "metadata": {
    "execution": {
     "iopub.execute_input": "2024-08-06T18:44:47.909021Z",
     "iopub.status.busy": "2024-08-06T18:44:47.908917Z",
     "iopub.status.idle": "2024-08-06T18:44:47.959931Z",
     "shell.execute_reply": "2024-08-06T18:44:47.959557Z",
     "shell.execute_reply.started": "2024-08-06T18:44:47.909012Z"
    }
   },
   "outputs": [],
   "source": [
    "# count the number of days per year\n",
    "dfg = df_cleaned.groupby(['USCB_GEOID', 'ISSUED_year']).count()\n",
    "dfg = dfg = dfg.drop(columns='ISSUED_day').unstack()\n",
    "dfg"
   ]
  },
  {
   "cell_type": "code",
   "execution_count": null,
   "metadata": {
    "execution": {
     "iopub.execute_input": "2024-08-06T18:44:47.962186Z",
     "iopub.status.busy": "2024-08-06T18:44:47.961939Z",
     "iopub.status.idle": "2024-08-06T18:44:47.968902Z",
     "shell.execute_reply": "2024-08-06T18:44:47.968617Z",
     "shell.execute_reply.started": "2024-08-06T18:44:47.962175Z"
    }
   },
   "outputs": [],
   "source": [
    "# aggregate by year\n",
    "df_agg = pd.DataFrame(dfg.median(axis=1)).reset_index()\n",
    "df_agg = df_agg.rename(columns={0:\"median_warning_days\",'USCB_GEOID':'GEOID'}) \n",
    "df_agg"
   ]
  },
  {
   "cell_type": "code",
   "execution_count": 8,
   "metadata": {
    "execution": {
     "iopub.execute_input": "2024-08-06T18:44:47.969587Z",
     "iopub.status.busy": "2024-08-06T18:44:47.969435Z",
     "iopub.status.idle": "2024-08-06T18:45:01.103613Z",
     "shell.execute_reply": "2024-08-06T18:45:01.103125Z",
     "shell.execute_reply.started": "2024-08-06T18:44:47.969578Z"
    }
   },
   "outputs": [],
   "source": [
    "# read in CA census tiger file\n",
    "census_shp_dir = \"s3://ca-climate-index/0_map_data/2021_tiger_census_tract/2021_ca_tract/\"\n",
    "ca_boundaries = gpd.read_file(census_shp_dir)\n",
    "heat_warning_df = pd.merge(df_agg,ca_boundaries,on=\"GEOID\")\n",
    "heat_gdf = gpd.GeoDataFrame(\n",
    "    heat_warning_df, geometry=heat_warning_df[\"geometry\"]\n",
    ")"
   ]
  },
  {
   "cell_type": "code",
   "execution_count": 9,
   "metadata": {
    "execution": {
     "iopub.execute_input": "2024-08-06T18:45:01.104299Z",
     "iopub.status.busy": "2024-08-06T18:45:01.104183Z",
     "iopub.status.idle": "2024-08-06T18:45:01.115177Z",
     "shell.execute_reply": "2024-08-06T18:45:01.114869Z",
     "shell.execute_reply.started": "2024-08-06T18:45:01.104289Z"
    }
   },
   "outputs": [],
   "source": [
    "# merge with CA boundaries\n",
    "merged_heat_data = pd.merge(df_agg, ca_boundaries, on='GEOID', how='right')\n",
    "\n",
    "# drop unnecessary columns \n",
    "merged_heat_data = merged_heat_data[['GEOID', 'median_warning_days', 'geometry']]"
   ]
  },
  {
   "cell_type": "code",
   "execution_count": null,
   "metadata": {
    "execution": {
     "iopub.execute_input": "2024-08-06T18:45:01.115803Z",
     "iopub.status.busy": "2024-08-06T18:45:01.115691Z",
     "iopub.status.idle": "2024-08-06T18:45:01.121748Z",
     "shell.execute_reply": "2024-08-06T18:45:01.121415Z",
     "shell.execute_reply.started": "2024-08-06T18:45:01.115794Z"
    }
   },
   "outputs": [],
   "source": [
    "# check island track and set to nan\n",
    "merged_heat_data.loc[merged_heat_data['GEOID'] == '06075980401', 'median_warning_days'] = np.nan\n",
    "merged_heat_data\n",
    "\n",
    "# check island tract\n",
    "island = merged_heat_data[merged_heat_data['GEOID'] == '06075980401']\n",
    "island"
   ]
  },
  {
   "cell_type": "code",
   "execution_count": null,
   "metadata": {
    "execution": {
     "iopub.execute_input": "2024-08-06T18:45:01.122376Z",
     "iopub.status.busy": "2024-08-06T18:45:01.122277Z",
     "iopub.status.idle": "2024-08-06T18:45:01.125439Z",
     "shell.execute_reply": "2024-08-06T18:45:01.125138Z",
     "shell.execute_reply.started": "2024-08-06T18:45:01.122367Z"
    }
   },
   "outputs": [],
   "source": [
    "merged_heat_data['median_warning_days'].min(), merged_heat_data['median_warning_days'].max()"
   ]
  },
  {
   "cell_type": "markdown",
   "metadata": {},
   "source": [
    "### Visualizing the data"
   ]
  },
  {
   "cell_type": "code",
   "execution_count": null,
   "metadata": {
    "execution": {
     "iopub.execute_input": "2024-08-06T18:45:01.126174Z",
     "iopub.status.busy": "2024-08-06T18:45:01.126043Z",
     "iopub.status.idle": "2024-08-06T18:45:04.241662Z",
     "shell.execute_reply": "2024-08-06T18:45:04.241274Z",
     "shell.execute_reply.started": "2024-08-06T18:45:01.126165Z"
    }
   },
   "outputs": [],
   "source": [
    "bins = [2,4,6,8,10]\n",
    "fig, ax = plt.subplots(figsize=(10,10))\n",
    "heat_gdf.plot(\n",
    "    column=\"median_warning_days\",\n",
    "    legend=True,\n",
    "    ax=ax,\n",
    "    scheme='user_defined',\n",
    "    classification_kwds={'bins': bins})\n",
    "ax.set_title(\"Median annual extreme heat warning days\")\n",
    "plt.show()"
   ]
  },
  {
   "cell_type": "code",
   "execution_count": null,
   "metadata": {},
   "outputs": [],
   "source": [
    "merged_heat_data"
   ]
  },
  {
   "cell_type": "markdown",
   "metadata": {},
   "source": [
    "### Export the data"
   ]
  },
  {
   "cell_type": "code",
   "execution_count": 14,
   "metadata": {
    "execution": {
     "iopub.execute_input": "2024-08-06T18:45:04.242778Z",
     "iopub.status.busy": "2024-08-06T18:45:04.242497Z",
     "iopub.status.idle": "2024-08-06T18:45:05.485129Z",
     "shell.execute_reply": "2024-08-06T18:45:05.484606Z",
     "shell.execute_reply.started": "2024-08-06T18:45:04.242763Z"
    }
   },
   "outputs": [],
   "source": [
    "merged_heat_data = merged_heat_data.drop(columns={'geometry'})\n",
    "merged_heat_data = merged_heat_data.rename(columns={'median_warning_days':'median_heat_warning_days'})\n",
    "\n",
    "merged_heat_data.to_csv('climate_heat_warning_metric.csv', index=False)"
   ]
  },
  {
   "cell_type": "markdown",
   "metadata": {},
   "source": [
    "## Function Call"
   ]
  },
  {
   "cell_type": "code",
   "execution_count": 16,
   "metadata": {
    "execution": {
     "iopub.execute_input": "2024-08-06T18:45:05.485944Z",
     "iopub.status.busy": "2024-08-06T18:45:05.485833Z",
     "iopub.status.idle": "2024-08-06T18:45:05.489731Z",
     "shell.execute_reply": "2024-08-06T18:45:05.489399Z",
     "shell.execute_reply.started": "2024-08-06T18:45:05.485935Z"
    }
   },
   "outputs": [],
   "source": [
    "@append_metadata\n",
    "def isu_extreme_heat_warning_upload(input_csv, export=False, varname=''):\n",
    "    '''\n",
    "    Uploads the calculated extreme heat warning metric to S3 bucket. The metric is:\n",
    "    Median number of excessive heat warnings days\n",
    "    \n",
    "    Data for this metric was sourced from ISU's Environmental Mesonet at:\n",
    "    https://mesonet.agron.iastate.edu/request/gis/watchwarn.phtml\n",
    "\n",
    "    Methods\n",
    "    -------\n",
    "    Data files were read in.\n",
    "    Excessive heat warning date, location, and count columns were retained.\n",
    "    Duplicate entries for a given location and date were dropped.\n",
    "    Data was grouped by location and warning year.\n",
    "    Number of warnings per year were summed per census tract.\n",
    "    The median number of warnings were calculated for each census tract.\n",
    "    \n",
    "    Parameters\n",
    "    ----------\n",
    "    input_csv: string\n",
    "        csv excessive heat warning data \n",
    "    export: True/False boolean\n",
    "        False = will not upload resulting df containing CAL CRAI excessive heat warning metric to AWS\n",
    "        True = will upload resulting df containing CAL CRAI excessive heat warning metric to AWS\n",
    "\n",
    "    Script\n",
    "    ------\n",
    "    climate_risk_heat_warning.ipynb\n",
    "\n",
    "    Note:\n",
    "    This function assumes users have configured the AWS CLI such that their access key / secret key pair are stored in ~/.aws/credentials.\n",
    "    See https://docs.aws.amazon.com/cli/latest/userguide/getting-started-install.html for guidance.\n",
    "    '''\n",
    "    print('Data transformation: relevant metric columns were isolated.')\n",
    "    print('Data transformation: duplicate entries per location and date were dropped.')\n",
    "    print('Data transformation: GEOID 06075980401 (Farallon Islands, San Francisco County) filled with nan.') \n",
    " \n",
    "    if export == True:\n",
    "        bucket_name = 'ca-climate-index'\n",
    "        directory = '3_fair_data/index_data'\n",
    "        export_filename = [input_csv]\n",
    "        upload_csv_aws(export_filename, bucket_name, directory)\n",
    "\n",
    "    if export == False:\n",
    "        print(f'{input_csv} uploaded to AWS.')\n",
    " \n",
    "    if os.path.exists(input_csv):\n",
    "        os.remove(input_csv)"
   ]
  },
  {
   "cell_type": "code",
   "execution_count": 17,
   "metadata": {
    "execution": {
     "iopub.execute_input": "2024-08-06T18:45:05.490323Z",
     "iopub.status.busy": "2024-08-06T18:45:05.490223Z",
     "iopub.status.idle": "2024-08-06T18:45:05.493561Z",
     "shell.execute_reply": "2024-08-06T18:45:05.493311Z",
     "shell.execute_reply.started": "2024-08-06T18:45:05.490314Z"
    }
   },
   "outputs": [],
   "source": [
    "input_csv = 'climate_heat_warning_metric.csv'\n",
    "varname = 'climate_iowa_mesonet_heat_warnings'\n",
    "\n",
    "isu_extreme_heat_warning_upload(input_csv, export=True, varname='test')"
   ]
  }
 ],
 "metadata": {
  "kernelspec": {
   "display_name": "carb",
   "language": "python",
   "name": "python3"
  },
  "language_info": {
   "codemirror_mode": {
    "name": "ipython",
    "version": 3
   },
   "file_extension": ".py",
   "mimetype": "text/x-python",
   "name": "python",
   "nbconvert_exporter": "python",
   "pygments_lexer": "ipython3",
   "version": "3.9.18"
  }
 },
 "nbformat": 4,
 "nbformat_minor": 4
}
