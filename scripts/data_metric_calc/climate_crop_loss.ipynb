{
 "cells": [
  {
   "cell_type": "markdown",
   "id": "055c1a37-e491-47e8-9e63-0c18ba36a47b",
   "metadata": {},
   "source": [
    "### Cal-CRAI metric calculation: Crop Loss\n",
    "This notebook calculates crop loss metrics across 2 different climate risks:\n",
    "* Drought/crop loss: average # of acres lost from drought per year\n",
    "* Drought/crop loss: average cost of crop loss from drought per year\n",
    "* Heat/crop loss: average # of acres lost from extreme heat per year\n",
    "* Heat/crop loss: average cost of crop loss from extreme heat per year"
   ]
  },
  {
   "cell_type": "code",
   "execution_count": 4,
   "id": "8706cafd-cfb9-4b78-abe4-1287502eed62",
   "metadata": {
    "execution": {
     "iopub.execute_input": "2024-08-13T16:27:05.301486Z",
     "iopub.status.busy": "2024-08-13T16:27:05.299895Z",
     "iopub.status.idle": "2024-08-13T16:27:05.393719Z",
     "shell.execute_reply": "2024-08-13T16:27:05.393251Z",
     "shell.execute_reply.started": "2024-08-13T16:27:05.301441Z"
    }
   },
   "outputs": [],
   "source": [
    "import geopandas as gpd\n",
    "import s3fs\n",
    "import pandas as pd\n",
    "import boto3\n",
    "import matplotlib.pyplot as plt\n",
    "import os\n",
    "import sys\n",
    "import numpy as np\n",
    "\n",
    "sys.path.append(os.path.expanduser('../../'))\n",
    "from scripts.utils.file_helpers import pull_csv_from_directory, upload_csv_aws\n",
    "from scripts.utils.write_metadata import append_metadata"
   ]
  },
  {
   "cell_type": "code",
   "execution_count": null,
   "id": "7ce6c5f3-3eb9-4617-8405-d7ee2d4ecaae",
   "metadata": {
    "execution": {
     "iopub.execute_input": "2024-08-13T16:27:06.754522Z",
     "iopub.status.busy": "2024-08-13T16:27:06.753618Z",
     "iopub.status.idle": "2024-08-13T16:27:09.231934Z",
     "shell.execute_reply": "2024-08-13T16:27:09.231570Z",
     "shell.execute_reply.started": "2024-08-13T16:27:06.754445Z"
    }
   },
   "outputs": [],
   "source": [
    "# read in CA census tiger file\n",
    "ca_tract_county = \"s3://ca-climate-index/0_map_data/ca_tracts_county.csv\"\n",
    "ca_tract_county = gpd.read_file(ca_tract_county)\n",
    "ca_tract_county = ca_tract_county.drop(columns={'field_1', 'geometry'})\n",
    "ca_tract_county.columns = ca_tract_county.columns.str.lower()\n",
    "ca_tract_county = ca_tract_county.applymap(lambda s: s.lower() if type(s) == str else s)\n",
    "\n",
    "ca_tract_county"
   ]
  },
  {
   "cell_type": "code",
   "execution_count": null,
   "id": "b35cda78-3f30-4e67-a327-7f28908b10b4",
   "metadata": {
    "execution": {
     "iopub.execute_input": "2024-08-13T16:27:09.233562Z",
     "iopub.status.busy": "2024-08-13T16:27:09.233236Z",
     "iopub.status.idle": "2024-08-13T16:27:10.557967Z",
     "shell.execute_reply": "2024-08-13T16:27:10.557612Z",
     "shell.execute_reply.started": "2024-08-13T16:27:09.233551Z"
    }
   },
   "outputs": [],
   "source": [
    "# pull csv from aws\n",
    "bucket_name = 'ca-climate-index'\n",
    "aws_dir = '1_pull_data/climate_risk/extreme_heat/loss/usda/usda_crop_loss_heat_files/'\n",
    "folder = 'csv_folder'\n",
    "\n",
    "pull_csv_from_directory(bucket_name, aws_dir, folder, search_zipped=False)"
   ]
  },
  {
   "cell_type": "code",
   "execution_count": null,
   "id": "61846619-1e3c-4f38-8f92-bd0466a9c4e8",
   "metadata": {
    "execution": {
     "iopub.execute_input": "2024-08-13T16:27:10.558756Z",
     "iopub.status.busy": "2024-08-13T16:27:10.558627Z",
     "iopub.status.idle": "2024-08-13T16:27:10.586434Z",
     "shell.execute_reply": "2024-08-13T16:27:10.586055Z",
     "shell.execute_reply.started": "2024-08-13T16:27:10.558745Z"
    }
   },
   "outputs": [],
   "source": [
    "all_events = pd.read_csv(r'csv_folder/usda_crop_loss_merged.csv')\n",
    "all_events.head(5)"
   ]
  },
  {
   "cell_type": "code",
   "execution_count": null,
   "id": "c482a8eb-bba5-49b9-b1c0-3e59a3f4ff5d",
   "metadata": {
    "execution": {
     "iopub.execute_input": "2024-08-13T16:27:10.588059Z",
     "iopub.status.busy": "2024-08-13T16:27:10.587902Z",
     "iopub.status.idle": "2024-08-13T16:27:10.590607Z",
     "shell.execute_reply": "2024-08-13T16:27:10.590335Z",
     "shell.execute_reply.started": "2024-08-13T16:27:10.588049Z"
    }
   },
   "outputs": [],
   "source": [
    "all_events.columns"
   ]
  },
  {
   "cell_type": "code",
   "execution_count": null,
   "id": "b78925bb-a11f-48f6-b604-7db24d5dd7fa",
   "metadata": {
    "execution": {
     "iopub.execute_input": "2024-08-13T16:27:10.591277Z",
     "iopub.status.busy": "2024-08-13T16:27:10.591132Z",
     "iopub.status.idle": "2024-08-13T16:27:10.594538Z",
     "shell.execute_reply": "2024-08-13T16:27:10.594158Z",
     "shell.execute_reply.started": "2024-08-13T16:27:10.591268Z"
    }
   },
   "outputs": [],
   "source": [
    "columns = ['year', 'county_code', 'county_name',\n",
    "          'damage_description', 'determined_acres', 'indemnity_amount']\n",
    "all_events.damage_description.unique()"
   ]
  },
  {
   "cell_type": "markdown",
   "id": "d1f0362e-8eec-4e9d-af5d-9d01b9a764bc",
   "metadata": {},
   "source": [
    "#### Quick check that the drought version of this file is identical to the heat version so we do not have to pull twice"
   ]
  },
  {
   "cell_type": "code",
   "execution_count": null,
   "id": "fdf23832-7f7b-40c6-a1e9-538071af6c57",
   "metadata": {
    "execution": {
     "iopub.execute_input": "2024-08-13T16:27:10.595686Z",
     "iopub.status.busy": "2024-08-13T16:27:10.595556Z",
     "iopub.status.idle": "2024-08-13T16:27:11.886785Z",
     "shell.execute_reply": "2024-08-13T16:27:11.886381Z",
     "shell.execute_reply.started": "2024-08-13T16:27:10.595677Z"
    }
   },
   "outputs": [],
   "source": [
    "heat_v = all_events # heat version\n",
    "\n",
    "aws_dir = '1_pull_data/climate_risk/drought/loss/usda/usda_crop_loss_heat_files/'\n",
    "folder = 'csv_folder'\n",
    "pull_csv_from_directory(bucket_name, aws_dir, folder, search_zipped=False)\n",
    "drought_v = pd.read_csv(r'csv_folder/usda_crop_loss_CA_final.csv') # drought version"
   ]
  },
  {
   "cell_type": "code",
   "execution_count": 16,
   "id": "719975ea-ebf9-4e37-99eb-fae187084fcd",
   "metadata": {
    "execution": {
     "iopub.execute_input": "2024-08-13T16:27:11.887446Z",
     "iopub.status.busy": "2024-08-13T16:27:11.887330Z",
     "iopub.status.idle": "2024-08-13T16:27:11.904136Z",
     "shell.execute_reply": "2024-08-13T16:27:11.903737Z",
     "shell.execute_reply.started": "2024-08-13T16:27:11.887436Z"
    }
   },
   "outputs": [],
   "source": [
    "# isolate for relevant columns in both\n",
    "heat_v = heat_v[columns]\n",
    "drought_v = drought_v[columns]\n",
    "\n",
    "# subset for heat and drought to confirm\n",
    "event_types = ['Drought', 'Heat']\n",
    "heat_v_events = heat_v[heat_v['damage_description'].isin(event_types)]\n",
    "drought_v_events = drought_v[drought_v['damage_description'].isin(event_types)]\n",
    "\n",
    "# reset index and drop old mismatch index col\n",
    "heat_v_events = heat_v_events.sort_values(['year','determined_acres']).reset_index().drop(columns=['index'])\n",
    "drought_v_events = drought_v_events.sort_values(['year','determined_acres']).reset_index().drop(columns=['index'])\n",
    "\n",
    "# check they are identical\n",
    "heat_v_events.equals(drought_v_events)\n",
    "heat_v_events.compare(drought_v_events) # empty -- meaning they are identical\n",
    "\n",
    "## heat version is identical to the drought version, only need to pull one to calculate both\n",
    "os.remove(r'csv_folder/usda_crop_loss_CA_final.csv')"
   ]
  },
  {
   "cell_type": "markdown",
   "id": "660858c2-89fd-4169-a2a6-3cb0a659b203",
   "metadata": {},
   "source": [
    "### Heat Metrics\n",
    "* Heat/crop loss: average # of acres lost from extreme heat per year\n",
    "* Heat/crop loss: average cost of crop loss from extreme heat per year"
   ]
  },
  {
   "cell_type": "code",
   "execution_count": null,
   "id": "2530be1c-ceba-4ce4-b5d6-aacc785ad89a",
   "metadata": {
    "execution": {
     "iopub.execute_input": "2024-08-13T16:27:11.904778Z",
     "iopub.status.busy": "2024-08-13T16:27:11.904668Z",
     "iopub.status.idle": "2024-08-13T16:27:11.913020Z",
     "shell.execute_reply": "2024-08-13T16:27:11.912637Z",
     "shell.execute_reply.started": "2024-08-13T16:27:11.904769Z"
    }
   },
   "outputs": [],
   "source": [
    "# select for relevent related events\n",
    "heat_types = ['Heat']\n",
    "\n",
    "# filter for heat events based on event type\n",
    "heat_events = all_events[all_events['damage_description'].isin(heat_types)]\n",
    "heat_events = heat_events[['year', 'county_name', 'damage_description', 'determined_acres', 'indemnity_amount']]\n",
    "heat_events"
   ]
  },
  {
   "cell_type": "code",
   "execution_count": 18,
   "id": "ac2b3f20-90c1-43aa-b00c-d483c302d3c7",
   "metadata": {
    "execution": {
     "iopub.execute_input": "2024-08-13T16:27:11.913645Z",
     "iopub.status.busy": "2024-08-13T16:27:11.913541Z",
     "iopub.status.idle": "2024-08-13T16:27:11.916777Z",
     "shell.execute_reply": "2024-08-13T16:27:11.916493Z",
     "shell.execute_reply.started": "2024-08-13T16:27:11.913636Z"
    }
   },
   "outputs": [],
   "source": [
    "# remove any non CA counties -- drop \"All Other Counties\"\n",
    "heat_events.county_name.unique()\n",
    "heat_events = heat_events[heat_events.county_name != 'All Other Counties']"
   ]
  },
  {
   "cell_type": "code",
   "execution_count": null,
   "id": "f6c2224d-74f8-4ac6-af33-989e0d3630bd",
   "metadata": {
    "execution": {
     "iopub.execute_input": "2024-08-13T16:27:11.918781Z",
     "iopub.status.busy": "2024-08-13T16:27:11.918650Z",
     "iopub.status.idle": "2024-08-13T16:27:11.926112Z",
     "shell.execute_reply": "2024-08-13T16:27:11.925782Z",
     "shell.execute_reply.started": "2024-08-13T16:27:11.918770Z"
    }
   },
   "outputs": [],
   "source": [
    "# calculate metrics, reset index, drop averaged year col\n",
    "heat_agg = heat_events.groupby('county_name').mean('year').reset_index().drop(columns=['year'])\n",
    "heat_agg"
   ]
  },
  {
   "cell_type": "code",
   "execution_count": 20,
   "id": "e9de61ce-524c-41fc-803b-8881b6b38d9b",
   "metadata": {
    "execution": {
     "iopub.execute_input": "2024-08-13T16:27:11.926892Z",
     "iopub.status.busy": "2024-08-13T16:27:11.926781Z",
     "iopub.status.idle": "2024-08-13T16:27:11.929951Z",
     "shell.execute_reply": "2024-08-13T16:27:11.929611Z",
     "shell.execute_reply.started": "2024-08-13T16:27:11.926883Z"
    }
   },
   "outputs": [],
   "source": [
    "heat_agg['county'] = heat_agg['county_name'].str.lower() # rename col to match\n",
    "heat_agg = heat_agg.drop(columns=['county_name'])"
   ]
  },
  {
   "cell_type": "code",
   "execution_count": null,
   "id": "2b79dd5b-2b25-4126-b2df-cf37d3bcc93d",
   "metadata": {
    "execution": {
     "iopub.execute_input": "2024-08-13T16:27:11.930544Z",
     "iopub.status.busy": "2024-08-13T16:27:11.930446Z",
     "iopub.status.idle": "2024-08-13T16:27:11.938593Z",
     "shell.execute_reply": "2024-08-13T16:27:11.938277Z",
     "shell.execute_reply.started": "2024-08-13T16:27:11.930536Z"
    }
   },
   "outputs": [],
   "source": [
    "# add CA census tracts\n",
    "heat_agg_merge = pd.merge(ca_tract_county, heat_agg, on='county', how='left')\n",
    "heat_agg_merge"
   ]
  },
  {
   "cell_type": "code",
   "execution_count": null,
   "id": "623f2e6e-9152-47b9-8885-2909a7d54488",
   "metadata": {
    "execution": {
     "iopub.execute_input": "2024-08-13T16:27:11.939501Z",
     "iopub.status.busy": "2024-08-13T16:27:11.939275Z",
     "iopub.status.idle": "2024-08-13T16:27:11.944423Z",
     "shell.execute_reply": "2024-08-13T16:27:11.944033Z",
     "shell.execute_reply.started": "2024-08-13T16:27:11.939490Z"
    }
   },
   "outputs": [],
   "source": [
    "# double check counties with NaN\n",
    "heat_agg_merge_nans = heat_agg_merge[heat_agg_merge.determined_acres.isnull()]\n",
    "c_to_check = heat_agg_merge_nans.county.unique()\n",
    "\n",
    "for county in c_to_check:\n",
    "    print(county, county in heat_agg.county.str.upper().values)"
   ]
  },
  {
   "cell_type": "code",
   "execution_count": 31,
   "id": "0417abfd-3efd-46a4-9c50-50c3449dcf29",
   "metadata": {
    "execution": {
     "iopub.execute_input": "2024-08-13T16:27:11.945441Z",
     "iopub.status.busy": "2024-08-13T16:27:11.945137Z",
     "iopub.status.idle": "2024-08-13T16:27:11.969001Z",
     "shell.execute_reply": "2024-08-13T16:27:11.968534Z",
     "shell.execute_reply.started": "2024-08-13T16:27:11.945428Z"
    }
   },
   "outputs": [],
   "source": [
    "# split metrics into separate files and save\n",
    "heat_crop_loss_acres_metric = heat_agg_merge[['tract', 'county', 'determined_acres']]\n",
    "heat_crop_loss_acres_metric = heat_crop_loss_acres_metric.rename(columns={'determined_acres':'heat_crop_loss_acres'})\n",
    "heat_crop_loss_acres_metric.to_csv('climate_heat_crop_loss_acres_metric.csv', index=False)\n",
    "\n",
    "heat_crop_loss_cost_metric = heat_agg_merge[['tract', 'county', 'indemnity_amount']]\n",
    "heat_crop_loss_cost_metric = heat_crop_loss_cost_metric.rename(columns={'indemnity_amount':'heat_crop_loss_indemnity_amount'})\n",
    "heat_crop_loss_cost_metric.to_csv('climate_heat_crop_loss_cost_metric.csv', index=False)"
   ]
  },
  {
   "cell_type": "markdown",
   "id": "113d4d6c-ff42-44f7-b585-00ef10b9e025",
   "metadata": {},
   "source": [
    "### Drought metrics\n",
    "* Drought/crop loss: average # of acres lost from drought per year\n",
    "* Drought/crop loss: average cost of crop loss from drought per year"
   ]
  },
  {
   "cell_type": "code",
   "execution_count": null,
   "id": "a5813521-e183-499d-9065-04de5f8fea56",
   "metadata": {
    "execution": {
     "iopub.execute_input": "2024-08-13T16:27:11.969723Z",
     "iopub.status.busy": "2024-08-13T16:27:11.969597Z",
     "iopub.status.idle": "2024-08-13T16:27:11.977320Z",
     "shell.execute_reply": "2024-08-13T16:27:11.976965Z",
     "shell.execute_reply.started": "2024-08-13T16:27:11.969713Z"
    }
   },
   "outputs": [],
   "source": [
    "# select for relevent related events\n",
    "drought_types = ['Drought']\n",
    "\n",
    "# filter for heat events based on event type\n",
    "drought_events = all_events[all_events['damage_description'].isin(drought_types)]\n",
    "drought_events = drought_events[['year', 'county_name', 'damage_description', 'determined_acres', 'indemnity_amount']]\n",
    "drought_events"
   ]
  },
  {
   "cell_type": "code",
   "execution_count": 35,
   "id": "33f9b102-a545-4281-a3a4-06403ccc61cc",
   "metadata": {
    "execution": {
     "iopub.execute_input": "2024-08-13T16:27:12.018910Z",
     "iopub.status.busy": "2024-08-13T16:27:12.018681Z",
     "iopub.status.idle": "2024-08-13T16:27:12.022197Z",
     "shell.execute_reply": "2024-08-13T16:27:12.021785Z",
     "shell.execute_reply.started": "2024-08-13T16:27:12.018897Z"
    }
   },
   "outputs": [],
   "source": [
    "# remove any non CA counties -- drop \"All Other Counties\"\n",
    "drought_events.county_name.unique()\n",
    "drought_events = drought_events[drought_events.county_name != 'All Other Counties']"
   ]
  },
  {
   "cell_type": "code",
   "execution_count": null,
   "id": "3f5ee688-e72e-454a-8c85-4d69149d9bda",
   "metadata": {
    "execution": {
     "iopub.execute_input": "2024-08-13T16:27:12.338839Z",
     "iopub.status.busy": "2024-08-13T16:27:12.338020Z",
     "iopub.status.idle": "2024-08-13T16:27:12.366346Z",
     "shell.execute_reply": "2024-08-13T16:27:12.365433Z",
     "shell.execute_reply.started": "2024-08-13T16:27:12.338798Z"
    }
   },
   "outputs": [],
   "source": [
    "# calculate metrics, reset index, drop averaged year col\n",
    "drought_agg = drought_events.groupby('county_name').mean('year').reset_index().drop(columns=['year'])\n",
    "drought_agg"
   ]
  },
  {
   "cell_type": "code",
   "execution_count": 37,
   "id": "9b992209-8daf-4005-be84-eabbdb66f2bf",
   "metadata": {
    "execution": {
     "iopub.execute_input": "2024-08-13T16:27:12.609009Z",
     "iopub.status.busy": "2024-08-13T16:27:12.608225Z",
     "iopub.status.idle": "2024-08-13T16:27:12.621701Z",
     "shell.execute_reply": "2024-08-13T16:27:12.620259Z",
     "shell.execute_reply.started": "2024-08-13T16:27:12.608973Z"
    }
   },
   "outputs": [],
   "source": [
    "drought_agg['county'] = drought_agg['county_name'].str.lower() # rename col to match\n",
    "drought_agg = drought_agg.drop(columns=['county_name'])"
   ]
  },
  {
   "cell_type": "code",
   "execution_count": null,
   "id": "5e8b5764-2c83-4af0-ba0b-e0acf96bedf1",
   "metadata": {
    "execution": {
     "iopub.execute_input": "2024-08-13T16:27:12.906318Z",
     "iopub.status.busy": "2024-08-13T16:27:12.905417Z",
     "iopub.status.idle": "2024-08-13T16:27:12.933875Z",
     "shell.execute_reply": "2024-08-13T16:27:12.933302Z",
     "shell.execute_reply.started": "2024-08-13T16:27:12.906276Z"
    }
   },
   "outputs": [],
   "source": [
    "# add CA census tracts\n",
    "drought_agg_merge = pd.merge(ca_tract_county, drought_agg, on='county', how='left')\n",
    "drought_agg_merge"
   ]
  },
  {
   "cell_type": "code",
   "execution_count": null,
   "id": "817508eb-9cdb-4416-ac78-2ea2fdb33b90",
   "metadata": {
    "execution": {
     "iopub.execute_input": "2024-08-13T16:27:13.172740Z",
     "iopub.status.busy": "2024-08-13T16:27:13.171777Z",
     "iopub.status.idle": "2024-08-13T16:27:13.193570Z",
     "shell.execute_reply": "2024-08-13T16:27:13.192519Z",
     "shell.execute_reply.started": "2024-08-13T16:27:13.172682Z"
    }
   },
   "outputs": [],
   "source": [
    "# double check counties with NaN\n",
    "drought_agg_merge_nans = drought_agg_merge[drought_agg_merge.determined_acres.isnull()]\n",
    "c_to_check = drought_agg_merge_nans.county.unique()\n",
    "\n",
    "for county in c_to_check:\n",
    "    print(county, county in drought_agg.county.str.upper().values)"
   ]
  },
  {
   "cell_type": "code",
   "execution_count": 42,
   "id": "438fe273-94c1-4765-9df0-5fa27e2ebb47",
   "metadata": {
    "execution": {
     "iopub.execute_input": "2024-08-13T16:27:13.441316Z",
     "iopub.status.busy": "2024-08-13T16:27:13.440498Z",
     "iopub.status.idle": "2024-08-13T16:27:13.494807Z",
     "shell.execute_reply": "2024-08-13T16:27:13.494336Z",
     "shell.execute_reply.started": "2024-08-13T16:27:13.441275Z"
    }
   },
   "outputs": [],
   "source": [
    "# split metrics into separate files and save\n",
    "drought_crop_loss_acres_metric = drought_agg_merge[['tract', 'county', 'determined_acres']]\n",
    "drought_crop_loss_acres_metric = drought_crop_loss_acres_metric.rename(columns={'determined_acres':'drought_crop_loss_acres'})\n",
    "drought_crop_loss_acres_metric.to_csv('climate_drought_crop_loss_acres_metric.csv', index=False)\n",
    "\n",
    "drought_crop_loss_cost_metric = drought_agg_merge[['tract', 'county', 'indemnity_amount']]\n",
    "drought_crop_loss_cost_metric = drought_crop_loss_cost_metric.rename(columns={'indemnity_amount':'drought_crop_loss_indemnity_amount'})\n",
    "drought_crop_loss_cost_metric.to_csv('climate_drought_crop_loss_cost_metric.csv', index=False)"
   ]
  },
  {
   "cell_type": "markdown",
   "id": "570df66b-81e1-4df7-b213-b12667458e08",
   "metadata": {},
   "source": [
    "### Metadata"
   ]
  },
  {
   "cell_type": "code",
   "execution_count": 46,
   "id": "9cd3972f-c1ba-42b3-b7de-d60e63f30472",
   "metadata": {
    "execution": {
     "iopub.execute_input": "2024-08-13T16:27:14.479496Z",
     "iopub.status.busy": "2024-08-13T16:27:14.478581Z",
     "iopub.status.idle": "2024-08-13T16:27:14.492552Z",
     "shell.execute_reply": "2024-08-13T16:27:14.490266Z",
     "shell.execute_reply.started": "2024-08-13T16:27:14.479457Z"
    }
   },
   "outputs": [],
   "source": [
    "@append_metadata\n",
    "def crop_loss_upload(input_csv, export=False, varname=''):\n",
    "    '''\n",
    "    Uploads the crop loss metrics to S3 bucket. The metrics are:\n",
    "    * Drought/crop loss: average # of acres lost from drought per year\n",
    "    * Drought/crop loss: average cost of crop loss from drought per year\n",
    "    * Heat/crop loss: average # of acres lost from extreme heat per year\n",
    "    * Heat/crop loss: average cost of crop loss from extreme heat per year\n",
    "    \n",
    "    Data for this metric was sourced from USDA Risk Management database:\n",
    "    https://legacy.rma.usda.gov/data/cause.html\n",
    "\n",
    "    Methods\n",
    "    -------\n",
    "    Relevant columns to our data metrics were isolated.\n",
    "    Data was isolated to include relevant events.\n",
    "    Data were grouped by county and summed to calculate final metrics.\n",
    "    \n",
    "    Parameters\n",
    "    ----------\n",
    "    input_csv: string\n",
    "        csv crop loss data \n",
    "    export: True/False boolean\n",
    "        False = will not upload resulting df containing CAL CRAI crop loss metrics to AWS\n",
    "        True = will upload resulting df containing CAL CRAI crop loss metrics to AWS\n",
    "\n",
    "    Script\n",
    "    ------\n",
    "    climate_crop_loss.ipynb\n",
    "\n",
    "    Note:\n",
    "    This function assumes users have configured the AWS CLI such that their access key / secret key pair are stored in ~/.aws/credentials.\n",
    "    See https://docs.aws.amazon.com/cli/latest/userguide/getting-started-install.html for guidance.\n",
    "    '''\n",
    "    if export == False:\n",
    "        print('Data transformation: relevant columns were isolated and renamed')\n",
    "        print('Data transformation: data was grouped by county and averaged by year.')\n",
    "        print('Data transformation: data was merged with California census tracts.') \n",
    "        return None\n",
    "    \n",
    "    if export == True:\n",
    "        bucket_name = 'ca-climate-index'\n",
    "        directory = '3_fair_data/index_data'\n",
    "        export_filename = [input_csv]\n",
    "        upload_csv_aws(export_filename, bucket_name, directory)\n",
    "\n",
    "    if os.path.exists(input_csv):\n",
    "        os.remove(input_csv)"
   ]
  },
  {
   "cell_type": "code",
   "execution_count": null,
   "id": "4ec17e07-0b6f-4a9d-a789-6970524712ba",
   "metadata": {
    "execution": {
     "iopub.execute_input": "2024-08-13T16:27:15.199101Z",
     "iopub.status.busy": "2024-08-13T16:27:15.198322Z",
     "iopub.status.idle": "2024-08-13T16:27:22.139335Z",
     "shell.execute_reply": "2024-08-13T16:27:22.138419Z",
     "shell.execute_reply.started": "2024-08-13T16:27:15.199062Z"
    }
   },
   "outputs": [],
   "source": [
    "input_csvs = [\n",
    "            'climate_heat_crop_loss_acres_metric.csv', \n",
    "            'climate_drought_crop_loss_acres_metric.csv', \n",
    "            'climate_heat_crop_loss_cost_metric.csv', \n",
    "            'climate_drought_crop_loss_cost_metric.csv'\n",
    "            ]\n",
    "\n",
    "varnames = [\n",
    "            'climate_usda_drought_crop_loss',\n",
    "            'climate_usda_heat_crop_loss',\n",
    "            'climate_usda_drought_crop_cost',\n",
    "            'climate_usda_heat_crop_cost'\n",
    "            ]\n",
    "\n",
    "# Process the data and export\n",
    "for input_csv, varname in zip(input_csvs, varnames):\n",
    "    print(f'Processing {input_csv} with varname {varname}')\n",
    "    crop_loss_upload(input_csv, export=True, varname='test')\n",
    "    print(f'Completed uploading {input_csv} with varname {varname}!')"
   ]
  }
 ],
 "metadata": {
  "kernelspec": {
   "display_name": "carb",
   "language": "python",
   "name": "python3"
  },
  "language_info": {
   "codemirror_mode": {
    "name": "ipython",
    "version": 3
   },
   "file_extension": ".py",
   "mimetype": "text/x-python",
   "name": "python",
   "nbconvert_exporter": "python",
   "pygments_lexer": "ipython3",
   "version": "3.9.18"
  }
 },
 "nbformat": 4,
 "nbformat_minor": 5
}
