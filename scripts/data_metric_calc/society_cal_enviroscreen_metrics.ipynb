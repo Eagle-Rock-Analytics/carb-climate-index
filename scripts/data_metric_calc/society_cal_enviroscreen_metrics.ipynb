{
 "cells": [
  {
   "cell_type": "markdown",
   "metadata": {},
   "source": [
    "## Cal-CRAI Metric Calculation\n",
    "Domain: Society & Economy \\\n",
    "Indicator: Vulnerable populations\n",
    "\n",
    "This notebook calculates nine metrics, sourced from CalEnviroScreen:\n",
    "* Metric 1: Age-adjusted emergency department visits for asthma per 10,000 people\n",
    "* Metric 2: Age-adjusted emergency department visits for myocardial infarction per 10,000 people\n",
    "* Metric 3: Percentage of live, singleton births < 5.5 pounds (non-twin, including premature)\n",
    "* Metric 4: Percentage of population 25 and older with less than a high school education\n",
    "* Metric 5: Percentage of households where all members 14 and older have some difficult speaking English\n",
    "* Metric 6: Percentage of population living below 2x federal poverty level\n",
    "* Metric 7: Percentage of population > 16 years old unemployed and eligible for the workforce\n",
    "* Metric 8: Percentage of households which are low-income and housing-burdened\n",
    "* Metric 9: Percentile of drinking water score"
   ]
  },
  {
   "cell_type": "code",
   "execution_count": 1,
   "metadata": {
    "execution": {
     "iopub.execute_input": "2024-07-22T16:17:39.703039Z",
     "iopub.status.busy": "2024-07-22T16:17:39.701991Z",
     "iopub.status.idle": "2024-07-22T16:17:41.170103Z",
     "shell.execute_reply": "2024-07-22T16:17:41.169603Z",
     "shell.execute_reply.started": "2024-07-22T16:17:39.702990Z"
    }
   },
   "outputs": [],
   "source": [
    "import pandas as pd\n",
    "import os\n",
    "import sys\n",
    "import math\n",
    "import numpy as np\n",
    "import geopandas as gpd\n",
    "\n",
    "# suppress pandas purely educational warnings\n",
    "from warnings import simplefilter\n",
    "simplefilter(action=\"ignore\", category=pd.errors.PerformanceWarning)\n",
    "\n",
    "sys.path.append(os.path.expanduser('../../'))\n",
    "from scripts.utils.file_helpers import pull_csv_from_directory, upload_csv_aws, filter_counties\n",
    "from scripts.utils.write_metadata import append_metadata"
   ]
  },
  {
   "cell_type": "code",
   "execution_count": 4,
   "metadata": {
    "execution": {
     "iopub.execute_input": "2024-07-22T16:17:41.946348Z",
     "iopub.status.busy": "2024-07-22T16:17:41.944923Z",
     "iopub.status.idle": "2024-07-22T16:17:51.010959Z",
     "shell.execute_reply": "2024-07-22T16:17:51.010579Z",
     "shell.execute_reply.started": "2024-07-22T16:17:41.946302Z"
    }
   },
   "outputs": [],
   "source": [
    "# pull .xlsx from aws\n",
    "enviroscreen_excel = 's3://ca-climate-index/1_pull_data/society_economy/vulnerable_populations/ca_enviro_screen/calenviroscreen.xlsx'\n",
    "enviroscreen_data = pd.read_excel(enviroscreen_excel,converters={'Census Tract': '{:0>11}'.format})"
   ]
  },
  {
   "cell_type": "code",
   "execution_count": null,
   "metadata": {
    "execution": {
     "iopub.execute_input": "2024-07-22T16:17:51.012135Z",
     "iopub.status.busy": "2024-07-22T16:17:51.011887Z",
     "iopub.status.idle": "2024-07-22T16:17:51.034200Z",
     "shell.execute_reply": "2024-07-22T16:17:51.033885Z",
     "shell.execute_reply.started": "2024-07-22T16:17:51.012124Z"
    }
   },
   "outputs": [],
   "source": [
    "enviroscreen_data"
   ]
  },
  {
   "cell_type": "markdown",
   "metadata": {},
   "source": [
    "## Now we pull and inspect a separate CalEnviroScreen datafile for drinking water percentiles:\n",
    "https://oehha.ca.gov/calenviroscreen/indicator/drinking-water-contaminants\n",
    "* it has the same number of census tracts (unsurprisingly), so we isolate the relevant columns and merge it with the\n",
    "rest of the CalEnviroScreen data"
   ]
  },
  {
   "cell_type": "code",
   "execution_count": null,
   "metadata": {
    "execution": {
     "iopub.execute_input": "2024-07-22T16:18:11.458210Z",
     "iopub.status.busy": "2024-07-22T16:18:11.457410Z",
     "iopub.status.idle": "2024-07-22T16:18:14.975539Z",
     "shell.execute_reply": "2024-07-22T16:18:14.975193Z",
     "shell.execute_reply.started": "2024-07-22T16:18:11.458166Z"
    }
   },
   "outputs": [],
   "source": [
    "# pull .xlsx from aws\n",
    "enviroscreen_water_data = 's3://ca-climate-index/1_pull_data/society_economy/vulnerable_populations/ca_enviro_screen/ces4finaldrinkingwaterdatabytract.xlsx'\n",
    "enviroscreen_water_data = pd.read_excel(enviroscreen_water_data)\n",
    "print(len(enviroscreen_water_data))"
   ]
  },
  {
   "cell_type": "code",
   "execution_count": null,
   "metadata": {
    "execution": {
     "iopub.execute_input": "2024-07-22T16:18:26.320722Z",
     "iopub.status.busy": "2024-07-22T16:18:26.319972Z",
     "iopub.status.idle": "2024-07-22T16:18:26.330414Z",
     "shell.execute_reply": "2024-07-22T16:18:26.329027Z",
     "shell.execute_reply.started": "2024-07-22T16:18:26.320681Z"
    }
   },
   "outputs": [],
   "source": [
    "enviroscreen_water_data.columns"
   ]
  },
  {
   "cell_type": "code",
   "execution_count": 7,
   "metadata": {
    "execution": {
     "iopub.execute_input": "2024-07-22T16:18:28.196325Z",
     "iopub.status.busy": "2024-07-22T16:18:28.195537Z",
     "iopub.status.idle": "2024-07-22T16:18:28.222873Z",
     "shell.execute_reply": "2024-07-22T16:18:28.222057Z",
     "shell.execute_reply.started": "2024-07-22T16:18:28.196286Z"
    }
   },
   "outputs": [],
   "source": [
    "# Rename and isolate columns so we can merge\n",
    "# Adjust tract entries to match the base data to merge\n",
    "enviroscreen_water_data = enviroscreen_water_data.rename(columns={'CensusTract':'Census Tract'})\n",
    "enviroscreen_water_data['Census Tract'] = enviroscreen_water_data['Census Tract'].astype(str).str.zfill(11)\n",
    "enviroscreen_water_data = enviroscreen_water_data[['Census Tract', 'Drinking Water Score Percentile']]"
   ]
  },
  {
   "cell_type": "code",
   "execution_count": null,
   "metadata": {
    "execution": {
     "iopub.execute_input": "2024-07-22T16:18:29.075794Z",
     "iopub.status.busy": "2024-07-22T16:18:29.074886Z",
     "iopub.status.idle": "2024-07-22T16:18:29.124242Z",
     "shell.execute_reply": "2024-07-22T16:18:29.123656Z",
     "shell.execute_reply.started": "2024-07-22T16:18:29.075750Z"
    }
   },
   "outputs": [],
   "source": [
    "# Merge the water percentile data with the rest of the enviroscreen data\n",
    "merged_enviroscreen_data = pd.merge(enviroscreen_data, enviroscreen_water_data, on='Census Tract', how='left')\n",
    "merged_enviroscreen_data"
   ]
  },
  {
   "cell_type": "markdown",
   "metadata": {},
   "source": [
    "## The data is using older tract data, so we will join it with 2017 Tract data first"
   ]
  },
  {
   "cell_type": "code",
   "execution_count": 9,
   "metadata": {
    "execution": {
     "iopub.execute_input": "2024-07-22T16:18:37.627026Z",
     "iopub.status.busy": "2024-07-22T16:18:37.626232Z",
     "iopub.status.idle": "2024-07-22T16:18:53.596919Z",
     "shell.execute_reply": "2024-07-22T16:18:53.596528Z",
     "shell.execute_reply.started": "2024-07-22T16:18:37.626984Z"
    }
   },
   "outputs": [],
   "source": [
    "# read in CA census tiger file\n",
    "old_census_path = \"s3://ca-climate-index/0_map_data/tl_2017_06_tract/\"\n",
    "ca_old = gpd.read_file(old_census_path)\n",
    "ca_old = ca_old.rename(columns={\"GEOID\":\"Census Tract\"})\n",
    "ca_old = ca_old[[\"Census Tract\",\"geometry\"]]"
   ]
  },
  {
   "cell_type": "code",
   "execution_count": 10,
   "metadata": {
    "execution": {
     "iopub.execute_input": "2024-07-22T16:18:53.598379Z",
     "iopub.status.busy": "2024-07-22T16:18:53.598250Z",
     "iopub.status.idle": "2024-07-22T16:18:53.608920Z",
     "shell.execute_reply": "2024-07-22T16:18:53.608635Z",
     "shell.execute_reply.started": "2024-07-22T16:18:53.598369Z"
    }
   },
   "outputs": [],
   "source": [
    "old_tract_calenviroscreen_data = pd.merge(ca_old, merged_enviroscreen_data, on=\"Census Tract\")\n",
    "old_tract_calenviroscreen_data = gpd.GeoDataFrame(old_tract_calenviroscreen_data, geometry=\"geometry\")"
   ]
  },
  {
   "cell_type": "markdown",
   "metadata": {},
   "source": [
    "## Now call in 2021 census data"
   ]
  },
  {
   "cell_type": "code",
   "execution_count": null,
   "metadata": {
    "execution": {
     "iopub.execute_input": "2024-07-22T16:18:53.609558Z",
     "iopub.status.busy": "2024-07-22T16:18:53.609456Z",
     "iopub.status.idle": "2024-07-22T16:19:07.372868Z",
     "shell.execute_reply": "2024-07-22T16:19:07.372467Z",
     "shell.execute_reply.started": "2024-07-22T16:18:53.609549Z"
    }
   },
   "outputs": [],
   "source": [
    "# read in CA census tiger file\n",
    "census_shp_dir = \"s3://ca-climate-index/0_map_data/2021_tiger_census_tract/2021_ca_tract/\"\n",
    "\n",
    "ca_boundaries = gpd.read_file(census_shp_dir)\n",
    "# need to rename columns so we don't have any duplicates in the final geodatabase\n",
    "column_names = ca_boundaries.columns\n",
    "ca_boundaries = ca_boundaries.rename(columns={'GEOID':'Census Tract'})\n",
    "# drop unnecessary columns\n",
    "ca_boundaries = ca_boundaries[[\"geometry\",\"Census Tract\"]]\n",
    "ca_boundaries"
   ]
  },
  {
   "cell_type": "code",
   "execution_count": null,
   "metadata": {
    "execution": {
     "iopub.execute_input": "2024-07-22T16:19:07.374241Z",
     "iopub.status.busy": "2024-07-22T16:19:07.374104Z",
     "iopub.status.idle": "2024-07-22T16:19:23.357602Z",
     "shell.execute_reply": "2024-07-22T16:19:23.357249Z",
     "shell.execute_reply.started": "2024-07-22T16:19:07.374231Z"
    }
   },
   "outputs": [],
   "source": [
    "# need to convert to an area-preserving CRS for distance calculations\n",
    "old_tract_calenviroscreen_data = old_tract_calenviroscreen_data.to_crs(crs=3857) \n",
    "ca_boundaries = ca_boundaries.to_crs(crs=3857) \n",
    "print(len(ca_boundaries['Census Tract'].unique()))"
   ]
  },
  {
   "cell_type": "code",
   "execution_count": null,
   "metadata": {
    "execution": {
     "iopub.execute_input": "2024-07-22T16:41:48.245903Z",
     "iopub.status.busy": "2024-07-22T16:41:48.244633Z",
     "iopub.status.idle": "2024-07-22T16:41:48.285029Z",
     "shell.execute_reply": "2024-07-22T16:41:48.284550Z",
     "shell.execute_reply.started": "2024-07-22T16:41:48.245832Z"
    }
   },
   "outputs": [],
   "source": [
    "# first find the tracts which have not changed from 2010 to 2017\n",
    "# find the indices which correspond to the new boundaries\n",
    "unchanged_tracts_ca = pd.to_numeric(ca_boundaries['Census Tract']).isin(pd.to_numeric(old_tract_calenviroscreen_data['Census Tract']))\n",
    "ca_boundaries[unchanged_tracts_ca]"
   ]
  },
  {
   "cell_type": "code",
   "execution_count": null,
   "metadata": {
    "execution": {
     "iopub.execute_input": "2024-07-22T16:41:48.797183Z",
     "iopub.status.busy": "2024-07-22T16:41:48.796464Z",
     "iopub.status.idle": "2024-07-22T16:41:48.859322Z",
     "shell.execute_reply": "2024-07-22T16:41:48.858895Z",
     "shell.execute_reply.started": "2024-07-22T16:41:48.797146Z"
    }
   },
   "outputs": [],
   "source": [
    "# now find the indices which correspond to the original data\n",
    "unchanged_tracts_old = pd.to_numeric(old_tract_calenviroscreen_data['Census Tract']).isin(pd.to_numeric(ca_boundaries['Census Tract']))\n",
    "original_df = old_tract_calenviroscreen_data[unchanged_tracts_old]\n",
    "original_df[\"Census Tract\"] = original_df[\"Census Tract\"].apply(lambda x: '{0:>13}'.format(x))\n",
    "original_df"
   ]
  },
  {
   "cell_type": "code",
   "execution_count": null,
   "metadata": {
    "execution": {
     "iopub.execute_input": "2024-07-22T16:41:49.222774Z",
     "iopub.status.busy": "2024-07-22T16:41:49.222018Z",
     "iopub.status.idle": "2024-07-22T16:42:00.014668Z",
     "shell.execute_reply": "2024-07-22T16:42:00.014279Z",
     "shell.execute_reply.started": "2024-07-22T16:41:49.222733Z"
    }
   },
   "outputs": [],
   "source": [
    "# now we only have to join the remaining tracts\n",
    "mapped_df = gpd.sjoin_nearest(\n",
    "    ca_boundaries[~unchanged_tracts_ca], \n",
    "    old_tract_calenviroscreen_data[~unchanged_tracts_old], \n",
    "    how=\"inner\", distance_col=\"distances\", \n",
    "    max_distance=5000\n",
    ")\n",
    "mapped_df = mapped_df.rename(columns={'Census Tract_1':'Census Tract'})\n",
    "# remove unnecessary columns\n",
    "mapped_df = mapped_df.drop(\n",
    "    columns=[col for col in mapped_df.columns if col not in original_df.columns]\n",
    ")\n",
    "mapped_df"
   ]
  },
  {
   "cell_type": "code",
   "execution_count": null,
   "metadata": {
    "execution": {
     "iopub.execute_input": "2024-07-22T16:42:00.015690Z",
     "iopub.status.busy": "2024-07-22T16:42:00.015543Z",
     "iopub.status.idle": "2024-07-22T16:42:00.040029Z",
     "shell.execute_reply": "2024-07-22T16:42:00.039608Z",
     "shell.execute_reply.started": "2024-07-22T16:42:00.015679Z"
    }
   },
   "outputs": [],
   "source": [
    "# then concatenate the sjoined tracts with the unchanged ones\n",
    "joined_df = pd.concat([original_df,mapped_df])\n",
    "joined_df"
   ]
  },
  {
   "cell_type": "code",
   "execution_count": null,
   "metadata": {
    "execution": {
     "iopub.execute_input": "2024-07-22T16:42:00.040811Z",
     "iopub.status.busy": "2024-07-22T16:42:00.040691Z",
     "iopub.status.idle": "2024-07-22T16:42:00.051289Z",
     "shell.execute_reply": "2024-07-22T16:42:00.050815Z",
     "shell.execute_reply.started": "2024-07-22T16:42:00.040801Z"
    }
   },
   "outputs": [],
   "source": [
    "# select relevant columns\n",
    "metric_enviroscreen_data = merged_enviroscreen_data[['Census Tract',\n",
    "                                                'Asthma',\n",
    "                                                'Low Birth Weight', \n",
    "                                                'Cardiovascular Disease', \n",
    "                                                'Education', \n",
    "                                                'Linguistic Isolation',\n",
    "                                                'Poverty',\n",
    "                                                'Unemployment', \n",
    "                                                'Housing Burden', \n",
    "                                                'Drinking Water Score Percentile'\n",
    "                                                ]]\n",
    "calenviroscreen_2019 = joined_df[metric_enviroscreen_data.columns]\n",
    "calenviroscreen_2019"
   ]
  },
  {
   "cell_type": "code",
   "execution_count": null,
   "metadata": {
    "execution": {
     "iopub.execute_input": "2024-07-22T16:42:00.052710Z",
     "iopub.status.busy": "2024-07-22T16:42:00.052554Z",
     "iopub.status.idle": "2024-07-22T16:42:00.066557Z",
     "shell.execute_reply": "2024-07-22T16:42:00.066146Z",
     "shell.execute_reply.started": "2024-07-22T16:42:00.052700Z"
    }
   },
   "outputs": [],
   "source": [
    "# last, get things down to the level of the newer census tracts\n",
    "calenviroscreen_2019 = calenviroscreen_2019.groupby('Census Tract').mean().reset_index()\n",
    "calenviroscreen_2019"
   ]
  },
  {
   "cell_type": "markdown",
   "metadata": {},
   "source": [
    "## Adjust previously used dfs that contain county and population data and merge them back in to our data"
   ]
  },
  {
   "cell_type": "code",
   "execution_count": null,
   "metadata": {
    "execution": {
     "iopub.execute_input": "2024-07-22T16:42:00.067224Z",
     "iopub.status.busy": "2024-07-22T16:42:00.067114Z",
     "iopub.status.idle": "2024-07-22T16:42:00.073928Z",
     "shell.execute_reply": "2024-07-22T16:42:00.073599Z",
     "shell.execute_reply.started": "2024-07-22T16:42:00.067215Z"
    }
   },
   "outputs": [],
   "source": [
    "tract_county = joined_df[['Census Tract', 'California County']]\n",
    "tract_county = tract_county.rename(columns={'California County':'County'})\n",
    "tract_county"
   ]
  },
  {
   "cell_type": "code",
   "execution_count": null,
   "metadata": {
    "execution": {
     "iopub.execute_input": "2024-07-22T16:42:00.074583Z",
     "iopub.status.busy": "2024-07-22T16:42:00.074485Z",
     "iopub.status.idle": "2024-07-22T16:42:00.080364Z",
     "shell.execute_reply": "2024-07-22T16:42:00.079992Z",
     "shell.execute_reply.started": "2024-07-22T16:42:00.074574Z"
    }
   },
   "outputs": [],
   "source": [
    "population = joined_df[['Census Tract', 'Total Population']]\n",
    "population"
   ]
  },
  {
   "cell_type": "code",
   "execution_count": 21,
   "metadata": {
    "execution": {
     "iopub.execute_input": "2024-07-22T16:42:00.081140Z",
     "iopub.status.busy": "2024-07-22T16:42:00.080998Z",
     "iopub.status.idle": "2024-07-22T16:42:00.089411Z",
     "shell.execute_reply": "2024-07-22T16:42:00.089104Z",
     "shell.execute_reply.started": "2024-07-22T16:42:00.081130Z"
    }
   },
   "outputs": [],
   "source": [
    "# Merging data to get population and county data\n",
    "calenviroscreen_2019_final = pd.merge(tract_county, calenviroscreen_2019, on='Census Tract', how='right')\n",
    "calenviroscreen_2019_final = pd.merge(calenviroscreen_2019_final, population, on='Census Tract', how='left')\n",
    "calenviroscreen_2019_final = calenviroscreen_2019_final.rename(columns={'Total Population': 'Total Population 2019'})"
   ]
  },
  {
   "cell_type": "code",
   "execution_count": null,
   "metadata": {
    "execution": {
     "iopub.execute_input": "2024-07-22T16:42:00.090132Z",
     "iopub.status.busy": "2024-07-22T16:42:00.089998Z",
     "iopub.status.idle": "2024-07-22T16:42:00.099144Z",
     "shell.execute_reply": "2024-07-22T16:42:00.098799Z",
     "shell.execute_reply.started": "2024-07-22T16:42:00.090123Z"
    }
   },
   "outputs": [],
   "source": [
    "calenviroscreen_2019_final"
   ]
  },
  {
   "cell_type": "code",
   "execution_count": 23,
   "metadata": {
    "execution": {
     "iopub.execute_input": "2024-07-22T16:42:00.100059Z",
     "iopub.status.busy": "2024-07-22T16:42:00.099845Z",
     "iopub.status.idle": "2024-07-22T16:42:00.141388Z",
     "shell.execute_reply": "2024-07-22T16:42:00.141023Z",
     "shell.execute_reply.started": "2024-07-22T16:42:00.100049Z"
    }
   },
   "outputs": [],
   "source": [
    "calenviroscreen_2019_final.to_csv('society_calenviroscreen_metric.csv')"
   ]
  },
  {
   "cell_type": "markdown",
   "metadata": {},
   "source": [
    "### Function Call\n",
    "The function below creates new df's for each metric listed below. Some metrics are already in percent from the 2019 data, so those columns are renamed and retained for Cal-CRAI metric. df's are saved as csv's named off of their metric column:\n",
    "\n",
    "ones that are already in percent from 2019 data\n",
    "* % of live, singleton births < 5.5 pounds (non-twin, including premature)\n",
    "* % of population 25 and older with less than a high school education\n",
    "* % of households where all members 14 and older have some difficult speaking English\n",
    "* % of population living below 2x federal poverty level\n",
    "* % of population > 16 years old unemployed and eligible for the workforce\n",
    "* % of households which are low-income and housing-burdened\n",
    "\n",
    "metric calculated as a percentile:\n",
    "* Drinking Water Score Percentile \n",
    "\n",
    "The function can also calculate metric per 10,000 people for metrics that have a 'sum of' column rather than pre-baked in percentages:\n",
    "\n",
    "metrics that have been calculated per 10,000 people:\n",
    "* Age-adjusted emergency department visits for asthma per 10,000 people\n",
    "* Age-adjusted emergency department visits for myocardial infarction per 10,000 people"
   ]
  },
  {
   "cell_type": "markdown",
   "metadata": {},
   "source": [
    "Asthma and cardiovascular percentage can be calculated with 2019 and 2021 as the CalEnviroscreen values are 'Age-adjusted rate of emergency department visits for asthma/cardiovascular disease'"
   ]
  },
  {
   "cell_type": "markdown",
   "metadata": {},
   "source": [
    "# Calling function for both metric calc types"
   ]
  },
  {
   "cell_type": "code",
   "execution_count": 24,
   "metadata": {
    "execution": {
     "iopub.execute_input": "2024-07-22T16:42:00.143430Z",
     "iopub.status.busy": "2024-07-22T16:42:00.143162Z",
     "iopub.status.idle": "2024-07-22T16:42:00.150076Z",
     "shell.execute_reply": "2024-07-22T16:42:00.149790Z",
     "shell.execute_reply.started": "2024-07-22T16:42:00.143411Z"
    }
   },
   "outputs": [],
   "source": [
    "@append_metadata\n",
    "def calenviroscreen_metric_calc(input_csv, columns_to_process, calculate_per_10000=False, export=False, varname=\"\"):\n",
    "    '''\n",
    "    Calculates the following metrics sourced from CalEnviroScreen:\n",
    "    * % of live, singleton births < 5.5 pounds (non-twin, including premature)\n",
    "    * % of population 25 and older with less than a high school education\n",
    "    * % of households where all members 14 and older have some difficult speaking English\n",
    "    * % of population living below 2x federal poverty level\n",
    "    * % of population > 16 years old unemployed and eligible for the workforce\n",
    "    * % of households which are low-income and housing-burdened\n",
    "    * Age-adjusted emergency department visits for asthma per 10,000 people\n",
    "    * Age-adjusted emergency department visits for myocardial infarction per 10,000 people\n",
    "    * Drinking Water Score Percentile\n",
    "\n",
    "    Note\n",
    "    --------\n",
    "    Each of the above metrics is calculated separately; please see the corresponding \n",
    "    variable name (the same as the filename for this document) to know which one this \n",
    "    particular metadata document describes. \n",
    "  \n",
    "    Methods\n",
    "    --------\n",
    "    Relevant data columns were isolated and renamed to align with Cal-CRAI metrics.\n",
    "    Data was from older census tracts, so we merged it with 2017 California Tiger shape files first.\n",
    "    The data was then set to Cal-CRAI standardized coordinate reference system.\n",
    "    Data was then spatially joined to nearest 2021 census tract data.\n",
    "    Extra tracts merged in were given the average value for each metric based on \n",
    "    the county they reside in.\n",
    "    This averaging was also done for missing data in otherwise populated tracts.\n",
    "    Metrics with % calculations were largely untouched as CalEnviroScreen data had\n",
    "    those metrics calculated for 2019.\n",
    "    Metrics with emergency department visits had their values adjusted to reflect\n",
    "    number of visits per 10,000 people per tract with the 2019 population data.\n",
    "\n",
    "    Parameters\n",
    "    ------------\n",
    "    columns_to_process: list\n",
    "        list of columns that contain desired metric data\n",
    "    calculate_per_10000: boolean\n",
    "        if true, adds columns with calculations for # of visits per 10,000 people\n",
    "        if false, retains the column but renames to 2019\n",
    "    varname: string\n",
    "        Final metric name.\n",
    "    export: bool\n",
    "        If True, uploads file to S3.\n",
    "        If False, just generates metadata file.\n",
    "\n",
    "    Script\n",
    "    ------\n",
    "    cal_enviroscreen_metrics.ipynb\n",
    "\n",
    "    Note\n",
    "    ------\n",
    "    This function assumes users have configured the AWS CLI such that their access key / \n",
    "    secret key pair are stored in ~/.aws/credentials. \n",
    "    See https://docs.aws.amazon.com/cli/latest/userguide/getting-started-install.html for guidance.\n",
    "    '''\n",
    "    merged_df = pd.read_csv(input_csv)\n",
    "        \n",
    "    # List to store generated CSV file names\n",
    "    csv_file_names = []\n",
    "        \n",
    "    for column in columns_to_process:\n",
    "        # Create new DataFrame\n",
    "        new_df = merged_df[['Census Tract', 'County', 'Total Population 2019']].copy()\n",
    "        new_df = new_df.rename(columns={'Census Tract': 'census_tract'})  \n",
    "        # Create new column name\n",
    "        if column == 'Drinking Water Score Percentile':\n",
    "            new_column_name = column.replace(' ', '_')\n",
    "        else:\n",
    "            new_column_name = column.replace(' ', '_')\n",
    "            if calculate_per_10000:\n",
    "                new_column_name += '_related_ED_visits_2019'\n",
    "                new_column_name_per_10000_people_2019 = new_column_name.replace('_2019', '_per_10000_people_2019')\n",
    "            else:\n",
    "                new_column_name += '_percent_2019'\n",
    "\n",
    "        # Lowercase the column name\n",
    "        new_column_name = new_column_name.lower()\n",
    "    \n",
    "        # Add new column with the calculated name\n",
    "        if not calculate_per_10000:\n",
    "            new_df[new_column_name] = merged_df[column]\n",
    "\n",
    "        else:\n",
    "            new_df[column] = merged_df[column]\n",
    "            new_df[new_column_name_per_10000_people_2019] = (merged_df[column] / merged_df['Total Population 2019']) * 10000\n",
    "            print('Data transformation: adding calculation columns for metrics with emergency department visits.')\n",
    "        \n",
    "        if not calculate_per_10000:\n",
    "            # Define CSV file name based on the new column name\n",
    "            csv_filename = 'society_vulnerable_' + column.replace(' ', '_').replace('.','').lower() + '_metric.csv'\n",
    "        else:\n",
    "            # Define CSV file name based on the new column name\n",
    "            csv_filename = 'society_vulnerable_' + column.replace(' ', '_').replace('.','').lower() + '_metric.csv'\n",
    "\n",
    "        # Save the DataFrame to CSV\n",
    "        new_df.columns = new_df.columns.str.lower()\n",
    "        new_df.to_csv(csv_filename, index=False)\n",
    "        \n",
    "        print(f\"Saved DataFrame to: {csv_filename}\")\n",
    "        # Append CSV filename to the list\n",
    "        csv_file_names.append(csv_filename)\n",
    "        # Output or further process new DataFrame\n",
    "        display(new_df)\n",
    "        \n",
    "    if export == True:\n",
    "        bucket_name = 'ca-climate-index'\n",
    "        directory = '3_fair_data/index_data'\n",
    "        upload_csv_aws([csv_filename], bucket_name, directory)\n",
    "\n",
    "    if export == False:\n",
    "        print(f'{csv_filename} uploaded to AWS.')"
   ]
  },
  {
   "cell_type": "code",
   "execution_count": null,
   "metadata": {
    "execution": {
     "iopub.execute_input": "2024-07-22T16:42:18.436542Z",
     "iopub.status.busy": "2024-07-22T16:42:18.435745Z",
     "iopub.status.idle": "2024-07-22T16:42:18.646026Z",
     "shell.execute_reply": "2024-07-22T16:42:18.645649Z",
     "shell.execute_reply.started": "2024-07-22T16:42:18.436494Z"
    }
   },
   "outputs": [],
   "source": [
    "input_csv = 'society_calenviroscreen_metric.csv'\n",
    "\n",
    "# Lists of columns and varnames\n",
    "columns_to_process_no_10000 = [\n",
    "    'Low Birth Weight',\n",
    "    'Education',\n",
    "    'Linguistic Isolation',\n",
    "    'Poverty',\n",
    "    'Unemployment',\n",
    "    'Housing Burden',\n",
    "    'Drinking Water Score Percentile'\n",
    "]\n",
    "varnames_no_10000 = [\n",
    "    'society_calenviroscreen_birth_weight', \n",
    "    'society_calenviroscreen_education_below_HS', \n",
    "    'society_calenviroscreen_nonenglish_speakers',\n",
    "    'society_calenviroscreen_below_poverty_level',\n",
    "    'society_calenviroscreen_unemployment',\n",
    "    'society_calenviroscreen_housing_burdened',\n",
    "    'society_calenviroscreen_impaired_waterbodies'\n",
    "]"
   ]
  },
  {
   "cell_type": "code",
   "execution_count": null,
   "metadata": {},
   "outputs": [],
   "source": [
    "# Calculate metric without percentages\n",
    "for col, var in zip(columns_to_process_no_10000, varnames_no_10000):\n",
    "    print(f\"Processing {col} without percentage calculation\")\n",
    "    calenviroscreen_metric_calc(input_csv, [col], calculate_per_10000=False, export=False, varname=var)\n",
    "\n",
    "varnames_10000 = [\n",
    "    'society_calenviroscreen_emergency_dept_asthma_visits',\n",
    "    'society_calenviroscreen_emergency_dept_myocardial_visits'\n",
    "]\n",
    "\n",
    "# Columns to loop through that include calculating percentages\n",
    "columns_to_process_per_10000 = [\n",
    "    'Asthma',\n",
    "    'Cardiovascular Disease'\n",
    "]\n",
    "\n",
    "# Calculate percentages\n",
    "for col, var in zip(columns_to_process_per_10000, varnames_10000):\n",
    "    print(f\"Processing {col} with percentage calculation\")\n",
    "    calenviroscreen_metric_calc(input_csv, [col], calculate_per_10000=True, export=False, varname=var)"
   ]
  }
 ],
 "metadata": {
  "kernelspec": {
   "display_name": "Python 3 (ipykernel)",
   "language": "python",
   "name": "python3"
  },
  "language_info": {
   "codemirror_mode": {
    "name": "ipython",
    "version": 3
   },
   "file_extension": ".py",
   "mimetype": "text/x-python",
   "name": "python",
   "nbconvert_exporter": "python",
   "pygments_lexer": "ipython3",
   "version": "3.9.18"
  }
 },
 "nbformat": 4,
 "nbformat_minor": 4
}
