{
 "cells": [
  {
   "cell_type": "markdown",
   "metadata": {},
   "source": [
    "## This notebook creates the following metrics within the Society & Economy domain sourced from CalEnviroScreen:\n",
    "* Age-adjusted emergency department visits for asthma per 10,000 people\n",
    "* Age-adjusted emergency department visits for myocardial infarction per 10,000 people\n",
    "* % of live, singleton births < 5.5 pounds (non-twin, including premature)\n",
    "* % of population 25 and older with less than a high school education\n",
    "* % of households where all members 14 and older have some difficult speaking English\n",
    "* % of population living below 2x federal poverty level\n",
    "* % of population > 16 years old unemployed and eligible for the workforce\n",
    "* % of households which are low-income and housing-burdened\n",
    "* number of impaired waterbodies "
   ]
  },
  {
   "cell_type": "code",
   "execution_count": null,
   "metadata": {},
   "outputs": [],
   "source": [
    "import pandas as pd\n",
    "import os\n",
    "import sys\n",
    "import math\n",
    "import numpy as np\n",
    "import geopandas as gpd\n",
    "\n",
    "# suppress pandas purely educational warnings\n",
    "from warnings import simplefilter\n",
    "simplefilter(action=\"ignore\", category=pd.errors.PerformanceWarning)\n",
    "\n",
    "sys.path.append(os.path.expanduser('../../'))\n",
    "from scripts.utils.file_helpers import pull_csv_from_directory, upload_csv_aws, filter_counties\n",
    "from scripts.utils.write_metadata import append_metadata"
   ]
  },
  {
   "cell_type": "code",
   "execution_count": null,
   "metadata": {},
   "outputs": [],
   "source": [
    "# pull .xlsx from aws\n",
    "enviroscreen_excel = 's3://ca-climate-index/1_pull_data/society_economy/vulnerable_populations/ca_enviro_screen/calenviroscreen.xlsx'\n",
    "enviroscreen_data = pd.read_excel(enviroscreen_excel,converters={'Census Tract': '{:0>11}'.format})"
   ]
  },
  {
   "cell_type": "code",
   "execution_count": null,
   "metadata": {},
   "outputs": [],
   "source": [
    "enviroscreen_data"
   ]
  },
  {
   "cell_type": "markdown",
   "metadata": {},
   "source": [
    "## The data is using older tract data, so we will join it with 2017 Tract data first"
   ]
  },
  {
   "cell_type": "code",
   "execution_count": null,
   "metadata": {},
   "outputs": [],
   "source": [
    "# read in CA census tiger file\n",
    "old_census_path = \"s3://ca-climate-index/0_map_data/tl_2017_06_tract/\"\n",
    "ca_old = gpd.read_file(old_census_path)\n",
    "ca_old = ca_old.rename(columns={\"GEOID\":\"Census Tract\"})\n",
    "ca_old = ca_old[[\"Census Tract\",\"geometry\"]]"
   ]
  },
  {
   "cell_type": "code",
   "execution_count": null,
   "metadata": {},
   "outputs": [],
   "source": [
    "old_tract_calenviroscreen_data = pd.merge(ca_old, enviroscreen_data, on=\"Census Tract\")\n",
    "old_tract_calenviroscreen_data = gpd.GeoDataFrame(old_tract_calenviroscreen_data, geometry=\"geometry\")"
   ]
  },
  {
   "cell_type": "markdown",
   "metadata": {},
   "source": [
    "## Now call in 2021 census data"
   ]
  },
  {
   "cell_type": "code",
   "execution_count": null,
   "metadata": {},
   "outputs": [],
   "source": [
    "# read in CA census tiger file\n",
    "census_shp_dir = \"s3://ca-climate-index/0_map_data/2021_tiger_census_tract/2021_ca_tract/\"\n",
    "\n",
    "ca_boundaries = gpd.read_file(census_shp_dir)\n",
    "# need to rename columns so we don't have any duplicates in the final geodatabase\n",
    "column_names = ca_boundaries.columns\n",
    "ca_boundaries = ca_boundaries.rename(columns={'GEOID':'Census Tract'})\n",
    "# drop unnecessary columns\n",
    "ca_boundaries = ca_boundaries[[\"geometry\",\"Census Tract\"]]\n",
    "ca_boundaries"
   ]
  },
  {
   "cell_type": "code",
   "execution_count": null,
   "metadata": {},
   "outputs": [],
   "source": [
    "# need to convert to an area-preserving CRS for distance calculations\n",
    "old_tract_calenviroscreen_data = old_tract_calenviroscreen_data.to_crs(crs=3857) \n",
    "ca_boundaries = ca_boundaries.to_crs(crs=3857) \n",
    "print(len(ca_boundaries['Census Tract'].unique()))"
   ]
  },
  {
   "cell_type": "code",
   "execution_count": null,
   "metadata": {},
   "outputs": [],
   "source": [
    "# first find the tracts which have not changed from 2010 to 2017\n",
    "# find the indices which correspond to the new boundaries\n",
    "unchanged_tracts_ca = pd.to_numeric(ca_boundaries['Census Tract']).isin(pd.to_numeric(old_tract_calenviroscreen_data['Census Tract']))\n",
    "ca_boundaries[unchanged_tracts_ca]"
   ]
  },
  {
   "cell_type": "code",
   "execution_count": null,
   "metadata": {},
   "outputs": [],
   "source": [
    "# now find the indices which correspond to the original data\n",
    "unchanged_tracts_old = pd.to_numeric(old_tract_calenviroscreen_data['Census Tract']).isin(pd.to_numeric(ca_boundaries['Census Tract']))\n",
    "original_df = old_tract_calenviroscreen_data[unchanged_tracts_old]\n",
    "original_df[\"Census Tract\"] = original_df[\"Census Tract\"].apply(lambda x: '{0:>13}'.format(x))\n",
    "original_df"
   ]
  },
  {
   "cell_type": "code",
   "execution_count": null,
   "metadata": {},
   "outputs": [],
   "source": [
    "# now we only have to join the remaining tracts\n",
    "mapped_df = gpd.sjoin_nearest(\n",
    "    ca_boundaries[~unchanged_tracts_ca], \n",
    "    old_tract_calenviroscreen_data[~unchanged_tracts_old], \n",
    "    how=\"inner\", distance_col=\"distances\", \n",
    "    max_distance=5000\n",
    ")\n",
    "mapped_df = mapped_df.rename(columns={'Census Tract_1':'Census Tract'})\n",
    "# remove unnecessary columns\n",
    "mapped_df = mapped_df.drop(\n",
    "    columns=[col for col in mapped_df.columns if col not in original_df.columns]\n",
    ")\n",
    "mapped_df"
   ]
  },
  {
   "cell_type": "code",
   "execution_count": null,
   "metadata": {},
   "outputs": [],
   "source": [
    "# then concatenate the sjoined tracts with the unchanged ones\n",
    "joined_df = pd.concat([original_df,mapped_df])\n",
    "joined_df"
   ]
  },
  {
   "cell_type": "code",
   "execution_count": null,
   "metadata": {},
   "outputs": [],
   "source": [
    "# select relevant columns\n",
    "metric_enviroscreen_data = enviroscreen_data[['Census Tract', \n",
    "                                                'Asthma',\n",
    "                                                'Low Birth Weight', \n",
    "                                                'Cardiovascular Disease', \n",
    "                                                'Education', \n",
    "                                                'Linguistic Isolation',\n",
    "                                                'Poverty',\n",
    "                                                'Unemployment', \n",
    "                                                'Housing Burden', \n",
    "                                                'Imp. Water Bodies'\n",
    "                                                ]]\n",
    "calenviroscreen_2019 = joined_df[metric_enviroscreen_data.columns]\n",
    "calenviroscreen_2019"
   ]
  },
  {
   "cell_type": "code",
   "execution_count": null,
   "metadata": {},
   "outputs": [],
   "source": [
    "# last, get things down to the level of the newer census tracts\n",
    "calenviroscreen_2019 = calenviroscreen_2019.groupby('Census Tract').mean().reset_index()\n",
    "calenviroscreen_2019"
   ]
  },
  {
   "cell_type": "code",
   "execution_count": null,
   "metadata": {},
   "outputs": [],
   "source": [
    "# ONLY NEED THE NEXT THREE CELLS TO DEMONSTRATE THE RESULTS OF THE INFILLING - DELETE BEFORE MERGE\n",
    "ca_boundaries['GEOID'] = pd.to_numeric(ca_boundaries['Census Tract'])\n",
    "calenviroscreen_2019['GEOID'] = pd.to_numeric(calenviroscreen_2019['Census Tract'])\n",
    "gdf = pd.merge(calenviroscreen_2019,ca_boundaries,on='GEOID',how='left')\n",
    "gdf = gpd.GeoDataFrame(gdf,geometry='geometry')\n",
    "gdf"
   ]
  },
  {
   "cell_type": "code",
   "execution_count": null,
   "metadata": {},
   "outputs": [],
   "source": [
    "old_tract_calenviroscreen_data.explore(column='Asthma')"
   ]
  },
  {
   "cell_type": "code",
   "execution_count": null,
   "metadata": {},
   "outputs": [],
   "source": [
    "gdf.explore(column='Asthma')"
   ]
  },
  {
   "cell_type": "markdown",
   "metadata": {},
   "source": [
    "### Function Call\n",
    "The function below creates new df's for each metric listed below. Some metrics are already in percent from the 2019 data, so those columns are renamed and retained for Cal-CRAI metric. df's are saved as csv's named off of their metric column:\n",
    "\n",
    "ones that are already in percent from 2019 data\n",
    "* % of live, singleton births < 5.5 pounds (non-twin, including premature)\n",
    "* % of population 25 and older with less than a high school education\n",
    "* % of households where all members 14 and older have some difficult speaking English\n",
    "* % of population living below 2x federal poverty level\n",
    "* % of population > 16 years old unemployed and eligible for the workforce\n",
    "* % of households which are low-income and housing-burdened\n",
    "\n",
    "ones that have a sum we do not want as a percentage\n",
    "* number of impaired waterbodies\n",
    "\n",
    "The function can also calculate metric per 10,000 people for metrics that have a 'sum of' column rather than pre-baked in percentages:\n",
    "\n",
    "metrics that have been calculated per 10,000 people:\n",
    "* Age-adjusted emergency department visits for asthma per 10,000 people\n",
    "* Age-adjusted emergency department visits for myocardial infarction per 10,000 people"
   ]
  },
  {
   "cell_type": "markdown",
   "metadata": {},
   "source": [
    "Asthma and cardiovascular percentage can be calculated with 2019 and 2021 as the CalEnviroscreen values are 'Age-adjusted rate of emergency department visits for asthma/cardiovascular disease'"
   ]
  },
  {
   "cell_type": "markdown",
   "metadata": {},
   "source": [
    "# Calling function for both metric calc types"
   ]
  },
  {
   "cell_type": "code",
   "execution_count": null,
   "metadata": {},
   "outputs": [],
   "source": [
    "#@append_metadata\n",
    "def calenviroscreen_metric_calc(input_csv, columns_to_process, calculate_per_10000=False, export=False, varname=\"\"):\n",
    "    '''\n",
    "    Calculates the following metrics sourced from CalEnviroScreen:\n",
    "    * % of live, singleton births < 5.5 pounds (non-twin, including premature)\n",
    "    * % of population 25 and older with less than a high school education\n",
    "    * % of households where all members 14 and older have some difficult speaking English\n",
    "    * % of population living below 2x federal poverty level\n",
    "    * % of population > 16 years old unemployed and eligible for the workforce\n",
    "    * % of households which are low-income and housing-burdened\n",
    "    * Age-adjusted emergency department visits for asthma per 10,000 people\n",
    "    * Age-adjusted emergency department visits for myocardial infarction per 10,000 people\n",
    "    * Number of impaired waterbodies\n",
    "\n",
    "    Note\n",
    "    --------\n",
    "    Each of the above metrics is calculated separately; please see the corresponding \n",
    "    variable name (the same as the filename for this document) to know which one this \n",
    "    particular metadata document describes. \n",
    "  \n",
    "    Methods\n",
    "    --------\n",
    "    Relevant data columns were isolated and renamed to align with Cal-CRAI metrics.\n",
    "    Data was from older census tracts, so we merged it with 2017 California Tiger shape files first.\n",
    "    The data was then set to Cal-CRAI standardized coordinate reference system.\n",
    "    Data was then spatially joined to nearest 2021 census tract data.\n",
    "    Extra tracts merged in were given the average value for each metric based on \n",
    "    the county they reside in.\n",
    "    This averaging was also done for missing data in otherwise populated tracts.\n",
    "    Metrics with % calculations were largely untouched as CalEnviroScreen data had\n",
    "    those metrics calculated for 2019.\n",
    "    Metrics with emergency department visits had their values adjusted to reflect\n",
    "    number of visits per 10,000 people per tract with the 2019 population data.\n",
    "\n",
    "    Parameters\n",
    "    ------------\n",
    "    columns_to_process: list\n",
    "        list of columns that contain desired metric data\n",
    "    calculate_per_10000: boolean\n",
    "        if true, adds columns with calculations for # of visits per 10,000 people\n",
    "        if false, retains the column but renames to 2019\n",
    "    varname: string\n",
    "        Final metric name.\n",
    "    export: bool\n",
    "        If True, uploads file to S3.\n",
    "        If False, just generates metadata file.\n",
    "\n",
    "    Script\n",
    "    ------\n",
    "    cal_enviroscreen_metrics.ipynb\n",
    "\n",
    "    Note\n",
    "    ------\n",
    "    This function assumes users have configured the AWS CLI such that their access key / \n",
    "    secret key pair are stored in ~/.aws/credentials. \n",
    "    See https://docs.aws.amazon.com/cli/latest/userguide/getting-started-install.html for guidance.\n",
    "    '''\n",
    "    merged_df = pd.read_csv(input_csv)\n",
    "        \n",
    "    # List to store generated CSV file names\n",
    "    csv_file_names = []\n",
    "        \n",
    "    for column in columns_to_process:\n",
    "        # Create new DataFrame\n",
    "        new_df = merged_df[['Census Tract', 'County', 'Total Population 2019']].copy()\n",
    "        new_df = new_df.rename(columns={'Census Tract': 'census_tract'})  \n",
    "        # Create new column name\n",
    "        if column == 'Imp. Water Bodies':\n",
    "            new_column_name = 'sum_' + column.replace(' ', '_').replace('.', '')\n",
    "        else:\n",
    "            new_column_name = column.replace(' ', '_')\n",
    "            if calculate_per_10000:\n",
    "                new_column_name += '_related_ED_visits_2019'\n",
    "                new_column_name_per_10000_people_2019 = new_column_name.replace('_2019', '_per_10000_people_2019')\n",
    "            else:\n",
    "                new_column_name += '_percent_2019'\n",
    "\n",
    "        # Lowercase the column name\n",
    "        new_column_name = new_column_name.lower()\n",
    "    \n",
    "        # Add new column with the calculated name\n",
    "        if not calculate_per_10000:\n",
    "            new_df[new_column_name] = merged_df[column]\n",
    "\n",
    "            print('Data transformation: adding calculation columns for metrics with emergency department visits.')\n",
    "\n",
    "        else:\n",
    "            new_df[column] = merged_df[column]\n",
    "            new_df[new_column_name_per_10000_people_2019] = (merged_df[column] / merged_df['Total Population 2019']) * 10000\n",
    "            print('Data transformation: adding calculation columns for metrics with emergency department visits.')\n",
    "        \n",
    "        if not calculate_per_10000:\n",
    "            # Define CSV file name based on the new column name\n",
    "            csv_filename = 'society_vulnerable_' + column.replace(' ', '_').replace('.','').lower() + '_metric.csv'\n",
    "        else:\n",
    "            # Define CSV file name based on the new column name\n",
    "            csv_filename = 'society_vulnerable_' + column.replace(' ', '_').replace('.','').lower() + '_metric.csv'\n",
    "\n",
    "        # Save the DataFrame to CSV\n",
    "        new_df.columns = new_df.columns.str.lower()\n",
    "        new_df.to_csv(csv_filename, index=False)\n",
    "        \n",
    "        print(f\"Saved DataFrame to: {csv_filename}\")\n",
    "        # Append CSV filename to the list\n",
    "        csv_file_names.append(csv_filename)\n",
    "        # Output or further process new DataFrame\n",
    "        display(new_df)\n",
    "        \n",
    "    if export == True:\n",
    "        bucket_name = 'ca-climate-index'\n",
    "        directory = '3_fair_data/index_data'\n",
    "        upload_csv_aws([csv_filename], bucket_name, directory)\n",
    "\n",
    "    if export == False:\n",
    "        print(f'{csv_filename} uploaded to AWS.')"
   ]
  },
  {
   "cell_type": "code",
   "execution_count": null,
   "metadata": {},
   "outputs": [],
   "source": [
    "input_csv = 'society_calenviroscreen_metric.csv'\n",
    "\n",
    "# Lists of columns and varnames\n",
    "columns_to_process_no_10000 = [\n",
    "    'Low Birth Weight',\n",
    "    'Education',\n",
    "    'Linguistic Isolation',\n",
    "    'Poverty',\n",
    "    'Unemployment',\n",
    "    'Housing Burden',\n",
    "    'Imp. Water Bodies'\n",
    "]\n",
    "varnames_no_10000 = [\n",
    "    'society_calenviroscreen_birth_weight', \n",
    "    'society_calenviroscreen_low_education', \n",
    "    'society_calenviroscreen_nonenglish_speakers',\n",
    "    'society_calenviroscreen_below_poverty_level',\n",
    "    'society_calenviroscreen_unemployment',\n",
    "    'society_calenviroscreen_housing_burdened',\n",
    "    'society_calenviroscreen_impaired_waterbodies'\n",
    "]\n",
    "\n",
    "# Calculate metric without percentages\n",
    "for col, var in zip(columns_to_process_no_10000, varnames_no_10000):\n",
    "    print(f\"Processing {col} without percentage calculation\")\n",
    "    calenviroscreen_metric_calc(input_csv, [col], calculate_per_10000=False, export=False, varname=var)\n",
    "\n",
    "varnames_10000 = [\n",
    "    'society_calenviroscreen_emergency_dept_visits',\n",
    "    'society_calenviroscreen_emergency_dept_myocardial_visits'\n",
    "]\n",
    "\n",
    "# Columns to loop through that include calculating percentages\n",
    "columns_to_process_per_10000 = [\n",
    "    'Asthma',\n",
    "    'Cardiovascular Disease'\n",
    "]\n",
    "\n",
    "# Calculate percentages\n",
    "for col, var in zip(columns_to_process_per_10000, varnames_10000):\n",
    "    print(f\"Processing {col} with percentage calculation\")\n",
    "    calenviroscreen_metric_calc(input_csv, [col], calculate_per_10000=True, export=False, varname='test')"
   ]
  },
  {
   "cell_type": "code",
   "execution_count": null,
   "metadata": {},
   "outputs": [],
   "source": []
  }
 ],
 "metadata": {
  "kernelspec": {
   "display_name": "Python 3 (ipykernel)",
   "language": "python",
   "name": "python3"
  },
  "language_info": {
   "codemirror_mode": {
    "name": "ipython",
    "version": 3
   },
   "file_extension": ".py",
   "mimetype": "text/x-python",
   "name": "python",
   "nbconvert_exporter": "python",
   "pygments_lexer": "ipython3",
   "version": "3.9.18"
  }
 },
 "nbformat": 4,
 "nbformat_minor": 4
}
