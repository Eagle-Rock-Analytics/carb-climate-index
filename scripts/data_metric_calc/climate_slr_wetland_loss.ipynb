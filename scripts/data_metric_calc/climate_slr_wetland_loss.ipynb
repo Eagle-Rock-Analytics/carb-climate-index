{
 "cells": [
  {
   "cell_type": "markdown",
   "metadata": {},
   "source": [
    "## Cal-CRAI metric calculation: Climate Risk Wetland Loss\n",
    "* projected percent change in wetland habitat under 4.5 RCP at median model sea level rise per county"
   ]
  },
  {
   "cell_type": "code",
   "execution_count": 1,
   "metadata": {
    "execution": {
     "iopub.execute_input": "2024-08-15T15:25:38.228939Z",
     "iopub.status.busy": "2024-08-15T15:25:38.228498Z",
     "iopub.status.idle": "2024-08-15T15:25:39.290161Z",
     "shell.execute_reply": "2024-08-15T15:25:39.289685Z",
     "shell.execute_reply.started": "2024-08-15T15:25:38.228912Z"
    }
   },
   "outputs": [],
   "source": [
    "import os\n",
    "import sys\n",
    "import pandas as pd\n",
    "import io\n",
    "import numpy as np\n",
    "import geopandas as gpd\n",
    "\n",
    "sys.path.append(os.path.expanduser('../../'))\n",
    "from scripts.utils.write_metadata import (\n",
    "    append_metadata\n",
    ")\n",
    "from scripts.utils.file_helpers import (\n",
    "    pull_csv_from_directory, upload_csv_aws\n",
    ") "
   ]
  },
  {
   "cell_type": "code",
   "execution_count": null,
   "metadata": {
    "execution": {
     "iopub.execute_input": "2024-08-15T15:25:39.823539Z",
     "iopub.status.busy": "2024-08-15T15:25:39.822760Z",
     "iopub.status.idle": "2024-08-15T15:25:40.736558Z",
     "shell.execute_reply": "2024-08-15T15:25:40.736247Z",
     "shell.execute_reply.started": "2024-08-15T15:25:39.823503Z"
    }
   },
   "outputs": [],
   "source": [
    "bucket_name = 'ca-climate-index'\n",
    "aws_dir = '1_pull_data/climate_risk/sea_level_rise/loss/climate_central/'\n",
    "folder = 'csv_folder'\n",
    "\n",
    "pull_csv_from_directory(bucket_name, aws_dir, folder, search_zipped=False)"
   ]
  },
  {
   "cell_type": "code",
   "execution_count": 3,
   "metadata": {
    "execution": {
     "iopub.execute_input": "2024-08-15T15:25:42.767705Z",
     "iopub.status.busy": "2024-08-15T15:25:42.767238Z",
     "iopub.status.idle": "2024-08-15T15:25:42.785371Z",
     "shell.execute_reply": "2024-08-15T15:25:42.784577Z",
     "shell.execute_reply.started": "2024-08-15T15:25:42.767675Z"
    }
   },
   "outputs": [],
   "source": [
    "wetland_data = pd.read_csv(r'csv_folder/RCP_wetland_data.csv')"
   ]
  },
  {
   "cell_type": "code",
   "execution_count": null,
   "metadata": {
    "execution": {
     "iopub.execute_input": "2024-08-15T15:25:45.031999Z",
     "iopub.status.busy": "2024-08-15T15:25:45.031087Z",
     "iopub.status.idle": "2024-08-15T15:25:45.065113Z",
     "shell.execute_reply": "2024-08-15T15:25:45.064762Z",
     "shell.execute_reply.started": "2024-08-15T15:25:45.031938Z"
    }
   },
   "outputs": [],
   "source": [
    "# Adjust the data\n",
    "adjusted_wetland_data = wetland_data[22:]\n",
    "\n",
    "# Set the first row as the header and reset index\n",
    "adjusted_wetland_data.columns = adjusted_wetland_data.iloc[0]\n",
    "adjusted_wetland_data = adjusted_wetland_data[1:].reset_index(drop=True)\n",
    "\n",
    "# Drop the index column if it has been set as a column\n",
    "adjusted_wetland_data.reset_index(drop=True, inplace=True)\n",
    "\n",
    "# Rename columns to ensure no extra index is included\n",
    "adjusted_wetland_data.columns.name = None\n",
    "\n",
    "# Filter columns explicitly\n",
    "columns_to_keep = [col for col in adjusted_wetland_data.columns \n",
    "                    if 'County' in col or '2000' in col or '2100' in col]\n",
    "adjusted_wetland_data = adjusted_wetland_data[columns_to_keep]\n",
    "\n",
    "adjusted_wetland_data.columns"
   ]
  },
  {
   "cell_type": "code",
   "execution_count": null,
   "metadata": {
    "execution": {
     "iopub.execute_input": "2024-08-15T15:25:48.250656Z",
     "iopub.status.busy": "2024-08-15T15:25:48.250212Z",
     "iopub.status.idle": "2024-08-15T15:25:48.274081Z",
     "shell.execute_reply": "2024-08-15T15:25:48.273438Z",
     "shell.execute_reply.started": "2024-08-15T15:25:48.250629Z"
    }
   },
   "outputs": [],
   "source": [
    "adjusted_wetland_data.head()"
   ]
  },
  {
   "cell_type": "code",
   "execution_count": 6,
   "metadata": {
    "execution": {
     "iopub.execute_input": "2024-08-15T15:25:53.130493Z",
     "iopub.status.busy": "2024-08-15T15:25:53.129385Z",
     "iopub.status.idle": "2024-08-15T15:25:53.145584Z",
     "shell.execute_reply": "2024-08-15T15:25:53.144177Z",
     "shell.execute_reply.started": "2024-08-15T15:25:53.130420Z"
    }
   },
   "outputs": [],
   "source": [
    "# Function to calculate percent change between 2000 and 2100 columns\n",
    "def calculate_percent_change(data, leave_alone=[]):\n",
    "    # Convert columns to numeric, forcing non-numeric to NaN (skip columns in leave_alone)\n",
    "    numeric_data = data.copy()\n",
    "    for col in data.columns:\n",
    "        if col not in leave_alone:\n",
    "            numeric_data[col] = pd.to_numeric(data[col], errors='coerce')\n",
    "    \n",
    "    # Define columns for 2000 and 2100\n",
    "    cols_2000 = [col for col in numeric_data.columns if '2000' in col]\n",
    "    cols_2100 = [col for col in numeric_data.columns if '2100' in col]\n",
    "    \n",
    "    # Calculate percent change\n",
    "    percent_change = pd.DataFrame()\n",
    "\n",
    "    for cols_2000 in cols_2000:\n",
    "        # Find the matching 2100 column\n",
    "        col_2100 = cols_2000.replace('2000', '2100')\n",
    "\n",
    "        if col_2100 in cols_2100:\n",
    "            # Calculate percent change, handling NaN values\n",
    "            percent_change[cols_2000 + '_to_' + col_2100] = (\n",
    "                (numeric_data[col_2100] - numeric_data[cols_2000]) / numeric_data[cols_2000]\n",
    "            ) * 100\n",
    "    \n",
    "    # Concatenate the percent change DataFrame with the original numeric data\n",
    "    result = pd.concat([numeric_data, percent_change], axis=1)\n",
    "    \n",
    "    return result\n",
    "\n",
    "# Function to rename columns, allowing some to be left unchanged\n",
    "def rename_columns(data, leave_alone=[]):\n",
    "    def rename_column(col):\n",
    "        if col in leave_alone:\n",
    "            return col\n",
    "        words = col.split('_')\n",
    "        return '_'.join(words[:4]) + '_percent_change'\n",
    "    \n",
    "    # Apply renaming function to columns\n",
    "    data.columns = [rename_column(col) for col in data.columns]\n",
    "    return data\n",
    "\n",
    "# List of columns to leave unchanged\n",
    "column_leave_alone = ['County']"
   ]
  },
  {
   "cell_type": "code",
   "execution_count": null,
   "metadata": {
    "execution": {
     "iopub.execute_input": "2024-08-15T15:25:56.900221Z",
     "iopub.status.busy": "2024-08-15T15:25:56.898742Z",
     "iopub.status.idle": "2024-08-15T15:25:56.957082Z",
     "shell.execute_reply": "2024-08-15T15:25:56.956557Z",
     "shell.execute_reply.started": "2024-08-15T15:25:56.900145Z"
    }
   },
   "outputs": [],
   "source": [
    "# Run the calculation and renaming\n",
    "adjusted_wetland_metric = calculate_percent_change(adjusted_wetland_data, leave_alone=column_leave_alone)\n",
    "\n",
    "# Filter for columns that contain 'County' or 'to'\n",
    "filtered_columns = [col for col in adjusted_wetland_metric.columns if 'County' in col or 'to' in col]\n",
    "\n",
    "# Create a new DataFrame with only the filtered columns\n",
    "filtered_wetland_metric = adjusted_wetland_metric[filtered_columns]\n",
    "# Remove duplicate columns\n",
    "filtered_wetland_metric = filtered_wetland_metric.loc[:, ~filtered_wetland_metric.columns.duplicated()]\n",
    "\n",
    "wetland_metric_percent_change = rename_columns(filtered_wetland_metric, leave_alone=column_leave_alone)\n",
    "\n",
    "wetland_metric_percent_change.columns = wetland_metric_percent_change.columns.str.lower()\n",
    "wetland_metric_percent_change = wetland_metric_percent_change.applymap(lambda s: s.lower() if type(s) == str else s)\n",
    "\n",
    "# Display the resulting DataFrame\n",
    "wetland_metric_percent_change"
   ]
  },
  {
   "cell_type": "code",
   "execution_count": null,
   "metadata": {
    "execution": {
     "iopub.execute_input": "2024-08-15T15:26:01.189080Z",
     "iopub.status.busy": "2024-08-15T15:26:01.188525Z",
     "iopub.status.idle": "2024-08-15T15:26:04.745087Z",
     "shell.execute_reply": "2024-08-15T15:26:04.744719Z",
     "shell.execute_reply.started": "2024-08-15T15:26:01.189053Z"
    }
   },
   "outputs": [],
   "source": [
    "# read in CA census tiger file\n",
    "ca_tract_county = \"s3://ca-climate-index/0_map_data/ca_tracts_county.csv\"\n",
    "ca_tract_county = gpd.read_file(ca_tract_county)\n",
    "ca_tract_county = ca_tract_county.drop(columns={'field_1', 'geometry'})\n",
    "ca_tract_county.columns = ca_tract_county.columns.str.lower()\n",
    "ca_tract_county = ca_tract_county.applymap(lambda s: s.lower() if type(s) == str else s)\n",
    "\n",
    "ca_tract_county"
   ]
  },
  {
   "cell_type": "code",
   "execution_count": null,
   "metadata": {
    "execution": {
     "iopub.execute_input": "2024-08-15T15:26:04.982350Z",
     "iopub.status.busy": "2024-08-15T15:26:04.980827Z",
     "iopub.status.idle": "2024-08-15T15:26:05.015995Z",
     "shell.execute_reply": "2024-08-15T15:26:05.015443Z",
     "shell.execute_reply.started": "2024-08-15T15:26:04.982264Z"
    }
   },
   "outputs": [],
   "source": [
    "wetland_metric_merge = pd.merge(ca_tract_county, wetland_metric_percent_change, on='county', how='left')\n",
    "wetland_metric_merge"
   ]
  },
  {
   "cell_type": "markdown",
   "metadata": {},
   "source": [
    "## Decided to use RCP 4.5 and 50th percentile for our final metric calulation"
   ]
  },
  {
   "cell_type": "code",
   "execution_count": null,
   "metadata": {
    "execution": {
     "iopub.execute_input": "2024-08-15T15:26:09.128392Z",
     "iopub.status.busy": "2024-08-15T15:26:09.127655Z",
     "iopub.status.idle": "2024-08-15T15:26:09.150598Z",
     "shell.execute_reply": "2024-08-15T15:26:09.149136Z",
     "shell.execute_reply.started": "2024-08-15T15:26:09.128353Z"
    }
   },
   "outputs": [],
   "source": [
    "final_columns = ['tract', 'county', 'rcp_4.5__50th_percent_change']\n",
    "wetland_metric_final = wetland_metric_merge[final_columns]\n",
    "wetland_metric_final"
   ]
  },
  {
   "cell_type": "code",
   "execution_count": null,
   "metadata": {
    "execution": {
     "iopub.execute_input": "2024-08-15T15:26:14.031244Z",
     "iopub.status.busy": "2024-08-15T15:26:14.030466Z",
     "iopub.status.idle": "2024-08-15T15:26:14.055045Z",
     "shell.execute_reply": "2024-08-15T15:26:14.054241Z",
     "shell.execute_reply.started": "2024-08-15T15:26:14.031173Z"
    }
   },
   "outputs": [],
   "source": [
    "# checking with Alameda, after hand calculating it should be -3.74 percent change\n",
    "alameda = wetland_metric_final[wetland_metric_final['county'] == 'alameda']\n",
    "alameda"
   ]
  },
  {
   "cell_type": "code",
   "execution_count": 12,
   "metadata": {
    "execution": {
     "iopub.execute_input": "2024-08-15T15:26:17.407592Z",
     "iopub.status.busy": "2024-08-15T15:26:17.406779Z",
     "iopub.status.idle": "2024-08-15T15:26:17.448684Z",
     "shell.execute_reply": "2024-08-15T15:26:17.448078Z",
     "shell.execute_reply.started": "2024-08-15T15:26:17.407553Z"
    }
   },
   "outputs": [],
   "source": [
    "wetland_metric_final.to_csv('climate_wetland_loss_metric.csv', index=False)"
   ]
  },
  {
   "cell_type": "markdown",
   "metadata": {},
   "source": [
    "Function Call"
   ]
  },
  {
   "cell_type": "code",
   "execution_count": 13,
   "metadata": {},
   "outputs": [],
   "source": [
    "@append_metadata\n",
    "def climate_slr_wetland_loss(input_csv, export=False, varname=''):\n",
    "    '''\n",
    "    Uploads the crop loss metrics to S3 bucket. The metric is:\n",
    "    * projected percent change in wetland habitat under 4.5 RCP at median model sea level rise per county\n",
    "    \n",
    "    Data for this metric was sourced from Climate Central at:\n",
    "    https://coastal.climatecentral.org/map/13/-117.0358/32.5017/?theme=wetlands&map_type=annual_accretion\n",
    "\n",
    "    Methods\n",
    "    -------\n",
    "    Relevant columns to our data metrics were isolated.\n",
    "    Percent change between estimated wetland area between 2000 and 2100 projections were calculated.\n",
    "    Metric columns were named, isolated, and merged to CA census tracts based on shared county.\n",
    "    \n",
    "    Parameters\n",
    "    ----------\n",
    "    input_csv: string\n",
    "        csv wetland loss data \n",
    "    export: True/False boolean\n",
    "        False = will not upload resulting df containing CAL CRAI wetland loss metrics to AWS\n",
    "        True = will upload resulting df containing CAL CRAI wetland loss metrics to AWS\n",
    "\n",
    "    Script\n",
    "    ------\n",
    "    climate_slr_wetland_loss.ipynb\n",
    "\n",
    "    Note:\n",
    "    This function assumes users have configured the AWS CLI such that their access key / secret key pair are stored in ~/.aws/credentials.\n",
    "    See https://docs.aws.amazon.com/cli/latest/userguide/getting-started-install.html for guidance.\n",
    "    '''\n",
    "    print('Data transformation: relevant columns were isolated (percentile data from 2000 and 2100)')\n",
    "    print('Data transformation: percent change was calculated, isolated, and renamed.')\n",
    "    print('Data transformation: data was merged with California census tracts.') \n",
    " \n",
    "    if export == True:\n",
    "        bucket_name = 'ca-climate-index'\n",
    "        directory = '3_fair_data/index_data'\n",
    "        export_filename = [input_csv]\n",
    "        upload_csv_aws(export_filename, bucket_name, directory)\n",
    "\n",
    "    if export == False:\n",
    "        print(f'{input_csv} uploaded to AWS.')\n",
    " \n",
    "    if os.path.exists(input_csv):\n",
    "        os.remove(input_csv)"
   ]
  },
  {
   "cell_type": "code",
   "execution_count": null,
   "metadata": {},
   "outputs": [],
   "source": [
    "input_csvs = [\n",
    "            'climate_wetland_loss_metric.csv'\n",
    "            ]\n",
    "\n",
    "varnames = [\n",
    "            'climate_climate_central_wetland_loss'\n",
    "            ]\n",
    "\n",
    "# Process the data and export\n",
    "for input_csv, varname in zip(input_csvs, varnames):\n",
    "    print(f'Processing {input_csv} with varname {varname}')\n",
    "    climate_slr_wetland_loss(input_csv, export=True, varname='test')\n",
    "    print(f'Completed uploading {input_csv} with varname {varname}!')"
   ]
  }
 ],
 "metadata": {
  "kernelspec": {
   "display_name": "carb",
   "language": "python",
   "name": "python3"
  },
  "language_info": {
   "codemirror_mode": {
    "name": "ipython",
    "version": 3
   },
   "file_extension": ".py",
   "mimetype": "text/x-python",
   "name": "python",
   "nbconvert_exporter": "python",
   "pygments_lexer": "ipython3",
   "version": "3.9.18"
  }
 },
 "nbformat": 4,
 "nbformat_minor": 4
}
