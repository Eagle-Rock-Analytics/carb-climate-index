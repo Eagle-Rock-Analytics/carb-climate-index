{
 "cells": [
  {
   "cell_type": "markdown",
   "metadata": {},
   "source": [
    "# This notebook calculates the personal preparedness metrics sourced from FEMA\n",
    "* % of survey respondents who can live in their homes for at least 3 days without running water\n",
    "* % of survey respondents who can live in their homes for at least 3 days without power\n",
    "* % of survey respondents who have engaged in at least one preparedness action in the last year"
   ]
  },
  {
   "cell_type": "code",
   "execution_count": 1,
   "metadata": {},
   "outputs": [],
   "source": [
    "import pandas as pd\n",
    "import os\n",
    "import sys\n",
    "import math\n",
    "import numpy as np\n",
    "import geopandas as gpd\n",
    "\n",
    "# suppress pandas purely educational warnings\n",
    "from warnings import simplefilter\n",
    "simplefilter(action=\"ignore\", category=pd.errors.PerformanceWarning)\n",
    "\n",
    "sys.path.append(os.path.expanduser('../../'))\n",
    "from scripts.utils.file_helpers import pull_csv_from_directory, upload_csv_aws, filter_counties\n",
    "from scripts.utils.write_metadata import append_metadata"
   ]
  },
  {
   "cell_type": "code",
   "execution_count": null,
   "metadata": {},
   "outputs": [],
   "source": [
    "# pull csv from aws\n",
    "bucket_name = 'ca-climate-index'\n",
    "aws_dir = '2a_subset/governance/personal_preparedness/fema/fema_national_household_survey/'\n",
    "\n",
    "pull_csv_from_directory(bucket_name, aws_dir, search_zipped=False)"
   ]
  },
  {
   "cell_type": "code",
   "execution_count": 3,
   "metadata": {},
   "outputs": [],
   "source": [
    "fema_household_data = pd.read_csv('fema_prepareness_survey_subset.csv')"
   ]
  },
  {
   "cell_type": "code",
   "execution_count": null,
   "metadata": {},
   "outputs": [],
   "source": [
    "fema_household_data"
   ]
  },
  {
   "cell_type": "code",
   "execution_count": null,
   "metadata": {},
   "outputs": [],
   "source": [
    "pd.set_option('display.max_columns', None)\n",
    "print(fema_household_data.columns)"
   ]
  },
  {
   "cell_type": "code",
   "execution_count": null,
   "metadata": {},
   "outputs": [],
   "source": [
    "# Selecting specific columns for our metrics\n",
    "selected_columns = ['What county in [state] do you live in? ',\n",
    "'How long could you live in your home without power?',\n",
    "'How long could you live in your home without running water? ',\n",
    "'Thinking about preparing yourself for a disaster, which of the following best represents your degree of preparedness? ']\n",
    "\n",
    "selected_fema_household_data = fema_household_data[selected_columns]\n",
    "selected_fema_household_data"
   ]
  },
  {
   "cell_type": "code",
   "execution_count": null,
   "metadata": {},
   "outputs": [],
   "source": [
    "# Looking at Alameda's data to compare with our metric calculations below\n",
    "alameda = selected_fema_household_data[selected_fema_household_data['What county in [state] do you live in? '] == 'Alameda']\n",
    "alameda"
   ]
  },
  {
   "cell_type": "code",
   "execution_count": null,
   "metadata": {},
   "outputs": [],
   "source": [
    "# Looking at unique answers for each column to better identify which responses to isolate/count for\n",
    "unique_values = {column: selected_fema_household_data[column].unique() for column in selected_fema_household_data.columns}\n",
    "unique_values"
   ]
  },
  {
   "cell_type": "code",
   "execution_count": null,
   "metadata": {},
   "outputs": [],
   "source": [
    "# Define the conditions we want to isolate for each column/survey question\n",
    "conditions = {\n",
    "    'How long could you live in your home without power?': ['1 to 3 days', \"Don't know\", 'Less than 1 day'],\n",
    "    'How long could you live in your home without running water? ': [\"Don't know\", 'Less than 1 day', '1 to 3 days'],\n",
    "    'Thinking about preparing yourself for a disaster, which of the following best represents your degree of preparedness? ': [\n",
    "        'I am NOT prepared, but I intend to get prepared in the next six months',\n",
    "        'I am NOT prepared, and I do not intend to prepare in the next year',\n",
    "        'I am NOT prepared, but I intend to start preparing in the next year',\n",
    "        \"Don't know\"\n",
    "    ]\n",
    "}\n",
    "\n",
    "# Create the new DataFrame with boolean values\n",
    "boolean_df = pd.DataFrame()\n",
    "\n",
    "# Retain the 'What county in [state] do you live in? ' column\n",
    "boolean_df['What county in [state] do you live in? '] = selected_fema_household_data['What county in [state] do you live in? ']\n",
    "for column, invalid_answers in conditions.items():\n",
    "    boolean_df[column] = selected_fema_household_data[column].apply(lambda x: 0 if x in invalid_answers else 1)\n",
    "\n",
    "boolean_df"
   ]
  },
  {
   "cell_type": "code",
   "execution_count": 10,
   "metadata": {},
   "outputs": [],
   "source": [
    "boolean_df = boolean_df.rename(columns={\n",
    "    'What county in [state] do you live in? ':'county',\n",
    "    'How long could you live in your home without power?':'prepared_without_power',\n",
    "    'How long could you live in your home without running water? ':'prepared_without_running_water',\n",
    "    'Thinking about preparing yourself for a disaster, which of the following best represents your degree of preparedness? ':'general_preparedness'\n",
    "})"
   ]
  },
  {
   "cell_type": "code",
   "execution_count": null,
   "metadata": {},
   "outputs": [],
   "source": [
    "boolean_df"
   ]
  },
  {
   "cell_type": "code",
   "execution_count": null,
   "metadata": {},
   "outputs": [],
   "source": [
    "# Group by county, sum the boolean values, and count the occurrences of each county\n",
    "grouped_df = boolean_df.groupby('county').agg({\n",
    "    'prepared_without_power': 'sum',\n",
    "    'prepared_without_running_water': 'sum',\n",
    "    'general_preparedness': 'sum',\n",
    "    'county': 'size'\n",
    "}).rename(columns={'county': 'county_count'}).reset_index()\n",
    "\n",
    "# Group by county, sum the boolean values, and count the occurrences of each county\n",
    "grouped_df = boolean_df.groupby('county').agg({\n",
    "    'prepared_without_power': 'sum',\n",
    "    'prepared_without_running_water': 'sum',\n",
    "    'general_preparedness': 'sum'\n",
    "})\n",
    "\n",
    "# Add 'county_count' column\n",
    "grouped_df['county_count'] = boolean_df['county'].value_counts()\n",
    "\n",
    "# Reset the index to move 'county' back as a column\n",
    "grouped_df.reset_index(inplace=True)\n",
    "\n",
    "grouped_df"
   ]
  },
  {
   "cell_type": "code",
   "execution_count": null,
   "metadata": {},
   "outputs": [],
   "source": [
    "# Calculate percentage for each metric\n",
    "fema_household_metric = pd.DataFrame()\n",
    "fema_household_metric['county'] = grouped_df['county']\n",
    "fema_household_metric['county_count'] = grouped_df['county_count']\n",
    "fema_household_metric['percent_prepared_without_power'] = (grouped_df['prepared_without_power'] / grouped_df['county_count']) * 100\n",
    "fema_household_metric['percent_prepared_without_water'] = (grouped_df['prepared_without_running_water'] / grouped_df['county_count']) * 100\n",
    "fema_household_metric['percent_prepared_for_general_disaster'] = (grouped_df['general_preparedness'] / grouped_df['county_count']) * 100\n",
    "\n",
    "fema_household_metric"
   ]
  },
  {
   "cell_type": "code",
   "execution_count": null,
   "metadata": {},
   "outputs": [],
   "source": [
    "# Verify county entries are valid\n",
    "filtered_counties, omitted_rows = filter_counties(fema_household_metric, 'county')\n",
    "omitted_rows"
   ]
  },
  {
   "cell_type": "code",
   "execution_count": 15,
   "metadata": {},
   "outputs": [],
   "source": [
    "# read in CA census tiger file\n",
    "ca_tract_county = \"s3://ca-climate-index/0_map_data/ca_tracts_county.csv\"\n",
    "ca_tract_county = gpd.read_file(ca_tract_county)\n",
    "ca_tract_county = ca_tract_county.drop(columns={'field_1', 'geometry', 'COUNTYFP'})\n",
    "ca_tract_county = ca_tract_county.rename(columns={'TRACT':'tract', 'County':'county'})"
   ]
  },
  {
   "cell_type": "code",
   "execution_count": null,
   "metadata": {},
   "outputs": [],
   "source": [
    "ca_tract_county"
   ]
  },
  {
   "cell_type": "code",
   "execution_count": null,
   "metadata": {},
   "outputs": [],
   "source": [
    "# merge data with CA tract data so each CA tract has a value from its corresponding county\n",
    "fema_household_merge = pd.merge(ca_tract_county, fema_household_metric, on='county', how='left')\n",
    "fema_household_merge"
   ]
  },
  {
   "cell_type": "code",
   "execution_count": 18,
   "metadata": {},
   "outputs": [],
   "source": [
    "# Create a unique DataFrame for each percent column\n",
    "df_percent_power = fema_household_merge[['tract', 'county', 'county_count', 'percent_prepared_without_power']]\n",
    "df_percent_water = fema_household_merge[['tract', 'county', 'county_count', 'percent_prepared_without_water']]\n",
    "df_percent_general = fema_household_merge[['tract', 'county', 'county_count', 'percent_prepared_for_general_disaster']]\n",
    "\n",
    "# Replace blank or empty entries with NaN\n",
    "df_percent_power = df_percent_power.replace(r'^\\s*$', np.nan, regex=True)\n",
    "df_percent_water = df_percent_water.replace(r'^\\s*$', np.nan, regex=True)\n",
    "df_percent_general = df_percent_general.replace(r'^\\s*$', np.nan, regex=True)"
   ]
  },
  {
   "cell_type": "code",
   "execution_count": null,
   "metadata": {},
   "outputs": [],
   "source": [
    "# Save each DataFrame as a CSV file\n",
    "df_percent_power.to_csv('governance_percent_prepared_without_power_metric.csv', index=False)\n",
    "df_percent_water.to_csv('governance_percent_prepared_without_water_metric.csv', index=False)\n",
    "df_percent_general.to_csv('governance_percent_prepared_for_general_disaster_metric.csv', index=False)"
   ]
  },
  {
   "cell_type": "markdown",
   "metadata": {},
   "source": [
    "## Function Call"
   ]
  },
  {
   "cell_type": "code",
   "execution_count": 20,
   "metadata": {},
   "outputs": [],
   "source": [
    "@append_metadata\n",
    "def fema_household_survey_upload(input_csv, export=False, varname=''):\n",
    "    '''\n",
    "    Uploads the disaster preparation metrics to S3 bucket. The metrics are:\n",
    "    \n",
    "    * % of survey respondents who can live in their homes for at least 3 days without running water\n",
    "    * % of survey respondents who can live in their homes for at least 3 days without power\n",
    "    * % of survey respondents who have engaged in at least one preparedness action in the last year\n",
    "\n",
    "    Note: Sample size for this dataset is fairly small\n",
    "\n",
    "    Data for this metric was sourced from the Federal Emergency Management Agency at:\n",
    "    https://www.fema.gov/about/openfema/data-sets#emergency\n",
    "\n",
    "    Methods\n",
    "    -------\n",
    "    Relevant data columns were isolated, some were renamed for later merging with California tract data.\n",
    "    Specific answers to selected survey questions were isolate to represent participant preparedness.\n",
    "    Answers were grouped by county and summed for total 'preparedness' and total answers.\n",
    "    Percentage was calculated for the three survey questions and merged to California tract data.\n",
    "    \n",
    "    Parameters\n",
    "    ----------\n",
    "    input_csv: string\n",
    "        csv disaster preparedness survey metric data \n",
    "    export: True/False boolean\n",
    "        False = will not upload resulting df containing CAL CRAI disaster preparedness survey metric to AWS\n",
    "        True = will upload resulting df containing CAL CRAI disaster preparedness survey metric to AWS\n",
    "\n",
    "    Script\n",
    "    ------\n",
    "    governance_fema_household_survey.ipynb\n",
    "\n",
    "    Note:\n",
    "    This function assumes users have configured the AWS CLI such that their access key / secret key pair are stored in ~/.aws/credentials.\n",
    "    See https://docs.aws.amazon.com/cli/latest/userguide/getting-started-install.html for guidance.\n",
    "    '''\n",
    "    print('Data transformation: relevant columns and contaminants were isolated and renamed.')\n",
    "    print('Data transformation: responses to specific columns were summed, including total responses.')\n",
    "    print('Data transformation: percent preparedness was calculated for each metric.')\n",
    "\n",
    "    if export == True:\n",
    "        bucket_name = 'ca-climate-index'\n",
    "        directory = '3_fair_data/index_data'\n",
    "        export_filename = [input_csv]\n",
    "        upload_csv_aws(export_filename, bucket_name, directory)\n",
    "\n",
    "    if export == False:\n",
    "        print(f'{input_csv} uploaded to AWS.')\n",
    " \n",
    "    '''if os.path.exists(input_csv):\n",
    "        os.remove(input_csv)'''"
   ]
  },
  {
   "cell_type": "code",
   "execution_count": null,
   "metadata": {},
   "outputs": [],
   "source": [
    "input_csv = ['governance_percent_prepared_without_water_metric.csv', \n",
    "             'governance_percent_prepared_without_power_metric.csv',\n",
    "             'governance_percent_prepared_for_general_disaster_metric.csv']\n",
    "\n",
    "varnames = ['governance_fema_household_water_resilience',\n",
    "            'governance_fema_household_power_resilience',\n",
    "            'governance_fema_household_preparedness']\n",
    "\n",
    "bucket_name = 'ca-climate-index'\n",
    "directory = '3_fair_data/index_data'\n",
    "\n",
    "for csv, var in zip(input_csv, varnames):\n",
    "    fema_household_survey_upload(csv, export=True, varname='test')#var)"
   ]
  }
 ],
 "metadata": {
  "kernelspec": {
   "display_name": "Python 3 (ipykernel)",
   "language": "python",
   "name": "python3"
  },
  "language_info": {
   "codemirror_mode": {
    "name": "ipython",
    "version": 3
   },
   "file_extension": ".py",
   "mimetype": "text/x-python",
   "name": "python",
   "nbconvert_exporter": "python",
   "pygments_lexer": "ipython3",
   "version": "3.9.18"
  }
 },
 "nbformat": 4,
 "nbformat_minor": 4
}
