{
 "cells": [
  {
   "cell_type": "markdown",
   "metadata": {},
   "source": [
    "## Cal-CRAI Metric Calculation\n",
    "Domain: Society & Economy \\\n",
    "Indicator: Economic health\n",
    "\n",
    "This notebook calculates one metric, sourced from the Bureau of Labor Statistics:\n",
    "* Metric 1: Hachman Index"
   ]
  },
  {
   "cell_type": "code",
   "execution_count": 1,
   "metadata": {
    "execution": {
     "iopub.execute_input": "2024-06-26T14:51:14.209288Z",
     "iopub.status.busy": "2024-06-26T14:51:14.207853Z",
     "iopub.status.idle": "2024-06-26T14:51:15.392235Z",
     "shell.execute_reply": "2024-06-26T14:51:15.391752Z",
     "shell.execute_reply.started": "2024-06-26T14:51:14.209200Z"
    }
   },
   "outputs": [],
   "source": [
    "import pandas as pd\n",
    "import os\n",
    "import sys\n",
    "import numpy as np\n",
    "import geopandas as gpd\n",
    "\n",
    "# suppress pandas purely educational warnings\n",
    "from warnings import simplefilter\n",
    "simplefilter(action=\"ignore\", category=pd.errors.PerformanceWarning)\n",
    "\n",
    "sys.path.append(os.path.expanduser('../../'))\n",
    "from scripts.utils.file_helpers import pull_csv_from_directory, upload_csv_aws, filter_counties, data_stats_check\n",
    "from scripts.utils.write_metadata import append_metadata"
   ]
  },
  {
   "cell_type": "code",
   "execution_count": 2,
   "metadata": {
    "execution": {
     "iopub.execute_input": "2024-06-26T14:51:15.393528Z",
     "iopub.status.busy": "2024-06-26T14:51:15.393254Z",
     "iopub.status.idle": "2024-06-26T14:51:15.396143Z",
     "shell.execute_reply": "2024-06-26T14:51:15.395786Z",
     "shell.execute_reply.started": "2024-06-26T14:51:15.393514Z"
    }
   },
   "outputs": [],
   "source": [
    "# Define a function to display data for a specific county\n",
    "def display_county_data(df, county_col, county_name):\n",
    "    county_data = df[df[county_col] == county_name]\n",
    "    if county_data.empty:\n",
    "        print(f\"No data found for {county_name}\")\n",
    "    else:\n",
    "        print(f\"Data for {county_name}:\")\n",
    "        display(county_data)  "
   ]
  },
  {
   "cell_type": "code",
   "execution_count": null,
   "metadata": {
    "execution": {
     "iopub.execute_input": "2024-06-26T14:51:16.026677Z",
     "iopub.status.busy": "2024-06-26T14:51:16.025511Z",
     "iopub.status.idle": "2024-06-26T14:51:20.784762Z",
     "shell.execute_reply": "2024-06-26T14:51:20.784236Z",
     "shell.execute_reply.started": "2024-06-26T14:51:16.026603Z"
    }
   },
   "outputs": [],
   "source": [
    "# pull csv from aws\n",
    "bucket_name = 'ca-climate-index'\n",
    "aws_dir = '2a_subset/society_economy/economic_health/bureau_labor_statistics/employment_hachman_index/'\n",
    "\n",
    "pull_csv_from_directory(bucket_name, aws_dir, search_zipped=False)\n",
    "\n",
    "aws_dir = '1_pull_data/society_economy/economic_health/'\n",
    "pull_csv_from_directory(bucket_name, aws_dir, search_zipped=False)"
   ]
  },
  {
   "cell_type": "code",
   "execution_count": 4,
   "metadata": {
    "execution": {
     "iopub.execute_input": "2024-06-26T14:51:20.786149Z",
     "iopub.status.busy": "2024-06-26T14:51:20.785940Z",
     "iopub.status.idle": "2024-06-26T14:51:20.793776Z",
     "shell.execute_reply": "2024-06-26T14:51:20.793362Z",
     "shell.execute_reply.started": "2024-06-26T14:51:20.786134Z"
    }
   },
   "outputs": [],
   "source": [
    "hachman_data = pd.read_csv('employment_data_hachman_subset.csv')"
   ]
  },
  {
   "cell_type": "code",
   "execution_count": 5,
   "metadata": {
    "execution": {
     "iopub.execute_input": "2024-06-26T14:51:20.794599Z",
     "iopub.status.busy": "2024-06-26T14:51:20.794447Z",
     "iopub.status.idle": "2024-06-26T14:51:21.892296Z",
     "shell.execute_reply": "2024-06-26T14:51:21.891102Z",
     "shell.execute_reply.started": "2024-06-26T14:51:20.794585Z"
    }
   },
   "outputs": [],
   "source": [
    "county_tract = \"s3://ca-climate-index/0_map_data/ca_tract_county_population_2022.csv\"\n",
    "ca_county_tract = pd.read_csv(county_tract)\n",
    "ca_county_tract = ca_county_tract.rename(columns={'Census Tract': 'GEO_ID'})\n",
    "ca_county_tract = ca_county_tract.drop(columns={'Unnamed: 0', 'COUNTYFP', 'County', 'Total Population 2021'})"
   ]
  },
  {
   "cell_type": "markdown",
   "metadata": {},
   "source": [
    "### Hachman Index Metric\n",
    "$$\n",
    "HI = \\frac{1}{Σ_j (\\ \\left(\\frac{E_si}{E_ri}\\right) \\cdot E_si)}\n",
    "$$\n",
    "\n",
    "{E_si} is share of area economic indicator in industry i -- county level <br>\n",
    "{E_ri} is share of regions economic indicator in industry i -- state level\n",
    "\n",
    "Several levels of data clean-up need to occur to calculate the Hachman Index. \n",
    "* Clean-up the County naming, dropping all statewide metrics\n",
    "* Drop counts for \"Service-providing\" and \"Goods-producing\" -- these sum other columns! "
   ]
  },
  {
   "cell_type": "code",
   "execution_count": null,
   "metadata": {
    "execution": {
     "iopub.execute_input": "2024-06-26T14:51:23.964155Z",
     "iopub.status.busy": "2024-06-26T14:51:23.963330Z",
     "iopub.status.idle": "2024-06-26T14:51:23.978610Z",
     "shell.execute_reply": "2024-06-26T14:51:23.977697Z",
     "shell.execute_reply.started": "2024-06-26T14:51:23.964124Z"
    }
   },
   "outputs": [],
   "source": [
    "len(hachman_data)"
   ]
  },
  {
   "cell_type": "code",
   "execution_count": null,
   "metadata": {
    "execution": {
     "iopub.execute_input": "2024-06-26T14:51:24.802478Z",
     "iopub.status.busy": "2024-06-26T14:51:24.801630Z",
     "iopub.status.idle": "2024-06-26T14:51:24.831103Z",
     "shell.execute_reply": "2024-06-26T14:51:24.830373Z",
     "shell.execute_reply.started": "2024-06-26T14:51:24.802423Z"
    }
   },
   "outputs": [],
   "source": [
    "hachman_data.head(5)"
   ]
  },
  {
   "cell_type": "markdown",
   "metadata": {},
   "source": [
    "Drop the following rows:\n",
    "* \"101 Goods-producing\" (it's a summary of the 101X categories)\n",
    "* \"102 Service-providing\" (it's a summary of the 102X categories)"
   ]
  },
  {
   "cell_type": "code",
   "execution_count": null,
   "metadata": {
    "execution": {
     "iopub.execute_input": "2024-06-26T14:51:30.392949Z",
     "iopub.status.busy": "2024-06-26T14:51:30.391788Z",
     "iopub.status.idle": "2024-06-26T14:51:30.424917Z",
     "shell.execute_reply": "2024-06-26T14:51:30.424416Z",
     "shell.execute_reply.started": "2024-06-26T14:51:30.392875Z"
    }
   },
   "outputs": [],
   "source": [
    "# create a Boolean mask for the rows to remove\n",
    "mask101 = hachman_data['Industry'] == '101 Goods-producing'\n",
    "mask102 = hachman_data['Industry'] == '102 Service-providing'\n",
    "\n",
    "# select all rows except the ones that contain either\n",
    "hachman_data_cleaned = hachman_data[~mask101]\n",
    "hachman_data_cleaned = hachman_data_cleaned[~mask102]\n",
    "hachman_data_cleaned"
   ]
  },
  {
   "cell_type": "markdown",
   "metadata": {},
   "source": [
    "Taking a look at the entries within area\n",
    "* separating California entries as we will need that data also\n",
    "* getting rid of all 'County, California' portions of each entry"
   ]
  },
  {
   "cell_type": "code",
   "execution_count": null,
   "metadata": {
    "execution": {
     "iopub.execute_input": "2024-06-26T14:51:36.501466Z",
     "iopub.status.busy": "2024-06-26T14:51:36.500267Z",
     "iopub.status.idle": "2024-06-26T14:51:36.514283Z",
     "shell.execute_reply": "2024-06-26T14:51:36.512976Z",
     "shell.execute_reply.started": "2024-06-26T14:51:36.501380Z"
    }
   },
   "outputs": [],
   "source": [
    "# Get unique entries in 'Column1'\n",
    "unique_entries = hachman_data_cleaned['Area'].unique()\n",
    "print(unique_entries)"
   ]
  },
  {
   "cell_type": "markdown",
   "metadata": {},
   "source": [
    "## Adjust the columns and entries within for future cleaning"
   ]
  },
  {
   "cell_type": "code",
   "execution_count": 10,
   "metadata": {
    "execution": {
     "iopub.execute_input": "2024-06-26T14:51:39.909816Z",
     "iopub.status.busy": "2024-06-26T14:51:39.909053Z",
     "iopub.status.idle": "2024-06-26T14:51:39.929385Z",
     "shell.execute_reply": "2024-06-26T14:51:39.928696Z",
     "shell.execute_reply.started": "2024-06-26T14:51:39.909775Z"
    }
   },
   "outputs": [],
   "source": [
    "hachman_data_cleaned = hachman_data_cleaned[['Area', 'Industry', 'Annual Average Employment']]\n",
    "# Remove any mention of 'county' within the legalAgencyName column\n",
    "hachman_data_cleaned.loc[:,'Area'] = hachman_data_cleaned['Area'].str.replace(' -- Statewide', '', case=False)\n",
    "hachman_data_cleaned.loc[:,'Area'] = hachman_data_cleaned['Area'].str.replace(' County, California', '', case=False)\n",
    "\n",
    "unique_entries = hachman_data_cleaned['Area'].unique()\n",
    "hachman_data_cleaned = hachman_data_cleaned.rename(columns={'Area':'County'})"
   ]
  },
  {
   "cell_type": "code",
   "execution_count": null,
   "metadata": {
    "execution": {
     "iopub.execute_input": "2024-06-26T14:51:40.585576Z",
     "iopub.status.busy": "2024-06-26T14:51:40.584755Z",
     "iopub.status.idle": "2024-06-26T14:51:40.603358Z",
     "shell.execute_reply": "2024-06-26T14:51:40.602347Z",
     "shell.execute_reply.started": "2024-06-26T14:51:40.585504Z"
    }
   },
   "outputs": [],
   "source": [
    "hachman_data_cleaned"
   ]
  },
  {
   "cell_type": "markdown",
   "metadata": {},
   "source": [
    "## Eliminate any row with '10 Total, all industries' as their totals are inconsistent with observed values\n",
    "* will calculate totals with the industry employment values"
   ]
  },
  {
   "cell_type": "code",
   "execution_count": null,
   "metadata": {
    "execution": {
     "iopub.execute_input": "2024-06-26T14:51:43.554213Z",
     "iopub.status.busy": "2024-06-26T14:51:43.553509Z",
     "iopub.status.idle": "2024-06-26T14:51:43.576617Z",
     "shell.execute_reply": "2024-06-26T14:51:43.575757Z",
     "shell.execute_reply.started": "2024-06-26T14:51:43.554181Z"
    }
   },
   "outputs": [],
   "source": [
    "# Eliminate rows where the Industry column has the value '10 Total, all industries'\n",
    "industry_clean_df = hachman_data_cleaned[hachman_data_cleaned['Industry'] != '10 Total, all industries']\n",
    "industry_clean_df.loc[:,'Annual Average Employment'] = industry_clean_df['Annual Average Employment'].str.replace(',', '').astype(float)\n",
    "\n",
    "industry_clean_df"
   ]
  },
  {
   "cell_type": "code",
   "execution_count": null,
   "metadata": {
    "execution": {
     "iopub.execute_input": "2024-06-26T14:52:01.190979Z",
     "iopub.status.busy": "2024-06-26T14:52:01.189893Z",
     "iopub.status.idle": "2024-06-26T14:52:01.207867Z",
     "shell.execute_reply": "2024-06-26T14:52:01.206976Z",
     "shell.execute_reply.started": "2024-06-26T14:52:01.190910Z"
    }
   },
   "outputs": [],
   "source": [
    "display_county_data(industry_clean_df, 'County', 'Los Angeles')"
   ]
  },
  {
   "cell_type": "markdown",
   "metadata": {},
   "source": [
    "## Make a new df with the total employment for each county (and California as a whole)"
   ]
  },
  {
   "cell_type": "code",
   "execution_count": null,
   "metadata": {
    "execution": {
     "iopub.execute_input": "2024-06-26T14:58:32.548697Z",
     "iopub.status.busy": "2024-06-26T14:58:32.547526Z",
     "iopub.status.idle": "2024-06-26T14:58:32.569658Z",
     "shell.execute_reply": "2024-06-26T14:58:32.568888Z",
     "shell.execute_reply.started": "2024-06-26T14:58:32.548626Z"
    }
   },
   "outputs": [],
   "source": [
    "total_emp_county = industry_clean_df.groupby('County')['Annual Average Employment'].sum().reset_index()\n",
    "total_emp_county = total_emp_county.rename(columns={'Annual Average Employment': 'Total County Employed'})\n",
    "total_emp_county.head(5)"
   ]
  },
  {
   "cell_type": "markdown",
   "metadata": {},
   "source": [
    "## Run county filter on the data to isolate non-California counties from the dataset"
   ]
  },
  {
   "cell_type": "code",
   "execution_count": null,
   "metadata": {
    "execution": {
     "iopub.execute_input": "2024-06-26T14:58:36.634808Z",
     "iopub.status.busy": "2024-06-26T14:58:36.634036Z",
     "iopub.status.idle": "2024-06-26T14:58:36.648062Z",
     "shell.execute_reply": "2024-06-26T14:58:36.647163Z",
     "shell.execute_reply.started": "2024-06-26T14:58:36.634762Z"
    }
   },
   "outputs": [],
   "source": [
    "filtered_hachman_data, omitted_data = filter_counties(industry_clean_df, 'County')\n",
    "\n",
    "print('Counties kept:', len(filtered_hachman_data))\n",
    "print('Omitted data entries:', len(omitted_data))"
   ]
  },
  {
   "cell_type": "markdown",
   "metadata": {},
   "source": [
    "## Keep California data and place within its own df as it is needed to calculate reference values"
   ]
  },
  {
   "cell_type": "code",
   "execution_count": null,
   "metadata": {
    "execution": {
     "iopub.execute_input": "2024-06-26T14:58:38.546820Z",
     "iopub.status.busy": "2024-06-26T14:58:38.546103Z",
     "iopub.status.idle": "2024-06-26T14:58:38.564898Z",
     "shell.execute_reply": "2024-06-26T14:58:38.564114Z",
     "shell.execute_reply.started": "2024-06-26T14:58:38.546785Z"
    }
   },
   "outputs": [],
   "source": [
    "# Get rid of the Unknown entries\n",
    "mask = omitted_data['County'] == 'Unknown Or Undefined, California'\n",
    "california_employ_data = omitted_data[~mask]\n",
    "california_employ_data.rename(columns={'Annual Average Employment': 'Industry Employed CA', 'County': 'State'}, inplace=True)\n",
    "\n",
    "# Now we have a df that holds all CA state employment per industry\n",
    "california_employ_data"
   ]
  },
  {
   "cell_type": "code",
   "execution_count": null,
   "metadata": {
    "execution": {
     "iopub.execute_input": "2024-06-26T15:01:22.576793Z",
     "iopub.status.busy": "2024-06-26T15:01:22.576183Z",
     "iopub.status.idle": "2024-06-26T15:01:22.597861Z",
     "shell.execute_reply": "2024-06-26T15:01:22.596942Z",
     "shell.execute_reply.started": "2024-06-26T15:01:22.576758Z"
    }
   },
   "outputs": [],
   "source": [
    "filtered_hachman_data.rename(columns={'Annual Average Employment': 'Industry Employed County'}, inplace=True)\n",
    "filtered_hachman_data"
   ]
  },
  {
   "cell_type": "code",
   "execution_count": null,
   "metadata": {
    "execution": {
     "iopub.execute_input": "2024-06-26T15:01:25.769308Z",
     "iopub.status.busy": "2024-06-26T15:01:25.768600Z",
     "iopub.status.idle": "2024-06-26T15:01:25.787973Z",
     "shell.execute_reply": "2024-06-26T15:01:25.787151Z",
     "shell.execute_reply.started": "2024-06-26T15:01:25.769270Z"
    }
   },
   "outputs": [],
   "source": [
    "display_county_data(industry_clean_df, 'County', 'Alpine')"
   ]
  },
  {
   "cell_type": "markdown",
   "metadata": {},
   "source": [
    "## Merge the two datasets together based on 'Industry' so we have a single df with county and state employment per industry"
   ]
  },
  {
   "cell_type": "code",
   "execution_count": null,
   "metadata": {
    "execution": {
     "iopub.execute_input": "2024-06-26T15:01:30.226476Z",
     "iopub.status.busy": "2024-06-26T15:01:30.225791Z",
     "iopub.status.idle": "2024-06-26T15:01:30.251635Z",
     "shell.execute_reply": "2024-06-26T15:01:30.251084Z",
     "shell.execute_reply.started": "2024-06-26T15:01:30.226438Z"
    }
   },
   "outputs": [],
   "source": [
    "merge_data = pd.merge(filtered_hachman_data, california_employ_data, on='Industry', how='left')\n",
    "merge_data"
   ]
  },
  {
   "cell_type": "markdown",
   "metadata": {},
   "source": [
    "## Merge once again with the new df and the total employment values per county\n",
    "* now we have a df with employment per industry for the state and its counties\n",
    "* also have total employees per county across all industries"
   ]
  },
  {
   "cell_type": "code",
   "execution_count": null,
   "metadata": {
    "execution": {
     "iopub.execute_input": "2024-06-26T15:01:33.780785Z",
     "iopub.status.busy": "2024-06-26T15:01:33.779669Z",
     "iopub.status.idle": "2024-06-26T15:01:33.806728Z",
     "shell.execute_reply": "2024-06-26T15:01:33.806196Z",
     "shell.execute_reply.started": "2024-06-26T15:01:33.780714Z"
    }
   },
   "outputs": [],
   "source": [
    "hachman_denominator = pd.merge(merge_data, total_emp_county, on='County', how='left')\n",
    "\n",
    "new_column_order = ['County', \n",
    "                    'Industry', \n",
    "                    'Industry Employed County',\n",
    "                    'Total County Employed', \n",
    "                    'State', \n",
    "                    'Industry Employed CA']\n",
    "\n",
    "# Rearrange the DataFrame columns\n",
    "hachman_denominator = hachman_denominator[new_column_order]\n",
    "hachman_denominator"
   ]
  },
  {
   "cell_type": "markdown",
   "metadata": {},
   "source": [
    "## Add another column with the total number of employed in California"
   ]
  },
  {
   "cell_type": "code",
   "execution_count": null,
   "metadata": {
    "execution": {
     "iopub.execute_input": "2024-06-26T15:01:38.045014Z",
     "iopub.status.busy": "2024-06-26T15:01:38.044298Z",
     "iopub.status.idle": "2024-06-26T15:01:38.068093Z",
     "shell.execute_reply": "2024-06-26T15:01:38.067376Z",
     "shell.execute_reply.started": "2024-06-26T15:01:38.044977Z"
    }
   },
   "outputs": [],
   "source": [
    "hachman_denominator['Total State Employment'] = 15438558.0 \n",
    "hachman_denominator"
   ]
  },
  {
   "cell_type": "markdown",
   "metadata": {},
   "source": [
    "Calculate the Esi and Eri values\n",
    "* Esi = (county employment in industry i / total county employment for all industries)\n",
    "* Eri = (state employment in industry i / total state employment for all industries)\n",
    "\n",
    "Then we divide Esi by Eri, and multiply by Esi to create our hachman denominator column"
   ]
  },
  {
   "cell_type": "code",
   "execution_count": null,
   "metadata": {
    "execution": {
     "iopub.execute_input": "2024-06-26T15:01:42.276034Z",
     "iopub.status.busy": "2024-06-26T15:01:42.275296Z",
     "iopub.status.idle": "2024-06-26T15:01:42.302534Z",
     "shell.execute_reply": "2024-06-26T15:01:42.301716Z",
     "shell.execute_reply.started": "2024-06-26T15:01:42.275997Z"
    }
   },
   "outputs": [],
   "source": [
    "# county score per industry -- fraction of county employment in industry\n",
    "hachman_denominator['county_industry_frac'] = hachman_denominator['Industry Employed County'] / hachman_denominator['Total County Employed']\n",
    "\n",
    "# state score per industry -- fraction of state employment in industry\n",
    "hachman_denominator['state_industry_frac'] = hachman_denominator['Industry Employed CA'] / hachman_denominator['Total State Employment']\n",
    "hachman_denominator"
   ]
  },
  {
   "cell_type": "markdown",
   "metadata": {},
   "source": [
    "## Calculate the Hachman denominator score per industry"
   ]
  },
  {
   "cell_type": "code",
   "execution_count": null,
   "metadata": {
    "execution": {
     "iopub.execute_input": "2024-06-26T15:01:46.731139Z",
     "iopub.status.busy": "2024-06-26T15:01:46.730384Z",
     "iopub.status.idle": "2024-06-26T15:01:46.755430Z",
     "shell.execute_reply": "2024-06-26T15:01:46.754766Z",
     "shell.execute_reply.started": "2024-06-26T15:01:46.731100Z"
    }
   },
   "outputs": [],
   "source": [
    "hachman_denominator['scores'] = (hachman_denominator['county_industry_frac'] / hachman_denominator['state_industry_frac']) * hachman_denominator['county_industry_frac']\n",
    "hachman_denominator"
   ]
  },
  {
   "cell_type": "code",
   "execution_count": null,
   "metadata": {
    "execution": {
     "iopub.execute_input": "2024-06-26T15:01:51.193942Z",
     "iopub.status.busy": "2024-06-26T15:01:51.193264Z",
     "iopub.status.idle": "2024-06-26T15:01:51.215798Z",
     "shell.execute_reply": "2024-06-26T15:01:51.213815Z",
     "shell.execute_reply.started": "2024-06-26T15:01:51.193906Z"
    }
   },
   "outputs": [],
   "source": [
    "hachman_denominator.loc[hachman_denominator.County == 'Sierra']"
   ]
  },
  {
   "cell_type": "markdown",
   "metadata": {},
   "source": [
    "## Now we sum the Hachman denominator industry values together per county"
   ]
  },
  {
   "cell_type": "code",
   "execution_count": null,
   "metadata": {
    "execution": {
     "iopub.execute_input": "2024-06-26T15:01:58.767790Z",
     "iopub.status.busy": "2024-06-26T15:01:58.767072Z",
     "iopub.status.idle": "2024-06-26T15:01:58.786521Z",
     "shell.execute_reply": "2024-06-26T15:01:58.785548Z",
     "shell.execute_reply.started": "2024-06-26T15:01:58.767753Z"
    }
   },
   "outputs": [],
   "source": [
    "hachman_denominator_sum = hachman_denominator.groupby('County')['scores'].sum().reset_index()\n",
    "hachman_denominator_sum.head()"
   ]
  },
  {
   "cell_type": "markdown",
   "metadata": {},
   "source": [
    "## Take the reciprical for each county score to get the final Hachman index value"
   ]
  },
  {
   "cell_type": "code",
   "execution_count": null,
   "metadata": {
    "execution": {
     "iopub.execute_input": "2024-06-26T15:02:02.232666Z",
     "iopub.status.busy": "2024-06-26T15:02:02.231932Z",
     "iopub.status.idle": "2024-06-26T15:02:02.259862Z",
     "shell.execute_reply": "2024-06-26T15:02:02.259200Z",
     "shell.execute_reply.started": "2024-06-26T15:02:02.232630Z"
    }
   },
   "outputs": [],
   "source": [
    "hachman_denominator_sum['hachman_index'] = 1 / hachman_denominator_sum['scores']\n",
    "hachman_denominator_sum.columns = hachman_denominator_sum.columns.str.lower()\n",
    "hachman_denominator_sum = hachman_denominator_sum.applymap(lambda s: s.lower() if type(s) == str else s)\n",
    "hachman_denominator_sum"
   ]
  },
  {
   "cell_type": "code",
   "execution_count": null,
   "metadata": {
    "execution": {
     "iopub.execute_input": "2024-06-26T15:02:08.432714Z",
     "iopub.status.busy": "2024-06-26T15:02:08.431991Z",
     "iopub.status.idle": "2024-06-26T15:02:08.443530Z",
     "shell.execute_reply": "2024-06-26T15:02:08.442136Z",
     "shell.execute_reply.started": "2024-06-26T15:02:08.432678Z"
    }
   },
   "outputs": [],
   "source": [
    "# should not exceed 1\n",
    "data_stats_check(hachman_denominator_sum, 'hachman_index')"
   ]
  },
  {
   "cell_type": "markdown",
   "metadata": {},
   "source": [
    "## Merge with California census tracts"
   ]
  },
  {
   "cell_type": "code",
   "execution_count": null,
   "metadata": {
    "execution": {
     "iopub.execute_input": "2024-06-26T15:04:06.479956Z",
     "iopub.status.busy": "2024-06-26T15:04:06.478774Z",
     "iopub.status.idle": "2024-06-26T15:04:09.516002Z",
     "shell.execute_reply": "2024-06-26T15:04:09.515632Z",
     "shell.execute_reply.started": "2024-06-26T15:04:06.479884Z"
    }
   },
   "outputs": [],
   "source": [
    "# read in CA census tiger file\n",
    "ca_tract_county = \"s3://ca-climate-index/0_map_data/ca_tracts_county.csv\"\n",
    "ca_tract_county = gpd.read_file(ca_tract_county)\n",
    "ca_tract_county = ca_tract_county.drop(columns={'field_1', 'geometry', 'COUNTYFP'})\n",
    "ca_tract_county.columns = ca_tract_county.columns.str.lower()\n",
    "ca_tract_county = ca_tract_county.applymap(lambda s: s.lower() if type(s) == str else s)\n",
    "\n",
    "ca_tract_county"
   ]
  },
  {
   "cell_type": "code",
   "execution_count": null,
   "metadata": {
    "execution": {
     "iopub.execute_input": "2024-06-26T15:04:09.517682Z",
     "iopub.status.busy": "2024-06-26T15:04:09.517318Z",
     "iopub.status.idle": "2024-06-26T15:04:09.524483Z",
     "shell.execute_reply": "2024-06-26T15:04:09.524174Z",
     "shell.execute_reply.started": "2024-06-26T15:04:09.517670Z"
    }
   },
   "outputs": [],
   "source": [
    "hachman_metric = pd.merge(ca_tract_county, hachman_denominator_sum, on='county', how='left')\n",
    "hachman_metric"
   ]
  },
  {
   "cell_type": "code",
   "execution_count": null,
   "metadata": {
    "execution": {
     "iopub.execute_input": "2024-06-26T15:04:12.421309Z",
     "iopub.status.busy": "2024-06-26T15:04:12.420546Z",
     "iopub.status.idle": "2024-06-26T15:04:12.444193Z",
     "shell.execute_reply": "2024-06-26T15:04:12.443431Z",
     "shell.execute_reply.started": "2024-06-26T15:04:12.421264Z"
    }
   },
   "outputs": [],
   "source": [
    "display_county_data(hachman_metric, 'county', 'yuba')"
   ]
  },
  {
   "cell_type": "code",
   "execution_count": 32,
   "metadata": {
    "execution": {
     "iopub.execute_input": "2024-06-26T15:04:18.617713Z",
     "iopub.status.busy": "2024-06-26T15:04:18.616975Z",
     "iopub.status.idle": "2024-06-26T15:04:18.664886Z",
     "shell.execute_reply": "2024-06-26T15:04:18.664219Z",
     "shell.execute_reply.started": "2024-06-26T15:04:18.617641Z"
    }
   },
   "outputs": [],
   "source": [
    "# Save as a csv for function call\n",
    "hachman_metric.to_csv('society_economy_hachman_metric.csv', index=False)"
   ]
  },
  {
   "cell_type": "markdown",
   "metadata": {},
   "source": [
    "## Function Call"
   ]
  },
  {
   "cell_type": "code",
   "execution_count": 35,
   "metadata": {
    "execution": {
     "iopub.execute_input": "2024-06-26T15:07:32.677987Z",
     "iopub.status.busy": "2024-06-26T15:07:32.677140Z",
     "iopub.status.idle": "2024-06-26T15:07:32.692726Z",
     "shell.execute_reply": "2024-06-26T15:07:32.691464Z",
     "shell.execute_reply.started": "2024-06-26T15:07:32.677947Z"
    }
   },
   "outputs": [],
   "source": [
    "@append_metadata\n",
    "def hachman_index_upload(input_csv, export=False, varname=''):\n",
    "    '''\n",
    "    Uploads the calculated Hachman Index metric to S3 bucket. The metric is:\n",
    "    Hachman Index score.\n",
    "\n",
    "    Data for this metric was sourced from the US Bureau of Labor Statistics at:\n",
    "    https://www.bls.gov/cew/downloadable-data-files.htm\n",
    "\n",
    "    Hachman Index methodology was followed from:\n",
    "    https://d36oiwf74r1rap.cloudfront.net/wp-content/uploads/ERG-Hachman-RB-Mar2023.pdf\n",
    "\n",
    "    Methods\n",
    "    -------\n",
    "    Data Collection: \n",
    "    Gathered employment data at the industry level for California and its counties.\n",
    "\n",
    "    Hachman Score Calculation:\n",
    "    Calculated new total employment values based on industry-specific employment data due to inconsistencies in source data.\n",
    "    Computed each county's employment per industry as a proportion of its total employment.\n",
    "    Computed California's employment per industry as a proportion of its total employment.\n",
    "    Divided each county's industry employment proportion by California's corresponding proportion, then multiplied by the county's proportion.\n",
    "    Summed these values for each county.\n",
    "    Took the reciprocal of each county's sum to obtain the Hachman Index value.\n",
    "\n",
    "    Integration with Census Data:\n",
    "    Merged the Hachman Index values with 2021 California Census data to assign each census tract the Hachman value of its county.\n",
    "\n",
    "    Parameters\n",
    "    ----------\n",
    "    input_csv: string\n",
    "        csv Hachman calculated data \n",
    "    export: True/False boolean\n",
    "        False = will not upload resulting df containing CAL CRAI Hachman metric to AWS\n",
    "        True = will upload resulting df containing CAL CRAI Hachman metric to AWS\n",
    "\n",
    "    Script\n",
    "    ------\n",
    "    society_economic_metrics_hachman.ipynb\n",
    "\n",
    "    Note:\n",
    "    This function assumes users have configured the AWS CLI such that their access key / secret key pair are \n",
    "    stored in ~/.aws/credentials.\n",
    "    See https://docs.aws.amazon.com/cli/latest/userguide/getting-started-install.html for guidance.\n",
    "    '''\n",
    "    print('Data transformation: New total employment values calculated for California and its counties.')\n",
    "    print('Data transformation: Dropped the following columns as they summarized counts from other industries: 101 Goods-producing and 102 Service-providing')\n",
    "    print('Data transformation: Removed unknown or uncategorized entries within the county column.')\n",
    "    print('Data transformation: Isolated relevant columns and created new ones resulting for Hachman calculations.')\n",
    "    print('Data transformation: Resulting Hachman calculation per county was extrapolated to California census tracts.')\n",
    " \n",
    "    if export == True:\n",
    "        bucket_name = 'ca-climate-index'\n",
    "        directory = '3_fair_data/index_data'\n",
    "        export_filename = [input_csv]\n",
    "        upload_csv_aws(export_filename, bucket_name, directory)\n",
    "\n",
    "    if export == False:\n",
    "        print(f'{input_csv} uploaded to AWS.')\n",
    " \n",
    "    if os.path.exists(input_csv):\n",
    "        os.remove(input_csv)"
   ]
  },
  {
   "cell_type": "code",
   "execution_count": 36,
   "metadata": {
    "execution": {
     "iopub.execute_input": "2024-06-26T15:07:37.186453Z",
     "iopub.status.busy": "2024-06-26T15:07:37.185717Z",
     "iopub.status.idle": "2024-06-26T15:07:38.393975Z",
     "shell.execute_reply": "2024-06-26T15:07:38.392554Z",
     "shell.execute_reply.started": "2024-06-26T15:07:37.186416Z"
    }
   },
   "outputs": [],
   "source": [
    "input_csv = 'society_economy_hachman_metric.csv'\n",
    "varname = 'society_bls_hachman'\n",
    "\n",
    "hachman_index_upload(input_csv, export=True, varname='test') #varname)"
   ]
  },
  {
   "cell_type": "code",
   "execution_count": null,
   "metadata": {},
   "outputs": [],
   "source": []
  }
 ],
 "metadata": {
  "kernelspec": {
   "display_name": "Python 3 (ipykernel)",
   "language": "python",
   "name": "python3"
  },
  "language_info": {
   "codemirror_mode": {
    "name": "ipython",
    "version": 3
   },
   "file_extension": ".py",
   "mimetype": "text/x-python",
   "name": "python",
   "nbconvert_exporter": "python",
   "pygments_lexer": "ipython3",
   "version": "3.9.18"
  }
 },
 "nbformat": 4,
 "nbformat_minor": 4
}
