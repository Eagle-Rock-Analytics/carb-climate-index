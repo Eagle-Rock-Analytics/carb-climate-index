{
 "cells": [
  {
   "cell_type": "markdown",
   "metadata": {
    "execution": {
     "iopub.execute_input": "2024-02-29T20:41:40.502109Z",
     "iopub.status.busy": "2024-02-29T20:41:40.501174Z",
     "iopub.status.idle": "2024-02-29T20:41:41.261424Z",
     "shell.execute_reply": "2024-02-29T20:41:41.260915Z",
     "shell.execute_reply.started": "2024-02-29T20:41:40.502063Z"
    }
   },
   "source": [
    "## Cal-CRAI Metric Calculation\n",
    "Domain: Built Environment \\\n",
    "Indicator: Housing Vacancy & Quality\n",
    "\n",
    "This notebook calculates 4 metrics, all sourced from the American Community Survey:\n",
    "\n",
    "* Metric 1: Housing vacancy: Number of vacant homes per tract (under ownership)\n",
    "* Metric 2: Housing quality: Percentage of homes lacking complete kitchen or plumbing facilities\n",
    "* Metric 3: Housing age: Percentage of homes built before 1980\n",
    "* Metric 4: Housing structures: Percentage of mobile residential structures"
   ]
  },
  {
   "cell_type": "code",
   "execution_count": 1,
   "metadata": {
    "execution": {
     "iopub.execute_input": "2024-02-29T21:19:18.852225Z",
     "iopub.status.busy": "2024-02-29T21:19:18.851305Z",
     "iopub.status.idle": "2024-02-29T21:19:19.610527Z",
     "shell.execute_reply": "2024-02-29T21:19:19.610058Z",
     "shell.execute_reply.started": "2024-02-29T21:19:18.852179Z"
    }
   },
   "outputs": [],
   "source": [
    "import os\n",
    "import sys\n",
    "import pandas as pd\n",
    "import io\n",
    "import numpy as np\n",
    "\n",
    "sys.path.append(os.path.expanduser('../../'))\n",
    "from scripts.utils.write_metadata import (\n",
    "    append_metadata\n",
    ")\n",
    "from scripts.utils.file_helpers import (\n",
    "    pull_csv_from_directory, upload_csv_aws\n",
    ") "
   ]
  },
  {
   "cell_type": "code",
   "execution_count": null,
   "metadata": {
    "execution": {
     "iopub.execute_input": "2024-02-29T21:19:21.877042Z",
     "iopub.status.busy": "2024-02-29T21:19:21.875578Z",
     "iopub.status.idle": "2024-02-29T21:19:24.769808Z",
     "shell.execute_reply": "2024-02-29T21:19:24.769496Z",
     "shell.execute_reply.started": "2024-02-29T21:19:21.876990Z"
    }
   },
   "outputs": [],
   "source": [
    "bucket_name = 'ca-climate-index'\n",
    "aws_dir = '1_pull_data/built_environment/housing/acs/'\n",
    "\n",
    "pull_csv_from_directory(bucket_name, aws_dir, search_zipped=True)"
   ]
  },
  {
   "cell_type": "markdown",
   "metadata": {},
   "source": [
    "## Metric 1: Housing Vacancy\n",
    "After looking at some documentation, we should use the 'estimated total' \n",
    "number of vacant housing units. All variables imply ownership other than 'other vacant'. After searching through documentation, the 'other vacant' variable includes:\n",
    "- personal/family reasons\n",
    "- needs repairs\n",
    "- foreclosure\n",
    "- being repaired\n",
    "- storage\n",
    "- extended absence\n",
    "- legal proceedings\n",
    "- preparing to rent/sell\n",
    "- possibly abandonded/to be demolished\n",
    "- specific use housing\n",
    "- other write in/don't know\n",
    "\n",
    "Barring 'abandoned/to be demolished', all other entries within 'other vacant' are likely under ownership"
   ]
  },
  {
   "cell_type": "code",
   "execution_count": null,
   "metadata": {},
   "outputs": [],
   "source": [
    "housing_vacancy = pd.read_csv('ACSDT5Y2022.B25004-Data.csv')\n",
    "housing_vacancy.head(5)"
   ]
  },
  {
   "cell_type": "markdown",
   "metadata": {},
   "source": [
    "The GEO_ID column within is quite long, making a new column to include census tract format seen/used in other sources"
   ]
  },
  {
   "cell_type": "code",
   "execution_count": null,
   "metadata": {},
   "outputs": [],
   "source": [
    "housing_vacancy['Census_Tract'] = housing_vacancy['GEO_ID'].str[10:]\n",
    "housing_vacancy[:2]\n"
   ]
  },
  {
   "cell_type": "code",
   "execution_count": null,
   "metadata": {},
   "outputs": [],
   "source": [
    "# Isolating relevant columns to out data metric\n",
    "cri_housing_vacancy_df = housing_vacancy[['Census_Tract', 'B25004_001E']]\n",
    "# Eliminating the first row as it is more info about the top columns\n",
    "cri_housing_vacancy_df = cri_housing_vacancy_df.iloc[1:]\n",
    "# Rename the total vacant housing units column from its identifier to our metric name\n",
    "cri_housing_vacancy_df = cri_housing_vacancy_df.rename(columns={'B25004_001E': 'estimated_total_vacant_housing_units'})\n",
    "print(len(cri_housing_vacancy_df))\n",
    "cri_housing_vacancy_df.head()"
   ]
  },
  {
   "cell_type": "code",
   "execution_count": 6,
   "metadata": {},
   "outputs": [],
   "source": [
    "# Saving metric df to .csv file\n",
    "cri_housing_vacancy_df.to_csv('built_housing_vacancy_metric.csv')"
   ]
  },
  {
   "cell_type": "markdown",
   "metadata": {},
   "source": [
    "## Metric 2-4: Housing age, quality, and structure"
   ]
  },
  {
   "cell_type": "code",
   "execution_count": null,
   "metadata": {},
   "outputs": [],
   "source": [
    "housing_age_quality_structure = pd.read_csv('ACSST5Y2022.S2504-Data.csv')\n",
    "housing_age_quality_structure['Census_Tract'] = housing_age_quality_structure['GEO_ID'].str[10:]\n",
    "\n",
    "# Dropping first row which contains descriptions of row one columns\n",
    "housing_age_quality_structure = housing_age_quality_structure.iloc[1:]\n",
    "\n",
    "# Renaming columns from dictionary code to definition\n",
    "housing_age_quality_structure = housing_age_quality_structure.rename(columns={'S2504_C01_001E':                         'est_occupied_housing_units'})\n",
    "\n",
    "housing_age_quality_structure = housing_age_quality_structure.rename(columns={'S2504_C02_025E':                         'percent_with_plumbing'})\n",
    "housing_age_quality_structure = housing_age_quality_structure.rename(columns={'S2504_C02_026E':                         'percent_with_kitchen_facilities'})\n",
    "housing_age_quality_structure = housing_age_quality_structure.rename(columns={'S2504_C02_008E':                         'percent_mobile_homes'})\n",
    "\n",
    "housing_age_quality_structure = housing_age_quality_structure.rename(columns={'S2504_C01_009E':                         'est_houses_year_structure_built_2020_or_later'})\n",
    "housing_age_quality_structure = housing_age_quality_structure.rename(columns={'S2504_C01_010E':                         'est_houses_year_structure_built_2010_2019'})\n",
    "housing_age_quality_structure = housing_age_quality_structure.rename(columns={'S2504_C01_011E':                         'est_houses_year_structure_built_2000_2009'})\n",
    "housing_age_quality_structure = housing_age_quality_structure.rename(columns={'S2504_C01_012E':                         'est_houses_year_structure_built_1980_1999'})\n",
    "housing_age_quality_structure = housing_age_quality_structure.rename(columns={'S2504_C01_013E':                         'est_houses_year_structure_built_1960_1979'})\n",
    "housing_age_quality_structure = housing_age_quality_structure.rename(columns={'S2504_C01_014E':                         'est_houses_year_structure_built_1940_1959'})\n",
    "housing_age_quality_structure = housing_age_quality_structure.rename(columns={'S2504_C01_015E':                         'est_houses_year_structure_built_before_1939'})"
   ]
  },
  {
   "cell_type": "code",
   "execution_count": 8,
   "metadata": {},
   "outputs": [],
   "source": [
    "# Isolating relevant columns to our metric calculations\n",
    "cri_metric_data_columns = housing_age_quality_structure[['GEO_ID', 'Census_Tract', \n",
    "                                                         'est_occupied_housing_units',\n",
    "                                                         'percent_with_plumbing',\n",
    "                                                         'percent_with_kitchen_facilities',\n",
    "                                                         'percent_mobile_homes',\n",
    "                                                        'est_houses_year_structure_built_2020_or_later',\n",
    "                                                        'est_houses_year_structure_built_2010_2019',\n",
    "                                                        'est_houses_year_structure_built_2000_2009',\n",
    "                                                        'est_houses_year_structure_built_1980_1999',\n",
    "                                                        'est_houses_year_structure_built_1960_1979',\n",
    "                                                        'est_houses_year_structure_built_1940_1959',\n",
    "                                                        'est_houses_year_structure_built_before_1939']]"
   ]
  },
  {
   "cell_type": "code",
   "execution_count": null,
   "metadata": {},
   "outputs": [],
   "source": [
    "display(cri_metric_data_columns)"
   ]
  },
  {
   "cell_type": "markdown",
   "metadata": {},
   "source": [
    "## Metric 2: Calculating percentage without plumbing/kitchen facilities\n",
    "* leaves me wondering how we go about calculating our single metric (% without plumbing or kitchen facilities)\n",
    "* these percentages could overlap, so summing could double count houses\n",
    "* could use the higher of the two percents\n",
    "* could split into two metrics (still involves potential overlap)"
   ]
  },
  {
   "cell_type": "code",
   "execution_count": null,
   "metadata": {},
   "outputs": [],
   "source": [
    "# Convert 'percent_with_plumbing' column to numeric\n",
    "cri_metric_data_columns.loc[:,'percent_with_plumbing'] = pd.to_numeric(cri_metric_data_columns['percent_with_plumbing'], errors='coerce')\n",
    "\n",
    "# Subtract 'percent_with_plumbing' from 100 to get 'percent_without_plumbing'\n",
    "cri_metric_data_columns.loc[:,'percent_without_plumbing'] = 100.0 - cri_metric_data_columns['percent_with_plumbing']\n",
    "\n",
    "# Convert 'percent_with_kitchen_facilities' column to numeric\n",
    "cri_metric_data_columns.loc[:,'percent_with_kitchen_facilities'] = pd.to_numeric(cri_metric_data_columns['percent_with_kitchen_facilities'], errors='coerce')\n",
    "\n",
    "# Subtract 'percent_with_plumbing' from 100 to get 'percent_without_plumbing'\n",
    "cri_metric_data_columns.loc[:,'percent_without_kitchen_facilities'] = 100.0 - cri_metric_data_columns['percent_with_kitchen_facilities']\n",
    "\n",
    "cri_metric_data_columns.loc[:,'percent_without_kitchen_facilities_or_plumbing'] = cri_metric_data_columns['percent_without_kitchen_facilities'] + cri_metric_data_columns['percent_without_plumbing']\n",
    "\n",
    "cri_metric_data_columns = cri_metric_data_columns.rename(columns={'Census_Tract':'census_tract'})\n"
   ]
  },
  {
   "cell_type": "code",
   "execution_count": null,
   "metadata": {},
   "outputs": [],
   "source": [
    "# Selecting relevant columns for CRI housing age, quality, & structure metrics (separate csv's)\n",
    "cri_housing_quality = cri_metric_data_columns[[\n",
    "                                            'census_tract', \n",
    "                                            'percent_without_plumbing',\n",
    "                                            'percent_without_kitchen_facilities',\n",
    "                                            'percent_without_kitchen_facilities_or_plumbing'\n",
    "                                            ]]\n",
    "cri_housing_quality"
   ]
  },
  {
   "cell_type": "code",
   "execution_count": 12,
   "metadata": {},
   "outputs": [],
   "source": [
    "# Saving metric df to .csv file\n",
    "cri_housing_quality.to_csv('built_housing_quality_metric.csv')"
   ]
  },
  {
   "cell_type": "markdown",
   "metadata": {},
   "source": [
    "## Calculating Metric 3: % of homes built before 1980\n",
    "\n",
    "Earliest housing is before 1939, so temporal range of dataset is ~80 years.\n",
    "Decided to calculate percent built before 1980, splitting the temporal range in half with the metric indicating a vulnerablitiy in houses in the older half of the dataset"
   ]
  },
  {
   "cell_type": "code",
   "execution_count": null,
   "metadata": {},
   "outputs": [],
   "source": [
    "cri_metric_data_columns"
   ]
  },
  {
   "cell_type": "code",
   "execution_count": 14,
   "metadata": {},
   "outputs": [],
   "source": [
    "# make sure all columns barring census tract are numeric\n",
    "exclude_column = 'census_tract'\n",
    "cri_housing_age_df = cri_metric_data_columns.apply(lambda x: pd.to_numeric(x, errors='coerce') if x.name != exclude_column else x)"
   ]
  },
  {
   "cell_type": "code",
   "execution_count": null,
   "metadata": {},
   "outputs": [],
   "source": [
    "# summing all columns before 1980 and isolating for new sum column, census tract, and est total usits\n",
    "cri_housing_age_df['num_before_1980'] = cri_housing_age_df['est_houses_year_structure_built_1940_1959']+ cri_housing_age_df['est_houses_year_structure_built_1960_1979'] + cri_housing_age_df['est_houses_year_structure_built_before_1939']\n",
    "\n",
    "cri_metric_age = cri_housing_age_df[['census_tract', 'est_occupied_housing_units', 'num_before_1980']]\n",
    "\n",
    "cri_metric_age"
   ]
  },
  {
   "cell_type": "code",
   "execution_count": null,
   "metadata": {},
   "outputs": [],
   "source": [
    "# new column that has our housing percentage metric before 1980\n",
    "cri_metric_age_metric = cri_metric_age\n",
    "cri_metric_age_metric.loc[:, 'percent_housing_before_1980'] = (cri_metric_age['num_before_1980'] / cri_metric_age_metric['est_occupied_housing_units']) * 100\n",
    "\n",
    "cri_metric_age_metric"
   ]
  },
  {
   "cell_type": "code",
   "execution_count": 17,
   "metadata": {},
   "outputs": [],
   "source": [
    "cri_metric_age_metric.to_csv('built_housing_before_1980_metric.csv')"
   ]
  },
  {
   "cell_type": "markdown",
   "metadata": {},
   "source": [
    "## Metric 4: Housing structures - mobile homes\n",
    "The data is already represented as a percentage, so no additional modification is required. "
   ]
  },
  {
   "cell_type": "code",
   "execution_count": null,
   "metadata": {},
   "outputs": [],
   "source": [
    "# Selecting relevant columns for CRI housing age, quality, & structure metrics (separate csv's)\n",
    "cri_housing_mobile_homes = cri_metric_data_columns[[\n",
    "                                            'census_tract', \n",
    "                                            'percent_mobile_homes'\n",
    "                                            ]]\n",
    "# Saving metric df to .csv file\n",
    "cri_housing_mobile_homes.to_csv('built_housing_mobile_homes_metric.csv')\n",
    "print(len(cri_housing_mobile_homes))\n",
    "cri_housing_mobile_homes[:2]"
   ]
  },
  {
   "cell_type": "markdown",
   "metadata": {},
   "source": [
    "## Uploading metric csv's to AWS"
   ]
  },
  {
   "cell_type": "code",
   "execution_count": 23,
   "metadata": {},
   "outputs": [],
   "source": [
    "@append_metadata\n",
    "def housing_vacancy_upload(input_csv, export=False, varname=''):\n",
    "    '''\n",
    "    This notebook uploads prepared housing metrics, all sourced from the American Community Survey\n",
    "    at: https://data.census.gov/ Code B25004\n",
    "\n",
    "    Metrics include:\n",
    "    - Housing vacancy: # of vacant homes per tract (under ownership)\n",
    "    - Housing quality: % of homes lacking complete kitchen or plumbing facilities\n",
    "    - Housing age: % of homes built before 1980\n",
    "    - Housing structures: % of mobile residential structures\n",
    "\n",
    "    Methods\n",
    "    -------\n",
    "    Relevant columns were isolated and renamed.\n",
    "    Additional columns were created by calculating desired metric with existing columns.\n",
    "    \n",
    "    Parameters\n",
    "    ----------\n",
    "    input_csv: string\n",
    "        csv housing data \n",
    "    export: True/False boolean\n",
    "        False = will just generate metadata file(s)\n",
    "        True = will upload resulting df containing CAL CRAI housing metrics to AWS\n",
    "\n",
    "    Script\n",
    "    ------\n",
    "    built_housing_vacancy_quality.ipynb\n",
    "\n",
    "    Note:\n",
    "    This function assumes users have configured the AWS CLI such that their access key / secret key pair are \n",
    "    stored in ~/.aws/credentials.\n",
    "    See https://docs.aws.amazon.com/cli/latest/userguide/getting-started-install.html for guidance.\n",
    "    '''\n",
    "    print('Data transformation: columns renamed and isolated.')\n",
    "    print('Data transformation: additional columns created using existing columns to calculate desired metric.')\n",
    "\n",
    "    bucket_name = 'ca-climate-index'\n",
    "    directory = '3_fair_data/index_data'\n",
    "    export_filename = [input_csv]\n",
    "    \n",
    "    if export == True:\n",
    "        upload_csv_aws(export_filename, bucket_name, directory)\n",
    "\n",
    "    if export == False:\n",
    "        print(f'{export_filename} uploaded to AWS.')\n",
    "\n",
    "    #if os.path.exists(input_csv):\n",
    "    #    os.remove(input_csv)"
   ]
  },
  {
   "cell_type": "code",
   "execution_count": 24,
   "metadata": {},
   "outputs": [],
   "source": [
    "input_csv = ['built_housing_vacancy_metric.csv',\n",
    "            'built_housing_quality_metric.csv', \n",
    "            'built_housing_before_1980_metric.csv',\n",
    "            'built_housing_mobile_homes_metric.csv'\n",
    " \n",
    "            ]\n",
    "\n",
    "varnames = ['built_acs_housing_vacancy',\n",
    "            'built_acs_housing_quality',\n",
    "            'built_acs_housing_age',\n",
    "            'built_acs_mobile_homes'          \n",
    "            ]\n",
    "\n",
    "bucket_name = 'ca-climate-index'\n",
    "directory = '3_fair_data/index_data'\n",
    "\n",
    "for csv, var in zip(input_csv, varnames):\n",
    "    housing_vacancy_upload(csv, export=True, varname='test')#var)"
   ]
  }
 ],
 "metadata": {
  "kernelspec": {
   "display_name": "Python 3 (ipykernel)",
   "language": "python",
   "name": "python3"
  },
  "language_info": {
   "codemirror_mode": {
    "name": "ipython",
    "version": 3
   },
   "file_extension": ".py",
   "mimetype": "text/x-python",
   "name": "python",
   "nbconvert_exporter": "python",
   "pygments_lexer": "ipython3",
   "version": "3.9.18"
  }
 },
 "nbformat": 4,
 "nbformat_minor": 4
}
