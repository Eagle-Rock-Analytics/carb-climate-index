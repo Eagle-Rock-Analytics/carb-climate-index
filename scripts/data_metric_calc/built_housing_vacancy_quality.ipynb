{
 "cells": [
  {
   "cell_type": "markdown",
   "metadata": {
    "execution": {
     "iopub.execute_input": "2024-02-29T20:41:40.502109Z",
     "iopub.status.busy": "2024-02-29T20:41:40.501174Z",
     "iopub.status.idle": "2024-02-29T20:41:41.261424Z",
     "shell.execute_reply": "2024-02-29T20:41:41.260915Z",
     "shell.execute_reply.started": "2024-02-29T20:41:40.502063Z"
    }
   },
   "source": [
    "## Cal-CRAI Metric Calculation for: Built Environment / Housing Vacancy & Quality\n",
    "This notebook calculates 4 metrics, all sourced from the American Community Survey. \n",
    "- Housing vacancy: # of vacant homes per tract (under ownership)\n",
    "- Housing age: median age of residential housing per tract\n",
    "- Housing quality: % of homes lacking complete kitchen or plumbing facilities\n",
    "- Housing structures: % of mobile residential structures"
   ]
  },
  {
   "cell_type": "code",
   "execution_count": 1,
   "metadata": {
    "execution": {
     "iopub.execute_input": "2024-02-29T21:19:18.852225Z",
     "iopub.status.busy": "2024-02-29T21:19:18.851305Z",
     "iopub.status.idle": "2024-02-29T21:19:19.610527Z",
     "shell.execute_reply": "2024-02-29T21:19:19.610058Z",
     "shell.execute_reply.started": "2024-02-29T21:19:18.852179Z"
    }
   },
   "outputs": [],
   "source": [
    "import os\n",
    "import sys\n",
    "import pandas as pd\n",
    "import io\n",
    "import numpy as np\n",
    "\n",
    "sys.path.append(os.path.expanduser('../../'))\n",
    "from scripts.utils.write_metadata import (\n",
    "    append_metadata\n",
    ")\n",
    "from scripts.utils.file_helpers import (\n",
    "    pull_csv_from_directory, upload_csv_aws\n",
    ")"
   ]
  },
  {
   "cell_type": "code",
   "execution_count": 2,
   "metadata": {
    "execution": {
     "iopub.execute_input": "2024-02-29T21:19:21.877042Z",
     "iopub.status.busy": "2024-02-29T21:19:21.875578Z",
     "iopub.status.idle": "2024-02-29T21:19:24.769808Z",
     "shell.execute_reply": "2024-02-29T21:19:24.769496Z",
     "shell.execute_reply.started": "2024-02-29T21:19:21.876990Z"
    }
   },
   "outputs": [
    {
     "name": "stderr",
     "output_type": "stream",
     "text": [
      "/Users/victoriaford/Desktop/carb-climate-index/scripts/data_metric_calc/../../scripts/utils/file_helpers.py:88: DtypeWarning: Columns (2,3,4,5,6,7,8,9,10,11,12,13,14,15,16,17,18,19,20,21,22,23,24,25,26,27,28,29,30,31,32,33,34,35,36,37,38,39,40,41,42,43,44,45,46,47,48,49,50,51,52,53,54,55,56,57,58,59,60,61,62,63,64,65,66,67,68,69,70,71,72,73,74,75,76,77,78,79,154,155,156,157,158,159,160,161,162,163,164,165,166,167,168,169,170,171,172,173,174,175,176,177,178,179,180,181,182,183,184,185,186,187,188,189,190,191,192,193,194,195,196,197,198,199,200,201,202,203,204,205,206,207,208,209,210,211,212,213,214,215,216,217,218,219,220,221,222,223,224,225,226,227,228,229,230,231,306,307,308,309,310,311,312,313,314,315,316,317,318,319,320,321,322,323,324,325,326,327,328,329,330,331,332,333,334,335,336,337,338,339,340,341,342,343,344,345,346,347,348,349,350,351,352,353,354,355,356,357,358,359,360,361,362,363,364,365,366,367,368,369,370,371,372,373,374,375,376,377,378,379,380,381,382,383) have mixed types. Specify dtype option on import or set low_memory=False.\n",
      "  df = pd.read_csv(csv_file)\n"
     ]
    },
    {
     "name": "stdout",
     "output_type": "stream",
     "text": [
      "Saved DataFrame as 'ACSST5Y2022.S2504-Data.csv'\n",
      "Saved DataFrame as 'ACSST5Y2022.S2504-Column-Metadata.csv'\n",
      "Saved DataFrame as 'ACSDT5Y2022.B25004-Data.csv'\n",
      "Saved DataFrame as 'ACSDT5Y2022.B25004-Column-Metadata.csv'\n"
     ]
    }
   ],
   "source": [
    "bucket_name = 'ca-climate-index'\n",
    "aws_dir = '1_pull_data/built_environment/housing/acs/'\n",
    "\n",
    "pull_csv_from_directory(bucket_name, aws_dir, search_zipped=True)"
   ]
  },
  {
   "cell_type": "markdown",
   "metadata": {},
   "source": [
    "## Metric 1: Housing Vacancy\n",
    "After looking at some documentation, we should use the 'estimated total' \n",
    "number of vacant housing units. All variables imply ownership other than 'other vacant'. After searching through documentation, the 'other vacant' variable includes:\n",
    "- personal/family reasons\n",
    "- needs repairs\n",
    "- foreclosure\n",
    "- being repaired\n",
    "- storage\n",
    "- extended absence\n",
    "- legal proceedings\n",
    "- preparing to rent/sell\n",
    "- possibly abandonded/to be demolished\n",
    "- specific use housing\n",
    "- other write in/don't know\n",
    "\n",
    "Barring 'abandoned/to be demolished', all other entries within 'other vacant' are likely under ownership"
   ]
  },
  {
   "cell_type": "code",
   "execution_count": null,
   "metadata": {},
   "outputs": [],
   "source": [
    "housing_vacancy = pd.read_csv('ACSDT5Y2022.B25004-Data.csv')\n",
    "housing_vacancy.head(5)"
   ]
  },
  {
   "cell_type": "markdown",
   "metadata": {},
   "source": [
    "The GEO_ID column within is quite long, making a new column to include census tract format seen/used in other sources"
   ]
  },
  {
   "cell_type": "code",
   "execution_count": null,
   "metadata": {},
   "outputs": [],
   "source": [
    "housing_vacancy['Census_Tract'] = housing_vacancy['GEO_ID'].str[10:]\n",
    "housing_vacancy[:2]\n"
   ]
  },
  {
   "cell_type": "code",
   "execution_count": null,
   "metadata": {},
   "outputs": [],
   "source": [
    "# Isolating relevant columns to out data metric\n",
    "cri_housing_vacancy_df = housing_vacancy[['GEO_ID', 'Census_Tract', 'B25004_001E']]\n",
    "# Eliminating the first row as it is more info about the top columns\n",
    "cri_housing_vacancy_df = cri_housing_vacancy_df.iloc[1:]\n",
    "# Rename the total vacant housing units column from its identifier to our metric name\n",
    "cri_housing_vacancy_df = cri_housing_vacancy_df.rename(columns={'B25004_001E': 'estimated_total_vacant_housing_units'})\n",
    "cri_housing_vacancy_df\n",
    "\n",
    "# Saving metric df to .csv file\n",
    "cri_housing_vacancy_df.to_csv('built_metric_housing_vacancy.csv')"
   ]
  },
  {
   "cell_type": "code",
   "execution_count": null,
   "metadata": {},
   "outputs": [],
   "source": [
    "bucket_name = 'ca-climate-index'\n",
    "file_name = 'built_metric_housing_vacancy.csv'\n",
    "directory = '3_fair_data/index_data'\n",
    "\n",
    "upload_csv_aws(file_name, bucket_name, directory)"
   ]
  },
  {
   "cell_type": "markdown",
   "metadata": {},
   "source": [
    "## Metric 2-4: Housing age, quality, and structure"
   ]
  },
  {
   "cell_type": "code",
   "execution_count": null,
   "metadata": {},
   "outputs": [],
   "source": [
    "housing_age_quality_structure = pd.read_csv('ACSST5Y2022.S2504-Data.csv')\n",
    "housing_age_quality_structure['Census_Tract'] = housing_age_quality_structure['GEO_ID'].str[10:]\n",
    "\n",
    "# Dropping first row which contains descriptions of row one columns\n",
    "housing_age_quality_structure = housing_age_quality_structure.iloc[1:]\n",
    "\n",
    "# Renaming columns from dictionary code to definition\n",
    "housing_age_quality_structure = housing_age_quality_structure.rename(columns={'S2504_C01_001E':                         'est_occupied_housing_units'})\n",
    "\n",
    "housing_age_quality_structure = housing_age_quality_structure.rename(columns={'S2504_C02_025E':                         'percent_with_plumbing'})\n",
    "housing_age_quality_structure = housing_age_quality_structure.rename(columns={'S2504_C02_026E':                         'percent_with_kitchen_facilities'})\n",
    "housing_age_quality_structure = housing_age_quality_structure.rename(columns={'S2504_C02_008E':                         'percent_mobile_homes'})\n",
    "\n",
    "housing_age_quality_structure = housing_age_quality_structure.rename(columns={'S2504_C01_009E':                         'est_houses_year_structure_built_2020_or_later'})\n",
    "housing_age_quality_structure = housing_age_quality_structure.rename(columns={'S2504_C01_010E':                         'est_houses_year_structure_built_2010_2019'})\n",
    "housing_age_quality_structure = housing_age_quality_structure.rename(columns={'S2504_C01_011E':                         'est_houses_year_structure_built_2000_2009'})\n",
    "housing_age_quality_structure = housing_age_quality_structure.rename(columns={'S2504_C01_012E':                         'est_houses_year_structure_built_1980_1999'})\n",
    "housing_age_quality_structure = housing_age_quality_structure.rename(columns={'S2504_C01_013E':                         'est_houses_year_structure_built_1960_1979'})\n",
    "housing_age_quality_structure = housing_age_quality_structure.rename(columns={'S2504_C01_014E':                         'est_houses_year_structure_built_1940_1959'})\n",
    "housing_age_quality_structure = housing_age_quality_structure.rename(columns={'S2504_C01_015E':                         'est_houses_year_structure_built_before_1939'})\n"
   ]
  },
  {
   "cell_type": "code",
   "execution_count": null,
   "metadata": {},
   "outputs": [],
   "source": [
    "# Isolating relevant columns to our metric calculations\n",
    "cri_metric_data_columns = housing_age_quality_structure[['GEO_ID', 'Census_Tract', \n",
    "                                                         'est_occupied_housing_units',\n",
    "                                                         'percent_with_plumbing',\n",
    "                                                         'percent_with_kitchen_facilities',\n",
    "                                                         'percent_mobile_homes',\n",
    "                                                        'est_houses_year_structure_built_2020_or_later',\n",
    "                                                        'est_houses_year_structure_built_2010_2019',\n",
    "                                                        'est_houses_year_structure_built_2000_2009',\n",
    "                                                        'est_houses_year_structure_built_1980_1999',\n",
    "                                                        'est_houses_year_structure_built_1960_1979',\n",
    "                                                        'est_houses_year_structure_built_1940_1959',\n",
    "                                                        'est_houses_year_structure_built_before_1939']]"
   ]
  },
  {
   "cell_type": "code",
   "execution_count": null,
   "metadata": {},
   "outputs": [],
   "source": [
    "display(cri_metric_data_columns)"
   ]
  },
  {
   "cell_type": "markdown",
   "metadata": {},
   "source": [
    "## Metric 3: Calculating percentage without plumbing/kitchen facilities\n",
    "* leaves me wondering how we go about calculating our single metric (% without plumbing or kitchen facilities)\n",
    "* these percentages could overlap, so summing could double count houses\n",
    "* could use the higher of the two percents\n",
    "* could split into two metrics (still involves potential overlap)"
   ]
  },
  {
   "cell_type": "code",
   "execution_count": null,
   "metadata": {},
   "outputs": [],
   "source": [
    "# Convert 'percent_with_plumbing' column to numeric\n",
    "cri_metric_data_columns['percent_with_plumbing'] = pd.to_numeric(cri_metric_data_columns['percent_with_plumbing'], errors='coerce')\n",
    "\n",
    "# Subtract 'percent_with_plumbing' from 100 to get 'percent_without_plumbing'\n",
    "cri_metric_data_columns['percent_without_plumbing'] = 100.0 - cri_metric_data_columns['percent_with_plumbing']\n",
    "\n",
    "# Convert 'percent_with_kitchen_facilities' column to numeric\n",
    "cri_metric_data_columns['percent_with_kitchen_facilities'] = pd.to_numeric(cri_metric_data_columns['percent_with_kitchen_facilities'], errors='coerce')\n",
    "\n",
    "# Subtract 'percent_with_plumbing' from 100 to get 'percent_without_plumbing'\n",
    "cri_metric_data_columns['percent_without_kitchen_facilities'] = 100.0 - cri_metric_data_columns['percent_with_kitchen_facilities']\n"
   ]
  },
  {
   "cell_type": "code",
   "execution_count": null,
   "metadata": {},
   "outputs": [],
   "source": [
    "cri_metric_data_columns"
   ]
  },
  {
   "cell_type": "markdown",
   "metadata": {},
   "source": [
    "## Calculating Metric 2: median age of each housing unit\n",
    "\n",
    "Since the data is in year ranges, the median can be given as the median age range group,\n",
    "or we can select a year representing the middle of each age group and find the median from there\n",
    "\n",
    "I did both, let me know which is preferred, or another method of course"
   ]
  },
  {
   "cell_type": "code",
   "execution_count": null,
   "metadata": {},
   "outputs": [],
   "source": [
    "# Initialize an empty list to store median construction years\n",
    "median_construction_years = []\n",
    "median_year = []\n",
    "\n",
    "# Iterate over each row\n",
    "for index, row in cri_metric_data_columns.iterrows():\n",
    "    # Initialize counters for the original year range\n",
    "    counters = {\n",
    "        '2020_or_later': int(row['est_houses_year_structure_built_2020_or_later']),\n",
    "        '2010_2019': int(row['est_houses_year_structure_built_2010_2019']),\n",
    "        '2000_2009': int(row['est_houses_year_structure_built_2000_2009']),\n",
    "        '1980_1999': int(row['est_houses_year_structure_built_1980_1999']),\n",
    "        '1960_1979': int(row['est_houses_year_structure_built_1960_1979']),\n",
    "        '1940_1959': int(row['est_houses_year_structure_built_1940_1959']),\n",
    "        'before_1939': int(row['est_houses_year_structure_built_before_1939'])\n",
    "    }\n",
    "    \n",
    "    # Calculate the cumulative sum for the original year range\n",
    "    cumulative_counts = np.cumsum(list(counters.values()))\n",
    "    \n",
    "    # Calculate the median construction year for the original year range\n",
    "    total_houses = sum(counters.values())\n",
    "    median_year_index = np.searchsorted(cumulative_counts, total_houses / 2)\n",
    "    median_construction_year = list(counters.keys())[median_year_index]\n",
    "    median_construction_years.append(median_construction_year)\n",
    "    \n",
    "    # Initialize counters for the custom year range\n",
    "    counters_custom_range = {\n",
    "        '2020': int(row['est_houses_year_structure_built_2020_or_later']),\n",
    "        '2015': int(row['est_houses_year_structure_built_2010_2019']),\n",
    "        '2005': int(row['est_houses_year_structure_built_2000_2009']),\n",
    "        '1990': int(row['est_houses_year_structure_built_1980_1999']),\n",
    "        '1970': int(row['est_houses_year_structure_built_1960_1979']),\n",
    "        '1950': int(row['est_houses_year_structure_built_1940_1959']),\n",
    "        '1939': int(row['est_houses_year_structure_built_before_1939'])\n",
    "    }\n",
    "    \n",
    "    # Calculate the cumulative sum for the custom year range\n",
    "    cumulative_counts_custom_range = np.cumsum(list(counters_custom_range.values()))\n",
    "    \n",
    "    # Calculate the median construction year for the custom year range\n",
    "    total_houses_custom_range = sum(counters_custom_range.values())\n",
    "    median_year_index_custom_range = np.searchsorted(cumulative_counts_custom_range, total_houses_custom_range / 2)\n",
    "    median_single_year = list(counters_custom_range.keys())[median_year_index_custom_range]\n",
    "    median_year.append(median_single_year)\n",
    "\n",
    "# Add the median construction years to the dataframe\n",
    "cri_metric_data_columns.loc[:, 'median_year_range'] = median_construction_years\n",
    "cri_metric_data_columns.loc[:, 'median_year'] = median_year\n",
    "\n",
    "cri_metric_data_columns\n"
   ]
  },
  {
   "cell_type": "code",
   "execution_count": null,
   "metadata": {},
   "outputs": [],
   "source": [
    "# Selecting relevant columns for CRI housing age, quality, & structure metrics (separate csv's)\n",
    "cri_housing_age_df = cri_metric_data_columns[[\n",
    "                                            'GEO_ID', \n",
    "                                            'Census_Tract', \n",
    "                                            'median_year',\n",
    "                                            'median_year_range'\n",
    "                                            ]]\n",
    "# Saving metric df to .csv file\n",
    "cri_housing_age_df.to_csv('built_housing_median_age.csv')\n",
    "cri_housing_age_df[:2]\n"
   ]
  },
  {
   "cell_type": "code",
   "execution_count": null,
   "metadata": {},
   "outputs": [],
   "source": [
    "# Selecting relevant columns for CRI housing age, quality, & structure metrics (separate csv's)\n",
    "cri_housing_quality = cri_metric_data_columns[[\n",
    "                                            'GEO_ID', \n",
    "                                            'Census_Tract', \n",
    "                                            'percent_without_plumbing',\n",
    "                                            'percent_without_kitchen_facilities'\n",
    "                                            ]]\n",
    "# Saving metric df to .csv file\n",
    "cri_housing_quality.to_csv('built_housing_quality.csv')\n",
    "cri_housing_quality[:2]"
   ]
  },
  {
   "cell_type": "markdown",
   "metadata": {},
   "source": [
    "## Metric 4: Housing structures\n",
    "The data is already represented as a percentage, so no additional modification is required. "
   ]
  },
  {
   "cell_type": "code",
   "execution_count": null,
   "metadata": {},
   "outputs": [],
   "source": [
    "# Selecting relevant columns for CRI housing age, quality, & structure metrics (separate csv's)\n",
    "cri_housing_mobile_homes = cri_metric_data_columns[[\n",
    "                                            'GEO_ID', \n",
    "                                            'Census_Tract', \n",
    "                                            'percent_mobile_homes'\n",
    "                                            ]]\n",
    "# Saving metric df to .csv file\n",
    "cri_housing_mobile_homes.to_csv('built_housing_mobile_homes.csv')\n",
    "cri_housing_mobile_homes[:2]"
   ]
  },
  {
   "cell_type": "markdown",
   "metadata": {},
   "source": [
    "## Uploading to AWS"
   ]
  },
  {
   "cell_type": "code",
   "execution_count": null,
   "metadata": {},
   "outputs": [],
   "source": [
    "bucket_name = 'ca-climate-index'\n",
    "file_name = 'built_housing_quality.csv', 'built_housing_mobile_homes.csv', 'built_housing_median_age.csv' \n",
    "directory = '3_fair_data/index_data'\n",
    "\n",
    "for name in file_name:\n",
    "    upload_csv_aws(name, bucket_name, directory)"
   ]
  }
 ],
 "metadata": {
  "kernelspec": {
   "display_name": "Python 3 (ipykernel)",
   "language": "python",
   "name": "python3"
  },
  "language_info": {
   "codemirror_mode": {
    "name": "ipython",
    "version": 3
   },
   "file_extension": ".py",
   "mimetype": "text/x-python",
   "name": "python",
   "nbconvert_exporter": "python",
   "pygments_lexer": "ipython3",
   "version": "3.9.18"
  }
 },
 "nbformat": 4,
 "nbformat_minor": 4
}
