{
 "cells": [
  {
   "cell_type": "markdown",
   "metadata": {},
   "source": [
    "## Cal-CRAI Metric Calculation\n",
    "Domain: Built Environment \\\n",
    "Indicator: Communication Infrastructure\n",
    "\n",
    "This notebook calculates 7 metrics, the first six sourced from Homeland Infrastructure Foundation-Level Data:\n",
    "* Metric 1: Number of cell towers per county\n",
    "* Metric 2: Number of radio towers per county\n",
    "* Metric 3: Number of microwave towers per county\n",
    "* Metric 4: Number of paging towers per county\n",
    "* Metric 5: Number of mobile towers per county\n",
    "* Metric 6: Number of tv broadcast providers per county\n",
    "\n",
    "The last metric is sourced from the California Public Utilities Commission:\n",
    "* Metric 7: if a census tract has low internet download speeds (<25mbs/s)"
   ]
  },
  {
   "cell_type": "code",
   "execution_count": 1,
   "metadata": {
    "execution": {
     "iopub.execute_input": "2024-06-20T20:42:57.697405Z",
     "iopub.status.busy": "2024-06-20T20:42:57.696468Z",
     "iopub.status.idle": "2024-06-20T20:42:58.540090Z",
     "shell.execute_reply": "2024-06-20T20:42:58.539539Z",
     "shell.execute_reply.started": "2024-06-20T20:42:57.697331Z"
    }
   },
   "outputs": [],
   "source": [
    "import pandas as pd\n",
    "import os\n",
    "import sys\n",
    "import boto3\n",
    "import io\n",
    "import geopandas as gpd\n",
    "import numpy as np\n",
    "\n",
    "# suppress pandas purely educational warnings\n",
    "from warnings import simplefilter\n",
    "simplefilter(action=\"ignore\", category=pd.errors.PerformanceWarning)\n",
    "\n",
    "sys.path.append(os.path.expanduser('../../'))\n",
    "from scripts.utils.file_helpers import pull_csv_from_directory, upload_csv_aws, data_stats_check, pull_gpkg_from_directory,county_count\n",
    "from scripts.utils.write_metadata import append_metadata"
   ]
  },
  {
   "cell_type": "markdown",
   "metadata": {},
   "source": [
    "## Pull metric data from the Homeland Infrastructure Foundation-Level Data"
   ]
  },
  {
   "cell_type": "code",
   "execution_count": null,
   "metadata": {
    "execution": {
     "iopub.execute_input": "2024-06-20T20:42:58.807139Z",
     "iopub.status.busy": "2024-06-20T20:42:58.805661Z",
     "iopub.status.idle": "2024-06-20T20:43:36.450774Z",
     "shell.execute_reply": "2024-06-20T20:43:36.450387Z",
     "shell.execute_reply.started": "2024-06-20T20:42:58.807079Z"
    }
   },
   "outputs": [],
   "source": [
    "# pull csv from aws\n",
    "bucket_name = 'ca-climate-index'\n",
    "aws_dir = '2b_reproject/built_environment/communication_infrastructure/homeland_infrastructure_foundation_level_data/'\n",
    "\n",
    "pull_gpkg_from_directory(bucket_name, aws_dir)"
   ]
  },
  {
   "cell_type": "code",
   "execution_count": null,
   "metadata": {
    "execution": {
     "iopub.execute_input": "2024-06-20T20:43:36.451807Z",
     "iopub.status.busy": "2024-06-20T20:43:36.451700Z",
     "iopub.status.idle": "2024-06-20T20:45:01.650199Z",
     "shell.execute_reply": "2024-06-20T20:45:01.649821Z",
     "shell.execute_reply.started": "2024-06-20T20:43:36.451798Z"
    }
   },
   "outputs": [],
   "source": [
    "cellular_towers_data = gpd.read_file('built_hifld_cellular_towers.gpkg')\n",
    "print('complete')\n",
    "microwave_towers_data = gpd.read_file('built_hifld_microwave_towers.gpkg')\n",
    "print('complete')\n",
    "mobile_towers_data = gpd.read_file('built_hifld_mobile_towers.gpkg')\n",
    "print('complete')\n",
    "paging_towers_data = gpd.read_file('built_hifld_paging_towers.gpkg')\n",
    "print('complete')\n",
    "radio_towers_data = gpd.read_file('built_hifld_radio_towers.gpkg')\n",
    "print('complete')\n",
    "tv_contour_data = gpd.read_file('built_hifld_tv_contour.gpkg')\n",
    "print('complete')"
   ]
  },
  {
   "cell_type": "code",
   "execution_count": null,
   "metadata": {
    "execution": {
     "iopub.execute_input": "2024-06-20T20:45:01.650947Z",
     "iopub.status.busy": "2024-06-20T20:45:01.650826Z",
     "iopub.status.idle": "2024-06-20T20:45:01.714060Z",
     "shell.execute_reply": "2024-06-20T20:45:01.713686Z",
     "shell.execute_reply.started": "2024-06-20T20:45:01.650936Z"
    }
   },
   "outputs": [],
   "source": [
    "microwave_towers_data"
   ]
  },
  {
   "cell_type": "code",
   "execution_count": null,
   "metadata": {
    "execution": {
     "iopub.execute_input": "2024-06-20T20:45:01.715484Z",
     "iopub.status.busy": "2024-06-20T20:45:01.715212Z",
     "iopub.status.idle": "2024-06-20T20:45:01.718481Z",
     "shell.execute_reply": "2024-06-20T20:45:01.718106Z",
     "shell.execute_reply.started": "2024-06-20T20:45:01.715471Z"
    }
   },
   "outputs": [],
   "source": [
    "tv_contour_data.columns"
   ]
  },
  {
   "cell_type": "markdown",
   "metadata": {},
   "source": [
    "### Call function to take a look at df's and if they have dupicates "
   ]
  },
  {
   "cell_type": "code",
   "execution_count": null,
   "metadata": {
    "execution": {
     "iopub.execute_input": "2024-06-20T20:46:32.069345Z",
     "iopub.status.busy": "2024-06-20T20:46:32.068688Z",
     "iopub.status.idle": "2024-06-20T20:46:32.102213Z",
     "shell.execute_reply": "2024-06-20T20:46:32.101680Z",
     "shell.execute_reply.started": "2024-06-20T20:46:32.069312Z"
    }
   },
   "outputs": [],
   "source": [
    "county_count(microwave_towers_data, 'LocCounty', 'SANTA CLARA', 'Callsign')"
   ]
  },
  {
   "cell_type": "code",
   "execution_count": null,
   "metadata": {
    "execution": {
     "iopub.execute_input": "2024-06-20T20:46:33.216738Z",
     "iopub.status.busy": "2024-06-20T20:46:33.216022Z",
     "iopub.status.idle": "2024-06-20T20:46:47.571090Z",
     "shell.execute_reply": "2024-06-20T20:46:47.570714Z",
     "shell.execute_reply.started": "2024-06-20T20:46:33.216703Z"
    }
   },
   "outputs": [],
   "source": [
    "# Read in CA census tiger file\n",
    "census_shp_dir = \"s3://ca-climate-index/0_map_data/2021_tiger_census_tract/2021_ca_tract/\"\n",
    "ca_boundaries = gpd.read_file(census_shp_dir)\n",
    "\n",
    "# Select columns and rename\n",
    "filtered_ca_boundaries = ca_boundaries[['GEOID', 'geometry']].copy()\n",
    "filtered_ca_boundaries.rename(columns={'GEOID': 'tract'}, inplace=True)\n",
    "\n",
    "# Modify 'tract' column\n",
    "filtered_ca_boundaries['tract'] = filtered_ca_boundaries['tract'].str[1:]\n",
    "filtered_ca_boundaries = filtered_ca_boundaries.to_crs(crs=4269) \n",
    "# Output the modified GeoDataFrame\n",
    "filtered_ca_boundaries"
   ]
  },
  {
   "cell_type": "code",
   "execution_count": null,
   "metadata": {
    "execution": {
     "iopub.execute_input": "2024-06-20T20:46:47.572785Z",
     "iopub.status.busy": "2024-06-20T20:46:47.572449Z",
     "iopub.status.idle": "2024-06-20T20:46:49.116389Z",
     "shell.execute_reply": "2024-06-20T20:46:49.116039Z",
     "shell.execute_reply.started": "2024-06-20T20:46:47.572775Z"
    }
   },
   "outputs": [],
   "source": [
    "# read in CA census tiger file\n",
    "ca_tract_county = \"s3://ca-climate-index/0_map_data/ca_tracts_county.csv\"\n",
    "ca_tract_county = gpd.read_file(ca_tract_county)\n",
    "ca_tract_county = ca_tract_county.drop(columns={'field_1', 'geometry'})\n",
    "ca_tract_county.columns = ca_tract_county.columns.str.lower()\n",
    "ca_tract_county = ca_tract_county.applymap(lambda s: s.lower() if type(s) == str else s)\n",
    "\n",
    "ca_tract_county"
   ]
  },
  {
   "cell_type": "markdown",
   "metadata": {},
   "source": [
    "In the following cells, look at columns from each dataset and identify which column is the identifier (noted by comment value)"
   ]
  },
  {
   "cell_type": "code",
   "execution_count": null,
   "metadata": {
    "execution": {
     "iopub.execute_input": "2024-06-20T20:46:49.117048Z",
     "iopub.status.busy": "2024-06-20T20:46:49.116936Z",
     "iopub.status.idle": "2024-06-20T20:46:49.119895Z",
     "shell.execute_reply": "2024-06-20T20:46:49.119562Z",
     "shell.execute_reply.started": "2024-06-20T20:46:49.117039Z"
    }
   },
   "outputs": [],
   "source": [
    "cellular_towers_data.columns # uniqsysid"
   ]
  },
  {
   "cell_type": "code",
   "execution_count": null,
   "metadata": {
    "execution": {
     "iopub.execute_input": "2024-06-20T20:46:49.121071Z",
     "iopub.status.busy": "2024-06-20T20:46:49.120952Z",
     "iopub.status.idle": "2024-06-20T20:46:49.123225Z",
     "shell.execute_reply": "2024-06-20T20:46:49.122985Z",
     "shell.execute_reply.started": "2024-06-20T20:46:49.121061Z"
    }
   },
   "outputs": [],
   "source": [
    "microwave_towers_data.columns #callsign"
   ]
  },
  {
   "cell_type": "code",
   "execution_count": null,
   "metadata": {
    "execution": {
     "iopub.execute_input": "2024-06-20T20:46:49.123828Z",
     "iopub.status.busy": "2024-06-20T20:46:49.123698Z",
     "iopub.status.idle": "2024-06-20T20:46:49.126105Z",
     "shell.execute_reply": "2024-06-20T20:46:49.125833Z",
     "shell.execute_reply.started": "2024-06-20T20:46:49.123820Z"
    }
   },
   "outputs": [],
   "source": [
    "mobile_towers_data.columns #uniqsysid"
   ]
  },
  {
   "cell_type": "code",
   "execution_count": null,
   "metadata": {
    "execution": {
     "iopub.execute_input": "2024-06-20T20:46:49.126675Z",
     "iopub.status.busy": "2024-06-20T20:46:49.126576Z",
     "iopub.status.idle": "2024-06-20T20:46:49.129240Z",
     "shell.execute_reply": "2024-06-20T20:46:49.128967Z",
     "shell.execute_reply.started": "2024-06-20T20:46:49.126666Z"
    }
   },
   "outputs": [],
   "source": [
    "paging_towers_data.columns # uniqsysid"
   ]
  },
  {
   "cell_type": "code",
   "execution_count": null,
   "metadata": {
    "execution": {
     "iopub.execute_input": "2024-06-20T20:46:49.129743Z",
     "iopub.status.busy": "2024-06-20T20:46:49.129645Z",
     "iopub.status.idle": "2024-06-20T20:46:49.132591Z",
     "shell.execute_reply": "2024-06-20T20:46:49.132271Z",
     "shell.execute_reply.started": "2024-06-20T20:46:49.129734Z"
    }
   },
   "outputs": [],
   "source": [
    "radio_towers_data.columns # CALLSIGN"
   ]
  },
  {
   "cell_type": "markdown",
   "metadata": {},
   "source": [
    "### Function to process all dataframes from HIFLD\n",
    "* specific keywords were identified for each dataset and the function iterates to find the correct column per dataframe\n",
    "* dataframes are then spatatially joined to CA tract boundary data\n",
    "* duplicate columns are dropped per county and metric identified columns\n",
    "* columns are renamed for consistency\n",
    "* resulting dataframes are saved per their initial dataframe name"
   ]
  },
  {
   "cell_type": "code",
   "execution_count": null,
   "metadata": {
    "execution": {
     "iopub.execute_input": "2024-06-20T20:46:49.133419Z",
     "iopub.status.busy": "2024-06-20T20:46:49.133189Z",
     "iopub.status.idle": "2024-06-20T20:48:02.631153Z",
     "shell.execute_reply": "2024-06-20T20:48:02.630779Z",
     "shell.execute_reply.started": "2024-06-20T20:46:49.133408Z"
    }
   },
   "outputs": [],
   "source": [
    "communication_infrastructure_data = [cellular_towers_data, microwave_towers_data, mobile_towers_data, paging_towers_data, radio_towers_data, tv_contour_data]\n",
    "words_to_search = ['OBJECTID','UniqSysID', 'USCB_COUNTYFP', 'ID', 'Licensee', 'CALLSIGN', 'Callsign','LocCounty', 'geometry']\n",
    "\n",
    "def filter_and_spatial_join(data_list, filtered_ca_boundaries, words_to_search, ca_tract_county):\n",
    "    county_count_dfs = {}\n",
    "    \n",
    "    for df, df_name in zip(data_list, ['cellular_towers_data', 'microwave_towers_data', 'mobile_towers_data', 'paging_towers_data', 'radio_towers_data', 'tv_contour_data']):        \n",
    "        # Filter columns based on words_to_search\n",
    "        filtered_df = df[[col for col in df.columns if any(word in col for word in words_to_search)]].copy()\n",
    "        filtered_df.index = df.index\n",
    "        filtered_df = filtered_df.to_crs(crs=4269)\n",
    "\n",
    "        # Convert all string columns to lowercase\n",
    "        str_columns = filtered_df.select_dtypes(include=['object']).columns\n",
    "        for col in str_columns:\n",
    "            filtered_df[col] = filtered_df[col].str.lower()\n",
    "\n",
    "        # Perform the spatial join\n",
    "        joined_df = gpd.sjoin(filtered_df, filtered_ca_boundaries, how='right', predicate='within')\n",
    "        \n",
    "        # Ensure necessary columns are retained\n",
    "        necessary_columns = ['Callsign', 'CALLSIGN', 'ID', 'UniqSysID', 'LocCounty', 'USCB_COUNTYFP']\n",
    "        joined_df = joined_df[[col for col in necessary_columns if col in joined_df.columns]].copy()\n",
    "                \n",
    "        # Use 'UniqSysID' if it exists, otherwise use 'OBJECTID'\n",
    "        if 'UniqSysID' in joined_df.columns:\n",
    "            id_column = 'UniqSysID'\n",
    "        elif 'Callsign' in joined_df.columns:\n",
    "            id_column = 'Callsign'\n",
    "        elif 'CALLSIGN' in joined_df.columns:\n",
    "            id_column = 'CALLSIGN'\n",
    "        elif 'ID' in joined_df.columns:\n",
    "            id_column = 'ID'\n",
    "        else:\n",
    "            raise ValueError(f\"Neither 'UniqSysID' nor 'OBJECTID' found in the DataFrame for {df_name}\")\n",
    "        \n",
    "        # Determine county_id\n",
    "        if 'LocCounty' in joined_df.columns:\n",
    "            joined_df = joined_df.rename(columns={'LocCounty':'county'})\n",
    "            county_id = 'county'\n",
    "        elif 'USCB_COUNTYFP' in joined_df.columns:\n",
    "            joined_df = joined_df.rename(columns={'USCB_COUNTYFP':'countyfp'})\n",
    "            county_id = 'countyfp'\n",
    "        else:\n",
    "            raise ValueError(f\"Neither 'LocCounty' nor 'USCB_COUNTYFP' found in the DataFrame for {df_name}\")\n",
    "\n",
    "        # Remove duplicates based on county and the chosen ID column\n",
    "        unique_communication_structures_county = joined_df.drop_duplicates(subset=[county_id, id_column])\n",
    "\n",
    "        county_power_counts = unique_communication_structures_county.groupby(county_id)[id_column].apply(lambda x: x.notnull().sum()).reset_index(name=f\"{df_name}_count\")\n",
    "        \n",
    "        # Merge with ca_tract_county\n",
    "        merged_df = pd.merge(ca_tract_county, county_power_counts, on=county_id, how='left')\n",
    "        \n",
    "        county_df_name = f\"county_count_{df_name}\"\n",
    "        \n",
    "        county_count_dfs[county_df_name] = merged_df\n",
    "        \n",
    "        # Dynamically create global variables\n",
    "        globals()[county_df_name] = merged_df\n",
    "        \n",
    "        print(county_df_name)\n",
    "    \n",
    "    return county_count_dfs\n",
    "\n",
    "county_count_dfs = filter_and_spatial_join(communication_infrastructure_data, filtered_ca_boundaries, words_to_search, ca_tract_county)"
   ]
  },
  {
   "cell_type": "markdown",
   "metadata": {},
   "source": [
    "### Call function to identify counts per metric per county"
   ]
  },
  {
   "cell_type": "code",
   "execution_count": null,
   "metadata": {
    "execution": {
     "iopub.execute_input": "2024-06-20T20:48:02.632619Z",
     "iopub.status.busy": "2024-06-20T20:48:02.632509Z",
     "iopub.status.idle": "2024-06-20T20:48:02.637737Z",
     "shell.execute_reply": "2024-06-20T20:48:02.637480Z",
     "shell.execute_reply.started": "2024-06-20T20:48:02.632609Z"
    }
   },
   "outputs": [],
   "source": [
    "data_stats_check(county_count_cellular_towers_data, 'cellular_towers_data_count')\n",
    "data_stats_check(county_count_microwave_towers_data, 'microwave_towers_data_count')\n",
    "data_stats_check(county_count_mobile_towers_data, 'mobile_towers_data_count')\n",
    "data_stats_check(county_count_paging_towers_data, 'paging_towers_data_count')\n",
    "data_stats_check(county_count_radio_towers_data, 'radio_towers_data_count')\n",
    "data_stats_check(county_count_tv_contour_data, 'tv_contour_data_count')"
   ]
  },
  {
   "cell_type": "markdown",
   "metadata": {},
   "source": [
    "### Take a look at LA and its microwave counts to ensure all tracts within a county have the same values"
   ]
  },
  {
   "cell_type": "code",
   "execution_count": null,
   "metadata": {
    "execution": {
     "iopub.execute_input": "2024-06-20T20:49:59.235248Z",
     "iopub.status.busy": "2024-06-20T20:49:59.234355Z",
     "iopub.status.idle": "2024-06-20T20:49:59.260431Z",
     "shell.execute_reply": "2024-06-20T20:49:59.259747Z",
     "shell.execute_reply.started": "2024-06-20T20:49:59.235177Z"
    }
   },
   "outputs": [],
   "source": [
    "county_count_microwave_towers_data.loc[county_count_microwave_towers_data.county=='los angeles']"
   ]
  },
  {
   "cell_type": "markdown",
   "metadata": {},
   "source": [
    "### Save df's as csv's for function call below"
   ]
  },
  {
   "cell_type": "code",
   "execution_count": 17,
   "metadata": {
    "execution": {
     "iopub.execute_input": "2024-06-20T20:50:05.777346Z",
     "iopub.status.busy": "2024-06-20T20:50:05.776610Z",
     "iopub.status.idle": "2024-06-20T20:50:05.866687Z",
     "shell.execute_reply": "2024-06-20T20:50:05.866166Z",
     "shell.execute_reply.started": "2024-06-20T20:50:05.777311Z"
    }
   },
   "outputs": [],
   "source": [
    "county_count_cellular_towers_data.to_csv('built_cellular_towers_metric.csv', index=False)\n",
    "county_count_microwave_towers_data.to_csv('built_microwave_towers_metric.csv', index=False)\n",
    "county_count_mobile_towers_data.to_csv('built_mobile_towers_metric.csv', index=False)\n",
    "county_count_paging_towers_data.to_csv('built_paging_towers_metric.csv', index=False)\n",
    "county_count_radio_towers_data.to_csv('built_radio_towers_metric.csv', index=False)\n",
    "county_count_tv_contour_data.to_csv('built_tv_contours_metric.csv', index=False)"
   ]
  },
  {
   "cell_type": "markdown",
   "metadata": {},
   "source": [
    "### Metric calculation for broadband internet metric"
   ]
  },
  {
   "cell_type": "code",
   "execution_count": null,
   "metadata": {
    "execution": {
     "iopub.execute_input": "2024-06-20T20:50:09.017636Z",
     "iopub.status.busy": "2024-06-20T20:50:09.016879Z",
     "iopub.status.idle": "2024-06-20T20:50:32.835850Z",
     "shell.execute_reply": "2024-06-20T20:50:32.835485Z",
     "shell.execute_reply.started": "2024-06-20T20:50:09.017598Z"
    }
   },
   "outputs": [],
   "source": [
    "# pull csv from aws\n",
    "bucket_name = 'ca-climate-index'\n",
    "aws_dir = '2b_reproject/built_environment/communication_infrastructure/ca_public_utilities_commission/'\n",
    "\n",
    "pull_gpkg_from_directory(bucket_name, aws_dir)"
   ]
  },
  {
   "cell_type": "code",
   "execution_count": 19,
   "metadata": {
    "execution": {
     "iopub.execute_input": "2024-06-20T20:50:38.684016Z",
     "iopub.status.busy": "2024-06-20T20:50:38.683148Z",
     "iopub.status.idle": "2024-06-20T20:51:52.031507Z",
     "shell.execute_reply": "2024-06-20T20:51:52.030946Z",
     "shell.execute_reply.started": "2024-06-20T20:50:38.683978Z"
    }
   },
   "outputs": [],
   "source": [
    "broadband_internet_data = gpd.read_file('built_cpuc_internet.gpkg')\n",
    "broadband_internet_data = broadband_internet_data.to_crs(crs=4269) "
   ]
  },
  {
   "cell_type": "code",
   "execution_count": null,
   "metadata": {
    "execution": {
     "iopub.execute_input": "2024-06-20T20:51:52.032631Z",
     "iopub.status.busy": "2024-06-20T20:51:52.032504Z",
     "iopub.status.idle": "2024-06-20T20:51:52.035517Z",
     "shell.execute_reply": "2024-06-20T20:51:52.035183Z",
     "shell.execute_reply.started": "2024-06-20T20:51:52.032620Z"
    }
   },
   "outputs": [],
   "source": [
    "broadband_internet_data.columns"
   ]
  },
  {
   "cell_type": "code",
   "execution_count": null,
   "metadata": {
    "execution": {
     "iopub.execute_input": "2024-06-20T20:51:52.036060Z",
     "iopub.status.busy": "2024-06-20T20:51:52.035956Z",
     "iopub.status.idle": "2024-06-20T20:52:33.452025Z",
     "shell.execute_reply": "2024-06-20T20:52:33.451628Z",
     "shell.execute_reply.started": "2024-06-20T20:51:52.036051Z"
    }
   },
   "outputs": [],
   "source": [
    "broadband_internet_data.plot()"
   ]
  },
  {
   "cell_type": "markdown",
   "metadata": {},
   "source": [
    "### Select desired columns, rename and adjust them"
   ]
  },
  {
   "cell_type": "code",
   "execution_count": null,
   "metadata": {
    "execution": {
     "iopub.execute_input": "2024-06-20T20:52:33.453278Z",
     "iopub.status.busy": "2024-06-20T20:52:33.453048Z",
     "iopub.status.idle": "2024-06-20T20:52:33.633501Z",
     "shell.execute_reply": "2024-06-20T20:52:33.633165Z",
     "shell.execute_reply.started": "2024-06-20T20:52:33.453267Z"
    }
   },
   "outputs": [],
   "source": [
    "columns_keep = ['USCB_GEOID', 'MaxAdDn', 'geometry']\n",
    "filtered_broadband_internet = broadband_internet_data[columns_keep].copy()\n",
    "filtered_broadband_internet = filtered_broadband_internet.drop_duplicates(subset=['USCB_GEOID', 'MaxAdDn'])\n",
    "filtered_broadband_internet = filtered_broadband_internet.rename(columns={'USCB_GEOID':'tract'})\n",
    "filtered_broadband_internet['tract'] = filtered_broadband_internet['tract'].str.lstrip('0')\n",
    "\n",
    "filtered_broadband_internet"
   ]
  },
  {
   "cell_type": "markdown",
   "metadata": {},
   "source": [
    "### Take a look at a specified tract and see its broadband download entries"
   ]
  },
  {
   "cell_type": "code",
   "execution_count": null,
   "metadata": {
    "execution": {
     "iopub.execute_input": "2024-06-20T20:52:33.634122Z",
     "iopub.status.busy": "2024-06-20T20:52:33.634008Z",
     "iopub.status.idle": "2024-06-20T20:52:33.644631Z",
     "shell.execute_reply": "2024-06-20T20:52:33.643980Z",
     "shell.execute_reply.started": "2024-06-20T20:52:33.634113Z"
    }
   },
   "outputs": [],
   "source": [
    "filtered_rows = filtered_broadband_internet[filtered_broadband_internet['tract'] == '6059001304']\n",
    "filtered_rows"
   ]
  },
  {
   "cell_type": "markdown",
   "metadata": {},
   "source": [
    "### Filter for download speed below 25mb/s per Cal-CRAI metric"
   ]
  },
  {
   "cell_type": "code",
   "execution_count": null,
   "metadata": {
    "execution": {
     "iopub.execute_input": "2024-06-20T20:52:33.646092Z",
     "iopub.status.busy": "2024-06-20T20:52:33.645893Z",
     "iopub.status.idle": "2024-06-20T20:52:33.659004Z",
     "shell.execute_reply": "2024-06-20T20:52:33.658434Z",
     "shell.execute_reply.started": "2024-06-20T20:52:33.646081Z"
    }
   },
   "outputs": [],
   "source": [
    "low_broadband_download = filtered_broadband_internet[filtered_broadband_internet['MaxAdDn'] < 25]\n",
    "low_broadband_download"
   ]
  },
  {
   "cell_type": "code",
   "execution_count": 25,
   "metadata": {
    "execution": {
     "iopub.execute_input": "2024-06-20T20:52:33.660062Z",
     "iopub.status.busy": "2024-06-20T20:52:33.659821Z",
     "iopub.status.idle": "2024-06-20T20:52:34.465791Z",
     "shell.execute_reply": "2024-06-20T20:52:34.465381Z",
     "shell.execute_reply.started": "2024-06-20T20:52:33.660048Z"
    }
   },
   "outputs": [],
   "source": [
    "#low_broadband_download.plot()"
   ]
  },
  {
   "cell_type": "markdown",
   "metadata": {},
   "source": [
    "### Spatially join the low broadband internet data with our California county data\n",
    "* add a flag for any tract that contains <25 download speeds"
   ]
  },
  {
   "cell_type": "code",
   "execution_count": null,
   "metadata": {
    "execution": {
     "iopub.execute_input": "2024-06-20T20:52:34.467708Z",
     "iopub.status.busy": "2024-06-20T20:52:34.467542Z",
     "iopub.status.idle": "2024-06-20T20:52:34.757020Z",
     "shell.execute_reply": "2024-06-20T20:52:34.756702Z",
     "shell.execute_reply.started": "2024-06-20T20:52:34.467689Z"
    }
   },
   "outputs": [],
   "source": [
    "low_broadband_download = low_broadband_download.drop(columns='tract')\n",
    "joined_df = gpd.sjoin(low_broadband_download, filtered_ca_boundaries, how='right', predicate='within')\n",
    "joined_df= joined_df.drop_duplicates(subset='tract')\n",
    "joined_df['low_internet_download_flag'] = np.where(joined_df['MaxAdDn'].notna(), 1, 0)\n",
    "joined_df = joined_df.drop(columns=['index_left', 'geometry'])\n",
    "\n",
    "joined_df"
   ]
  },
  {
   "cell_type": "markdown",
   "metadata": {},
   "source": [
    "### Cleanup the final dataframe to hold only relevant columns"
   ]
  },
  {
   "cell_type": "code",
   "execution_count": null,
   "metadata": {
    "execution": {
     "iopub.execute_input": "2024-06-20T20:52:34.757663Z",
     "iopub.status.busy": "2024-06-20T20:52:34.757565Z",
     "iopub.status.idle": "2024-06-20T20:52:34.762726Z",
     "shell.execute_reply": "2024-06-20T20:52:34.762401Z",
     "shell.execute_reply.started": "2024-06-20T20:52:34.757654Z"
    }
   },
   "outputs": [],
   "source": [
    "# Define the new order of columns\n",
    "new_column_order = ['tract', 'MaxAdDn', 'low_internet_download_flag']\n",
    "\n",
    "# Reassign the DataFrame with the new order of columns\n",
    "low_internet_merged = joined_df[new_column_order]\n",
    "low_internet_merged"
   ]
  },
  {
   "cell_type": "markdown",
   "metadata": {},
   "source": [
    "### Take a look at specified tracts to cross reference with the original broadband data"
   ]
  },
  {
   "cell_type": "code",
   "execution_count": null,
   "metadata": {
    "execution": {
     "iopub.execute_input": "2024-06-20T20:52:34.763304Z",
     "iopub.status.busy": "2024-06-20T20:52:34.763207Z",
     "iopub.status.idle": "2024-06-20T20:52:34.768035Z",
     "shell.execute_reply": "2024-06-20T20:52:34.767727Z",
     "shell.execute_reply.started": "2024-06-20T20:52:34.763295Z"
    }
   },
   "outputs": [],
   "source": [
    "filtered_rows = joined_df[joined_df['tract'] == '6059001304']\n",
    "filtered_rows"
   ]
  },
  {
   "cell_type": "code",
   "execution_count": 29,
   "metadata": {
    "execution": {
     "iopub.execute_input": "2024-06-20T20:52:34.768649Z",
     "iopub.status.busy": "2024-06-20T20:52:34.768548Z",
     "iopub.status.idle": "2024-06-20T20:52:34.779270Z",
     "shell.execute_reply": "2024-06-20T20:52:34.778886Z",
     "shell.execute_reply.started": "2024-06-20T20:52:34.768640Z"
    }
   },
   "outputs": [],
   "source": [
    "low_internet_merged.to_csv('built_broadband_internet_metric.csv', index=False)"
   ]
  },
  {
   "cell_type": "markdown",
   "metadata": {},
   "source": [
    "### Function Call"
   ]
  },
  {
   "cell_type": "code",
   "execution_count": 30,
   "metadata": {
    "execution": {
     "iopub.execute_input": "2024-06-20T20:53:22.824753Z",
     "iopub.status.busy": "2024-06-20T20:53:22.823995Z",
     "iopub.status.idle": "2024-06-20T20:53:22.837409Z",
     "shell.execute_reply": "2024-06-20T20:53:22.835756Z",
     "shell.execute_reply.started": "2024-06-20T20:53:22.824714Z"
    }
   },
   "outputs": [],
   "source": [
    "@append_metadata\n",
    "def communication_infrastructure_upload(input_csv, export=False, varname=''):\n",
    "    '''\n",
    "    Uploads prepared metric calculations within the communication infrastructure to the S3 bucket. The metrics are:\n",
    "    - low broadband speeds of <25 mpbs download\n",
    "    - # of tv contour towers per county\n",
    "    - # of microwave towers per county\n",
    "    - # of radio towers per county\n",
    "    - # of cellular towers per county\n",
    "    - # of paging towers per county\n",
    "    - # of mobile towers per county\n",
    "\n",
    "    Data for this metric was sourced from Homeland Infrastructure Foundation-Level Data at:\n",
    "    https://hifld-geoplatform.opendata.arcgis.com/ \n",
    "    \n",
    "    and from the California Public Utilities Commission at https://www.cpuc.ca.gov/industries-and-topics/internet-and-phone/california-advanced-services-fund/project-development-resources---data-and-maps.\n",
    "\n",
    "    Methods\n",
    "    -------\n",
    "    All data were reprojected to Cal-CRAI's standardized coordinate reference system (CRS) 4269.\n",
    "    Data was then spatially joined to California 2021 Tiger census tract data.\n",
    "    Columns relevent per metric were maintained and summed to calculate total towers per county.\n",
    "    For the broadband speed metric, a flag was used to indicate tracts with low internet speeds.\n",
    "    Data was then merged back to 2021 census tract data so each CA tract has a metric value.\n",
    "    \n",
    "    Parameters\n",
    "    ----------\n",
    "    input_csv: string\n",
    "        csv communication metric data \n",
    "    export: True/False boolean\n",
    "        False = will not upload resulting df containing CAL CRAI communication metric to AWS\n",
    "        True = will upload resulting df containing CAL CRAI communication facility metric to AWS\n",
    "\n",
    "    Script\n",
    "    ------\n",
    "    built_communication_infrastructure.ipynb\n",
    "\n",
    "    Note:\n",
    "    This function assumes users have configured the AWS CLI such that their access key / secret key pair are stored in ~/.aws/credentials.\n",
    "    See https://docs.aws.amazon.com/cli/latest/userguide/getting-started-install.html for guidance.\n",
    "    '''\n",
    "    print('Data transformation: data cleaned by isolating and renaming relevant columns.')\n",
    "    print('Data transformation: data was spatially joined to California census tract and county data.')\n",
    "    print('Data transformation: an additional column was calculated by summing or flagging a specified column per county.')\n",
    " \n",
    "    if export == True:\n",
    "        bucket_name = 'ca-climate-index'\n",
    "        directory = '3_fair_data/index_data'\n",
    "        export_filename = [input_csv]\n",
    "        upload_csv_aws(export_filename, bucket_name, directory)\n",
    "\n",
    "    if export == False:\n",
    "        print(f'{input_csv} uploaded to AWS.')\n",
    " \n",
    "    if os.path.exists(input_csv):\n",
    "        os.remove(input_csv)"
   ]
  },
  {
   "cell_type": "code",
   "execution_count": 31,
   "metadata": {
    "execution": {
     "iopub.execute_input": "2024-06-20T20:53:26.402250Z",
     "iopub.status.busy": "2024-06-20T20:53:26.401527Z",
     "iopub.status.idle": "2024-06-20T20:53:26.413635Z",
     "shell.execute_reply": "2024-06-20T20:53:26.412496Z",
     "shell.execute_reply.started": "2024-06-20T20:53:26.402212Z"
    }
   },
   "outputs": [],
   "source": [
    "input_csv = [\n",
    "            'built_cellular_towers_metric.csv',\n",
    "            'built_radio_towers_metric.csv',\n",
    "            'built_mobile_towers_metric.csv',\n",
    "            'built_paging_towers_metric.csv',\n",
    "            'built_tv_contours_metric.csv',\n",
    "            'built_microwave_towers_metric.csv',\n",
    "            'built_broadband_internet_metric.csv'\n",
    "]\n",
    "\n",
    "varnames = [\n",
    "            'built_hifld_cellular_towers',\n",
    "            'built_hifld_radio_towers',\n",
    "            'built_hifld_mobile_towers',\n",
    "            'built_hifld_paging_towers',\n",
    "            'built_hifld_tv_contour',\n",
    "            'built_hifld_microwave_towers',\n",
    "            'built_cpuc_internet'\n",
    "]\n",
    "\n",
    "for csv, var in zip(input_csv, varnames):\n",
    "    communication_infrastructure_upload(csv, export=True, varname='test')"
   ]
  }
 ],
 "metadata": {
  "kernelspec": {
   "display_name": "Python 3 (ipykernel)",
   "language": "python",
   "name": "python3"
  },
  "language_info": {
   "codemirror_mode": {
    "name": "ipython",
    "version": 3
   },
   "file_extension": ".py",
   "mimetype": "text/x-python",
   "name": "python",
   "nbconvert_exporter": "python",
   "pygments_lexer": "ipython3",
   "version": "3.9.18"
  }
 },
 "nbformat": 4,
 "nbformat_minor": 4
}
