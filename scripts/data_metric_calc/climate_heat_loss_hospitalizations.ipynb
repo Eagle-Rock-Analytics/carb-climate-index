{
 "cells": [
  {
   "cell_type": "markdown",
   "metadata": {},
   "source": [
    "## Cal-CRAI Metric Calculation\n",
    "Domain: Climate Risks \\\n",
    "Indicator: Heat Loss\n",
    "\n",
    "This notebook calculates one metric, sourced from Public Health Institute: Tracking California:\n",
    "* Metric 1: Average number of age adjusted heat related hospitalizations per 10,000"
   ]
  },
  {
   "cell_type": "code",
   "execution_count": 1,
   "metadata": {},
   "outputs": [],
   "source": [
    "import os\n",
    "import sys\n",
    "import pandas as pd\n",
    "import io\n",
    "import numpy as np\n",
    "import geopandas as gpd\n",
    "from shapely.geometry import Point\n",
    "\n",
    "sys.path.append(os.path.expanduser('../../'))\n",
    "from scripts.utils.write_metadata import (\n",
    "    append_metadata\n",
    ")\n",
    "from scripts.utils.file_helpers import (\n",
    "    pull_csv_from_directory, upload_csv_aws\n",
    ") \n",
    "pd.set_option('display.max_columns', None)"
   ]
  },
  {
   "cell_type": "code",
   "execution_count": null,
   "metadata": {},
   "outputs": [],
   "source": [
    "bucket_name = 'ca-climate-index'\n",
    "aws_dir = '1_pull_data/climate_risk/extreme_heat/loss/public_health_institute/emergency_department_visits/'\n",
    "folder = 'csv_folder'\n",
    "\n",
    "pull_csv_from_directory(bucket_name, aws_dir, folder, search_zipped=False)"
   ]
  },
  {
   "cell_type": "code",
   "execution_count": 3,
   "metadata": {},
   "outputs": [],
   "source": [
    "heat_dept_visits_data = pd.read_csv(r'csv_folder/heat_related_illness - emergency department visits.csv')"
   ]
  },
  {
   "cell_type": "code",
   "execution_count": null,
   "metadata": {},
   "outputs": [],
   "source": [
    "# rename columns, eliminate statewide data, and make all strings lowercase\n",
    "heat_dept_visits_cleaned = heat_dept_visits_data.drop(columns={'Lower\\n95% Limit', 'Upper\\n95% Limit', 'Total'})\n",
    "heat_dept_visits_cleaned = heat_dept_visits_cleaned.rename(columns={'Age-adjusted\\nrate per 100,000': 'age_adjust_per_100000'})\n",
    "heat_dept_visits_cleaned = heat_dept_visits_cleaned[heat_dept_visits_cleaned['County'] != 'California/Statewide']\n",
    "heat_dept_visits_cleaned = heat_dept_visits_cleaned.applymap(lambda s: s.lower() if type(s) == str else s)\n",
    "heat_dept_visits_cleaned.columns = heat_dept_visits_cleaned.columns.str.lower()"
   ]
  },
  {
   "cell_type": "code",
   "execution_count": null,
   "metadata": {},
   "outputs": [],
   "source": [
    "heat_dept_visits_cleaned"
   ]
  },
  {
   "cell_type": "code",
   "execution_count": null,
   "metadata": {},
   "outputs": [],
   "source": [
    "# checking results below with Alameda county\n",
    "alameda = heat_dept_visits_cleaned[heat_dept_visits_cleaned['county'] == 'alameda']\n",
    "alameda"
   ]
  },
  {
   "cell_type": "code",
   "execution_count": null,
   "metadata": {},
   "outputs": [],
   "source": [
    "# group the data by county and find the average of age adjusted heat hospitalizations column\n",
    "heat_dept_visits_grouped = heat_dept_visits_cleaned.groupby(['county']).agg({\n",
    "    'age_adjust_per_100000' : 'mean'\n",
    "}).reset_index()\n",
    "\n",
    "heat_dept_visits_grouped = heat_dept_visits_grouped.rename(columns={'age_adjust_per_100000': 'avg_age_adjust_per_100000'})\n",
    "\n",
    "# multiply results by 10 to go from per 100,000 to 10,000\n",
    "heat_dept_visits_grouped['avg_age_adjust_heat_hospitalizations_per_10000'] = heat_dept_visits_grouped['avg_age_adjust_per_100000'] * 10\n",
    "\n",
    "# drop unnecessary columns\n",
    "heat_dept_visits_grouped = heat_dept_visits_grouped.drop(columns={'avg_age_adjust_per_100000'})\n",
    "\n",
    "print(len(heat_dept_visits_grouped))\n",
    "heat_dept_visits_grouped.head(15)"
   ]
  },
  {
   "cell_type": "code",
   "execution_count": null,
   "metadata": {},
   "outputs": [],
   "source": [
    "# read in CA census tiger file\n",
    "ca_tract_county = \"s3://ca-climate-index/0_map_data/ca_tracts_county.csv\"\n",
    "ca_tract_county = gpd.read_file(ca_tract_county)\n",
    "ca_tract_county = ca_tract_county.drop(columns={'field_1', 'geometry'})\n",
    "ca_tract_county.columns = ca_tract_county.columns.str.lower()\n",
    "ca_tract_county = ca_tract_county.applymap(lambda s: s.lower() if type(s) == str else s)\n",
    "\n",
    "ca_tract_county"
   ]
  },
  {
   "cell_type": "code",
   "execution_count": null,
   "metadata": {},
   "outputs": [],
   "source": [
    "# merge data with CA county/tracts\n",
    "heat_dept_visits_merge = pd.merge(ca_tract_county, heat_dept_visits_grouped, how='left', on='county')\n",
    "heat_dept_visits_merge"
   ]
  },
  {
   "cell_type": "code",
   "execution_count": 10,
   "metadata": {},
   "outputs": [],
   "source": [
    "heat_dept_visits_merge.to_csv('climate_heat_hospitalizations_metric.csv', index=False)"
   ]
  },
  {
   "cell_type": "markdown",
   "metadata": {},
   "source": [
    "## Function Call"
   ]
  },
  {
   "cell_type": "code",
   "execution_count": 11,
   "metadata": {},
   "outputs": [],
   "source": [
    "@append_metadata\n",
    "def heat_hospitalizations_upload(input_csv, export=False, varname=''):\n",
    "    '''\n",
    "    Uploads the heat loss metric to the S3 bucket. The metric is:\n",
    "    \n",
    "    * average number of age adjusted heat related hospitalizations per 10,000\n",
    "    \n",
    "    Data for this metric was sourced Public Health Institute - Tracking California:\n",
    "    https://www.phi.org/our-work/programs/tracking-california/\n",
    "\n",
    "    Methods\n",
    "    -------\n",
    "    Relevant columns were isolated and renamed.\n",
    "    California total rows were ommitted.\n",
    "    Data was grouped by county and had its heat hospitalizations averaged.\n",
    "    Values were multipled by 10 to get our per 10,000 portion of the metric.\n",
    "    Data was merged to California census tract data.\n",
    "    \n",
    "    Parameters\n",
    "    ----------\n",
    "    input_csv: string\n",
    "        csv heat loss data \n",
    "    export: True/False boolean\n",
    "        False = will not upload resulting df containing CAL CRAI heat loss metrics to AWS\n",
    "        True = will upload resulting df containing CAL CRAI heat loss metrics to AWS\n",
    "\n",
    "    Script\n",
    "    ------\n",
    "    climate_heat_loss_hospitalizations.ipynb\n",
    "\n",
    "    Note:\n",
    "    This function assumes users have configured the AWS CLI such that their access key / secret key pair are stored in ~/.aws/credentials.\n",
    "    See https://docs.aws.amazon.com/cli/latest/userguide/getting-started-install.html for guidance.\n",
    "    '''\n",
    "    print('Data transformation: relevant columns were isolated and renamed')\n",
    "    print('Data transformation: data was grouped by county and averaged.')\n",
    "    print('Data transformation: data was merged with California census tracts.') \n",
    " \n",
    "    if export == True:\n",
    "        bucket_name = 'ca-climate-index'\n",
    "        directory = '3_fair_data/index_data'\n",
    "        export_filename = [input_csv]\n",
    "        upload_csv_aws(export_filename, bucket_name, directory)\n",
    "\n",
    "    if export == False:\n",
    "        print(f'{input_csv} uploaded to AWS.')\n",
    " \n",
    "    #if os.path.exists(input_csv):\n",
    "    #   os.remove(input_csv)"
   ]
  },
  {
   "cell_type": "code",
   "execution_count": 13,
   "metadata": {},
   "outputs": [],
   "source": [
    "input_csv = 'climate_heat_hospitalizations_metric.csv'\n",
    "\n",
    "var = 'climate_phi_heat_emergency_dept_visits'\n",
    "\n",
    "# Process the data and export\n",
    "heat_hospitalizations_upload(input_csv, export=False, varname=var)\n"
   ]
  }
 ],
 "metadata": {
  "kernelspec": {
   "display_name": "carb",
   "language": "python",
   "name": "python3"
  },
  "language_info": {
   "codemirror_mode": {
    "name": "ipython",
    "version": 3
   },
   "file_extension": ".py",
   "mimetype": "text/x-python",
   "name": "python",
   "nbconvert_exporter": "python",
   "pygments_lexer": "ipython3",
   "version": "3.9.18"
  }
 },
 "nbformat": 4,
 "nbformat_minor": 2
}
