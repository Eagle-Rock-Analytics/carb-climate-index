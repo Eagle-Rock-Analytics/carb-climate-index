{
 "cells": [
  {
   "cell_type": "markdown",
   "metadata": {},
   "source": [
    "# Cal-CRAI Metric Calculation for: Natural Systems / Air Quality\n",
    "This notebook calculates one metric sourced from the Environmental Protection Agency\n",
    "\n",
    "* Percentage of days with unhealthy or worse air quality days per county between 1980-2022"
   ]
  },
  {
   "cell_type": "code",
   "execution_count": 1,
   "metadata": {
    "execution": {
     "iopub.execute_input": "2024-07-31T21:56:54.337609Z",
     "iopub.status.busy": "2024-07-31T21:56:54.336670Z",
     "iopub.status.idle": "2024-07-31T21:56:55.085772Z",
     "shell.execute_reply": "2024-07-31T21:56:55.085290Z",
     "shell.execute_reply.started": "2024-07-31T21:56:54.337549Z"
    }
   },
   "outputs": [],
   "source": [
    "import pandas as pd\n",
    "import os\n",
    "import sys\n",
    "import geopandas as gpd\n",
    "\n",
    "# suppress pandas purely educational warnings\n",
    "from warnings import simplefilter\n",
    "simplefilter(action=\"ignore\", category=pd.errors.PerformanceWarning)\n",
    "\n",
    "sys.path.append(os.path.expanduser('../../'))\n",
    "from scripts.utils.file_helpers import pull_csv_from_directory, upload_csv_aws\n",
    "from scripts.utils.write_metadata import append_metadata"
   ]
  },
  {
   "cell_type": "code",
   "execution_count": null,
   "metadata": {
    "execution": {
     "iopub.execute_input": "2024-07-31T21:56:55.087785Z",
     "iopub.status.busy": "2024-07-31T21:56:55.087321Z",
     "iopub.status.idle": "2024-07-31T21:56:56.003378Z",
     "shell.execute_reply": "2024-07-31T21:56:56.002670Z",
     "shell.execute_reply.started": "2024-07-31T21:56:55.087770Z"
    }
   },
   "outputs": [],
   "source": [
    "# pull csv from aws\n",
    "bucket_name = 'ca-climate-index'\n",
    "aws_dir = '1_pull_data/natural_systems/ecosystem_condition/epa/'\n",
    "\n",
    "pull_csv_from_directory(bucket_name, aws_dir, search_zipped=False)"
   ]
  },
  {
   "cell_type": "code",
   "execution_count": null,
   "metadata": {
    "execution": {
     "iopub.execute_input": "2024-07-31T21:56:56.004630Z",
     "iopub.status.busy": "2024-07-31T21:56:56.004421Z",
     "iopub.status.idle": "2024-07-31T21:56:56.014365Z",
     "shell.execute_reply": "2024-07-31T21:56:56.013837Z",
     "shell.execute_reply.started": "2024-07-31T21:56:56.004610Z"
    }
   },
   "outputs": [],
   "source": [
    "# read in air quality data (already for state of CA)\n",
    "air_quality = pd.read_csv('natural_epa_air_quality.csv')\n",
    "print(len(air_quality))\n",
    "air_quality.head(5)\n",
    "os.remove('natural_epa_air_quality.csv')"
   ]
  },
  {
   "cell_type": "code",
   "execution_count": null,
   "metadata": {
    "execution": {
     "iopub.execute_input": "2024-07-31T21:56:56.015485Z",
     "iopub.status.busy": "2024-07-31T21:56:56.015169Z",
     "iopub.status.idle": "2024-07-31T21:56:56.030647Z",
     "shell.execute_reply": "2024-07-31T21:56:56.030130Z",
     "shell.execute_reply.started": "2024-07-31T21:56:56.015463Z"
    }
   },
   "outputs": [],
   "source": [
    "# drop duplicates, original dataset had a repeat year\n",
    "filtered_air_quality = air_quality.drop_duplicates(subset=['Year', 'County'])\n",
    "filtered_air_quality.head(5)"
   ]
  },
  {
   "cell_type": "code",
   "execution_count": null,
   "metadata": {
    "execution": {
     "iopub.execute_input": "2024-07-31T21:57:36.268969Z",
     "iopub.status.busy": "2024-07-31T21:57:36.268111Z",
     "iopub.status.idle": "2024-07-31T21:57:36.292160Z",
     "shell.execute_reply": "2024-07-31T21:57:36.290723Z",
     "shell.execute_reply.started": "2024-07-31T21:57:36.268919Z"
    }
   },
   "outputs": [],
   "source": [
    "# Create df that holds desired data variables\n",
    "columns_to_sum = ['Days with AQI', \n",
    "                    'Unhealthy for Sensitive Groups Days',\n",
    "                    'Unhealthy Days',\n",
    "                    'Very Unhealthy Days',\n",
    "                    'Hazardous Days']\n",
    "# Group data by county and sum desired columns for the temporal range of the dataset (1980-2022)\n",
    "ca_county_unhealthy_days = filtered_air_quality.groupby('County')[columns_to_sum].sum().reset_index()\n",
    "print(len(ca_county_unhealthy_days)) # confirmed, number of counties in CA\n",
    "ca_county_unhealthy_days.head(5)"
   ]
  },
  {
   "cell_type": "code",
   "execution_count": null,
   "metadata": {
    "execution": {
     "iopub.execute_input": "2024-07-31T21:57:38.423522Z",
     "iopub.status.busy": "2024-07-31T21:57:38.422722Z",
     "iopub.status.idle": "2024-07-31T21:57:38.443686Z",
     "shell.execute_reply": "2024-07-31T21:57:38.442658Z",
     "shell.execute_reply.started": "2024-07-31T21:57:38.423479Z"
    }
   },
   "outputs": [],
   "source": [
    "# Create new column counting total unhealthy air quality days\n",
    "ca_county_unhealthy_days['Total_Unhealthy_AQI_Days'] = (\n",
    "    ca_county_unhealthy_days['Unhealthy for Sensitive Groups Days'] + \n",
    "    ca_county_unhealthy_days['Unhealthy Days'] + \n",
    "    ca_county_unhealthy_days['Very Unhealthy Days'] + \n",
    "    ca_county_unhealthy_days['Hazardous Days']\n",
    ")\n",
    "ca_county_unhealthy_days.head(5)"
   ]
  },
  {
   "cell_type": "code",
   "execution_count": null,
   "metadata": {
    "execution": {
     "iopub.execute_input": "2024-07-31T22:00:04.158225Z",
     "iopub.status.busy": "2024-07-31T22:00:04.157241Z",
     "iopub.status.idle": "2024-07-31T22:00:04.184344Z",
     "shell.execute_reply": "2024-07-31T22:00:04.183524Z",
     "shell.execute_reply.started": "2024-07-31T22:00:04.158161Z"
    }
   },
   "outputs": [],
   "source": [
    "# Calculate CRI metric\n",
    "ca_county_unhealthy_days['unhealthy_to_total_AQI_days'] = (\n",
    "    ca_county_unhealthy_days['Total_Unhealthy_AQI_Days'] / ca_county_unhealthy_days['Days with AQI']\n",
    ")\n",
    "ca_county_unhealthy_days['percent_unhealthy_days'] = ca_county_unhealthy_days['unhealthy_to_total_AQI_days'] * 100 # into a percent\n",
    "ca_county_unhealthy_days.head(5)"
   ]
  },
  {
   "cell_type": "code",
   "execution_count": 8,
   "metadata": {
    "execution": {
     "iopub.execute_input": "2024-07-31T22:00:29.874450Z",
     "iopub.status.busy": "2024-07-31T22:00:29.873677Z",
     "iopub.status.idle": "2024-07-31T22:00:32.794643Z",
     "shell.execute_reply": "2024-07-31T22:00:32.794312Z",
     "shell.execute_reply.started": "2024-07-31T22:00:29.874412Z"
    }
   },
   "outputs": [],
   "source": [
    "# read in CA census tiger file\n",
    "ca_tract_county = \"s3://ca-climate-index/0_map_data/ca_tracts_county.csv\"\n",
    "ca_tract_county = gpd.read_file(ca_tract_county)\n",
    "ca_tract_county = ca_tract_county.drop(columns={'field_1', 'geometry', 'COUNTYFP'})\n",
    "ca_tract_county = ca_tract_county.rename(columns={'TRACT':'USCB_GEOID'})"
   ]
  },
  {
   "cell_type": "code",
   "execution_count": null,
   "metadata": {
    "execution": {
     "iopub.execute_input": "2024-07-31T22:00:32.796281Z",
     "iopub.status.busy": "2024-07-31T22:00:32.796023Z",
     "iopub.status.idle": "2024-07-31T22:00:32.800766Z",
     "shell.execute_reply": "2024-07-31T22:00:32.800475Z",
     "shell.execute_reply.started": "2024-07-31T22:00:32.796268Z"
    }
   },
   "outputs": [],
   "source": [
    "ca_tract_county"
   ]
  },
  {
   "cell_type": "code",
   "execution_count": null,
   "metadata": {
    "execution": {
     "iopub.execute_input": "2024-07-31T22:00:32.801323Z",
     "iopub.status.busy": "2024-07-31T22:00:32.801227Z",
     "iopub.status.idle": "2024-07-31T22:00:32.813893Z",
     "shell.execute_reply": "2024-07-31T22:00:32.813567Z",
     "shell.execute_reply.started": "2024-07-31T22:00:32.801314Z"
    }
   },
   "outputs": [],
   "source": [
    "ca_county_unhealthy_days_metric = pd.merge(ca_tract_county, ca_county_unhealthy_days, on='County', how='left')\n",
    "ca_county_unhealthy_days_metric"
   ]
  },
  {
   "cell_type": "code",
   "execution_count": null,
   "metadata": {},
   "outputs": [],
   "source": [
    "# Saving metric df to .csv file\n",
    "ca_county_unhealthy_days_metric.to_csv('natural_air_quality_metric.csv')"
   ]
  },
  {
   "cell_type": "markdown",
   "metadata": {},
   "source": [
    "### Function call for this metric"
   ]
  },
  {
   "cell_type": "code",
   "execution_count": null,
   "metadata": {},
   "outputs": [],
   "source": [
    "@append_metadata\n",
    "def calc_unhealthy_days(input_csv, export=False, varname=''):\n",
    "    '''\n",
    "    Calculates the total number of air quality days worse than 'Unhealthy for Sensitive Groups' per California County\n",
    "    between 1980-2022. Data is sourced from EPA's Air Quality Index Report: \n",
    "    https://www.epa.gov/outdoor-air-quality-data/air-quality-index-report\n",
    "\n",
    "    Methods\n",
    "    -------\n",
    "    Number of days rated at or worse than 'Unhealthy for Sensitive Groups' were summed per county for years 1980-2022.\n",
    "    Metric is calculated by dividing the number of unhealthy days by the total number of tested days.\n",
    "\n",
    "    Parameters\n",
    "    ----------\n",
    "    df: string\n",
    "        the dataframe containing the initial air quality data\n",
    "    export: True/False boolian\n",
    "        False = will not upload resulting df containing CAL CRAI air quality metric to AWS\n",
    "        True = will upload resulting df containing CAL CRAI air quality metric to AWS\n",
    "    export_filename: string\n",
    "        name of the csv file to be uploaded to AWS\n",
    "    \n",
    "    Script\n",
    "    ------\n",
    "    natural_air_quality.ipynb\n",
    "\n",
    "    Note:\n",
    "    This function assumes users have configured the AWS CLI such that their access key / secret key pair are \n",
    "    stored in ~/.aws/credentials.\n",
    "    See https://docs.aws.amazon.com/cli/latest/userguide/getting-started-install.html for guidance.\n",
    "    '''\n",
    "\n",
    "    if export == True:\n",
    "        bucket_name = 'ca-climate-index'\n",
    "        directory = '3_fair_data/index_data'\n",
    "        export_filename = [input_csv]\n",
    "        upload_csv_aws(export_filename, bucket_name, directory)\n",
    "\n",
    "    if export == False:\n",
    "        print(f'{input_csv} uploaded to AWS.')\n",
    " \n",
    "    '''if os.path.exists(input_csv):\n",
    "        os.remove(input_csv)'''"
   ]
  },
  {
   "cell_type": "code",
   "execution_count": null,
   "metadata": {},
   "outputs": [],
   "source": [
    "input_csv = 'natural_air_quality_metric.csv'\n",
    "varname = 'natural_epa_air_quality'\n",
    "\n",
    "calc_unhealthy_days(input_csv, export=True, varname='test')"
   ]
  }
 ],
 "metadata": {
  "kernelspec": {
   "display_name": "Python 3 (ipykernel)",
   "language": "python",
   "name": "python3"
  },
  "language_info": {
   "codemirror_mode": {
    "name": "ipython",
    "version": 3
   },
   "file_extension": ".py",
   "mimetype": "text/x-python",
   "name": "python",
   "nbconvert_exporter": "python",
   "pygments_lexer": "ipython3",
   "version": "3.9.18"
  }
 },
 "nbformat": 4,
 "nbformat_minor": 4
}
