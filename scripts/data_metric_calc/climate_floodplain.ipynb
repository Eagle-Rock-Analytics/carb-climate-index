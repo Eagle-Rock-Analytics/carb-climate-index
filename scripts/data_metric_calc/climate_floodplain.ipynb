{
 "cells": [
  {
   "cell_type": "markdown",
   "metadata": {},
   "source": [
    "## Cal-CRAI Metric Calculation\n",
    "Domain: Climate Risks \\\n",
    "Indicator: Flooding Exposure\n",
    "\n",
    "This notebook calculates one metric, sourced from Koordinates:\n",
    "* Metric 1: Percentage of a tract in a 100 year floodplain area"
   ]
  },
  {
   "cell_type": "code",
   "execution_count": 1,
   "metadata": {
    "execution": {
     "iopub.execute_input": "2024-08-23T19:35:06.431011Z",
     "iopub.status.busy": "2024-08-23T19:35:06.429763Z",
     "iopub.status.idle": "2024-08-23T19:35:07.181310Z",
     "shell.execute_reply": "2024-08-23T19:35:07.180815Z",
     "shell.execute_reply.started": "2024-08-23T19:35:06.430933Z"
    }
   },
   "outputs": [],
   "source": [
    "import pandas as pd\n",
    "import os\n",
    "import sys\n",
    "import boto3\n",
    "import io\n",
    "import geopandas as gpd\n",
    "\n",
    "# suppress pandas purely educational warnings\n",
    "from warnings import simplefilter\n",
    "simplefilter(action=\"ignore\", category=pd.errors.PerformanceWarning)\n",
    "\n",
    "sys.path.append(os.path.expanduser('../../'))\n",
    "from scripts.utils.file_helpers import pull_gpkg_from_directory, upload_csv_aws\n",
    "from scripts.utils.write_metadata import append_metadata"
   ]
  },
  {
   "cell_type": "code",
   "execution_count": 2,
   "metadata": {
    "execution": {
     "iopub.execute_input": "2024-08-23T19:35:07.182632Z",
     "iopub.status.busy": "2024-08-23T19:35:07.182346Z",
     "iopub.status.idle": "2024-08-23T19:35:07.185774Z",
     "shell.execute_reply": "2024-08-23T19:35:07.185444Z",
     "shell.execute_reply.started": "2024-08-23T19:35:07.182621Z"
    }
   },
   "outputs": [],
   "source": [
    "# make a list of paths, since this is actually 10 files\n",
    "def climate_floodplain_pull(\n",
    "    path='2b_reproject/climate_risk/flood/exposure/koordinates/climate_koordinates_floodplain.parquet.gzip'\n",
    "):\n",
    "    \"\"\" Build a list of shapefile URIs contained in S3 folder \"\"\"\n",
    "    # initiate empty list for s3 URIs\n",
    "    all_shapefiles = []\n",
    "    bucket_name = 'ca-climate-index' \n",
    "    # initiate s3 session\n",
    "    session = boto3.Session()\n",
    "    # use the session to get the resource\n",
    "    s3 = session.resource('s3')\n",
    "    my_bucket = s3.Bucket(bucket_name)\n",
    "    # iterate through directory\n",
    "    for obj in my_bucket.objects.filter(\n",
    "        Prefix=path):\n",
    "        all_shapefiles.append(obj.key)\n",
    "    return all_shapefiles"
   ]
  },
  {
   "cell_type": "code",
   "execution_count": null,
   "metadata": {
    "execution": {
     "iopub.execute_input": "2024-08-23T19:35:08.474673Z",
     "iopub.status.busy": "2024-08-23T19:35:08.473945Z",
     "iopub.status.idle": "2024-08-23T19:35:13.686864Z",
     "shell.execute_reply": "2024-08-23T19:35:13.686376Z",
     "shell.execute_reply.started": "2024-08-23T19:35:08.474639Z"
    }
   },
   "outputs": [],
   "source": [
    "# pull csv from aws\n",
    "bucket_name = 'ca-climate-index'\n",
    "aws_dir = '2b_reproject/climate_risk/flood/exposure/koordinates/'\n",
    "\n",
    "pull_gpkg_from_directory(bucket_name, aws_dir)"
   ]
  },
  {
   "cell_type": "code",
   "execution_count": 4,
   "metadata": {
    "execution": {
     "iopub.execute_input": "2024-08-23T19:35:13.688025Z",
     "iopub.status.busy": "2024-08-23T19:35:13.687907Z",
     "iopub.status.idle": "2024-08-23T19:35:13.935985Z",
     "shell.execute_reply": "2024-08-23T19:35:13.935448Z",
     "shell.execute_reply.started": "2024-08-23T19:35:13.688014Z"
    }
   },
   "outputs": [],
   "source": [
    "floodplain_data = gpd.read_file('climate_koordinates_floodplain.gpkg')"
   ]
  },
  {
   "cell_type": "code",
   "execution_count": null,
   "metadata": {
    "execution": {
     "iopub.execute_input": "2024-08-23T19:35:13.937208Z",
     "iopub.status.busy": "2024-08-23T19:35:13.936942Z",
     "iopub.status.idle": "2024-08-23T19:35:13.946962Z",
     "shell.execute_reply": "2024-08-23T19:35:13.946643Z",
     "shell.execute_reply.started": "2024-08-23T19:35:13.937195Z"
    }
   },
   "outputs": [],
   "source": [
    "floodplain_data.head()"
   ]
  },
  {
   "cell_type": "code",
   "execution_count": null,
   "metadata": {
    "execution": {
     "iopub.execute_input": "2024-08-23T19:35:16.999635Z",
     "iopub.status.busy": "2024-08-23T19:35:16.998902Z",
     "iopub.status.idle": "2024-08-23T19:35:17.011036Z",
     "shell.execute_reply": "2024-08-23T19:35:17.009901Z",
     "shell.execute_reply.started": "2024-08-23T19:35:16.999595Z"
    }
   },
   "outputs": [],
   "source": [
    "floodplain_data.FloodZone.unique()"
   ]
  },
  {
   "cell_type": "code",
   "execution_count": null,
   "metadata": {
    "execution": {
     "iopub.execute_input": "2024-08-23T19:35:17.516804Z",
     "iopub.status.busy": "2024-08-23T19:35:17.516075Z",
     "iopub.status.idle": "2024-08-23T19:35:19.781407Z",
     "shell.execute_reply": "2024-08-23T19:35:19.781055Z",
     "shell.execute_reply.started": "2024-08-23T19:35:17.516769Z"
    }
   },
   "outputs": [],
   "source": [
    "floodplain_data.plot()"
   ]
  },
  {
   "cell_type": "code",
   "execution_count": null,
   "metadata": {
    "execution": {
     "iopub.execute_input": "2024-08-23T19:35:33.604498Z",
     "iopub.status.busy": "2024-08-23T19:35:33.603328Z",
     "iopub.status.idle": "2024-08-23T19:35:33.908845Z",
     "shell.execute_reply": "2024-08-23T19:35:33.908485Z",
     "shell.execute_reply.started": "2024-08-23T19:35:33.604461Z"
    }
   },
   "outputs": [],
   "source": [
    "# selecting relevant columns for processing\n",
    "selected_columns = ['USCB_GEOID', 'FloodZone', 'geometry']\n",
    "\n",
    "floodplain_columns = floodplain_data[selected_columns]\n",
    "\n",
    "one_hundred_yr_floodplain_drop_duplicates = floodplain_columns.drop_duplicates(['geometry'], keep='first')\n",
    "one_hundred_yr_floodplain_drop_duplicates"
   ]
  },
  {
   "cell_type": "code",
   "execution_count": null,
   "metadata": {
    "execution": {
     "iopub.execute_input": "2024-08-23T19:35:34.727309Z",
     "iopub.status.busy": "2024-08-23T19:35:34.726464Z",
     "iopub.status.idle": "2024-08-23T19:35:35.015635Z",
     "shell.execute_reply": "2024-08-23T19:35:35.015240Z",
     "shell.execute_reply.started": "2024-08-23T19:35:34.727264Z"
    }
   },
   "outputs": [],
   "source": [
    "# Count the total number of duplicates in the geometry column\n",
    "duplicate_count = one_hundred_yr_floodplain_drop_duplicates.duplicated(subset=['geometry']).sum()\n",
    "\n",
    "print(f\"Number of dropped duplicate geometries: {duplicate_count}\")"
   ]
  },
  {
   "cell_type": "code",
   "execution_count": null,
   "metadata": {
    "execution": {
     "iopub.execute_input": "2024-08-23T19:36:21.102996Z",
     "iopub.status.busy": "2024-08-23T19:36:21.102230Z",
     "iopub.status.idle": "2024-08-23T19:36:21.195679Z",
     "shell.execute_reply": "2024-08-23T19:36:21.195233Z",
     "shell.execute_reply.started": "2024-08-23T19:36:21.102961Z"
    }
   },
   "outputs": [],
   "source": [
    "# read in CA census tiger file\n",
    "ca_tract_county = \"s3://ca-climate-index/0_map_data/ca_tracts_county.csv\"\n",
    "ca_tract_county = gpd.read_file(ca_tract_county)\n",
    "ca_tract_county = ca_tract_county.drop(columns={'field_1'})\n",
    "ca_tract_county.columns = ca_tract_county.columns.str.lower()\n",
    "ca_tract_county = ca_tract_county.applymap(lambda s: s.lower() if type(s) == str else s)\n",
    "ca_tract_county = ca_tract_county.drop(columns='geometry')"
   ]
  },
  {
   "cell_type": "code",
   "execution_count": 11,
   "metadata": {
    "execution": {
     "iopub.execute_input": "2024-08-23T19:36:23.497026Z",
     "iopub.status.busy": "2024-08-23T19:36:23.496206Z",
     "iopub.status.idle": "2024-08-23T19:36:32.038843Z",
     "shell.execute_reply": "2024-08-23T19:36:32.038370Z",
     "shell.execute_reply.started": "2024-08-23T19:36:23.496979Z"
    }
   },
   "outputs": [],
   "source": [
    "# read in CA spatial census tiger file\n",
    "census_shp_dir = \"s3://ca-climate-index/0_map_data/2021_tiger_census_tract/2021_ca_tract/\"\n",
    "ca_boundaries = gpd.read_file(census_shp_dir)\n",
    "ca_boundaries = ca_boundaries[['GEOID', 'geometry']]\n",
    "ca_boundaries = ca_boundaries.rename(columns={'GEOID':'tract'})"
   ]
  },
  {
   "cell_type": "code",
   "execution_count": null,
   "metadata": {
    "execution": {
     "iopub.execute_input": "2024-08-23T19:36:32.039810Z",
     "iopub.status.busy": "2024-08-23T19:36:32.039692Z",
     "iopub.status.idle": "2024-08-23T19:36:32.053592Z",
     "shell.execute_reply": "2024-08-23T19:36:32.053147Z",
     "shell.execute_reply.started": "2024-08-23T19:36:32.039800Z"
    }
   },
   "outputs": [],
   "source": [
    "# merge the two CA tract datasets together\n",
    "ca_tract_county_spatial = pd.merge(ca_tract_county, ca_boundaries, on='tract', how='left')\n",
    "ca_tract_county_spatial = ca_tract_county_spatial.rename(columns={'tract':'USCB_GEOID'})\n",
    "ca_tract_county_spatial"
   ]
  },
  {
   "cell_type": "code",
   "execution_count": 13,
   "metadata": {},
   "outputs": [],
   "source": [
    "geo_ca_tract_county = gpd.GeoDataFrame(ca_tract_county_spatial)"
   ]
  },
  {
   "cell_type": "code",
   "execution_count": null,
   "metadata": {
    "execution": {
     "iopub.execute_input": "2024-08-23T19:36:59.561597Z",
     "iopub.status.busy": "2024-08-23T19:36:59.561074Z",
     "iopub.status.idle": "2024-08-23T19:37:06.695623Z",
     "shell.execute_reply": "2024-08-23T19:37:06.695217Z",
     "shell.execute_reply.started": "2024-08-23T19:36:59.561569Z"
    }
   },
   "outputs": [],
   "source": [
    "# Step 1: Check the CRS\n",
    "print(\"Initial CRS of protected areas:\", one_hundred_yr_floodplain_drop_duplicates.crs)\n",
    "print(\"Initial CRS of CA tract/counties dataset:\", geo_ca_tract_county.crs)\n",
    "\n",
    "# Step 2: Reproject to an appropriate CRS for area calculations\n",
    "gdf1 = one_hundred_yr_floodplain_drop_duplicates.to_crs(epsg=3310)  # California Albers\n",
    "gdf2 = geo_ca_tract_county.to_crs(epsg=3310)  # California Albers\n",
    "\n",
    "print(\"Reprojected CRS of cnra protected areas:\", gdf1.crs)\n",
    "print(\"Reprojected CRS of Counties:\", gdf2.crs)\n",
    "\n",
    "# Check for and fix invalid geometries in both GeoDataFrames\n",
    "gdf1['geometry'] = gdf1['geometry'].apply(lambda geom: geom.buffer(0) if not geom.is_valid else geom)\n",
    "gdf2['geometry'] = gdf2['geometry'].apply(lambda geom: geom.buffer(0) if not geom.is_valid else geom)\n",
    "\n",
    "# Verify if all geometries are now valid\n",
    "print(\"Protected areas geometries valid:\", gdf1.is_valid.all())\n",
    "print(\"County geometries valid:\", gdf2.is_valid.all())\n",
    "\n",
    "# Step 3: Calculate the total area of floodplain areas per tract\n",
    "floodplain_area_tract = gdf1.dissolve(by='USCB_GEOID', aggfunc='sum')['geometry'].area.reset_index(name='floodplain_tract_area')\n",
    "\n",
    "# Step 4: Calculate the total area of each tract\n",
    "tract_area = gdf2.dissolve(by='USCB_GEOID', aggfunc='sum')['geometry'].area.reset_index(name='tract_area')\n",
    "\n",
    "# Step 5: Merge the two datasets on the tract column\n",
    "merged_df = pd.merge(tract_area, floodplain_area_tract, on='USCB_GEOID', how='left')\n",
    "\n",
    "# Step 6: Calculate the spatial percentage of floodplains per tract\n",
    "merged_df['floodplain_percentage'] = (merged_df['floodplain_tract_area'] / merged_df['tract_area']) * 100  \n",
    "\n",
    "# Round the percentages to two decimal places\n",
    "merged_df['floodplain_percentage'] = merged_df['floodplain_percentage'].round(2)\n",
    "\n",
    "# Display the results where the percentage exceeds 100 for further investigation\n",
    "over_100_percent = merged_df[merged_df['floodplain_percentage'] > 100]\n",
    "print('number of entries over 100 percent:', len(over_100_percent))"
   ]
  },
  {
   "cell_type": "code",
   "execution_count": null,
   "metadata": {
    "execution": {
     "iopub.execute_input": "2024-08-23T19:37:06.696590Z",
     "iopub.status.busy": "2024-08-23T19:37:06.696483Z",
     "iopub.status.idle": "2024-08-23T19:37:06.699491Z",
     "shell.execute_reply": "2024-08-23T19:37:06.699162Z",
     "shell.execute_reply.started": "2024-08-23T19:37:06.696581Z"
    }
   },
   "outputs": [],
   "source": [
    "merged_df.floodplain_percentage.mean()"
   ]
  },
  {
   "cell_type": "code",
   "execution_count": null,
   "metadata": {
    "execution": {
     "iopub.execute_input": "2024-08-23T19:37:15.452054Z",
     "iopub.status.busy": "2024-08-23T19:37:15.451324Z",
     "iopub.status.idle": "2024-08-23T19:37:15.474616Z",
     "shell.execute_reply": "2024-08-23T19:37:15.473600Z",
     "shell.execute_reply.started": "2024-08-23T19:37:15.452019Z"
    }
   },
   "outputs": [],
   "source": [
    "merged_df"
   ]
  },
  {
   "cell_type": "code",
   "execution_count": 18,
   "metadata": {},
   "outputs": [],
   "source": [
    "merged_df.to_csv('climate_floodplain_areas_metric.csv', index=False)"
   ]
  },
  {
   "cell_type": "markdown",
   "metadata": {},
   "source": [
    "## Function Call"
   ]
  },
  {
   "cell_type": "code",
   "execution_count": 19,
   "metadata": {},
   "outputs": [],
   "source": [
    "@append_metadata\n",
    "def floodplain_areas_upload(input_csv, export=False, varname=''):\n",
    "    '''\n",
    "    Uploads the floodplain areas metric to S3 bucket. The metric is:\n",
    "    \n",
    "    * % of tract in 100 year floodplain area\n",
    "\n",
    "    Data for this metric was sourced from the Koordinates at:\n",
    "    https://koordinates.com/layer/96056-california-fema-100-year-floodplains/\n",
    "\n",
    "    Methods\n",
    "    -------\n",
    "    Relevant data columns were isolated.\n",
    "    One hundred year floodplain entries were filtered for.\n",
    "    Data was reprojected to match California tract data.\n",
    "    Using both datasets 'geometry' columns, a total area column for each tract entry was calculated.\n",
    "    Estimated floodplain tract percentage was calculated by dividing estimated tract floodplain land\n",
    "    by estimated total tract area.\n",
    "    These values were rounded to the nears hundredths to eliminate 18 instances of being >100%.\n",
    "    \n",
    "    Parameters\n",
    "    ----------\n",
    "    input_csv: string\n",
    "        csv floodplain areas metric data \n",
    "    export: True/False boolean\n",
    "        False = will not upload resulting df containing CAL CRAI floodplain areas metric to AWS\n",
    "        True = will upload resulting df containing CAL CRAI floodplain areas metric to AWS\n",
    "\n",
    "    Script\n",
    "    ------\n",
    "    climate_floodplain.ipynb\n",
    "\n",
    "    Note:\n",
    "    This function assumes users have configured the AWS CLI such that their access key / secret key pair are stored in ~/.aws/credentials.\n",
    "    See https://docs.aws.amazon.com/cli/latest/userguide/getting-started-install.html for guidance.\n",
    "    '''\n",
    "    print('Data transformation: relevant columns were isolated and renamed.')\n",
    "    print('Data transformation: data reprojected to epsg 3310.')\n",
    "    print('Data transformation: a new column was created to estimate percentage of each tract with management practices.')\n",
    "\n",
    "    if export == True:\n",
    "        bucket_name = 'ca-climate-index'\n",
    "        directory = '3_fair_data/index_data'\n",
    "        export_filename = [input_csv]\n",
    "        upload_csv_aws(export_filename, bucket_name, directory)\n",
    "\n",
    "    if export == False:\n",
    "        print(f'{input_csv} uploaded to AWS.')\n",
    " \n",
    "    '''if os.path.exists(input_csv):\n",
    "        os.remove(input_csv)'''"
   ]
  },
  {
   "cell_type": "code",
   "execution_count": 20,
   "metadata": {},
   "outputs": [],
   "source": [
    "input_csv = 'climate_floodplain_areas_metric.csv'\n",
    "variable = 'climate_koordinates_floodplain'\n",
    "\n",
    "floodplain_areas_upload(input_csv, varname='test', export=True)"
   ]
  }
 ],
 "metadata": {
  "kernelspec": {
   "display_name": "carb",
   "language": "python",
   "name": "python3"
  },
  "language_info": {
   "codemirror_mode": {
    "name": "ipython",
    "version": 3
   },
   "file_extension": ".py",
   "mimetype": "text/x-python",
   "name": "python",
   "nbconvert_exporter": "python",
   "pygments_lexer": "ipython3",
   "version": "3.9.18"
  }
 },
 "nbformat": 4,
 "nbformat_minor": 4
}
