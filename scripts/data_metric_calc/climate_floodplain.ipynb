{
 "cells": [
  {
   "cell_type": "markdown",
   "metadata": {},
   "source": [
    "## Cal-CRAI Metric Calculation for: Climate Risk / Floodplains\n",
    "* percentage of a tract in a 100 year floodplain area"
   ]
  },
  {
   "cell_type": "code",
   "execution_count": 1,
   "metadata": {
    "execution": {
     "iopub.execute_input": "2024-08-23T19:35:06.431011Z",
     "iopub.status.busy": "2024-08-23T19:35:06.429763Z",
     "iopub.status.idle": "2024-08-23T19:35:07.181310Z",
     "shell.execute_reply": "2024-08-23T19:35:07.180815Z",
     "shell.execute_reply.started": "2024-08-23T19:35:06.430933Z"
    }
   },
   "outputs": [],
   "source": [
    "import pandas as pd\n",
    "import os\n",
    "import sys\n",
    "import boto3\n",
    "import io\n",
    "import geopandas as gpd\n",
    "\n",
    "# suppress pandas purely educational warnings\n",
    "from warnings import simplefilter\n",
    "simplefilter(action=\"ignore\", category=pd.errors.PerformanceWarning)\n",
    "\n",
    "sys.path.append(os.path.expanduser('../../'))\n",
    "from scripts.utils.file_helpers import pull_gpkg_from_directory, upload_csv_aws\n",
    "from scripts.utils.write_metadata import append_metadata"
   ]
  },
  {
   "cell_type": "code",
   "execution_count": 2,
   "metadata": {
    "execution": {
     "iopub.execute_input": "2024-08-23T19:35:07.182632Z",
     "iopub.status.busy": "2024-08-23T19:35:07.182346Z",
     "iopub.status.idle": "2024-08-23T19:35:07.185774Z",
     "shell.execute_reply": "2024-08-23T19:35:07.185444Z",
     "shell.execute_reply.started": "2024-08-23T19:35:07.182621Z"
    }
   },
   "outputs": [],
   "source": [
    "# make a list of paths, since this is actually 10 files\n",
    "def climate_floodplain_pull(\n",
    "    path='2b_reproject/climate_risk/flood/exposure/koordinates/climate_koordinates_floodplain.parquet.gzip'\n",
    "):\n",
    "    \"\"\" Build a list of shapefile URIs contained in S3 folder \"\"\"\n",
    "    # initiate empty list for s3 URIs\n",
    "    all_shapefiles = []\n",
    "    bucket_name = 'ca-climate-index' \n",
    "    # initiate s3 session\n",
    "    session = boto3.Session()\n",
    "    # use the session to get the resource\n",
    "    s3 = session.resource('s3')\n",
    "    my_bucket = s3.Bucket(bucket_name)\n",
    "    # iterate through directory\n",
    "    for obj in my_bucket.objects.filter(\n",
    "        Prefix=path):\n",
    "        all_shapefiles.append(obj.key)\n",
    "    return all_shapefiles"
   ]
  },
  {
   "cell_type": "code",
   "execution_count": 3,
   "metadata": {
    "execution": {
     "iopub.execute_input": "2024-08-23T19:35:08.474673Z",
     "iopub.status.busy": "2024-08-23T19:35:08.473945Z",
     "iopub.status.idle": "2024-08-23T19:35:13.686864Z",
     "shell.execute_reply": "2024-08-23T19:35:13.686376Z",
     "shell.execute_reply.started": "2024-08-23T19:35:08.474639Z"
    }
   },
   "outputs": [
    {
     "name": "stdout",
     "output_type": "stream",
     "text": [
      "Saved GeoPackage as 'climate_koordinates_floodplain.gpkg' locally\n"
     ]
    }
   ],
   "source": [
    "# pull csv from aws\n",
    "bucket_name = 'ca-climate-index'\n",
    "aws_dir = '2b_reproject/climate_risk/flood/exposure/koordinates/'\n",
    "\n",
    "pull_gpkg_from_directory(bucket_name, aws_dir)"
   ]
  },
  {
   "cell_type": "code",
   "execution_count": 4,
   "metadata": {
    "execution": {
     "iopub.execute_input": "2024-08-23T19:35:13.688025Z",
     "iopub.status.busy": "2024-08-23T19:35:13.687907Z",
     "iopub.status.idle": "2024-08-23T19:35:13.935985Z",
     "shell.execute_reply": "2024-08-23T19:35:13.935448Z",
     "shell.execute_reply.started": "2024-08-23T19:35:13.688014Z"
    }
   },
   "outputs": [],
   "source": [
    "floodplain_data = gpd.read_file('climate_koordinates_floodplain.gpkg')"
   ]
  },
  {
   "cell_type": "code",
   "execution_count": 5,
   "metadata": {
    "execution": {
     "iopub.execute_input": "2024-08-23T19:35:13.937208Z",
     "iopub.status.busy": "2024-08-23T19:35:13.936942Z",
     "iopub.status.idle": "2024-08-23T19:35:13.946962Z",
     "shell.execute_reply": "2024-08-23T19:35:13.946643Z",
     "shell.execute_reply.started": "2024-08-23T19:35:13.937195Z"
    }
   },
   "outputs": [
    {
     "data": {
      "text/html": [
       "<div>\n",
       "<style scoped>\n",
       "    .dataframe tbody tr th:only-of-type {\n",
       "        vertical-align: middle;\n",
       "    }\n",
       "\n",
       "    .dataframe tbody tr th {\n",
       "        vertical-align: top;\n",
       "    }\n",
       "\n",
       "    .dataframe thead th {\n",
       "        text-align: right;\n",
       "    }\n",
       "</style>\n",
       "<table border=\"1\" class=\"dataframe\">\n",
       "  <thead>\n",
       "    <tr style=\"text-align: right;\">\n",
       "      <th></th>\n",
       "      <th>USCB_GEOID</th>\n",
       "      <th>FLD_ZONE</th>\n",
       "      <th>FloodZone</th>\n",
       "      <th>USCB_STATEFP</th>\n",
       "      <th>USCB_COUNTYFP</th>\n",
       "      <th>USCB_TRACTCE</th>\n",
       "      <th>USCB_NAME</th>\n",
       "      <th>USCB_NAMELSAD</th>\n",
       "      <th>USCB_MTFCC</th>\n",
       "      <th>USCB_FUNCSTAT</th>\n",
       "      <th>USCB_ALAND</th>\n",
       "      <th>USCB_AWATER</th>\n",
       "      <th>USCB_INTPTLAT</th>\n",
       "      <th>USCB_INTPTLON</th>\n",
       "      <th>geometry</th>\n",
       "    </tr>\n",
       "  </thead>\n",
       "  <tbody>\n",
       "    <tr>\n",
       "      <th>0</th>\n",
       "      <td>06001400700</td>\n",
       "      <td>AE</td>\n",
       "      <td>100</td>\n",
       "      <td>06</td>\n",
       "      <td>001</td>\n",
       "      <td>400700</td>\n",
       "      <td>4007</td>\n",
       "      <td>Census Tract 4007</td>\n",
       "      <td>G5020</td>\n",
       "      <td>S</td>\n",
       "      <td>865752</td>\n",
       "      <td>0</td>\n",
       "      <td>+37.8417021</td>\n",
       "      <td>-122.2722661</td>\n",
       "      <td>POLYGON ((-122.27555 37.83658, -122.27547 37.8...</td>\n",
       "    </tr>\n",
       "    <tr>\n",
       "      <th>1</th>\n",
       "      <td>06001401000</td>\n",
       "      <td>AE</td>\n",
       "      <td>100</td>\n",
       "      <td>06</td>\n",
       "      <td>001</td>\n",
       "      <td>401000</td>\n",
       "      <td>4010</td>\n",
       "      <td>Census Tract 4010</td>\n",
       "      <td>G5020</td>\n",
       "      <td>S</td>\n",
       "      <td>1149000</td>\n",
       "      <td>0</td>\n",
       "      <td>+37.8312043</td>\n",
       "      <td>-122.2718866</td>\n",
       "      <td>POLYGON ((-122.26758 37.83554, -122.26743 37.8...</td>\n",
       "    </tr>\n",
       "    <tr>\n",
       "      <th>2</th>\n",
       "      <td>06001403302</td>\n",
       "      <td>AE</td>\n",
       "      <td>100</td>\n",
       "      <td>06</td>\n",
       "      <td>001</td>\n",
       "      <td>403302</td>\n",
       "      <td>4033.02</td>\n",
       "      <td>Census Tract 4033.02</td>\n",
       "      <td>G5020</td>\n",
       "      <td>S</td>\n",
       "      <td>719239</td>\n",
       "      <td>104126</td>\n",
       "      <td>+37.7937603</td>\n",
       "      <td>-122.2667344</td>\n",
       "      <td>MULTIPOLYGON (((-122.27307 37.79199, -122.2728...</td>\n",
       "    </tr>\n",
       "    <tr>\n",
       "      <th>3</th>\n",
       "      <td>06001403401</td>\n",
       "      <td>AO</td>\n",
       "      <td>100</td>\n",
       "      <td>06</td>\n",
       "      <td>001</td>\n",
       "      <td>403401</td>\n",
       "      <td>4034.01</td>\n",
       "      <td>Census Tract 4034.01</td>\n",
       "      <td>G5020</td>\n",
       "      <td>S</td>\n",
       "      <td>549686</td>\n",
       "      <td>602434</td>\n",
       "      <td>+37.8092493</td>\n",
       "      <td>-122.2597833</td>\n",
       "      <td>POLYGON ((-122.25947 37.79857, -122.25952 37.7...</td>\n",
       "    </tr>\n",
       "    <tr>\n",
       "      <th>4</th>\n",
       "      <td>06001403501</td>\n",
       "      <td>A</td>\n",
       "      <td>100</td>\n",
       "      <td>06</td>\n",
       "      <td>001</td>\n",
       "      <td>403501</td>\n",
       "      <td>4035.01</td>\n",
       "      <td>Census Tract 4035.01</td>\n",
       "      <td>G5020</td>\n",
       "      <td>S</td>\n",
       "      <td>669873</td>\n",
       "      <td>0</td>\n",
       "      <td>+37.8177398</td>\n",
       "      <td>-122.2600504</td>\n",
       "      <td>POLYGON ((-122.25886 37.81999, -122.25890 37.8...</td>\n",
       "    </tr>\n",
       "  </tbody>\n",
       "</table>\n",
       "</div>"
      ],
      "text/plain": [
       "    USCB_GEOID FLD_ZONE FloodZone USCB_STATEFP USCB_COUNTYFP USCB_TRACTCE  \\\n",
       "0  06001400700       AE       100           06           001       400700   \n",
       "1  06001401000       AE       100           06           001       401000   \n",
       "2  06001403302       AE       100           06           001       403302   \n",
       "3  06001403401       AO       100           06           001       403401   \n",
       "4  06001403501        A       100           06           001       403501   \n",
       "\n",
       "  USCB_NAME         USCB_NAMELSAD USCB_MTFCC USCB_FUNCSTAT  USCB_ALAND  \\\n",
       "0      4007     Census Tract 4007      G5020             S      865752   \n",
       "1      4010     Census Tract 4010      G5020             S     1149000   \n",
       "2   4033.02  Census Tract 4033.02      G5020             S      719239   \n",
       "3   4034.01  Census Tract 4034.01      G5020             S      549686   \n",
       "4   4035.01  Census Tract 4035.01      G5020             S      669873   \n",
       "\n",
       "   USCB_AWATER USCB_INTPTLAT USCB_INTPTLON  \\\n",
       "0            0   +37.8417021  -122.2722661   \n",
       "1            0   +37.8312043  -122.2718866   \n",
       "2       104126   +37.7937603  -122.2667344   \n",
       "3       602434   +37.8092493  -122.2597833   \n",
       "4            0   +37.8177398  -122.2600504   \n",
       "\n",
       "                                            geometry  \n",
       "0  POLYGON ((-122.27555 37.83658, -122.27547 37.8...  \n",
       "1  POLYGON ((-122.26758 37.83554, -122.26743 37.8...  \n",
       "2  MULTIPOLYGON (((-122.27307 37.79199, -122.2728...  \n",
       "3  POLYGON ((-122.25947 37.79857, -122.25952 37.7...  \n",
       "4  POLYGON ((-122.25886 37.81999, -122.25890 37.8...  "
      ]
     },
     "execution_count": 5,
     "metadata": {},
     "output_type": "execute_result"
    }
   ],
   "source": [
    "floodplain_data.head()"
   ]
  },
  {
   "cell_type": "code",
   "execution_count": 6,
   "metadata": {
    "execution": {
     "iopub.execute_input": "2024-08-23T19:35:16.999635Z",
     "iopub.status.busy": "2024-08-23T19:35:16.998902Z",
     "iopub.status.idle": "2024-08-23T19:35:17.011036Z",
     "shell.execute_reply": "2024-08-23T19:35:17.009901Z",
     "shell.execute_reply.started": "2024-08-23T19:35:16.999595Z"
    }
   },
   "outputs": [
    {
     "data": {
      "text/plain": [
       "array(['100'], dtype=object)"
      ]
     },
     "execution_count": 6,
     "metadata": {},
     "output_type": "execute_result"
    }
   ],
   "source": [
    "floodplain_data.FloodZone.unique()"
   ]
  },
  {
   "cell_type": "code",
   "execution_count": 7,
   "metadata": {
    "execution": {
     "iopub.execute_input": "2024-08-23T19:35:17.516804Z",
     "iopub.status.busy": "2024-08-23T19:35:17.516075Z",
     "iopub.status.idle": "2024-08-23T19:35:19.781407Z",
     "shell.execute_reply": "2024-08-23T19:35:19.781055Z",
     "shell.execute_reply.started": "2024-08-23T19:35:17.516769Z"
    }
   },
   "outputs": [
    {
     "data": {
      "text/plain": [
       "<Axes: >"
      ]
     },
     "execution_count": 7,
     "metadata": {},
     "output_type": "execute_result"
    },
    {
     "data": {
      "image/png": "[encoded data removed]",
      "text/plain": [
       "<Figure size 640x480 with 1 Axes>"
      ]
     },
     "metadata": {},
     "output_type": "display_data"
    }
   ],
   "source": [
    "floodplain_data.plot()"
   ]
  },
  {
   "cell_type": "code",
   "execution_count": 8,
   "metadata": {
    "execution": {
     "iopub.execute_input": "2024-08-23T19:35:33.604498Z",
     "iopub.status.busy": "2024-08-23T19:35:33.603328Z",
     "iopub.status.idle": "2024-08-23T19:35:33.908845Z",
     "shell.execute_reply": "2024-08-23T19:35:33.908485Z",
     "shell.execute_reply.started": "2024-08-23T19:35:33.604461Z"
    }
   },
   "outputs": [
    {
     "data": {
      "text/html": [
       "<div>\n",
       "<style scoped>\n",
       "    .dataframe tbody tr th:only-of-type {\n",
       "        vertical-align: middle;\n",
       "    }\n",
       "\n",
       "    .dataframe tbody tr th {\n",
       "        vertical-align: top;\n",
       "    }\n",
       "\n",
       "    .dataframe thead th {\n",
       "        text-align: right;\n",
       "    }\n",
       "</style>\n",
       "<table border=\"1\" class=\"dataframe\">\n",
       "  <thead>\n",
       "    <tr style=\"text-align: right;\">\n",
       "      <th></th>\n",
       "      <th>USCB_GEOID</th>\n",
       "      <th>FloodZone</th>\n",
       "      <th>geometry</th>\n",
       "    </tr>\n",
       "  </thead>\n",
       "  <tbody>\n",
       "    <tr>\n",
       "      <th>0</th>\n",
       "      <td>06001400700</td>\n",
       "      <td>100</td>\n",
       "      <td>POLYGON ((-122.27555 37.83658, -122.27547 37.8...</td>\n",
       "    </tr>\n",
       "    <tr>\n",
       "      <th>1</th>\n",
       "      <td>06001401000</td>\n",
       "      <td>100</td>\n",
       "      <td>POLYGON ((-122.26758 37.83554, -122.26743 37.8...</td>\n",
       "    </tr>\n",
       "    <tr>\n",
       "      <th>2</th>\n",
       "      <td>06001403302</td>\n",
       "      <td>100</td>\n",
       "      <td>MULTIPOLYGON (((-122.27307 37.79199, -122.2728...</td>\n",
       "    </tr>\n",
       "    <tr>\n",
       "      <th>3</th>\n",
       "      <td>06001403401</td>\n",
       "      <td>100</td>\n",
       "      <td>POLYGON ((-122.25947 37.79857, -122.25952 37.7...</td>\n",
       "    </tr>\n",
       "    <tr>\n",
       "      <th>4</th>\n",
       "      <td>06001403501</td>\n",
       "      <td>100</td>\n",
       "      <td>POLYGON ((-122.25886 37.81999, -122.25890 37.8...</td>\n",
       "    </tr>\n",
       "    <tr>\n",
       "      <th>...</th>\n",
       "      <td>...</td>\n",
       "      <td>...</td>\n",
       "      <td>...</td>\n",
       "    </tr>\n",
       "    <tr>\n",
       "      <th>4833</th>\n",
       "      <td>06115040902</td>\n",
       "      <td>100</td>\n",
       "      <td>MULTIPOLYGON (((-121.35602 39.07985, -121.3549...</td>\n",
       "    </tr>\n",
       "    <tr>\n",
       "      <th>4834</th>\n",
       "      <td>06115041001</td>\n",
       "      <td>100</td>\n",
       "      <td>MULTIPOLYGON (((-121.62633 39.20120, -121.6261...</td>\n",
       "    </tr>\n",
       "    <tr>\n",
       "      <th>4835</th>\n",
       "      <td>06115041002</td>\n",
       "      <td>100</td>\n",
       "      <td>MULTIPOLYGON (((-121.44474 39.33174, -121.4445...</td>\n",
       "    </tr>\n",
       "    <tr>\n",
       "      <th>4836</th>\n",
       "      <td>06115041101</td>\n",
       "      <td>100</td>\n",
       "      <td>MULTIPOLYGON (((-121.37025 39.36828, -121.3704...</td>\n",
       "    </tr>\n",
       "    <tr>\n",
       "      <th>4837</th>\n",
       "      <td>06115041102</td>\n",
       "      <td>100</td>\n",
       "      <td>MULTIPOLYGON (((-121.20562 39.31297, -121.2056...</td>\n",
       "    </tr>\n",
       "  </tbody>\n",
       "</table>\n",
       "<p>4838 rows × 3 columns</p>\n",
       "</div>"
      ],
      "text/plain": [
       "       USCB_GEOID FloodZone                                           geometry\n",
       "0     06001400700       100  POLYGON ((-122.27555 37.83658, -122.27547 37.8...\n",
       "1     06001401000       100  POLYGON ((-122.26758 37.83554, -122.26743 37.8...\n",
       "2     06001403302       100  MULTIPOLYGON (((-122.27307 37.79199, -122.2728...\n",
       "3     06001403401       100  POLYGON ((-122.25947 37.79857, -122.25952 37.7...\n",
       "4     06001403501       100  POLYGON ((-122.25886 37.81999, -122.25890 37.8...\n",
       "...           ...       ...                                                ...\n",
       "4833  06115040902       100  MULTIPOLYGON (((-121.35602 39.07985, -121.3549...\n",
       "4834  06115041001       100  MULTIPOLYGON (((-121.62633 39.20120, -121.6261...\n",
       "4835  06115041002       100  MULTIPOLYGON (((-121.44474 39.33174, -121.4445...\n",
       "4836  06115041101       100  MULTIPOLYGON (((-121.37025 39.36828, -121.3704...\n",
       "4837  06115041102       100  MULTIPOLYGON (((-121.20562 39.31297, -121.2056...\n",
       "\n",
       "[4838 rows x 3 columns]"
      ]
     },
     "execution_count": 8,
     "metadata": {},
     "output_type": "execute_result"
    }
   ],
   "source": [
    "# selecting relevant columns for processing\n",
    "selected_columns = ['USCB_GEOID', 'FloodZone', 'geometry']\n",
    "\n",
    "floodplain_columns = floodplain_data[selected_columns]\n",
    "\n",
    "one_hundred_yr_floodplain_drop_duplicates = floodplain_columns.drop_duplicates(['geometry'], keep='first')\n",
    "one_hundred_yr_floodplain_drop_duplicates"
   ]
  },
  {
   "cell_type": "code",
   "execution_count": 9,
   "metadata": {
    "execution": {
     "iopub.execute_input": "2024-08-23T19:35:34.727309Z",
     "iopub.status.busy": "2024-08-23T19:35:34.726464Z",
     "iopub.status.idle": "2024-08-23T19:35:35.015635Z",
     "shell.execute_reply": "2024-08-23T19:35:35.015240Z",
     "shell.execute_reply.started": "2024-08-23T19:35:34.727264Z"
    }
   },
   "outputs": [
    {
     "name": "stdout",
     "output_type": "stream",
     "text": [
      "Number of dropped duplicate geometries: 0\n"
     ]
    }
   ],
   "source": [
    "# Count the total number of duplicates in the geometry column\n",
    "duplicate_count = one_hundred_yr_floodplain_drop_duplicates.duplicated(subset=['geometry']).sum()\n",
    "\n",
    "print(f\"Number of dropped duplicate geometries: {duplicate_count}\")"
   ]
  },
  {
   "cell_type": "code",
   "execution_count": 10,
   "metadata": {
    "execution": {
     "iopub.execute_input": "2024-08-23T19:36:21.102996Z",
     "iopub.status.busy": "2024-08-23T19:36:21.102230Z",
     "iopub.status.idle": "2024-08-23T19:36:21.195679Z",
     "shell.execute_reply": "2024-08-23T19:36:21.195233Z",
     "shell.execute_reply.started": "2024-08-23T19:36:21.102961Z"
    }
   },
   "outputs": [
    {
     "name": "stderr",
     "output_type": "stream",
     "text": [
      "C:\\Users\\jespi\\AppData\\Local\\Temp\\ipykernel_29232\\3204430966.py:6: FutureWarning: DataFrame.applymap has been deprecated. Use DataFrame.map instead.\n",
      "  ca_tract_county = ca_tract_county.applymap(lambda s: s.lower() if type(s) == str else s)\n"
     ]
    }
   ],
   "source": [
    "# read in CA census tiger file\n",
    "ca_tract_county = \"s3://ca-climate-index/0_map_data/ca_tracts_county.csv\"\n",
    "ca_tract_county = gpd.read_file(ca_tract_county)\n",
    "ca_tract_county = ca_tract_county.drop(columns={'field_1'})\n",
    "ca_tract_county.columns = ca_tract_county.columns.str.lower()\n",
    "ca_tract_county = ca_tract_county.applymap(lambda s: s.lower() if type(s) == str else s)\n",
    "ca_tract_county = ca_tract_county.drop(columns='geometry')"
   ]
  },
  {
   "cell_type": "code",
   "execution_count": 11,
   "metadata": {
    "execution": {
     "iopub.execute_input": "2024-08-23T19:36:23.497026Z",
     "iopub.status.busy": "2024-08-23T19:36:23.496206Z",
     "iopub.status.idle": "2024-08-23T19:36:32.038843Z",
     "shell.execute_reply": "2024-08-23T19:36:32.038370Z",
     "shell.execute_reply.started": "2024-08-23T19:36:23.496979Z"
    }
   },
   "outputs": [],
   "source": [
    "# read in CA spatial census tiger file\n",
    "census_shp_dir = \"s3://ca-climate-index/0_map_data/2021_tiger_census_tract/2021_ca_tract/\"\n",
    "ca_boundaries = gpd.read_file(census_shp_dir)\n",
    "ca_boundaries = ca_boundaries[['GEOID', 'geometry']]\n",
    "ca_boundaries = ca_boundaries.rename(columns={'GEOID':'tract'})"
   ]
  },
  {
   "cell_type": "code",
   "execution_count": 12,
   "metadata": {
    "execution": {
     "iopub.execute_input": "2024-08-23T19:36:32.039810Z",
     "iopub.status.busy": "2024-08-23T19:36:32.039692Z",
     "iopub.status.idle": "2024-08-23T19:36:32.053592Z",
     "shell.execute_reply": "2024-08-23T19:36:32.053147Z",
     "shell.execute_reply.started": "2024-08-23T19:36:32.039800Z"
    }
   },
   "outputs": [
    {
     "data": {
      "text/html": [
       "<div>\n",
       "<style scoped>\n",
       "    .dataframe tbody tr th:only-of-type {\n",
       "        vertical-align: middle;\n",
       "    }\n",
       "\n",
       "    .dataframe tbody tr th {\n",
       "        vertical-align: top;\n",
       "    }\n",
       "\n",
       "    .dataframe thead th {\n",
       "        text-align: right;\n",
       "    }\n",
       "</style>\n",
       "<table border=\"1\" class=\"dataframe\">\n",
       "  <thead>\n",
       "    <tr style=\"text-align: right;\">\n",
       "      <th></th>\n",
       "      <th>USCB_GEOID</th>\n",
       "      <th>countyfp</th>\n",
       "      <th>county</th>\n",
       "      <th>geometry</th>\n",
       "    </tr>\n",
       "  </thead>\n",
       "  <tbody>\n",
       "    <tr>\n",
       "      <th>0</th>\n",
       "      <td>06085504321</td>\n",
       "      <td>085</td>\n",
       "      <td>santa clara</td>\n",
       "      <td>POLYGON ((-121.87556 37.39924, -121.87535 37.3...</td>\n",
       "    </tr>\n",
       "    <tr>\n",
       "      <th>1</th>\n",
       "      <td>06085504410</td>\n",
       "      <td>085</td>\n",
       "      <td>santa clara</td>\n",
       "      <td>POLYGON ((-121.88886 37.40758, -121.88576 37.4...</td>\n",
       "    </tr>\n",
       "    <tr>\n",
       "      <th>2</th>\n",
       "      <td>06085507003</td>\n",
       "      <td>085</td>\n",
       "      <td>santa clara</td>\n",
       "      <td>POLYGON ((-122.02489 37.21683, -122.02459 37.2...</td>\n",
       "    </tr>\n",
       "    <tr>\n",
       "      <th>3</th>\n",
       "      <td>06085507004</td>\n",
       "      <td>085</td>\n",
       "      <td>santa clara</td>\n",
       "      <td>POLYGON ((-121.99304 37.22562, -121.99249 37.2...</td>\n",
       "    </tr>\n",
       "    <tr>\n",
       "      <th>4</th>\n",
       "      <td>06085502204</td>\n",
       "      <td>085</td>\n",
       "      <td>santa clara</td>\n",
       "      <td>POLYGON ((-121.93167 37.29803, -121.92801 37.3...</td>\n",
       "    </tr>\n",
       "    <tr>\n",
       "      <th>...</th>\n",
       "      <td>...</td>\n",
       "      <td>...</td>\n",
       "      <td>...</td>\n",
       "      <td>...</td>\n",
       "    </tr>\n",
       "    <tr>\n",
       "      <th>9124</th>\n",
       "      <td>06059001303</td>\n",
       "      <td>059</td>\n",
       "      <td>orange</td>\n",
       "      <td>POLYGON ((-117.95917 33.92458, -117.95888 33.9...</td>\n",
       "    </tr>\n",
       "    <tr>\n",
       "      <th>9125</th>\n",
       "      <td>06059001304</td>\n",
       "      <td>059</td>\n",
       "      <td>orange</td>\n",
       "      <td>POLYGON ((-117.95918 33.92820, -117.95831 33.9...</td>\n",
       "    </tr>\n",
       "    <tr>\n",
       "      <th>9126</th>\n",
       "      <td>06059001401</td>\n",
       "      <td>059</td>\n",
       "      <td>orange</td>\n",
       "      <td>POLYGON ((-117.95056 33.94503, -117.95055 33.9...</td>\n",
       "    </tr>\n",
       "    <tr>\n",
       "      <th>9127</th>\n",
       "      <td>06013367200</td>\n",
       "      <td>013</td>\n",
       "      <td>contra costa</td>\n",
       "      <td>POLYGON ((-122.34551 37.96355, -122.34550 37.9...</td>\n",
       "    </tr>\n",
       "    <tr>\n",
       "      <th>9128</th>\n",
       "      <td>06037578100</td>\n",
       "      <td>037</td>\n",
       "      <td>los angeles</td>\n",
       "      <td>POLYGON ((-118.12345 33.78715, -118.12224 33.7...</td>\n",
       "    </tr>\n",
       "  </tbody>\n",
       "</table>\n",
       "<p>9129 rows × 4 columns</p>\n",
       "</div>"
      ],
      "text/plain": [
       "       USCB_GEOID countyfp        county  \\\n",
       "0     06085504321      085   santa clara   \n",
       "1     06085504410      085   santa clara   \n",
       "2     06085507003      085   santa clara   \n",
       "3     06085507004      085   santa clara   \n",
       "4     06085502204      085   santa clara   \n",
       "...           ...      ...           ...   \n",
       "9124  06059001303      059        orange   \n",
       "9125  06059001304      059        orange   \n",
       "9126  06059001401      059        orange   \n",
       "9127  06013367200      013  contra costa   \n",
       "9128  06037578100      037   los angeles   \n",
       "\n",
       "                                               geometry  \n",
       "0     POLYGON ((-121.87556 37.39924, -121.87535 37.3...  \n",
       "1     POLYGON ((-121.88886 37.40758, -121.88576 37.4...  \n",
       "2     POLYGON ((-122.02489 37.21683, -122.02459 37.2...  \n",
       "3     POLYGON ((-121.99304 37.22562, -121.99249 37.2...  \n",
       "4     POLYGON ((-121.93167 37.29803, -121.92801 37.3...  \n",
       "...                                                 ...  \n",
       "9124  POLYGON ((-117.95917 33.92458, -117.95888 33.9...  \n",
       "9125  POLYGON ((-117.95918 33.92820, -117.95831 33.9...  \n",
       "9126  POLYGON ((-117.95056 33.94503, -117.95055 33.9...  \n",
       "9127  POLYGON ((-122.34551 37.96355, -122.34550 37.9...  \n",
       "9128  POLYGON ((-118.12345 33.78715, -118.12224 33.7...  \n",
       "\n",
       "[9129 rows x 4 columns]"
      ]
     },
     "execution_count": 12,
     "metadata": {},
     "output_type": "execute_result"
    }
   ],
   "source": [
    "# merge the two CA tract datasets together\n",
    "ca_tract_county_spatial = pd.merge(ca_tract_county, ca_boundaries, on='tract', how='left')\n",
    "ca_tract_county_spatial = ca_tract_county_spatial.rename(columns={'tract':'USCB_GEOID'})\n",
    "ca_tract_county_spatial"
   ]
  },
  {
   "cell_type": "code",
   "execution_count": 13,
   "metadata": {},
   "outputs": [],
   "source": [
    "geo_ca_tract_county = gpd.GeoDataFrame(ca_tract_county_spatial)"
   ]
  },
  {
   "cell_type": "code",
   "execution_count": 14,
   "metadata": {
    "execution": {
     "iopub.execute_input": "2024-08-23T19:36:59.561597Z",
     "iopub.status.busy": "2024-08-23T19:36:59.561074Z",
     "iopub.status.idle": "2024-08-23T19:37:06.695623Z",
     "shell.execute_reply": "2024-08-23T19:37:06.695217Z",
     "shell.execute_reply.started": "2024-08-23T19:36:59.561569Z"
    }
   },
   "outputs": [
    {
     "name": "stdout",
     "output_type": "stream",
     "text": [
      "Initial CRS of protected areas: EPSG:4269\n",
      "Initial CRS of CA tract/counties dataset: EPSG:4269\n",
      "Reprojected CRS of cnra protected areas: EPSG:3310\n",
      "Reprojected CRS of Counties: EPSG:3310\n",
      "Protected areas geometries valid: True\n",
      "County geometries valid: True\n",
      "number of entries over 100 percent: 0\n"
     ]
    }
   ],
   "source": [
    "# Step 1: Check the CRS\n",
    "print(\"Initial CRS of protected areas:\", one_hundred_yr_floodplain_drop_duplicates.crs)\n",
    "print(\"Initial CRS of CA tract/counties dataset:\", geo_ca_tract_county.crs)\n",
    "\n",
    "# Step 2: Reproject to an appropriate CRS for area calculations\n",
    "gdf1 = one_hundred_yr_floodplain_drop_duplicates.to_crs(epsg=3310)  # California Albers\n",
    "gdf2 = geo_ca_tract_county.to_crs(epsg=3310)  # California Albers\n",
    "\n",
    "print(\"Reprojected CRS of cnra protected areas:\", gdf1.crs)\n",
    "print(\"Reprojected CRS of Counties:\", gdf2.crs)\n",
    "\n",
    "# Check for and fix invalid geometries in both GeoDataFrames\n",
    "gdf1['geometry'] = gdf1['geometry'].apply(lambda geom: geom.buffer(0) if not geom.is_valid else geom)\n",
    "gdf2['geometry'] = gdf2['geometry'].apply(lambda geom: geom.buffer(0) if not geom.is_valid else geom)\n",
    "\n",
    "# Verify if all geometries are now valid\n",
    "print(\"Protected areas geometries valid:\", gdf1.is_valid.all())\n",
    "print(\"County geometries valid:\", gdf2.is_valid.all())\n",
    "\n",
    "# Step 3: Calculate the total area of floodplain areas per tract\n",
    "floodplain_area_tract = gdf1.dissolve(by='USCB_GEOID', aggfunc='sum')['geometry'].area.reset_index(name='floodplain_tract_area')\n",
    "\n",
    "# Step 4: Calculate the total area of each tract\n",
    "tract_area = gdf2.dissolve(by='USCB_GEOID', aggfunc='sum')['geometry'].area.reset_index(name='tract_area')\n",
    "\n",
    "# Step 5: Merge the two datasets on the tract column\n",
    "merged_df = pd.merge(tract_area, floodplain_area_tract, on='USCB_GEOID', how='left')\n",
    "\n",
    "# Step 6: Calculate the spatial percentage of floodplains per tract\n",
    "merged_df['floodplain_percentage'] = (merged_df['floodplain_tract_area'] / merged_df['tract_area']) * 100  \n",
    "\n",
    "# Round the percentages to two decimal places\n",
    "merged_df['floodplain_percentage'] = merged_df['floodplain_percentage'].round(2)\n",
    "\n",
    "# Display the results where the percentage exceeds 100 for further investigation\n",
    "over_100_percent = merged_df[merged_df['floodplain_percentage'] > 100]\n",
    "print('number of entries over 100 percent:', len(over_100_percent))"
   ]
  },
  {
   "cell_type": "code",
   "execution_count": 15,
   "metadata": {
    "execution": {
     "iopub.execute_input": "2024-08-23T19:37:06.696590Z",
     "iopub.status.busy": "2024-08-23T19:37:06.696483Z",
     "iopub.status.idle": "2024-08-23T19:37:06.699491Z",
     "shell.execute_reply": "2024-08-23T19:37:06.699162Z",
     "shell.execute_reply.started": "2024-08-23T19:37:06.696581Z"
    }
   },
   "outputs": [
    {
     "data": {
      "text/plain": [
       "12.194365440264573"
      ]
     },
     "execution_count": 15,
     "metadata": {},
     "output_type": "execute_result"
    }
   ],
   "source": [
    "merged_df.floodplain_percentage.mean()"
   ]
  },
  {
   "cell_type": "code",
   "execution_count": 16,
   "metadata": {
    "execution": {
     "iopub.execute_input": "2024-08-23T19:37:15.452054Z",
     "iopub.status.busy": "2024-08-23T19:37:15.451324Z",
     "iopub.status.idle": "2024-08-23T19:37:15.474616Z",
     "shell.execute_reply": "2024-08-23T19:37:15.473600Z",
     "shell.execute_reply.started": "2024-08-23T19:37:15.452019Z"
    }
   },
   "outputs": [
    {
     "data": {
      "text/html": [
       "<div>\n",
       "<style scoped>\n",
       "    .dataframe tbody tr th:only-of-type {\n",
       "        vertical-align: middle;\n",
       "    }\n",
       "\n",
       "    .dataframe tbody tr th {\n",
       "        vertical-align: top;\n",
       "    }\n",
       "\n",
       "    .dataframe thead th {\n",
       "        text-align: right;\n",
       "    }\n",
       "</style>\n",
       "<table border=\"1\" class=\"dataframe\">\n",
       "  <thead>\n",
       "    <tr style=\"text-align: right;\">\n",
       "      <th></th>\n",
       "      <th>USCB_GEOID</th>\n",
       "      <th>tract_area</th>\n",
       "      <th>floodplain_tract_area</th>\n",
       "      <th>floodplain_percentage</th>\n",
       "    </tr>\n",
       "  </thead>\n",
       "  <tbody>\n",
       "    <tr>\n",
       "      <th>0</th>\n",
       "      <td>06001400100</td>\n",
       "      <td>6.945851e+06</td>\n",
       "      <td>NaN</td>\n",
       "      <td>NaN</td>\n",
       "    </tr>\n",
       "    <tr>\n",
       "      <th>1</th>\n",
       "      <td>06001400200</td>\n",
       "      <td>5.865583e+05</td>\n",
       "      <td>NaN</td>\n",
       "      <td>NaN</td>\n",
       "    </tr>\n",
       "    <tr>\n",
       "      <th>2</th>\n",
       "      <td>06001400300</td>\n",
       "      <td>1.110836e+06</td>\n",
       "      <td>NaN</td>\n",
       "      <td>NaN</td>\n",
       "    </tr>\n",
       "    <tr>\n",
       "      <th>3</th>\n",
       "      <td>06001400400</td>\n",
       "      <td>7.161367e+05</td>\n",
       "      <td>NaN</td>\n",
       "      <td>NaN</td>\n",
       "    </tr>\n",
       "    <tr>\n",
       "      <th>4</th>\n",
       "      <td>06001400500</td>\n",
       "      <td>5.914232e+05</td>\n",
       "      <td>NaN</td>\n",
       "      <td>NaN</td>\n",
       "    </tr>\n",
       "    <tr>\n",
       "      <th>...</th>\n",
       "      <td>...</td>\n",
       "      <td>...</td>\n",
       "      <td>...</td>\n",
       "      <td>...</td>\n",
       "    </tr>\n",
       "    <tr>\n",
       "      <th>9124</th>\n",
       "      <td>06115040902</td>\n",
       "      <td>9.384312e+07</td>\n",
       "      <td>1.853259e+04</td>\n",
       "      <td>0.02</td>\n",
       "    </tr>\n",
       "    <tr>\n",
       "      <th>9125</th>\n",
       "      <td>06115041001</td>\n",
       "      <td>2.776416e+08</td>\n",
       "      <td>1.260910e+08</td>\n",
       "      <td>45.42</td>\n",
       "    </tr>\n",
       "    <tr>\n",
       "      <th>9126</th>\n",
       "      <td>06115041002</td>\n",
       "      <td>1.976832e+08</td>\n",
       "      <td>1.177561e+07</td>\n",
       "      <td>5.96</td>\n",
       "    </tr>\n",
       "    <tr>\n",
       "      <th>9127</th>\n",
       "      <td>06115041101</td>\n",
       "      <td>4.814353e+08</td>\n",
       "      <td>1.591579e+06</td>\n",
       "      <td>0.33</td>\n",
       "    </tr>\n",
       "    <tr>\n",
       "      <th>9128</th>\n",
       "      <td>06115041102</td>\n",
       "      <td>9.496141e+07</td>\n",
       "      <td>1.481960e+06</td>\n",
       "      <td>1.56</td>\n",
       "    </tr>\n",
       "  </tbody>\n",
       "</table>\n",
       "<p>9129 rows × 4 columns</p>\n",
       "</div>"
      ],
      "text/plain": [
       "       USCB_GEOID    tract_area  floodplain_tract_area  floodplain_percentage\n",
       "0     06001400100  6.945851e+06                    NaN                    NaN\n",
       "1     06001400200  5.865583e+05                    NaN                    NaN\n",
       "2     06001400300  1.110836e+06                    NaN                    NaN\n",
       "3     06001400400  7.161367e+05                    NaN                    NaN\n",
       "4     06001400500  5.914232e+05                    NaN                    NaN\n",
       "...           ...           ...                    ...                    ...\n",
       "9124  06115040902  9.384312e+07           1.853259e+04                   0.02\n",
       "9125  06115041001  2.776416e+08           1.260910e+08                  45.42\n",
       "9126  06115041002  1.976832e+08           1.177561e+07                   5.96\n",
       "9127  06115041101  4.814353e+08           1.591579e+06                   0.33\n",
       "9128  06115041102  9.496141e+07           1.481960e+06                   1.56\n",
       "\n",
       "[9129 rows x 4 columns]"
      ]
     },
     "execution_count": 16,
     "metadata": {},
     "output_type": "execute_result"
    }
   ],
   "source": [
    "merged_df"
   ]
  },
  {
   "cell_type": "code",
   "execution_count": 17,
   "metadata": {},
   "outputs": [],
   "source": [
    "merged_df.to_csv('climate_floodplain_areas_metric.csv')"
   ]
  },
  {
   "cell_type": "markdown",
   "metadata": {},
   "source": [
    "## Function Call"
   ]
  },
  {
   "cell_type": "code",
   "execution_count": 18,
   "metadata": {},
   "outputs": [],
   "source": [
    "@append_metadata\n",
    "def floodplain_areas_upload(input_csv, export=False, varname=''):\n",
    "    '''\n",
    "    Uploads the floodplain areas metric to S3 bucket. The metric is:\n",
    "    \n",
    "    * % of tract in 100 year floodplain area\n",
    "\n",
    "    Data for this metric was sourced from the Koordinates at:\n",
    "    https://koordinates.com/layer/96056-california-fema-100-year-floodplains/\n",
    "\n",
    "    Methods\n",
    "    -------\n",
    "    Relevant data columns were isolated.\n",
    "    One hundred year floodplain entries were filtered for.\n",
    "    Data was reprojected to match California tract data.\n",
    "    Using both datasets 'geometry' columns, a total area column for each tract entry was calculated.\n",
    "    Estimated floodplain tract percentage was calculated by dividing estimated tract floodplain land\n",
    "    by estimated total tract area.\n",
    "    These values were rounded to the nears hundredths to eliminate 18 instances of being >100%.\n",
    "    \n",
    "    Parameters\n",
    "    ----------\n",
    "    input_csv: string\n",
    "        csv floodplain areas metric data \n",
    "    export: True/False boolean\n",
    "        False = will not upload resulting df containing CAL CRAI floodplain areas metric to AWS\n",
    "        True = will upload resulting df containing CAL CRAI floodplain areas metric to AWS\n",
    "\n",
    "    Script\n",
    "    ------\n",
    "    climate_floodplain.ipynb\n",
    "\n",
    "    Note:\n",
    "    This function assumes users have configured the AWS CLI such that their access key / secret key pair are stored in ~/.aws/credentials.\n",
    "    See https://docs.aws.amazon.com/cli/latest/userguide/getting-started-install.html for guidance.\n",
    "    '''\n",
    "    print('Data transformation: relevant columns were isolated and renamed.')\n",
    "    print('Data transformation: data reprojected to epsg 3310.')\n",
    "    print('Data transformation: a new column was created to estimate percentage of each tract with management practices.')\n",
    "\n",
    "    if export == True:\n",
    "        bucket_name = 'ca-climate-index'\n",
    "        directory = '3_fair_data/index_data'\n",
    "        export_filename = [input_csv]\n",
    "        upload_csv_aws(export_filename, bucket_name, directory)\n",
    "\n",
    "    if export == False:\n",
    "        print(f'{input_csv} uploaded to AWS.')\n",
    " \n",
    "    '''if os.path.exists(input_csv):\n",
    "        os.remove(input_csv)'''"
   ]
  },
  {
   "cell_type": "code",
   "execution_count": 19,
   "metadata": {},
   "outputs": [],
   "source": [
    "input_csv = 'climate_floodplain_areas_metric.csv'\n",
    "variable = 'climate_koordinates_floodplain'\n",
    "\n",
    "floodplain_areas_upload(input_csv, varname=variable, export=False)"
   ]
  }
 ],
 "metadata": {
  "kernelspec": {
   "display_name": "Python 3 (ipykernel)",
   "language": "python",
   "name": "python3"
  },
  "language_info": {
   "codemirror_mode": {
    "name": "ipython",
    "version": 3
   },
   "file_extension": ".py",
   "mimetype": "text/x-python",
   "name": "python",
   "nbconvert_exporter": "python",
   "pygments_lexer": "ipython3",
   "version": "3.9.18"
  }
 },
 "nbformat": 4,
 "nbformat_minor": 4
}
