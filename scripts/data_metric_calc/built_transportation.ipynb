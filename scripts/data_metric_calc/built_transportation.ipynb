{
 "cells": [
  {
   "cell_type": "markdown",
   "metadata": {},
   "source": [
    "## Cal-CRAI Metric Calculation\n",
    "Domain: Built Environment \\\n",
    "Indicator: Transportation Infrastructure\n",
    "* Metric 1: number of airports per county\n",
    "* Metric 2: number of bridges per county\n",
    "* Metric 3: number of road bottlenecks per county\n",
    "* Metric 4: number of miles of highway per county\n",
    "* Metric 5:  number of miles of freight rails per county"
   ]
  },
  {
   "cell_type": "code",
   "execution_count": 1,
   "metadata": {
    "execution": {
     "iopub.execute_input": "2024-06-21T21:33:29.047341Z",
     "iopub.status.busy": "2024-06-21T21:33:29.047046Z",
     "iopub.status.idle": "2024-06-21T21:33:29.811675Z",
     "shell.execute_reply": "2024-06-21T21:33:29.811072Z",
     "shell.execute_reply.started": "2024-06-21T21:33:29.047325Z"
    }
   },
   "outputs": [],
   "source": [
    "import pandas as pd\n",
    "import os\n",
    "import sys\n",
    "import boto3\n",
    "import io\n",
    "import geopandas as gpd\n",
    "\n",
    "# suppress pandas purely educational warnings\n",
    "from warnings import simplefilter\n",
    "simplefilter(action=\"ignore\", category=pd.errors.PerformanceWarning)\n",
    "\n",
    "sys.path.append(os.path.expanduser('../../'))\n",
    "from scripts.utils.file_helpers import pull_gpkg_from_directory, upload_csv_aws, filter_counties\n",
    "from scripts.utils.write_metadata import append_metadata"
   ]
  },
  {
   "cell_type": "code",
   "execution_count": null,
   "metadata": {
    "execution": {
     "iopub.execute_input": "2024-06-21T21:33:30.242055Z",
     "iopub.status.busy": "2024-06-21T21:33:30.240878Z",
     "iopub.status.idle": "2024-06-21T21:33:40.041454Z",
     "shell.execute_reply": "2024-06-21T21:33:40.040740Z",
     "shell.execute_reply.started": "2024-06-21T21:33:30.242036Z"
    }
   },
   "outputs": [],
   "source": [
    "# read in CA census tiger file\n",
    "census_shp_dir = \"s3://ca-climate-index/0_map_data/2021_tiger_census_tract/2021_ca_tract/\"\n",
    "ca_boundaries = gpd.read_file(census_shp_dir)\n",
    "\n",
    "# Create a copy of the relevant columns from ca_boundaries\n",
    "filtered_ca_boundaries = ca_boundaries[['GEOID', 'geometry']].copy()\n",
    "\n",
    "# Rename the 'GEOID' column to 'tract'\n",
    "filtered_ca_boundaries.rename(columns={'GEOID': 'tract'}, inplace=True)\n",
    "\n",
    "# Remove the first character from the 'tract' column\n",
    "filtered_ca_boundaries['tract'] = filtered_ca_boundaries['tract'].str[1:]\n",
    "\n",
    "# Display the resulting DataFrame\n",
    "filtered_ca_boundaries"
   ]
  },
  {
   "cell_type": "code",
   "execution_count": null,
   "metadata": {
    "execution": {
     "iopub.execute_input": "2024-06-21T21:33:40.042480Z",
     "iopub.status.busy": "2024-06-21T21:33:40.042338Z",
     "iopub.status.idle": "2024-06-21T21:33:41.189694Z",
     "shell.execute_reply": "2024-06-21T21:33:41.188912Z",
     "shell.execute_reply.started": "2024-06-21T21:33:40.042468Z"
    }
   },
   "outputs": [],
   "source": [
    "# read in CA census tiger file\n",
    "ca_tract_county = \"s3://ca-climate-index/0_map_data/ca_tracts_county.csv\"\n",
    "ca_tract_county = gpd.read_file(ca_tract_county)\n",
    "ca_tract_county = ca_tract_county.drop(columns={'field_1', 'geometry'})\n",
    "ca_tract_county.columns = ca_tract_county.columns.str.lower()\n",
    "ca_tract_county = ca_tract_county.applymap(lambda s: s.lower() if type(s) == str else s)\n",
    "\n",
    "ca_tract_county"
   ]
  },
  {
   "cell_type": "markdown",
   "metadata": {},
   "source": [
    "### Function to help fact check results for the first three metrics"
   ]
  },
  {
   "cell_type": "code",
   "execution_count": 4,
   "metadata": {
    "execution": {
     "iopub.execute_input": "2024-06-21T21:33:41.190615Z",
     "iopub.status.busy": "2024-06-21T21:33:41.190442Z",
     "iopub.status.idle": "2024-06-21T21:33:41.194131Z",
     "shell.execute_reply": "2024-06-21T21:33:41.193553Z",
     "shell.execute_reply.started": "2024-06-21T21:33:41.190602Z"
    }
   },
   "outputs": [],
   "source": [
    "def county_count(df, county_col, county, counter_list):\n",
    "    county_isolate = df[df[county_col] == county]\n",
    "    county_isolate_drop_duplicates = county_isolate.drop_duplicates(subset=[county_col] + counter_list)\n",
    "    print(f'Length of df for {county} county without dropping duplicates: {len(county_isolate)}')\n",
    "    print(f'Length of df for {county} county after dropping duplicates: {len(county_isolate_drop_duplicates)}')"
   ]
  },
  {
   "cell_type": "code",
   "execution_count": null,
   "metadata": {
    "execution": {
     "iopub.execute_input": "2024-06-21T21:33:41.195514Z",
     "iopub.status.busy": "2024-06-21T21:33:41.195146Z",
     "iopub.status.idle": "2024-06-21T21:33:43.263780Z",
     "shell.execute_reply": "2024-06-21T21:33:43.263103Z",
     "shell.execute_reply.started": "2024-06-21T21:33:41.195500Z"
    }
   },
   "outputs": [],
   "source": [
    "# pull csv from aws\n",
    "bucket_name = 'ca-climate-index'\n",
    "aws_dir = '2b_reproject/built_environment/transportation/cdot/'\n",
    "\n",
    "pull_gpkg_from_directory(bucket_name, aws_dir)"
   ]
  },
  {
   "cell_type": "code",
   "execution_count": 6,
   "metadata": {
    "execution": {
     "iopub.execute_input": "2024-06-21T21:33:43.265215Z",
     "iopub.status.busy": "2024-06-21T21:33:43.264747Z",
     "iopub.status.idle": "2024-06-21T21:33:55.943174Z",
     "shell.execute_reply": "2024-06-21T21:33:55.942610Z",
     "shell.execute_reply.started": "2024-06-21T21:33:43.265198Z"
    }
   },
   "outputs": [],
   "source": [
    "airport_data = gpd.read_file('built_caltrans_airports.gpkg')\n",
    "bridge_data = gpd.read_file('built_caltrans_bridges.gpkg')\n",
    "highway_data = gpd.read_file('built_caltrans_highways.gpkg')\n",
    "bottleneck_data = gpd.read_file('built_caltrans_road_bottlenecks.gpkg')\n",
    "freight_rail_data = gpd.read_file('built_caltrans_rails.gpkg')"
   ]
  },
  {
   "cell_type": "markdown",
   "metadata": {},
   "source": [
    "### Metric 1: Number of Airports per CA County"
   ]
  },
  {
   "cell_type": "code",
   "execution_count": null,
   "metadata": {
    "execution": {
     "iopub.execute_input": "2024-06-21T21:33:55.944230Z",
     "iopub.status.busy": "2024-06-21T21:33:55.944027Z",
     "iopub.status.idle": "2024-06-21T21:33:55.950532Z",
     "shell.execute_reply": "2024-06-21T21:33:55.949998Z",
     "shell.execute_reply.started": "2024-06-21T21:33:55.944215Z"
    }
   },
   "outputs": [],
   "source": [
    "airport_data.columns"
   ]
  },
  {
   "cell_type": "code",
   "execution_count": null,
   "metadata": {
    "execution": {
     "iopub.execute_input": "2024-06-21T21:33:55.951322Z",
     "iopub.status.busy": "2024-06-21T21:33:55.951185Z",
     "iopub.status.idle": "2024-06-21T21:33:55.992634Z",
     "shell.execute_reply": "2024-06-21T21:33:55.991984Z",
     "shell.execute_reply.started": "2024-06-21T21:33:55.951311Z"
    }
   },
   "outputs": [],
   "source": [
    "airport_data.head(5)"
   ]
  },
  {
   "cell_type": "markdown",
   "metadata": {},
   "source": [
    "Has county column, so running our filter county function\n",
    "* One misspelled county, fix in the same cell"
   ]
  },
  {
   "cell_type": "code",
   "execution_count": null,
   "metadata": {
    "execution": {
     "iopub.execute_input": "2024-06-21T21:33:55.993446Z",
     "iopub.status.busy": "2024-06-21T21:33:55.993280Z",
     "iopub.status.idle": "2024-06-21T21:33:56.004724Z",
     "shell.execute_reply": "2024-06-21T21:33:56.004070Z",
     "shell.execute_reply.started": "2024-06-21T21:33:55.993432Z"
    }
   },
   "outputs": [],
   "source": [
    "print('length of airport data before county filter:', len(airport_data))\n",
    "airport_counties, omitted_airports = filter_counties(airport_data, 'COUNTY', county_list=None)\n",
    "print('length of aiprort data after county filter:', len(airport_counties))\n",
    "print('')\n",
    "\n",
    "print('Omitted rows:')\n",
    "omitted_airports = omitted_airports['COUNTY']\n",
    "display(omitted_airports)\n",
    "print('')\n",
    "\n",
    "print('fixing spelling issue so airport data is ready for future steps:')\n",
    "cleaned_airport_data = airport_data\n",
    "cleaned_airport_data['COUNTY'] = airport_counties[\"COUNTY\"].replace('Humbolt', 'Humboldt')\n",
    "print('length of cleaned airport data:', len(cleaned_airport_data))"
   ]
  },
  {
   "cell_type": "code",
   "execution_count": null,
   "metadata": {
    "execution": {
     "iopub.execute_input": "2024-06-21T21:33:56.005583Z",
     "iopub.status.busy": "2024-06-21T21:33:56.005405Z",
     "iopub.status.idle": "2024-06-21T21:33:56.023600Z",
     "shell.execute_reply": "2024-06-21T21:33:56.023070Z",
     "shell.execute_reply.started": "2024-06-21T21:33:56.005570Z"
    }
   },
   "outputs": [],
   "source": [
    "# Convert all string columns to lowercase\n",
    "str_columns = cleaned_airport_data.select_dtypes(include=['object']).columns\n",
    "for col in str_columns:\n",
    "    cleaned_airport_data[col] = cleaned_airport_data[col].str.lower()\n",
    "\n",
    "# Isolate to relevant columns and drop duplicate rows with same airport and county\n",
    "columns_to_keep = ['AIRPORTID','COUNTY']\n",
    "cleaned_airport_data = cleaned_airport_data[columns_to_keep]\n",
    "unique_airports = cleaned_airport_data.drop_duplicates(subset=['COUNTY', 'AIRPORTID'])\n",
    "\n",
    "cleaned_airport_data"
   ]
  },
  {
   "cell_type": "code",
   "execution_count": null,
   "metadata": {
    "execution": {
     "iopub.execute_input": "2024-06-21T21:33:56.025284Z",
     "iopub.status.busy": "2024-06-21T21:33:56.025132Z",
     "iopub.status.idle": "2024-06-21T21:33:56.037057Z",
     "shell.execute_reply": "2024-06-21T21:33:56.036518Z",
     "shell.execute_reply.started": "2024-06-21T21:33:56.025272Z"
    }
   },
   "outputs": [],
   "source": [
    "county_count_airports = cleaned_airport_data.groupby('COUNTY')['AIRPORTID'].apply(lambda x: x.notnull().sum()).reset_index()\n",
    "county_count_airports = county_count_airports.rename(columns={'AIRPORTID':'number_of_airports', 'COUNTY':'county'})\n",
    "county_count_airports.head()"
   ]
  },
  {
   "cell_type": "markdown",
   "metadata": {},
   "source": [
    "Merge California tract/county data with airport county counts"
   ]
  },
  {
   "cell_type": "code",
   "execution_count": null,
   "metadata": {
    "execution": {
     "iopub.execute_input": "2024-06-21T21:33:56.038121Z",
     "iopub.status.busy": "2024-06-21T21:33:56.037705Z",
     "iopub.status.idle": "2024-06-21T21:33:56.052752Z",
     "shell.execute_reply": "2024-06-21T21:33:56.052198Z",
     "shell.execute_reply.started": "2024-06-21T21:33:56.038106Z"
    }
   },
   "outputs": [],
   "source": [
    "airport_count_tract = pd.merge(ca_tract_county, county_count_airports, on='county', how='left')\n",
    "airport_count_tract"
   ]
  },
  {
   "cell_type": "markdown",
   "metadata": {},
   "source": [
    "Can fact check the results with our county count function\n",
    "* use original airport dataframe and airportid column"
   ]
  },
  {
   "cell_type": "code",
   "execution_count": null,
   "metadata": {
    "execution": {
     "iopub.execute_input": "2024-06-21T21:33:56.053489Z",
     "iopub.status.busy": "2024-06-21T21:33:56.053333Z",
     "iopub.status.idle": "2024-06-21T21:33:56.061361Z",
     "shell.execute_reply": "2024-06-21T21:33:56.060760Z",
     "shell.execute_reply.started": "2024-06-21T21:33:56.053477Z"
    }
   },
   "outputs": [],
   "source": [
    "county_count(airport_data, 'COUNTY', 'los angeles', ['AIRPORTID'])"
   ]
  },
  {
   "cell_type": "markdown",
   "metadata": {},
   "source": [
    "Save as a csv for future upload to S3"
   ]
  },
  {
   "cell_type": "code",
   "execution_count": 14,
   "metadata": {
    "execution": {
     "iopub.execute_input": "2024-06-21T21:33:56.062874Z",
     "iopub.status.busy": "2024-06-21T21:33:56.062081Z",
     "iopub.status.idle": "2024-06-21T21:33:56.084760Z",
     "shell.execute_reply": "2024-06-21T21:33:56.084094Z",
     "shell.execute_reply.started": "2024-06-21T21:33:56.062851Z"
    }
   },
   "outputs": [],
   "source": [
    "airport_count_tract.to_csv('built_transportation_airports_metric.csv', index=False)"
   ]
  },
  {
   "cell_type": "markdown",
   "metadata": {},
   "source": [
    "### Metric Number 2: Number of bridges per CA county"
   ]
  },
  {
   "cell_type": "code",
   "execution_count": null,
   "metadata": {
    "execution": {
     "iopub.execute_input": "2024-06-21T21:33:56.085634Z",
     "iopub.status.busy": "2024-06-21T21:33:56.085466Z",
     "iopub.status.idle": "2024-06-21T21:33:56.090032Z",
     "shell.execute_reply": "2024-06-21T21:33:56.089371Z",
     "shell.execute_reply.started": "2024-06-21T21:33:56.085621Z"
    }
   },
   "outputs": [],
   "source": [
    "bridge_data.columns"
   ]
  },
  {
   "cell_type": "code",
   "execution_count": null,
   "metadata": {
    "execution": {
     "iopub.execute_input": "2024-06-21T21:33:56.090915Z",
     "iopub.status.busy": "2024-06-21T21:33:56.090741Z",
     "iopub.status.idle": "2024-06-21T21:33:56.163957Z",
     "shell.execute_reply": "2024-06-21T21:33:56.163210Z",
     "shell.execute_reply.started": "2024-06-21T21:33:56.090901Z"
    }
   },
   "outputs": [],
   "source": [
    "# Convert all string columns to lowercase\n",
    "str_columns = bridge_data.select_dtypes(include=['object']).columns\n",
    "for col in str_columns:\n",
    "    bridge_data[col] = bridge_data[col].str.lower()\n",
    "\n",
    "columns_to_keep = ['BRIDGE','USCB_COUNTYFP']\n",
    "cleaned_bridge_data = bridge_data[columns_to_keep]\n",
    "unique_bridges = cleaned_bridge_data.drop_duplicates(subset=['USCB_COUNTYFP', 'BRIDGE'])\n",
    "\n",
    "unique_bridges"
   ]
  },
  {
   "cell_type": "code",
   "execution_count": null,
   "metadata": {
    "execution": {
     "iopub.execute_input": "2024-06-21T21:33:56.164774Z",
     "iopub.status.busy": "2024-06-21T21:33:56.164604Z",
     "iopub.status.idle": "2024-06-21T21:33:56.179736Z",
     "shell.execute_reply": "2024-06-21T21:33:56.179047Z",
     "shell.execute_reply.started": "2024-06-21T21:33:56.164760Z"
    }
   },
   "outputs": [],
   "source": [
    "county_count_bridges = unique_bridges.groupby('USCB_COUNTYFP')['BRIDGE'].apply(lambda x: x.notnull().sum()).reset_index()\n",
    "county_count_bridges = county_count_bridges.rename(columns={'BRIDGE':'numbers_of_bridges', 'USCB_COUNTYFP':'countyfp'})\n",
    "county_count_bridges.head()"
   ]
  },
  {
   "cell_type": "code",
   "execution_count": null,
   "metadata": {
    "execution": {
     "iopub.execute_input": "2024-06-21T21:33:56.180773Z",
     "iopub.status.busy": "2024-06-21T21:33:56.180543Z",
     "iopub.status.idle": "2024-06-21T21:33:56.190248Z",
     "shell.execute_reply": "2024-06-21T21:33:56.189728Z",
     "shell.execute_reply.started": "2024-06-21T21:33:56.180743Z"
    }
   },
   "outputs": [],
   "source": [
    "bridge_count_tracts = pd.merge(ca_tract_county, county_count_bridges, on='countyfp', how='left')\n",
    "bridge_count_tracts"
   ]
  },
  {
   "cell_type": "code",
   "execution_count": null,
   "metadata": {
    "execution": {
     "iopub.execute_input": "2024-06-21T21:33:56.191304Z",
     "iopub.status.busy": "2024-06-21T21:33:56.190853Z",
     "iopub.status.idle": "2024-06-21T21:33:56.212480Z",
     "shell.execute_reply": "2024-06-21T21:33:56.211769Z",
     "shell.execute_reply.started": "2024-06-21T21:33:56.191287Z"
    }
   },
   "outputs": [],
   "source": [
    "county_count(bridge_data, 'USCB_COUNTYFP', '037', ['BRIDGE'])"
   ]
  },
  {
   "cell_type": "code",
   "execution_count": 20,
   "metadata": {
    "execution": {
     "iopub.execute_input": "2024-06-21T21:33:56.213534Z",
     "iopub.status.busy": "2024-06-21T21:33:56.213321Z",
     "iopub.status.idle": "2024-06-21T21:33:56.229974Z",
     "shell.execute_reply": "2024-06-21T21:33:56.229166Z",
     "shell.execute_reply.started": "2024-06-21T21:33:56.213517Z"
    }
   },
   "outputs": [],
   "source": [
    "bridge_count_tracts.to_csv('built_transportation_bridge_metric.csv', index=False)"
   ]
  },
  {
   "cell_type": "markdown",
   "metadata": {},
   "source": [
    "### Metric number 3: Number of bottleneck areas per county"
   ]
  },
  {
   "cell_type": "code",
   "execution_count": null,
   "metadata": {
    "execution": {
     "iopub.execute_input": "2024-06-21T21:33:56.230959Z",
     "iopub.status.busy": "2024-06-21T21:33:56.230761Z",
     "iopub.status.idle": "2024-06-21T21:33:56.235117Z",
     "shell.execute_reply": "2024-06-21T21:33:56.234417Z",
     "shell.execute_reply.started": "2024-06-21T21:33:56.230946Z"
    }
   },
   "outputs": [],
   "source": [
    "bottleneck_data.columns"
   ]
  },
  {
   "cell_type": "code",
   "execution_count": null,
   "metadata": {
    "execution": {
     "iopub.execute_input": "2024-06-21T21:33:56.236155Z",
     "iopub.status.busy": "2024-06-21T21:33:56.235757Z",
     "iopub.status.idle": "2024-06-21T21:33:56.249824Z",
     "shell.execute_reply": "2024-06-21T21:33:56.249158Z",
     "shell.execute_reply.started": "2024-06-21T21:33:56.236142Z"
    }
   },
   "outputs": [],
   "source": [
    "bottleneck_data.head(5)"
   ]
  },
  {
   "cell_type": "markdown",
   "metadata": {},
   "source": [
    "As bottlenecks are a bit unique, I selected a few columns when removing duplicates\n",
    "* If county, direction of traffic, rank of bottleneck, and time of day are all the same between rows,\n",
    "one will be removed\n",
    "\n",
    "I also checked number of duplicates for all of the columns to keep and there are no missing data"
   ]
  },
  {
   "cell_type": "code",
   "execution_count": null,
   "metadata": {
    "execution": {
     "iopub.execute_input": "2024-06-21T21:33:56.250978Z",
     "iopub.status.busy": "2024-06-21T21:33:56.250586Z",
     "iopub.status.idle": "2024-06-21T21:33:56.270560Z",
     "shell.execute_reply": "2024-06-21T21:33:56.270009Z",
     "shell.execute_reply.started": "2024-06-21T21:33:56.250963Z"
    }
   },
   "outputs": [],
   "source": [
    "# Convert all string columns to lowercase\n",
    "str_columns = bottleneck_data.select_dtypes(include=['object']).columns\n",
    "for col in str_columns:\n",
    "    bottleneck_data[col] = bottleneck_data[col].str.lower()\n",
    "\n",
    "columns_to_keep = ['USCB_COUNTYFP','Rank', 'Direction', 'Shift', 'Name']\n",
    "cleaned_bottleneck_data = bottleneck_data[columns_to_keep]\n",
    "unique_bottlenecks = cleaned_bottleneck_data.drop_duplicates(subset=['USCB_COUNTYFP', 'Rank', 'Direction', 'Shift'])\n",
    "unique_bottlenecks"
   ]
  },
  {
   "cell_type": "code",
   "execution_count": null,
   "metadata": {
    "execution": {
     "iopub.execute_input": "2024-06-21T21:34:31.850355Z",
     "iopub.status.busy": "2024-06-21T21:34:31.849993Z",
     "iopub.status.idle": "2024-06-21T21:34:31.861138Z",
     "shell.execute_reply": "2024-06-21T21:34:31.860518Z",
     "shell.execute_reply.started": "2024-06-21T21:34:31.850340Z"
    }
   },
   "outputs": [],
   "source": [
    "county_count_bottlenecks = unique_bottlenecks.groupby('USCB_COUNTYFP')['Name'].apply(lambda x: x.notnull().sum()).reset_index()\n",
    "county_count_bottlenecks = county_count_bottlenecks.rename(columns={'Name':'number_of_bottlenecks', 'USCB_COUNTYFP':'countyfp'})\n",
    "county_count_bottlenecks"
   ]
  },
  {
   "cell_type": "code",
   "execution_count": null,
   "metadata": {
    "execution": {
     "iopub.execute_input": "2024-06-21T21:34:33.944202Z",
     "iopub.status.busy": "2024-06-21T21:34:33.943848Z",
     "iopub.status.idle": "2024-06-21T21:34:33.954981Z",
     "shell.execute_reply": "2024-06-21T21:34:33.954370Z",
     "shell.execute_reply.started": "2024-06-21T21:34:33.944187Z"
    }
   },
   "outputs": [],
   "source": [
    "bottleneck_count_tracts = pd.merge(ca_tract_county, county_count_bottlenecks, on='countyfp', how='left')\n",
    "bottleneck_count_tracts"
   ]
  },
  {
   "cell_type": "code",
   "execution_count": null,
   "metadata": {
    "execution": {
     "iopub.execute_input": "2024-06-21T21:34:34.720064Z",
     "iopub.status.busy": "2024-06-21T21:34:34.719788Z",
     "iopub.status.idle": "2024-06-21T21:34:34.728886Z",
     "shell.execute_reply": "2024-06-21T21:34:34.728125Z",
     "shell.execute_reply.started": "2024-06-21T21:34:34.720047Z"
    }
   },
   "outputs": [],
   "source": [
    "counter = ['Rank', 'Direction', 'Shift']\n",
    "county_count(bottleneck_data, 'USCB_COUNTYFP', '013', counter_list=counter)"
   ]
  },
  {
   "cell_type": "code",
   "execution_count": 27,
   "metadata": {
    "execution": {
     "iopub.execute_input": "2024-06-21T21:34:35.104238Z",
     "iopub.status.busy": "2024-06-21T21:34:35.103800Z",
     "iopub.status.idle": "2024-06-21T21:34:35.122936Z",
     "shell.execute_reply": "2024-06-21T21:34:35.122362Z",
     "shell.execute_reply.started": "2024-06-21T21:34:35.104220Z"
    }
   },
   "outputs": [],
   "source": [
    "bottleneck_count_tracts.to_csv('built_transportation_bottleneck_metric.csv', index=False)"
   ]
  },
  {
   "cell_type": "markdown",
   "metadata": {},
   "source": [
    "### Metric number 4: number of miles of highway per county"
   ]
  },
  {
   "cell_type": "code",
   "execution_count": null,
   "metadata": {
    "execution": {
     "iopub.execute_input": "2024-06-21T21:34:48.095756Z",
     "iopub.status.busy": "2024-06-21T21:34:48.095495Z",
     "iopub.status.idle": "2024-06-21T21:34:48.100307Z",
     "shell.execute_reply": "2024-06-21T21:34:48.099608Z",
     "shell.execute_reply.started": "2024-06-21T21:34:48.095741Z"
    }
   },
   "outputs": [],
   "source": [
    "highway_data.columns"
   ]
  },
  {
   "cell_type": "code",
   "execution_count": null,
   "metadata": {
    "execution": {
     "iopub.execute_input": "2024-06-21T21:34:50.145733Z",
     "iopub.status.busy": "2024-06-21T21:34:50.145467Z",
     "iopub.status.idle": "2024-06-21T21:34:50.377059Z",
     "shell.execute_reply": "2024-06-21T21:34:50.376503Z",
     "shell.execute_reply.started": "2024-06-21T21:34:50.145718Z"
    }
   },
   "outputs": [],
   "source": [
    "# Convert all string columns to lowercase\n",
    "str_columns = highway_data.select_dtypes(include=['object']).columns\n",
    "for col in str_columns:\n",
    "    highway_data[col] = highway_data[col].str.lower()\n",
    "\n",
    "columns_to_keep = ['USCB_COUNTYFP','RouteID', 'geometry']\n",
    "cleaned_highway_data = highway_data[columns_to_keep]\n",
    "unique_highway = cleaned_highway_data.drop_duplicates(subset=['USCB_COUNTYFP', 'RouteID', 'geometry'])\n",
    "unique_highway"
   ]
  },
  {
   "cell_type": "code",
   "execution_count": null,
   "metadata": {
    "execution": {
     "iopub.execute_input": "2024-06-21T21:34:51.481554Z",
     "iopub.status.busy": "2024-06-21T21:34:51.481121Z",
     "iopub.status.idle": "2024-06-21T21:34:51.979197Z",
     "shell.execute_reply": "2024-06-21T21:34:51.978538Z",
     "shell.execute_reply.started": "2024-06-21T21:34:51.481537Z"
    }
   },
   "outputs": [],
   "source": [
    "# have to go back to an equal-area projection to reliably measure geometry length\n",
    "unique_highway = unique_highway.to_crs(\"EPSG:3857\")\n",
    "unique_highway"
   ]
  },
  {
   "cell_type": "code",
   "execution_count": null,
   "metadata": {
    "execution": {
     "iopub.execute_input": "2024-06-21T21:34:52.792257Z",
     "iopub.status.busy": "2024-06-21T21:34:52.791768Z",
     "iopub.status.idle": "2024-06-21T21:34:52.815814Z",
     "shell.execute_reply": "2024-06-21T21:34:52.815262Z",
     "shell.execute_reply.started": "2024-06-21T21:34:52.792240Z"
    }
   },
   "outputs": [],
   "source": [
    "unique_highway[\"length_in_meters\"] = unique_highway.geometry.length\n",
    "unique_highway"
   ]
  },
  {
   "cell_type": "code",
   "execution_count": null,
   "metadata": {
    "execution": {
     "iopub.execute_input": "2024-06-21T21:35:18.691207Z",
     "iopub.status.busy": "2024-06-21T21:35:18.690695Z",
     "iopub.status.idle": "2024-06-21T21:35:18.705646Z",
     "shell.execute_reply": "2024-06-21T21:35:18.705063Z",
     "shell.execute_reply.started": "2024-06-21T21:35:18.691186Z"
    }
   },
   "outputs": [],
   "source": [
    "meters_to_miles = 0.000621371 #conversion scalar\n",
    "highway_miles = unique_highway\n",
    "highway_miles[\"highway_length_in_miles\"] = highway_miles[\"length_in_meters\"]*meters_to_miles\n",
    "highway_miles.columns = highway_miles.columns.str.lower()\n",
    "highway_miles=highway_miles.rename(columns={'uscb_countyfp':'countyfp'})\n",
    "highway_miles"
   ]
  },
  {
   "cell_type": "markdown",
   "metadata": {},
   "source": [
    "### To check if the math is correct, I use county fip 17 (el dorado) to visualize the estimated length"
   ]
  },
  {
   "cell_type": "code",
   "execution_count": null,
   "metadata": {
    "execution": {
     "iopub.execute_input": "2024-06-21T21:35:24.440073Z",
     "iopub.status.busy": "2024-06-21T21:35:24.439523Z",
     "iopub.status.idle": "2024-06-21T21:35:24.467484Z",
     "shell.execute_reply": "2024-06-21T21:35:24.466861Z",
     "shell.execute_reply.started": "2024-06-21T21:35:24.440055Z"
    }
   },
   "outputs": [],
   "source": [
    "el_dorado_before_summing = highway_miles[highway_miles['countyfp'] == '017']\n",
    "el_dorado_before_summing"
   ]
  },
  {
   "cell_type": "markdown",
   "metadata": {},
   "source": [
    "### Sum the estimated length of highways by county"
   ]
  },
  {
   "cell_type": "code",
   "execution_count": null,
   "metadata": {
    "execution": {
     "iopub.execute_input": "2024-06-21T21:35:30.537741Z",
     "iopub.status.busy": "2024-06-21T21:35:30.537211Z",
     "iopub.status.idle": "2024-06-21T21:35:30.553613Z",
     "shell.execute_reply": "2024-06-21T21:35:30.553026Z",
     "shell.execute_reply.started": "2024-06-21T21:35:30.537721Z"
    }
   },
   "outputs": [],
   "source": [
    "# Sum the mileage by county\n",
    "sum_county_milage = highway_miles.groupby('countyfp')['highway_length_in_miles'].sum().reset_index()\n",
    "\n",
    "# Merge with ca_tract_county DataFrame\n",
    "highway_milage_tracts = pd.merge(ca_tract_county, sum_county_milage, on='countyfp', how='left')\n",
    "\n",
    "# Display the result\n",
    "highway_milage_tracts"
   ]
  },
  {
   "cell_type": "code",
   "execution_count": null,
   "metadata": {
    "execution": {
     "iopub.execute_input": "2024-06-21T21:35:57.530128Z",
     "iopub.status.busy": "2024-06-21T21:35:57.529888Z",
     "iopub.status.idle": "2024-06-21T21:35:57.538804Z",
     "shell.execute_reply": "2024-06-21T21:35:57.538106Z",
     "shell.execute_reply.started": "2024-06-21T21:35:57.530114Z"
    }
   },
   "outputs": [],
   "source": [
    "el_dorado_after_summing = highway_milage_tracts[highway_milage_tracts['countyfp'] == '017']\n",
    "el_dorado_after_summing.head()"
   ]
  },
  {
   "cell_type": "code",
   "execution_count": 36,
   "metadata": {
    "execution": {
     "iopub.execute_input": "2024-06-21T21:36:02.809248Z",
     "iopub.status.busy": "2024-06-21T21:36:02.808815Z",
     "iopub.status.idle": "2024-06-21T21:36:02.844308Z",
     "shell.execute_reply": "2024-06-21T21:36:02.843756Z",
     "shell.execute_reply.started": "2024-06-21T21:36:02.809231Z"
    }
   },
   "outputs": [],
   "source": [
    "highway_milage_tracts.to_csv('built_transportation_highway_metric.csv', index=False)"
   ]
  },
  {
   "cell_type": "markdown",
   "metadata": {},
   "source": [
    "### Metric number 5: Number of miles of rail tracks per county \n",
    "Metadata reference for variable / unit conventions: https://map.dfg.ca.gov/metadata/ds1337.html"
   ]
  },
  {
   "cell_type": "code",
   "execution_count": null,
   "metadata": {
    "execution": {
     "iopub.execute_input": "2024-06-21T21:36:24.234640Z",
     "iopub.status.busy": "2024-06-21T21:36:24.233843Z",
     "iopub.status.idle": "2024-06-21T21:36:24.238808Z",
     "shell.execute_reply": "2024-06-21T21:36:24.238214Z",
     "shell.execute_reply.started": "2024-06-21T21:36:24.234620Z"
    }
   },
   "outputs": [],
   "source": [
    "freight_rail_data.columns"
   ]
  },
  {
   "cell_type": "code",
   "execution_count": null,
   "metadata": {
    "execution": {
     "iopub.execute_input": "2024-06-21T21:36:25.159721Z",
     "iopub.status.busy": "2024-06-21T21:36:25.159347Z",
     "iopub.status.idle": "2024-06-21T21:36:25.179012Z",
     "shell.execute_reply": "2024-06-21T21:36:25.178006Z",
     "shell.execute_reply.started": "2024-06-21T21:36:25.159704Z"
    }
   },
   "outputs": [],
   "source": [
    "freight_rail_data.head(5)"
   ]
  },
  {
   "cell_type": "code",
   "execution_count": null,
   "metadata": {
    "execution": {
     "iopub.execute_input": "2024-06-21T21:44:23.304668Z",
     "iopub.status.busy": "2024-06-21T21:44:23.304240Z",
     "iopub.status.idle": "2024-06-21T21:44:23.364313Z",
     "shell.execute_reply": "2024-06-21T21:44:23.363748Z",
     "shell.execute_reply.started": "2024-06-21T21:44:23.304650Z"
    }
   },
   "outputs": [],
   "source": [
    "# Convert all string columns to lowercase\n",
    "str_columns = freight_rail_data.select_dtypes(include=['object']).columns\n",
    "for col in str_columns:\n",
    "    freight_rail_data[col] = freight_rail_data[col].str.lower()\n",
    "\n",
    "columns_to_keep = ['OBJECTID','USCB_COUNTYFP', 'geometry']\n",
    "cleaned_rail_data = freight_rail_data[columns_to_keep]\n",
    "unique_rail = cleaned_rail_data.drop_duplicates(subset=['OBJECTID', 'USCB_COUNTYFP', 'geometry'])\n",
    "\n",
    "unique_rail"
   ]
  },
  {
   "cell_type": "code",
   "execution_count": null,
   "metadata": {
    "execution": {
     "iopub.execute_input": "2024-06-21T21:44:25.411072Z",
     "iopub.status.busy": "2024-06-21T21:44:25.410612Z",
     "iopub.status.idle": "2024-06-21T21:44:25.469730Z",
     "shell.execute_reply": "2024-06-21T21:44:25.469146Z",
     "shell.execute_reply.started": "2024-06-21T21:44:25.411054Z"
    }
   },
   "outputs": [],
   "source": [
    "# have to go back to an equal-area projection to reliably measure geometry length\n",
    "unique_rail = unique_rail.to_crs(\"EPSG:3857\")\n",
    "unique_rail"
   ]
  },
  {
   "cell_type": "code",
   "execution_count": null,
   "metadata": {
    "execution": {
     "iopub.execute_input": "2024-06-21T21:44:33.026209Z",
     "iopub.status.busy": "2024-06-21T21:44:33.025817Z",
     "iopub.status.idle": "2024-06-21T21:44:33.036514Z",
     "shell.execute_reply": "2024-06-21T21:44:33.035848Z",
     "shell.execute_reply.started": "2024-06-21T21:44:33.026189Z"
    }
   },
   "outputs": [],
   "source": [
    "unique_rail[\"length_in_meters\"] = unique_rail.geometry.length\n",
    "unique_rail"
   ]
  },
  {
   "cell_type": "code",
   "execution_count": null,
   "metadata": {
    "execution": {
     "iopub.execute_input": "2024-06-21T21:44:42.546000Z",
     "iopub.status.busy": "2024-06-21T21:44:42.545620Z",
     "iopub.status.idle": "2024-06-21T21:44:42.558471Z",
     "shell.execute_reply": "2024-06-21T21:44:42.557901Z",
     "shell.execute_reply.started": "2024-06-21T21:44:42.545984Z"
    }
   },
   "outputs": [],
   "source": [
    "meters_to_miles = 0.000621371 #conversion scalar\n",
    "rail_miles = unique_rail\n",
    "rail_miles[\"railway_length_in_miles\"] = rail_miles[\"length_in_meters\"]*meters_to_miles\n",
    "rail_miles.columns = rail_miles.columns.str.lower()\n",
    "rail_miles=rail_miles.rename(columns={'uscb_countyfp':'countyfp'})\n",
    "rail_miles"
   ]
  },
  {
   "cell_type": "markdown",
   "metadata": {},
   "source": [
    "Look at Los Angeles rows that are to be summed"
   ]
  },
  {
   "cell_type": "code",
   "execution_count": null,
   "metadata": {
    "execution": {
     "iopub.execute_input": "2024-06-21T21:44:51.795945Z",
     "iopub.status.busy": "2024-06-21T21:44:51.795333Z",
     "iopub.status.idle": "2024-06-21T21:44:51.807949Z",
     "shell.execute_reply": "2024-06-21T21:44:51.807344Z",
     "shell.execute_reply.started": "2024-06-21T21:44:51.795925Z"
    }
   },
   "outputs": [],
   "source": [
    "la_before_summing = rail_miles[rail_miles['countyfp'] == '037']\n",
    "\n",
    "la_before_summing"
   ]
  },
  {
   "cell_type": "code",
   "execution_count": null,
   "metadata": {
    "execution": {
     "iopub.execute_input": "2024-06-21T21:45:20.280822Z",
     "iopub.status.busy": "2024-06-21T21:45:20.280401Z",
     "iopub.status.idle": "2024-06-21T21:45:20.292709Z",
     "shell.execute_reply": "2024-06-21T21:45:20.292080Z",
     "shell.execute_reply.started": "2024-06-21T21:45:20.280802Z"
    }
   },
   "outputs": [],
   "source": [
    "# Sum the mileage by county\n",
    "sum_county_rail_miles = rail_miles.groupby('countyfp')['railway_length_in_miles'].sum().reset_index()\n",
    "\n",
    "# Merge with ca_tract_county DataFrame\n",
    "rail_milage_tracts = pd.merge(ca_tract_county, sum_county_rail_miles, on='countyfp', how='left')\n",
    "\n",
    "# Display the result\n",
    "rail_milage_tracts.head()"
   ]
  },
  {
   "cell_type": "markdown",
   "metadata": {},
   "source": [
    "Looking at Los Angeles sums"
   ]
  },
  {
   "cell_type": "code",
   "execution_count": null,
   "metadata": {
    "execution": {
     "iopub.execute_input": "2024-06-21T21:45:26.145811Z",
     "iopub.status.busy": "2024-06-21T21:45:26.145516Z",
     "iopub.status.idle": "2024-06-21T21:45:26.154591Z",
     "shell.execute_reply": "2024-06-21T21:45:26.153973Z",
     "shell.execute_reply.started": "2024-06-21T21:45:26.145796Z"
    }
   },
   "outputs": [],
   "source": [
    "la_before_summing = rail_milage_tracts[rail_milage_tracts['countyfp'] == '037']\n",
    "la_before_summing.head()"
   ]
  },
  {
   "cell_type": "code",
   "execution_count": null,
   "metadata": {
    "execution": {
     "iopub.execute_input": "2024-06-21T21:45:31.162501Z",
     "iopub.status.busy": "2024-06-21T21:45:31.162119Z",
     "iopub.status.idle": "2024-06-21T21:45:31.170193Z",
     "shell.execute_reply": "2024-06-21T21:45:31.169550Z",
     "shell.execute_reply.started": "2024-06-21T21:45:31.162485Z"
    }
   },
   "outputs": [],
   "source": [
    "rail_milage_tracts"
   ]
  },
  {
   "cell_type": "code",
   "execution_count": 47,
   "metadata": {
    "execution": {
     "iopub.execute_input": "2024-06-21T21:45:37.417152Z",
     "iopub.status.busy": "2024-06-21T21:45:37.416606Z",
     "iopub.status.idle": "2024-06-21T21:45:37.444971Z",
     "shell.execute_reply": "2024-06-21T21:45:37.444058Z",
     "shell.execute_reply.started": "2024-06-21T21:45:37.417134Z"
    }
   },
   "outputs": [],
   "source": [
    "rail_milage_tracts.to_csv('built_transportation_rail_metric.csv', index=False)"
   ]
  },
  {
   "cell_type": "markdown",
   "metadata": {},
   "source": [
    "### Function call to upload to AWS"
   ]
  },
  {
   "cell_type": "code",
   "execution_count": 48,
   "metadata": {
    "execution": {
     "iopub.execute_input": "2024-06-21T17:52:19.341353Z",
     "iopub.status.busy": "2024-06-21T17:52:19.340570Z",
     "iopub.status.idle": "2024-06-21T17:52:19.358734Z",
     "shell.execute_reply": "2024-06-21T17:52:19.356933Z",
     "shell.execute_reply.started": "2024-06-21T17:52:19.341316Z"
    }
   },
   "outputs": [],
   "source": [
    "@append_metadata\n",
    "def transportation_upload(input_csv, export=False, varname=''):\n",
    "    '''\n",
    "    Uploads prepared transportation metric csvs to S3 bucket. Uploaded files are from the following metrics:\n",
    "    * number of airports per county\n",
    "    * number of bridges per county\n",
    "    * number of road bottlenecks per county\n",
    "    * number of miles of highway per county\n",
    "    * number of miles of freight rails per county\n",
    "\n",
    "    Data for all transportation metrics was sourced from California Department of Transportation at:\n",
    "    https://gisdata-caltrans.opendata.arcgis.com/\n",
    "\n",
    "    Methods\n",
    "    -------\n",
    "    Duplicate data were removed based on the metric data's location and metric identifier(s).\n",
    "    Relevant metric columns were isolated.\n",
    "    Metrics that calculated milage estimated length of that metric by identifying the length of an entries\n",
    "    geometry columm, converting the length to estimated miles, and summing all entries within the same county.\n",
    "    Metrics that calculated number of metrics per county grouped the data by county columns, and counted occurences.\n",
    "    Data was then merged to California 2021 census tracts, with counts by county being retained for each tract.\n",
    "    \n",
    "    Parameters\n",
    "    ----------\n",
    "    input_csv: string\n",
    "        csv economic data \n",
    "    export: True/False boolean\n",
    "        False = will exclusively generate the resulting metadata files for each transportation metric\n",
    "        True = will upload resulting df containing CAL CRAI transportation metrics to AWS\n",
    "\n",
    "    Script\n",
    "    ------\n",
    "    built_transportation.ipynb\n",
    "\n",
    "    Note:\n",
    "    This function assumes users have configured the AWS CLI such that their access key / secret key pair are stored in ~/.aws/credentials.\n",
    "    See https://docs.aws.amazon.com/cli/latest/userguide/getting-started-install.html for guidance.\n",
    "    '''\n",
    "    print('Data transformation: data cleaned by removing duplicate rows and isolating relevant columns.')\n",
    "    print('Data transformation: entries were summed per county for total number metrics.')\n",
    "    print('Data transformation: estimated milage metrics were reprojected to EPSG:3857.')\n",
    "    print('Data transformation: new columns calculated estimated milage per county metrics.')\n",
    "    print('Data transformation: data was merged to California census tracts.')\n",
    "\n",
    "    if export == True:\n",
    "        bucket_name = 'ca-climate-index'\n",
    "        directory = '3_fair_data/index_data'\n",
    "        export_filename = [input_csv]\n",
    "        upload_csv_aws(export_filename, bucket_name, directory)\n",
    "\n",
    "    if export == False:\n",
    "        print(f'{input_csv} uploaded to AWS.')\n",
    "\n",
    "    if os.path.exists(input_csv):\n",
    "        os.remove(input_csv)"
   ]
  },
  {
   "cell_type": "code",
   "execution_count": 49,
   "metadata": {
    "execution": {
     "iopub.execute_input": "2024-06-21T17:52:20.163239Z",
     "iopub.status.busy": "2024-06-21T17:52:20.162388Z",
     "iopub.status.idle": "2024-06-21T17:52:22.850005Z",
     "shell.execute_reply": "2024-06-21T17:52:22.847646Z",
     "shell.execute_reply.started": "2024-06-21T17:52:20.163205Z"
    }
   },
   "outputs": [],
   "source": [
    "input_csv = ['built_transportation_airports_metric.csv',\n",
    "            'built_transportation_bottleneck_metric.csv',\n",
    "            'built_transportation_bridge_metric.csv',\n",
    "            'built_transportation_highway_metric.csv',\n",
    "            'built_transportation_rail_metric.csv'\n",
    "            ]\n",
    "\n",
    "varnames = [\n",
    "    'built_caltrans_airports',\n",
    "    'built_caltrans_road_bottlenecks',\n",
    "    'built_caltrans_bridges',\n",
    "    'built_caltrans_highways',\n",
    "    'built_caltrans_rails'\n",
    "]\n",
    "\n",
    "for csv, var in zip(input_csv, varnames):\n",
    "    transportation_upload(csv, export=True, varname='test')"
   ]
  }
 ],
 "metadata": {
  "kernelspec": {
   "display_name": "Python 3 (ipykernel)",
   "language": "python",
   "name": "python3"
  },
  "language_info": {
   "codemirror_mode": {
    "name": "ipython",
    "version": 3
   },
   "file_extension": ".py",
   "mimetype": "text/x-python",
   "name": "python",
   "nbconvert_exporter": "python",
   "pygments_lexer": "ipython3",
   "version": "3.9.18"
  }
 },
 "nbformat": 4,
 "nbformat_minor": 4
}
