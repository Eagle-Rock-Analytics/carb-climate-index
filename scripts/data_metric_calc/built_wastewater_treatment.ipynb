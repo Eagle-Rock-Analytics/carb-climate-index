{
 "cells": [
  {
   "cell_type": "markdown",
   "metadata": {},
   "source": [
    "## Cal-CRAI Metric Calculation\n",
    "Domain: Built Environment \\\n",
    "Indicator: Untilites\n",
    "\n",
    "This notebook calculates one metric, sourced from the California State Water Resources Control Board:\n",
    "* Metric 1: Number of operating wastewater treatment facilities per California county"
   ]
  },
  {
   "cell_type": "code",
   "execution_count": 28,
   "metadata": {
    "execution": {
     "iopub.execute_input": "2024-06-19T19:57:58.924506Z",
     "iopub.status.busy": "2024-06-19T19:57:58.923532Z",
     "iopub.status.idle": "2024-06-19T19:57:59.766302Z",
     "shell.execute_reply": "2024-06-19T19:57:59.765735Z",
     "shell.execute_reply.started": "2024-06-19T19:57:58.924456Z"
    }
   },
   "outputs": [],
   "source": [
    "import os\n",
    "import sys\n",
    "import pandas as pd\n",
    "import io\n",
    "import numpy as np\n",
    "import geopandas as gpd\n",
    "\n",
    "sys.path.append(os.path.expanduser('../../'))\n",
    "from scripts.utils.write_metadata import (\n",
    "    append_metadata\n",
    ")\n",
    "from scripts.utils.file_helpers import (\n",
    "    pull_csv_from_directory, upload_csv_aws, filter_counties\n",
    ")"
   ]
  },
  {
   "cell_type": "code",
   "execution_count": null,
   "metadata": {
    "execution": {
     "iopub.execute_input": "2024-06-19T19:58:00.539660Z",
     "iopub.status.busy": "2024-06-19T19:58:00.537855Z",
     "iopub.status.idle": "2024-06-19T19:58:01.367796Z",
     "shell.execute_reply": "2024-06-19T19:58:01.366980Z",
     "shell.execute_reply.started": "2024-06-19T19:58:00.539589Z"
    }
   },
   "outputs": [],
   "source": [
    "# pull csv from aws\n",
    "bucket_name = 'ca-climate-index'\n",
    "aws_dir = '1_pull_data/built_environment/utilities/ca_wrcb/'\n",
    "\n",
    "pull_csv_from_directory(bucket_name, aws_dir, search_zipped=False)\n"
   ]
  },
  {
   "cell_type": "markdown",
   "metadata": {},
   "source": [
    "### Per the data source in reference to the 'Total' column:\n",
    " \n",
    " *Some facilities may be related to multiple programs. This field shows a unique count of facilities so the total across a row many not sum.\n",
    "\n",
    " I think this means the total value contains exclusively wastewater treatment facilities\n"
   ]
  },
  {
   "cell_type": "code",
   "execution_count": null,
   "metadata": {
    "execution": {
     "iopub.execute_input": "2024-06-19T20:17:56.689081Z",
     "iopub.status.busy": "2024-06-19T20:17:56.687837Z",
     "iopub.status.idle": "2024-06-19T20:17:56.709111Z",
     "shell.execute_reply": "2024-06-19T20:17:56.708110Z",
     "shell.execute_reply.started": "2024-06-19T20:17:56.689006Z"
    }
   },
   "outputs": [],
   "source": [
    "wastewater_facilities_data = pd.read_csv('swcrb_wastewater_treatment_facilities.csv')\n",
    "wastewater_facilities_data.head()"
   ]
  },
  {
   "cell_type": "code",
   "execution_count": null,
   "metadata": {
    "execution": {
     "iopub.execute_input": "2024-06-19T20:18:07.436510Z",
     "iopub.status.busy": "2024-06-19T20:18:07.435760Z",
     "iopub.status.idle": "2024-06-19T20:18:07.458679Z",
     "shell.execute_reply": "2024-06-19T20:18:07.457846Z",
     "shell.execute_reply.started": "2024-06-19T20:18:07.436472Z"
    }
   },
   "outputs": [],
   "source": [
    "sum_columns = ['CER','DOD','IRRI','NPDES','SSO','TANKS','WDR'] #excluding LNDISP\n",
    "wastewater_facilities_data['total_all_facilities'] = wastewater_facilities_data[sum_columns].sum(axis=1)\n",
    "wastewater_facilities_data = wastewater_facilities_data.rename(columns={'County':'county', 'Total':'num_exclusive_wastewater_facilities'})\n",
    "wastewater_facilities_data = wastewater_facilities_data.drop(columns='LNDISP')\n",
    "wastewater_facilities_data.head()"
   ]
  },
  {
   "cell_type": "code",
   "execution_count": null,
   "metadata": {
    "execution": {
     "iopub.execute_input": "2024-06-19T20:18:10.040417Z",
     "iopub.status.busy": "2024-06-19T20:18:10.039377Z",
     "iopub.status.idle": "2024-06-19T20:18:10.059296Z",
     "shell.execute_reply": "2024-06-19T20:18:10.058467Z",
     "shell.execute_reply.started": "2024-06-19T20:18:10.040343Z"
    }
   },
   "outputs": [],
   "source": [
    "filtered_wastewater_facilities = wastewater_facilities_data[['county', 'num_exclusive_wastewater_facilities', 'total_all_facilities']]\n",
    "filtered_wastewater_facilities = filtered_wastewater_facilities.applymap(lambda s: s.lower() if type(s) == str else s)\n",
    "\n",
    "filtered_wastewater_facilities.head()"
   ]
  },
  {
   "cell_type": "code",
   "execution_count": 41,
   "metadata": {
    "execution": {
     "iopub.execute_input": "2024-06-19T20:18:13.786696Z",
     "iopub.status.busy": "2024-06-19T20:18:13.786010Z",
     "iopub.status.idle": "2024-06-19T20:18:13.799425Z",
     "shell.execute_reply": "2024-06-19T20:18:13.798253Z",
     "shell.execute_reply.started": "2024-06-19T20:18:13.786663Z"
    }
   },
   "outputs": [],
   "source": [
    "further_filtered_wastewater_facilities, omitted_rows = filter_counties(filtered_wastewater_facilities, 'county')"
   ]
  },
  {
   "cell_type": "markdown",
   "metadata": {},
   "source": [
    "### All entires are counties except the total values at the end of the data, so we can continue to use filtered_wastewater_facilities when merging to California tract data"
   ]
  },
  {
   "cell_type": "code",
   "execution_count": null,
   "metadata": {
    "execution": {
     "iopub.execute_input": "2024-06-19T20:18:17.543960Z",
     "iopub.status.busy": "2024-06-19T20:18:17.542807Z",
     "iopub.status.idle": "2024-06-19T20:18:17.557161Z",
     "shell.execute_reply": "2024-06-19T20:18:17.556183Z",
     "shell.execute_reply.started": "2024-06-19T20:18:17.543891Z"
    }
   },
   "outputs": [],
   "source": [
    "omitted_rows"
   ]
  },
  {
   "cell_type": "markdown",
   "metadata": {},
   "source": [
    "### Call in California tract and county data and adjust the columns and entries to match our wastewater facility data for merging"
   ]
  },
  {
   "cell_type": "code",
   "execution_count": null,
   "metadata": {
    "execution": {
     "iopub.execute_input": "2024-06-19T20:18:25.176676Z",
     "iopub.status.busy": "2024-06-19T20:18:25.175957Z",
     "iopub.status.idle": "2024-06-19T20:18:27.685655Z",
     "shell.execute_reply": "2024-06-19T20:18:27.685288Z",
     "shell.execute_reply.started": "2024-06-19T20:18:25.176640Z"
    }
   },
   "outputs": [],
   "source": [
    "# read in CA census tiger file\n",
    "ca_tract_county = \"s3://ca-climate-index/0_map_data/ca_tracts_county.csv\"\n",
    "ca_tract_county = gpd.read_file(ca_tract_county)\n",
    "ca_tract_county.columns = ca_tract_county.columns.str.lower()\n",
    "ca_tract_county = ca_tract_county.applymap(lambda s: s.lower() if type(s) == str else s)\n",
    "ca_tract_county = ca_tract_county.drop(columns={'field_1', 'geometry', 'countyfp'})\n",
    "\n",
    "ca_tract_county"
   ]
  },
  {
   "cell_type": "markdown",
   "metadata": {},
   "source": [
    "### Merge CA tract and county data with cleaned wastewater treatement facility data\n",
    "* we have decided to use the original total column (now called num_exclusive_wastewater_facilities) for our metric"
   ]
  },
  {
   "cell_type": "code",
   "execution_count": null,
   "metadata": {
    "execution": {
     "iopub.execute_input": "2024-06-19T20:18:31.068688Z",
     "iopub.status.busy": "2024-06-19T20:18:31.067538Z",
     "iopub.status.idle": "2024-06-19T20:18:31.097459Z",
     "shell.execute_reply": "2024-06-19T20:18:31.096796Z",
     "shell.execute_reply.started": "2024-06-19T20:18:31.068650Z"
    }
   },
   "outputs": [],
   "source": [
    "merged_wastewater_facilities = pd.merge(ca_tract_county, filtered_wastewater_facilities, on='county', how='left')\n",
    "merged_wastewater_facilities = merged_wastewater_facilities.drop(columns='total_all_facilities')\n",
    "merged_wastewater_facilities"
   ]
  },
  {
   "cell_type": "code",
   "execution_count": 44,
   "metadata": {},
   "outputs": [],
   "source": [
    "# save final df to csv for upload\n",
    "merged_wastewater_facilities.to_csv('built_wastewater_treatment_facilities_metric.csv', index=False)"
   ]
  },
  {
   "cell_type": "markdown",
   "metadata": {},
   "source": [
    "## Function call"
   ]
  },
  {
   "cell_type": "code",
   "execution_count": 45,
   "metadata": {
    "execution": {
     "iopub.execute_input": "2024-06-19T20:24:02.681534Z",
     "iopub.status.busy": "2024-06-19T20:24:02.680784Z",
     "iopub.status.idle": "2024-06-19T20:24:02.694704Z",
     "shell.execute_reply": "2024-06-19T20:24:02.693229Z",
     "shell.execute_reply.started": "2024-06-19T20:24:02.681498Z"
    }
   },
   "outputs": [],
   "source": [
    "@append_metadata\n",
    "def wastewater_treatment_upload(input_csv, export=False, varname=''):\n",
    "    '''\n",
    "    Uploads prepared wastewater treatment facilities metric csv to S3 bucket. The metric is:\n",
    "    # of operating wastewater treatment facilities per California county.\n",
    "\n",
    "    Data for this metric was sourced from California State Water Resources Control Board at:\n",
    "    https://www.waterboards.ca.gov/water_issues/programs/npdes/permit_search.html within the Interactive\n",
    "    Regulated Facilities Report.\n",
    "\n",
    "    Methods\n",
    "    -------\n",
    "    The original data file was a .xls file, which was converted to a .csv for easier processing.\n",
    "    Total facility columns and the county column were retained and merged with California 2021 tiger census tract and county data.\n",
    "    \n",
    "    Parameters\n",
    "    ----------\n",
    "    input_csv: string\n",
    "        csv wastewater facility data \n",
    "    export: True/False boolean\n",
    "        False = will not upload resulting df containing CAL CRAI wastewater treatment facility metric to AWS\n",
    "        True = will upload resulting df containing CAL CRAI wastewater treatment facility metric to AWS\n",
    "\n",
    "    Script\n",
    "    ------\n",
    "    built_wastewater_treatment.ipynb\n",
    "\n",
    "    Note:\n",
    "    This function assumes users have configured the AWS CLI such that their access key / secret key pair are stored in ~/.aws/credentials.\n",
    "    See https://docs.aws.amazon.com/cli/latest/userguide/getting-started-install.html for guidance.\n",
    "    '''\n",
    "    print('Data transformation: data cleaned by isolating and renaming relevant columns.')\n",
    "    print('Data transformation: data was merged to California census tract and county data.')\n",
    " \n",
    "    if export == True:\n",
    "        bucket_name = 'ca-climate-index'\n",
    "        directory = '3_fair_data/index_data'\n",
    "        export_filename = [input_csv]\n",
    "        upload_csv_aws(export_filename, bucket_name, directory)\n",
    "\n",
    "    if export == False:\n",
    "        print('built_wastewater_treatment_facilities_metric.csv uploaded to AWS.')\n",
    " \n",
    "    if os.path.exists(input_csv):\n",
    "        os.remove(input_csv)"
   ]
  },
  {
   "cell_type": "code",
   "execution_count": 46,
   "metadata": {
    "execution": {
     "iopub.execute_input": "2024-06-19T20:24:07.492796Z",
     "iopub.status.busy": "2024-06-19T20:24:07.491656Z",
     "iopub.status.idle": "2024-06-19T20:24:07.500064Z",
     "shell.execute_reply": "2024-06-19T20:24:07.499368Z",
     "shell.execute_reply.started": "2024-06-19T20:24:07.492729Z"
    }
   },
   "outputs": [],
   "source": [
    "built_wastewater_csv='built_wastewater_treatment_facilities_metric.csv'\n",
    "var = 'built_swcrb_wastewater_facilities'\n",
    "\n",
    "wastewater_treatment_upload(built_wastewater_csv, export=True, varname='test')"
   ]
  }
 ],
 "metadata": {
  "kernelspec": {
   "display_name": "Python 3 (ipykernel)",
   "language": "python",
   "name": "python3"
  },
  "language_info": {
   "codemirror_mode": {
    "name": "ipython",
    "version": 3
   },
   "file_extension": ".py",
   "mimetype": "text/x-python",
   "name": "python",
   "nbconvert_exporter": "python",
   "pygments_lexer": "ipython3",
   "version": "3.9.18"
  }
 },
 "nbformat": 4,
 "nbformat_minor": 4
}
