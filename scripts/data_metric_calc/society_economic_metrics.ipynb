{
 "cells": [
  {
   "cell_type": "markdown",
   "metadata": {},
   "source": [
    "### Cal-CRAI Metric Calculation for: Economic Health\n",
    "* Gini Index\n",
    "* Median Income"
   ]
  },
  {
   "cell_type": "code",
   "execution_count": 1,
   "metadata": {
    "execution": {
     "iopub.execute_input": "2024-06-11T14:41:52.077952Z",
     "iopub.status.busy": "2024-06-11T14:41:52.076665Z",
     "iopub.status.idle": "2024-06-11T14:41:52.886028Z",
     "shell.execute_reply": "2024-06-11T14:41:52.885567Z",
     "shell.execute_reply.started": "2024-06-11T14:41:52.077878Z"
    }
   },
   "outputs": [],
   "source": [
    "import pandas as pd\n",
    "import os\n",
    "import sys\n",
    "import numpy as np\n",
    "\n",
    "# suppress pandas purely educational warnings\n",
    "from warnings import simplefilter\n",
    "simplefilter(action=\"ignore\", category=pd.errors.PerformanceWarning)\n",
    "\n",
    "sys.path.append(os.path.expanduser('../../'))\n",
    "from scripts.utils.file_helpers import pull_csv_from_directory, upload_csv_aws, filter_counties\n",
    "from scripts.utils.write_metadata import append_metadata"
   ]
  },
  {
   "cell_type": "code",
   "execution_count": 2,
   "metadata": {
    "execution": {
     "iopub.execute_input": "2024-06-11T14:41:53.749645Z",
     "iopub.status.busy": "2024-06-11T14:41:53.748409Z",
     "iopub.status.idle": "2024-06-11T14:41:53.757080Z",
     "shell.execute_reply": "2024-06-11T14:41:53.755721Z",
     "shell.execute_reply.started": "2024-06-11T14:41:53.749607Z"
    }
   },
   "outputs": [],
   "source": [
    "# Define a function to display data for a specific county\n",
    "def display_tract_data(df, tract_num):\n",
    "    tract_data = df[df['GEO_ID'] == tract_num]\n",
    "    if tract_data.empty:\n",
    "        print(f\"No data found for {tract_num}\")\n",
    "    else:\n",
    "        print(f\"Data for {tract_num}:\")\n",
    "        display(tract_data)"
   ]
  },
  {
   "cell_type": "code",
   "execution_count": 3,
   "metadata": {
    "execution": {
     "iopub.execute_input": "2024-06-11T14:41:54.628600Z",
     "iopub.status.busy": "2024-06-11T14:41:54.627553Z",
     "iopub.status.idle": "2024-06-11T14:41:59.077815Z",
     "shell.execute_reply": "2024-06-11T14:41:59.077220Z",
     "shell.execute_reply.started": "2024-06-11T14:41:54.628527Z"
    }
   },
   "outputs": [
    {
     "name": "stdout",
     "output_type": "stream",
     "text": [
      "Saved DataFrame as 'employment_data_hachman_subset.csv'\n",
      "Saved DataFrame as 'ACSDT5Y2022.B19083-Column-Metadata.csv'\n",
      "Saved DataFrame as 'ACSDT5Y2022.B19083-Data.csv'\n",
      "Saved DataFrame as 'ACSST5Y2022.S1901-Column-Metadata.csv'\n"
     ]
    },
    {
     "name": "stderr",
     "output_type": "stream",
     "text": [
      "/Users/victoriaford/Desktop/carb-climate-index/scripts/data_metric_calc/../../scripts/utils/file_helpers.py:100: DtypeWarning: Columns (2,3,34,35,66,67,98,99) have mixed types. Specify dtype option on import or set low_memory=False.\n",
      "  df = pd.read_csv(csv_data)\n"
     ]
    },
    {
     "name": "stdout",
     "output_type": "stream",
     "text": [
      "Saved DataFrame as 'ACSST5Y2022.S1901-Data.csv'\n"
     ]
    },
    {
     "name": "stderr",
     "output_type": "stream",
     "text": [
      "/Users/victoriaford/Desktop/carb-climate-index/scripts/data_metric_calc/../../scripts/utils/file_helpers.py:100: DtypeWarning: Columns (1) have mixed types. Specify dtype option on import or set low_memory=False.\n",
      "  df = pd.read_csv(csv_data)\n"
     ]
    },
    {
     "name": "stdout",
     "output_type": "stream",
     "text": [
      "Saved DataFrame as 'allhlcn22.csv'\n",
      "Saved DataFrame as 'data_layout.csv'\n"
     ]
    }
   ],
   "source": [
    "# pull csv from aws\n",
    "bucket_name = 'ca-climate-index'\n",
    "aws_dir = '2a_subset/society_economy/economic_health/bureau_labor_statistics/employment_hachman_index/'\n",
    "\n",
    "pull_csv_from_directory(bucket_name, aws_dir, search_zipped=False)\n",
    "\n",
    "aws_dir = '1_pull_data/society_economy/economic_health/'\n",
    "pull_csv_from_directory(bucket_name, aws_dir, search_zipped=False)"
   ]
  },
  {
   "cell_type": "code",
   "execution_count": 4,
   "metadata": {
    "execution": {
     "iopub.execute_input": "2024-06-11T14:41:59.079570Z",
     "iopub.status.busy": "2024-06-11T14:41:59.079287Z",
     "iopub.status.idle": "2024-06-11T14:41:59.207235Z",
     "shell.execute_reply": "2024-06-11T14:41:59.206897Z",
     "shell.execute_reply.started": "2024-06-11T14:41:59.079548Z"
    }
   },
   "outputs": [
    {
     "name": "stderr",
     "output_type": "stream",
     "text": [
      "/var/folders/6g/b2z199kx72x11z3xdvsz3ytr0000gn/T/ipykernel_1527/2722736097.py:2: DtypeWarning: Columns (2,3,34,35,66,67,98,99) have mixed types. Specify dtype option on import or set low_memory=False.\n",
      "  median_income_data = pd.read_csv('ACSST5Y2022.S1901-Data.csv')\n"
     ]
    }
   ],
   "source": [
    "gini_index_data = pd.read_csv('ACSDT5Y2022.B19083-Data.csv')\n",
    "median_income_data = pd.read_csv('ACSST5Y2022.S1901-Data.csv')"
   ]
  },
  {
   "cell_type": "code",
   "execution_count": 5,
   "metadata": {
    "execution": {
     "iopub.execute_input": "2024-06-11T14:41:59.207826Z",
     "iopub.status.busy": "2024-06-11T14:41:59.207721Z",
     "iopub.status.idle": "2024-06-11T14:42:00.366890Z",
     "shell.execute_reply": "2024-06-11T14:42:00.366315Z",
     "shell.execute_reply.started": "2024-06-11T14:41:59.207817Z"
    }
   },
   "outputs": [
    {
     "data": {
      "text/html": [
       "<div>\n",
       "<style scoped>\n",
       "    .dataframe tbody tr th:only-of-type {\n",
       "        vertical-align: middle;\n",
       "    }\n",
       "\n",
       "    .dataframe tbody tr th {\n",
       "        vertical-align: top;\n",
       "    }\n",
       "\n",
       "    .dataframe thead th {\n",
       "        text-align: right;\n",
       "    }\n",
       "</style>\n",
       "<table border=\"1\" class=\"dataframe\">\n",
       "  <thead>\n",
       "    <tr style=\"text-align: right;\">\n",
       "      <th></th>\n",
       "      <th>GEO_ID</th>\n",
       "    </tr>\n",
       "  </thead>\n",
       "  <tbody>\n",
       "    <tr>\n",
       "      <th>0</th>\n",
       "      <td>6085504321</td>\n",
       "    </tr>\n",
       "    <tr>\n",
       "      <th>1</th>\n",
       "      <td>6085504410</td>\n",
       "    </tr>\n",
       "    <tr>\n",
       "      <th>2</th>\n",
       "      <td>6085507003</td>\n",
       "    </tr>\n",
       "    <tr>\n",
       "      <th>3</th>\n",
       "      <td>6085507004</td>\n",
       "    </tr>\n",
       "    <tr>\n",
       "      <th>4</th>\n",
       "      <td>6085502204</td>\n",
       "    </tr>\n",
       "    <tr>\n",
       "      <th>...</th>\n",
       "      <td>...</td>\n",
       "    </tr>\n",
       "    <tr>\n",
       "      <th>9124</th>\n",
       "      <td>6059001303</td>\n",
       "    </tr>\n",
       "    <tr>\n",
       "      <th>9125</th>\n",
       "      <td>6059001304</td>\n",
       "    </tr>\n",
       "    <tr>\n",
       "      <th>9126</th>\n",
       "      <td>6059001401</td>\n",
       "    </tr>\n",
       "    <tr>\n",
       "      <th>9127</th>\n",
       "      <td>6013367200</td>\n",
       "    </tr>\n",
       "    <tr>\n",
       "      <th>9128</th>\n",
       "      <td>6037578100</td>\n",
       "    </tr>\n",
       "  </tbody>\n",
       "</table>\n",
       "<p>9129 rows × 1 columns</p>\n",
       "</div>"
      ],
      "text/plain": [
       "          GEO_ID\n",
       "0     6085504321\n",
       "1     6085504410\n",
       "2     6085507003\n",
       "3     6085507004\n",
       "4     6085502204\n",
       "...          ...\n",
       "9124  6059001303\n",
       "9125  6059001304\n",
       "9126  6059001401\n",
       "9127  6013367200\n",
       "9128  6037578100\n",
       "\n",
       "[9129 rows x 1 columns]"
      ]
     },
     "execution_count": 5,
     "metadata": {},
     "output_type": "execute_result"
    }
   ],
   "source": [
    "county_tract = \"s3://ca-climate-index/0_map_data/ca_tract_county_population_2022.csv\"\n",
    "ca_county_tract = pd.read_csv(county_tract)\n",
    "ca_county_tract = ca_county_tract.rename(columns={'Census Tract': 'GEO_ID'})\n",
    "ca_county_tract = ca_county_tract.drop(columns={'Unnamed: 0', 'COUNTYFP', 'County', 'Total Population 2021'})\n",
    "ca_county_tract"
   ]
  },
  {
   "cell_type": "markdown",
   "metadata": {},
   "source": [
    "### Gini Index Metric"
   ]
  },
  {
   "cell_type": "code",
   "execution_count": 6,
   "metadata": {
    "execution": {
     "iopub.execute_input": "2024-06-11T14:42:00.369261Z",
     "iopub.status.busy": "2024-06-11T14:42:00.368819Z",
     "iopub.status.idle": "2024-06-11T14:42:00.378651Z",
     "shell.execute_reply": "2024-06-11T14:42:00.378142Z",
     "shell.execute_reply.started": "2024-06-11T14:42:00.369236Z"
    }
   },
   "outputs": [
    {
     "data": {
      "text/html": [
       "<div>\n",
       "<style scoped>\n",
       "    .dataframe tbody tr th:only-of-type {\n",
       "        vertical-align: middle;\n",
       "    }\n",
       "\n",
       "    .dataframe tbody tr th {\n",
       "        vertical-align: top;\n",
       "    }\n",
       "\n",
       "    .dataframe thead th {\n",
       "        text-align: right;\n",
       "    }\n",
       "</style>\n",
       "<table border=\"1\" class=\"dataframe\">\n",
       "  <thead>\n",
       "    <tr style=\"text-align: right;\">\n",
       "      <th></th>\n",
       "      <th>GEO_ID</th>\n",
       "      <th>NAME</th>\n",
       "      <th>B19083_001E</th>\n",
       "      <th>B19083_001M</th>\n",
       "      <th>Unnamed: 4</th>\n",
       "    </tr>\n",
       "  </thead>\n",
       "  <tbody>\n",
       "    <tr>\n",
       "      <th>0</th>\n",
       "      <td>Geography</td>\n",
       "      <td>Geographic Area Name</td>\n",
       "      <td>Estimate!!Gini Index</td>\n",
       "      <td>Margin of Error!!Gini Index</td>\n",
       "      <td>NaN</td>\n",
       "    </tr>\n",
       "    <tr>\n",
       "      <th>1</th>\n",
       "      <td>1400000US06001400100</td>\n",
       "      <td>Census Tract 4001; Alameda County; California</td>\n",
       "      <td>0.4228</td>\n",
       "      <td>0.0672</td>\n",
       "      <td>NaN</td>\n",
       "    </tr>\n",
       "    <tr>\n",
       "      <th>2</th>\n",
       "      <td>1400000US06001400200</td>\n",
       "      <td>Census Tract 4002; Alameda County; California</td>\n",
       "      <td>0.4084</td>\n",
       "      <td>0.0432</td>\n",
       "      <td>NaN</td>\n",
       "    </tr>\n",
       "    <tr>\n",
       "      <th>3</th>\n",
       "      <td>1400000US06001400300</td>\n",
       "      <td>Census Tract 4003; Alameda County; California</td>\n",
       "      <td>0.4615</td>\n",
       "      <td>0.0513</td>\n",
       "      <td>NaN</td>\n",
       "    </tr>\n",
       "    <tr>\n",
       "      <th>4</th>\n",
       "      <td>1400000US06001400400</td>\n",
       "      <td>Census Tract 4004; Alameda County; California</td>\n",
       "      <td>0.5063</td>\n",
       "      <td>0.0557</td>\n",
       "      <td>NaN</td>\n",
       "    </tr>\n",
       "    <tr>\n",
       "      <th>...</th>\n",
       "      <td>...</td>\n",
       "      <td>...</td>\n",
       "      <td>...</td>\n",
       "      <td>...</td>\n",
       "      <td>...</td>\n",
       "    </tr>\n",
       "    <tr>\n",
       "      <th>9125</th>\n",
       "      <td>1400000US06115040902</td>\n",
       "      <td>Census Tract 409.02; Yuba County; California</td>\n",
       "      <td>0.4252</td>\n",
       "      <td>0.0592</td>\n",
       "      <td>NaN</td>\n",
       "    </tr>\n",
       "    <tr>\n",
       "      <th>9126</th>\n",
       "      <td>1400000US06115041001</td>\n",
       "      <td>Census Tract 410.01; Yuba County; California</td>\n",
       "      <td>0.5024</td>\n",
       "      <td>0.0806</td>\n",
       "      <td>NaN</td>\n",
       "    </tr>\n",
       "    <tr>\n",
       "      <th>9127</th>\n",
       "      <td>1400000US06115041002</td>\n",
       "      <td>Census Tract 410.02; Yuba County; California</td>\n",
       "      <td>0.4875</td>\n",
       "      <td>0.1175</td>\n",
       "      <td>NaN</td>\n",
       "    </tr>\n",
       "    <tr>\n",
       "      <th>9128</th>\n",
       "      <td>1400000US06115041101</td>\n",
       "      <td>Census Tract 411.01; Yuba County; California</td>\n",
       "      <td>0.4072</td>\n",
       "      <td>0.0543</td>\n",
       "      <td>NaN</td>\n",
       "    </tr>\n",
       "    <tr>\n",
       "      <th>9129</th>\n",
       "      <td>1400000US06115041102</td>\n",
       "      <td>Census Tract 411.02; Yuba County; California</td>\n",
       "      <td>0.3706</td>\n",
       "      <td>0.0834</td>\n",
       "      <td>NaN</td>\n",
       "    </tr>\n",
       "  </tbody>\n",
       "</table>\n",
       "<p>9130 rows × 5 columns</p>\n",
       "</div>"
      ],
      "text/plain": [
       "                    GEO_ID                                           NAME  \\\n",
       "0                Geography                           Geographic Area Name   \n",
       "1     1400000US06001400100  Census Tract 4001; Alameda County; California   \n",
       "2     1400000US06001400200  Census Tract 4002; Alameda County; California   \n",
       "3     1400000US06001400300  Census Tract 4003; Alameda County; California   \n",
       "4     1400000US06001400400  Census Tract 4004; Alameda County; California   \n",
       "...                    ...                                            ...   \n",
       "9125  1400000US06115040902   Census Tract 409.02; Yuba County; California   \n",
       "9126  1400000US06115041001   Census Tract 410.01; Yuba County; California   \n",
       "9127  1400000US06115041002   Census Tract 410.02; Yuba County; California   \n",
       "9128  1400000US06115041101   Census Tract 411.01; Yuba County; California   \n",
       "9129  1400000US06115041102   Census Tract 411.02; Yuba County; California   \n",
       "\n",
       "               B19083_001E                  B19083_001M  Unnamed: 4  \n",
       "0     Estimate!!Gini Index  Margin of Error!!Gini Index         NaN  \n",
       "1                   0.4228                       0.0672         NaN  \n",
       "2                   0.4084                       0.0432         NaN  \n",
       "3                   0.4615                       0.0513         NaN  \n",
       "4                   0.5063                       0.0557         NaN  \n",
       "...                    ...                          ...         ...  \n",
       "9125                0.4252                       0.0592         NaN  \n",
       "9126                0.5024                       0.0806         NaN  \n",
       "9127                0.4875                       0.1175         NaN  \n",
       "9128                0.4072                       0.0543         NaN  \n",
       "9129                0.3706                       0.0834         NaN  \n",
       "\n",
       "[9130 rows x 5 columns]"
      ]
     },
     "execution_count": 6,
     "metadata": {},
     "output_type": "execute_result"
    }
   ],
   "source": [
    "gini_index_data"
   ]
  },
  {
   "cell_type": "code",
   "execution_count": 7,
   "metadata": {
    "execution": {
     "iopub.execute_input": "2024-06-11T14:42:00.379903Z",
     "iopub.status.busy": "2024-06-11T14:42:00.379625Z",
     "iopub.status.idle": "2024-06-11T14:42:00.391893Z",
     "shell.execute_reply": "2024-06-11T14:42:00.391453Z",
     "shell.execute_reply.started": "2024-06-11T14:42:00.379882Z"
    }
   },
   "outputs": [
    {
     "data": {
      "text/html": [
       "<div>\n",
       "<style scoped>\n",
       "    .dataframe tbody tr th:only-of-type {\n",
       "        vertical-align: middle;\n",
       "    }\n",
       "\n",
       "    .dataframe tbody tr th {\n",
       "        vertical-align: top;\n",
       "    }\n",
       "\n",
       "    .dataframe thead th {\n",
       "        text-align: right;\n",
       "    }\n",
       "</style>\n",
       "<table border=\"1\" class=\"dataframe\">\n",
       "  <thead>\n",
       "    <tr style=\"text-align: right;\">\n",
       "      <th></th>\n",
       "      <th>GEO_ID</th>\n",
       "      <th>est_gini_index</th>\n",
       "    </tr>\n",
       "  </thead>\n",
       "  <tbody>\n",
       "    <tr>\n",
       "      <th>1</th>\n",
       "      <td>6001400100</td>\n",
       "      <td>0.4228</td>\n",
       "    </tr>\n",
       "    <tr>\n",
       "      <th>2</th>\n",
       "      <td>6001400200</td>\n",
       "      <td>0.4084</td>\n",
       "    </tr>\n",
       "    <tr>\n",
       "      <th>3</th>\n",
       "      <td>6001400300</td>\n",
       "      <td>0.4615</td>\n",
       "    </tr>\n",
       "    <tr>\n",
       "      <th>4</th>\n",
       "      <td>6001400400</td>\n",
       "      <td>0.5063</td>\n",
       "    </tr>\n",
       "    <tr>\n",
       "      <th>5</th>\n",
       "      <td>6001400500</td>\n",
       "      <td>0.4571</td>\n",
       "    </tr>\n",
       "    <tr>\n",
       "      <th>...</th>\n",
       "      <td>...</td>\n",
       "      <td>...</td>\n",
       "    </tr>\n",
       "    <tr>\n",
       "      <th>9125</th>\n",
       "      <td>6115040902</td>\n",
       "      <td>0.4252</td>\n",
       "    </tr>\n",
       "    <tr>\n",
       "      <th>9126</th>\n",
       "      <td>6115041001</td>\n",
       "      <td>0.5024</td>\n",
       "    </tr>\n",
       "    <tr>\n",
       "      <th>9127</th>\n",
       "      <td>6115041002</td>\n",
       "      <td>0.4875</td>\n",
       "    </tr>\n",
       "    <tr>\n",
       "      <th>9128</th>\n",
       "      <td>6115041101</td>\n",
       "      <td>0.4072</td>\n",
       "    </tr>\n",
       "    <tr>\n",
       "      <th>9129</th>\n",
       "      <td>6115041102</td>\n",
       "      <td>0.3706</td>\n",
       "    </tr>\n",
       "  </tbody>\n",
       "</table>\n",
       "<p>9129 rows × 2 columns</p>\n",
       "</div>"
      ],
      "text/plain": [
       "          GEO_ID est_gini_index\n",
       "1     6001400100         0.4228\n",
       "2     6001400200         0.4084\n",
       "3     6001400300         0.4615\n",
       "4     6001400400         0.5063\n",
       "5     6001400500         0.4571\n",
       "...          ...            ...\n",
       "9125  6115040902         0.4252\n",
       "9126  6115041001         0.5024\n",
       "9127  6115041002         0.4875\n",
       "9128  6115041101         0.4072\n",
       "9129  6115041102         0.3706\n",
       "\n",
       "[9129 rows x 2 columns]"
      ]
     },
     "execution_count": 7,
     "metadata": {},
     "output_type": "execute_result"
    }
   ],
   "source": [
    "gini_index_data_cleaned = gini_index_data.drop(columns={'Unnamed: 4', 'B19083_001M', 'NAME'})\n",
    "gini_index_data_cleaned = gini_index_data_cleaned.rename(columns={'B19083_001E':'est_gini_index'})\n",
    "gini_index_data_cleaned = gini_index_data_cleaned[1:]\n",
    "gini_index_data_cleaned['GEO_ID'] = gini_index_data_cleaned['GEO_ID'].str[10:]\n",
    "\n",
    "gini_index_data_cleaned"
   ]
  },
  {
   "cell_type": "code",
   "execution_count": 8,
   "metadata": {
    "execution": {
     "iopub.execute_input": "2024-06-11T14:42:00.393022Z",
     "iopub.status.busy": "2024-06-11T14:42:00.392776Z",
     "iopub.status.idle": "2024-06-11T14:42:00.446013Z",
     "shell.execute_reply": "2024-06-11T14:42:00.445620Z",
     "shell.execute_reply.started": "2024-06-11T14:42:00.393006Z"
    }
   },
   "outputs": [
    {
     "data": {
      "text/html": [
       "<div>\n",
       "<style scoped>\n",
       "    .dataframe tbody tr th:only-of-type {\n",
       "        vertical-align: middle;\n",
       "    }\n",
       "\n",
       "    .dataframe tbody tr th {\n",
       "        vertical-align: top;\n",
       "    }\n",
       "\n",
       "    .dataframe thead th {\n",
       "        text-align: right;\n",
       "    }\n",
       "</style>\n",
       "<table border=\"1\" class=\"dataframe\">\n",
       "  <thead>\n",
       "    <tr style=\"text-align: right;\">\n",
       "      <th></th>\n",
       "      <th>GEO_ID</th>\n",
       "      <th>est_gini_index</th>\n",
       "    </tr>\n",
       "  </thead>\n",
       "  <tbody>\n",
       "    <tr>\n",
       "      <th>0</th>\n",
       "      <td>6085504321</td>\n",
       "      <td>0.4197</td>\n",
       "    </tr>\n",
       "    <tr>\n",
       "      <th>1</th>\n",
       "      <td>6085504410</td>\n",
       "      <td>0.4309</td>\n",
       "    </tr>\n",
       "    <tr>\n",
       "      <th>2</th>\n",
       "      <td>6085507003</td>\n",
       "      <td>0.5357</td>\n",
       "    </tr>\n",
       "    <tr>\n",
       "      <th>3</th>\n",
       "      <td>6085507004</td>\n",
       "      <td>0.4793</td>\n",
       "    </tr>\n",
       "    <tr>\n",
       "      <th>4</th>\n",
       "      <td>6085502204</td>\n",
       "      <td>0.4010</td>\n",
       "    </tr>\n",
       "    <tr>\n",
       "      <th>...</th>\n",
       "      <td>...</td>\n",
       "      <td>...</td>\n",
       "    </tr>\n",
       "    <tr>\n",
       "      <th>9124</th>\n",
       "      <td>6059001303</td>\n",
       "      <td>0.3590</td>\n",
       "    </tr>\n",
       "    <tr>\n",
       "      <th>9125</th>\n",
       "      <td>6059001304</td>\n",
       "      <td>0.3582</td>\n",
       "    </tr>\n",
       "    <tr>\n",
       "      <th>9126</th>\n",
       "      <td>6059001401</td>\n",
       "      <td>0.4594</td>\n",
       "    </tr>\n",
       "    <tr>\n",
       "      <th>9127</th>\n",
       "      <td>6013367200</td>\n",
       "      <td>0.4130</td>\n",
       "    </tr>\n",
       "    <tr>\n",
       "      <th>9128</th>\n",
       "      <td>6037578100</td>\n",
       "      <td>-</td>\n",
       "    </tr>\n",
       "  </tbody>\n",
       "</table>\n",
       "<p>9129 rows × 2 columns</p>\n",
       "</div>"
      ],
      "text/plain": [
       "          GEO_ID est_gini_index\n",
       "0     6085504321         0.4197\n",
       "1     6085504410         0.4309\n",
       "2     6085507003         0.5357\n",
       "3     6085507004         0.4793\n",
       "4     6085502204         0.4010\n",
       "...          ...            ...\n",
       "9124  6059001303         0.3590\n",
       "9125  6059001304         0.3582\n",
       "9126  6059001401         0.4594\n",
       "9127  6013367200         0.4130\n",
       "9128  6037578100              -\n",
       "\n",
       "[9129 rows x 2 columns]"
      ]
     },
     "execution_count": 8,
     "metadata": {},
     "output_type": "execute_result"
    }
   ],
   "source": [
    "# Convert the 'GEO_ID' column in ca_county_tract DataFrame to string data type\n",
    "ca_county_tract['GEO_ID'] = ca_county_tract['GEO_ID'].astype(str)\n",
    "\n",
    "gini_merged_data = pd.merge(gini_index_data_cleaned, ca_county_tract, on='GEO_ID', how='right')\n",
    "gini_merged_data"
   ]
  },
  {
   "cell_type": "code",
   "execution_count": 9,
   "metadata": {
    "execution": {
     "iopub.execute_input": "2024-06-11T14:42:00.456253Z",
     "iopub.status.busy": "2024-06-11T14:42:00.456083Z",
     "iopub.status.idle": "2024-06-11T14:42:00.466474Z",
     "shell.execute_reply": "2024-06-11T14:42:00.465989Z",
     "shell.execute_reply.started": "2024-06-11T14:42:00.456240Z"
    }
   },
   "outputs": [],
   "source": [
    "gini_merged_data.to_csv('society_economy_gini_metric.csv')"
   ]
  },
  {
   "cell_type": "markdown",
   "metadata": {},
   "source": [
    "### Median Income Metric"
   ]
  },
  {
   "cell_type": "code",
   "execution_count": 10,
   "metadata": {
    "execution": {
     "iopub.execute_input": "2024-06-11T14:42:08.309577Z",
     "iopub.status.busy": "2024-06-11T14:42:08.308833Z",
     "iopub.status.idle": "2024-06-11T14:42:08.338261Z",
     "shell.execute_reply": "2024-06-11T14:42:08.337508Z",
     "shell.execute_reply.started": "2024-06-11T14:42:08.309542Z"
    }
   },
   "outputs": [
    {
     "data": {
      "text/html": [
       "<div>\n",
       "<style scoped>\n",
       "    .dataframe tbody tr th:only-of-type {\n",
       "        vertical-align: middle;\n",
       "    }\n",
       "\n",
       "    .dataframe tbody tr th {\n",
       "        vertical-align: top;\n",
       "    }\n",
       "\n",
       "    .dataframe thead th {\n",
       "        text-align: right;\n",
       "    }\n",
       "</style>\n",
       "<table border=\"1\" class=\"dataframe\">\n",
       "  <thead>\n",
       "    <tr style=\"text-align: right;\">\n",
       "      <th></th>\n",
       "      <th>GEO_ID</th>\n",
       "      <th>est_median_income_dollars</th>\n",
       "    </tr>\n",
       "  </thead>\n",
       "  <tbody>\n",
       "    <tr>\n",
       "      <th>1</th>\n",
       "      <td>6001400100</td>\n",
       "      <td>234236</td>\n",
       "    </tr>\n",
       "    <tr>\n",
       "      <th>2</th>\n",
       "      <td>6001400200</td>\n",
       "      <td>225500</td>\n",
       "    </tr>\n",
       "    <tr>\n",
       "      <th>3</th>\n",
       "      <td>6001400300</td>\n",
       "      <td>164000</td>\n",
       "    </tr>\n",
       "    <tr>\n",
       "      <th>4</th>\n",
       "      <td>6001400400</td>\n",
       "      <td>158836</td>\n",
       "    </tr>\n",
       "    <tr>\n",
       "      <th>5</th>\n",
       "      <td>6001400500</td>\n",
       "      <td>95078</td>\n",
       "    </tr>\n",
       "    <tr>\n",
       "      <th>...</th>\n",
       "      <td>...</td>\n",
       "      <td>...</td>\n",
       "    </tr>\n",
       "    <tr>\n",
       "      <th>9125</th>\n",
       "      <td>6115040902</td>\n",
       "      <td>54265</td>\n",
       "    </tr>\n",
       "    <tr>\n",
       "      <th>9126</th>\n",
       "      <td>6115041001</td>\n",
       "      <td>67321</td>\n",
       "    </tr>\n",
       "    <tr>\n",
       "      <th>9127</th>\n",
       "      <td>6115041002</td>\n",
       "      <td>102534</td>\n",
       "    </tr>\n",
       "    <tr>\n",
       "      <th>9128</th>\n",
       "      <td>6115041101</td>\n",
       "      <td>37018</td>\n",
       "    </tr>\n",
       "    <tr>\n",
       "      <th>9129</th>\n",
       "      <td>6115041102</td>\n",
       "      <td>61339</td>\n",
       "    </tr>\n",
       "  </tbody>\n",
       "</table>\n",
       "<p>9129 rows × 2 columns</p>\n",
       "</div>"
      ],
      "text/plain": [
       "          GEO_ID est_median_income_dollars\n",
       "1     6001400100                    234236\n",
       "2     6001400200                    225500\n",
       "3     6001400300                    164000\n",
       "4     6001400400                    158836\n",
       "5     6001400500                     95078\n",
       "...          ...                       ...\n",
       "9125  6115040902                     54265\n",
       "9126  6115041001                     67321\n",
       "9127  6115041002                    102534\n",
       "9128  6115041101                     37018\n",
       "9129  6115041102                     61339\n",
       "\n",
       "[9129 rows x 2 columns]"
      ]
     },
     "execution_count": 10,
     "metadata": {},
     "output_type": "execute_result"
    }
   ],
   "source": [
    "columns_to_keep = ['GEO_ID', 'S1901_C01_012E']\n",
    "\n",
    "# Drop all columns except the specified ones\n",
    "median_income_data_cleaned = median_income_data.drop(columns=[col for col in median_income_data.columns if col not in columns_to_keep])\n",
    "\n",
    "median_income_data_cleaned = median_income_data_cleaned.rename(columns={'S1901_C01_012E':'est_median_income_dollars'})\n",
    "median_income_data_cleaned = median_income_data_cleaned[1:]\n",
    "median_income_data_cleaned['GEO_ID'] = median_income_data_cleaned['GEO_ID'].str[10:]\n",
    "median_income_data_cleaned"
   ]
  },
  {
   "cell_type": "code",
   "execution_count": 11,
   "metadata": {
    "execution": {
     "iopub.execute_input": "2024-06-11T14:42:09.511359Z",
     "iopub.status.busy": "2024-06-11T14:42:09.510621Z",
     "iopub.status.idle": "2024-06-11T14:42:09.542131Z",
     "shell.execute_reply": "2024-06-11T14:42:09.541539Z",
     "shell.execute_reply.started": "2024-06-11T14:42:09.511321Z"
    }
   },
   "outputs": [
    {
     "data": {
      "text/html": [
       "<div>\n",
       "<style scoped>\n",
       "    .dataframe tbody tr th:only-of-type {\n",
       "        vertical-align: middle;\n",
       "    }\n",
       "\n",
       "    .dataframe tbody tr th {\n",
       "        vertical-align: top;\n",
       "    }\n",
       "\n",
       "    .dataframe thead th {\n",
       "        text-align: right;\n",
       "    }\n",
       "</style>\n",
       "<table border=\"1\" class=\"dataframe\">\n",
       "  <thead>\n",
       "    <tr style=\"text-align: right;\">\n",
       "      <th></th>\n",
       "      <th>GEO_ID</th>\n",
       "      <th>est_median_income_dollars</th>\n",
       "    </tr>\n",
       "  </thead>\n",
       "  <tbody>\n",
       "    <tr>\n",
       "      <th>0</th>\n",
       "      <td>6085504321</td>\n",
       "      <td>172857</td>\n",
       "    </tr>\n",
       "    <tr>\n",
       "      <th>1</th>\n",
       "      <td>6085504410</td>\n",
       "      <td>143173</td>\n",
       "    </tr>\n",
       "    <tr>\n",
       "      <th>2</th>\n",
       "      <td>6085507003</td>\n",
       "      <td>240179</td>\n",
       "    </tr>\n",
       "    <tr>\n",
       "      <th>3</th>\n",
       "      <td>6085507004</td>\n",
       "      <td>198306</td>\n",
       "    </tr>\n",
       "    <tr>\n",
       "      <th>4</th>\n",
       "      <td>6085502204</td>\n",
       "      <td>67552</td>\n",
       "    </tr>\n",
       "    <tr>\n",
       "      <th>...</th>\n",
       "      <td>...</td>\n",
       "      <td>...</td>\n",
       "    </tr>\n",
       "    <tr>\n",
       "      <th>9124</th>\n",
       "      <td>6059001303</td>\n",
       "      <td>93363</td>\n",
       "    </tr>\n",
       "    <tr>\n",
       "      <th>9125</th>\n",
       "      <td>6059001304</td>\n",
       "      <td>68984</td>\n",
       "    </tr>\n",
       "    <tr>\n",
       "      <th>9126</th>\n",
       "      <td>6059001401</td>\n",
       "      <td>76319</td>\n",
       "    </tr>\n",
       "    <tr>\n",
       "      <th>9127</th>\n",
       "      <td>6013367200</td>\n",
       "      <td>90941</td>\n",
       "    </tr>\n",
       "    <tr>\n",
       "      <th>9128</th>\n",
       "      <td>6037578100</td>\n",
       "      <td>-</td>\n",
       "    </tr>\n",
       "  </tbody>\n",
       "</table>\n",
       "<p>9129 rows × 2 columns</p>\n",
       "</div>"
      ],
      "text/plain": [
       "          GEO_ID est_median_income_dollars\n",
       "0     6085504321                    172857\n",
       "1     6085504410                    143173\n",
       "2     6085507003                    240179\n",
       "3     6085507004                    198306\n",
       "4     6085502204                     67552\n",
       "...          ...                       ...\n",
       "9124  6059001303                     93363\n",
       "9125  6059001304                     68984\n",
       "9126  6059001401                     76319\n",
       "9127  6013367200                     90941\n",
       "9128  6037578100                         -\n",
       "\n",
       "[9129 rows x 2 columns]"
      ]
     },
     "execution_count": 11,
     "metadata": {},
     "output_type": "execute_result"
    }
   ],
   "source": [
    "# Convert the 'GEO_ID' column in ca_county_tract DataFrame to string data type\n",
    "ca_county_tract['GEO_ID'] = ca_county_tract['GEO_ID'].astype(str)\n",
    "\n",
    "# Now, you can proceed with merging\n",
    "median_merged_data = pd.merge(median_income_data_cleaned, ca_county_tract, on='GEO_ID', how='right')\n",
    "\n",
    "# View the merged DataFrame\n",
    "median_merged_data"
   ]
  },
  {
   "cell_type": "code",
   "execution_count": 12,
   "metadata": {
    "execution": {
     "iopub.execute_input": "2024-06-11T14:42:11.952116Z",
     "iopub.status.busy": "2024-06-11T14:42:11.951365Z",
     "iopub.status.idle": "2024-06-11T14:42:11.982147Z",
     "shell.execute_reply": "2024-06-11T14:42:11.981497Z",
     "shell.execute_reply.started": "2024-06-11T14:42:11.952077Z"
    }
   },
   "outputs": [],
   "source": [
    "median_merged_data.to_csv('society_economy_median_income_metric.csv')"
   ]
  },
  {
   "cell_type": "markdown",
   "metadata": {},
   "source": [
    "### Function call for both metrics"
   ]
  },
  {
   "cell_type": "code",
   "execution_count": 13,
   "metadata": {
    "execution": {
     "iopub.execute_input": "2024-06-11T14:43:01.157080Z",
     "iopub.status.busy": "2024-06-11T14:43:01.156127Z",
     "iopub.status.idle": "2024-06-11T14:43:01.169712Z",
     "shell.execute_reply": "2024-06-11T14:43:01.168646Z",
     "shell.execute_reply.started": "2024-06-11T14:43:01.157012Z"
    }
   },
   "outputs": [],
   "source": [
    "@append_metadata\n",
    "def economy_metric(input_csv, export=False, varname=''):\n",
    "    '''\n",
    "    Calculates the Median income and Gini index data metrics and uploads to AWS.\n",
    "    Data is sourced from United States Census Bureau: American Community Survey (ACS).\n",
    "    Data codes: S1901 and B19083.\n",
    "\n",
    "    Methods\n",
    "    -------\n",
    "    Rows without data were omitted, relevant columns were isolated and renamed.\n",
    "    California census tract data was merged with the dataset based on tract.\n",
    "    \n",
    "    Parameters\n",
    "    ----------\n",
    "    input_csv: string\n",
    "        csv economic data \n",
    "    export: True/False boolean\n",
    "        False = will not upload resulting df containing CAL CRAI economy metrics to AWS\n",
    "        True = will upload resulting df containing CAL CRAI economy metrics to AWS\n",
    "\n",
    "    Script\n",
    "    ------\n",
    "    society_economic_metrics.ipynb\n",
    "\n",
    "    Note:\n",
    "    This function assumes users have configured the AWS CLI such that their access key / secret key pair are stored in ~/.aws/credentials.\n",
    "    See https://docs.aws.amazon.com/cli/latest/userguide/getting-started-install.html for guidance.\n",
    "    '''\n",
    "    print('Data transformation: non-data rows were removed.')\n",
    "    print('Data transformation: data columns were renamed and isolated for metric relevancy.')\n",
    "    print('Data transformation: data was merged with CA census tract data.')\n",
    "\n",
    "    bucket_name = 'ca-climate-index'\n",
    "    directory = '3_fair_data/index_data'\n",
    "    export_filename = [input_csv]\n",
    "    \n",
    "    if export == True:\n",
    "        upload_csv_aws(export_filename, bucket_name, directory)\n",
    "\n",
    "    if export == False:\n",
    "        print(f'{export_filename} uploaded to AWS.')\n",
    "\n",
    "    if os.path.exists(input_csv):\n",
    "        os.remove(input_csv)"
   ]
  },
  {
   "cell_type": "code",
   "execution_count": 32,
   "metadata": {},
   "outputs": [],
   "source": [
    "input_csv = ['society_economy_gini_metric.csv',\n",
    "            'society_economy_median_income_metric.csv'\n",
    "            ]\n",
    "\n",
    "varnames = [\n",
    "    'society_acs_gini',\n",
    "    'society_acs_income'\n",
    "]\n",
    "\n",
    "for csv, var in zip(input_csv, varnames):\n",
    "    economy_metric(csv, export=True, varname=var)"
   ]
  }
 ],
 "metadata": {
  "kernelspec": {
   "display_name": "Python 3 (ipykernel)",
   "language": "python",
   "name": "python3"
  },
  "language_info": {
   "codemirror_mode": {
    "name": "ipython",
    "version": 3
   },
   "file_extension": ".py",
   "mimetype": "text/x-python",
   "name": "python",
   "nbconvert_exporter": "python",
   "pygments_lexer": "ipython3",
   "version": "3.9.18"
  }
 },
 "nbformat": 4,
 "nbformat_minor": 4
}
