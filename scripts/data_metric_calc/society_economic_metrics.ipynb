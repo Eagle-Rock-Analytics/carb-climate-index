{
 "cells": [
  {
   "cell_type": "markdown",
   "metadata": {},
   "source": [
    "## Cal-CRAI Metric Calculation\n",
    "Domain: Society & Economy \\\n",
    "Indicator: Economic health\n",
    "\n",
    "This notebook calculates two metrics, sourced from the United States Census Bureau - American Community Survey:\n",
    "* Metric 1: Gini Index\n",
    "* Metric 2: Median Income"
   ]
  },
  {
   "cell_type": "code",
   "execution_count": 2,
   "metadata": {
    "execution": {
     "iopub.execute_input": "2024-06-11T14:41:52.077952Z",
     "iopub.status.busy": "2024-06-11T14:41:52.076665Z",
     "iopub.status.idle": "2024-06-11T14:41:52.886028Z",
     "shell.execute_reply": "2024-06-11T14:41:52.885567Z",
     "shell.execute_reply.started": "2024-06-11T14:41:52.077878Z"
    }
   },
   "outputs": [],
   "source": [
    "import pandas as pd\n",
    "import os\n",
    "import sys\n",
    "import numpy as np\n",
    "\n",
    "# suppress pandas purely educational warnings\n",
    "from warnings import simplefilter\n",
    "simplefilter(action=\"ignore\", category=pd.errors.PerformanceWarning)\n",
    "\n",
    "sys.path.append(os.path.expanduser('../../'))\n",
    "from scripts.utils.file_helpers import pull_csv_from_directory, upload_csv_aws, filter_counties\n",
    "from scripts.utils.write_metadata import append_metadata"
   ]
  },
  {
   "cell_type": "code",
   "execution_count": 2,
   "metadata": {
    "execution": {
     "iopub.execute_input": "2024-06-11T14:41:53.749645Z",
     "iopub.status.busy": "2024-06-11T14:41:53.748409Z",
     "iopub.status.idle": "2024-06-11T14:41:53.757080Z",
     "shell.execute_reply": "2024-06-11T14:41:53.755721Z",
     "shell.execute_reply.started": "2024-06-11T14:41:53.749607Z"
    }
   },
   "outputs": [],
   "source": [
    "# Define a function to display data for a specific county\n",
    "def display_tract_data(df, tract_num):\n",
    "    tract_data = df[df['GEO_ID'] == tract_num]\n",
    "    if tract_data.empty:\n",
    "        print(f\"No data found for {tract_num}\")\n",
    "    else:\n",
    "        print(f\"Data for {tract_num}:\")\n",
    "        display(tract_data)"
   ]
  },
  {
   "cell_type": "code",
   "execution_count": null,
   "metadata": {
    "execution": {
     "iopub.execute_input": "2024-06-11T14:41:54.628600Z",
     "iopub.status.busy": "2024-06-11T14:41:54.627553Z",
     "iopub.status.idle": "2024-06-11T14:41:59.077815Z",
     "shell.execute_reply": "2024-06-11T14:41:59.077220Z",
     "shell.execute_reply.started": "2024-06-11T14:41:54.628527Z"
    }
   },
   "outputs": [],
   "source": [
    "# pull csv from aws\n",
    "bucket_name = 'ca-climate-index'\n",
    "aws_dir = '2a_subset/society_economy/economic_health/bureau_labor_statistics/employment_hachman_index/'\n",
    "\n",
    "pull_csv_from_directory(bucket_name, aws_dir, search_zipped=False)\n",
    "\n",
    "aws_dir = '1_pull_data/society_economy/economic_health/'\n",
    "pull_csv_from_directory(bucket_name, aws_dir, search_zipped=False)"
   ]
  },
  {
   "cell_type": "code",
   "execution_count": null,
   "metadata": {
    "execution": {
     "iopub.execute_input": "2024-06-11T14:41:59.079570Z",
     "iopub.status.busy": "2024-06-11T14:41:59.079287Z",
     "iopub.status.idle": "2024-06-11T14:41:59.207235Z",
     "shell.execute_reply": "2024-06-11T14:41:59.206897Z",
     "shell.execute_reply.started": "2024-06-11T14:41:59.079548Z"
    }
   },
   "outputs": [],
   "source": [
    "gini_index_data = pd.read_csv('ACSDT5Y2022.B19083-Data.csv')\n",
    "median_income_data = pd.read_csv('ACSST5Y2022.S1901-Data.csv')"
   ]
  },
  {
   "cell_type": "code",
   "execution_count": null,
   "metadata": {
    "execution": {
     "iopub.execute_input": "2024-06-11T14:41:59.207826Z",
     "iopub.status.busy": "2024-06-11T14:41:59.207721Z",
     "iopub.status.idle": "2024-06-11T14:42:00.366890Z",
     "shell.execute_reply": "2024-06-11T14:42:00.366315Z",
     "shell.execute_reply.started": "2024-06-11T14:41:59.207817Z"
    }
   },
   "outputs": [],
   "source": [
    "county_tract = \"s3://ca-climate-index/0_map_data/ca_tract_county_population_2021.csv\"\n",
    "ca_county_tract = pd.read_csv(county_tract)\n",
    "ca_county_tract = ca_county_tract.rename(columns={'Census Tract': 'GEO_ID'})\n",
    "ca_county_tract = ca_county_tract.drop(columns={'Unnamed: 0', 'COUNTYFP', 'County', 'Total Population 2021'})\n",
    "ca_county_tract"
   ]
  },
  {
   "cell_type": "markdown",
   "metadata": {},
   "source": [
    "### Gini Index Metric"
   ]
  },
  {
   "cell_type": "code",
   "execution_count": null,
   "metadata": {
    "execution": {
     "iopub.execute_input": "2024-06-11T14:42:00.369261Z",
     "iopub.status.busy": "2024-06-11T14:42:00.368819Z",
     "iopub.status.idle": "2024-06-11T14:42:00.378651Z",
     "shell.execute_reply": "2024-06-11T14:42:00.378142Z",
     "shell.execute_reply.started": "2024-06-11T14:42:00.369236Z"
    }
   },
   "outputs": [],
   "source": [
    "gini_index_data"
   ]
  },
  {
   "cell_type": "code",
   "execution_count": null,
   "metadata": {
    "execution": {
     "iopub.execute_input": "2024-06-11T14:42:00.379903Z",
     "iopub.status.busy": "2024-06-11T14:42:00.379625Z",
     "iopub.status.idle": "2024-06-11T14:42:00.391893Z",
     "shell.execute_reply": "2024-06-11T14:42:00.391453Z",
     "shell.execute_reply.started": "2024-06-11T14:42:00.379882Z"
    }
   },
   "outputs": [],
   "source": [
    "gini_index_data_cleaned = gini_index_data.drop(columns={'Unnamed: 4', 'B19083_001M', 'NAME'})\n",
    "gini_index_data_cleaned = gini_index_data_cleaned.rename(columns={'B19083_001E':'est_gini_index'})\n",
    "gini_index_data_cleaned = gini_index_data_cleaned[1:]\n",
    "gini_index_data_cleaned['GEO_ID'] = gini_index_data_cleaned['GEO_ID'].str[10:]\n",
    "\n",
    "gini_index_data_cleaned"
   ]
  },
  {
   "cell_type": "code",
   "execution_count": null,
   "metadata": {
    "execution": {
     "iopub.execute_input": "2024-06-11T14:42:00.393022Z",
     "iopub.status.busy": "2024-06-11T14:42:00.392776Z",
     "iopub.status.idle": "2024-06-11T14:42:00.446013Z",
     "shell.execute_reply": "2024-06-11T14:42:00.445620Z",
     "shell.execute_reply.started": "2024-06-11T14:42:00.393006Z"
    }
   },
   "outputs": [],
   "source": [
    "# Convert the 'GEO_ID' column in ca_county_tract DataFrame to string data type\n",
    "ca_county_tract['GEO_ID'] = ca_county_tract['GEO_ID'].astype(str)\n",
    "\n",
    "gini_merged_data = pd.merge(gini_index_data_cleaned, ca_county_tract, on='GEO_ID', how='right')\n",
    "gini_merged_data"
   ]
  },
  {
   "cell_type": "code",
   "execution_count": 9,
   "metadata": {
    "execution": {
     "iopub.execute_input": "2024-06-11T14:42:00.456253Z",
     "iopub.status.busy": "2024-06-11T14:42:00.456083Z",
     "iopub.status.idle": "2024-06-11T14:42:00.466474Z",
     "shell.execute_reply": "2024-06-11T14:42:00.465989Z",
     "shell.execute_reply.started": "2024-06-11T14:42:00.456240Z"
    }
   },
   "outputs": [],
   "source": [
    "gini_merged_data.to_csv('society_economy_gini_metric.csv')"
   ]
  },
  {
   "cell_type": "markdown",
   "metadata": {},
   "source": [
    "### Median Income Metric"
   ]
  },
  {
   "cell_type": "code",
   "execution_count": null,
   "metadata": {
    "execution": {
     "iopub.execute_input": "2024-06-11T14:42:08.309577Z",
     "iopub.status.busy": "2024-06-11T14:42:08.308833Z",
     "iopub.status.idle": "2024-06-11T14:42:08.338261Z",
     "shell.execute_reply": "2024-06-11T14:42:08.337508Z",
     "shell.execute_reply.started": "2024-06-11T14:42:08.309542Z"
    }
   },
   "outputs": [],
   "source": [
    "columns_to_keep = ['GEO_ID', 'S1901_C01_012E']\n",
    "\n",
    "# Drop all columns except the specified ones\n",
    "median_income_data_cleaned = median_income_data.drop(columns=[col for col in median_income_data.columns if col not in columns_to_keep])\n",
    "\n",
    "median_income_data_cleaned = median_income_data_cleaned.rename(columns={'S1901_C01_012E':'est_median_income_dollars'})\n",
    "median_income_data_cleaned = median_income_data_cleaned[1:]\n",
    "median_income_data_cleaned['GEO_ID'] = median_income_data_cleaned['GEO_ID'].str[10:]\n",
    "median_income_data_cleaned"
   ]
  },
  {
   "cell_type": "code",
   "execution_count": null,
   "metadata": {
    "execution": {
     "iopub.execute_input": "2024-06-11T14:42:09.511359Z",
     "iopub.status.busy": "2024-06-11T14:42:09.510621Z",
     "iopub.status.idle": "2024-06-11T14:42:09.542131Z",
     "shell.execute_reply": "2024-06-11T14:42:09.541539Z",
     "shell.execute_reply.started": "2024-06-11T14:42:09.511321Z"
    }
   },
   "outputs": [],
   "source": [
    "# Convert the 'GEO_ID' column in ca_county_tract DataFrame to string data type\n",
    "ca_county_tract['GEO_ID'] = ca_county_tract['GEO_ID'].astype(str)\n",
    "\n",
    "# Now, you can proceed with merging\n",
    "median_merged_data = pd.merge(median_income_data_cleaned, ca_county_tract, on='GEO_ID', how='right')\n",
    "\n",
    "# View the merged DataFrame\n",
    "median_merged_data"
   ]
  },
  {
   "cell_type": "code",
   "execution_count": 12,
   "metadata": {
    "execution": {
     "iopub.execute_input": "2024-06-11T14:42:11.952116Z",
     "iopub.status.busy": "2024-06-11T14:42:11.951365Z",
     "iopub.status.idle": "2024-06-11T14:42:11.982147Z",
     "shell.execute_reply": "2024-06-11T14:42:11.981497Z",
     "shell.execute_reply.started": "2024-06-11T14:42:11.952077Z"
    }
   },
   "outputs": [],
   "source": [
    "median_merged_data.to_csv('society_economy_median_income_metric.csv')"
   ]
  },
  {
   "cell_type": "markdown",
   "metadata": {},
   "source": [
    "### Function call for both metrics"
   ]
  },
  {
   "cell_type": "code",
   "execution_count": 13,
   "metadata": {
    "execution": {
     "iopub.execute_input": "2024-06-11T14:43:01.157080Z",
     "iopub.status.busy": "2024-06-11T14:43:01.156127Z",
     "iopub.status.idle": "2024-06-11T14:43:01.169712Z",
     "shell.execute_reply": "2024-06-11T14:43:01.168646Z",
     "shell.execute_reply.started": "2024-06-11T14:43:01.157012Z"
    }
   },
   "outputs": [],
   "source": [
    "@append_metadata\n",
    "def economy_metric(input_csv, export=False, varname=''):\n",
    "    '''\n",
    "    Calculates the Median income and Gini index data metrics and uploads to AWS.\n",
    "    Data is sourced from United States Census Bureau: American Community Survey (ACS).\n",
    "    Data codes: S1901 and B19083.\n",
    "\n",
    "    Methods\n",
    "    -------\n",
    "    Rows without data were omitted, relevant columns were isolated and renamed.\n",
    "    California census tract data was merged with the dataset based on tract.\n",
    "    \n",
    "    Parameters\n",
    "    ----------\n",
    "    input_csv: string\n",
    "        csv economic data \n",
    "    export: True/False boolean\n",
    "        False = will not upload resulting df containing CAL CRAI economy metrics to AWS\n",
    "        True = will upload resulting df containing CAL CRAI economy metrics to AWS\n",
    "\n",
    "    Script\n",
    "    ------\n",
    "    society_economic_metrics.ipynb\n",
    "\n",
    "    Note:\n",
    "    This function assumes users have configured the AWS CLI such that their access key / secret key pair are stored in ~/.aws/credentials.\n",
    "    See https://docs.aws.amazon.com/cli/latest/userguide/getting-started-install.html for guidance.\n",
    "    '''\n",
    "    print('Data transformation: non-data rows were removed.')\n",
    "    print('Data transformation: data columns were renamed and isolated for metric relevancy.')\n",
    "    print('Data transformation: data was merged with CA census tract data.')\n",
    "\n",
    "    bucket_name = 'ca-climate-index'\n",
    "    directory = '3_fair_data/index_data'\n",
    "    export_filename = [input_csv]\n",
    "    \n",
    "    if export == True:\n",
    "        upload_csv_aws(export_filename, bucket_name, directory)\n",
    "\n",
    "    if export == False:\n",
    "        print(f'{export_filename} uploaded to AWS.')\n",
    "\n",
    "    if os.path.exists(input_csv):\n",
    "        os.remove(input_csv)"
   ]
  },
  {
   "cell_type": "code",
   "execution_count": 32,
   "metadata": {},
   "outputs": [],
   "source": [
    "input_csv = ['society_economy_gini_metric.csv',\n",
    "            'society_economy_median_income_metric.csv'\n",
    "            ]\n",
    "\n",
    "varnames = [\n",
    "    'society_acs_gini',\n",
    "    'society_acs_income'\n",
    "]\n",
    "\n",
    "for csv, var in zip(input_csv, varnames):\n",
    "    economy_metric(csv, export=True, varname=var)"
   ]
  }
 ],
 "metadata": {
  "kernelspec": {
   "display_name": "Python 3 (ipykernel)",
   "language": "python",
   "name": "python3"
  },
  "language_info": {
   "codemirror_mode": {
    "name": "ipython",
    "version": 3
   },
   "file_extension": ".py",
   "mimetype": "text/x-python",
   "name": "python",
   "nbconvert_exporter": "python",
   "pygments_lexer": "ipython3",
   "version": "3.9.18"
  }
 },
 "nbformat": 4,
 "nbformat_minor": 4
}
