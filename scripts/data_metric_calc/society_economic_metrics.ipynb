{
 "cells": [
  {
   "cell_type": "markdown",
   "metadata": {},
   "source": [
    "### Cal-CRAI Metric Calculation for: Economic Health\n",
    "* Gini Index\n",
    "* Median Income"
   ]
  },
  {
   "cell_type": "code",
   "execution_count": 2,
   "metadata": {
    "execution": {
     "iopub.execute_input": "2024-06-06T20:03:43.343131Z",
     "iopub.status.busy": "2024-06-06T20:03:43.342445Z",
     "iopub.status.idle": "2024-06-06T20:03:44.104314Z",
     "shell.execute_reply": "2024-06-06T20:03:44.103718Z",
     "shell.execute_reply.started": "2024-06-06T20:03:43.343096Z"
    }
   },
   "outputs": [],
   "source": [
    "import pandas as pd\n",
    "import os\n",
    "import sys\n",
    "import numpy as np\n",
    "\n",
    "# suppress pandas purely educational warnings\n",
    "from warnings import simplefilter\n",
    "simplefilter(action=\"ignore\", category=pd.errors.PerformanceWarning)\n",
    "\n",
    "sys.path.append(os.path.expanduser('../../'))\n",
    "from scripts.utils.file_helpers import pull_csv_from_directory, upload_csv_aws, filter_counties\n",
    "from scripts.utils.write_metadata import append_metadata"
   ]
  },
  {
   "cell_type": "code",
   "execution_count": 3,
   "metadata": {
    "execution": {
     "iopub.execute_input": "2024-06-06T20:03:44.106142Z",
     "iopub.status.busy": "2024-06-06T20:03:44.105461Z",
     "iopub.status.idle": "2024-06-06T20:03:44.109154Z",
     "shell.execute_reply": "2024-06-06T20:03:44.108711Z",
     "shell.execute_reply.started": "2024-06-06T20:03:44.106118Z"
    }
   },
   "outputs": [],
   "source": [
    "# Define a function to display data for a specific county\n",
    "def display_county_data(df, county_name):\n",
    "    county_data = df[df['County'] == county_name]\n",
    "    if county_data.empty:\n",
    "        print(f\"No data found for {county_name}\")\n",
    "    else:\n",
    "        print(f\"Data for {county_name}:\")\n",
    "        display(county_data)\n",
    "        "
   ]
  },
  {
   "cell_type": "code",
   "execution_count": 4,
   "metadata": {
    "execution": {
     "iopub.execute_input": "2024-06-06T20:03:44.110010Z",
     "iopub.status.busy": "2024-06-06T20:03:44.109832Z",
     "iopub.status.idle": "2024-06-06T20:03:48.660933Z",
     "shell.execute_reply": "2024-06-06T20:03:48.660364Z",
     "shell.execute_reply.started": "2024-06-06T20:03:44.109997Z"
    }
   },
   "outputs": [
    {
     "name": "stdout",
     "output_type": "stream",
     "text": [
      "Saved DataFrame as 'employment_data_hachman_subset.csv'\n",
      "Saved DataFrame as 'ACSDT5Y2022.B19083-Column-Metadata.csv'\n",
      "Saved DataFrame as 'ACSDT5Y2022.B19083-Data.csv'\n",
      "Saved DataFrame as 'ACSST5Y2022.S1901-Column-Metadata.csv'\n"
     ]
    },
    {
     "name": "stderr",
     "output_type": "stream",
     "text": [
      "/Users/victoriaford/Desktop/carb-climate-index/scripts/data_metric_calc/../../scripts/utils/file_helpers.py:100: DtypeWarning: Columns (2,3,34,35,66,67,98,99) have mixed types. Specify dtype option on import or set low_memory=False.\n",
      "  df = pd.read_csv(csv_data)\n"
     ]
    },
    {
     "name": "stdout",
     "output_type": "stream",
     "text": [
      "Saved DataFrame as 'ACSST5Y2022.S1901-Data.csv'\n"
     ]
    },
    {
     "name": "stderr",
     "output_type": "stream",
     "text": [
      "/Users/victoriaford/Desktop/carb-climate-index/scripts/data_metric_calc/../../scripts/utils/file_helpers.py:100: DtypeWarning: Columns (1) have mixed types. Specify dtype option on import or set low_memory=False.\n",
      "  df = pd.read_csv(csv_data)\n"
     ]
    },
    {
     "name": "stdout",
     "output_type": "stream",
     "text": [
      "Saved DataFrame as 'allhlcn22.csv'\n",
      "Saved DataFrame as 'data_layout.csv'\n"
     ]
    }
   ],
   "source": [
    "# pull csv from aws\n",
    "bucket_name = 'ca-climate-index'\n",
    "aws_dir = '2a_subset/society_economy/economic_health/bureau_labor_statistics/employment_hachman_index/'\n",
    "\n",
    "pull_csv_from_directory(bucket_name, aws_dir, search_zipped=False)\n",
    "\n",
    "aws_dir = '1_pull_data/society_economy/economic_health/'\n",
    "pull_csv_from_directory(bucket_name, aws_dir, search_zipped=False)"
   ]
  },
  {
   "cell_type": "code",
   "execution_count": 5,
   "metadata": {
    "execution": {
     "iopub.execute_input": "2024-06-06T20:03:48.662653Z",
     "iopub.status.busy": "2024-06-06T20:03:48.662434Z",
     "iopub.status.idle": "2024-06-06T20:03:48.797537Z",
     "shell.execute_reply": "2024-06-06T20:03:48.797192Z",
     "shell.execute_reply.started": "2024-06-06T20:03:48.662639Z"
    }
   },
   "outputs": [
    {
     "name": "stderr",
     "output_type": "stream",
     "text": [
      "/var/folders/6g/b2z199kx72x11z3xdvsz3ytr0000gn/T/ipykernel_43325/2131310057.py:3: DtypeWarning: Columns (2,3,34,35,66,67,98,99) have mixed types. Specify dtype option on import or set low_memory=False.\n",
      "  median_income_data = pd.read_csv('ACSST5Y2022.S1901-Data.csv')\n"
     ]
    }
   ],
   "source": [
    "hachman_data = pd.read_csv('employment_data_hachman_subset.csv')\n",
    "gini_index_data = pd.read_csv('ACSDT5Y2022.B19083-Data.csv')\n",
    "median_income_data = pd.read_csv('ACSST5Y2022.S1901-Data.csv')"
   ]
  },
  {
   "cell_type": "code",
   "execution_count": 6,
   "metadata": {
    "execution": {
     "iopub.execute_input": "2024-06-06T20:03:50.998202Z",
     "iopub.status.busy": "2024-06-06T20:03:50.997453Z",
     "iopub.status.idle": "2024-06-06T20:03:52.115688Z",
     "shell.execute_reply": "2024-06-06T20:03:52.114997Z",
     "shell.execute_reply.started": "2024-06-06T20:03:50.998166Z"
    }
   },
   "outputs": [
    {
     "data": {
      "text/html": [
       "<div>\n",
       "<style scoped>\n",
       "    .dataframe tbody tr th:only-of-type {\n",
       "        vertical-align: middle;\n",
       "    }\n",
       "\n",
       "    .dataframe tbody tr th {\n",
       "        vertical-align: top;\n",
       "    }\n",
       "\n",
       "    .dataframe thead th {\n",
       "        text-align: right;\n",
       "    }\n",
       "</style>\n",
       "<table border=\"1\" class=\"dataframe\">\n",
       "  <thead>\n",
       "    <tr style=\"text-align: right;\">\n",
       "      <th></th>\n",
       "      <th>GEO_ID</th>\n",
       "    </tr>\n",
       "  </thead>\n",
       "  <tbody>\n",
       "    <tr>\n",
       "      <th>0</th>\n",
       "      <td>6085504321</td>\n",
       "    </tr>\n",
       "    <tr>\n",
       "      <th>1</th>\n",
       "      <td>6085504410</td>\n",
       "    </tr>\n",
       "    <tr>\n",
       "      <th>2</th>\n",
       "      <td>6085507003</td>\n",
       "    </tr>\n",
       "    <tr>\n",
       "      <th>3</th>\n",
       "      <td>6085507004</td>\n",
       "    </tr>\n",
       "    <tr>\n",
       "      <th>4</th>\n",
       "      <td>6085502204</td>\n",
       "    </tr>\n",
       "    <tr>\n",
       "      <th>...</th>\n",
       "      <td>...</td>\n",
       "    </tr>\n",
       "    <tr>\n",
       "      <th>9124</th>\n",
       "      <td>6059001303</td>\n",
       "    </tr>\n",
       "    <tr>\n",
       "      <th>9125</th>\n",
       "      <td>6059001304</td>\n",
       "    </tr>\n",
       "    <tr>\n",
       "      <th>9126</th>\n",
       "      <td>6059001401</td>\n",
       "    </tr>\n",
       "    <tr>\n",
       "      <th>9127</th>\n",
       "      <td>6013367200</td>\n",
       "    </tr>\n",
       "    <tr>\n",
       "      <th>9128</th>\n",
       "      <td>6037578100</td>\n",
       "    </tr>\n",
       "  </tbody>\n",
       "</table>\n",
       "<p>9129 rows × 1 columns</p>\n",
       "</div>"
      ],
      "text/plain": [
       "          GEO_ID\n",
       "0     6085504321\n",
       "1     6085504410\n",
       "2     6085507003\n",
       "3     6085507004\n",
       "4     6085502204\n",
       "...          ...\n",
       "9124  6059001303\n",
       "9125  6059001304\n",
       "9126  6059001401\n",
       "9127  6013367200\n",
       "9128  6037578100\n",
       "\n",
       "[9129 rows x 1 columns]"
      ]
     },
     "execution_count": 6,
     "metadata": {},
     "output_type": "execute_result"
    }
   ],
   "source": [
    "county_tract = \"s3://ca-climate-index/0_map_data/ca_tract_county_population_2022.csv\"\n",
    "ca_county_tract = pd.read_csv(county_tract)\n",
    "ca_county_tract = ca_county_tract.rename(columns={'Census Tract': 'GEO_ID'})\n",
    "ca_county_tract = ca_county_tract.drop(columns={'Unnamed: 0', 'COUNTYFP', 'County', 'Total Population 2021'})\n",
    "ca_county_tract"
   ]
  },
  {
   "cell_type": "markdown",
   "metadata": {},
   "source": [
    "### Gini Index Metric"
   ]
  },
  {
   "cell_type": "code",
   "execution_count": 7,
   "metadata": {
    "execution": {
     "iopub.execute_input": "2024-06-06T20:03:52.297280Z",
     "iopub.status.busy": "2024-06-06T20:03:52.296466Z",
     "iopub.status.idle": "2024-06-06T20:03:52.321745Z",
     "shell.execute_reply": "2024-06-06T20:03:52.321001Z",
     "shell.execute_reply.started": "2024-06-06T20:03:52.297247Z"
    }
   },
   "outputs": [
    {
     "data": {
      "text/html": [
       "<div>\n",
       "<style scoped>\n",
       "    .dataframe tbody tr th:only-of-type {\n",
       "        vertical-align: middle;\n",
       "    }\n",
       "\n",
       "    .dataframe tbody tr th {\n",
       "        vertical-align: top;\n",
       "    }\n",
       "\n",
       "    .dataframe thead th {\n",
       "        text-align: right;\n",
       "    }\n",
       "</style>\n",
       "<table border=\"1\" class=\"dataframe\">\n",
       "  <thead>\n",
       "    <tr style=\"text-align: right;\">\n",
       "      <th></th>\n",
       "      <th>GEO_ID</th>\n",
       "      <th>est_gini_index</th>\n",
       "    </tr>\n",
       "  </thead>\n",
       "  <tbody>\n",
       "    <tr>\n",
       "      <th>1</th>\n",
       "      <td>6001400100</td>\n",
       "      <td>0.4228</td>\n",
       "    </tr>\n",
       "    <tr>\n",
       "      <th>2</th>\n",
       "      <td>6001400200</td>\n",
       "      <td>0.4084</td>\n",
       "    </tr>\n",
       "    <tr>\n",
       "      <th>3</th>\n",
       "      <td>6001400300</td>\n",
       "      <td>0.4615</td>\n",
       "    </tr>\n",
       "    <tr>\n",
       "      <th>4</th>\n",
       "      <td>6001400400</td>\n",
       "      <td>0.5063</td>\n",
       "    </tr>\n",
       "    <tr>\n",
       "      <th>5</th>\n",
       "      <td>6001400500</td>\n",
       "      <td>0.4571</td>\n",
       "    </tr>\n",
       "    <tr>\n",
       "      <th>...</th>\n",
       "      <td>...</td>\n",
       "      <td>...</td>\n",
       "    </tr>\n",
       "    <tr>\n",
       "      <th>9125</th>\n",
       "      <td>6115040902</td>\n",
       "      <td>0.4252</td>\n",
       "    </tr>\n",
       "    <tr>\n",
       "      <th>9126</th>\n",
       "      <td>6115041001</td>\n",
       "      <td>0.5024</td>\n",
       "    </tr>\n",
       "    <tr>\n",
       "      <th>9127</th>\n",
       "      <td>6115041002</td>\n",
       "      <td>0.4875</td>\n",
       "    </tr>\n",
       "    <tr>\n",
       "      <th>9128</th>\n",
       "      <td>6115041101</td>\n",
       "      <td>0.4072</td>\n",
       "    </tr>\n",
       "    <tr>\n",
       "      <th>9129</th>\n",
       "      <td>6115041102</td>\n",
       "      <td>0.3706</td>\n",
       "    </tr>\n",
       "  </tbody>\n",
       "</table>\n",
       "<p>9129 rows × 2 columns</p>\n",
       "</div>"
      ],
      "text/plain": [
       "          GEO_ID est_gini_index\n",
       "1     6001400100         0.4228\n",
       "2     6001400200         0.4084\n",
       "3     6001400300         0.4615\n",
       "4     6001400400         0.5063\n",
       "5     6001400500         0.4571\n",
       "...          ...            ...\n",
       "9125  6115040902         0.4252\n",
       "9126  6115041001         0.5024\n",
       "9127  6115041002         0.4875\n",
       "9128  6115041101         0.4072\n",
       "9129  6115041102         0.3706\n",
       "\n",
       "[9129 rows x 2 columns]"
      ]
     },
     "execution_count": 7,
     "metadata": {},
     "output_type": "execute_result"
    }
   ],
   "source": [
    "gini_index_data_cleaned = gini_index_data.drop(columns={'Unnamed: 4', 'B19083_001M', 'NAME'})\n",
    "gini_index_data_cleaned = gini_index_data_cleaned.rename(columns={'B19083_001E':'est_gini_index'})\n",
    "gini_index_data_cleaned = gini_index_data_cleaned[1:]\n",
    "gini_index_data_cleaned['GEO_ID'] = gini_index_data_cleaned['GEO_ID'].str[10:]\n",
    "\n",
    "gini_index_data_cleaned"
   ]
  },
  {
   "cell_type": "code",
   "execution_count": 8,
   "metadata": {
    "execution": {
     "iopub.execute_input": "2024-06-06T20:03:53.069297Z",
     "iopub.status.busy": "2024-06-06T20:03:53.068559Z",
     "iopub.status.idle": "2024-06-06T20:03:53.098558Z",
     "shell.execute_reply": "2024-06-06T20:03:53.098145Z",
     "shell.execute_reply.started": "2024-06-06T20:03:53.069261Z"
    }
   },
   "outputs": [
    {
     "data": {
      "text/html": [
       "<div>\n",
       "<style scoped>\n",
       "    .dataframe tbody tr th:only-of-type {\n",
       "        vertical-align: middle;\n",
       "    }\n",
       "\n",
       "    .dataframe tbody tr th {\n",
       "        vertical-align: top;\n",
       "    }\n",
       "\n",
       "    .dataframe thead th {\n",
       "        text-align: right;\n",
       "    }\n",
       "</style>\n",
       "<table border=\"1\" class=\"dataframe\">\n",
       "  <thead>\n",
       "    <tr style=\"text-align: right;\">\n",
       "      <th></th>\n",
       "      <th>GEO_ID</th>\n",
       "      <th>est_gini_index</th>\n",
       "    </tr>\n",
       "  </thead>\n",
       "  <tbody>\n",
       "    <tr>\n",
       "      <th>0</th>\n",
       "      <td>6085504321</td>\n",
       "      <td>0.4197</td>\n",
       "    </tr>\n",
       "    <tr>\n",
       "      <th>1</th>\n",
       "      <td>6085504410</td>\n",
       "      <td>0.4309</td>\n",
       "    </tr>\n",
       "    <tr>\n",
       "      <th>2</th>\n",
       "      <td>6085507003</td>\n",
       "      <td>0.5357</td>\n",
       "    </tr>\n",
       "    <tr>\n",
       "      <th>3</th>\n",
       "      <td>6085507004</td>\n",
       "      <td>0.4793</td>\n",
       "    </tr>\n",
       "    <tr>\n",
       "      <th>4</th>\n",
       "      <td>6085502204</td>\n",
       "      <td>0.4010</td>\n",
       "    </tr>\n",
       "    <tr>\n",
       "      <th>...</th>\n",
       "      <td>...</td>\n",
       "      <td>...</td>\n",
       "    </tr>\n",
       "    <tr>\n",
       "      <th>9124</th>\n",
       "      <td>6059001303</td>\n",
       "      <td>0.3590</td>\n",
       "    </tr>\n",
       "    <tr>\n",
       "      <th>9125</th>\n",
       "      <td>6059001304</td>\n",
       "      <td>0.3582</td>\n",
       "    </tr>\n",
       "    <tr>\n",
       "      <th>9126</th>\n",
       "      <td>6059001401</td>\n",
       "      <td>0.4594</td>\n",
       "    </tr>\n",
       "    <tr>\n",
       "      <th>9127</th>\n",
       "      <td>6013367200</td>\n",
       "      <td>0.4130</td>\n",
       "    </tr>\n",
       "    <tr>\n",
       "      <th>9128</th>\n",
       "      <td>6037578100</td>\n",
       "      <td>-</td>\n",
       "    </tr>\n",
       "  </tbody>\n",
       "</table>\n",
       "<p>9129 rows × 2 columns</p>\n",
       "</div>"
      ],
      "text/plain": [
       "          GEO_ID est_gini_index\n",
       "0     6085504321         0.4197\n",
       "1     6085504410         0.4309\n",
       "2     6085507003         0.5357\n",
       "3     6085507004         0.4793\n",
       "4     6085502204         0.4010\n",
       "...          ...            ...\n",
       "9124  6059001303         0.3590\n",
       "9125  6059001304         0.3582\n",
       "9126  6059001401         0.4594\n",
       "9127  6013367200         0.4130\n",
       "9128  6037578100              -\n",
       "\n",
       "[9129 rows x 2 columns]"
      ]
     },
     "execution_count": 8,
     "metadata": {},
     "output_type": "execute_result"
    }
   ],
   "source": [
    "# Convert the 'GEO_ID' column in ca_county_tract DataFrame to string data type\n",
    "ca_county_tract['GEO_ID'] = ca_county_tract['GEO_ID'].astype(str)\n",
    "\n",
    "# Now, you can proceed with merging\n",
    "gini_merged_data = pd.merge(gini_index_data_cleaned, ca_county_tract, on='GEO_ID', how='right')\n",
    "\n",
    "# View the merged DataFrame\n",
    "gini_merged_data"
   ]
  },
  {
   "cell_type": "markdown",
   "metadata": {},
   "source": [
    "### Median Income Metric"
   ]
  },
  {
   "cell_type": "code",
   "execution_count": 9,
   "metadata": {
    "execution": {
     "iopub.execute_input": "2024-06-06T20:03:54.146382Z",
     "iopub.status.busy": "2024-06-06T20:03:54.145552Z",
     "iopub.status.idle": "2024-06-06T20:03:54.175206Z",
     "shell.execute_reply": "2024-06-06T20:03:54.174504Z",
     "shell.execute_reply.started": "2024-06-06T20:03:54.146339Z"
    }
   },
   "outputs": [
    {
     "data": {
      "text/html": [
       "<div>\n",
       "<style scoped>\n",
       "    .dataframe tbody tr th:only-of-type {\n",
       "        vertical-align: middle;\n",
       "    }\n",
       "\n",
       "    .dataframe tbody tr th {\n",
       "        vertical-align: top;\n",
       "    }\n",
       "\n",
       "    .dataframe thead th {\n",
       "        text-align: right;\n",
       "    }\n",
       "</style>\n",
       "<table border=\"1\" class=\"dataframe\">\n",
       "  <thead>\n",
       "    <tr style=\"text-align: right;\">\n",
       "      <th></th>\n",
       "      <th>GEO_ID</th>\n",
       "      <th>est_median_income_dollars</th>\n",
       "    </tr>\n",
       "  </thead>\n",
       "  <tbody>\n",
       "    <tr>\n",
       "      <th>1</th>\n",
       "      <td>6001400100</td>\n",
       "      <td>234236</td>\n",
       "    </tr>\n",
       "    <tr>\n",
       "      <th>2</th>\n",
       "      <td>6001400200</td>\n",
       "      <td>225500</td>\n",
       "    </tr>\n",
       "    <tr>\n",
       "      <th>3</th>\n",
       "      <td>6001400300</td>\n",
       "      <td>164000</td>\n",
       "    </tr>\n",
       "    <tr>\n",
       "      <th>4</th>\n",
       "      <td>6001400400</td>\n",
       "      <td>158836</td>\n",
       "    </tr>\n",
       "    <tr>\n",
       "      <th>5</th>\n",
       "      <td>6001400500</td>\n",
       "      <td>95078</td>\n",
       "    </tr>\n",
       "    <tr>\n",
       "      <th>...</th>\n",
       "      <td>...</td>\n",
       "      <td>...</td>\n",
       "    </tr>\n",
       "    <tr>\n",
       "      <th>9125</th>\n",
       "      <td>6115040902</td>\n",
       "      <td>54265</td>\n",
       "    </tr>\n",
       "    <tr>\n",
       "      <th>9126</th>\n",
       "      <td>6115041001</td>\n",
       "      <td>67321</td>\n",
       "    </tr>\n",
       "    <tr>\n",
       "      <th>9127</th>\n",
       "      <td>6115041002</td>\n",
       "      <td>102534</td>\n",
       "    </tr>\n",
       "    <tr>\n",
       "      <th>9128</th>\n",
       "      <td>6115041101</td>\n",
       "      <td>37018</td>\n",
       "    </tr>\n",
       "    <tr>\n",
       "      <th>9129</th>\n",
       "      <td>6115041102</td>\n",
       "      <td>61339</td>\n",
       "    </tr>\n",
       "  </tbody>\n",
       "</table>\n",
       "<p>9129 rows × 2 columns</p>\n",
       "</div>"
      ],
      "text/plain": [
       "          GEO_ID est_median_income_dollars\n",
       "1     6001400100                    234236\n",
       "2     6001400200                    225500\n",
       "3     6001400300                    164000\n",
       "4     6001400400                    158836\n",
       "5     6001400500                     95078\n",
       "...          ...                       ...\n",
       "9125  6115040902                     54265\n",
       "9126  6115041001                     67321\n",
       "9127  6115041002                    102534\n",
       "9128  6115041101                     37018\n",
       "9129  6115041102                     61339\n",
       "\n",
       "[9129 rows x 2 columns]"
      ]
     },
     "execution_count": 9,
     "metadata": {},
     "output_type": "execute_result"
    }
   ],
   "source": [
    "columns_to_keep = ['GEO_ID', 'S1901_C01_012E']\n",
    "\n",
    "# Drop all columns except the specified ones\n",
    "median_income_data_cleaned = median_income_data.drop(columns=[col for col in median_income_data.columns if col not in columns_to_keep])\n",
    "\n",
    "median_income_data_cleaned = median_income_data_cleaned.rename(columns={'S1901_C01_012E':'est_median_income_dollars'})\n",
    "median_income_data_cleaned = median_income_data_cleaned[1:]\n",
    "median_income_data_cleaned['GEO_ID'] = median_income_data_cleaned['GEO_ID'].str[10:]\n",
    "median_income_data_cleaned"
   ]
  },
  {
   "cell_type": "code",
   "execution_count": 10,
   "metadata": {
    "execution": {
     "iopub.execute_input": "2024-06-06T20:03:55.036027Z",
     "iopub.status.busy": "2024-06-06T20:03:55.034919Z",
     "iopub.status.idle": "2024-06-06T20:03:55.065398Z",
     "shell.execute_reply": "2024-06-06T20:03:55.064870Z",
     "shell.execute_reply.started": "2024-06-06T20:03:55.035972Z"
    }
   },
   "outputs": [
    {
     "data": {
      "text/html": [
       "<div>\n",
       "<style scoped>\n",
       "    .dataframe tbody tr th:only-of-type {\n",
       "        vertical-align: middle;\n",
       "    }\n",
       "\n",
       "    .dataframe tbody tr th {\n",
       "        vertical-align: top;\n",
       "    }\n",
       "\n",
       "    .dataframe thead th {\n",
       "        text-align: right;\n",
       "    }\n",
       "</style>\n",
       "<table border=\"1\" class=\"dataframe\">\n",
       "  <thead>\n",
       "    <tr style=\"text-align: right;\">\n",
       "      <th></th>\n",
       "      <th>GEO_ID</th>\n",
       "      <th>est_median_income_dollars</th>\n",
       "    </tr>\n",
       "  </thead>\n",
       "  <tbody>\n",
       "    <tr>\n",
       "      <th>0</th>\n",
       "      <td>6085504321</td>\n",
       "      <td>172857</td>\n",
       "    </tr>\n",
       "    <tr>\n",
       "      <th>1</th>\n",
       "      <td>6085504410</td>\n",
       "      <td>143173</td>\n",
       "    </tr>\n",
       "    <tr>\n",
       "      <th>2</th>\n",
       "      <td>6085507003</td>\n",
       "      <td>240179</td>\n",
       "    </tr>\n",
       "    <tr>\n",
       "      <th>3</th>\n",
       "      <td>6085507004</td>\n",
       "      <td>198306</td>\n",
       "    </tr>\n",
       "    <tr>\n",
       "      <th>4</th>\n",
       "      <td>6085502204</td>\n",
       "      <td>67552</td>\n",
       "    </tr>\n",
       "    <tr>\n",
       "      <th>...</th>\n",
       "      <td>...</td>\n",
       "      <td>...</td>\n",
       "    </tr>\n",
       "    <tr>\n",
       "      <th>9124</th>\n",
       "      <td>6059001303</td>\n",
       "      <td>93363</td>\n",
       "    </tr>\n",
       "    <tr>\n",
       "      <th>9125</th>\n",
       "      <td>6059001304</td>\n",
       "      <td>68984</td>\n",
       "    </tr>\n",
       "    <tr>\n",
       "      <th>9126</th>\n",
       "      <td>6059001401</td>\n",
       "      <td>76319</td>\n",
       "    </tr>\n",
       "    <tr>\n",
       "      <th>9127</th>\n",
       "      <td>6013367200</td>\n",
       "      <td>90941</td>\n",
       "    </tr>\n",
       "    <tr>\n",
       "      <th>9128</th>\n",
       "      <td>6037578100</td>\n",
       "      <td>-</td>\n",
       "    </tr>\n",
       "  </tbody>\n",
       "</table>\n",
       "<p>9129 rows × 2 columns</p>\n",
       "</div>"
      ],
      "text/plain": [
       "          GEO_ID est_median_income_dollars\n",
       "0     6085504321                    172857\n",
       "1     6085504410                    143173\n",
       "2     6085507003                    240179\n",
       "3     6085507004                    198306\n",
       "4     6085502204                     67552\n",
       "...          ...                       ...\n",
       "9124  6059001303                     93363\n",
       "9125  6059001304                     68984\n",
       "9126  6059001401                     76319\n",
       "9127  6013367200                     90941\n",
       "9128  6037578100                         -\n",
       "\n",
       "[9129 rows x 2 columns]"
      ]
     },
     "execution_count": 10,
     "metadata": {},
     "output_type": "execute_result"
    }
   ],
   "source": [
    "# Convert the 'GEO_ID' column in ca_county_tract DataFrame to string data type\n",
    "ca_county_tract['GEO_ID'] = ca_county_tract['GEO_ID'].astype(str)\n",
    "\n",
    "# Now, you can proceed with merging\n",
    "median_merged_data = pd.merge(median_income_data_cleaned, ca_county_tract, on='GEO_ID', how='right')\n",
    "\n",
    "# View the merged DataFrame\n",
    "median_merged_data"
   ]
  }
 ],
 "metadata": {
  "kernelspec": {
   "display_name": "Python 3 (ipykernel)",
   "language": "python",
   "name": "python3"
  },
  "language_info": {
   "codemirror_mode": {
    "name": "ipython",
    "version": 3
   },
   "file_extension": ".py",
   "mimetype": "text/x-python",
   "name": "python",
   "nbconvert_exporter": "python",
   "pygments_lexer": "ipython3",
   "version": "3.9.18"
  }
 },
 "nbformat": 4,
 "nbformat_minor": 4
}
