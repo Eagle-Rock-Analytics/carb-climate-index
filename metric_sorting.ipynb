{
 "cells": [
  {
   "cell_type": "code",
   "execution_count": 1,
   "metadata": {},
   "outputs": [
    {
     "name": "stdout",
     "output_type": "stream",
     "text": [
      "Requirement already satisfied: pillow in c:\\users\\jesse\\miniconda3\\envs\\carb\\lib\\site-packages (10.0.0)\n",
      "Note: you may need to restart the kernel to use updated packages.\n"
     ]
    }
   ],
   "source": [
    "pip install pillow\n"
   ]
  },
  {
   "cell_type": "code",
   "execution_count": 9,
   "metadata": {},
   "outputs": [
    {
     "name": "stdout",
     "output_type": "stream",
     "text": [
      "Saved: the_metrics_mason\\group_1.png\n",
      "Saved: the_metrics_mason\\group_2.png\n",
      "Saved: the_metrics_mason\\group_3.png\n",
      "Saved: the_metrics_mason\\group_4.png\n",
      "Saved: the_metrics_mason\\group_5.png\n",
      "Saved: the_metrics_mason\\group_6.png\n",
      "Saved: the_metrics_mason\\group_7.png\n",
      "Saved: the_metrics_mason\\group_8.png\n",
      "Saved: the_metrics_mason\\group_9.png\n",
      "Saved: the_metrics_mason\\group_10.png\n"
     ]
    }
   ],
   "source": [
    "import os\n",
    "from PIL import Image, ImageChops\n",
    "\n",
    "# Constants\n",
    "INPUT_FOLDER = 'C:/Users/jesse/Downloads/mapped_metrics/Mapped Metrics'\n",
    "OUTPUT_FOLDER = 'the_metrics_mason'\n",
    "IMAGES_PER_GROUP = 12\n",
    "GRID_COLUMNS = 3\n",
    "IMAGE_SIZE = (300, 300)  # Resize images (width, height)\n",
    "PADDING = 10  # Space between images\n",
    "\n",
    "# Ensure the output folder exists\n",
    "os.makedirs(OUTPUT_FOLDER, exist_ok=True)\n",
    "\n",
    "# Get sorted list of PNG files\n",
    "image_files = sorted([f for f in os.listdir(INPUT_FOLDER) if f.endswith('.png')])\n",
    "\n",
    "# Function to auto-crop whitespace from an image\n",
    "def crop_whitespace(image):\n",
    "    # Convert image to grayscale\n",
    "    grayscale = image.convert(\"L\")\n",
    "    inverted = ImageChops.invert(grayscale)\n",
    "    bbox = inverted.getbbox()\n",
    "    if bbox:\n",
    "        return image.crop(bbox)\n",
    "    return image\n",
    "\n",
    "# Function to create a grid image from a list of image paths\n",
    "def create_grid(images, grid_columns, image_size, padding):\n",
    "    grid_rows = (len(images) + grid_columns - 1) // grid_columns\n",
    "    # Calculate grid dimensions, accounting for padding\n",
    "    grid_width = grid_columns * (image_size[0] + padding) - padding\n",
    "    grid_height = grid_rows * (image_size[1] + padding) - padding\n",
    "\n",
    "    # Create a blank canvas for the grid\n",
    "    grid_image = Image.new('RGB', (grid_width, grid_height), color=(255, 255, 255))\n",
    "\n",
    "    for index, image_path in enumerate(images):\n",
    "        img = Image.open(image_path)\n",
    "        img = crop_whitespace(img)\n",
    "        img = img.resize(image_size, Image.Resampling.LANCZOS)\n",
    "\n",
    "        # Calculate position with padding\n",
    "        x = (index % grid_columns) * (image_size[0] + padding)\n",
    "        y = (index // grid_columns) * (image_size[1] + padding)\n",
    "        grid_image.paste(img, (x, y))\n",
    "\n",
    "    return grid_image\n",
    "\n",
    "# Group images and create grid images\n",
    "for i in range(0, len(image_files), IMAGES_PER_GROUP):\n",
    "    group = image_files[i:i + IMAGES_PER_GROUP]\n",
    "    image_paths = [os.path.join(INPUT_FOLDER, img) for img in group]\n",
    "\n",
    "    # Create the grid image\n",
    "    grid_image = create_grid(image_paths, GRID_COLUMNS, IMAGE_SIZE, PADDING)\n",
    "\n",
    "    # Save the output\n",
    "    output_path = os.path.join(OUTPUT_FOLDER, f'group_{i // IMAGES_PER_GROUP + 1}.png')\n",
    "    grid_image.save(output_path)\n",
    "    print(f'Saved: {output_path}')"
   ]
  }
 ],
 "metadata": {
  "kernelspec": {
   "display_name": "carb",
   "language": "python",
   "name": "python3"
  },
  "language_info": {
   "codemirror_mode": {
    "name": "ipython",
    "version": 3
   },
   "file_extension": ".py",
   "mimetype": "text/x-python",
   "name": "python",
   "nbconvert_exporter": "python",
   "pygments_lexer": "ipython3",
   "version": "3.9.18"
  }
 },
 "nbformat": 4,
 "nbformat_minor": 2
}
