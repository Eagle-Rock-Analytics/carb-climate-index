{
 "cells": [
  {
   "cell_type": "code",
   "execution_count": null,
   "id": "8094226e-db01-4e74-b8c0-fc5d2663d09b",
   "metadata": {},
   "outputs": [],
   "source": [
    "import pandas as pd\n",
    "import os\n",
    "import sys\n",
    "sys.path.append(os.path.expanduser('~'))\n",
    "from scripts.utilities.write_metadata import (\n",
    "    make_metadata_files, \n",
    "    append_metadata\n",
    ")"
   ]
  },
  {
   "cell_type": "code",
   "execution_count": null,
   "id": "4298fee1-6ac6-4876-b362-7536bd7565a6",
   "metadata": {},
   "outputs": [],
   "source": [
    "# sample function to show how the decorator works\n",
    "@append_metadata\n",
    "def test_metadata_output(x, y, varname='test'):\n",
    "    '''\n",
    "    Example docstring for sample function.\n",
    "    '''\n",
    "    return x * y"
   ]
  },
  {
   "cell_type": "code",
   "execution_count": null,
   "id": "e1599cca-8873-4b61-9f31-e7c93a9707ee",
   "metadata": {},
   "outputs": [],
   "source": [
    "meta_csv = sys.path[-1]+\"/metadata/data-pipeline-11142023.csv\"\n",
    "# read in a small slice for this demo\n",
    "df = pd.read_csv(meta_csv)[:8]\n",
    "df = df.rename(\n",
    "    columns={\n",
    "        'Ideas for AWS naming' : 'Variable',\n",
    "        'Data' : 'Source Dataset Name',\n",
    "        'Date of First Pull ' : 'Date Pulled',\n",
    "        'Data Puller' : 'Data Pulled By',\n",
    "    }\n",
    ")\n",
    "df = df.drop(columns=['Pulled Format','Notes'])\n",
    "df"
   ]
  },
  {
   "cell_type": "code",
   "execution_count": null,
   "id": "f0b8f4d3-425d-44d8-aba9-a99600871201",
   "metadata": {},
   "outputs": [],
   "source": [
    "make_metadata_files(df)"
   ]
  },
  {
   "cell_type": "code",
   "execution_count": null,
   "id": "57b3b0e9-9176-4e49-bae8-2f9953e23be2",
   "metadata": {},
   "outputs": [],
   "source": [
    "# Call the decorated function\n",
    "# and append metadata to the generated files\n",
    "varlist = list(df['Variable'].values)\n",
    "for var in varlist:       \n",
    "    result = test_metadata_output(10, 20, varname=var)"
   ]
  }
 ],
 "metadata": {
  "kernelspec": {
   "display_name": "Python 3 (ipykernel)",
   "language": "python",
   "name": "python3"
  },
  "language_info": {
   "codemirror_mode": {
    "name": "ipython",
    "version": 3
   },
   "file_extension": ".py",
   "mimetype": "text/x-python",
   "name": "python",
   "nbconvert_exporter": "python",
   "pygments_lexer": "ipython3",
   "version": "3.9.18"
  }
 },
 "nbformat": 4,
 "nbformat_minor": 5
}
