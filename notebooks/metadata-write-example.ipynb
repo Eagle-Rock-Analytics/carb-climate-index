{
 "cells": [
  {
   "cell_type": "code",
   "execution_count": null,
   "id": "8094226e-db01-4e74-b8c0-fc5d2663d09b",
   "metadata": {},
   "outputs": [],
   "source": [
    "import os\n",
    "import sys\n",
    "sys.path.append(os.path.expanduser('~/scripts'))\n",
    "from utilities.write_metadata import append_metadata"
   ]
  },
  {
   "cell_type": "code",
   "execution_count": null,
   "id": "c7b44f77-5493-4fef-8af7-dee8e5a937a7",
   "metadata": {},
   "outputs": [],
   "source": [
    "@append_metadata\n",
    "def test_metadata_output(x, y, varname='test'):\n",
    "    '''\n",
    "    Example docstring for sample function.\n",
    "    '''\n",
    "    return x * y\n",
    "\n",
    "def make_test_file(varname):\n",
    "    # test file for this example\n",
    "    f = open(varname + \"_metadata.txt\", \"w\")\n",
    "    f.write(f\"Metadata for variable {varname}\")\n",
    "    f.write(\"\\n\")\n",
    "    f.write(\"\\n\")\n",
    "    f.write(\"Domain: CARB California Climate Index Test Platform\")\n",
    "    f.write(\"\\n\")\n",
    "    f.write(\"Indicator: To test the metadata file decorator\")\n",
    "    f.write(\"\\n\")\n",
    "    f.write(\"Metric: Test function\")\n",
    "    f.write(\"\\n\")\n",
    "    f.write(\"Original source: w3resource.com\")\n",
    "    f.write(\"\\n\")\n",
    "    f.write(\"Data pull date: November 13, 2023\")\n",
    "    f.write(\"\\n\")\n",
    "    f.write(\"Data pulled by: Beth McClenny\")\n",
    "    f.write(\"\\n\")\n",
    "    f.write(\"Organization: Eagle Rock Analytics, Inc.\")\n",
    "    f.write(\"\\n\")\n",
    "    f.write(\"Github: https://github.com/Eagle-Rock-Analytics/carb-climate-index\")\n",
    "    f.close()\n",
    "\n",
    "# make a test metadata file\n",
    "make_test_file('test')\n",
    "# Call the decorated function\n",
    "# and append metadata to file\n",
    "result = test_metadata_output(10, 20, varname='test')"
   ]
  },
  {
   "cell_type": "code",
   "execution_count": null,
   "id": "166531e8-50af-4d37-a470-e02cdd60809c",
   "metadata": {},
   "outputs": [],
   "source": []
  }
 ],
 "metadata": {
  "kernelspec": {
   "display_name": "Python 3 (ipykernel)",
   "language": "python",
   "name": "python3"
  },
  "language_info": {
   "codemirror_mode": {
    "name": "ipython",
    "version": 3
   },
   "file_extension": ".py",
   "mimetype": "text/x-python",
   "name": "python",
   "nbconvert_exporter": "python",
   "pygments_lexer": "ipython3",
   "version": "3.9.18"
  }
 },
 "nbformat": 4,
 "nbformat_minor": 5
}
