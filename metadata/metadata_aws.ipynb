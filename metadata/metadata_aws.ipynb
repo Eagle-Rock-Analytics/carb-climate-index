{
 "cells": [
  {
   "cell_type": "code",
   "execution_count": null,
   "metadata": {},
   "outputs": [],
   "source": [
    "import pandas as pd\n",
    "import os\n",
    "import sys\n",
    "import boto3\n",
    "s3_client = boto3.client('s3')\n",
    "sys.path.append(os.path.expanduser('../'))\n",
    "from scripts.utils.write_metadata import (\n",
    "    make_metadata_files, \n",
    "    append_metadata\n",
    ")"
   ]
  },
  {
   "cell_type": "code",
   "execution_count": null,
   "metadata": {
    "scrolled": true
   },
   "outputs": [],
   "source": [
    "# df = pd.read_csv('Full Data Pipeline Notes - 1_ Pull.csv')\n",
    "meta_csv = 'https://docs.google.com/spreadsheets/d/1GBvawVFW7C5G7bNjqJFNaPYf8ZQ9tPTZL1WLVgcQkhw/edit?usp=sharing'\n",
    "# read in first tab of the sheet\n",
    "df = pd.read_html(meta_csv)[0]\n",
    "# name columns\n",
    "df.columns = df.iloc[0]\n",
    "# drop empty columns\n",
    "df = df.loc[:, df.columns.notna()]\n",
    "# drop first two rows\n",
    "df = df.iloc[2:]\n",
    "# do some housekeeping\n",
    "df = df.rename(\n",
    "    columns={\n",
    "        'Ideas for AWS naming' : 'Variable',\n",
    "        'Data' : 'Source Dataset Name',\n",
    "        'Date of First Pull ' : 'Date Pulled',\n",
    "        'Data Puller' : 'Data Pulled By',\n",
    "    }\n",
    ")\n",
    "df = df.drop(columns=['Pulled Format','Notes','Link',df.columns[0]])\n",
    "df = df.fillna('N/A')\n",
    "pd.set_option('display.max_rows', 10)\n",
    "\n",
    "df"
   ]
  },
  {
   "cell_type": "code",
   "execution_count": null,
   "metadata": {},
   "outputs": [],
   "source": [
    "make_metadata_files(df)"
   ]
  },
  {
   "cell_type": "markdown",
   "metadata": {},
   "source": [
    "### Make a fake test function to test out the decorator"
   ]
  },
  {
   "cell_type": "code",
   "execution_count": null,
   "metadata": {},
   "outputs": [],
   "source": [
    "# sample function to show how the decorator works\n",
    "@append_metadata\n",
    "def test_metadata_output(x, y, varname=''):\n",
    "    '''\n",
    "    Example docstring for sample function.\n",
    "    '''\n",
    "    return x * y"
   ]
  },
  {
   "cell_type": "code",
   "execution_count": null,
   "metadata": {},
   "outputs": [],
   "source": [
    "# Call the decorated function\n",
    "# and append metadata to the generated files\n",
    "varname = 'climate_fema_nfip_claims' # can pick any valid varname from the spreadsheet\n",
    "result = test_metadata_output(10, 20, varname=varname)"
   ]
  },
  {
   "cell_type": "markdown",
   "metadata": {},
   "source": [
    "Download the file so we can check results"
   ]
  },
  {
   "cell_type": "code",
   "execution_count": null,
   "metadata": {},
   "outputs": [],
   "source": [
    "metadata_path = \"3_fair_data/metadata/1_pull/\"\n",
    "file_name = f\"{varname}_metadata.txt\"\n",
    "obj_name = f\"{metadata_path}{file_name}\"\n",
    "s3_client.download_file(\n",
    "    'ca-climate-index', obj_name, file_name)"
   ]
  }
 ],
 "metadata": {
  "kernelspec": {
   "display_name": "Python 3 (ipykernel)",
   "language": "python",
   "name": "python3"
  },
  "language_info": {
   "codemirror_mode": {
    "name": "ipython",
    "version": 3
   },
   "file_extension": ".py",
   "mimetype": "text/x-python",
   "name": "python",
   "nbconvert_exporter": "python",
   "pygments_lexer": "ipython3",
   "version": "3.9.18"
  }
 },
 "nbformat": 4,
 "nbformat_minor": 4
}
